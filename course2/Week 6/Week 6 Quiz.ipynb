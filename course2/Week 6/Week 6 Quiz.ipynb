{
  "cells": [
    {
      "cell_type": "markdown",
      "source": [
        "# Week 6 Quiz"
      ],
      "metadata": {}
    },
    {
      "cell_type": "markdown",
      "source": [
        "1) Which of the following datasets is best suited to nearest neighbor or kernel regression? Choose all that apply.\n",
        "\n",
        "- A dataset with many features\n",
        "- A dataset with two features whose observations are evenly scattered throughout the input space V\n",
        "- A dataset with many observations V\n",
        "- A dataset with only a few observations\n",
        "\n",
        "2) Which of the following is the most significant advantage of k-nearest neighbor regression (for k>1) over 1-nearest neighbor regression?\n",
        "\n",
        "- Removes discontinuities in the fit\n",
        "- Better handles boundaries and regions with few observations\n",
        "- Better copes with noise in the data V\n",
        "\n",
        "3) To obtain a fit with low variance using kernel regression, we should choose the kernel to have:\n",
        "\n",
        "- Small bandwidth λ\n",
        "- Large bandwidth λ V\n",
        "\n",
        "4) In k-nearest neighbor regression and kernel regression, the complexity of functions that can be represented grows as we get more data.\n",
        "\n",
        "- True V\n",
        "- False\n",
        "\n",
        "5) Parametric regression and 1-nearest neighbor regression will converge to the same solution as we collect more and more noiseless observations.\n",
        "\n",
        "- True\n",
        "- False V\n",
        "\n",
        "6) Suppose you are creating a website to help shoppers pick houses. Every time a user of your website visits the webpage for a specific house, you want to compute a prediction of the house value. You are using 1-NN to make the prediction and have 100,000 houses in the dataset, with each house having 100 features. Computing the distance between two houses using all the features takes about 10 microseconds. Assuming the cost of all other operations involved (e.g., fetching data, etc.) is negligible, about how long will it take to make a prediction using the brute-force method described in the videos?\n",
        "\n",
        "- 10 milliseconds\n",
        "- 100 milliseconds\n",
        "- 1 second V\n",
        "- 10 seconds\n",
        "\n",
        "1 pred = 100,000houses * 10ys/perhouse = 1 second\n",
        "\n",
        "\n",
        "7) For the housing website described in the previous question, you learn that you need predictions within 50 milliseconds. To accomplish this, you decide to reduce the number of features in your nearest neighbor comparisons. How many features can you use?\n",
        "\n",
        "1 feature\n",
        "5 features\n",
        "10 features V\n",
        "20 features \n",
        "50 features\n",
        "\n",
        "\n",
        "100,000 houses * X < 50000ys -> X < 100,000/50,000 < 2ys\n",
        "X being time/n_feats -> 10ys_per_100feat/X < 2ys -> X > 10ys_per_100feat/2ys\n",
        "\n",
        " \n",
        " \n",
        " "
      ],
      "metadata": {}
    },
    {
      "cell_type": "markdown",
      "source": [],
      "metadata": {}
    },
    {
      "cell_type": "markdown",
      "source": [],
      "metadata": {}
    },
    {
      "cell_type": "markdown",
      "source": [],
      "metadata": {}
    }
  ],
  "metadata": {
    "kernel_info": {
      "name": "python3"
    },
    "language_info": {
      "name": "python",
      "version": "3.7.3",
      "mimetype": "text/x-python",
      "codemirror_mode": {
        "name": "ipython",
        "version": 3
      },
      "pygments_lexer": "ipython3",
      "nbconvert_exporter": "python",
      "file_extension": ".py"
    },
    "kernelspec": {
      "name": "python3",
      "language": "python",
      "display_name": "Python 3"
    },
    "nteract": {
      "version": "0.14.2"
    }
  },
  "nbformat": 4,
  "nbformat_minor": 0
}