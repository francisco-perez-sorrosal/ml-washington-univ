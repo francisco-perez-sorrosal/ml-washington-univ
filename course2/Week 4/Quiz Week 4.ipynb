{
 "cells": [
  {
   "cell_type": "markdown",
   "metadata": {},
   "source": [
    "# Which of the following is NOT a valid measure of overfitting?\n",
    "\n",
    "\n",
    "1) Sum of parameters (w_1+w_2+...+w_nw) V\n",
    "\n",
    "\n",
    "2) Sum of squares of parameters (w21+w22+…+w2n)\n",
    "\n",
    "\n",
    "3) Range of parameters, i.e., difference between maximum and minimum parameters\n",
    "\n",
    "\n",
    "4) Sum of absolute values of parameters (|w1|+|w2|+…+|wn|)"
   ]
  },
  {
   "cell_type": "markdown",
   "metadata": {},
   "source": [
    "# In ridge regression, choosing a large penalty strength \\lambdaλ tends to lead to a model with (choose all that apply):\n",
    "\n",
    "\n",
    "High bias V\n",
    "\n",
    "\n",
    "Low bias\n",
    "\n",
    "\n",
    "High variance\n",
    "\n",
    "\n",
    "Low variance V"
   ]
  },
  {
   "cell_type": "markdown",
   "metadata": {},
   "source": [
    "# Which of the following plots best characterize the trend of bias, variance, and generalization error (all plotted over \\lambdaλ)?\n",
    "Number 3\n",
    "\n"
   ]
  },
  {
   "cell_type": "markdown",
   "metadata": {},
   "source": [
    "# In ridge regression using unnormalized features, if you double the value of a given feature (i.e., a specific column of the feature matrix), what happens to the estimated coefficients for every other feature? They:\n",
    "\n",
    "\n",
    "Double\n",
    "\n",
    "\n",
    "Half\n",
    "\n",
    "\n",
    "Stay the same\n",
    "\n",
    "\n",
    "Impossible to tell from the information provided V"
   ]
  },
  {
   "cell_type": "markdown",
   "metadata": {},
   "source": [
    "# If we only have a small number of observations, K-fold cross validation provides a better estimate of the generalization error than the validation set method.\n",
    "\n",
    "\n",
    "True V\n",
    "\n",
    "\n",
    "False"
   ]
  },
  {
   "cell_type": "markdown",
   "metadata": {},
   "source": [
    "# 10-fold cross validation is more computationally intensive than leave-one-out (LOO) cross validation.\n",
    "\n",
    "\n",
    "True\n",
    "\n",
    "\n",
    "False V"
   ]
  },
  {
   "cell_type": "markdown",
   "metadata": {},
   "source": []
  },
  {
   "cell_type": "markdown",
   "metadata": {},
   "source": [
    "# Assume you have a training dataset consisting of N observations and D features. \n",
    "You use the closed-form solution to fit a multiple linear regression model using \n",
    "ridge regression. To choose the penalty strength λ, you run leave-one-out (LOO) \n",
    "cross validation searching over L values of λ. Let Cost(N,D) be the \n",
    "computational cost of running ridge regression with N data points and D features. \n",
    "Assume the prediction cost is negligible compared to the computational cost of \n",
    "training the model. Which of the following represents the computational cost of \n",
    "your LOO cross validation procedure?\n",
    "\n",
    "\n",
    "LN⋅Cost(N,D)\n",
    "\n",
    "LN⋅Cost(N−1,D) V\n",
    "\n",
    "LD⋅Cost(N−1,D)\n",
    "\n",
    "LD⋅Cost(N,D)\n",
    "\n",
    "L⋅Cost(N−1,D)\n",
    "\n",
    "L⋅Cost(N,D)"
   ]
  },
  {
   "cell_type": "markdown",
   "metadata": {},
   "source": [
    "# Assume you have a training dataset consisting of 1 million observations. Suppose running the closed-form solution to fit a multiple linear regression model using ridge regression on this data takes 1 second. Suppose you want to choose the penalty strength \\lambdaλ by searching over 100 possible values. How long will it take to run leave-one-out (LOO) cross-validation for this selection task?\n",
    "\n",
    "\n",
    "About 3 hours\n",
    "\n",
    "\n",
    "About 3 days\n",
    "\n",
    "\n",
    "About 3 years V\n",
    "\n",
    "\n",
    "About 3 decades"
   ]
  },
  {
   "cell_type": "markdown",
   "metadata": {},
   "source": [
    "# Assume you have a training dataset consisting of 1 million observations. Suppose \n",
    "running the closed-form solution to fit a multiple linear regression model \n",
    "using ridge regression on this data takes 1 second. Suppose you want to choose the \n",
    "penalty strength \\lambdaλ by searching over 100 possible values. If you only want to\n",
    "spend about 1 hour to select \\lambdaλ, what value of k should you use for k-fold \n",
    "cross-validation?\n",
    "\n",
    "\n",
    "k=6\n",
    "\n",
    "\n",
    "k=36 V\n",
    "\n",
    "\n",
    "k=600\n",
    "\n",
    "\n",
    "k=3600"
   ]
  },
  {
   "cell_type": "code",
   "execution_count": null,
   "metadata": {},
   "outputs": [],
   "source": []
  }
 ],
 "metadata": {
  "kernelspec": {
   "display_name": "exp-python3",
   "language": "python",
   "name": "exp-python3"
  },
  "language_info": {
   "codemirror_mode": {
    "name": "ipython",
    "version": 3
   },
   "file_extension": ".py",
   "mimetype": "text/x-python",
   "name": "python",
   "nbconvert_exporter": "python",
   "pygments_lexer": "ipython3",
   "version": "3.6.0"
  }
 },
 "nbformat": 4,
 "nbformat_minor": 2
}
