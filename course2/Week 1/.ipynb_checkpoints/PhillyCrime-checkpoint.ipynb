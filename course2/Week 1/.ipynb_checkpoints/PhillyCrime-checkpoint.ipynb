{
 "cells": [
  {
   "cell_type": "markdown",
   "metadata": {},
   "source": [
    "#Fire up graphlab create"
   ]
  },
  {
   "cell_type": "code",
   "execution_count": 1,
   "metadata": {},
   "outputs": [],
   "source": [
    "#import graphlab\n",
    "import turicreate as tc"
   ]
  },
  {
   "cell_type": "markdown",
   "metadata": {},
   "source": [
    "#Load some house value vs. crime rate data\n",
    "\n",
    "Dataset is from Philadelphia, PA and includes average house sales price in a number of neighborhoods.  The attributes of each neighborhood we have include the crime rate ('CrimeRate'), miles from Center City ('MilesPhila'), town name ('Name'), and county name ('County')."
   ]
  },
  {
   "cell_type": "code",
   "execution_count": 2,
   "metadata": {},
   "outputs": [
    {
     "data": {
      "text/html": [
       "<pre>Finished parsing file /Users/fperez/dev/ml-washington-univ/course2/Week 1/Philadelphia_Crime_Rate_noNA.csv</pre>"
      ],
      "text/plain": [
       "Finished parsing file /Users/fperez/dev/ml-washington-univ/course2/Week 1/Philadelphia_Crime_Rate_noNA.csv"
      ]
     },
     "metadata": {},
     "output_type": "display_data"
    },
    {
     "data": {
      "text/html": [
       "<pre>Parsing completed. Parsed 99 lines in 0.030584 secs.</pre>"
      ],
      "text/plain": [
       "Parsing completed. Parsed 99 lines in 0.030584 secs."
      ]
     },
     "metadata": {},
     "output_type": "display_data"
    },
    {
     "name": "stdout",
     "output_type": "stream",
     "text": [
      "------------------------------------------------------\n",
      "Inferred types from first 100 line(s) of file as \n",
      "column_type_hints=[int,float,float,float,float,str,str]\n",
      "If parsing fails due to incorrect types, you can correct\n",
      "the inferred type list above and pass it to read_csv in\n",
      "the column_type_hints argument\n",
      "------------------------------------------------------\n"
     ]
    },
    {
     "data": {
      "text/html": [
       "<pre>Finished parsing file /Users/fperez/dev/ml-washington-univ/course2/Week 1/Philadelphia_Crime_Rate_noNA.csv</pre>"
      ],
      "text/plain": [
       "Finished parsing file /Users/fperez/dev/ml-washington-univ/course2/Week 1/Philadelphia_Crime_Rate_noNA.csv"
      ]
     },
     "metadata": {},
     "output_type": "display_data"
    },
    {
     "data": {
      "text/html": [
       "<pre>Parsing completed. Parsed 99 lines in 0.006331 secs.</pre>"
      ],
      "text/plain": [
       "Parsing completed. Parsed 99 lines in 0.006331 secs."
      ]
     },
     "metadata": {},
     "output_type": "display_data"
    }
   ],
   "source": [
    "sales = tc.SFrame.read_csv('Philadelphia_Crime_Rate_noNA.csv/')"
   ]
  },
  {
   "cell_type": "code",
   "execution_count": 3,
   "metadata": {},
   "outputs": [
    {
     "data": {
      "text/html": [
       "<div style=\"max-height:1000px;max-width:1500px;overflow:auto;\"><table frame=\"box\" rules=\"cols\">\n",
       "    <tr>\n",
       "        <th style=\"padding-left: 1em; padding-right: 1em; text-align: center\">HousePrice</th>\n",
       "        <th style=\"padding-left: 1em; padding-right: 1em; text-align: center\">HsPrc ($10,000)</th>\n",
       "        <th style=\"padding-left: 1em; padding-right: 1em; text-align: center\">CrimeRate</th>\n",
       "        <th style=\"padding-left: 1em; padding-right: 1em; text-align: center\">MilesPhila</th>\n",
       "        <th style=\"padding-left: 1em; padding-right: 1em; text-align: center\">PopChg</th>\n",
       "        <th style=\"padding-left: 1em; padding-right: 1em; text-align: center\">Name</th>\n",
       "        <th style=\"padding-left: 1em; padding-right: 1em; text-align: center\">County</th>\n",
       "    </tr>\n",
       "    <tr>\n",
       "        <td style=\"padding-left: 1em; padding-right: 1em; text-align: center; vertical-align: top\">140463</td>\n",
       "        <td style=\"padding-left: 1em; padding-right: 1em; text-align: center; vertical-align: top\">14.0463</td>\n",
       "        <td style=\"padding-left: 1em; padding-right: 1em; text-align: center; vertical-align: top\">29.7</td>\n",
       "        <td style=\"padding-left: 1em; padding-right: 1em; text-align: center; vertical-align: top\">10.0</td>\n",
       "        <td style=\"padding-left: 1em; padding-right: 1em; text-align: center; vertical-align: top\">-1.0</td>\n",
       "        <td style=\"padding-left: 1em; padding-right: 1em; text-align: center; vertical-align: top\">Abington</td>\n",
       "        <td style=\"padding-left: 1em; padding-right: 1em; text-align: center; vertical-align: top\">Montgome</td>\n",
       "    </tr>\n",
       "    <tr>\n",
       "        <td style=\"padding-left: 1em; padding-right: 1em; text-align: center; vertical-align: top\">113033</td>\n",
       "        <td style=\"padding-left: 1em; padding-right: 1em; text-align: center; vertical-align: top\">11.3033</td>\n",
       "        <td style=\"padding-left: 1em; padding-right: 1em; text-align: center; vertical-align: top\">24.1</td>\n",
       "        <td style=\"padding-left: 1em; padding-right: 1em; text-align: center; vertical-align: top\">18.0</td>\n",
       "        <td style=\"padding-left: 1em; padding-right: 1em; text-align: center; vertical-align: top\">4.0</td>\n",
       "        <td style=\"padding-left: 1em; padding-right: 1em; text-align: center; vertical-align: top\">Ambler</td>\n",
       "        <td style=\"padding-left: 1em; padding-right: 1em; text-align: center; vertical-align: top\">Montgome</td>\n",
       "    </tr>\n",
       "    <tr>\n",
       "        <td style=\"padding-left: 1em; padding-right: 1em; text-align: center; vertical-align: top\">124186</td>\n",
       "        <td style=\"padding-left: 1em; padding-right: 1em; text-align: center; vertical-align: top\">12.4186</td>\n",
       "        <td style=\"padding-left: 1em; padding-right: 1em; text-align: center; vertical-align: top\">19.5</td>\n",
       "        <td style=\"padding-left: 1em; padding-right: 1em; text-align: center; vertical-align: top\">25.0</td>\n",
       "        <td style=\"padding-left: 1em; padding-right: 1em; text-align: center; vertical-align: top\">8.0</td>\n",
       "        <td style=\"padding-left: 1em; padding-right: 1em; text-align: center; vertical-align: top\">Aston</td>\n",
       "        <td style=\"padding-left: 1em; padding-right: 1em; text-align: center; vertical-align: top\">Delaware</td>\n",
       "    </tr>\n",
       "    <tr>\n",
       "        <td style=\"padding-left: 1em; padding-right: 1em; text-align: center; vertical-align: top\">110490</td>\n",
       "        <td style=\"padding-left: 1em; padding-right: 1em; text-align: center; vertical-align: top\">11.049</td>\n",
       "        <td style=\"padding-left: 1em; padding-right: 1em; text-align: center; vertical-align: top\">49.4</td>\n",
       "        <td style=\"padding-left: 1em; padding-right: 1em; text-align: center; vertical-align: top\">25.0</td>\n",
       "        <td style=\"padding-left: 1em; padding-right: 1em; text-align: center; vertical-align: top\">2.7</td>\n",
       "        <td style=\"padding-left: 1em; padding-right: 1em; text-align: center; vertical-align: top\">Bensalem</td>\n",
       "        <td style=\"padding-left: 1em; padding-right: 1em; text-align: center; vertical-align: top\">Bucks</td>\n",
       "    </tr>\n",
       "    <tr>\n",
       "        <td style=\"padding-left: 1em; padding-right: 1em; text-align: center; vertical-align: top\">79124</td>\n",
       "        <td style=\"padding-left: 1em; padding-right: 1em; text-align: center; vertical-align: top\">7.9124</td>\n",
       "        <td style=\"padding-left: 1em; padding-right: 1em; text-align: center; vertical-align: top\">54.1</td>\n",
       "        <td style=\"padding-left: 1em; padding-right: 1em; text-align: center; vertical-align: top\">19.0</td>\n",
       "        <td style=\"padding-left: 1em; padding-right: 1em; text-align: center; vertical-align: top\">3.9</td>\n",
       "        <td style=\"padding-left: 1em; padding-right: 1em; text-align: center; vertical-align: top\">Bristol B.</td>\n",
       "        <td style=\"padding-left: 1em; padding-right: 1em; text-align: center; vertical-align: top\">Bucks</td>\n",
       "    </tr>\n",
       "    <tr>\n",
       "        <td style=\"padding-left: 1em; padding-right: 1em; text-align: center; vertical-align: top\">92634</td>\n",
       "        <td style=\"padding-left: 1em; padding-right: 1em; text-align: center; vertical-align: top\">9.2634</td>\n",
       "        <td style=\"padding-left: 1em; padding-right: 1em; text-align: center; vertical-align: top\">48.6</td>\n",
       "        <td style=\"padding-left: 1em; padding-right: 1em; text-align: center; vertical-align: top\">20.0</td>\n",
       "        <td style=\"padding-left: 1em; padding-right: 1em; text-align: center; vertical-align: top\">0.6</td>\n",
       "        <td style=\"padding-left: 1em; padding-right: 1em; text-align: center; vertical-align: top\">Bristol T.</td>\n",
       "        <td style=\"padding-left: 1em; padding-right: 1em; text-align: center; vertical-align: top\">Bucks</td>\n",
       "    </tr>\n",
       "    <tr>\n",
       "        <td style=\"padding-left: 1em; padding-right: 1em; text-align: center; vertical-align: top\">89246</td>\n",
       "        <td style=\"padding-left: 1em; padding-right: 1em; text-align: center; vertical-align: top\">8.9246</td>\n",
       "        <td style=\"padding-left: 1em; padding-right: 1em; text-align: center; vertical-align: top\">30.8</td>\n",
       "        <td style=\"padding-left: 1em; padding-right: 1em; text-align: center; vertical-align: top\">15.0</td>\n",
       "        <td style=\"padding-left: 1em; padding-right: 1em; text-align: center; vertical-align: top\">-2.6</td>\n",
       "        <td style=\"padding-left: 1em; padding-right: 1em; text-align: center; vertical-align: top\">Brookhaven</td>\n",
       "        <td style=\"padding-left: 1em; padding-right: 1em; text-align: center; vertical-align: top\">Delaware</td>\n",
       "    </tr>\n",
       "    <tr>\n",
       "        <td style=\"padding-left: 1em; padding-right: 1em; text-align: center; vertical-align: top\">195145</td>\n",
       "        <td style=\"padding-left: 1em; padding-right: 1em; text-align: center; vertical-align: top\">19.5145</td>\n",
       "        <td style=\"padding-left: 1em; padding-right: 1em; text-align: center; vertical-align: top\">10.8</td>\n",
       "        <td style=\"padding-left: 1em; padding-right: 1em; text-align: center; vertical-align: top\">20.0</td>\n",
       "        <td style=\"padding-left: 1em; padding-right: 1em; text-align: center; vertical-align: top\">-3.5</td>\n",
       "        <td style=\"padding-left: 1em; padding-right: 1em; text-align: center; vertical-align: top\">Bryn Athyn</td>\n",
       "        <td style=\"padding-left: 1em; padding-right: 1em; text-align: center; vertical-align: top\">Montgome</td>\n",
       "    </tr>\n",
       "    <tr>\n",
       "        <td style=\"padding-left: 1em; padding-right: 1em; text-align: center; vertical-align: top\">297342</td>\n",
       "        <td style=\"padding-left: 1em; padding-right: 1em; text-align: center; vertical-align: top\">29.7342</td>\n",
       "        <td style=\"padding-left: 1em; padding-right: 1em; text-align: center; vertical-align: top\">20.2</td>\n",
       "        <td style=\"padding-left: 1em; padding-right: 1em; text-align: center; vertical-align: top\">14.0</td>\n",
       "        <td style=\"padding-left: 1em; padding-right: 1em; text-align: center; vertical-align: top\">0.6</td>\n",
       "        <td style=\"padding-left: 1em; padding-right: 1em; text-align: center; vertical-align: top\">Bryn Mawr</td>\n",
       "        <td style=\"padding-left: 1em; padding-right: 1em; text-align: center; vertical-align: top\">Montgome</td>\n",
       "    </tr>\n",
       "    <tr>\n",
       "        <td style=\"padding-left: 1em; padding-right: 1em; text-align: center; vertical-align: top\">264298</td>\n",
       "        <td style=\"padding-left: 1em; padding-right: 1em; text-align: center; vertical-align: top\">26.4298</td>\n",
       "        <td style=\"padding-left: 1em; padding-right: 1em; text-align: center; vertical-align: top\">20.4</td>\n",
       "        <td style=\"padding-left: 1em; padding-right: 1em; text-align: center; vertical-align: top\">26.0</td>\n",
       "        <td style=\"padding-left: 1em; padding-right: 1em; text-align: center; vertical-align: top\">6.0</td>\n",
       "        <td style=\"padding-left: 1em; padding-right: 1em; text-align: center; vertical-align: top\">Buckingham</td>\n",
       "        <td style=\"padding-left: 1em; padding-right: 1em; text-align: center; vertical-align: top\">Bucks</td>\n",
       "    </tr>\n",
       "</table>\n",
       "[99 rows x 7 columns]<br/>Note: Only the head of the SFrame is printed.<br/>You can use print_rows(num_rows=m, num_columns=n) to print more rows and columns.\n",
       "</div>"
      ],
      "text/plain": [
       "Columns:\n",
       "\tHousePrice\tint\n",
       "\tHsPrc ($10,000)\tfloat\n",
       "\tCrimeRate\tfloat\n",
       "\tMilesPhila\tfloat\n",
       "\tPopChg\tfloat\n",
       "\tName\tstr\n",
       "\tCounty\tstr\n",
       "\n",
       "Rows: 99\n",
       "\n",
       "Data:\n",
       "+------------+-----------------+-----------+------------+--------+------------+\n",
       "| HousePrice | HsPrc ($10,000) | CrimeRate | MilesPhila | PopChg |    Name    |\n",
       "+------------+-----------------+-----------+------------+--------+------------+\n",
       "|   140463   |     14.0463     |    29.7   |    10.0    |  -1.0  |  Abington  |\n",
       "|   113033   |     11.3033     |    24.1   |    18.0    |  4.0   |   Ambler   |\n",
       "|   124186   |     12.4186     |    19.5   |    25.0    |  8.0   |   Aston    |\n",
       "|   110490   |      11.049     |    49.4   |    25.0    |  2.7   |  Bensalem  |\n",
       "|   79124    |      7.9124     |    54.1   |    19.0    |  3.9   | Bristol B. |\n",
       "|   92634    |      9.2634     |    48.6   |    20.0    |  0.6   | Bristol T. |\n",
       "|   89246    |      8.9246     |    30.8   |    15.0    |  -2.6  | Brookhaven |\n",
       "|   195145   |     19.5145     |    10.8   |    20.0    |  -3.5  | Bryn Athyn |\n",
       "|   297342   |     29.7342     |    20.2   |    14.0    |  0.6   | Bryn Mawr  |\n",
       "|   264298   |     26.4298     |    20.4   |    26.0    |  6.0   | Buckingham |\n",
       "+------------+-----------------+-----------+------------+--------+------------+\n",
       "+----------+\n",
       "|  County  |\n",
       "+----------+\n",
       "| Montgome |\n",
       "| Montgome |\n",
       "| Delaware |\n",
       "|  Bucks   |\n",
       "|  Bucks   |\n",
       "|  Bucks   |\n",
       "| Delaware |\n",
       "| Montgome |\n",
       "| Montgome |\n",
       "|  Bucks   |\n",
       "+----------+\n",
       "[99 rows x 7 columns]\n",
       "Note: Only the head of the SFrame is printed.\n",
       "You can use print_rows(num_rows=m, num_columns=n) to print more rows and columns."
      ]
     },
     "execution_count": 3,
     "metadata": {},
     "output_type": "execute_result"
    }
   ],
   "source": [
    "sales"
   ]
  },
  {
   "cell_type": "markdown",
   "metadata": {},
   "source": [
    "#Exploring the data "
   ]
  },
  {
   "cell_type": "markdown",
   "metadata": {},
   "source": [
    "The house price in a town is correlated with the crime rate of that town. Low crime towns tend to be associated with higher house prices and vice versa."
   ]
  },
  {
   "cell_type": "code",
   "execution_count": 9,
   "metadata": {},
   "outputs": [
    {
     "data": {
      "text/html": [
       "<pre>Materializing X axis SArray</pre>"
      ],
      "text/plain": [
       "Materializing X axis SArray"
      ]
     },
     "metadata": {},
     "output_type": "display_data"
    },
    {
     "data": {
      "text/html": [
       "<pre>Materializing Y axis SArray</pre>"
      ],
      "text/plain": [
       "Materializing Y axis SArray"
      ]
     },
     "metadata": {},
     "output_type": "display_data"
    },
    {
     "data": {
      "text/html": [
       "<html>                 <body>                     <iframe style=\"border:0;margin:0\" width=\"920\" height=\"770\" srcdoc='<html lang=\"en\">                         <head>                             <script src=\"https://cdnjs.cloudflare.com/ajax/libs/vega/3.0.8/vega.js\"></script>                             <script src=\"https://cdnjs.cloudflare.com/ajax/libs/vega-embed/3.0.0-rc7/vega-embed.js\"></script>                             <script src=\"https://cdnjs.cloudflare.com/ajax/libs/vega-tooltip/0.5.1/vega-tooltip.min.js\"></script>                             <link rel=\"stylesheet\" type=\"text/css\" href=\"https://cdnjs.cloudflare.com/ajax/libs/vega-tooltip/0.5.1/vega-tooltip.min.css\">                             <style>                             .vega-actions > a{                                 color:white;                                 text-decoration: none;                                 font-family: \"Arial\";                                 cursor:pointer;                                 padding:5px;                                 background:#AAAAAA;                                 border-radius:4px;                                 padding-left:10px;                                 padding-right:10px;                                 margin-right:5px;                             }                             .vega-actions{                                 margin-top:20px;                                 text-align:center                             }                            .vega-actions > a{                                 background:#999999;                            }                             </style>                         </head>                         <body>                             <div id=\"vis\">                             </div>                             <script>                                 var vega_json = \"{\\\"style\\\": \\\"cell\\\", \\\"axes\\\": [{\\\"scale\\\": \\\"x\\\", \\\"title\\\": \\\"CrimeRate\\\", \\\"tickCount\\\": {\\\"signal\\\": \\\"ceil(width/40)\\\"}, \\\"zindex\\\": 1, \\\"labelOverlap\\\": true, \\\"orient\\\": \\\"bottom\\\"}, {\\\"domain\\\": false, \\\"scale\\\": \\\"x\\\", \\\"ticks\\\": false, \\\"labels\\\": false, \\\"tickCount\\\": {\\\"signal\\\": \\\"ceil(width/40)\\\"}, \\\"zindex\\\": 0, \\\"grid\\\": true, \\\"minExtent\\\": 0, \\\"gridScale\\\": \\\"y\\\", \\\"orient\\\": \\\"bottom\\\", \\\"maxExtent\\\": 0}, {\\\"scale\\\": \\\"y\\\", \\\"title\\\": \\\"HousePrice\\\", \\\"tickCount\\\": {\\\"signal\\\": \\\"ceil(height/40)\\\"}, \\\"zindex\\\": 1, \\\"labelOverlap\\\": true, \\\"orient\\\": \\\"left\\\"}, {\\\"domain\\\": false, \\\"scale\\\": \\\"y\\\", \\\"ticks\\\": false, \\\"labels\\\": false, \\\"tickCount\\\": {\\\"signal\\\": \\\"ceil(height/40)\\\"}, \\\"zindex\\\": 0, \\\"grid\\\": true, \\\"minExtent\\\": 0, \\\"gridScale\\\": \\\"x\\\", \\\"orient\\\": \\\"left\\\", \\\"maxExtent\\\": 0}], \\\"title\\\": \\\"Scatter Plot\\\", \\\"config\\\": {\\\"style\\\": {\\\"cell\\\": {\\\"stroke\\\": \\\"transparent\\\"}, \\\"rect\\\": {\\\"stroke\\\": \\\"rgba(200, 200, 200, 0.5)\\\"}, \\\"group-title\\\": {\\\"fontWeight\\\": \\\"normal\\\", \\\"font\\\": \\\"HelveticaNeue, Arial\\\", \\\"fontSize\\\": 29, \\\"fill\\\": \\\"rgba(0,0,0,0.65)\\\"}}, \\\"title\\\": {\\\"color\\\": \\\"rgba(0,0,0,0.847)\\\", \\\"fontWeight\\\": \\\"normal\\\", \\\"font\\\": \\\"\\\\\\\"San Francisco\\\\\\\", HelveticaNeue, Arial\\\", \\\"fontSize\\\": 18, \\\"offset\\\": 30}, \\\"axisY\\\": {\\\"minExtent\\\": 30}, \\\"range\\\": {\\\"heatmap\\\": {\\\"scheme\\\": \\\"greenblue\\\"}}, \\\"legend\\\": {\\\"labelFont\\\": \\\"\\\\\\\"San Francisco\\\\\\\", HelveticaNeue, Arial\\\", \\\"labelColor\\\": \\\"rgba(0,0,0,0.847)\\\", \\\"titleFont\\\": \\\"\\\\\\\"San Francisco\\\\\\\", HelveticaNeue, Arial\\\", \\\"cornerRadius\\\": 30, \\\"titleColor\\\": \\\"rgba(0,0,0,0.847)\\\", \\\"gradientLength\\\": 608}, \\\"axis\\\": {\\\"titlePadding\\\": 20, \\\"titleColor\\\": \\\"rgba(0,0,0,0.847)\\\", \\\"titleFont\\\": \\\"\\\\\\\"San Francisco\\\\\\\", HelveticaNeue, Arial\\\", \\\"labelPadding\\\": 10, \\\"labelFont\\\": \\\"\\\\\\\"San Francisco\\\\\\\", HelveticaNeue, Arial\\\", \\\"labelFontSize\\\": 12, \\\"labelColor\\\": \\\"rgba(0,0,0,0.847)\\\", \\\"gridColor\\\": \\\"rgba(204,204,204,1.0)\\\", \\\"titleFontSize\\\": 14, \\\"tickColor\\\": \\\"rgb(136,136,136)\\\", \\\"titleFontWeight\\\": \\\"normal\\\"}}, \\\"scales\\\": [{\\\"domain\\\": {\\\"field\\\": \\\"x\\\", \\\"data\\\": \\\"source_2\\\"}, \\\"name\\\": \\\"x\\\", \\\"zero\\\": true, \\\"range\\\": [0, {\\\"signal\\\": \\\"width\\\"}], \\\"type\\\": \\\"linear\\\", \\\"nice\\\": true}, {\\\"domain\\\": {\\\"field\\\": \\\"y\\\", \\\"data\\\": \\\"source_2\\\"}, \\\"name\\\": \\\"y\\\", \\\"zero\\\": true, \\\"range\\\": [{\\\"signal\\\": \\\"height\\\"}, 0], \\\"type\\\": \\\"linear\\\", \\\"nice\\\": true}], \\\"autosize\\\": {\\\"contains\\\": \\\"padding\\\", \\\"type\\\": \\\"fit\\\", \\\"resize\\\": false}, \\\"height\\\": 550, \\\"padding\\\": 8, \\\"width\\\": 720, \\\"marks\\\": [{\\\"encode\\\": {\\\"hover\\\": {\\\"fill\\\": {\\\"value\\\": \\\"#7EC2F3\\\"}}, \\\"update\\\": {\\\"y\\\": {\\\"field\\\": \\\"y\\\", \\\"scale\\\": \\\"y\\\", \\\"title\\\": \\\"Miles per Gallon\\\"}, \\\"x\\\": {\\\"field\\\": \\\"x\\\", \\\"scale\\\": \\\"x\\\"}, \\\"shape\\\": {\\\"value\\\": \\\"circle\\\"}, \\\"opacity\\\": {\\\"value\\\": 0.7}, \\\"fill\\\": {\\\"value\\\": \\\"#108EE9\\\"}}}, \\\"from\\\": {\\\"data\\\": \\\"source_2\\\"}, \\\"style\\\": [\\\"circle\\\"], \\\"type\\\": \\\"symbol\\\", \\\"name\\\": \\\"marks\\\"}], \\\"$schema\\\": \\\"https://vega.github.io/schema/vega/v4.json\\\", \\\"data\\\": [{\\\"values\\\": [{\\\"y\\\": 140463, \\\"x\\\": 29.7}, {\\\"y\\\": 113033, \\\"x\\\": 24.1}, {\\\"y\\\": 124186, \\\"x\\\": 19.5}, {\\\"y\\\": 110490, \\\"x\\\": 49.4}, {\\\"y\\\": 79124, \\\"x\\\": 54.1}, {\\\"y\\\": 92634, \\\"x\\\": 48.6}, {\\\"y\\\": 89246, \\\"x\\\": 30.8}, {\\\"y\\\": 195145, \\\"x\\\": 10.8}, {\\\"y\\\": 297342, \\\"x\\\": 20.2}, {\\\"y\\\": 264298, \\\"x\\\": 20.4}, {\\\"y\\\": 134342, \\\"x\\\": 17.3}, {\\\"y\\\": 147600, \\\"x\\\": 50.3}, {\\\"y\\\": 77370, \\\"x\\\": 34.2}, {\\\"y\\\": 170822, \\\"x\\\": 33.7}, {\\\"y\\\": 40642, \\\"x\\\": 45.7}, {\\\"y\\\": 71359, \\\"x\\\": 22.3}, {\\\"y\\\": 104923, \\\"x\\\": 48.1}, {\\\"y\\\": 190317, \\\"x\\\": 19.4}, {\\\"y\\\": 215512, \\\"x\\\": 71.9}, {\\\"y\\\": 178105, \\\"x\\\": 45.1}, {\\\"y\\\": 131025, \\\"x\\\": 31.3}, {\\\"y\\\": 149844, \\\"x\\\": 24.9}, {\\\"y\\\": 170556, \\\"x\\\": 27.2}, {\\\"y\\\": 280969, \\\"x\\\": 17.7}, {\\\"y\\\": 114233, \\\"x\\\": 29.0}, {\\\"y\\\": 74502, \\\"x\\\": 21.4}, {\\\"y\\\": 475112, \\\"x\\\": 28.6}, {\\\"y\\\": 97167, \\\"x\\\": 29.3}, {\\\"y\\\": 114572, \\\"x\\\": 17.5}, {\\\"y\\\": 436348, \\\"x\\\": 16.5}, {\\\"y\\\": 389302, \\\"x\\\": 17.8}, {\\\"y\\\": 122392, \\\"x\\\": 17.3}, {\\\"y\\\": 130436, \\\"x\\\": 31.2}, {\\\"y\\\": 272790, \\\"x\\\": 14.5}, {\\\"y\\\": 194435, \\\"x\\\": 15.7}, {\\\"y\\\": 299621, \\\"x\\\": 28.6}, {\\\"y\\\": 210884, \\\"x\\\": 20.8}, {\\\"y\\\": 112471, \\\"x\\\": 29.3}, {\\\"y\\\": 93738, \\\"x\\\": 19.3}, {\\\"y\\\": 121024, \\\"x\\\": 39.5}, {\\\"y\\\": 156035, \\\"x\\\": 13.0}, {\\\"y\\\": 185404, \\\"x\\\": 24.1}, {\\\"y\\\": 126160, \\\"x\\\": 38.0}, {\\\"y\\\": 143072, \\\"x\\\": 40.1}, {\\\"y\\\": 96769, \\\"x\\\": 36.1}, {\\\"y\\\": 94014, \\\"x\\\": 26.6}, {\\\"y\\\": 118214, \\\"x\\\": 25.1}, {\\\"y\\\": 157446, \\\"x\\\": 14.6}, {\\\"y\\\": 150283, \\\"x\\\": 18.2}, {\\\"y\\\": 153842, \\\"x\\\": 15.3}, {\\\"y\\\": 197214, \\\"x\\\": 15.2}, {\\\"y\\\": 206127, \\\"x\\\": 17.4}, {\\\"y\\\": 71981, \\\"x\\\": 73.3}, {\\\"y\\\": 169401, \\\"x\\\": 7.1}, {\\\"y\\\": 99843, \\\"x\\\": 12.5}, {\\\"y\\\": 60000, \\\"x\\\": 45.8}, {\\\"y\\\": 28000, \\\"x\\\": 44.9}, {\\\"y\\\": 60000, \\\"x\\\": 65.0}, {\\\"y\\\": 61800, \\\"x\\\": 49.9}, {\\\"y\\\": 38000, \\\"x\\\": 54.8}, {\\\"y\\\": 38000, \\\"x\\\": 53.5}, {\\\"y\\\": 42000, \\\"x\\\": 69.9}, {\\\"y\\\": 96200, \\\"x\\\": 366.1}, {\\\"y\\\": 103087, \\\"x\\\": 24.6}, {\\\"y\\\": 147720, \\\"x\\\": 58.6}, {\\\"y\\\": 78175, \\\"x\\\": 53.2}, {\\\"y\\\": 92215, \\\"x\\\": 17.4}, {\\\"y\\\": 271804, \\\"x\\\": 15.5}, {\\\"y\\\": 119566, \\\"x\\\": 14.5}, {\\\"y\\\": 100231, \\\"x\\\": 24.1}, {\\\"y\\\": 95831, \\\"x\\\": 21.2}, {\\\"y\\\": 229711, \\\"x\\\": 9.8}, {\\\"y\\\": 74308, \\\"x\\\": 29.9}, {\\\"y\\\": 259506, \\\"x\\\": 7.2}, {\\\"y\\\": 159573, \\\"x\\\": 19.4}, {\\\"y\\\": 147176, \\\"x\\\": 41.1}, {\\\"y\\\": 205732, \\\"x\\\": 11.2}, {\\\"y\\\": 215783, \\\"x\\\": 21.2}, {\\\"y\\\": 116710, \\\"x\\\": 42.8}, {\\\"y\\\": 359112, \\\"x\\\": 9.4}, {\\\"y\\\": 189959, \\\"x\\\": 61.7}, {\\\"y\\\": 133198, \\\"x\\\": 19.4}, {\\\"y\\\": 242821, \\\"x\\\": 6.6}, {\\\"y\\\": 142811, \\\"x\\\": 15.9}, {\\\"y\\\": 200498, \\\"x\\\": 18.8}, {\\\"y\\\": 199065, \\\"x\\\": 13.2}, {\\\"y\\\": 93648, \\\"x\\\": 34.5}, {\\\"y\\\": 163001, \\\"x\\\": 22.1}, {\\\"y\\\": 436348, \\\"x\\\": 22.1}, {\\\"y\\\": 124478, \\\"x\\\": 71.9}, {\\\"y\\\": 168276, \\\"x\\\": 31.9}, {\\\"y\\\": 114157, \\\"x\\\": 44.6}, {\\\"y\\\": 130088, \\\"x\\\": 28.6}, {\\\"y\\\": 152624, \\\"x\\\": 24.0}, {\\\"y\\\": 174232, \\\"x\\\": 13.8}, {\\\"y\\\": 196515, \\\"x\\\": 29.9}, {\\\"y\\\": 232714, \\\"x\\\": 9.9}, {\\\"y\\\": 245920, \\\"x\\\": 22.6}, {\\\"y\\\": 130953, \\\"x\\\": 13.0}], \\\"name\\\": \\\"source_2\\\"}]}\";                                 var vega_json_parsed = JSON.parse(vega_json);                                 var toolTipOpts = {                                     showAllFields: true                                 };                                 if(vega_json_parsed[\"metadata\"] != null){                                     if(vega_json_parsed[\"metadata\"][\"bubbleOpts\"] != null){                                         toolTipOpts = vega_json_parsed[\"metadata\"][\"bubbleOpts\"];                                     };                                 };                                 vegaEmbed(\"#vis\", vega_json_parsed).then(function (result) {                                     vegaTooltip.vega(result.view, toolTipOpts);                                  });                             </script>                         </body>                     </html>' src=\"demo_iframe_srcdoc.htm\">                         <p>Your browser does not support iframes.</p>                     </iframe>                 </body>             </html>"
      ],
      "text/plain": [
       "<IPython.core.display.HTML object>"
      ]
     },
     "metadata": {},
     "output_type": "display_data"
    }
   ],
   "source": [
    "#graphlab.canvas.set_target('ipynb')\n",
    "tc.config.set_runtime_config('TURI_NUM_GPUS', 4)\n",
    "tc.visualization.set_target('auto')\n",
    "#sales.show(view=\"Scatter Plot\", x=\"CrimeRate\", y=\"HousePrice\")\n",
    "tc.show(sales['CrimeRate'], sales['HousePrice'],\n",
    "           xlabel=\"CrimeRate\",\n",
    "           ylabel=\"HousePrice\",\n",
    "           title=\"Scatter Plot\")"
   ]
  },
  {
   "cell_type": "code",
   "execution_count": 31,
   "metadata": {},
   "outputs": [
    {
     "data": {
      "text/html": [
       "<pre>Materializing X axis SArray</pre>"
      ],
      "text/plain": [
       "Materializing X axis SArray"
      ]
     },
     "metadata": {},
     "output_type": "display_data"
    },
    {
     "data": {
      "text/html": [
       "<pre>Materializing Y axis SArray</pre>"
      ],
      "text/plain": [
       "Materializing Y axis SArray"
      ]
     },
     "metadata": {},
     "output_type": "display_data"
    },
    {
     "data": {
      "text/html": [
       "<html>                 <body>                     <iframe style=\"border:0;margin:0\" width=\"920\" height=\"770\" srcdoc='<html lang=\"en\">                         <head>                             <script src=\"https://cdnjs.cloudflare.com/ajax/libs/vega/3.0.8/vega.js\"></script>                             <script src=\"https://cdnjs.cloudflare.com/ajax/libs/vega-embed/3.0.0-rc7/vega-embed.js\"></script>                             <script src=\"https://cdnjs.cloudflare.com/ajax/libs/vega-tooltip/0.5.1/vega-tooltip.min.js\"></script>                             <link rel=\"stylesheet\" type=\"text/css\" href=\"https://cdnjs.cloudflare.com/ajax/libs/vega-tooltip/0.5.1/vega-tooltip.min.css\">                             <style>                             .vega-actions > a{                                 color:white;                                 text-decoration: none;                                 font-family: \"Arial\";                                 cursor:pointer;                                 padding:5px;                                 background:#AAAAAA;                                 border-radius:4px;                                 padding-left:10px;                                 padding-right:10px;                                 margin-right:5px;                             }                             .vega-actions{                                 margin-top:20px;                                 text-align:center                             }                            .vega-actions > a{                                 background:#999999;                            }                             </style>                         </head>                         <body>                             <div id=\"vis\">                             </div>                             <script>                                 var vega_json = \"{\\\"style\\\": \\\"cell\\\", \\\"axes\\\": [{\\\"scale\\\": \\\"x\\\", \\\"title\\\": \\\"CrimeRate\\\", \\\"tickCount\\\": {\\\"signal\\\": \\\"ceil(width/40)\\\"}, \\\"zindex\\\": 1, \\\"labelOverlap\\\": true, \\\"orient\\\": \\\"bottom\\\"}, {\\\"domain\\\": false, \\\"scale\\\": \\\"x\\\", \\\"ticks\\\": false, \\\"labels\\\": false, \\\"tickCount\\\": {\\\"signal\\\": \\\"ceil(width/40)\\\"}, \\\"zindex\\\": 0, \\\"grid\\\": true, \\\"minExtent\\\": 0, \\\"gridScale\\\": \\\"y\\\", \\\"orient\\\": \\\"bottom\\\", \\\"maxExtent\\\": 0}, {\\\"scale\\\": \\\"y\\\", \\\"title\\\": \\\"MilesPhila\\\", \\\"tickCount\\\": {\\\"signal\\\": \\\"ceil(height/40)\\\"}, \\\"zindex\\\": 1, \\\"labelOverlap\\\": true, \\\"orient\\\": \\\"left\\\"}, {\\\"domain\\\": false, \\\"scale\\\": \\\"y\\\", \\\"ticks\\\": false, \\\"labels\\\": false, \\\"tickCount\\\": {\\\"signal\\\": \\\"ceil(height/40)\\\"}, \\\"zindex\\\": 0, \\\"grid\\\": true, \\\"minExtent\\\": 0, \\\"gridScale\\\": \\\"x\\\", \\\"orient\\\": \\\"left\\\", \\\"maxExtent\\\": 0}], \\\"title\\\": \\\"Scatter Plot\\\", \\\"config\\\": {\\\"style\\\": {\\\"cell\\\": {\\\"stroke\\\": \\\"transparent\\\"}, \\\"rect\\\": {\\\"stroke\\\": \\\"rgba(200, 200, 200, 0.5)\\\"}, \\\"group-title\\\": {\\\"fontWeight\\\": \\\"normal\\\", \\\"font\\\": \\\"HelveticaNeue, Arial\\\", \\\"fontSize\\\": 29, \\\"fill\\\": \\\"rgba(0,0,0,0.65)\\\"}}, \\\"title\\\": {\\\"color\\\": \\\"rgba(0,0,0,0.847)\\\", \\\"fontWeight\\\": \\\"normal\\\", \\\"font\\\": \\\"\\\\\\\"San Francisco\\\\\\\", HelveticaNeue, Arial\\\", \\\"fontSize\\\": 18, \\\"offset\\\": 30}, \\\"axisY\\\": {\\\"minExtent\\\": 30}, \\\"range\\\": {\\\"heatmap\\\": {\\\"scheme\\\": \\\"greenblue\\\"}}, \\\"legend\\\": {\\\"labelFont\\\": \\\"\\\\\\\"San Francisco\\\\\\\", HelveticaNeue, Arial\\\", \\\"labelColor\\\": \\\"rgba(0,0,0,0.847)\\\", \\\"titleFont\\\": \\\"\\\\\\\"San Francisco\\\\\\\", HelveticaNeue, Arial\\\", \\\"cornerRadius\\\": 30, \\\"titleColor\\\": \\\"rgba(0,0,0,0.847)\\\", \\\"gradientLength\\\": 608}, \\\"axis\\\": {\\\"titlePadding\\\": 20, \\\"titleColor\\\": \\\"rgba(0,0,0,0.847)\\\", \\\"titleFont\\\": \\\"\\\\\\\"San Francisco\\\\\\\", HelveticaNeue, Arial\\\", \\\"labelPadding\\\": 10, \\\"labelFont\\\": \\\"\\\\\\\"San Francisco\\\\\\\", HelveticaNeue, Arial\\\", \\\"labelFontSize\\\": 12, \\\"labelColor\\\": \\\"rgba(0,0,0,0.847)\\\", \\\"gridColor\\\": \\\"rgba(204,204,204,1.0)\\\", \\\"titleFontSize\\\": 14, \\\"tickColor\\\": \\\"rgb(136,136,136)\\\", \\\"titleFontWeight\\\": \\\"normal\\\"}}, \\\"scales\\\": [{\\\"domain\\\": {\\\"field\\\": \\\"x\\\", \\\"data\\\": \\\"source_2\\\"}, \\\"name\\\": \\\"x\\\", \\\"zero\\\": true, \\\"range\\\": [0, {\\\"signal\\\": \\\"width\\\"}], \\\"type\\\": \\\"linear\\\", \\\"nice\\\": true}, {\\\"domain\\\": {\\\"field\\\": \\\"y\\\", \\\"data\\\": \\\"source_2\\\"}, \\\"name\\\": \\\"y\\\", \\\"zero\\\": true, \\\"range\\\": [{\\\"signal\\\": \\\"height\\\"}, 0], \\\"type\\\": \\\"linear\\\", \\\"nice\\\": true}], \\\"autosize\\\": {\\\"contains\\\": \\\"padding\\\", \\\"type\\\": \\\"fit\\\", \\\"resize\\\": false}, \\\"height\\\": 550, \\\"padding\\\": 8, \\\"width\\\": 720, \\\"marks\\\": [{\\\"encode\\\": {\\\"hover\\\": {\\\"fill\\\": {\\\"value\\\": \\\"#7EC2F3\\\"}}, \\\"update\\\": {\\\"y\\\": {\\\"field\\\": \\\"y\\\", \\\"scale\\\": \\\"y\\\", \\\"title\\\": \\\"Miles per Gallon\\\"}, \\\"x\\\": {\\\"field\\\": \\\"x\\\", \\\"scale\\\": \\\"x\\\"}, \\\"shape\\\": {\\\"value\\\": \\\"circle\\\"}, \\\"opacity\\\": {\\\"value\\\": 0.7}, \\\"fill\\\": {\\\"value\\\": \\\"#108EE9\\\"}}}, \\\"from\\\": {\\\"data\\\": \\\"source_2\\\"}, \\\"style\\\": [\\\"circle\\\"], \\\"type\\\": \\\"symbol\\\", \\\"name\\\": \\\"marks\\\"}], \\\"$schema\\\": \\\"https://vega.github.io/schema/vega/v4.json\\\", \\\"data\\\": [{\\\"values\\\": [{\\\"y\\\": 10.0, \\\"x\\\": 29.7}, {\\\"y\\\": 18.0, \\\"x\\\": 24.1}, {\\\"y\\\": 25.0, \\\"x\\\": 19.5}, {\\\"y\\\": 25.0, \\\"x\\\": 49.4}, {\\\"y\\\": 19.0, \\\"x\\\": 54.1}, {\\\"y\\\": 20.0, \\\"x\\\": 48.6}, {\\\"y\\\": 15.0, \\\"x\\\": 30.8}, {\\\"y\\\": 20.0, \\\"x\\\": 10.8}, {\\\"y\\\": 14.0, \\\"x\\\": 20.2}, {\\\"y\\\": 26.0, \\\"x\\\": 20.4}, {\\\"y\\\": 31.0, \\\"x\\\": 17.3}, {\\\"y\\\": 9.0, \\\"x\\\": 50.3}, {\\\"y\\\": 10.0, \\\"x\\\": 34.2}, {\\\"y\\\": 32.0, \\\"x\\\": 33.7}, {\\\"y\\\": 15.0, \\\"x\\\": 45.7}, {\\\"y\\\": 8.0, \\\"x\\\": 22.3}, {\\\"y\\\": 21.0, \\\"x\\\": 48.1}, {\\\"y\\\": 26.0, \\\"x\\\": 19.4}, {\\\"y\\\": 26.0, \\\"x\\\": 71.9}, {\\\"y\\\": 25.0, \\\"x\\\": 45.1}, {\\\"y\\\": 19.0, \\\"x\\\": 31.3}, {\\\"y\\\": 22.0, \\\"x\\\": 24.9}, {\\\"y\\\": 30.0, \\\"x\\\": 27.2}, {\\\"y\\\": 14.0, \\\"x\\\": 17.7}, {\\\"y\\\": 30.0, \\\"x\\\": 29.0}, {\\\"y\\\": 15.0, \\\"x\\\": 21.4}, {\\\"y\\\": 12.0, \\\"x\\\": 28.6}, {\\\"y\\\": 10.0, \\\"x\\\": 29.3}, {\\\"y\\\": 20.0, \\\"x\\\": 17.5}, {\\\"y\\\": 10.0, \\\"x\\\": 16.5}, {\\\"y\\\": 20.0, \\\"x\\\": 17.8}, {\\\"y\\\": 10.0, \\\"x\\\": 17.3}, {\\\"y\\\": 17.0, \\\"x\\\": 31.2}, {\\\"y\\\": 20.0, \\\"x\\\": 14.5}, {\\\"y\\\": 32.0, \\\"x\\\": 15.7}, {\\\"y\\\": 10.0, \\\"x\\\": 28.6}, {\\\"y\\\": 20.0, \\\"x\\\": 20.8}, {\\\"y\\\": 35.0, \\\"x\\\": 29.3}, {\\\"y\\\": 7.0, \\\"x\\\": 19.3}, {\\\"y\\\": 35.0, \\\"x\\\": 39.5}, {\\\"y\\\": 23.0, \\\"x\\\": 13.0}, {\\\"y\\\": 10.0, \\\"x\\\": 24.1}, {\\\"y\\\": 20.0, \\\"x\\\": 38.0}, {\\\"y\\\": 23.0, \\\"x\\\": 40.1}, {\\\"y\\\": 15.0, \\\"x\\\": 36.1}, {\\\"y\\\": 14.0, \\\"x\\\": 26.6}, {\\\"y\\\": 25.0, \\\"x\\\": 25.1}, {\\\"y\\\": 15.0, \\\"x\\\": 14.6}, {\\\"y\\\": 15.0, \\\"x\\\": 18.2}, {\\\"y\\\": 23.0, \\\"x\\\": 15.3}, {\\\"y\\\": 25.0, \\\"x\\\": 15.2}, {\\\"y\\\": 15.0, \\\"x\\\": 17.4}, {\\\"y\\\": 19.0, \\\"x\\\": 73.3}, {\\\"y\\\": 22.0, \\\"x\\\": 7.1}, {\\\"y\\\": 12.0, \\\"x\\\": 12.5}, {\\\"y\\\": 18.0, \\\"x\\\": 45.8}, {\\\"y\\\": 5.5, \\\"x\\\": 44.9}, {\\\"y\\\": 9.0, \\\"x\\\": 65.0}, {\\\"y\\\": 9.0, \\\"x\\\": 49.9}, {\\\"y\\\": 4.5, \\\"x\\\": 54.8}, {\\\"y\\\": 2.0, \\\"x\\\": 53.5}, {\\\"y\\\": 4.0, \\\"x\\\": 69.9}, {\\\"y\\\": 0.0, \\\"x\\\": 366.1}, {\\\"y\\\": 24.0, \\\"x\\\": 24.6}, {\\\"y\\\": 25.0, \\\"x\\\": 58.6}, {\\\"y\\\": 41.0, \\\"x\\\": 53.2}, {\\\"y\\\": 14.0, \\\"x\\\": 17.4}, {\\\"y\\\": 17.0, \\\"x\\\": 15.5}, {\\\"y\\\": 12.0, \\\"x\\\": 14.5}, {\\\"y\\\": 15.0, \\\"x\\\": 24.1}, {\\\"y\\\": 32.0, \\\"x\\\": 21.2}, {\\\"y\\\": 22.0, \\\"x\\\": 9.8}, {\\\"y\\\": 7.0, \\\"x\\\": 29.9}, {\\\"y\\\": 40.0, \\\"x\\\": 7.2}, {\\\"y\\\": 15.0, \\\"x\\\": 19.4}, {\\\"y\\\": 12.0, \\\"x\\\": 41.1}, {\\\"y\\\": 12.0, \\\"x\\\": 11.2}, {\\\"y\\\": 20.0, \\\"x\\\": 21.2}, {\\\"y\\\": 20.0, \\\"x\\\": 42.8}, {\\\"y\\\": 36.0, \\\"x\\\": 9.4}, {\\\"y\\\": 22.0, \\\"x\\\": 61.7}, {\\\"y\\\": 22.0, \\\"x\\\": 19.4}, {\\\"y\\\": 21.0, \\\"x\\\": 6.6}, {\\\"y\\\": 20.0, \\\"x\\\": 15.9}, {\\\"y\\\": 36.0, \\\"x\\\": 18.8}, {\\\"y\\\": 20.0, \\\"x\\\": 13.2}, {\\\"y\\\": 8.0, \\\"x\\\": 34.5}, {\\\"y\\\": 50.0, \\\"x\\\": 22.1}, {\\\"y\\\": 15.0, \\\"x\\\": 22.1}, {\\\"y\\\": 22.0, \\\"x\\\": 71.9}, {\\\"y\\\": 26.0, \\\"x\\\": 31.9}, {\\\"y\\\": 38.0, \\\"x\\\": 44.6}, {\\\"y\\\": 19.0, \\\"x\\\": 28.6}, {\\\"y\\\": 19.0, \\\"x\\\": 24.0}, {\\\"y\\\": 25.0, \\\"x\\\": 13.8}, {\\\"y\\\": 16.0, \\\"x\\\": 29.9}, {\\\"y\\\": 21.0, \\\"x\\\": 9.9}, {\\\"y\\\": 10.0, \\\"x\\\": 22.6}, {\\\"y\\\": 24.0, \\\"x\\\": 13.0}], \\\"name\\\": \\\"source_2\\\"}]}\";                                 var vega_json_parsed = JSON.parse(vega_json);                                 var toolTipOpts = {                                     showAllFields: true                                 };                                 if(vega_json_parsed[\"metadata\"] != null){                                     if(vega_json_parsed[\"metadata\"][\"bubbleOpts\"] != null){                                         toolTipOpts = vega_json_parsed[\"metadata\"][\"bubbleOpts\"];                                     };                                 };                                 vegaEmbed(\"#vis\", vega_json_parsed).then(function (result) {                                     vegaTooltip.vega(result.view, toolTipOpts);                                  });                             </script>                         </body>                     </html>' src=\"demo_iframe_srcdoc.htm\">                         <p>Your browser does not support iframes.</p>                     </iframe>                 </body>             </html>"
      ],
      "text/plain": [
       "<IPython.core.display.HTML object>"
      ]
     },
     "metadata": {},
     "output_type": "display_data"
    }
   ],
   "source": [
    "tc.show(sales['CrimeRate'], sales['MilesPhila'],\n",
    "           xlabel=\"CrimeRate\",\n",
    "           ylabel=\"MilesPhila\",\n",
    "           title=\"Scatter Plot\")"
   ]
  },
  {
   "cell_type": "code",
   "execution_count": 34,
   "metadata": {},
   "outputs": [
    {
     "data": {
      "text/html": [
       "<div style=\"max-height:1000px;max-width:1500px;overflow:auto;\"><table frame=\"box\" rules=\"cols\">\n",
       "    <tr>\n",
       "        <th style=\"padding-left: 1em; padding-right: 1em; text-align: center\">HousePrice</th>\n",
       "        <th style=\"padding-left: 1em; padding-right: 1em; text-align: center\">HsPrc ($10,000)</th>\n",
       "        <th style=\"padding-left: 1em; padding-right: 1em; text-align: center\">CrimeRate</th>\n",
       "        <th style=\"padding-left: 1em; padding-right: 1em; text-align: center\">MilesPhila</th>\n",
       "        <th style=\"padding-left: 1em; padding-right: 1em; text-align: center\">PopChg</th>\n",
       "        <th style=\"padding-left: 1em; padding-right: 1em; text-align: center\">Name</th>\n",
       "        <th style=\"padding-left: 1em; padding-right: 1em; text-align: center\">County</th>\n",
       "    </tr>\n",
       "    <tr>\n",
       "        <td style=\"padding-left: 1em; padding-right: 1em; text-align: center; vertical-align: top\">96200</td>\n",
       "        <td style=\"padding-left: 1em; padding-right: 1em; text-align: center; vertical-align: top\">9.62</td>\n",
       "        <td style=\"padding-left: 1em; padding-right: 1em; text-align: center; vertical-align: top\">366.1</td>\n",
       "        <td style=\"padding-left: 1em; padding-right: 1em; text-align: center; vertical-align: top\">0.0</td>\n",
       "        <td style=\"padding-left: 1em; padding-right: 1em; text-align: center; vertical-align: top\">4.8</td>\n",
       "        <td style=\"padding-left: 1em; padding-right: 1em; text-align: center; vertical-align: top\">Phila,CC</td>\n",
       "        <td style=\"padding-left: 1em; padding-right: 1em; text-align: center; vertical-align: top\">Phila</td>\n",
       "    </tr>\n",
       "</table>\n",
       "[? rows x 7 columns]<br/>Note: Only the head of the SFrame is printed. This SFrame is lazily evaluated.<br/>You can use sf.materialize() to force materialization.\n",
       "</div>"
      ],
      "text/plain": [
       "Columns:\n",
       "\tHousePrice\tint\n",
       "\tHsPrc ($10,000)\tfloat\n",
       "\tCrimeRate\tfloat\n",
       "\tMilesPhila\tfloat\n",
       "\tPopChg\tfloat\n",
       "\tName\tstr\n",
       "\tCounty\tstr\n",
       "\n",
       "Rows: Unknown\n",
       "\n",
       "Data:\n",
       "+------------+-----------------+-----------+------------+--------+----------+\n",
       "| HousePrice | HsPrc ($10,000) | CrimeRate | MilesPhila | PopChg |   Name   |\n",
       "+------------+-----------------+-----------+------------+--------+----------+\n",
       "|   96200    |       9.62      |   366.1   |    0.0     |  4.8   | Phila,CC |\n",
       "+------------+-----------------+-----------+------------+--------+----------+\n",
       "+--------+\n",
       "| County |\n",
       "+--------+\n",
       "| Phila  |\n",
       "+--------+\n",
       "[? rows x 7 columns]\n",
       "Note: Only the head of the SFrame is printed. This SFrame is lazily evaluated.\n",
       "You can use sf.materialize() to force materialization."
      ]
     },
     "execution_count": 34,
     "metadata": {},
     "output_type": "execute_result"
    }
   ],
   "source": [
    "sales[sales['MilesPhila'] == 0]"
   ]
  },
  {
   "cell_type": "markdown",
   "metadata": {},
   "source": [
    "#Fit the regression model using crime as the feature"
   ]
  },
  {
   "cell_type": "code",
   "execution_count": 11,
   "metadata": {},
   "outputs": [
    {
     "data": {
      "text/html": [
       "<pre>Linear regression:</pre>"
      ],
      "text/plain": [
       "Linear regression:"
      ]
     },
     "metadata": {},
     "output_type": "display_data"
    },
    {
     "data": {
      "text/html": [
       "<pre>--------------------------------------------------------</pre>"
      ],
      "text/plain": [
       "--------------------------------------------------------"
      ]
     },
     "metadata": {},
     "output_type": "display_data"
    },
    {
     "data": {
      "text/html": [
       "<pre>Number of examples          : 99</pre>"
      ],
      "text/plain": [
       "Number of examples          : 99"
      ]
     },
     "metadata": {},
     "output_type": "display_data"
    },
    {
     "data": {
      "text/html": [
       "<pre>Number of features          : 1</pre>"
      ],
      "text/plain": [
       "Number of features          : 1"
      ]
     },
     "metadata": {},
     "output_type": "display_data"
    },
    {
     "data": {
      "text/html": [
       "<pre>Number of unpacked features : 1</pre>"
      ],
      "text/plain": [
       "Number of unpacked features : 1"
      ]
     },
     "metadata": {},
     "output_type": "display_data"
    },
    {
     "data": {
      "text/html": [
       "<pre>Number of coefficients    : 2</pre>"
      ],
      "text/plain": [
       "Number of coefficients    : 2"
      ]
     },
     "metadata": {},
     "output_type": "display_data"
    },
    {
     "data": {
      "text/html": [
       "<pre>Starting Newton Method</pre>"
      ],
      "text/plain": [
       "Starting Newton Method"
      ]
     },
     "metadata": {},
     "output_type": "display_data"
    },
    {
     "data": {
      "text/html": [
       "<pre>--------------------------------------------------------</pre>"
      ],
      "text/plain": [
       "--------------------------------------------------------"
      ]
     },
     "metadata": {},
     "output_type": "display_data"
    },
    {
     "data": {
      "text/html": [
       "<pre>+-----------+----------+--------------+--------------------+---------------------------------+</pre>"
      ],
      "text/plain": [
       "+-----------+----------+--------------+--------------------+---------------------------------+"
      ]
     },
     "metadata": {},
     "output_type": "display_data"
    },
    {
     "data": {
      "text/html": [
       "<pre>| Iteration | Passes   | Elapsed Time | Training Max Error | Training Root-Mean-Square Error |</pre>"
      ],
      "text/plain": [
       "| Iteration | Passes   | Elapsed Time | Training Max Error | Training Root-Mean-Square Error |"
      ]
     },
     "metadata": {},
     "output_type": "display_data"
    },
    {
     "data": {
      "text/html": [
       "<pre>+-----------+----------+--------------+--------------------+---------------------------------+</pre>"
      ],
      "text/plain": [
       "+-----------+----------+--------------+--------------------+---------------------------------+"
      ]
     },
     "metadata": {},
     "output_type": "display_data"
    },
    {
     "data": {
      "text/html": [
       "<pre>| 0         | 1        | 0.000341     | 475112.000000      | 179842.871945                   |</pre>"
      ],
      "text/plain": [
       "| 0         | 1        | 0.000341     | 475112.000000      | 179842.871945                   |"
      ]
     },
     "metadata": {},
     "output_type": "display_data"
    },
    {
     "data": {
      "text/html": [
       "<pre>| 1         | 2        | 0.000858     | 314982.574662      | 83468.940148                    |</pre>"
      ],
      "text/plain": [
       "| 1         | 2        | 0.000858     | 314982.574662      | 83468.940148                    |"
      ]
     },
     "metadata": {},
     "output_type": "display_data"
    },
    {
     "data": {
      "text/html": [
       "<pre>+-----------+----------+--------------+--------------------+---------------------------------+</pre>"
      ],
      "text/plain": [
       "+-----------+----------+--------------+--------------------+---------------------------------+"
      ]
     },
     "metadata": {},
     "output_type": "display_data"
    },
    {
     "data": {
      "text/html": [
       "<pre>SUCCESS: Optimal solution found.</pre>"
      ],
      "text/plain": [
       "SUCCESS: Optimal solution found."
      ]
     },
     "metadata": {},
     "output_type": "display_data"
    },
    {
     "data": {
      "text/html": [
       "<pre></pre>"
      ],
      "text/plain": []
     },
     "metadata": {},
     "output_type": "display_data"
    }
   ],
   "source": [
    "crime_model = tc.linear_regression.create(sales, target='HousePrice', features=['CrimeRate'],validation_set=None,verbose=True)"
   ]
  },
  {
   "cell_type": "markdown",
   "metadata": {},
   "source": [
    "#Let's see what our fit looks like"
   ]
  },
  {
   "cell_type": "markdown",
   "metadata": {},
   "source": [
    "Matplotlib is a Python plotting library that is also useful for plotting.  You can install it with:\n",
    "\n",
    "'pip install matplotlib'"
   ]
  },
  {
   "cell_type": "code",
   "execution_count": 12,
   "metadata": {},
   "outputs": [],
   "source": [
    "import matplotlib.pyplot as plt\n",
    "%matplotlib inline"
   ]
  },
  {
   "cell_type": "code",
   "execution_count": 15,
   "metadata": {
    "scrolled": true
   },
   "outputs": [
    {
     "data": {
      "text/plain": [
       "[<matplotlib.lines.Line2D at 0x1a1d654450>,\n",
       " <matplotlib.lines.Line2D at 0x1a1d6544d0>]"
      ]
     },
     "execution_count": 15,
     "metadata": {},
     "output_type": "execute_result"
    },
    {
     "data": {
      "image/png": "[encoded data removed]",
      "text/plain": [
       "<Figure size 432x288 with 1 Axes>"
      ]
     },
     "metadata": {
      "needs_background": "light"
     },
     "output_type": "display_data"
    }
   ],
   "source": [
    "plt.plot(sales['CrimeRate'],sales['HousePrice'],'.',\n",
    "        sales['CrimeRate'],crime_model.predict(sales),'-')"
   ]
  },
  {
   "cell_type": "markdown",
   "metadata": {},
   "source": [
    "Above: blue dots are original data, green line is the fit from the simple regression."
   ]
  },
  {
   "cell_type": "markdown",
   "metadata": {},
   "source": [
    "# Remove Center City and redo the analysis"
   ]
  },
  {
   "cell_type": "markdown",
   "metadata": {},
   "source": [
    "Center City is the one observation with an extremely high crime rate, yet house prices are not very low.  This point does not follow the trend of the rest of the data very well.  A question is how much including Center City is influencing our fit on the other datapoints.  Let's remove this datapoint and see what happens."
   ]
  },
  {
   "cell_type": "code",
   "execution_count": 16,
   "metadata": {},
   "outputs": [],
   "source": [
    "sales_noCC = sales[sales['MilesPhila'] != 0.0]"
   ]
  },
  {
   "cell_type": "code",
   "execution_count": 18,
   "metadata": {},
   "outputs": [
    {
     "data": {
      "text/html": [
       "<pre>Materializing X axis SArray</pre>"
      ],
      "text/plain": [
       "Materializing X axis SArray"
      ]
     },
     "metadata": {},
     "output_type": "display_data"
    },
    {
     "data": {
      "text/html": [
       "<pre>Materializing Y axis SArray</pre>"
      ],
      "text/plain": [
       "Materializing Y axis SArray"
      ]
     },
     "metadata": {},
     "output_type": "display_data"
    },
    {
     "data": {
      "text/html": [
       "<html>                 <body>                     <iframe style=\"border:0;margin:0\" width=\"920\" height=\"770\" srcdoc='<html lang=\"en\">                         <head>                             <script src=\"https://cdnjs.cloudflare.com/ajax/libs/vega/3.0.8/vega.js\"></script>                             <script src=\"https://cdnjs.cloudflare.com/ajax/libs/vega-embed/3.0.0-rc7/vega-embed.js\"></script>                             <script src=\"https://cdnjs.cloudflare.com/ajax/libs/vega-tooltip/0.5.1/vega-tooltip.min.js\"></script>                             <link rel=\"stylesheet\" type=\"text/css\" href=\"https://cdnjs.cloudflare.com/ajax/libs/vega-tooltip/0.5.1/vega-tooltip.min.css\">                             <style>                             .vega-actions > a{                                 color:white;                                 text-decoration: none;                                 font-family: \"Arial\";                                 cursor:pointer;                                 padding:5px;                                 background:#AAAAAA;                                 border-radius:4px;                                 padding-left:10px;                                 padding-right:10px;                                 margin-right:5px;                             }                             .vega-actions{                                 margin-top:20px;                                 text-align:center                             }                            .vega-actions > a{                                 background:#999999;                            }                             </style>                         </head>                         <body>                             <div id=\"vis\">                             </div>                             <script>                                 var vega_json = \"{\\\"style\\\": \\\"cell\\\", \\\"axes\\\": [{\\\"scale\\\": \\\"x\\\", \\\"title\\\": \\\"CrimeRate\\\", \\\"tickCount\\\": {\\\"signal\\\": \\\"ceil(width/40)\\\"}, \\\"zindex\\\": 1, \\\"labelOverlap\\\": true, \\\"orient\\\": \\\"bottom\\\"}, {\\\"domain\\\": false, \\\"scale\\\": \\\"x\\\", \\\"ticks\\\": false, \\\"labels\\\": false, \\\"tickCount\\\": {\\\"signal\\\": \\\"ceil(width/40)\\\"}, \\\"zindex\\\": 0, \\\"grid\\\": true, \\\"minExtent\\\": 0, \\\"gridScale\\\": \\\"y\\\", \\\"orient\\\": \\\"bottom\\\", \\\"maxExtent\\\": 0}, {\\\"scale\\\": \\\"y\\\", \\\"title\\\": \\\"HousePrice\\\", \\\"tickCount\\\": {\\\"signal\\\": \\\"ceil(height/40)\\\"}, \\\"zindex\\\": 1, \\\"labelOverlap\\\": true, \\\"orient\\\": \\\"left\\\"}, {\\\"domain\\\": false, \\\"scale\\\": \\\"y\\\", \\\"ticks\\\": false, \\\"labels\\\": false, \\\"tickCount\\\": {\\\"signal\\\": \\\"ceil(height/40)\\\"}, \\\"zindex\\\": 0, \\\"grid\\\": true, \\\"minExtent\\\": 0, \\\"gridScale\\\": \\\"x\\\", \\\"orient\\\": \\\"left\\\", \\\"maxExtent\\\": 0}], \\\"title\\\": \\\"Scatter Plot\\\", \\\"config\\\": {\\\"style\\\": {\\\"cell\\\": {\\\"stroke\\\": \\\"transparent\\\"}, \\\"rect\\\": {\\\"stroke\\\": \\\"rgba(200, 200, 200, 0.5)\\\"}, \\\"group-title\\\": {\\\"fontWeight\\\": \\\"normal\\\", \\\"font\\\": \\\"HelveticaNeue, Arial\\\", \\\"fontSize\\\": 29, \\\"fill\\\": \\\"rgba(0,0,0,0.65)\\\"}}, \\\"title\\\": {\\\"color\\\": \\\"rgba(0,0,0,0.847)\\\", \\\"fontWeight\\\": \\\"normal\\\", \\\"font\\\": \\\"\\\\\\\"San Francisco\\\\\\\", HelveticaNeue, Arial\\\", \\\"fontSize\\\": 18, \\\"offset\\\": 30}, \\\"axisY\\\": {\\\"minExtent\\\": 30}, \\\"range\\\": {\\\"heatmap\\\": {\\\"scheme\\\": \\\"greenblue\\\"}}, \\\"legend\\\": {\\\"labelFont\\\": \\\"\\\\\\\"San Francisco\\\\\\\", HelveticaNeue, Arial\\\", \\\"labelColor\\\": \\\"rgba(0,0,0,0.847)\\\", \\\"titleFont\\\": \\\"\\\\\\\"San Francisco\\\\\\\", HelveticaNeue, Arial\\\", \\\"cornerRadius\\\": 30, \\\"titleColor\\\": \\\"rgba(0,0,0,0.847)\\\", \\\"gradientLength\\\": 608}, \\\"axis\\\": {\\\"titlePadding\\\": 20, \\\"titleColor\\\": \\\"rgba(0,0,0,0.847)\\\", \\\"titleFont\\\": \\\"\\\\\\\"San Francisco\\\\\\\", HelveticaNeue, Arial\\\", \\\"labelPadding\\\": 10, \\\"labelFont\\\": \\\"\\\\\\\"San Francisco\\\\\\\", HelveticaNeue, Arial\\\", \\\"labelFontSize\\\": 12, \\\"labelColor\\\": \\\"rgba(0,0,0,0.847)\\\", \\\"gridColor\\\": \\\"rgba(204,204,204,1.0)\\\", \\\"titleFontSize\\\": 14, \\\"tickColor\\\": \\\"rgb(136,136,136)\\\", \\\"titleFontWeight\\\": \\\"normal\\\"}}, \\\"scales\\\": [{\\\"domain\\\": {\\\"field\\\": \\\"x\\\", \\\"data\\\": \\\"source_2\\\"}, \\\"name\\\": \\\"x\\\", \\\"zero\\\": true, \\\"range\\\": [0, {\\\"signal\\\": \\\"width\\\"}], \\\"type\\\": \\\"linear\\\", \\\"nice\\\": true}, {\\\"domain\\\": {\\\"field\\\": \\\"y\\\", \\\"data\\\": \\\"source_2\\\"}, \\\"name\\\": \\\"y\\\", \\\"zero\\\": true, \\\"range\\\": [{\\\"signal\\\": \\\"height\\\"}, 0], \\\"type\\\": \\\"linear\\\", \\\"nice\\\": true}], \\\"autosize\\\": {\\\"contains\\\": \\\"padding\\\", \\\"type\\\": \\\"fit\\\", \\\"resize\\\": false}, \\\"height\\\": 550, \\\"padding\\\": 8, \\\"width\\\": 720, \\\"marks\\\": [{\\\"encode\\\": {\\\"hover\\\": {\\\"fill\\\": {\\\"value\\\": \\\"#7EC2F3\\\"}}, \\\"update\\\": {\\\"y\\\": {\\\"field\\\": \\\"y\\\", \\\"scale\\\": \\\"y\\\", \\\"title\\\": \\\"Miles per Gallon\\\"}, \\\"x\\\": {\\\"field\\\": \\\"x\\\", \\\"scale\\\": \\\"x\\\"}, \\\"shape\\\": {\\\"value\\\": \\\"circle\\\"}, \\\"opacity\\\": {\\\"value\\\": 0.7}, \\\"fill\\\": {\\\"value\\\": \\\"#108EE9\\\"}}}, \\\"from\\\": {\\\"data\\\": \\\"source_2\\\"}, \\\"style\\\": [\\\"circle\\\"], \\\"type\\\": \\\"symbol\\\", \\\"name\\\": \\\"marks\\\"}], \\\"$schema\\\": \\\"https://vega.github.io/schema/vega/v4.json\\\", \\\"data\\\": [{\\\"values\\\": [{\\\"y\\\": 140463, \\\"x\\\": 29.7}, {\\\"y\\\": 113033, \\\"x\\\": 24.1}, {\\\"y\\\": 124186, \\\"x\\\": 19.5}, {\\\"y\\\": 110490, \\\"x\\\": 49.4}, {\\\"y\\\": 79124, \\\"x\\\": 54.1}, {\\\"y\\\": 92634, \\\"x\\\": 48.6}, {\\\"y\\\": 89246, \\\"x\\\": 30.8}, {\\\"y\\\": 195145, \\\"x\\\": 10.8}, {\\\"y\\\": 297342, \\\"x\\\": 20.2}, {\\\"y\\\": 264298, \\\"x\\\": 20.4}, {\\\"y\\\": 134342, \\\"x\\\": 17.3}, {\\\"y\\\": 147600, \\\"x\\\": 50.3}, {\\\"y\\\": 77370, \\\"x\\\": 34.2}, {\\\"y\\\": 170822, \\\"x\\\": 33.7}, {\\\"y\\\": 40642, \\\"x\\\": 45.7}, {\\\"y\\\": 71359, \\\"x\\\": 22.3}, {\\\"y\\\": 104923, \\\"x\\\": 48.1}, {\\\"y\\\": 190317, \\\"x\\\": 19.4}, {\\\"y\\\": 215512, \\\"x\\\": 71.9}, {\\\"y\\\": 178105, \\\"x\\\": 45.1}, {\\\"y\\\": 131025, \\\"x\\\": 31.3}, {\\\"y\\\": 149844, \\\"x\\\": 24.9}, {\\\"y\\\": 170556, \\\"x\\\": 27.2}, {\\\"y\\\": 280969, \\\"x\\\": 17.7}, {\\\"y\\\": 114233, \\\"x\\\": 29.0}, {\\\"y\\\": 74502, \\\"x\\\": 21.4}, {\\\"y\\\": 475112, \\\"x\\\": 28.6}, {\\\"y\\\": 97167, \\\"x\\\": 29.3}, {\\\"y\\\": 114572, \\\"x\\\": 17.5}, {\\\"y\\\": 436348, \\\"x\\\": 16.5}, {\\\"y\\\": 389302, \\\"x\\\": 17.8}, {\\\"y\\\": 122392, \\\"x\\\": 17.3}, {\\\"y\\\": 130436, \\\"x\\\": 31.2}, {\\\"y\\\": 272790, \\\"x\\\": 14.5}, {\\\"y\\\": 194435, \\\"x\\\": 15.7}, {\\\"y\\\": 299621, \\\"x\\\": 28.6}, {\\\"y\\\": 210884, \\\"x\\\": 20.8}, {\\\"y\\\": 112471, \\\"x\\\": 29.3}, {\\\"y\\\": 93738, \\\"x\\\": 19.3}, {\\\"y\\\": 121024, \\\"x\\\": 39.5}, {\\\"y\\\": 156035, \\\"x\\\": 13.0}, {\\\"y\\\": 185404, \\\"x\\\": 24.1}, {\\\"y\\\": 126160, \\\"x\\\": 38.0}, {\\\"y\\\": 143072, \\\"x\\\": 40.1}, {\\\"y\\\": 96769, \\\"x\\\": 36.1}, {\\\"y\\\": 94014, \\\"x\\\": 26.6}, {\\\"y\\\": 118214, \\\"x\\\": 25.1}, {\\\"y\\\": 157446, \\\"x\\\": 14.6}, {\\\"y\\\": 150283, \\\"x\\\": 18.2}, {\\\"y\\\": 153842, \\\"x\\\": 15.3}, {\\\"y\\\": 197214, \\\"x\\\": 15.2}, {\\\"y\\\": 206127, \\\"x\\\": 17.4}, {\\\"y\\\": 71981, \\\"x\\\": 73.3}, {\\\"y\\\": 169401, \\\"x\\\": 7.1}, {\\\"y\\\": 99843, \\\"x\\\": 12.5}, {\\\"y\\\": 60000, \\\"x\\\": 45.8}, {\\\"y\\\": 28000, \\\"x\\\": 44.9}, {\\\"y\\\": 60000, \\\"x\\\": 65.0}, {\\\"y\\\": 61800, \\\"x\\\": 49.9}, {\\\"y\\\": 38000, \\\"x\\\": 54.8}, {\\\"y\\\": 38000, \\\"x\\\": 53.5}, {\\\"y\\\": 42000, \\\"x\\\": 69.9}, {\\\"y\\\": 103087, \\\"x\\\": 24.6}, {\\\"y\\\": 147720, \\\"x\\\": 58.6}, {\\\"y\\\": 78175, \\\"x\\\": 53.2}, {\\\"y\\\": 92215, \\\"x\\\": 17.4}, {\\\"y\\\": 271804, \\\"x\\\": 15.5}, {\\\"y\\\": 119566, \\\"x\\\": 14.5}, {\\\"y\\\": 100231, \\\"x\\\": 24.1}, {\\\"y\\\": 95831, \\\"x\\\": 21.2}, {\\\"y\\\": 229711, \\\"x\\\": 9.8}, {\\\"y\\\": 74308, \\\"x\\\": 29.9}, {\\\"y\\\": 259506, \\\"x\\\": 7.2}, {\\\"y\\\": 159573, \\\"x\\\": 19.4}, {\\\"y\\\": 147176, \\\"x\\\": 41.1}, {\\\"y\\\": 205732, \\\"x\\\": 11.2}, {\\\"y\\\": 215783, \\\"x\\\": 21.2}, {\\\"y\\\": 116710, \\\"x\\\": 42.8}, {\\\"y\\\": 359112, \\\"x\\\": 9.4}, {\\\"y\\\": 189959, \\\"x\\\": 61.7}, {\\\"y\\\": 133198, \\\"x\\\": 19.4}, {\\\"y\\\": 242821, \\\"x\\\": 6.6}, {\\\"y\\\": 142811, \\\"x\\\": 15.9}, {\\\"y\\\": 200498, \\\"x\\\": 18.8}, {\\\"y\\\": 199065, \\\"x\\\": 13.2}, {\\\"y\\\": 93648, \\\"x\\\": 34.5}, {\\\"y\\\": 163001, \\\"x\\\": 22.1}, {\\\"y\\\": 436348, \\\"x\\\": 22.1}, {\\\"y\\\": 124478, \\\"x\\\": 71.9}, {\\\"y\\\": 168276, \\\"x\\\": 31.9}, {\\\"y\\\": 114157, \\\"x\\\": 44.6}, {\\\"y\\\": 130088, \\\"x\\\": 28.6}, {\\\"y\\\": 152624, \\\"x\\\": 24.0}, {\\\"y\\\": 174232, \\\"x\\\": 13.8}, {\\\"y\\\": 196515, \\\"x\\\": 29.9}, {\\\"y\\\": 232714, \\\"x\\\": 9.9}, {\\\"y\\\": 245920, \\\"x\\\": 22.6}, {\\\"y\\\": 130953, \\\"x\\\": 13.0}], \\\"name\\\": \\\"source_2\\\"}]}\";                                 var vega_json_parsed = JSON.parse(vega_json);                                 var toolTipOpts = {                                     showAllFields: true                                 };                                 if(vega_json_parsed[\"metadata\"] != null){                                     if(vega_json_parsed[\"metadata\"][\"bubbleOpts\"] != null){                                         toolTipOpts = vega_json_parsed[\"metadata\"][\"bubbleOpts\"];                                     };                                 };                                 vegaEmbed(\"#vis\", vega_json_parsed).then(function (result) {                                     vegaTooltip.vega(result.view, toolTipOpts);                                  });                             </script>                         </body>                     </html>' src=\"demo_iframe_srcdoc.htm\">                         <p>Your browser does not support iframes.</p>                     </iframe>                 </body>             </html>"
      ],
      "text/plain": [
       "<IPython.core.display.HTML object>"
      ]
     },
     "metadata": {},
     "output_type": "display_data"
    }
   ],
   "source": [
    "# sales_noCC.show(view=\"Scatter Plot\", x=\"CrimeRate\", y=\"HousePrice\")\n",
    "tc.show(sales_noCC['CrimeRate'], sales_noCC['HousePrice'],\n",
    "           xlabel=\"CrimeRate\",\n",
    "           ylabel=\"HousePrice\",\n",
    "           title=\"Scatter Plot\")"
   ]
  },
  {
   "cell_type": "code",
   "execution_count": 30,
   "metadata": {},
   "outputs": [
    {
     "data": {
      "text/html": [
       "<pre>Materializing X axis SArray</pre>"
      ],
      "text/plain": [
       "Materializing X axis SArray"
      ]
     },
     "metadata": {},
     "output_type": "display_data"
    },
    {
     "data": {
      "text/html": [
       "<pre>Materializing Y axis SArray</pre>"
      ],
      "text/plain": [
       "Materializing Y axis SArray"
      ]
     },
     "metadata": {},
     "output_type": "display_data"
    },
    {
     "data": {
      "text/html": [
       "<html>                 <body>                     <iframe style=\"border:0;margin:0\" width=\"920\" height=\"770\" srcdoc='<html lang=\"en\">                         <head>                             <script src=\"https://cdnjs.cloudflare.com/ajax/libs/vega/3.0.8/vega.js\"></script>                             <script src=\"https://cdnjs.cloudflare.com/ajax/libs/vega-embed/3.0.0-rc7/vega-embed.js\"></script>                             <script src=\"https://cdnjs.cloudflare.com/ajax/libs/vega-tooltip/0.5.1/vega-tooltip.min.js\"></script>                             <link rel=\"stylesheet\" type=\"text/css\" href=\"https://cdnjs.cloudflare.com/ajax/libs/vega-tooltip/0.5.1/vega-tooltip.min.css\">                             <style>                             .vega-actions > a{                                 color:white;                                 text-decoration: none;                                 font-family: \"Arial\";                                 cursor:pointer;                                 padding:5px;                                 background:#AAAAAA;                                 border-radius:4px;                                 padding-left:10px;                                 padding-right:10px;                                 margin-right:5px;                             }                             .vega-actions{                                 margin-top:20px;                                 text-align:center                             }                            .vega-actions > a{                                 background:#999999;                            }                             </style>                         </head>                         <body>                             <div id=\"vis\">                             </div>                             <script>                                 var vega_json = \"{\\\"style\\\": \\\"cell\\\", \\\"axes\\\": [{\\\"scale\\\": \\\"x\\\", \\\"title\\\": \\\"CrimeRate\\\", \\\"tickCount\\\": {\\\"signal\\\": \\\"ceil(width/40)\\\"}, \\\"zindex\\\": 1, \\\"labelOverlap\\\": true, \\\"orient\\\": \\\"bottom\\\"}, {\\\"domain\\\": false, \\\"scale\\\": \\\"x\\\", \\\"ticks\\\": false, \\\"labels\\\": false, \\\"tickCount\\\": {\\\"signal\\\": \\\"ceil(width/40)\\\"}, \\\"zindex\\\": 0, \\\"grid\\\": true, \\\"minExtent\\\": 0, \\\"gridScale\\\": \\\"y\\\", \\\"orient\\\": \\\"bottom\\\", \\\"maxExtent\\\": 0}, {\\\"scale\\\": \\\"y\\\", \\\"title\\\": \\\"MilesPhila\\\", \\\"tickCount\\\": {\\\"signal\\\": \\\"ceil(height/40)\\\"}, \\\"zindex\\\": 1, \\\"labelOverlap\\\": true, \\\"orient\\\": \\\"left\\\"}, {\\\"domain\\\": false, \\\"scale\\\": \\\"y\\\", \\\"ticks\\\": false, \\\"labels\\\": false, \\\"tickCount\\\": {\\\"signal\\\": \\\"ceil(height/40)\\\"}, \\\"zindex\\\": 0, \\\"grid\\\": true, \\\"minExtent\\\": 0, \\\"gridScale\\\": \\\"x\\\", \\\"orient\\\": \\\"left\\\", \\\"maxExtent\\\": 0}], \\\"title\\\": \\\"Scatter Plot\\\", \\\"config\\\": {\\\"style\\\": {\\\"cell\\\": {\\\"stroke\\\": \\\"transparent\\\"}, \\\"rect\\\": {\\\"stroke\\\": \\\"rgba(200, 200, 200, 0.5)\\\"}, \\\"group-title\\\": {\\\"fontWeight\\\": \\\"normal\\\", \\\"font\\\": \\\"HelveticaNeue, Arial\\\", \\\"fontSize\\\": 29, \\\"fill\\\": \\\"rgba(0,0,0,0.65)\\\"}}, \\\"title\\\": {\\\"color\\\": \\\"rgba(0,0,0,0.847)\\\", \\\"fontWeight\\\": \\\"normal\\\", \\\"font\\\": \\\"\\\\\\\"San Francisco\\\\\\\", HelveticaNeue, Arial\\\", \\\"fontSize\\\": 18, \\\"offset\\\": 30}, \\\"axisY\\\": {\\\"minExtent\\\": 30}, \\\"range\\\": {\\\"heatmap\\\": {\\\"scheme\\\": \\\"greenblue\\\"}}, \\\"legend\\\": {\\\"labelFont\\\": \\\"\\\\\\\"San Francisco\\\\\\\", HelveticaNeue, Arial\\\", \\\"labelColor\\\": \\\"rgba(0,0,0,0.847)\\\", \\\"titleFont\\\": \\\"\\\\\\\"San Francisco\\\\\\\", HelveticaNeue, Arial\\\", \\\"cornerRadius\\\": 30, \\\"titleColor\\\": \\\"rgba(0,0,0,0.847)\\\", \\\"gradientLength\\\": 608}, \\\"axis\\\": {\\\"titlePadding\\\": 20, \\\"titleColor\\\": \\\"rgba(0,0,0,0.847)\\\", \\\"titleFont\\\": \\\"\\\\\\\"San Francisco\\\\\\\", HelveticaNeue, Arial\\\", \\\"labelPadding\\\": 10, \\\"labelFont\\\": \\\"\\\\\\\"San Francisco\\\\\\\", HelveticaNeue, Arial\\\", \\\"labelFontSize\\\": 12, \\\"labelColor\\\": \\\"rgba(0,0,0,0.847)\\\", \\\"gridColor\\\": \\\"rgba(204,204,204,1.0)\\\", \\\"titleFontSize\\\": 14, \\\"tickColor\\\": \\\"rgb(136,136,136)\\\", \\\"titleFontWeight\\\": \\\"normal\\\"}}, \\\"scales\\\": [{\\\"domain\\\": {\\\"field\\\": \\\"x\\\", \\\"data\\\": \\\"source_2\\\"}, \\\"name\\\": \\\"x\\\", \\\"zero\\\": true, \\\"range\\\": [0, {\\\"signal\\\": \\\"width\\\"}], \\\"type\\\": \\\"linear\\\", \\\"nice\\\": true}, {\\\"domain\\\": {\\\"field\\\": \\\"y\\\", \\\"data\\\": \\\"source_2\\\"}, \\\"name\\\": \\\"y\\\", \\\"zero\\\": true, \\\"range\\\": [{\\\"signal\\\": \\\"height\\\"}, 0], \\\"type\\\": \\\"linear\\\", \\\"nice\\\": true}], \\\"autosize\\\": {\\\"contains\\\": \\\"padding\\\", \\\"type\\\": \\\"fit\\\", \\\"resize\\\": false}, \\\"height\\\": 550, \\\"padding\\\": 8, \\\"width\\\": 720, \\\"marks\\\": [{\\\"encode\\\": {\\\"hover\\\": {\\\"fill\\\": {\\\"value\\\": \\\"#7EC2F3\\\"}}, \\\"update\\\": {\\\"y\\\": {\\\"field\\\": \\\"y\\\", \\\"scale\\\": \\\"y\\\", \\\"title\\\": \\\"Miles per Gallon\\\"}, \\\"x\\\": {\\\"field\\\": \\\"x\\\", \\\"scale\\\": \\\"x\\\"}, \\\"shape\\\": {\\\"value\\\": \\\"circle\\\"}, \\\"opacity\\\": {\\\"value\\\": 0.7}, \\\"fill\\\": {\\\"value\\\": \\\"#108EE9\\\"}}}, \\\"from\\\": {\\\"data\\\": \\\"source_2\\\"}, \\\"style\\\": [\\\"circle\\\"], \\\"type\\\": \\\"symbol\\\", \\\"name\\\": \\\"marks\\\"}], \\\"$schema\\\": \\\"https://vega.github.io/schema/vega/v4.json\\\", \\\"data\\\": [{\\\"values\\\": [{\\\"y\\\": 10.0, \\\"x\\\": 29.7}, {\\\"y\\\": 18.0, \\\"x\\\": 24.1}, {\\\"y\\\": 25.0, \\\"x\\\": 19.5}, {\\\"y\\\": 25.0, \\\"x\\\": 49.4}, {\\\"y\\\": 19.0, \\\"x\\\": 54.1}, {\\\"y\\\": 20.0, \\\"x\\\": 48.6}, {\\\"y\\\": 15.0, \\\"x\\\": 30.8}, {\\\"y\\\": 20.0, \\\"x\\\": 10.8}, {\\\"y\\\": 14.0, \\\"x\\\": 20.2}, {\\\"y\\\": 26.0, \\\"x\\\": 20.4}, {\\\"y\\\": 31.0, \\\"x\\\": 17.3}, {\\\"y\\\": 9.0, \\\"x\\\": 50.3}, {\\\"y\\\": 10.0, \\\"x\\\": 34.2}, {\\\"y\\\": 32.0, \\\"x\\\": 33.7}, {\\\"y\\\": 15.0, \\\"x\\\": 45.7}, {\\\"y\\\": 8.0, \\\"x\\\": 22.3}, {\\\"y\\\": 21.0, \\\"x\\\": 48.1}, {\\\"y\\\": 26.0, \\\"x\\\": 19.4}, {\\\"y\\\": 26.0, \\\"x\\\": 71.9}, {\\\"y\\\": 25.0, \\\"x\\\": 45.1}, {\\\"y\\\": 19.0, \\\"x\\\": 31.3}, {\\\"y\\\": 22.0, \\\"x\\\": 24.9}, {\\\"y\\\": 30.0, \\\"x\\\": 27.2}, {\\\"y\\\": 14.0, \\\"x\\\": 17.7}, {\\\"y\\\": 30.0, \\\"x\\\": 29.0}, {\\\"y\\\": 15.0, \\\"x\\\": 21.4}, {\\\"y\\\": 12.0, \\\"x\\\": 28.6}, {\\\"y\\\": 10.0, \\\"x\\\": 29.3}, {\\\"y\\\": 20.0, \\\"x\\\": 17.5}, {\\\"y\\\": 10.0, \\\"x\\\": 16.5}, {\\\"y\\\": 20.0, \\\"x\\\": 17.8}, {\\\"y\\\": 10.0, \\\"x\\\": 17.3}, {\\\"y\\\": 17.0, \\\"x\\\": 31.2}, {\\\"y\\\": 20.0, \\\"x\\\": 14.5}, {\\\"y\\\": 32.0, \\\"x\\\": 15.7}, {\\\"y\\\": 10.0, \\\"x\\\": 28.6}, {\\\"y\\\": 20.0, \\\"x\\\": 20.8}, {\\\"y\\\": 35.0, \\\"x\\\": 29.3}, {\\\"y\\\": 7.0, \\\"x\\\": 19.3}, {\\\"y\\\": 35.0, \\\"x\\\": 39.5}, {\\\"y\\\": 23.0, \\\"x\\\": 13.0}, {\\\"y\\\": 10.0, \\\"x\\\": 24.1}, {\\\"y\\\": 20.0, \\\"x\\\": 38.0}, {\\\"y\\\": 23.0, \\\"x\\\": 40.1}, {\\\"y\\\": 15.0, \\\"x\\\": 36.1}, {\\\"y\\\": 14.0, \\\"x\\\": 26.6}, {\\\"y\\\": 25.0, \\\"x\\\": 25.1}, {\\\"y\\\": 15.0, \\\"x\\\": 14.6}, {\\\"y\\\": 15.0, \\\"x\\\": 18.2}, {\\\"y\\\": 23.0, \\\"x\\\": 15.3}, {\\\"y\\\": 25.0, \\\"x\\\": 15.2}, {\\\"y\\\": 15.0, \\\"x\\\": 17.4}, {\\\"y\\\": 19.0, \\\"x\\\": 73.3}, {\\\"y\\\": 22.0, \\\"x\\\": 7.1}, {\\\"y\\\": 12.0, \\\"x\\\": 12.5}, {\\\"y\\\": 18.0, \\\"x\\\": 45.8}, {\\\"y\\\": 5.5, \\\"x\\\": 44.9}, {\\\"y\\\": 9.0, \\\"x\\\": 65.0}, {\\\"y\\\": 9.0, \\\"x\\\": 49.9}, {\\\"y\\\": 4.5, \\\"x\\\": 54.8}, {\\\"y\\\": 2.0, \\\"x\\\": 53.5}, {\\\"y\\\": 4.0, \\\"x\\\": 69.9}, {\\\"y\\\": 24.0, \\\"x\\\": 24.6}, {\\\"y\\\": 25.0, \\\"x\\\": 58.6}, {\\\"y\\\": 41.0, \\\"x\\\": 53.2}, {\\\"y\\\": 14.0, \\\"x\\\": 17.4}, {\\\"y\\\": 17.0, \\\"x\\\": 15.5}, {\\\"y\\\": 12.0, \\\"x\\\": 14.5}, {\\\"y\\\": 15.0, \\\"x\\\": 24.1}, {\\\"y\\\": 32.0, \\\"x\\\": 21.2}, {\\\"y\\\": 22.0, \\\"x\\\": 9.8}, {\\\"y\\\": 7.0, \\\"x\\\": 29.9}, {\\\"y\\\": 40.0, \\\"x\\\": 7.2}, {\\\"y\\\": 15.0, \\\"x\\\": 19.4}, {\\\"y\\\": 12.0, \\\"x\\\": 41.1}, {\\\"y\\\": 12.0, \\\"x\\\": 11.2}, {\\\"y\\\": 20.0, \\\"x\\\": 21.2}, {\\\"y\\\": 20.0, \\\"x\\\": 42.8}, {\\\"y\\\": 36.0, \\\"x\\\": 9.4}, {\\\"y\\\": 22.0, \\\"x\\\": 61.7}, {\\\"y\\\": 22.0, \\\"x\\\": 19.4}, {\\\"y\\\": 21.0, \\\"x\\\": 6.6}, {\\\"y\\\": 20.0, \\\"x\\\": 15.9}, {\\\"y\\\": 36.0, \\\"x\\\": 18.8}, {\\\"y\\\": 20.0, \\\"x\\\": 13.2}, {\\\"y\\\": 8.0, \\\"x\\\": 34.5}, {\\\"y\\\": 50.0, \\\"x\\\": 22.1}, {\\\"y\\\": 15.0, \\\"x\\\": 22.1}, {\\\"y\\\": 22.0, \\\"x\\\": 71.9}, {\\\"y\\\": 26.0, \\\"x\\\": 31.9}, {\\\"y\\\": 38.0, \\\"x\\\": 44.6}, {\\\"y\\\": 19.0, \\\"x\\\": 28.6}, {\\\"y\\\": 19.0, \\\"x\\\": 24.0}, {\\\"y\\\": 25.0, \\\"x\\\": 13.8}, {\\\"y\\\": 16.0, \\\"x\\\": 29.9}, {\\\"y\\\": 21.0, \\\"x\\\": 9.9}, {\\\"y\\\": 10.0, \\\"x\\\": 22.6}, {\\\"y\\\": 24.0, \\\"x\\\": 13.0}], \\\"name\\\": \\\"source_2\\\"}]}\";                                 var vega_json_parsed = JSON.parse(vega_json);                                 var toolTipOpts = {                                     showAllFields: true                                 };                                 if(vega_json_parsed[\"metadata\"] != null){                                     if(vega_json_parsed[\"metadata\"][\"bubbleOpts\"] != null){                                         toolTipOpts = vega_json_parsed[\"metadata\"][\"bubbleOpts\"];                                     };                                 };                                 vegaEmbed(\"#vis\", vega_json_parsed).then(function (result) {                                     vegaTooltip.vega(result.view, toolTipOpts);                                  });                             </script>                         </body>                     </html>' src=\"demo_iframe_srcdoc.htm\">                         <p>Your browser does not support iframes.</p>                     </iframe>                 </body>             </html>"
      ],
      "text/plain": [
       "<IPython.core.display.HTML object>"
      ]
     },
     "metadata": {},
     "output_type": "display_data"
    }
   ],
   "source": [
    "tc.show(sales_noCC['CrimeRate'], sales_noCC['MilesPhila'],\n",
    "           xlabel=\"CrimeRate\",\n",
    "           ylabel=\"MilesPhila\",\n",
    "           title=\"Scatter Plot\")"
   ]
  },
  {
   "cell_type": "markdown",
   "metadata": {},
   "source": [
    "### Refit our simple regression model on this modified dataset:"
   ]
  },
  {
   "cell_type": "code",
   "execution_count": 20,
   "metadata": {},
   "outputs": [
    {
     "data": {
      "text/html": [
       "<pre>Linear regression:</pre>"
      ],
      "text/plain": [
       "Linear regression:"
      ]
     },
     "metadata": {},
     "output_type": "display_data"
    },
    {
     "data": {
      "text/html": [
       "<pre>--------------------------------------------------------</pre>"
      ],
      "text/plain": [
       "--------------------------------------------------------"
      ]
     },
     "metadata": {},
     "output_type": "display_data"
    },
    {
     "data": {
      "text/html": [
       "<pre>Number of examples          : 98</pre>"
      ],
      "text/plain": [
       "Number of examples          : 98"
      ]
     },
     "metadata": {},
     "output_type": "display_data"
    },
    {
     "data": {
      "text/html": [
       "<pre>Number of features          : 1</pre>"
      ],
      "text/plain": [
       "Number of features          : 1"
      ]
     },
     "metadata": {},
     "output_type": "display_data"
    },
    {
     "data": {
      "text/html": [
       "<pre>Number of unpacked features : 1</pre>"
      ],
      "text/plain": [
       "Number of unpacked features : 1"
      ]
     },
     "metadata": {},
     "output_type": "display_data"
    },
    {
     "data": {
      "text/html": [
       "<pre>Number of coefficients    : 2</pre>"
      ],
      "text/plain": [
       "Number of coefficients    : 2"
      ]
     },
     "metadata": {},
     "output_type": "display_data"
    },
    {
     "data": {
      "text/html": [
       "<pre>Starting Newton Method</pre>"
      ],
      "text/plain": [
       "Starting Newton Method"
      ]
     },
     "metadata": {},
     "output_type": "display_data"
    },
    {
     "data": {
      "text/html": [
       "<pre>--------------------------------------------------------</pre>"
      ],
      "text/plain": [
       "--------------------------------------------------------"
      ]
     },
     "metadata": {},
     "output_type": "display_data"
    },
    {
     "data": {
      "text/html": [
       "<pre>+-----------+----------+--------------+--------------------+---------------------------------+</pre>"
      ],
      "text/plain": [
       "+-----------+----------+--------------+--------------------+---------------------------------+"
      ]
     },
     "metadata": {},
     "output_type": "display_data"
    },
    {
     "data": {
      "text/html": [
       "<pre>| Iteration | Passes   | Elapsed Time | Training Max Error | Training Root-Mean-Square Error |</pre>"
      ],
      "text/plain": [
       "| Iteration | Passes   | Elapsed Time | Training Max Error | Training Root-Mean-Square Error |"
      ]
     },
     "metadata": {},
     "output_type": "display_data"
    },
    {
     "data": {
      "text/html": [
       "<pre>+-----------+----------+--------------+--------------------+---------------------------------+</pre>"
      ],
      "text/plain": [
       "+-----------+----------+--------------+--------------------+---------------------------------+"
      ]
     },
     "metadata": {},
     "output_type": "display_data"
    },
    {
     "data": {
      "text/html": [
       "<pre>| 0         | 1        | 0.000391     | 475112.000000      | 180496.705842                   |</pre>"
      ],
      "text/plain": [
       "| 0         | 1        | 0.000391     | 475112.000000      | 180496.705842                   |"
      ]
     },
     "metadata": {},
     "output_type": "display_data"
    },
    {
     "data": {
      "text/html": [
       "<pre>| 1         | 2        | 0.000997     | 315335.534886      | 78052.676125                    |</pre>"
      ],
      "text/plain": [
       "| 1         | 2        | 0.000997     | 315335.534886      | 78052.676125                    |"
      ]
     },
     "metadata": {},
     "output_type": "display_data"
    },
    {
     "data": {
      "text/html": [
       "<pre>+-----------+----------+--------------+--------------------+---------------------------------+</pre>"
      ],
      "text/plain": [
       "+-----------+----------+--------------+--------------------+---------------------------------+"
      ]
     },
     "metadata": {},
     "output_type": "display_data"
    },
    {
     "data": {
      "text/html": [
       "<pre>SUCCESS: Optimal solution found.</pre>"
      ],
      "text/plain": [
       "SUCCESS: Optimal solution found."
      ]
     },
     "metadata": {},
     "output_type": "display_data"
    },
    {
     "data": {
      "text/html": [
       "<pre></pre>"
      ],
      "text/plain": []
     },
     "metadata": {},
     "output_type": "display_data"
    }
   ],
   "source": [
    "crime_model_noCC = tc.linear_regression.create(sales_noCC, target='HousePrice', features=['CrimeRate'],validation_set=None, verbose=True)"
   ]
  },
  {
   "cell_type": "markdown",
   "metadata": {},
   "source": [
    "### Look at the fit:"
   ]
  },
  {
   "cell_type": "code",
   "execution_count": 21,
   "metadata": {},
   "outputs": [
    {
     "data": {
      "text/plain": [
       "[<matplotlib.lines.Line2D at 0x1a1e461150>,\n",
       " <matplotlib.lines.Line2D at 0x1a1e4611d0>]"
      ]
     },
     "execution_count": 21,
     "metadata": {},
     "output_type": "execute_result"
    },
    {
     "data": {
      "image/png": "[encoded data removed]",
      "text/plain": [
       "<Figure size 432x288 with 1 Axes>"
      ]
     },
     "metadata": {
      "needs_background": "light"
     },
     "output_type": "display_data"
    }
   ],
   "source": [
    "plt.plot(sales_noCC['CrimeRate'],sales_noCC['HousePrice'],'.',\n",
    "        sales_noCC['CrimeRate'],crime_model.predict(sales_noCC),'-')"
   ]
  },
  {
   "cell_type": "markdown",
   "metadata": {},
   "source": [
    "# Compare coefficients for full-data fit versus no-Center-City fit"
   ]
  },
  {
   "cell_type": "markdown",
   "metadata": {},
   "source": [
    "Visually, the fit seems different, but let's quantify this by examining the estimated coefficients of our original fit and that of the modified dataset with Center City removed."
   ]
  },
  {
   "cell_type": "code",
   "execution_count": 23,
   "metadata": {},
   "outputs": [
    {
     "data": {
      "text/html": [
       "<div style=\"max-height:1000px;max-width:1500px;overflow:auto;\"><table frame=\"box\" rules=\"cols\">\n",
       "    <tr>\n",
       "        <th style=\"padding-left: 1em; padding-right: 1em; text-align: center\">name</th>\n",
       "        <th style=\"padding-left: 1em; padding-right: 1em; text-align: center\">index</th>\n",
       "        <th style=\"padding-left: 1em; padding-right: 1em; text-align: center\">value</th>\n",
       "        <th style=\"padding-left: 1em; padding-right: 1em; text-align: center\">stderr</th>\n",
       "    </tr>\n",
       "    <tr>\n",
       "        <td style=\"padding-left: 1em; padding-right: 1em; text-align: center; vertical-align: top\">(intercept)</td>\n",
       "        <td style=\"padding-left: 1em; padding-right: 1em; text-align: center; vertical-align: top\">None</td>\n",
       "        <td style=\"padding-left: 1em; padding-right: 1em; text-align: center; vertical-align: top\">176626.046881</td>\n",
       "        <td style=\"padding-left: 1em; padding-right: 1em; text-align: center; vertical-align: top\">11245.5882187</td>\n",
       "    </tr>\n",
       "    <tr>\n",
       "        <td style=\"padding-left: 1em; padding-right: 1em; text-align: center; vertical-align: top\">CrimeRate</td>\n",
       "        <td style=\"padding-left: 1em; padding-right: 1em; text-align: center; vertical-align: top\">None</td>\n",
       "        <td style=\"padding-left: 1em; padding-right: 1em; text-align: center; vertical-align: top\">-576.804949058</td>\n",
       "        <td style=\"padding-left: 1em; padding-right: 1em; text-align: center; vertical-align: top\">226.902259495</td>\n",
       "    </tr>\n",
       "</table>\n",
       "[2 rows x 4 columns]<br/>\n",
       "</div>"
      ],
      "text/plain": [
       "Columns:\n",
       "\tname\tstr\n",
       "\tindex\tstr\n",
       "\tvalue\tfloat\n",
       "\tstderr\tfloat\n",
       "\n",
       "Rows: 2\n",
       "\n",
       "Data:\n",
       "+-------------+-------+----------------+---------------+\n",
       "|     name    | index |     value      |     stderr    |\n",
       "+-------------+-------+----------------+---------------+\n",
       "| (intercept) |  None | 176626.046881  | 11245.5882187 |\n",
       "|  CrimeRate  |  None | -576.804949058 | 226.902259495 |\n",
       "+-------------+-------+----------------+---------------+\n",
       "[2 rows x 4 columns]"
      ]
     },
     "execution_count": 23,
     "metadata": {},
     "output_type": "execute_result"
    }
   ],
   "source": [
    "crime_model.coefficients"
   ]
  },
  {
   "cell_type": "code",
   "execution_count": 24,
   "metadata": {},
   "outputs": [
    {
     "data": {
      "text/html": [
       "<div style=\"max-height:1000px;max-width:1500px;overflow:auto;\"><table frame=\"box\" rules=\"cols\">\n",
       "    <tr>\n",
       "        <th style=\"padding-left: 1em; padding-right: 1em; text-align: center\">name</th>\n",
       "        <th style=\"padding-left: 1em; padding-right: 1em; text-align: center\">index</th>\n",
       "        <th style=\"padding-left: 1em; padding-right: 1em; text-align: center\">value</th>\n",
       "        <th style=\"padding-left: 1em; padding-right: 1em; text-align: center\">stderr</th>\n",
       "    </tr>\n",
       "    <tr>\n",
       "        <td style=\"padding-left: 1em; padding-right: 1em; text-align: center; vertical-align: top\">(intercept)</td>\n",
       "        <td style=\"padding-left: 1em; padding-right: 1em; text-align: center; vertical-align: top\">None</td>\n",
       "        <td style=\"padding-left: 1em; padding-right: 1em; text-align: center; vertical-align: top\">225204.604303</td>\n",
       "        <td style=\"padding-left: 1em; padding-right: 1em; text-align: center; vertical-align: top\">16404.0247483</td>\n",
       "    </tr>\n",
       "    <tr>\n",
       "        <td style=\"padding-left: 1em; padding-right: 1em; text-align: center; vertical-align: top\">CrimeRate</td>\n",
       "        <td style=\"padding-left: 1em; padding-right: 1em; text-align: center; vertical-align: top\">None</td>\n",
       "        <td style=\"padding-left: 1em; padding-right: 1em; text-align: center; vertical-align: top\">-2287.69717443</td>\n",
       "        <td style=\"padding-left: 1em; padding-right: 1em; text-align: center; vertical-align: top\">491.537478029</td>\n",
       "    </tr>\n",
       "</table>\n",
       "[2 rows x 4 columns]<br/>\n",
       "</div>"
      ],
      "text/plain": [
       "Columns:\n",
       "\tname\tstr\n",
       "\tindex\tstr\n",
       "\tvalue\tfloat\n",
       "\tstderr\tfloat\n",
       "\n",
       "Rows: 2\n",
       "\n",
       "Data:\n",
       "+-------------+-------+----------------+---------------+\n",
       "|     name    | index |     value      |     stderr    |\n",
       "+-------------+-------+----------------+---------------+\n",
       "| (intercept) |  None | 225204.604303  | 16404.0247483 |\n",
       "|  CrimeRate  |  None | -2287.69717443 | 491.537478029 |\n",
       "+-------------+-------+----------------+---------------+\n",
       "[2 rows x 4 columns]"
      ]
     },
     "execution_count": 24,
     "metadata": {},
     "output_type": "execute_result"
    }
   ],
   "source": [
    "crime_model_noCC.coefficients"
   ]
  },
  {
   "cell_type": "markdown",
   "metadata": {},
   "source": [
    "Above: We see that for the \"no Center City\" version, per unit increase in crime, the predicted decrease in house prices is 2,287.  In contrast, for the original dataset, the drop is only 576 per unit increase in crime.  This is significantly different!"
   ]
  },
  {
   "cell_type": "markdown",
   "metadata": {},
   "source": [
    "###High leverage points: \n",
    "Center City is said to be a \"high leverage\" point because it is at an extreme x value where there are not other observations.  As a result, recalling the closed-form solution for simple regression, this point has the *potential* to dramatically change the least squares line since the center of x mass is heavily influenced by this one point and the least squares line will try to fit close to that outlying (in x) point.  If a high leverage point follows the trend of the other data, this might not have much effect.  On the other hand, if this point somehow differs, it can be strongly influential in the resulting fit.\n",
    "\n",
    "###Influential observations:  \n",
    "An influential observation is one where the removal of the point significantly changes the fit.  As discussed above, high leverage points are good candidates for being influential observations, but need not be.  Other observations that are *not* leverage points can also be influential observations (e.g., strongly outlying in y even if x is a typical value)."
   ]
  },
  {
   "cell_type": "markdown",
   "metadata": {},
   "source": [
    "# Remove high-value outlier neighborhoods and redo analysis"
   ]
  },
  {
   "cell_type": "markdown",
   "metadata": {},
   "source": [
    "Based on the discussion above, a question is whether the outlying high-value towns are strongly influencing the fit.  Let's remove them and see what happens."
   ]
  },
  {
   "cell_type": "code",
   "execution_count": 25,
   "metadata": {},
   "outputs": [
    {
     "data": {
      "text/html": [
       "<pre>Linear regression:</pre>"
      ],
      "text/plain": [
       "Linear regression:"
      ]
     },
     "metadata": {},
     "output_type": "display_data"
    },
    {
     "data": {
      "text/html": [
       "<pre>--------------------------------------------------------</pre>"
      ],
      "text/plain": [
       "--------------------------------------------------------"
      ]
     },
     "metadata": {},
     "output_type": "display_data"
    },
    {
     "data": {
      "text/html": [
       "<pre>Number of examples          : 93</pre>"
      ],
      "text/plain": [
       "Number of examples          : 93"
      ]
     },
     "metadata": {},
     "output_type": "display_data"
    },
    {
     "data": {
      "text/html": [
       "<pre>Number of features          : 1</pre>"
      ],
      "text/plain": [
       "Number of features          : 1"
      ]
     },
     "metadata": {},
     "output_type": "display_data"
    },
    {
     "data": {
      "text/html": [
       "<pre>Number of unpacked features : 1</pre>"
      ],
      "text/plain": [
       "Number of unpacked features : 1"
      ]
     },
     "metadata": {},
     "output_type": "display_data"
    },
    {
     "data": {
      "text/html": [
       "<pre>Number of coefficients    : 2</pre>"
      ],
      "text/plain": [
       "Number of coefficients    : 2"
      ]
     },
     "metadata": {},
     "output_type": "display_data"
    },
    {
     "data": {
      "text/html": [
       "<pre>Starting Newton Method</pre>"
      ],
      "text/plain": [
       "Starting Newton Method"
      ]
     },
     "metadata": {},
     "output_type": "display_data"
    },
    {
     "data": {
      "text/html": [
       "<pre>--------------------------------------------------------</pre>"
      ],
      "text/plain": [
       "--------------------------------------------------------"
      ]
     },
     "metadata": {},
     "output_type": "display_data"
    },
    {
     "data": {
      "text/html": [
       "<pre>+-----------+----------+--------------+--------------------+---------------------------------+</pre>"
      ],
      "text/plain": [
       "+-----------+----------+--------------+--------------------+---------------------------------+"
      ]
     },
     "metadata": {},
     "output_type": "display_data"
    },
    {
     "data": {
      "text/html": [
       "<pre>| Iteration | Passes   | Elapsed Time | Training Max Error | Training Root-Mean-Square Error |</pre>"
      ],
      "text/plain": [
       "| Iteration | Passes   | Elapsed Time | Training Max Error | Training Root-Mean-Square Error |"
      ]
     },
     "metadata": {},
     "output_type": "display_data"
    },
    {
     "data": {
      "text/html": [
       "<pre>+-----------+----------+--------------+--------------------+---------------------------------+</pre>"
      ],
      "text/plain": [
       "+-----------+----------+--------------+--------------------+---------------------------------+"
      ]
     },
     "metadata": {},
     "output_type": "display_data"
    },
    {
     "data": {
      "text/html": [
       "<pre>| 0         | 1        | 0.000370     | 299621.000000      | 157456.254988                   |</pre>"
      ],
      "text/plain": [
       "| 0         | 1        | 0.000370     | 299621.000000      | 157456.254988                   |"
      ]
     },
     "metadata": {},
     "output_type": "display_data"
    },
    {
     "data": {
      "text/html": [
       "<pre>| 1         | 2        | 0.000948     | 153105.996748      | 54958.023447                    |</pre>"
      ],
      "text/plain": [
       "| 1         | 2        | 0.000948     | 153105.996748      | 54958.023447                    |"
      ]
     },
     "metadata": {},
     "output_type": "display_data"
    },
    {
     "data": {
      "text/html": [
       "<pre>+-----------+----------+--------------+--------------------+---------------------------------+</pre>"
      ],
      "text/plain": [
       "+-----------+----------+--------------+--------------------+---------------------------------+"
      ]
     },
     "metadata": {},
     "output_type": "display_data"
    },
    {
     "data": {
      "text/html": [
       "<pre>SUCCESS: Optimal solution found.</pre>"
      ],
      "text/plain": [
       "SUCCESS: Optimal solution found."
      ]
     },
     "metadata": {},
     "output_type": "display_data"
    },
    {
     "data": {
      "text/html": [
       "<pre></pre>"
      ],
      "text/plain": []
     },
     "metadata": {},
     "output_type": "display_data"
    }
   ],
   "source": [
    "sales_nohighend = sales_noCC[sales_noCC['HousePrice'] < 350000] \n",
    "crime_model_nohighend = tc.linear_regression.create(sales_nohighend, target='HousePrice', features=['CrimeRate'],validation_set=None, verbose=True)"
   ]
  },
  {
   "cell_type": "markdown",
   "metadata": {},
   "source": [
    "### Do the coefficients change much?"
   ]
  },
  {
   "cell_type": "code",
   "execution_count": 26,
   "metadata": {},
   "outputs": [
    {
     "data": {
      "text/html": [
       "<div style=\"max-height:1000px;max-width:1500px;overflow:auto;\"><table frame=\"box\" rules=\"cols\">\n",
       "    <tr>\n",
       "        <th style=\"padding-left: 1em; padding-right: 1em; text-align: center\">name</th>\n",
       "        <th style=\"padding-left: 1em; padding-right: 1em; text-align: center\">index</th>\n",
       "        <th style=\"padding-left: 1em; padding-right: 1em; text-align: center\">value</th>\n",
       "        <th style=\"padding-left: 1em; padding-right: 1em; text-align: center\">stderr</th>\n",
       "    </tr>\n",
       "    <tr>\n",
       "        <td style=\"padding-left: 1em; padding-right: 1em; text-align: center; vertical-align: top\">(intercept)</td>\n",
       "        <td style=\"padding-left: 1em; padding-right: 1em; text-align: center; vertical-align: top\">None</td>\n",
       "        <td style=\"padding-left: 1em; padding-right: 1em; text-align: center; vertical-align: top\">225204.604303</td>\n",
       "        <td style=\"padding-left: 1em; padding-right: 1em; text-align: center; vertical-align: top\">16404.0247483</td>\n",
       "    </tr>\n",
       "    <tr>\n",
       "        <td style=\"padding-left: 1em; padding-right: 1em; text-align: center; vertical-align: top\">CrimeRate</td>\n",
       "        <td style=\"padding-left: 1em; padding-right: 1em; text-align: center; vertical-align: top\">None</td>\n",
       "        <td style=\"padding-left: 1em; padding-right: 1em; text-align: center; vertical-align: top\">-2287.69717443</td>\n",
       "        <td style=\"padding-left: 1em; padding-right: 1em; text-align: center; vertical-align: top\">491.537478029</td>\n",
       "    </tr>\n",
       "</table>\n",
       "[2 rows x 4 columns]<br/>\n",
       "</div>"
      ],
      "text/plain": [
       "Columns:\n",
       "\tname\tstr\n",
       "\tindex\tstr\n",
       "\tvalue\tfloat\n",
       "\tstderr\tfloat\n",
       "\n",
       "Rows: 2\n",
       "\n",
       "Data:\n",
       "+-------------+-------+----------------+---------------+\n",
       "|     name    | index |     value      |     stderr    |\n",
       "+-------------+-------+----------------+---------------+\n",
       "| (intercept) |  None | 225204.604303  | 16404.0247483 |\n",
       "|  CrimeRate  |  None | -2287.69717443 | 491.537478029 |\n",
       "+-------------+-------+----------------+---------------+\n",
       "[2 rows x 4 columns]"
      ]
     },
     "execution_count": 26,
     "metadata": {},
     "output_type": "execute_result"
    }
   ],
   "source": [
    "crime_model_noCC.coefficients"
   ]
  },
  {
   "cell_type": "code",
   "execution_count": 27,
   "metadata": {},
   "outputs": [
    {
     "data": {
      "text/html": [
       "<div style=\"max-height:1000px;max-width:1500px;overflow:auto;\"><table frame=\"box\" rules=\"cols\">\n",
       "    <tr>\n",
       "        <th style=\"padding-left: 1em; padding-right: 1em; text-align: center\">name</th>\n",
       "        <th style=\"padding-left: 1em; padding-right: 1em; text-align: center\">index</th>\n",
       "        <th style=\"padding-left: 1em; padding-right: 1em; text-align: center\">value</th>\n",
       "        <th style=\"padding-left: 1em; padding-right: 1em; text-align: center\">stderr</th>\n",
       "    </tr>\n",
       "    <tr>\n",
       "        <td style=\"padding-left: 1em; padding-right: 1em; text-align: center; vertical-align: top\">(intercept)</td>\n",
       "        <td style=\"padding-left: 1em; padding-right: 1em; text-align: center; vertical-align: top\">None</td>\n",
       "        <td style=\"padding-left: 1em; padding-right: 1em; text-align: center; vertical-align: top\">199073.589615</td>\n",
       "        <td style=\"padding-left: 1em; padding-right: 1em; text-align: center; vertical-align: top\">11932.510108</td>\n",
       "    </tr>\n",
       "    <tr>\n",
       "        <td style=\"padding-left: 1em; padding-right: 1em; text-align: center; vertical-align: top\">CrimeRate</td>\n",
       "        <td style=\"padding-left: 1em; padding-right: 1em; text-align: center; vertical-align: top\">None</td>\n",
       "        <td style=\"padding-left: 1em; padding-right: 1em; text-align: center; vertical-align: top\">-1837.71280989</td>\n",
       "        <td style=\"padding-left: 1em; padding-right: 1em; text-align: center; vertical-align: top\">351.519609261</td>\n",
       "    </tr>\n",
       "</table>\n",
       "[2 rows x 4 columns]<br/>\n",
       "</div>"
      ],
      "text/plain": [
       "Columns:\n",
       "\tname\tstr\n",
       "\tindex\tstr\n",
       "\tvalue\tfloat\n",
       "\tstderr\tfloat\n",
       "\n",
       "Rows: 2\n",
       "\n",
       "Data:\n",
       "+-------------+-------+----------------+---------------+\n",
       "|     name    | index |     value      |     stderr    |\n",
       "+-------------+-------+----------------+---------------+\n",
       "| (intercept) |  None | 199073.589615  |  11932.510108 |\n",
       "|  CrimeRate  |  None | -1837.71280989 | 351.519609261 |\n",
       "+-------------+-------+----------------+---------------+\n",
       "[2 rows x 4 columns]"
      ]
     },
     "execution_count": 27,
     "metadata": {},
     "output_type": "execute_result"
    }
   ],
   "source": [
    "crime_model_nohighend.coefficients"
   ]
  },
  {
   "cell_type": "markdown",
   "metadata": {},
   "source": [
    "Above: We see that removing the outlying high-value neighborhoods has *some* effect on the fit, but not nearly as much as our high-leverage Center City datapoint."
   ]
  },
  {
   "cell_type": "code",
   "execution_count": 29,
   "metadata": {},
   "outputs": [
    {
     "data": {
      "text/plain": [
       "[<matplotlib.lines.Line2D at 0x1a1d6f6390>,\n",
       " <matplotlib.lines.Line2D at 0x1a1d6f6410>]"
      ]
     },
     "execution_count": 29,
     "metadata": {},
     "output_type": "execute_result"
    },
    {
     "data": {
      "image/png": "[encoded data removed]",
      "text/plain": [
       "<Figure size 432x288 with 1 Axes>"
      ]
     },
     "metadata": {
      "needs_background": "light"
     },
     "output_type": "display_data"
    }
   ],
   "source": [
    "plt.plot(sales_nohighend['CrimeRate'],sales_nohighend['HousePrice'],'.',\n",
    "        sales_nohighend['CrimeRate'],crime_model_nohighend.predict(sales_nohighend),'-')"
   ]
  },
  {
   "cell_type": "markdown",
   "metadata": {},
   "source": [
    "# Quiz"
   ]
  },
  {
   "cell_type": "markdown",
   "metadata": {},
   "source": [
    "1) Assume you fit a regression model to predict house prices from square feet based on a training data set consisting of houses with square feet in the range of 1000 and 2000. In which interval would we expect predictions to do best?\n",
    "\n",
    "[0, 1000]\n",
    "\n",
    "[1000, 2000] V\n",
    "\n",
    "[2000, 3000]"
   ]
  },
  {
   "cell_type": "markdown",
   "metadata": {},
   "source": [
    "2) In a simple regression model, if you increase the input value by 1 then you expect the output to change by:\n",
    "\n",
    "\n",
    "Also 1\n",
    "\n",
    "\n",
    "The value of the slope parameter  V\n",
    "\n",
    "\n",
    "The value of the intercept parameter\n",
    "\n",
    "\n",
    "Impossible to tell"
   ]
  },
  {
   "cell_type": "markdown",
   "metadata": {},
   "source": [
    "3) Two people present you with fits of their simple regression model for predicting house prices from square feet. You discover that the estimated intercept and slopes are exactly the same. This necessarily implies that these two people fit their models on exactly the same data set.\n",
    "\n",
    "True\n",
    "\n",
    "False V"
   ]
  },
  {
   "cell_type": "markdown",
   "metadata": {},
   "source": [
    "4) You have a data set consisting of the sales prices of houses in your neighborhood, with each sale time-stamped by the month and year in which the house sold. You want to predict the average value of houses in your neighborhood over time, so you fit a simple regression model with average house price as the output and the time index (in months) as the input. Based on 10 months of data, the estimated intercept is \\\\$4569 and the estimated slope is 143 (\\\\$/month). If you extrapolate this trend forward in time, at which time index (in months) do you predict that your neighborhood's value will have doubled relative to the value at month 10? (Round to the nearest month).\n",
    "\n",
    "52"
   ]
  },
  {
   "cell_type": "markdown",
   "metadata": {},
   "source": [
    "5) Your friend in the U.S. gives you a simple regression fit for predicting house prices from square feet. The estimated intercept is -44850 and the estimated slope is 280.76. You believe that your housing market behaves very similarly, but houses are measured in square meters. To make predictions for inputs in square meters, what intercept must you use? Hint: there are 0.092903 square meters in 1 square foot.\n",
    "\n",
    "(Note: the next quiz question will ask for the slope of the new model.)\n",
    "\n",
    "-44850"
   ]
  },
  {
   "cell_type": "markdown",
   "metadata": {},
   "source": [
    "6) Your friend in the U.S. gives you a simple regression fit for predicting house prices from square feet. The estimated intercept is -44850 and the estimated slope is 280.76. You believe that your housing market behaves very similarly, but houses are measured in square meters. To make predictions for inputs in square meters, what slope must you use? Hint: there are 0.092903 square meters in 1 square foot.\n",
    "\n",
    "3022.07"
   ]
  },
  {
   "attachments": {},
   "cell_type": "markdown",
   "metadata": {},
   "source": [
    "7) Consider the following data set:\n",
    "Which bold/labeled point, if removed, will have the largest effect on the fitted regression line (dashed)?\n",
    "\n",
    "a \n",
    "\n",
    "b\n",
    "\n",
    "c\n",
    "\n",
    "d V\n",
    "\n"
   ]
  },
  {
   "cell_type": "code",
   "execution_count": null,
   "metadata": {},
   "outputs": [],
   "source": []
  }
 ],
 "metadata": {
  "kernelspec": {
   "display_name": "Python 2",
   "language": "python",
   "name": "python2"
  },
  "language_info": {
   "codemirror_mode": {
    "name": "ipython",
    "version": 2
   },
   "file_extension": ".py",
   "mimetype": "text/x-python",
   "name": "python",
   "nbconvert_exporter": "python",
   "pygments_lexer": "ipython2",
   "version": "2.7.15"
  }
 },
 "nbformat": 4,
 "nbformat_minor": 1
}
