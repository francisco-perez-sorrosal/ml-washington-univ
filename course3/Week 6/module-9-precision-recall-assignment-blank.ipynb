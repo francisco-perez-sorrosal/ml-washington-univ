{
 "cells": [
  {
   "cell_type": "markdown",
   "metadata": {},
   "source": [
    "# Exploring precision and recall\n",
    "\n",
    "The goal of this second notebook is to understand precision-recall in the context of classifiers.\n",
    "\n",
    " * Use Amazon review data in its entirety.\n",
    " * Train a logistic regression model.\n",
    " * Explore various evaluation metrics: accuracy, confusion matrix, precision, recall.\n",
    " * Explore how various metrics can be combined to produce a cost of making an error.\n",
    " * Explore precision and recall curves.\n",
    " \n",
    "Because we are using the full Amazon review dataset (not a subset of words or reviews), in this assignment we return to using GraphLab Create for its efficiency. As usual, let's start by **firing up GraphLab Create**.\n",
    "\n",
    "Make sure you have the latest version of GraphLab Create (1.8.3 or later). If you don't find the decision tree module, then you would need to upgrade graphlab-create using\n",
    "\n",
    "```\n",
    "   pip install graphlab-create --upgrade\n",
    "```\n",
    "See [this page](https://dato.com/download/) for detailed instructions on upgrading."
   ]
  },
  {
   "cell_type": "code",
   "execution_count": 6,
   "metadata": {},
   "outputs": [],
   "source": [
    "# import graphlab\n",
    "from __future__ import division\n",
    "import turicreate as graphlab\n",
    "import numpy as np\n",
    "# graphlab.canvas.set_target('ipynb')\n",
    "graphlab.visualization.set_target('gui')"
   ]
  },
  {
   "cell_type": "markdown",
   "metadata": {},
   "source": [
    "# Load amazon review dataset"
   ]
  },
  {
   "cell_type": "code",
   "execution_count": 7,
   "metadata": {},
   "outputs": [],
   "source": [
    "products = graphlab.SFrame('../amazon_baby.gl/')"
   ]
  },
  {
   "cell_type": "code",
   "execution_count": 8,
   "metadata": {},
   "outputs": [
    {
     "data": {
      "text/html": [
       "<div style=\"max-height:1000px;max-width:1500px;overflow:auto;\"><table frame=\"box\" rules=\"cols\">\n",
       "    <tr>\n",
       "        <th style=\"padding-left: 1em; padding-right: 1em; text-align: center\">name</th>\n",
       "        <th style=\"padding-left: 1em; padding-right: 1em; text-align: center\">review</th>\n",
       "        <th style=\"padding-left: 1em; padding-right: 1em; text-align: center\">rating</th>\n",
       "    </tr>\n",
       "    <tr>\n",
       "        <td style=\"padding-left: 1em; padding-right: 1em; text-align: center; vertical-align: top\">Planetwise Flannel Wipes</td>\n",
       "        <td style=\"padding-left: 1em; padding-right: 1em; text-align: center; vertical-align: top\">These flannel wipes are<br>OK, but in my opinion ...</td>\n",
       "        <td style=\"padding-left: 1em; padding-right: 1em; text-align: center; vertical-align: top\">3.0</td>\n",
       "    </tr>\n",
       "    <tr>\n",
       "        <td style=\"padding-left: 1em; padding-right: 1em; text-align: center; vertical-align: top\">Planetwise Wipe Pouch</td>\n",
       "        <td style=\"padding-left: 1em; padding-right: 1em; text-align: center; vertical-align: top\">it came early and was not<br>disappointed. i love ...</td>\n",
       "        <td style=\"padding-left: 1em; padding-right: 1em; text-align: center; vertical-align: top\">5.0</td>\n",
       "    </tr>\n",
       "    <tr>\n",
       "        <td style=\"padding-left: 1em; padding-right: 1em; text-align: center; vertical-align: top\">Annas Dream Full Quilt<br>with 2 Shams ...</td>\n",
       "        <td style=\"padding-left: 1em; padding-right: 1em; text-align: center; vertical-align: top\">Very soft and comfortable<br>and warmer than it ...</td>\n",
       "        <td style=\"padding-left: 1em; padding-right: 1em; text-align: center; vertical-align: top\">5.0</td>\n",
       "    </tr>\n",
       "    <tr>\n",
       "        <td style=\"padding-left: 1em; padding-right: 1em; text-align: center; vertical-align: top\">Stop Pacifier Sucking<br>without tears with ...</td>\n",
       "        <td style=\"padding-left: 1em; padding-right: 1em; text-align: center; vertical-align: top\">This is a product well<br>worth the purchase.  I ...</td>\n",
       "        <td style=\"padding-left: 1em; padding-right: 1em; text-align: center; vertical-align: top\">5.0</td>\n",
       "    </tr>\n",
       "    <tr>\n",
       "        <td style=\"padding-left: 1em; padding-right: 1em; text-align: center; vertical-align: top\">Stop Pacifier Sucking<br>without tears with ...</td>\n",
       "        <td style=\"padding-left: 1em; padding-right: 1em; text-align: center; vertical-align: top\">All of my kids have cried<br>non-stop when I tried to ...</td>\n",
       "        <td style=\"padding-left: 1em; padding-right: 1em; text-align: center; vertical-align: top\">5.0</td>\n",
       "    </tr>\n",
       "    <tr>\n",
       "        <td style=\"padding-left: 1em; padding-right: 1em; text-align: center; vertical-align: top\">Stop Pacifier Sucking<br>without tears with ...</td>\n",
       "        <td style=\"padding-left: 1em; padding-right: 1em; text-align: center; vertical-align: top\">When the Binky Fairy came<br>to our house, we didn&#x27;t ...</td>\n",
       "        <td style=\"padding-left: 1em; padding-right: 1em; text-align: center; vertical-align: top\">5.0</td>\n",
       "    </tr>\n",
       "    <tr>\n",
       "        <td style=\"padding-left: 1em; padding-right: 1em; text-align: center; vertical-align: top\">A Tale of Baby&#x27;s Days<br>with Peter Rabbit ...</td>\n",
       "        <td style=\"padding-left: 1em; padding-right: 1em; text-align: center; vertical-align: top\">Lovely book, it&#x27;s bound<br>tightly so you may no ...</td>\n",
       "        <td style=\"padding-left: 1em; padding-right: 1em; text-align: center; vertical-align: top\">4.0</td>\n",
       "    </tr>\n",
       "    <tr>\n",
       "        <td style=\"padding-left: 1em; padding-right: 1em; text-align: center; vertical-align: top\">Baby Tracker&amp;reg; - Daily<br>Childcare Journal, ...</td>\n",
       "        <td style=\"padding-left: 1em; padding-right: 1em; text-align: center; vertical-align: top\">Perfect for new parents.<br>We were able to keep ...</td>\n",
       "        <td style=\"padding-left: 1em; padding-right: 1em; text-align: center; vertical-align: top\">5.0</td>\n",
       "    </tr>\n",
       "    <tr>\n",
       "        <td style=\"padding-left: 1em; padding-right: 1em; text-align: center; vertical-align: top\">Baby Tracker&amp;reg; - Daily<br>Childcare Journal, ...</td>\n",
       "        <td style=\"padding-left: 1em; padding-right: 1em; text-align: center; vertical-align: top\">A friend of mine pinned<br>this product on Pinte ...</td>\n",
       "        <td style=\"padding-left: 1em; padding-right: 1em; text-align: center; vertical-align: top\">5.0</td>\n",
       "    </tr>\n",
       "    <tr>\n",
       "        <td style=\"padding-left: 1em; padding-right: 1em; text-align: center; vertical-align: top\">Baby Tracker&amp;reg; - Daily<br>Childcare Journal, ...</td>\n",
       "        <td style=\"padding-left: 1em; padding-right: 1em; text-align: center; vertical-align: top\">This has been an easy way<br>for my nanny to record ...</td>\n",
       "        <td style=\"padding-left: 1em; padding-right: 1em; text-align: center; vertical-align: top\">4.0</td>\n",
       "    </tr>\n",
       "</table>\n",
       "[183531 rows x 3 columns]<br/>Note: Only the head of the SFrame is printed.<br/>You can use print_rows(num_rows=m, num_columns=n) to print more rows and columns.\n",
       "</div>"
      ],
      "text/plain": [
       "Columns:\n",
       "\tname\tstr\n",
       "\treview\tstr\n",
       "\trating\tfloat\n",
       "\n",
       "Rows: 183531\n",
       "\n",
       "Data:\n",
       "+-------------------------------+-------------------------------+--------+\n",
       "|              name             |             review            | rating |\n",
       "+-------------------------------+-------------------------------+--------+\n",
       "|    Planetwise Flannel Wipes   | These flannel wipes are OK... |  3.0   |\n",
       "|     Planetwise Wipe Pouch     | it came early and was not ... |  5.0   |\n",
       "| Annas Dream Full Quilt wit... | Very soft and comfortable ... |  5.0   |\n",
       "| Stop Pacifier Sucking with... | This is a product well wor... |  5.0   |\n",
       "| Stop Pacifier Sucking with... | All of my kids have cried ... |  5.0   |\n",
       "| Stop Pacifier Sucking with... | When the Binky Fairy came ... |  5.0   |\n",
       "| A Tale of Baby's Days with... | Lovely book, it's bound ti... |  4.0   |\n",
       "| Baby Tracker&reg; - Daily ... | Perfect for new parents. W... |  5.0   |\n",
       "| Baby Tracker&reg; - Daily ... | A friend of mine pinned th... |  5.0   |\n",
       "| Baby Tracker&reg; - Daily ... | This has been an easy way ... |  4.0   |\n",
       "+-------------------------------+-------------------------------+--------+\n",
       "[183531 rows x 3 columns]\n",
       "Note: Only the head of the SFrame is printed.\n",
       "You can use print_rows(num_rows=m, num_columns=n) to print more rows and columns."
      ]
     },
     "execution_count": 8,
     "metadata": {},
     "output_type": "execute_result"
    }
   ],
   "source": [
    "products"
   ]
  },
  {
   "cell_type": "markdown",
   "metadata": {},
   "source": [
    "# Extract word counts and sentiments"
   ]
  },
  {
   "cell_type": "markdown",
   "metadata": {},
   "source": [
    "As in the first assignment of this course, we compute the word counts for individual words and extract positive and negative sentiments from ratings. To summarize, we perform the following:\n",
    "\n",
    "1. Remove punctuation.\n",
    "2. Remove reviews with \"neutral\" sentiment (rating 3).\n",
    "3. Set reviews with rating 4 or more to be positive and those with 2 or less to be negative."
   ]
  },
  {
   "cell_type": "code",
   "execution_count": 10,
   "metadata": {},
   "outputs": [],
   "source": [
    "def remove_punctuation(text):\n",
    "    import string\n",
    "#     return text.translate(None, string.punctuation)\n",
    "    translator = str.maketrans({key: None for key in string.punctuation})\n",
    "    return text.translate(translator)\n",
    "\n",
    "# Remove punctuation.\n",
    "review_clean = products['review'].apply(remove_punctuation)\n",
    "\n",
    "# Count words\n",
    "products['word_count'] = graphlab.text_analytics.count_words(review_clean)\n",
    "\n",
    "# Drop neutral sentiment reviews.\n",
    "products = products[products['rating'] != 3]\n",
    "\n",
    "# Positive sentiment to +1 and negative sentiment to -1\n",
    "products['sentiment'] = products['rating'].apply(lambda rating : +1 if rating > 3 else -1)"
   ]
  },
  {
   "cell_type": "markdown",
   "metadata": {},
   "source": [
    "Now, let's remember what the dataset looks like by taking a quick peek:"
   ]
  },
  {
   "cell_type": "code",
   "execution_count": 20,
   "metadata": {},
   "outputs": [
    {
     "data": {
      "text/plain": [
       "dtype: str\n",
       "Rows: 183531\n",
       "['These flannel wipes are OK but in my opinion not worth keeping  I also ordered someImse Vimse Cloth WipesOcean Blue12 countwhich are larger had a nicer softer texture and just seemed higher quality  I use cloth wipes for hands and faces and have been usingThirsties 6 Pack Fab Wipes Boyfor about 8 months now and need to replace them because they are starting to get rough and have had stink issues for a while that stripping no longer handles', 'it came early and was not disappointed i love planet wise bags and now my wipe holder it keps my osocozy wipes moist and does not leak highly recommend it', 'Very soft and comfortable and warmer than it looksfit the full size bed perfectlywould recommend to anyone looking for this type of quilt', 'This is a product well worth the purchase  I have not found anything else like this and it is a positive ingenious approach to losing the binky  What I love most about this product is how much ownership my daughter has in getting rid of the binky  She is so proud of herself and loves her little fairy  I love the artwork the chart in the back and the clever approach of this tool', 'All of my kids have cried nonstop when I tried to ween them off their pacifier until I found Thumbuddy To Loves Binky Fairy Puppet  It is an easy way to work with your kids to allow them to understand where their pacifier is going and help them part from itThis is a must buy book and a great gift for expecting parents  You will save them soo many headachesThanks for this book  You all rock', 'When the Binky Fairy came to our house we didnt have any special gift and book to help explain to her about how important it is to stop using a pacifier This book does a great job to help prepare your child for the loss of their favorite item The doll is adorable and we made lots of cute movies with the Binky Fairy telling our daughter about what happens when the Binky Fairy comes I would highly recommend this product for any parent trying to break the pacifier or thumb sucking habit', 'Lovely book its bound tightly so you may not be able to add alot of photoscards aside from the designated spaces in the book Shop around before you purchase as it is currently listed at Barnes  Noble for 2995', 'Perfect for new parents We were able to keep track of babys feeding sleep and diaper change schedule for the first two and a half months of her life Made life easier when the doctor would ask questions about habits because we had it all right there', 'A friend of mine pinned this product on Pinterest so I decided to give it a whirl It is fantastic If you are a new parent this will help you keep track of feedings diaper changes and the like', 'This has been an easy way for my nanny to record all the key events that happen with my baby when Im not at home  Would highly recommend it to someone who wants to stay informed of what your baby is up to while youre not homeThe only reason this isnt a 5 is because I think there could have been some more standarad preprinted optionsI plan on ordering another one when we run out of pages in this journal', 'I love this journal and our nanny uses it everyday to track on our daughters sleep eating and other activities The layout and design make it very easy to fill in quickly with a comments column to add in details ie we ask the nanny to specify what food she had for lunch amount of milk she took specifics of play timetummy time walk to park etc I love knowing the details of my babys day and I also use it to track weekly on overall schedule patterns and changes ie babys nap time has moved naturally as she gets olderMy only complaint is that there is no real space to communicate back to the nanny as I sometimes want to reply to the nannys comments andor leave her notes about the previous night ie Baby didnt sleep well or baby has rash etc or other instructions Please use sun screen on the baby  its hot out today that I often forget to tell her in the rush of the morning I just stick in postits now for my notes All in all I highly recommend this baby tracker', 'This book is perfect  Im a first time new mom and this book made it so easy to keep track of feedings diaper changes sleep  Definitely would recommend this for new moms  Plus its small enough that I throw in the diaper back for doctor visits', 'I originally just gave the nanny a pad of paper to write down this information for my little one She would take him to the park and leave the pad behind  I was getting incompleteinaccurate information when she wohld get home at the end of the day and try to remember napsfeedingsdiaper changes I wanted something she could take with her and also a way to better control how she reported information This was the perfect solution Now Im getting all the information I wanted There is a very helpful example of how to fill it out It also has a pouch for additional documents and a section up front for emergency contact info Each page goes from 7  6 This works for me because the nanny starts at 7am and ends before 6pm I use an app on my phone for tracking when Im with the baby I transfer the info from this notebook to my phone My only complaint the space is pretty small  they provide useful shorthand but its a little difficult to fit some of the info in the space provided Also some of the other reviews complain about the 7  6 time format This isnt a real problem for me but I suppose if you wanted to track an entire day you would have to use two pages  not too big of a deal 7am  6pm is pretty much perfect for daycarenannycaregiver situation', 'I thought keeping a simple handwritten journal would be nice  But I havent used this thing at all and heres why1 When youre breastfeeding its often nice to have your phone close by so that you can keep yourself entertained  If you are able to grab both your phone and this notebook  and a pen  consistently  and at 3 in the morning  you are more skilled than me  I dont nurse in the same place every time2 Youre also often so sleep deprived that  at least for me  Id forget to look at what time we started on a side or what side we started on  Im not perfect with the app I have either but at least I just have to mindlessly hit a button3 I really like the app I have Baby Connect  It gives me better data  For example it can tell me how long on average feedings have been taking helpful as we start to think about sleep training  It can tell me that I nursed him 177 times last month granted that serves no useful purpose other than a feeling of perverse satisfaction', 'Space for monthly photos info and a lot of useful stickers come with it It is exactly what I wanted', 'I bought this calender for myself for my second son It is very colorful and has room on each page to write height weight and what baby likes to do There is also room on each page for a photo to be placed The calender date boxes have room for a sticker and some fine writing My only complaint is that it does not have as many stickers as I would like but I just put asterisks before whatever special event happened that day I bought one for a friend as she found it very useful as well', 'I love this little calender you can keep track of all of babys firsts I like the illustrations and the stickers too', 'This was the only calender I could find for the second year I did one for the first and wanted to continue cause there are so many things to note still after they turn 1 This one was better than the first year one I got him', 'I completed a calendar for my sons first year and really enjoyed tracking all of his milestones and special moments  so much so that I wanted to continue in the second year since hes still doing amazing and fun things every day  I really like the simple layout of the calendar and while it might not have all the questions and milestone stickers you want  at least its something to keep recording all those special moments', 'We wanted to get something to keep track of our childs milestones and this is a cute option There arent many other choices out there and this does exactly what we wanted', 'I had a hard time finding a second year calendar this is the only one I came across and it is great  Large enough to write in the squares and has a spot to put that months picture in as well as some memories The first two years they change so much I like to jot everything down so I can keep track of all the big milestonesand little ones  I find it is easier to do this on a calendar vs a baby book  This way you can fill out the baby book later and have a great reference to do so', 'I only purchased a secondyear calendar for my son because I had one for my daughter I was really disappointed with the lack of selection available for secondyear calendars in general so I just got this one because it was one of the only ones Its an okay calendar The finish on the pages is glossy which makes it hard to write on with certain pens The stickers arent very cute and the pages are pretty oldfashioned looking Hopefully they will come out with some other calendars for future purchasers', 'I LOVE this calendar for recording events of my sons second year of life  There are plenty of 1st year baby calendars out there and I loved reocording events of his first year and didnt want to just stop now that he is one  Natures lullabies second year calendar is perfect for continuing on with daily record keeping  The stickers are wonderful and helped me think of milestones to record that I might not have thought of on my own  I highly recommend this calendar  Plus its super cute and brat for either gender', 'Calendar is exactly as described but I find the look of it to be very cheap  There are lots of nice stickers to use  I was just disappointed it looks so cheap', 'Wife loves this calender Comes with a lot of stickers and options to mark the firsts Includes spaces for milestone photos as well Sticker borders for photos etc it is just a very easy to use scrap booking option Especially for new moms who dont have enough time to actually sit down and haul out a ton of scrapbook supplies', 'My daughter had her 1st baby over a year ago She did receive and fill up a First Year Calendar When her son was nearing his first birthday she was looking for a Second Year Calendar to record his milestones Thanks to Amazon I was able to get this for her and she LOVES it Tender sweet art work  helpful stickers  unique pages to fill A nice keepsake A wonderful gift for a oneyear old', 'Extremely useful As a new mom tired and inexpedient not remembering how long ago baby ate this definitely helped me through the first two months', 'My son loves peek a boo at this age of 9 months so I thought this book would be perfect This book doesnt engage him enough though it seems  He does however like the cover the most if I make pretend blowkisses and peekaboo gestures with the hands and show him He also likes when I fan the hair towards his faceMaybe when hes older he will flip the flaps but right now he just likes the mirror at the end and the front cover If I flip the book through he just takes the book and shakes it around', 'One of babys first and favorite books and it is washable I gave 1 less star than perfect because Id like to see some diversity in the people  not just your typical white family ', 'I like how the book has a hook to attach it to your stroller or car seat  it wont get lost  Great way to go over family members', 'Beautiful little book  A great little short story saying I Love YouKeeps the attention of the baby and then the baby can actually turn the pages and hold on to it when you are finished interacting with it', 'This book is so worth the money It says 9 months on the box but I cant wait for my baby to be born to try to use it before Its so cute and very interactive There are flaps to open on every page', 'we just got this book for our oneyearold and she loves it  Its so nice that she cant bite chunks out of it like she can a board book or rip it like a paper one  She can chew on it pull on it and carry it all over the house  She loves the little flaps that open and is learning simple words like daddy mommy puppy etc  We love it', 'The book is colorful and is perfect for 6months and older The only thing I didnt like was the strong smell of the dyes andor material I dunked the pages in detergent Then let the book dry overnight', 'The book is cute and we are huge fans of Lamaze products however this one leaves out some family members no little brother and can possibly cause hurt feelings That said our baby loves to play with the hands hair and flaps', 'What a great book for babies  Id been looking for books which couldnt be damaged by my 10month olds droolso cloth or plastic books were my options  This book adds another level to your usual cloth booka fun flap or moving part on every page  This interactive book is perfect for my baby', 'My son loved this book as an infant  It was perfect because he would chew on his board books and destroy them but this one we didnt have that issue  I love the Lamaze series they are a lot of fun not only for the child but for the parentI liked that this book was not only teaching my son about Peek a Boo but we used it to learn names for family members like grandparents sister cat dog etc  And of course with it being a lift the flap book that was additional fun for my son as well  Hes nearly two now and he doesnt look at it as much but he still does enjoy reading it and playing with it now and again  Id say out of all the Lamaze books this one and Discovery Farm are his favorites', 'Our baby loves this book  has loved it for a while now  He enjoys when I read it to him and enjoys playing with it on his own', '', 'My son likes brushing elmos teeth Almost too nice of a book to let the kids play with haha ', 'This was a birthday present for my 2 year old grandchildren  They love this book and will sit and go through it page by page themselves   The pictures are imaginative and appeal to young children  Would buy it again', 'This bear is absolutely adorable and I would give it a 5 star rating if it actually giggled or growled like it was suppose to  I just got it in the mail the other day and was super excited when I saw how cute it was  If its something as simple as a dead battery I could handle it BUT I cant even find a place where the batteries would to  Such a disappointmentits going back and I have no gift to take down to my new Granddaughter Kenzie now', 'My baby absolutely loves Elmo and so this book seemed perfect for her  Im happy to say I was right  this book is nice and soft and beautifully illustrated so my little one takes it everywhere and reads it all of the time While Elmo is the main character of because he hides on each page other Sesame Street characters are also featured which is fun too Another great interactive Elmo centric book that I would recommend for the Sesame StreetElmo lovers is Twinkle Twinkle Elmo which is also available on Amazon for a great price', 'I bought two for recent baby showers  The book is soft and interactive great for any baby and the bright colors are beautiful  Lastly who doesnt love Elmo', 'We wanted to get another book like the Big Birds Friends softplay book and we only found the two Elmo books This one is fun but the Big Bird book has more variety and is more creative', 'This is a cute little peekaboo story book  Its soft  Its safe  And it is easy for baby to handle', 'My 3 month old son loves this book We read it over and over and he smiles and laughs every time we find Elmo and say 34peekaboo Elmo34  We have a few different soft books and this is the most colorful and fun to read And baby adores it so 5 stars for sure', 'Very cute interactive book My son loves this book The bright colorful illustrations make this great for babies  toddlers', 'Bought for granddauchildren and they play with them all the time  Love reading to them  Soft so if they fall on them they are safe When they use the Elmo book the kiss Elmo  Got when they were 9 mos now they are two and we are still having fun with them  They love to see how high they can stack the blocks before it falls over  I buy as a baby present', 'I have teething babies and these were great for entertaining the and letting them chew and droll all over the without worrying about ruining them They were great for setting them off to their side to encourage rolling over and crawling Great Christmas gift for the younger baby and didnt break the bank', 'This book is boring Nothing to stimulate my granddaughter It is a waste of money I would not recommend it', 'It is so hard to find cloth books with ACTUAL images on them So many have unrealistic portrayals of what animalsobjects look like but this one is fantastic EXACTLY what we were looking forWhen we teach our 1 year old what a lion is we want to show him a REAL lion not a drawing that looks nothing like a real lion', 'for the young child very cuteso happy they can 34 read34 something there is little or no chance of them destroyingmany happy reading memories', 'not bad but not as interesting to my 1year old as I thought Mot interactive texture etc but cute anyway', 'A friend bought me this calendar when our daughter was born  Love it  Its so fun and will be a great momento', 'Quick and Easy to keep up with all the first milestones of a little one especially for a busy firsttime Mom', 'I searched high and low for a first year calendar and settled on this one based on the reviews  I am so happy that I did  Perfect for jotting down quick memories throughout the month and remembering dates of babys 34firsts34  Will be fun to look back on  Also has spots for personalization and pictures', 'This is a very good gift for a new mother  You would want to give it to the parents as soon as baby is born so that they can start from the very beginning to chart the 34firsts34  I had one of these calendars for each of my five children  They enjoy looking up their 34firsts34 especially as they are now parents themselves', '', 'Absolutely love it and all of the Scripture in it  I purchased the Baby Boy version for my grandson when he was born and my daughterinlaw was thrilled to receive the same book again', 'Bought as a gift for my daughter in law She loved it Simple but a place to put important memories down I loved the verses at bottom of pages', 'I didnt realize this was a religious product so I almost returned it  Not that I have anything against that but some of the pages ask for favorite scripture prayers for the baby etc Wasnt sure that fir with out lifestyle but the book has all the right ages for memories so we are keeping it', 'OMGwe loved this baby book Perfect for the memories you want to remember when your little one gets bigger and starts asking questions It even had a place for foot and hand prints for when your baby is born which is the main reason why we liked this one Also it has pockets for keepsakes and little places to put first locks of hairetc So cute and is a great baby shower gift', 'Beautiful book I love it to record cherished times in my great granddaughters life with the beautiful pastel pink color', 'Really happy with this purchase I was looking for an english baby book Im French and the daddy is Flammish and this is the perfect one Lot of info to fill in  family firstsand mini pockets to preserve hair maternity braceletReally happy', 'I was pleasantly surprised upon receiving the memory book entitled  My Kindergarten Year It is the perfect way to record ones Kindergarten experience through photographs and detailed descriptions of this very important time in your childs life The questions are fun for your child to answer and record while serving its purpose for the parentId recommend this book to everyone with a Kindergartener', 'Im so glad I stumbled upon these gem My son has already started answering questions and I think it will be a great memory to look back years later to see how he answered the questions', 'The book is just a few pages long with a few words to each page  Just short enough to keep the attention of my 6 month old son  We have the Elephant as well so when hes older it will be neat to see the realization of the association between the stuffed toy and the book character', 'This is well made a very pretty  It gives a nice light and will be used for yearsI recommend it highly  It also makes a great gift', 'Try this out for a spring project Easy fun and affordable wall decals Fine quality and brightens up any room 5 ', 'The reasonSmall sizeHard to apply on the wall because most part of flower only in one pieceYou will know how waste money it is when second day morning you see all the flowers fell on the floor in a roll', 'Would not purchase again or recommend The decals were thick almost plastic like and were coming off the wall as I was applying them The would NOT stick Literally stayed stuck for about 5 minutes then started peeling off', 'I could not get these Winnie the Pooh themed wall decor stickers in New Zealand and these were a very cost effective option that I was very impressed with  They were easy to stick on and look fantastic on the wall  they dont 34look34 like stickers at all  Very professional and very seamless on the paintwork', 'Very satisfied about the product grat design it came as ir said on page  I highly reccomend the product and I follow buying more', 'very nice Divine Mercy Pendant of Jesus now on chain around my neck  Love It  Divine Mercy represents Jesuswho offers us an ocean of divine mercy  Pray to God for our country You need HIM in your lives', 'I love these wipes  They are so simple and soft and they are a great price for reusable wipes  They actually get my baby clean and dry during diaper changes  And I know that Ill find a million other uses for them after our diaper days are done  Im ordering more of them right now', 'It is nice and looks great on my wall It was just a bit smaller than what I thought but that was my fault and not taking the measurements', 'We bought the pins as my 6 year old Autistic son was able to open or break open normal safety pins we needed to use for his night time clothes  These new pins are significantly more sturdy and he hasnt learned how to open them and only once has he broken one open  I seem to recall that their shipping price was more than a bit on the high side of reasonable though given the size of the package', 'These were  good qualityworked fineheavy dutyable to be used in any way needed and filled my need as no others', 'A great safety pin that has lots of uses  Easy to find with bright colors and a great bargain for a dozen', 'While the diaper pins are attractive the metal in the pins I received are flimsy and did not hold up to the thick fabric I used them on Fortunately there was no baby involved so no little on was stuck', 'These diaper pins went to Honduras to hold the cloth diapers we also sent with the missionaries It is difficult to find diaper pins in our 34disposable34 age In Honduras they do not have 34Pampers34 They appreciated the kits we sent', 'It has been many years since we needed diaper pins but I do like to pin my socks together through the wash and have never lost one yet I was using brass dressmaker pins but they tended to open up during the wash cycle My wife suggested diaper pins and we tried them Theryre working perfectly and staying together through the washing Matter of fact they can get a little tricky to open but of course that was the idea Recommended to keep your socks 34friended up34', 'As another reviewer noted these are great for matching socks before washing  Now once the socks come out of the washer I hang them to dry with the pins still on  The socks stay on the line to dry without clothespins they just hang with one sock on each side of the line  After they are dried I just open the pin and leave it by the hamper on a shelf  As I put dirty socks into the hamper I grab a pin and use it  Has saved a lot of time and I dont have the problem of lost socks or mismatched socks on my feet  Great idea and am glad I read about this here on the reviews  Wish I had done this my whole life', 'The steel part is not strong at all unlike the old diaper pins which I still have  Very hard to work it through a thicker fabric  Would not recommend', 'I really thought I was getting a dozen pinsturns out I should have counted the pins in the pictureas there are only 10 I am sadand I think that they are overpriced I only use them to mark yarn when I crochet so I will be going back to regular safety pins', 'Like  sharp ends that pierce through my diapers easier  Dislike  the sides bend which is a pain  That said I am pushing them through older velcro tabs because the velcro on my diapers doesnt work anymore', 'These are the right color so I am happy but the steel on the needle bends easily and is not as strong as I expected I am pinning material for a dog bed with these not diapers', 'Diaper pins are hard to find locally  This is a useful item to have  no matter the purpose', 'I am pleased with the design I just wish the actual picture was bigger an putting it together doesnt make sense the numbers aligned with the branches dont make any sense compared to the picture they give you as an instruction  you have to sort of free hand I had to start it half way up my wall so it made a difference an could actually be seen  as far as it hold up I put it up about 2 weeks ago an it had not peeled off at all', 'These do not stick to the wall They start to peel as soon as you stick them to the wall', 'Was so excited to get this product for my baby girls bedroom  When I got it the back is NOT STICKY at all  Every time I walked into the bedroom I was picking up pieces off of the floor  Very very frustrating  Ended up having to super glue it to the wallvery disappointing  I wouldnt waste the time or money on it', 'I ordered this Rosary for a friend because it looked lovely in the photo and it is blessed by Pope Francis  I was not disappointed as it is just beautiful made with crystal and knotted in between the Our Fathers  I am giving this to my friend along with a copy of the novena of Our Lady Untier or Undoer of Knots for whom Pope Francis has a strong devotion  I definitely recommend this Rosary and would buy it again in a heart beat', 'An excellent value and quality for the price  Just right for wearing around the neck orattaching to a Brown Scapular or some such And the Blessing makes the Item all the more Precious', 'I was so excited to get this nativity  I have been watching it for months and I finally had an excuse to spend 2500  It is beautiful and I am very happy with the look of the item  I am not so happy about the music box  The song is WAY too fast and it had to play it through once to even recognize the song  I dont know if there is a way to slow down a music box if there is I wish someone would tell me  I still love the nativity but I am not as excited as I would be if the music had been rightBuyer beware beautiful nativity not so great music', ' I am pleased with product I love the bangles however they are a bit small Had to slid them on with lotion I like a snug fitting bangle but whew these were tough to get on If my hand was a hair bigger they wouldnt have fit They are on to stay I have small hands also I got the size for large kid small adult and they fit wrist but tough over the hand Overall satisfied with product and fast shipping', 'This was for my 2 yr old great granddaughter and she has a lot of fun playing with the set and pretend cooking', 'I like those bibs they are very useful easy to wash and dry the price is awesome My friends also like them very much', 'This bibs provided very good protections for messy eaters my grandson is a 20 months old beautiful boy who loves to eat his marinara pasta with his fingers My daughter loved this bibs pasta elbows or curls fall in the front pocket when missing the mouth Easy to wash too', 'This is such a cute ornament I collect nativity ornaments and this is perfect for my collection Cant wait to add it to my nativity tree', ... ]"
      ]
     },
     "execution_count": 20,
     "metadata": {},
     "output_type": "execute_result"
    }
   ],
   "source": [
    "review_clean"
   ]
  },
  {
   "cell_type": "code",
   "execution_count": 18,
   "metadata": {},
   "outputs": [
    {
     "name": "stdout",
     "output_type": "stream",
     "text": [
      "+-------------------------------+-------------------------------+--------+\n",
      "|              name             |             review            | rating |\n",
      "+-------------------------------+-------------------------------+--------+\n",
      "| Baby Tracker&reg; - Daily ... | This book is perfect!  I'm... |  5.0   |\n",
      "| Baby Tracker&reg; - Daily ... | I originally just gave the... |  4.0   |\n",
      "| Nature's Lullabies First Y... | Space for monthly photos, ... |  5.0   |\n",
      "| Nature's Lullabies First Y... | I bought this calender for... |  4.0   |\n",
      "| Nature's Lullabies First Y... | I love this little calende... |  5.0   |\n",
      "| Nature's Lullabies Second ... | This was the only calender... |  5.0   |\n",
      "| Nature's Lullabies Second ... | I completed a calendar for... |  4.0   |\n",
      "| Nature's Lullabies Second ... | We wanted to get something... |  5.0   |\n",
      "| Nature's Lullabies Second ... | I had a hard time finding ... |  5.0   |\n",
      "| Nature's Lullabies Second ... | I only purchased a second-... |  2.0   |\n",
      "| Nature's Lullabies Second ... | I LOVE this calendar for r... |  5.0   |\n",
      "| Nature's Lullabies Second ... | Wife loves this calender. ... |  5.0   |\n",
      "| Nature's Lullabies Second ... | My daughter had her 1st ba... |  5.0   |\n",
      "|  Baby's First Journal - Green | Extremely useful! As a new... |  5.0   |\n",
      "|  Lamaze Peekaboo, I Love You  | One of baby's first and fa... |  4.0   |\n",
      "|  Lamaze Peekaboo, I Love You  | I like how the book has a ... |  5.0   |\n",
      "|  Lamaze Peekaboo, I Love You  | Beautiful little book.  A ... |  5.0   |\n",
      "|  Lamaze Peekaboo, I Love You  | This book is so worth the ... |  5.0   |\n",
      "|  Lamaze Peekaboo, I Love You  | we just got this book for ... |  5.0   |\n",
      "|  Lamaze Peekaboo, I Love You  | The book is colorful and i... |  4.0   |\n",
      "+-------------------------------+-------------------------------+--------+\n",
      "+-------------------------------+-----------+\n",
      "|           word_count          | sentiment |\n",
      "+-------------------------------+-----------+\n",
      "| {'throw': 1, 'i': 1, 'that... |     1     |\n",
      "| {'situation': 1, 'big': 1,... |     1     |\n",
      "| {'i': 1, 'it': 2, 'come': ... |     1     |\n",
      "| {'useful': 1, 'friend': 1,... |     1     |\n",
      "| {'too': 1, 'stickers': 1, ... |     1     |\n",
      "| {'him': 1, 'got': 1, 'than... |     1     |\n",
      "| {'something': 1, 'want': 1... |     1     |\n",
      "| {'exactly': 1, 'what': 1, ... |     1     |\n",
      "| {'reference': 1, 'have': 1... |     1     |\n",
      "| {'purchasers': 1, 'future'... |     -1    |\n",
      "| {'gender': 1, 'brat': 1, '... |     1     |\n",
      "| {'supplies': 1, 'scrapbook... |     1     |\n",
      "| {'old': 1, 'oneyear': 1, '... |     1     |\n",
      "| {'months': 1, 'two': 1, 't... |     1     |\n",
      "| {'typical': 1, 'your': 1, ... |     1     |\n",
      "| {'family': 1, 'how': 1, 'w... |     1     |\n",
      "| {'interacting': 1, 'when':... |     1     |\n",
      "| {'page': 1, 'flaps': 1, 'a... |     1     |\n",
      "| {'etc': 1, 'words': 1, 'le... |     1     |\n",
      "| {'dry': 1, 'let': 1, 'over... |     1     |\n",
      "+-------------------------------+-----------+\n",
      "[20 rows x 5 columns]\n",
      "\n"
     ]
    }
   ],
   "source": [
    "products[10:30].print_rows(num_rows=20)"
   ]
  },
  {
   "cell_type": "markdown",
   "metadata": {},
   "source": [
    "## Split data into training and test sets\n",
    "\n",
    "We split the data into a 80-20 split where 80% is in the training set and 20% is in the test set."
   ]
  },
  {
   "cell_type": "code",
   "execution_count": 19,
   "metadata": {},
   "outputs": [],
   "source": [
    "train_data, test_data = products.random_split(.8, seed=1)"
   ]
  },
  {
   "cell_type": "markdown",
   "metadata": {},
   "source": [
    "## Train a logistic regression classifier\n",
    "\n",
    "We will now train a logistic regression classifier with **sentiment** as the target and **word_count** as the features. We will set `validation_set=None` to make sure everyone gets exactly the same results.  \n",
    "\n",
    "Remember, even though we now know how to implement logistic regression, we will use GraphLab Create for its efficiency at processing this Amazon dataset in its entirety.  The focus of this assignment is instead on the topic of precision and recall."
   ]
  },
  {
   "cell_type": "code",
   "execution_count": 21,
   "metadata": {
    "scrolled": true
   },
   "outputs": [
    {
     "data": {
      "text/html": [
       "<pre>Logistic regression:</pre>"
      ],
      "text/plain": [
       "Logistic regression:"
      ]
     },
     "metadata": {},
     "output_type": "display_data"
    },
    {
     "data": {
      "text/html": [
       "<pre>--------------------------------------------------------</pre>"
      ],
      "text/plain": [
       "--------------------------------------------------------"
      ]
     },
     "metadata": {},
     "output_type": "display_data"
    },
    {
     "data": {
      "text/html": [
       "<pre>Number of examples          : 133416</pre>"
      ],
      "text/plain": [
       "Number of examples          : 133416"
      ]
     },
     "metadata": {},
     "output_type": "display_data"
    },
    {
     "data": {
      "text/html": [
       "<pre>Number of classes           : 2</pre>"
      ],
      "text/plain": [
       "Number of classes           : 2"
      ]
     },
     "metadata": {},
     "output_type": "display_data"
    },
    {
     "data": {
      "text/html": [
       "<pre>Number of feature columns   : 1</pre>"
      ],
      "text/plain": [
       "Number of feature columns   : 1"
      ]
     },
     "metadata": {},
     "output_type": "display_data"
    },
    {
     "data": {
      "text/html": [
       "<pre>Number of unpacked features : 121712</pre>"
      ],
      "text/plain": [
       "Number of unpacked features : 121712"
      ]
     },
     "metadata": {},
     "output_type": "display_data"
    },
    {
     "data": {
      "text/html": [
       "<pre>Number of coefficients      : 121713</pre>"
      ],
      "text/plain": [
       "Number of coefficients      : 121713"
      ]
     },
     "metadata": {},
     "output_type": "display_data"
    },
    {
     "data": {
      "text/html": [
       "<pre>Starting L-BFGS</pre>"
      ],
      "text/plain": [
       "Starting L-BFGS"
      ]
     },
     "metadata": {},
     "output_type": "display_data"
    },
    {
     "data": {
      "text/html": [
       "<pre>--------------------------------------------------------</pre>"
      ],
      "text/plain": [
       "--------------------------------------------------------"
      ]
     },
     "metadata": {},
     "output_type": "display_data"
    },
    {
     "data": {
      "text/html": [
       "<pre>+-----------+----------+-----------+--------------+-------------------+</pre>"
      ],
      "text/plain": [
       "+-----------+----------+-----------+--------------+-------------------+"
      ]
     },
     "metadata": {},
     "output_type": "display_data"
    },
    {
     "data": {
      "text/html": [
       "<pre>| Iteration | Passes   | Step size | Elapsed Time | Training Accuracy |</pre>"
      ],
      "text/plain": [
       "| Iteration | Passes   | Step size | Elapsed Time | Training Accuracy |"
      ]
     },
     "metadata": {},
     "output_type": "display_data"
    },
    {
     "data": {
      "text/html": [
       "<pre>+-----------+----------+-----------+--------------+-------------------+</pre>"
      ],
      "text/plain": [
       "+-----------+----------+-----------+--------------+-------------------+"
      ]
     },
     "metadata": {},
     "output_type": "display_data"
    },
    {
     "data": {
      "text/html": [
       "<pre>| 0         | 1        | NaN       | 1.122379     | 0.840709          |</pre>"
      ],
      "text/plain": [
       "| 0         | 1        | NaN       | 1.122379     | 0.840709          |"
      ]
     },
     "metadata": {},
     "output_type": "display_data"
    },
    {
     "data": {
      "text/html": [
       "<pre>| 1         | 5        | 0.000002  | 1.551825     | 0.840754          |</pre>"
      ],
      "text/plain": [
       "| 1         | 5        | 0.000002  | 1.551825     | 0.840754          |"
      ]
     },
     "metadata": {},
     "output_type": "display_data"
    },
    {
     "data": {
      "text/html": [
       "<pre>| 2         | 9        | 3.000000  | 1.957912     | 0.931350          |</pre>"
      ],
      "text/plain": [
       "| 2         | 9        | 3.000000  | 1.957912     | 0.931350          |"
      ]
     },
     "metadata": {},
     "output_type": "display_data"
    },
    {
     "data": {
      "text/html": [
       "<pre>| 3         | 10       | 3.000000  | 2.108936     | 0.882046          |</pre>"
      ],
      "text/plain": [
       "| 3         | 10       | 3.000000  | 2.108936     | 0.882046          |"
      ]
     },
     "metadata": {},
     "output_type": "display_data"
    },
    {
     "data": {
      "text/html": [
       "<pre>| 4         | 11       | 3.000000  | 2.260132     | 0.954076          |</pre>"
      ],
      "text/plain": [
       "| 4         | 11       | 3.000000  | 2.260132     | 0.954076          |"
      ]
     },
     "metadata": {},
     "output_type": "display_data"
    },
    {
     "data": {
      "text/html": [
       "<pre>| 5         | 12       | 3.000000  | 2.408728     | 0.960964          |</pre>"
      ],
      "text/plain": [
       "| 5         | 12       | 3.000000  | 2.408728     | 0.960964          |"
      ]
     },
     "metadata": {},
     "output_type": "display_data"
    },
    {
     "data": {
      "text/html": [
       "<pre>| 6         | 13       | 3.000000  | 2.567088     | 0.975033          |</pre>"
      ],
      "text/plain": [
       "| 6         | 13       | 3.000000  | 2.567088     | 0.975033          |"
      ]
     },
     "metadata": {},
     "output_type": "display_data"
    },
    {
     "data": {
      "text/html": [
       "<pre>+-----------+----------+-----------+--------------+-------------------+</pre>"
      ],
      "text/plain": [
       "+-----------+----------+-----------+--------------+-------------------+"
      ]
     },
     "metadata": {},
     "output_type": "display_data"
    },
    {
     "data": {
      "text/html": [
       "<pre>TERMINATED: Terminated due to numerical difficulties.</pre>"
      ],
      "text/plain": [
       "TERMINATED: Terminated due to numerical difficulties."
      ]
     },
     "metadata": {},
     "output_type": "display_data"
    },
    {
     "data": {
      "text/html": [
       "<pre>This model may not be ideal. To improve it, consider doing one of the following:\n",
       "(a) Increasing the regularization.\n",
       "(b) Standardizing the input data.\n",
       "(c) Removing highly correlated features.\n",
       "(d) Removing `inf` and `NaN` values in the training data.</pre>"
      ],
      "text/plain": [
       "This model may not be ideal. To improve it, consider doing one of the following:\n",
       "(a) Increasing the regularization.\n",
       "(b) Standardizing the input data.\n",
       "(c) Removing highly correlated features.\n",
       "(d) Removing `inf` and `NaN` values in the training data."
      ]
     },
     "metadata": {},
     "output_type": "display_data"
    }
   ],
   "source": [
    "model = graphlab.logistic_classifier.create(train_data, target='sentiment',\n",
    "                                            features=['word_count'],\n",
    "                                            validation_set=None)"
   ]
  },
  {
   "cell_type": "markdown",
   "metadata": {},
   "source": [
    "# Model Evaluation"
   ]
  },
  {
   "cell_type": "markdown",
   "metadata": {},
   "source": [
    "We will explore the advanced model evaluation concepts that were discussed in the lectures.\n",
    "\n",
    "## Accuracy\n",
    "\n",
    "One performance metric we will use for our more advanced exploration is accuracy, which we have seen many times in past assignments.  Recall that the accuracy is given by\n",
    "\n",
    "$$\n",
    "\\mbox{accuracy} = \\frac{\\mbox{# correctly classified data points}}{\\mbox{# total data points}}\n",
    "$$\n",
    "\n",
    "To obtain the accuracy of our trained models using GraphLab Create, simply pass the option `metric='accuracy'` to the `evaluate` function. We compute the **accuracy** of our logistic regression model on the **test_data** as follows:"
   ]
  },
  {
   "cell_type": "code",
   "execution_count": 22,
   "metadata": {},
   "outputs": [
    {
     "name": "stdout",
     "output_type": "stream",
     "text": [
      "Test Accuracy: 0.9145368370530358\n"
     ]
    }
   ],
   "source": [
    "accuracy= model.evaluate(test_data, metric='accuracy')['accuracy']\n",
    "print(\"Test Accuracy: %s\" % accuracy)"
   ]
  },
  {
   "cell_type": "markdown",
   "metadata": {},
   "source": [
    "## Baseline: Majority class prediction\n",
    "\n",
    "Recall from an earlier assignment that we used the **majority class classifier** as a baseline (i.e reference) model for a point of comparison with a more sophisticated classifier. The majority classifier model predicts the majority class for all data points. \n",
    "\n",
    "Typically, a good model should beat the majority class classifier. Since the majority class in this dataset is the positive class (i.e., there are more positive than negative reviews), the accuracy of the majority class classifier can be computed as follows:"
   ]
  },
  {
   "cell_type": "code",
   "execution_count": 23,
   "metadata": {},
   "outputs": [
    {
     "name": "stdout",
     "output_type": "stream",
     "text": [
      "Baseline accuracy (majority class classifier): 0.8427825773938085\n"
     ]
    }
   ],
   "source": [
    "baseline = len(test_data[test_data['sentiment'] == 1])/len(test_data)\n",
    "print(\"Baseline accuracy (majority class classifier): %s\" % baseline)"
   ]
  },
  {
   "cell_type": "markdown",
   "metadata": {},
   "source": [
    "** Quiz Question:** Using accuracy as the evaluation metric, was our **logistic regression model** better than the baseline (majority class classifier)?\n",
    "\n",
    "Yes"
   ]
  },
  {
   "cell_type": "markdown",
   "metadata": {},
   "source": [
    "## Confusion Matrix\n",
    "\n",
    "The accuracy, while convenient, does not tell the whole story. For a fuller picture, we turn to the **confusion matrix**. In the case of binary classification, the confusion matrix is a 2-by-2 matrix laying out correct and incorrect predictions made in each label as follows:\n",
    "```\n",
    "              +---------------------------------------------+\n",
    "              |                Predicted label              |\n",
    "              +----------------------+----------------------+\n",
    "              |          (+1)        |         (-1)         |\n",
    "+-------+-----+----------------------+----------------------+\n",
    "| True  |(+1) | # of true positives  | # of false negatives |\n",
    "| label +-----+----------------------+----------------------+\n",
    "|       |(-1) | # of false positives | # of true negatives  |\n",
    "+-------+-----+----------------------+----------------------+\n",
    "```\n",
    "To print out the confusion matrix for a classifier, use `metric='confusion_matrix'`:"
   ]
  },
  {
   "cell_type": "code",
   "execution_count": 24,
   "metadata": {},
   "outputs": [
    {
     "data": {
      "text/html": [
       "<div style=\"max-height:1000px;max-width:1500px;overflow:auto;\"><table frame=\"box\" rules=\"cols\">\n",
       "    <tr>\n",
       "        <th style=\"padding-left: 1em; padding-right: 1em; text-align: center\">target_label</th>\n",
       "        <th style=\"padding-left: 1em; padding-right: 1em; text-align: center\">predicted_label</th>\n",
       "        <th style=\"padding-left: 1em; padding-right: 1em; text-align: center\">count</th>\n",
       "    </tr>\n",
       "    <tr>\n",
       "        <td style=\"padding-left: 1em; padding-right: 1em; text-align: center; vertical-align: top\">1</td>\n",
       "        <td style=\"padding-left: 1em; padding-right: 1em; text-align: center; vertical-align: top\">-1</td>\n",
       "        <td style=\"padding-left: 1em; padding-right: 1em; text-align: center; vertical-align: top\">1406</td>\n",
       "    </tr>\n",
       "    <tr>\n",
       "        <td style=\"padding-left: 1em; padding-right: 1em; text-align: center; vertical-align: top\">-1</td>\n",
       "        <td style=\"padding-left: 1em; padding-right: 1em; text-align: center; vertical-align: top\">-1</td>\n",
       "        <td style=\"padding-left: 1em; padding-right: 1em; text-align: center; vertical-align: top\">3798</td>\n",
       "    </tr>\n",
       "    <tr>\n",
       "        <td style=\"padding-left: 1em; padding-right: 1em; text-align: center; vertical-align: top\">-1</td>\n",
       "        <td style=\"padding-left: 1em; padding-right: 1em; text-align: center; vertical-align: top\">1</td>\n",
       "        <td style=\"padding-left: 1em; padding-right: 1em; text-align: center; vertical-align: top\">1443</td>\n",
       "    </tr>\n",
       "    <tr>\n",
       "        <td style=\"padding-left: 1em; padding-right: 1em; text-align: center; vertical-align: top\">1</td>\n",
       "        <td style=\"padding-left: 1em; padding-right: 1em; text-align: center; vertical-align: top\">1</td>\n",
       "        <td style=\"padding-left: 1em; padding-right: 1em; text-align: center; vertical-align: top\">26689</td>\n",
       "    </tr>\n",
       "</table>\n",
       "[4 rows x 3 columns]<br/>\n",
       "</div>"
      ],
      "text/plain": [
       "Columns:\n",
       "\ttarget_label\tint\n",
       "\tpredicted_label\tint\n",
       "\tcount\tint\n",
       "\n",
       "Rows: 4\n",
       "\n",
       "Data:\n",
       "+--------------+-----------------+-------+\n",
       "| target_label | predicted_label | count |\n",
       "+--------------+-----------------+-------+\n",
       "|      1       |        -1       |  1406 |\n",
       "|      -1      |        -1       |  3798 |\n",
       "|      -1      |        1        |  1443 |\n",
       "|      1       |        1        | 26689 |\n",
       "+--------------+-----------------+-------+\n",
       "[4 rows x 3 columns]"
      ]
     },
     "execution_count": 24,
     "metadata": {},
     "output_type": "execute_result"
    }
   ],
   "source": [
    "confusion_matrix = model.evaluate(test_data, metric='confusion_matrix')['confusion_matrix']\n",
    "confusion_matrix"
   ]
  },
  {
   "cell_type": "markdown",
   "metadata": {},
   "source": [
    "**Quiz Question**: How many predicted values in the **test set** are **false positives**?"
   ]
  },
  {
   "cell_type": "code",
   "execution_count": 25,
   "metadata": {},
   "outputs": [
    {
     "data": {
      "text/plain": [
       "1443"
      ]
     },
     "execution_count": 25,
     "metadata": {},
     "output_type": "execute_result"
    }
   ],
   "source": [
    "1443"
   ]
  },
  {
   "cell_type": "markdown",
   "metadata": {},
   "source": [
    "## Computing the cost of mistakes\n",
    "\n",
    "\n",
    "Put yourself in the shoes of a manufacturer that sells a baby product on Amazon.com and you want to monitor your product's reviews in order to respond to complaints.  Even a few negative reviews may generate a lot of bad publicity about the product. So you don't want to miss any reviews with negative sentiments --- you'd rather put up with false alarms about potentially negative reviews instead of missing negative reviews entirely. In other words, **false positives cost more than false negatives**. (It may be the other way around for other scenarios, but let's stick with the manufacturer's scenario for now.)\n",
    "\n",
    "Suppose you know the costs involved in each kind of mistake: \n",
    "1. \\$100 for each false positive.\n",
    "2. \\$1 for each false negative.\n",
    "3. Correctly classified reviews incur no cost.\n",
    "\n",
    "**Quiz Question**: Given the stipulation, what is the cost associated with the logistic regression classifier's performance on the **test set**?"
   ]
  },
  {
   "cell_type": "code",
   "execution_count": 26,
   "metadata": {},
   "outputs": [
    {
     "data": {
      "text/plain": [
       "145706"
      ]
     },
     "execution_count": 26,
     "metadata": {},
     "output_type": "execute_result"
    }
   ],
   "source": [
    "145706"
   ]
  },
  {
   "cell_type": "markdown",
   "metadata": {},
   "source": [
    "## Precision and Recall"
   ]
  },
  {
   "cell_type": "markdown",
   "metadata": {},
   "source": [
    "You may not have exact dollar amounts for each kind of mistake. Instead, you may simply prefer to reduce the percentage of false positives to be less than, say, 3.5% of all positive predictions. This is where **precision** comes in:\n",
    "\n",
    "$$\n",
    "[\\text{precision}] = \\frac{[\\text{# positive data points with positive predicitions}]}{\\text{[# all data points with positive predictions]}} = \\frac{[\\text{# true positives}]}{[\\text{# true positives}] + [\\text{# false positives}]}\n",
    "$$"
   ]
  },
  {
   "cell_type": "markdown",
   "metadata": {},
   "source": [
    "So to keep the percentage of false positives below 3.5% of positive predictions, we must raise the precision to 96.5% or higher. \n",
    "\n",
    "**First**, let us compute the precision of the logistic regression classifier on the **test_data**."
   ]
  },
  {
   "cell_type": "code",
   "execution_count": 27,
   "metadata": {},
   "outputs": [
    {
     "name": "stdout",
     "output_type": "stream",
     "text": [
      "Precision on test data: 0.9487060998151571\n"
     ]
    }
   ],
   "source": [
    "precision = model.evaluate(test_data, metric='precision')['precision']\n",
    "print(\"Precision on test data: %s\" % precision)"
   ]
  },
  {
   "cell_type": "markdown",
   "metadata": {},
   "source": [
    "**Quiz Question**: Out of all reviews in the **test set** that are predicted to be positive, what fraction of them are **false positives**? (Round to the second decimal place e.g. 0.25)"
   ]
  },
  {
   "cell_type": "code",
   "execution_count": 29,
   "metadata": {},
   "outputs": [
    {
     "data": {
      "text/plain": [
       "0.04328653707703384"
      ]
     },
     "execution_count": 29,
     "metadata": {},
     "output_type": "execute_result"
    }
   ],
   "source": [
    "1443/len(test_data)"
   ]
  },
  {
   "cell_type": "code",
   "execution_count": null,
   "metadata": {},
   "outputs": [],
   "source": []
  },
  {
   "cell_type": "markdown",
   "metadata": {},
   "source": [
    "**Quiz Question:** Based on what we learned in lecture, if we wanted to reduce this fraction of false positives to be below 3.5%, we would: (see the quiz)\n",
    "\n",
    "- Discard a sufficient number of positive predictions\n",
    "- Discard a sufficient number of negative predictions\n",
    "- Increase threshold for predicting the positive class (y^=+1) V\n",
    "- Decrease threshold for predicting the positive class (y^=+1) "
   ]
  },
  {
   "cell_type": "markdown",
   "metadata": {},
   "source": [
    "A complementary metric is **recall**, which measures the ratio between the number of true positives and that of (ground-truth) positive reviews:\n",
    "\n",
    "$$\n",
    "[\\text{recall}] = \\frac{[\\text{# positive data points with positive predicitions}]}{\\text{[# all positive data points]}} = \\frac{[\\text{# true positives}]}{[\\text{# true positives}] + [\\text{# false negatives}]}\n",
    "$$\n",
    "\n",
    "Let us compute the recall on the **test_data**."
   ]
  },
  {
   "cell_type": "code",
   "execution_count": 31,
   "metadata": {},
   "outputs": [
    {
     "name": "stdout",
     "output_type": "stream",
     "text": [
      "Recall on test data: 0.9499555080975263\n"
     ]
    }
   ],
   "source": [
    "recall = model.evaluate(test_data, metric='recall')['recall']\n",
    "print(\"Recall on test data: %s\" % recall)"
   ]
  },
  {
   "cell_type": "markdown",
   "metadata": {},
   "source": [
    "**Quiz Question**: What fraction of the positive reviews in the **test_set** were correctly predicted as positive by the classifier?"
   ]
  },
  {
   "cell_type": "code",
   "execution_count": 32,
   "metadata": {},
   "outputs": [
    {
     "data": {
      "text/plain": [
       "0.800605951523878"
      ]
     },
     "execution_count": 32,
     "metadata": {},
     "output_type": "execute_result"
    }
   ],
   "source": [
    "26689/len(test_data)"
   ]
  },
  {
   "cell_type": "markdown",
   "metadata": {},
   "source": [
    "**Quiz Question**: What is the recall value for a classifier that predicts **+1** for all data points in the **test_data**?\n",
    "\n",
    "1"
   ]
  },
  {
   "cell_type": "markdown",
   "metadata": {
    "collapsed": true
   },
   "source": [
    "# Precision-recall tradeoff\n",
    "\n",
    "In this part, we will explore the trade-off between precision and recall discussed in the lecture.  We first examine what happens when we use a different threshold value for making class predictions.  We then explore a range of threshold values and plot the associated precision-recall curve.  \n"
   ]
  },
  {
   "cell_type": "markdown",
   "metadata": {},
   "source": [
    "## Varying the threshold\n",
    "\n",
    "False positives are costly in our example, so we may want to be more conservative about making positive predictions. To achieve this, instead of thresholding class probabilities at 0.5, we can choose a higher threshold. \n",
    "\n",
    "Write a function called `apply_threshold` that accepts two things\n",
    "* `probabilities` (an SArray of probability values)\n",
    "* `threshold` (a float between 0 and 1).\n",
    "\n",
    "The function should return an SArray, where each element is set to +1 or -1 depending whether the corresponding probability exceeds `threshold`."
   ]
  },
  {
   "cell_type": "code",
   "execution_count": 33,
   "metadata": {},
   "outputs": [],
   "source": [
    "def apply_threshold(probabilities, threshold):\n",
    "    ### YOUR CODE GOES HERE\n",
    "    # +1 if >= threshold and -1 otherwise.\n",
    "    return probabilities.apply(lambda p : +1 if p >= threshold else -1)"
   ]
  },
  {
   "cell_type": "markdown",
   "metadata": {},
   "source": [
    "Run prediction with `output_type='probability'` to get the list of probability values. Then use thresholds set at 0.5 (default) and 0.9 to make predictions from these probability values."
   ]
  },
  {
   "cell_type": "code",
   "execution_count": 34,
   "metadata": {},
   "outputs": [],
   "source": [
    "probabilities = model.predict(test_data, output_type='probability')\n",
    "predictions_with_default_threshold = apply_threshold(probabilities, 0.5)\n",
    "predictions_with_high_threshold = apply_threshold(probabilities, 0.9)"
   ]
  },
  {
   "cell_type": "code",
   "execution_count": 35,
   "metadata": {},
   "outputs": [
    {
     "name": "stdout",
     "output_type": "stream",
     "text": [
      "Number of positive predicted reviews (threshold = 0.5): 28132\n"
     ]
    }
   ],
   "source": [
    "print(\"Number of positive predicted reviews (threshold = 0.5): %s\" % (predictions_with_default_threshold == 1).sum())"
   ]
  },
  {
   "cell_type": "code",
   "execution_count": 36,
   "metadata": {},
   "outputs": [
    {
     "name": "stdout",
     "output_type": "stream",
     "text": [
      "Number of positive predicted reviews (threshold = 0.9): 25630\n"
     ]
    }
   ],
   "source": [
    "print(\"Number of positive predicted reviews (threshold = 0.9): %s\" % (predictions_with_high_threshold == 1).sum())"
   ]
  },
  {
   "cell_type": "markdown",
   "metadata": {},
   "source": [
    "**Quiz Question**: What happens to the number of positive predicted reviews as the threshold increased from 0.5 to 0.9?\n",
    "\n",
    "Fewer reviews are predicted to be positive."
   ]
  },
  {
   "cell_type": "markdown",
   "metadata": {},
   "source": [
    "## Exploring the associated precision and recall as the threshold varies"
   ]
  },
  {
   "cell_type": "markdown",
   "metadata": {},
   "source": [
    "By changing the probability threshold, it is possible to influence precision and recall. We can explore this as follows:"
   ]
  },
  {
   "cell_type": "code",
   "execution_count": 37,
   "metadata": {},
   "outputs": [],
   "source": [
    "# Threshold = 0.5\n",
    "precision_with_default_threshold = graphlab.evaluation.precision(test_data['sentiment'],\n",
    "                                        predictions_with_default_threshold)\n",
    "\n",
    "recall_with_default_threshold = graphlab.evaluation.recall(test_data['sentiment'],\n",
    "                                        predictions_with_default_threshold)\n",
    "\n",
    "# Threshold = 0.9\n",
    "precision_with_high_threshold = graphlab.evaluation.precision(test_data['sentiment'],\n",
    "                                        predictions_with_high_threshold)\n",
    "recall_with_high_threshold = graphlab.evaluation.recall(test_data['sentiment'],\n",
    "                                        predictions_with_high_threshold)"
   ]
  },
  {
   "cell_type": "code",
   "execution_count": 38,
   "metadata": {},
   "outputs": [
    {
     "name": "stdout",
     "output_type": "stream",
     "text": [
      "Precision (threshold = 0.5): 0.9487060998151571\n",
      "Recall (threshold = 0.5)   : 0.9499555080975263\n"
     ]
    }
   ],
   "source": [
    "print(\"Precision (threshold = 0.5): %s\" % precision_with_default_threshold)\n",
    "print(\"Recall (threshold = 0.5)   : %s\" % recall_with_default_threshold)"
   ]
  },
  {
   "cell_type": "code",
   "execution_count": 39,
   "metadata": {},
   "outputs": [
    {
     "name": "stdout",
     "output_type": "stream",
     "text": [
      "Precision (threshold = 0.9): 0.9695278969957082\n",
      "Recall (threshold = 0.9)   : 0.8844634276561666\n"
     ]
    }
   ],
   "source": [
    "print(\"Precision (threshold = 0.9): %s\" % precision_with_high_threshold)\n",
    "print(\"Recall (threshold = 0.9)   : %s\" % recall_with_high_threshold)"
   ]
  },
  {
   "cell_type": "markdown",
   "metadata": {},
   "source": [
    "**Quiz Question (variant 1)**: Does the **precision** increase with a higher threshold?\n",
    "\n",
    "\n",
    "Yes\n",
    "\n",
    "**Quiz Question (variant 2)**: Does the **recall** increase with a higher threshold?\n",
    "\n",
    "No"
   ]
  },
  {
   "cell_type": "markdown",
   "metadata": {},
   "source": [
    "## Precision-recall curve\n",
    "\n",
    "Now, we will explore various different values of tresholds, compute the precision and recall scores, and then plot the precision-recall curve."
   ]
  },
  {
   "cell_type": "code",
   "execution_count": 40,
   "metadata": {},
   "outputs": [
    {
     "name": "stdout",
     "output_type": "stream",
     "text": [
      "[0.5        0.50505051 0.51010101 0.51515152 0.52020202 0.52525253\n",
      " 0.53030303 0.53535354 0.54040404 0.54545455 0.55050505 0.55555556\n",
      " 0.56060606 0.56565657 0.57070707 0.57575758 0.58080808 0.58585859\n",
      " 0.59090909 0.5959596  0.6010101  0.60606061 0.61111111 0.61616162\n",
      " 0.62121212 0.62626263 0.63131313 0.63636364 0.64141414 0.64646465\n",
      " 0.65151515 0.65656566 0.66161616 0.66666667 0.67171717 0.67676768\n",
      " 0.68181818 0.68686869 0.69191919 0.6969697  0.7020202  0.70707071\n",
      " 0.71212121 0.71717172 0.72222222 0.72727273 0.73232323 0.73737374\n",
      " 0.74242424 0.74747475 0.75252525 0.75757576 0.76262626 0.76767677\n",
      " 0.77272727 0.77777778 0.78282828 0.78787879 0.79292929 0.7979798\n",
      " 0.8030303  0.80808081 0.81313131 0.81818182 0.82323232 0.82828283\n",
      " 0.83333333 0.83838384 0.84343434 0.84848485 0.85353535 0.85858586\n",
      " 0.86363636 0.86868687 0.87373737 0.87878788 0.88383838 0.88888889\n",
      " 0.89393939 0.8989899  0.9040404  0.90909091 0.91414141 0.91919192\n",
      " 0.92424242 0.92929293 0.93434343 0.93939394 0.94444444 0.94949495\n",
      " 0.95454545 0.95959596 0.96464646 0.96969697 0.97474747 0.97979798\n",
      " 0.98484848 0.98989899 0.99494949 1.        ]\n"
     ]
    }
   ],
   "source": [
    "threshold_values = np.linspace(0.5, 1, num=100)\n",
    "print(threshold_values)"
   ]
  },
  {
   "cell_type": "markdown",
   "metadata": {},
   "source": [
    "For each of the values of threshold, we compute the precision and recall scores."
   ]
  },
  {
   "cell_type": "code",
   "execution_count": 46,
   "metadata": {},
   "outputs": [
    {
     "name": "stdout",
     "output_type": "stream",
     "text": [
      "Precision: 0.9653115501519757 Threshold: 0.8383838383838385\n",
      "Precision: 0.9656629487228292 Threshold: 0.8434343434343434\n",
      "Precision: 0.9659827625657844 Threshold: 0.8484848484848485\n",
      "Precision: 0.9663814180929096 Threshold: 0.8535353535353536\n",
      "Precision: 0.9667802059014887 Threshold: 0.8585858585858586\n",
      "Precision: 0.9669963201471942 Threshold: 0.8636363636363636\n",
      "Precision: 0.9673762680602521 Threshold: 0.8686868686868687\n",
      "Precision: 0.9676599676599676 Threshold: 0.8737373737373737\n",
      "Precision: 0.9679783950617284 Threshold: 0.8787878787878789\n",
      "Precision: 0.968586792525823 Threshold: 0.8838383838383839\n",
      "Precision: 0.9689609684177853 Threshold: 0.8888888888888888\n",
      "Precision: 0.9693139390168015 Threshold: 0.893939393939394\n",
      "Precision: 0.9694689230289324 Threshold: 0.898989898989899\n",
      "Precision: 0.969731336279379 Threshold: 0.9040404040404041\n",
      "Precision: 0.9699262860727729 Threshold: 0.9090909090909092\n",
      "Precision: 0.9702966401762531 Threshold: 0.9141414141414141\n",
      "Precision: 0.9708135860979463 Threshold: 0.9191919191919192\n",
      "Precision: 0.9714047751249306 Threshold: 0.9242424242424243\n",
      "Precision: 0.9720318725099601 Threshold: 0.9292929292929293\n",
      "Precision: 0.9728831210446207 Threshold: 0.9343434343434344\n",
      "Precision: 0.9734256724110163 Threshold: 0.9393939393939394\n",
      "Precision: 0.9740412262584538 Threshold: 0.9444444444444444\n",
      "Precision: 0.9744635718365016 Threshold: 0.9494949494949496\n",
      "Precision: 0.9747663936113283 Threshold: 0.9545454545454546\n",
      "Precision: 0.9754932502596054 Threshold: 0.9595959595959596\n",
      "Precision: 0.9761974728181017 Threshold: 0.9646464646464648\n",
      "Precision: 0.9768717316440627 Threshold: 0.9696969696969697\n",
      "Precision: 0.9773373545885394 Threshold: 0.9747474747474748\n",
      "Precision: 0.9785300316122234 Threshold: 0.9797979797979799\n",
      "Precision: 0.9801318522532285 Threshold: 0.9848484848484849\n",
      "Precision: 0.9813079711850841 Threshold: 0.98989898989899\n",
      "Precision: 0.9842386281959133 Threshold: 0.994949494949495\n",
      "Precision: 0.9916666666666667 Threshold: 1.0\n"
     ]
    }
   ],
   "source": [
    "precision_all = []\n",
    "recall_all = []\n",
    "\n",
    "probabilities = model.predict(test_data, output_type='probability')\n",
    "for threshold in threshold_values:\n",
    "    predictions = apply_threshold(probabilities, threshold)\n",
    "    \n",
    "    precision = graphlab.evaluation.precision(test_data['sentiment'], predictions)\n",
    "    if precision >= 0.965:\n",
    "        print(\"Precision: {} Threshold: {}\".format(precision, threshold))\n",
    "    recall = graphlab.evaluation.recall(test_data['sentiment'], predictions)\n",
    "    \n",
    "    precision_all.append(precision)\n",
    "    recall_all.append(recall)"
   ]
  },
  {
   "cell_type": "markdown",
   "metadata": {},
   "source": [
    "Now, let's plot the precision-recall curve to visualize the precision-recall tradeoff as we vary the threshold."
   ]
  },
  {
   "cell_type": "code",
   "execution_count": 44,
   "metadata": {},
   "outputs": [
    {
     "data": {
      "image/png": "[encoded data removed]",
      "text/plain": [
       "<Figure size 504x360 with 1 Axes>"
      ]
     },
     "metadata": {
      "needs_background": "light"
     },
     "output_type": "display_data"
    }
   ],
   "source": [
    "import matplotlib.pyplot as plt\n",
    "%matplotlib inline\n",
    "\n",
    "def plot_pr_curve(precision, recall, title):\n",
    "    plt.rcParams['figure.figsize'] = 7, 5\n",
    "    plt.locator_params(axis = 'x', nbins = 5)\n",
    "    plt.plot(precision, recall, 'b-', linewidth=4.0, color = '#B0017F')\n",
    "    plt.title(title)\n",
    "    plt.xlabel('Precision')\n",
    "    plt.ylabel('Recall')\n",
    "    plt.rcParams.update({'font.size': 16})\n",
    "    \n",
    "plot_pr_curve(precision_all, recall_all, 'Precision recall curve (all)')"
   ]
  },
  {
   "cell_type": "markdown",
   "metadata": {},
   "source": [
    "**Quiz Question**: Among all the threshold values tried, what is the **smallest** threshold value that achieves a precision of 96.5% or better? Round your answer to 3 decimal places."
   ]
  },
  {
   "cell_type": "code",
   "execution_count": null,
   "metadata": {},
   "outputs": [],
   "source": [
    " 0.838"
   ]
  },
  {
   "cell_type": "markdown",
   "metadata": {},
   "source": [
    "**Quiz Question**: Using `threshold` = 0.98, how many **false negatives** do we get on the **test_data**? (**Hint**: You may use the `graphlab.evaluation.confusion_matrix` function implemented in GraphLab Create.)"
   ]
  },
  {
   "cell_type": "code",
   "execution_count": 47,
   "metadata": {},
   "outputs": [],
   "source": [
    "predictions_with_98_threshold = apply_threshold(probabilities, 0.98)"
   ]
  },
  {
   "cell_type": "code",
   "execution_count": 48,
   "metadata": {},
   "outputs": [
    {
     "data": {
      "text/html": [
       "<div style=\"max-height:1000px;max-width:1500px;overflow:auto;\"><table frame=\"box\" rules=\"cols\">\n",
       "    <tr>\n",
       "        <th style=\"padding-left: 1em; padding-right: 1em; text-align: center\">target_label</th>\n",
       "        <th style=\"padding-left: 1em; padding-right: 1em; text-align: center\">predicted_label</th>\n",
       "        <th style=\"padding-left: 1em; padding-right: 1em; text-align: center\">count</th>\n",
       "    </tr>\n",
       "    <tr>\n",
       "        <td style=\"padding-left: 1em; padding-right: 1em; text-align: center; vertical-align: top\">-1</td>\n",
       "        <td style=\"padding-left: 1em; padding-right: 1em; text-align: center; vertical-align: top\">1</td>\n",
       "        <td style=\"padding-left: 1em; padding-right: 1em; text-align: center; vertical-align: top\">487</td>\n",
       "    </tr>\n",
       "    <tr>\n",
       "        <td style=\"padding-left: 1em; padding-right: 1em; text-align: center; vertical-align: top\">1</td>\n",
       "        <td style=\"padding-left: 1em; padding-right: 1em; text-align: center; vertical-align: top\">1</td>\n",
       "        <td style=\"padding-left: 1em; padding-right: 1em; text-align: center; vertical-align: top\">22269</td>\n",
       "    </tr>\n",
       "    <tr>\n",
       "        <td style=\"padding-left: 1em; padding-right: 1em; text-align: center; vertical-align: top\">1</td>\n",
       "        <td style=\"padding-left: 1em; padding-right: 1em; text-align: center; vertical-align: top\">-1</td>\n",
       "        <td style=\"padding-left: 1em; padding-right: 1em; text-align: center; vertical-align: top\">5826</td>\n",
       "    </tr>\n",
       "    <tr>\n",
       "        <td style=\"padding-left: 1em; padding-right: 1em; text-align: center; vertical-align: top\">-1</td>\n",
       "        <td style=\"padding-left: 1em; padding-right: 1em; text-align: center; vertical-align: top\">-1</td>\n",
       "        <td style=\"padding-left: 1em; padding-right: 1em; text-align: center; vertical-align: top\">4754</td>\n",
       "    </tr>\n",
       "</table>\n",
       "[4 rows x 3 columns]<br/>\n",
       "</div>"
      ],
      "text/plain": [
       "Columns:\n",
       "\ttarget_label\tint\n",
       "\tpredicted_label\tint\n",
       "\tcount\tint\n",
       "\n",
       "Rows: 4\n",
       "\n",
       "Data:\n",
       "+--------------+-----------------+-------+\n",
       "| target_label | predicted_label | count |\n",
       "+--------------+-----------------+-------+\n",
       "|      -1      |        1        |  487  |\n",
       "|      1       |        1        | 22269 |\n",
       "|      1       |        -1       |  5826 |\n",
       "|      -1      |        -1       |  4754 |\n",
       "+--------------+-----------------+-------+\n",
       "[4 rows x 3 columns]"
      ]
     },
     "execution_count": 48,
     "metadata": {},
     "output_type": "execute_result"
    }
   ],
   "source": [
    "graphlab.evaluation.confusion_matrix(test_data['sentiment'], predictions_with_98_threshold)"
   ]
  },
  {
   "cell_type": "code",
   "execution_count": null,
   "metadata": {},
   "outputs": [],
   "source": [
    "5826"
   ]
  },
  {
   "cell_type": "markdown",
   "metadata": {},
   "source": [
    "This is the number of false negatives (i.e the number of reviews to look at when not needed) that we have to deal with using this classifier."
   ]
  },
  {
   "cell_type": "markdown",
   "metadata": {},
   "source": [
    "# Evaluating specific search terms"
   ]
  },
  {
   "cell_type": "markdown",
   "metadata": {},
   "source": [
    "So far, we looked at the number of false positives for the **entire test set**. In this section, let's select reviews using a specific search term and optimize the precision on these reviews only. After all, a manufacturer would be interested in tuning the false positive rate just for their products (the reviews they want to read) rather than that of the entire set of products on Amazon.\n",
    "\n",
    "## Precision-Recall on all baby related items\n",
    "\n",
    "From the **test set**, select all the reviews for all products with the word 'baby' in them."
   ]
  },
  {
   "cell_type": "code",
   "execution_count": 49,
   "metadata": {},
   "outputs": [],
   "source": [
    "baby_reviews =  test_data[test_data['name'].apply(lambda x: 'baby' in x.lower())]"
   ]
  },
  {
   "cell_type": "markdown",
   "metadata": {},
   "source": [
    "Now, let's predict the probability of classifying these reviews as positive:"
   ]
  },
  {
   "cell_type": "code",
   "execution_count": 50,
   "metadata": {},
   "outputs": [],
   "source": [
    "probabilities = model.predict(baby_reviews, output_type='probability')"
   ]
  },
  {
   "cell_type": "markdown",
   "metadata": {},
   "source": [
    "Let's plot the precision-recall curve for the **baby_reviews** dataset.\n",
    "\n",
    "**First**, let's consider the following `threshold_values` ranging from 0.5 to 1:"
   ]
  },
  {
   "cell_type": "code",
   "execution_count": 51,
   "metadata": {},
   "outputs": [],
   "source": [
    "threshold_values = np.linspace(0.5, 1, num=100)"
   ]
  },
  {
   "cell_type": "markdown",
   "metadata": {},
   "source": [
    "**Second**, as we did above, let's compute precision and recall for each value in `threshold_values` on the **baby_reviews** dataset.  Complete the code block below."
   ]
  },
  {
   "cell_type": "code",
   "execution_count": 54,
   "metadata": {},
   "outputs": [
    {
     "name": "stdout",
     "output_type": "stream",
     "text": [
      "Precision: 0.9650197628458498 Threshold: 0.8636363636363636\n",
      "Precision: 0.9655104063429137 Threshold: 0.8686868686868687\n",
      "Precision: 0.9660377358490566 Threshold: 0.8737373737373737\n",
      "Precision: 0.9661556838542703 Threshold: 0.8787878787878789\n",
      "Precision: 0.9668397922493008 Threshold: 0.8838383838383839\n",
      "Precision: 0.9679358717434869 Threshold: 0.8888888888888888\n",
      "Precision: 0.9680722891566265 Threshold: 0.893939393939394\n",
      "Precision: 0.968014484007242 Threshold: 0.898989898989899\n",
      "Precision: 0.9679112008072653 Threshold: 0.9040404040404041\n",
      "Precision: 0.9678593086719224 Threshold: 0.9090909090909092\n",
      "Precision: 0.9681541582150102 Threshold: 0.9141414141414141\n",
      "Precision: 0.9684703010577705 Threshold: 0.9191919191919192\n",
      "Precision: 0.9691395871653382 Threshold: 0.9242424242424243\n",
      "Precision: 0.9697717458359038 Threshold: 0.9292929292929293\n",
      "Precision: 0.9710504549214226 Threshold: 0.9343434343434344\n",
      "Precision: 0.9712260216847373 Threshold: 0.9393939393939394\n",
      "Precision: 0.9714765100671141 Threshold: 0.9444444444444444\n",
      "Precision: 0.9722457627118644 Threshold: 0.9494949494949496\n",
      "Precision: 0.9724182168056447 Threshold: 0.9545454545454546\n",
      "Precision: 0.9734111543450065 Threshold: 0.9595959595959596\n",
      "Precision: 0.9742020113686052 Threshold: 0.9646464646464648\n",
      "Precision: 0.9750055297500553 Threshold: 0.9696969696969697\n",
      "Precision: 0.9751009421265141 Threshold: 0.9747474747474748\n",
      "Precision: 0.9766590389016019 Threshold: 0.9797979797979799\n",
      "Precision: 0.9790489642184558 Threshold: 0.9848484848484849\n",
      "Precision: 0.9801031687546058 Threshold: 0.98989898989899\n",
      "Precision: 0.9844253490870032 Threshold: 0.994949494949495\n",
      "Precision: 1.0 Threshold: 1.0\n"
     ]
    }
   ],
   "source": [
    "precision_all = []\n",
    "recall_all = []\n",
    "\n",
    "for threshold in threshold_values:\n",
    "    \n",
    "    # Make predictions. Use the `apply_threshold` function \n",
    "    ## YOUR CODE HERE \n",
    "    predictions = apply_threshold(probabilities, threshold)\n",
    "\n",
    "    # Calculate the precision.\n",
    "    # YOUR CODE HERE\n",
    "    precision = graphlab.evaluation.precision(baby_reviews['sentiment'], predictions)\n",
    "    if precision >= 0.965:\n",
    "        print(\"Precision: {} Threshold: {}\".format(precision, threshold))    \n",
    "    # YOUR CODE HERE\n",
    "    recall = graphlab.evaluation.recall(baby_reviews['sentiment'], predictions)\n",
    "    \n",
    "    # Append the precision and recall scores.\n",
    "    precision_all.append(precision)\n",
    "    recall_all.append(recall)"
   ]
  },
  {
   "cell_type": "markdown",
   "metadata": {},
   "source": [
    "**Quiz Question**: Among all the threshold values tried, what is the **smallest** threshold value that achieves a precision of 96.5% or better for the reviews of data in **baby_reviews**? Round your answer to 3 decimal places."
   ]
  },
  {
   "cell_type": "code",
   "execution_count": 55,
   "metadata": {},
   "outputs": [
    {
     "data": {
      "text/plain": [
       "0.864"
      ]
     },
     "execution_count": 55,
     "metadata": {},
     "output_type": "execute_result"
    }
   ],
   "source": [
    "0.864"
   ]
  },
  {
   "cell_type": "markdown",
   "metadata": {},
   "source": [
    "**Quiz Question:** Is this threshold value smaller or larger than the threshold used for the entire dataset to achieve the same specified precision of 96.5%?\n",
    "\n",
    "**Finally**, let's plot the precision recall curve."
   ]
  },
  {
   "cell_type": "code",
   "execution_count": 56,
   "metadata": {},
   "outputs": [
    {
     "data": {
      "image/png": "[encoded data removed]",
      "text/plain": [
       "<Figure size 504x360 with 1 Axes>"
      ]
     },
     "metadata": {
      "needs_background": "light"
     },
     "output_type": "display_data"
    }
   ],
   "source": [
    "plot_pr_curve(precision_all, recall_all, \"Precision-Recall (Baby)\")"
   ]
  },
  {
   "cell_type": "code",
   "execution_count": null,
   "metadata": {
    "collapsed": true
   },
   "outputs": [],
   "source": []
  }
 ],
 "metadata": {
  "kernelspec": {
   "display_name": "exp-python3",
   "language": "python",
   "name": "exp-python3"
  },
  "language_info": {
   "codemirror_mode": {
    "name": "ipython",
    "version": 3
   },
   "file_extension": ".py",
   "mimetype": "text/x-python",
   "name": "python",
   "nbconvert_exporter": "python",
   "pygments_lexer": "ipython3",
   "version": "3.6.0"
  }
 },
 "nbformat": 4,
 "nbformat_minor": 1
}
