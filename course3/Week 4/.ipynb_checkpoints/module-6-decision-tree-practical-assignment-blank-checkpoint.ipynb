{
 "cells": [
  {
   "cell_type": "markdown",
   "metadata": {},
   "source": [
    "# Decision Trees in Practice"
   ]
  },
  {
   "cell_type": "markdown",
   "metadata": {},
   "source": [
    "In this assignment we will explore various techniques for preventing overfitting in decision trees. We will extend the implementation of the binary decision trees that we implemented in the previous assignment. You will have to use your solutions from this previous assignment and extend them.\n",
    "\n",
    "In this assignment you will:\n",
    "\n",
    "* Implement binary decision trees with different early stopping methods.\n",
    "* Compare models with different stopping parameters.\n",
    "* Visualize the concept of overfitting in decision trees.\n",
    "\n",
    "Let's get started!"
   ]
  },
  {
   "cell_type": "markdown",
   "metadata": {},
   "source": [
    "# Fire up GraphLab Create"
   ]
  },
  {
   "cell_type": "markdown",
   "metadata": {},
   "source": [
    "Make sure you have the latest version of GraphLab Create."
   ]
  },
  {
   "cell_type": "code",
   "execution_count": 1,
   "metadata": {},
   "outputs": [],
   "source": [
    "# import graphlab\n",
    "import turicreate as graphlab"
   ]
  },
  {
   "cell_type": "markdown",
   "metadata": {},
   "source": [
    "# Load LendingClub Dataset"
   ]
  },
  {
   "cell_type": "markdown",
   "metadata": {},
   "source": [
    "This assignment will use the [LendingClub](https://www.lendingclub.com/) dataset used in the previous two assignments."
   ]
  },
  {
   "cell_type": "code",
   "execution_count": 19,
   "metadata": {},
   "outputs": [],
   "source": [
    "loans = graphlab.SFrame('lending-club-data.gl/')"
   ]
  },
  {
   "cell_type": "markdown",
   "metadata": {},
   "source": [
    "As before, we reassign the labels to have +1 for a safe loan, and -1 for a risky (bad) loan."
   ]
  },
  {
   "cell_type": "code",
   "execution_count": 20,
   "metadata": {},
   "outputs": [
    {
     "data": {
      "text/html": [
       "<pre>Materializing SArray</pre>"
      ],
      "text/plain": [
       "Materializing SArray"
      ]
     },
     "metadata": {},
     "output_type": "display_data"
    },
    {
     "data": {
      "text/html": [
       "<html>                 <body>                     <iframe style=\"border:0;margin:0\" width=\"920\" height=\"770\" srcdoc='<html lang=\"en\">                         <head>                             <script src=\"https://cdnjs.cloudflare.com/ajax/libs/vega/3.0.8/vega.js\"></script>                             <script src=\"https://cdnjs.cloudflare.com/ajax/libs/vega-embed/3.0.0-rc7/vega-embed.js\"></script>                             <script src=\"https://cdnjs.cloudflare.com/ajax/libs/vega-tooltip/0.5.1/vega-tooltip.min.js\"></script>                             <link rel=\"stylesheet\" type=\"text/css\" href=\"https://cdnjs.cloudflare.com/ajax/libs/vega-tooltip/0.5.1/vega-tooltip.min.css\">                             <style>                             .vega-actions > a{                                 color:white;                                 text-decoration: none;                                 font-family: \"Arial\";                                 cursor:pointer;                                 padding:5px;                                 background:#AAAAAA;                                 border-radius:4px;                                 padding-left:10px;                                 padding-right:10px;                                 margin-right:5px;                             }                             .vega-actions{                                 margin-top:20px;                                 text-align:center                             }                            .vega-actions > a{                                 background:#999999;                            }                             </style>                         </head>                         <body>                             <div id=\"vis\">                             </div>                             <script>                                 var vega_json = \"{\\\"$schema\\\": \\\"https://vega.github.io/schema/vega/v4.json\\\", \\\"description\\\": \\\"A simple bar chart with embedded data.\\\", \\\"autosize\\\": {\\\"type\\\": \\\"fit\\\", \\\"resize\\\": false, \\\"contains\\\": \\\"padding\\\"}, \\\"width\\\": 720, \\\"height\\\": 550, \\\"padding\\\": 8, \\\"title\\\": \\\"Distribution of Values [integer]\\\", \\\"style\\\": \\\"cell\\\", \\\"signals\\\": [{\\\"name\\\": \\\"nullGap\\\", \\\"update\\\": \\\"data(&apos;nulls&apos;).length > 0 ? 10 : 0\\\"}, {\\\"name\\\": \\\"barStep\\\", \\\"update\\\": \\\"nullGap == 0 ? 0 : (width/40)\\\"}], \\\"data\\\": [{\\\"name\\\": \\\"source_2\\\", \\\"values\\\": [{\\\"left\\\": 0, \\\"right\\\": 0.05, \\\"count\\\": 99457}, {\\\"left\\\": 0.05, \\\"right\\\": 0.1, \\\"count\\\": 0}, {\\\"left\\\": 0.1, \\\"right\\\": 0.15, \\\"count\\\": 0}, {\\\"left\\\": 0.15, \\\"right\\\": 0.2, \\\"count\\\": 0}, {\\\"left\\\": 0.2, \\\"right\\\": 0.25, \\\"count\\\": 0}, {\\\"left\\\": 0.25, \\\"right\\\": 0.3, \\\"count\\\": 0}, {\\\"left\\\": 0.3, \\\"right\\\": 0.35, \\\"count\\\": 0}, {\\\"left\\\": 0.35, \\\"right\\\": 0.4, \\\"count\\\": 0}, {\\\"left\\\": 0.4, \\\"right\\\": 0.45, \\\"count\\\": 0}, {\\\"left\\\": 0.45, \\\"right\\\": 0.5, \\\"count\\\": 0}, {\\\"left\\\": 0.5, \\\"right\\\": 0.55, \\\"count\\\": 0}, {\\\"left\\\": 0.55, \\\"right\\\": 0.6, \\\"count\\\": 0}, {\\\"left\\\": 0.6, \\\"right\\\": 0.65, \\\"count\\\": 0}, {\\\"left\\\": 0.65, \\\"right\\\": 0.7, \\\"count\\\": 0}, {\\\"left\\\": 0.7, \\\"right\\\": 0.75, \\\"count\\\": 0}, {\\\"left\\\": 0.75, \\\"right\\\": 0.8, \\\"count\\\": 0}, {\\\"left\\\": 0.8, \\\"right\\\": 0.85, \\\"count\\\": 0}, {\\\"left\\\": 0.85, \\\"right\\\": 0.9, \\\"count\\\": 0}, {\\\"left\\\": 0.9, \\\"right\\\": 0.95, \\\"count\\\": 0}, {\\\"left\\\": 0.95, \\\"right\\\": 1, \\\"count\\\": 23150}]}, {\\\"name\\\": \\\"data_0\\\", \\\"source\\\": \\\"source_2\\\", \\\"transform\\\": [{\\\"type\\\": \\\"formula\\\", \\\"expr\\\": \\\"toNumber(datum[\\\\\\\"left\\\\\\\"])\\\", \\\"as\\\": \\\"left\\\"}, {\\\"type\\\": \\\"formula\\\", \\\"expr\\\": \\\"toNumber(datum[\\\\\\\"right\\\\\\\"])\\\", \\\"as\\\": \\\"right\\\"}, {\\\"type\\\": \\\"formula\\\", \\\"expr\\\": \\\"toNumber(datum[\\\\\\\"count\\\\\\\"])\\\", \\\"as\\\": \\\"count\\\"}, {\\\"type\\\": \\\"filter\\\", \\\"expr\\\": \\\"datum[\\\\\\\"left\\\\\\\"] !== null &amp;&amp; !isNaN(datum[\\\\\\\"left\\\\\\\"]) &amp;&amp; datum[\\\\\\\"count\\\\\\\"] !== null &amp;&amp; !isNaN(datum[\\\\\\\"count\\\\\\\"])\\\"}]}, {\\\"source\\\": \\\"source_2\\\", \\\"name\\\": \\\"nulls\\\", \\\"transform\\\": [{\\\"expr\\\": \\\"toNumber(datum[\\\\\\\"count\\\\\\\"])\\\", \\\"as\\\": \\\"count\\\", \\\"type\\\": \\\"formula\\\"}, {\\\"expr\\\": \\\"datum[\\\\\\\"missing\\\\\\\"] === true &amp;&amp; datum[\\\\\\\"count\\\\\\\"] !== null &amp;&amp; !isNaN(datum[\\\\\\\"count\\\\\\\"])\\\", \\\"type\\\": \\\"filter\\\"}]}], \\\"marks\\\": [{\\\"name\\\": \\\"marks\\\", \\\"type\\\": \\\"rect\\\", \\\"style\\\": [\\\"rect\\\"], \\\"from\\\": {\\\"data\\\": \\\"data_0\\\"}, \\\"encode\\\": {\\\"hover\\\": {\\\"fill\\\": {\\\"value\\\": \\\"#7EC2F3\\\"}}, \\\"update\\\": {\\\"x\\\": {\\\"scale\\\": \\\"x\\\", \\\"field\\\": \\\"left\\\"}, \\\"x2\\\": {\\\"scale\\\": \\\"x\\\", \\\"field\\\": \\\"right\\\"}, \\\"y\\\": {\\\"scale\\\": \\\"y\\\", \\\"field\\\": \\\"count\\\"}, \\\"y2\\\": {\\\"scale\\\": \\\"y\\\", \\\"value\\\": 0}, \\\"fill\\\": {\\\"value\\\": \\\"#108EE9\\\"}}}}, {\\\"type\\\": \\\"rect\\\", \\\"from\\\": {\\\"data\\\": \\\"nulls\\\"}, \\\"style\\\": [\\\"rect\\\"], \\\"encode\\\": {\\\"update\\\": {\\\"x\\\": {\\\"scale\\\": \\\"xscale-null\\\", \\\"value\\\": null, \\\"offset\\\": 1}, \\\"x2\\\": {\\\"scale\\\": \\\"xscale-null\\\", \\\"band\\\": 1}, \\\"y\\\": {\\\"scale\\\": \\\"y\\\", \\\"field\\\": \\\"count\\\"}, \\\"y2\\\": {\\\"scale\\\": \\\"y\\\", \\\"value\\\": 0}, \\\"fill\\\": {\\\"value\\\": \\\"#108EE9\\\"}}, \\\"hover\\\": {\\\"fill\\\": {\\\"value\\\": \\\"#7EC2F3\\\"}}}}], \\\"scales\\\": [{\\\"domain\\\": [null], \\\"range\\\": [0, {\\\"signal\\\": \\\"barStep\\\"}], \\\"type\\\": \\\"band\\\", \\\"name\\\": \\\"xscale-null\\\"}, {\\\"name\\\": \\\"x\\\", \\\"type\\\": \\\"linear\\\", \\\"domain\\\": {\\\"data\\\": \\\"data_0\\\", \\\"fields\\\": [\\\"left\\\", \\\"right\\\"], \\\"sort\\\": true}, \\\"range\\\": [{\\\"signal\\\": \\\"barStep + nullGap\\\"}, {\\\"signal\\\": \\\"width\\\"}], \\\"nice\\\": true, \\\"zero\\\": false}, {\\\"name\\\": \\\"y\\\", \\\"type\\\": \\\"linear\\\", \\\"domain\\\": {\\\"fields\\\": [{\\\"data\\\": \\\"data_0\\\", \\\"field\\\": \\\"count\\\"}, {\\\"data\\\": \\\"nulls\\\", \\\"field\\\": \\\"count\\\"}]}, \\\"range\\\": [{\\\"signal\\\": \\\"height\\\"}, 0], \\\"nice\\\": true, \\\"zero\\\": true}], \\\"axes\\\": [{\\\"title\\\": \\\"Count\\\", \\\"scale\\\": \\\"x\\\", \\\"labelOverlap\\\": true, \\\"orient\\\": \\\"bottom\\\", \\\"tickCount\\\": {\\\"signal\\\": \\\"ceil(width/40)\\\"}, \\\"zindex\\\": 1}, {\\\"scale\\\": \\\"x\\\", \\\"domain\\\": false, \\\"grid\\\": true, \\\"labels\\\": false, \\\"maxExtent\\\": 0, \\\"minExtent\\\": 0, \\\"orient\\\": \\\"bottom\\\", \\\"tickCount\\\": {\\\"signal\\\": \\\"ceil(width/40)\\\"}, \\\"ticks\\\": false, \\\"zindex\\\": 0, \\\"gridScale\\\": \\\"y\\\"}, {\\\"title\\\": \\\"Values\\\", \\\"scale\\\": \\\"y\\\", \\\"labelOverlap\\\": true, \\\"orient\\\": \\\"left\\\", \\\"tickCount\\\": {\\\"signal\\\": \\\"ceil(height/40)\\\"}, \\\"zindex\\\": 1}, {\\\"scale\\\": \\\"y\\\", \\\"domain\\\": false, \\\"grid\\\": true, \\\"labels\\\": false, \\\"maxExtent\\\": 0, \\\"minExtent\\\": 0, \\\"orient\\\": \\\"left\\\", \\\"tickCount\\\": {\\\"signal\\\": \\\"ceil(height/40)\\\"}, \\\"ticks\\\": false, \\\"zindex\\\": 0, \\\"gridScale\\\": \\\"x\\\"}, {\\\"orient\\\": \\\"bottom\\\", \\\"scale\\\": \\\"xscale-null\\\", \\\"encode\\\": {\\\"ticks\\\": {\\\"update\\\": {\\\"opacity\\\": {\\\"signal\\\": \\\"nullGap > 0 ? 1.0 : 0.0\\\"}}}, \\\"labels\\\": {\\\"update\\\": {\\\"text\\\": {\\\"signal\\\": \\\"nullGap > 0 ? &apos;null&apos; : &apos;&apos;\\\"}}}}}], \\\"config\\\": {\\\"axis\\\": {\\\"gridColor\\\": \\\"rgba(204,204,204,1.0)\\\", \\\"labelFont\\\": \\\"\\\\\\\"San Francisco\\\\\\\", HelveticaNeue, Arial\\\", \\\"labelFontSize\\\": 12, \\\"labelPadding\\\": 10, \\\"labelColor\\\": \\\"rgba(0,0,0,0.847)\\\", \\\"tickColor\\\": \\\"rgb(136,136,136)\\\", \\\"titleFont\\\": \\\"\\\\\\\"San Francisco\\\\\\\", HelveticaNeue, Arial\\\", \\\"titleFontWeight\\\": \\\"normal\\\", \\\"titlePadding\\\": 20, \\\"titleFontSize\\\": 14, \\\"titleColor\\\": \\\"rgba(0,0,0,0.847)\\\"}, \\\"axisY\\\": {\\\"minExtent\\\": 30}, \\\"legend\\\": {\\\"labelFont\\\": \\\"\\\\\\\"San Francisco\\\\\\\", HelveticaNeue, Arial\\\", \\\"labelColor\\\": \\\"rgba(0,0,0,0.847)\\\", \\\"titleFont\\\": \\\"\\\\\\\"San Francisco\\\\\\\", HelveticaNeue, Arial\\\", \\\"cornerRadius\\\": 30, \\\"gradientLength\\\": 608, \\\"titleColor\\\": \\\"rgba(0,0,0,0.847)\\\"}, \\\"range\\\": {\\\"heatmap\\\": {\\\"scheme\\\": \\\"greenblue\\\"}}, \\\"style\\\": {\\\"rect\\\": {\\\"stroke\\\": \\\"rgba(200, 200, 200, 0.5)\\\"}, \\\"cell\\\": {\\\"stroke\\\": \\\"transparent\\\"}, \\\"group-title\\\": {\\\"fontSize\\\": 29, \\\"font\\\": \\\"HelveticaNeue, Arial\\\", \\\"fontWeight\\\": \\\"normal\\\", \\\"fill\\\": \\\"rgba(0,0,0,0.65)\\\"}}, \\\"title\\\": {\\\"color\\\": \\\"rgba(0,0,0,0.847)\\\", \\\"font\\\": \\\"\\\\\\\"San Francisco\\\\\\\", HelveticaNeue, Arial\\\", \\\"fontSize\\\": 18, \\\"fontWeight\\\": \\\"normal\\\", \\\"offset\\\": 30}}}\";                                 var vega_json_parsed = JSON.parse(vega_json);                                 var toolTipOpts = {                                     showAllFields: true                                 };                                 if(vega_json_parsed[\"metadata\"] != null){                                     if(vega_json_parsed[\"metadata\"][\"bubbleOpts\"] != null){                                         toolTipOpts = vega_json_parsed[\"metadata\"][\"bubbleOpts\"];                                     };                                 };                                 vegaEmbed(\"#vis\", vega_json_parsed).then(function (result) {                                     vegaTooltip.vega(result.view, toolTipOpts);                                  });                             </script>                         </body>                     </html>' src=\"demo_iframe_srcdoc.htm\">                         <p>Your browser does not support iframes.</p>                     </iframe>                 </body>             </html>"
      ],
      "text/plain": [
       "<IPython.core.display.HTML object>"
      ]
     },
     "metadata": {},
     "output_type": "display_data"
    }
   ],
   "source": [
    "loans['bad_loans'].show()"
   ]
  },
  {
   "cell_type": "code",
   "execution_count": 21,
   "metadata": {},
   "outputs": [
    {
     "data": {
      "text/html": [
       "<pre>Materializing SFrame</pre>"
      ],
      "text/plain": [
       "Materializing SFrame"
      ]
     },
     "metadata": {},
     "output_type": "display_data"
    },
    {
     "data": {
      "text/html": [
       "<pre>Warning: Skipping column 'mths_since_last_major_derog' [string]. Unable to show more than 50 columns.</pre>"
      ],
      "text/plain": [
       "Warning: Skipping column 'mths_since_last_major_derog' [string]. Unable to show more than 50 columns."
      ]
     },
     "metadata": {},
     "output_type": "display_data"
    },
    {
     "data": {
      "text/html": [
       "<pre>Further warnings of more than 50 columns will be suppressed.</pre>"
      ],
      "text/plain": [
       "Further warnings of more than 50 columns will be suppressed."
      ]
     },
     "metadata": {},
     "output_type": "display_data"
    },
    {
     "data": {
      "text/html": [
       "<html>                 <body>                     <iframe style=\"border:0;margin:0\" width=\"1000\" height=\"20400\" srcdoc='<html lang=\"en\">                         <head>                             <script src=\"https://cdnjs.cloudflare.com/ajax/libs/vega/3.0.8/vega.js\"></script>                             <script src=\"https://cdnjs.cloudflare.com/ajax/libs/vega-embed/3.0.0-rc7/vega-embed.js\"></script>                             <script src=\"https://cdnjs.cloudflare.com/ajax/libs/vega-tooltip/0.5.1/vega-tooltip.min.js\"></script>                             <link rel=\"stylesheet\" type=\"text/css\" href=\"https://cdnjs.cloudflare.com/ajax/libs/vega-tooltip/0.5.1/vega-tooltip.min.css\">                             <style>                             .vega-actions > a{                                 color:white;                                 text-decoration: none;                                 font-family: \"Arial\";                                 cursor:pointer;                                 padding:5px;                                 background:#AAAAAA;                                 border-radius:4px;                                 padding-left:10px;                                 padding-right:10px;                                 margin-right:5px;                             }                             .vega-actions{                                 margin-top:20px;                                 text-align:center                             }                            .vega-actions > a{                                 background:#999999;                            }                             </style>                         </head>                         <body>                             <div id=\"vis\">                             </div>                             <script>                                 var vega_json = \"{\\\"$schema\\\": \\\"https://vega.github.io/schema/vega/v4.json\\\", \\\"metadata\\\": {\\\"bubbleOpts\\\": {\\\"showAllFields\\\": false, \\\"fields\\\": [{\\\"field\\\": \\\"left\\\"}, {\\\"field\\\": \\\"right\\\"}, {\\\"field\\\": \\\"count\\\"}, {\\\"field\\\": \\\"label\\\"}]}}, \\\"width\\\": 800, \\\"height\\\": 20180, \\\"padding\\\": 8, \\\"data\\\": [{\\\"name\\\": \\\"pts_store\\\"}, {\\\"name\\\": \\\"source_2\\\", \\\"values\\\": [{\\\"a\\\": 0, \\\"title\\\": \\\"id\\\", \\\"num_row\\\": 122607, \\\"type\\\": \\\"integer\\\", \\\"num_unique\\\": 122607, \\\"num_missing\\\": 0, \\\"mean\\\": 4728452.039141, \\\"min\\\": 54734.0, \\\"max\\\": 37841276.0, \\\"median\\\": 1621211.0, \\\"stdev\\\": 5938492.77332, \\\"numeric\\\": [{\\\"left\\\": -411512, \\\"right\\\": 1524160.0, \\\"count\\\": 57529}, {\\\"left\\\": 1524160.0, \\\"right\\\": 3459830.0, \\\"count\\\": 15678}, {\\\"left\\\": 3459830.0, \\\"right\\\": 5395500.0, \\\"count\\\": 9742}, {\\\"left\\\": 5395500.0, \\\"right\\\": 7331170.0, \\\"count\\\": 12730}, {\\\"left\\\": 7331170.0, \\\"right\\\": 9266840.0, \\\"count\\\": 7921}, {\\\"left\\\": 9266840.0, \\\"right\\\": 11202500.0, \\\"count\\\": 4483}, {\\\"left\\\": 11202500.0, \\\"right\\\": 13138200.0, \\\"count\\\": 4627}, {\\\"left\\\": 13138200.0, \\\"right\\\": 15073900.0, \\\"count\\\": 2141}, {\\\"left\\\": 15073900.0, \\\"right\\\": 17009500.0, \\\"count\\\": 1681}, {\\\"left\\\": 17009500.0, \\\"right\\\": 18945200.0, \\\"count\\\": 1120}, {\\\"left\\\": 18945200.0, \\\"right\\\": 20880900.0, \\\"count\\\": 1397}, {\\\"left\\\": 20880900.0, \\\"right\\\": 22816500.0, \\\"count\\\": 759}, {\\\"left\\\": 22816500.0, \\\"right\\\": 24752200.0, \\\"count\\\": 570}, {\\\"left\\\": 24752200.0, \\\"right\\\": 26687900.0, \\\"count\\\": 452}, {\\\"left\\\": 26687900.0, \\\"right\\\": 28623600.0, \\\"count\\\": 368}, {\\\"left\\\": 28623600.0, \\\"right\\\": 30559200.0, \\\"count\\\": 438}, {\\\"left\\\": 30559200.0, \\\"right\\\": 32494900.0, \\\"count\\\": 378}, {\\\"left\\\": 32494900.0, \\\"right\\\": 34430600.0, \\\"count\\\": 217}, {\\\"left\\\": 34430600.0, \\\"right\\\": 36366200.0, \\\"count\\\": 291}, {\\\"left\\\": 36366200.0, \\\"right\\\": 38301900.0, \\\"count\\\": 85}], \\\"categorical\\\": []}, {\\\"a\\\": 1, \\\"title\\\": \\\"member_id\\\", \\\"num_row\\\": 122607, \\\"type\\\": \\\"integer\\\", \\\"num_unique\\\": 122607, \\\"num_missing\\\": 0, \\\"mean\\\": 5493222.460855, \\\"min\\\": 70473.0, \\\"max\\\": 40604243.0, \\\"median\\\": 1878638.0, \\\"stdev\\\": 6604666.545177, \\\"numeric\\\": [{\\\"left\\\": -1141210.0, \\\"right\\\": 1017550.0, \\\"count\\\": 28540}, {\\\"left\\\": 1017550.0, \\\"right\\\": 3176300.0, \\\"count\\\": 38961}, {\\\"left\\\": 3176300.0, \\\"right\\\": 5335060.0, \\\"count\\\": 10928}, {\\\"left\\\": 5335060.0, \\\"right\\\": 7493820.0, \\\"count\\\": 10361}, {\\\"left\\\": 7493820.0, \\\"right\\\": 9652570.0, \\\"count\\\": 10440}, {\\\"left\\\": 9652570.0, \\\"right\\\": 11811300.0, \\\"count\\\": 5939}, {\\\"left\\\": 11811300.0, \\\"right\\\": 13970100.0, \\\"count\\\": 4823}, {\\\"left\\\": 13970100.0, \\\"right\\\": 16128800.0, \\\"count\\\": 3852}, {\\\"left\\\": 16128800.0, \\\"right\\\": 18287600.0, \\\"count\\\": 2129}, {\\\"left\\\": 18287600.0, \\\"right\\\": 20446400.0, \\\"count\\\": 1399}, {\\\"left\\\": 20446400.0, \\\"right\\\": 22605100.0, \\\"count\\\": 1316}, {\\\"left\\\": 22605100.0, \\\"right\\\": 24763900.0, \\\"count\\\": 1071}, {\\\"left\\\": 24763900.0, \\\"right\\\": 26922600.0, \\\"count\\\": 544}, {\\\"left\\\": 26922600.0, \\\"right\\\": 29081400.0, \\\"count\\\": 527}, {\\\"left\\\": 29081400.0, \\\"right\\\": 31240100.0, \\\"count\\\": 417}, {\\\"left\\\": 31240100.0, \\\"right\\\": 33398900.0, \\\"count\\\": 436}, {\\\"left\\\": 33398900.0, \\\"right\\\": 35557600.0, \\\"count\\\": 356}, {\\\"left\\\": 35557600.0, \\\"right\\\": 37716400.0, \\\"count\\\": 310}, {\\\"left\\\": 37716400.0, \\\"right\\\": 39875200.0, \\\"count\\\": 209}, {\\\"left\\\": 39875200.0, \\\"right\\\": 42033900.0, \\\"count\\\": 49}], \\\"categorical\\\": []}, {\\\"a\\\": 2, \\\"title\\\": \\\"loan_amnt\\\", \\\"num_row\\\": 122607, \\\"type\\\": \\\"integer\\\", \\\"num_unique\\\": 1235, \\\"num_missing\\\": 0, \\\"mean\\\": 12809.733743, \\\"min\\\": 500.0, \\\"max\\\": 35000.0, \\\"median\\\": 11000.0, \\\"stdev\\\": 7932.281049, \\\"numeric\\\": [{\\\"left\\\": 150, \\\"right\\\": 1910, \\\"count\\\": 2360}, {\\\"left\\\": 1910, \\\"right\\\": 3670, \\\"count\\\": 8097}, {\\\"left\\\": 3670, \\\"right\\\": 5430, \\\"count\\\": 11305}, {\\\"left\\\": 5430, \\\"right\\\": 7190, \\\"count\\\": 12106}, {\\\"left\\\": 7190, \\\"right\\\": 8950, \\\"count\\\": 10820}, {\\\"left\\\": 8950, \\\"right\\\": 10710, \\\"count\\\": 15665}, {\\\"left\\\": 10710, \\\"right\\\": 12470, \\\"count\\\": 11408}, {\\\"left\\\": 12470, \\\"right\\\": 14230, \\\"count\\\": 5868}, {\\\"left\\\": 14230, \\\"right\\\": 15990, \\\"count\\\": 8401}, {\\\"left\\\": 15990, \\\"right\\\": 17750, \\\"count\\\": 6179}, {\\\"left\\\": 17750, \\\"right\\\": 19510, \\\"count\\\": 5123}, {\\\"left\\\": 19510, \\\"right\\\": 21270, \\\"count\\\": 8001}, {\\\"left\\\": 21270, \\\"right\\\": 23030, \\\"count\\\": 2090}, {\\\"left\\\": 23030, \\\"right\\\": 24790, \\\"count\\\": 3115}, {\\\"left\\\": 24790, \\\"right\\\": 26550, \\\"count\\\": 3797}, {\\\"left\\\": 26550, \\\"right\\\": 28310, \\\"count\\\": 1802}, {\\\"left\\\": 28310, \\\"right\\\": 30070, \\\"count\\\": 2167}, {\\\"left\\\": 30070, \\\"right\\\": 31830, \\\"count\\\": 411}, {\\\"left\\\": 31830, \\\"right\\\": 33590, \\\"count\\\": 552}, {\\\"left\\\": 33590, \\\"right\\\": 35350, \\\"count\\\": 3340}], \\\"categorical\\\": []}, {\\\"a\\\": 3, \\\"title\\\": \\\"funded_amnt\\\", \\\"num_row\\\": 122607, \\\"type\\\": \\\"integer\\\", \\\"num_unique\\\": 1248, \\\"num_missing\\\": 0, \\\"mean\\\": 12736.123753, \\\"min\\\": 500.0, \\\"max\\\": 35000.0, \\\"median\\\": 10975.0, \\\"stdev\\\": 7887.134954, \\\"numeric\\\": [{\\\"left\\\": 150, \\\"right\\\": 1910, \\\"count\\\": 2380}, {\\\"left\\\": 1910, \\\"right\\\": 3670, \\\"count\\\": 8132}, {\\\"left\\\": 3670, \\\"right\\\": 5430, \\\"count\\\": 11387}, {\\\"left\\\": 5430, \\\"right\\\": 7190, \\\"count\\\": 12218}, {\\\"left\\\": 7190, \\\"right\\\": 8950, \\\"count\\\": 10846}, {\\\"left\\\": 8950, \\\"right\\\": 10710, \\\"count\\\": 15704}, {\\\"left\\\": 10710, \\\"right\\\": 12470, \\\"count\\\": 11457}, {\\\"left\\\": 12470, \\\"right\\\": 14230, \\\"count\\\": 5965}, {\\\"left\\\": 14230, \\\"right\\\": 15990, \\\"count\\\": 8474}, {\\\"left\\\": 15990, \\\"right\\\": 17750, \\\"count\\\": 6190}, {\\\"left\\\": 17750, \\\"right\\\": 19510, \\\"count\\\": 5117}, {\\\"left\\\": 19510, \\\"right\\\": 21270, \\\"count\\\": 7861}, {\\\"left\\\": 21270, \\\"right\\\": 23030, \\\"count\\\": 2109}, {\\\"left\\\": 23030, \\\"right\\\": 24790, \\\"count\\\": 3040}, {\\\"left\\\": 24790, \\\"right\\\": 26550, \\\"count\\\": 3594}, {\\\"left\\\": 26550, \\\"right\\\": 28310, \\\"count\\\": 1797}, {\\\"left\\\": 28310, \\\"right\\\": 30070, \\\"count\\\": 2136}, {\\\"left\\\": 30070, \\\"right\\\": 31830, \\\"count\\\": 407}, {\\\"left\\\": 31830, \\\"right\\\": 33590, \\\"count\\\": 544}, {\\\"left\\\": 33590, \\\"right\\\": 35350, \\\"count\\\": 3249}], \\\"categorical\\\": []}, {\\\"a\\\": 4, \\\"title\\\": \\\"funded_amnt_inv\\\", \\\"num_row\\\": 122607, \\\"type\\\": \\\"integer\\\", \\\"num_unique\\\": 7023, \\\"num_missing\\\": 0, \\\"mean\\\": 12497.828395, \\\"min\\\": 0.0, \\\"max\\\": 35000.0, \\\"median\\\": 10500.0, \\\"stdev\\\": 7946.699119, \\\"numeric\\\": [{\\\"left\\\": -697.7, \\\"right\\\": 1123.9, \\\"count\\\": 1727}, {\\\"left\\\": 1123.9, \\\"right\\\": 2945.5, \\\"count\\\": 6065}, {\\\"left\\\": 2945.5, \\\"right\\\": 4767.1, \\\"count\\\": 9618}, {\\\"left\\\": 4767.1, \\\"right\\\": 6588.7, \\\"count\\\": 14837}, {\\\"left\\\": 6588.7, \\\"right\\\": 8410.3, \\\"count\\\": 12632}, {\\\"left\\\": 8410.3, \\\"right\\\": 10231.9, \\\"count\\\": 15689}, {\\\"left\\\": 10231.9, \\\"right\\\": 12053.5, \\\"count\\\": 11836}, {\\\"left\\\": 12053.5, \\\"right\\\": 13875.1, \\\"count\\\": 4732}, {\\\"left\\\": 13875.1, \\\"right\\\": 15696.7, \\\"count\\\": 9861}, {\\\"left\\\": 15696.7, \\\"right\\\": 17518.3, \\\"count\\\": 6129}, {\\\"left\\\": 17518.3, \\\"right\\\": 19339.9, \\\"count\\\": 5137}, {\\\"left\\\": 19339.9, \\\"right\\\": 21161.5, \\\"count\\\": 7622}, {\\\"left\\\": 21161.5, \\\"right\\\": 22983.1, \\\"count\\\": 2192}, {\\\"left\\\": 22983.1, \\\"right\\\": 24804.7, \\\"count\\\": 3549}, {\\\"left\\\": 24804.7, \\\"right\\\": 26626.3, \\\"count\\\": 2923}, {\\\"left\\\": 26626.3, \\\"right\\\": 28447.9, \\\"count\\\": 1798}, {\\\"left\\\": 28447.9, \\\"right\\\": 30269.5, \\\"count\\\": 2167}, {\\\"left\\\": 30269.5, \\\"right\\\": 32091.1, \\\"count\\\": 561}, {\\\"left\\\": 32091.1, \\\"right\\\": 33912.7, \\\"count\\\": 406}, {\\\"left\\\": 33912.7, \\\"right\\\": 35734.3, \\\"count\\\": 3126}], \\\"categorical\\\": []}, {\\\"a\\\": 5, \\\"title\\\": \\\"term\\\", \\\"num_row\\\": 122607, \\\"type\\\": \\\"str\\\", \\\"num_unique\\\": 2, \\\"num_missing\\\": 0, \\\"categorical\\\": [{\\\"label\\\": \\\" 36 months\\\", \\\"label_idx\\\": 0, \\\"count\\\": 97801, \\\"percentage\\\": \\\"79.7679%\\\"}, {\\\"label\\\": \\\" 60 months\\\", \\\"label_idx\\\": 1, \\\"count\\\": 24806, \\\"percentage\\\": \\\"20.2321%\\\"}], \\\"numeric\\\": []}, {\\\"a\\\": 6, \\\"title\\\": \\\"int_rate\\\", \\\"num_row\\\": 122607, \\\"type\\\": \\\"float\\\", \\\"num_unique\\\": 505, \\\"num_missing\\\": 0, \\\"mean\\\": 13.639487, \\\"min\\\": 5.42, \\\"max\\\": 26.06, \\\"median\\\": 13.48, \\\"stdev\\\": 4.390818, \\\"numeric\\\": [{\\\"left\\\": 5.3832, \\\"right\\\": 6.41808, \\\"count\\\": 3937}, {\\\"left\\\": 6.41808, \\\"right\\\": 7.45296, \\\"count\\\": 4538}, {\\\"left\\\": 7.45296, \\\"right\\\": 8.48784, \\\"count\\\": 8931}, {\\\"left\\\": 8.48784, \\\"right\\\": 9.52272, \\\"count\\\": 5411}, {\\\"left\\\": 9.52272, \\\"right\\\": 10.5576, \\\"count\\\": 7416}, {\\\"left\\\": 10.5576, \\\"right\\\": 11.5925, \\\"count\\\": 10682}, {\\\"left\\\": 11.5925, \\\"right\\\": 12.6274, \\\"count\\\": 11032}, {\\\"left\\\": 12.6274, \\\"right\\\": 13.6622, \\\"count\\\": 11574}, {\\\"left\\\": 13.6622, \\\"right\\\": 14.6971, \\\"count\\\": 13129}, {\\\"left\\\": 14.6971, \\\"right\\\": 15.732, \\\"count\\\": 8858}, {\\\"left\\\": 15.732, \\\"right\\\": 16.7669, \\\"count\\\": 8061}, {\\\"left\\\": 16.7669, \\\"right\\\": 17.8018, \\\"count\\\": 8210}, {\\\"left\\\": 17.8018, \\\"right\\\": 18.8366, \\\"count\\\": 5403}, {\\\"left\\\": 18.8366, \\\"right\\\": 19.8715, \\\"count\\\": 4692}, {\\\"left\\\": 19.8715, \\\"right\\\": 20.9064, \\\"count\\\": 2512}, {\\\"left\\\": 20.9064, \\\"right\\\": 21.9413, \\\"count\\\": 2540}, {\\\"left\\\": 21.9413, \\\"right\\\": 22.9762, \\\"count\\\": 2263}, {\\\"left\\\": 22.9762, \\\"right\\\": 24.011, \\\"count\\\": 1696}, {\\\"left\\\": 24.011, \\\"right\\\": 25.0459, \\\"count\\\": 1148}, {\\\"left\\\": 25.0459, \\\"right\\\": 26.0808, \\\"count\\\": 574}], \\\"categorical\\\": []}, {\\\"a\\\": 7, \\\"title\\\": \\\"installment\\\", \\\"num_row\\\": 122607, \\\"type\\\": \\\"float\\\", \\\"num_unique\\\": 32387, \\\"num_missing\\\": 0, \\\"mean\\\": 396.623285, \\\"min\\\": 15.67, \\\"max\\\": 1408.13, \\\"median\\\": 348.18, \\\"stdev\\\": 239.474959, \\\"numeric\\\": [{\\\"left\\\": -13.9466, \\\"right\\\": 58.5935, \\\"count\\\": 2193}, {\\\"left\\\": 58.5935, \\\"right\\\": 131.134, \\\"count\\\": 10059}, {\\\"left\\\": 131.134, \\\"right\\\": 203.674, \\\"count\\\": 15781}, {\\\"left\\\": 203.674, \\\"right\\\": 276.214, \\\"count\\\": 15485}, {\\\"left\\\": 276.214, \\\"right\\\": 348.754, \\\"count\\\": 18062}, {\\\"left\\\": 348.754, \\\"right\\\": 421.294, \\\"count\\\": 14871}, {\\\"left\\\": 421.294, \\\"right\\\": 493.834, \\\"count\\\": 11073}, {\\\"left\\\": 493.834, \\\"right\\\": 566.375, \\\"count\\\": 9749}, {\\\"left\\\": 566.375, \\\"right\\\": 638.915, \\\"count\\\": 6439}, {\\\"left\\\": 638.915, \\\"right\\\": 711.455, \\\"count\\\": 5938}, {\\\"left\\\": 711.455, \\\"right\\\": 783.995, \\\"count\\\": 3461}, {\\\"left\\\": 783.995, \\\"right\\\": 856.535, \\\"count\\\": 2955}, {\\\"left\\\": 856.535, \\\"right\\\": 929.075, \\\"count\\\": 2251}, {\\\"left\\\": 929.075, \\\"right\\\": 1001.62, \\\"count\\\": 1565}, {\\\"left\\\": 1001.62, \\\"right\\\": 1074.16, \\\"count\\\": 742}, {\\\"left\\\": 1074.16, \\\"right\\\": 1146.7, \\\"count\\\": 626}, {\\\"left\\\": 1146.7, \\\"right\\\": 1219.24, \\\"count\\\": 617}, {\\\"left\\\": 1219.24, \\\"right\\\": 1291.78, \\\"count\\\": 551}, {\\\"left\\\": 1291.78, \\\"right\\\": 1364.32, \\\"count\\\": 171}, {\\\"left\\\": 1364.32, \\\"right\\\": 1436.86, \\\"count\\\": 18}], \\\"categorical\\\": []}, {\\\"a\\\": 8, \\\"title\\\": \\\"grade\\\", \\\"num_row\\\": 122607, \\\"type\\\": \\\"str\\\", \\\"num_unique\\\": 7, \\\"num_missing\\\": 0, \\\"categorical\\\": [{\\\"label\\\": \\\"B\\\", \\\"label_idx\\\": 0, \\\"count\\\": 37172, \\\"percentage\\\": \\\"30.318%\\\"}, {\\\"label\\\": \\\"C\\\", \\\"label_idx\\\": 1, \\\"count\\\": 29950, \\\"percentage\\\": \\\"24.4276%\\\"}, {\\\"label\\\": \\\"A\\\", \\\"label_idx\\\": 2, \\\"count\\\": 22314, \\\"percentage\\\": \\\"18.1996%\\\"}, {\\\"label\\\": \\\"D\\\", \\\"label_idx\\\": 3, \\\"count\\\": 19175, \\\"percentage\\\": \\\"15.6394%\\\"}, {\\\"label\\\": \\\"E\\\", \\\"label_idx\\\": 4, \\\"count\\\": 8990, \\\"percentage\\\": \\\"7.33237%\\\"}, {\\\"label\\\": \\\"F\\\", \\\"label_idx\\\": 5, \\\"count\\\": 3932, \\\"percentage\\\": \\\"3.20699%\\\"}, {\\\"label\\\": \\\"G\\\", \\\"label_idx\\\": 6, \\\"count\\\": 1074, \\\"percentage\\\": \\\"0.87597%\\\"}], \\\"numeric\\\": []}, {\\\"a\\\": 9, \\\"title\\\": \\\"sub_grade\\\", \\\"num_row\\\": 122607, \\\"type\\\": \\\"str\\\", \\\"num_unique\\\": 35, \\\"num_missing\\\": 0, \\\"categorical\\\": [{\\\"label\\\": \\\"B3\\\", \\\"label_idx\\\": 0, \\\"count\\\": 9036, \\\"percentage\\\": \\\"7.36989%\\\"}, {\\\"label\\\": \\\"B4\\\", \\\"label_idx\\\": 1, \\\"count\\\": 8279, \\\"percentage\\\": \\\"6.75247%\\\"}, {\\\"label\\\": \\\"B2\\\", \\\"label_idx\\\": 2, \\\"count\\\": 7096, \\\"percentage\\\": \\\"5.7876%\\\"}, {\\\"label\\\": \\\"C1\\\", \\\"label_idx\\\": 3, \\\"count\\\": 7068, \\\"percentage\\\": \\\"5.76476%\\\"}, {\\\"label\\\": \\\"B5\\\", \\\"label_idx\\\": 4, \\\"count\\\": 6924, \\\"percentage\\\": \\\"5.64731%\\\"}, {\\\"label\\\": \\\"C2\\\", \\\"label_idx\\\": 5, \\\"count\\\": 6726, \\\"percentage\\\": \\\"5.48582%\\\"}, {\\\"label\\\": \\\"A5\\\", \\\"label_idx\\\": 6, \\\"count\\\": 6027, \\\"percentage\\\": \\\"4.91571%\\\"}, {\\\"label\\\": \\\"A4\\\", \\\"label_idx\\\": 7, \\\"count\\\": 5993, \\\"percentage\\\": \\\"4.88798%\\\"}, {\\\"label\\\": \\\"B1\\\", \\\"label_idx\\\": 8, \\\"count\\\": 5837, \\\"percentage\\\": \\\"4.76074%\\\"}, {\\\"label\\\": \\\"C3\\\", \\\"label_idx\\\": 9, \\\"count\\\": 5690, \\\"percentage\\\": \\\"4.64084%\\\"}, {\\\"label\\\": \\\"Other (25 labels)\\\", \\\"label_idx\\\": 10, \\\"count\\\": 53931, \\\"percentage\\\": \\\"43.9869%\\\"}], \\\"numeric\\\": []}, {\\\"a\\\": 10, \\\"title\\\": \\\"emp_title\\\", \\\"num_row\\\": 122607, \\\"type\\\": \\\"str\\\", \\\"num_unique\\\": 77171, \\\"num_missing\\\": 2, \\\"categorical\\\": [{\\\"label\\\": \\\"\\\", \\\"label_idx\\\": 0, \\\"count\\\": 6829, \\\"percentage\\\": \\\"5.56983%\\\"}, {\\\"label\\\": \\\"Teacher\\\", \\\"label_idx\\\": 1, \\\"count\\\": 458, \\\"percentage\\\": \\\"0.373551%\\\"}, {\\\"label\\\": \\\"Manager\\\", \\\"label_idx\\\": 2, \\\"count\\\": 452, \\\"percentage\\\": \\\"0.368658%\\\"}, {\\\"label\\\": \\\"US Army\\\", \\\"label_idx\\\": 3, \\\"count\\\": 323, \\\"percentage\\\": \\\"0.263443%\\\"}, {\\\"label\\\": \\\"Bank of America\\\", \\\"label_idx\\\": 4, \\\"count\\\": 256, \\\"percentage\\\": \\\"0.208797%\\\"}, {\\\"label\\\": \\\"Supervisor\\\", \\\"label_idx\\\": 5, \\\"count\\\": 199, \\\"percentage\\\": \\\"0.162307%\\\"}, {\\\"label\\\": \\\"Registered Nurse\\\", \\\"label_idx\\\": 6, \\\"count\\\": 197, \\\"percentage\\\": \\\"0.160676%\\\"}, {\\\"label\\\": \\\"AT&amp;T\\\", \\\"label_idx\\\": 7, \\\"count\\\": 179, \\\"percentage\\\": \\\"0.145995%\\\"}, {\\\"label\\\": \\\"RN\\\", \\\"label_idx\\\": 8, \\\"count\\\": 177, \\\"percentage\\\": \\\"0.144364%\\\"}, {\\\"label\\\": \\\"Kaiser Permanente\\\", \\\"label_idx\\\": 9, \\\"count\\\": 173, \\\"percentage\\\": \\\"0.141101%\\\"}, {\\\"label\\\": \\\"Other (77161 labels)\\\", \\\"label_idx\\\": 10, \\\"count\\\": 113364, \\\"percentage\\\": \\\"92.4613%\\\"}], \\\"numeric\\\": []}, {\\\"a\\\": 11, \\\"title\\\": \\\"emp_length\\\", \\\"num_row\\\": 122607, \\\"type\\\": \\\"str\\\", \\\"num_unique\\\": 12, \\\"num_missing\\\": 0, \\\"categorical\\\": [{\\\"label\\\": \\\"10+ years\\\", \\\"label_idx\\\": 0, \\\"count\\\": 34100, \\\"percentage\\\": \\\"27.8124%\\\"}, {\\\"label\\\": \\\"2 years\\\", \\\"label_idx\\\": 1, \\\"count\\\": 12048, \\\"percentage\\\": \\\"9.82652%\\\"}, {\\\"label\\\": \\\"< 1 year\\\", \\\"label_idx\\\": 2, \\\"count\\\": 11072, \\\"percentage\\\": \\\"9.03048%\\\"}, {\\\"label\\\": \\\"3 years\\\", \\\"label_idx\\\": 3, \\\"count\\\": 10333, \\\"percentage\\\": \\\"8.42774%\\\"}, {\\\"label\\\": \\\"5 years\\\", \\\"label_idx\\\": 4, \\\"count\\\": 9561, \\\"percentage\\\": \\\"7.79809%\\\"}, {\\\"label\\\": \\\"1 year\\\", \\\"label_idx\\\": 5, \\\"count\\\": 8701, \\\"percentage\\\": \\\"7.09666%\\\"}, {\\\"label\\\": \\\"4 years\\\", \\\"label_idx\\\": 6, \\\"count\\\": 8544, \\\"percentage\\\": \\\"6.96861%\\\"}, {\\\"label\\\": \\\"6 years\\\", \\\"label_idx\\\": 7, \\\"count\\\": 7629, \\\"percentage\\\": \\\"6.22232%\\\"}, {\\\"label\\\": \\\"7 years\\\", \\\"label_idx\\\": 8, \\\"count\\\": 6704, \\\"percentage\\\": \\\"5.46788%\\\"}, {\\\"label\\\": \\\"8 years\\\", \\\"label_idx\\\": 9, \\\"count\\\": 5373, \\\"percentage\\\": \\\"4.38229%\\\"}, {\\\"label\\\": \\\"Other (2 labels)\\\", \\\"label_idx\\\": 10, \\\"count\\\": 8542, \\\"percentage\\\": \\\"6.96698%\\\"}], \\\"numeric\\\": []}, {\\\"a\\\": 12, \\\"title\\\": \\\"home_ownership\\\", \\\"num_row\\\": 122607, \\\"type\\\": \\\"str\\\", \\\"num_unique\\\": 4, \\\"num_missing\\\": 0, \\\"categorical\\\": [{\\\"label\\\": \\\"MORTGAGE\\\", \\\"label_idx\\\": 0, \\\"count\\\": 59240, \\\"percentage\\\": \\\"48.317%\\\"}, {\\\"label\\\": \\\"RENT\\\", \\\"label_idx\\\": 1, \\\"count\\\": 53245, \\\"percentage\\\": \\\"43.4274%\\\"}, {\\\"label\\\": \\\"OWN\\\", \\\"label_idx\\\": 2, \\\"count\\\": 9943, \\\"percentage\\\": \\\"8.10965%\\\"}, {\\\"label\\\": \\\"OTHER\\\", \\\"label_idx\\\": 3, \\\"count\\\": 179, \\\"percentage\\\": \\\"0.145995%\\\"}], \\\"numeric\\\": []}, {\\\"a\\\": 13, \\\"title\\\": \\\"annual_inc\\\", \\\"num_row\\\": 122607, \\\"type\\\": \\\"integer\\\", \\\"num_unique\\\": 11239, \\\"num_missing\\\": 4, \\\"mean\\\": 71385.017292, \\\"min\\\": 1896.0, \\\"max\\\": 7141778.0, \\\"median\\\": 60000.0, \\\"stdev\\\": 58414.587235, \\\"numeric\\\": [{\\\"left\\\": -120456, \\\"right\\\": 248184, \\\"count\\\": 121493}, {\\\"left\\\": 248184, \\\"right\\\": 616824, \\\"count\\\": 1011}, {\\\"left\\\": 616824, \\\"right\\\": 985464, \\\"count\\\": 77}, {\\\"left\\\": 985464, \\\"right\\\": 1354100.0, \\\"count\\\": 12}, {\\\"left\\\": 1354100.0, \\\"right\\\": 1722740.0, \\\"count\\\": 3}, {\\\"left\\\": 1722740.0, \\\"right\\\": 2091380.0, \\\"count\\\": 4}, {\\\"left\\\": 2091380.0, \\\"right\\\": 2460020.0, \\\"count\\\": 0}, {\\\"left\\\": 2460020.0, \\\"right\\\": 2828660.0, \\\"count\\\": 0}, {\\\"left\\\": 2828660.0, \\\"right\\\": 3197300.0, \\\"count\\\": 0}, {\\\"left\\\": 3197300.0, \\\"right\\\": 3565940.0, \\\"count\\\": 0}, {\\\"left\\\": 3565940.0, \\\"right\\\": 3934580.0, \\\"count\\\": 0}, {\\\"left\\\": 3934580.0, \\\"right\\\": 4303220.0, \\\"count\\\": 0}, {\\\"left\\\": 4303220.0, \\\"right\\\": 4671860.0, \\\"count\\\": 0}, {\\\"left\\\": 4671860.0, \\\"right\\\": 5040500.0, \\\"count\\\": 0}, {\\\"left\\\": 5040500.0, \\\"right\\\": 5409140.0, \\\"count\\\": 0}, {\\\"left\\\": 5409140.0, \\\"right\\\": 5777780.0, \\\"count\\\": 0}, {\\\"left\\\": 5777780.0, \\\"right\\\": 6146420.0, \\\"count\\\": 2}, {\\\"left\\\": 6146420.0, \\\"right\\\": 6515060.0, \\\"count\\\": 0}, {\\\"left\\\": 6515060.0, \\\"right\\\": 6883700.0, \\\"count\\\": 0}, {\\\"left\\\": 6883700.0, \\\"right\\\": 7252340.0, \\\"count\\\": 1}, {\\\"missing\\\": true, \\\"count\\\": 4}], \\\"categorical\\\": []}, {\\\"a\\\": 14, \\\"title\\\": \\\"is_inc_v\\\", \\\"num_row\\\": 122607, \\\"type\\\": \\\"str\\\", \\\"num_unique\\\": 3, \\\"num_missing\\\": 0, \\\"categorical\\\": [{\\\"label\\\": \\\"Verified\\\", \\\"label_idx\\\": 0, \\\"count\\\": 46090, \\\"percentage\\\": \\\"37.5917%\\\"}, {\\\"label\\\": \\\"Not Verified\\\", \\\"label_idx\\\": 1, \\\"count\\\": 45751, \\\"percentage\\\": \\\"37.3152%\\\"}, {\\\"label\\\": \\\"Source Verified\\\", \\\"label_idx\\\": 2, \\\"count\\\": 30766, \\\"percentage\\\": \\\"25.0932%\\\"}], \\\"numeric\\\": []}, {\\\"a\\\": 15, \\\"title\\\": \\\"issue_d\\\", \\\"num_row\\\": 122607, \\\"type\\\": \\\"str\\\", \\\"num_unique\\\": 91, \\\"num_missing\\\": 0, \\\"categorical\\\": [{\\\"label\\\": \\\"20130801T000000\\\", \\\"label_idx\\\": 0, \\\"count\\\": 3493, \\\"percentage\\\": \\\"2.84894%\\\"}, {\\\"label\\\": \\\"20130501T000000\\\", \\\"label_idx\\\": 1, \\\"count\\\": 3461, \\\"percentage\\\": \\\"2.82284%\\\"}, {\\\"label\\\": \\\"20130601T000000\\\", \\\"label_idx\\\": 2, \\\"count\\\": 3429, \\\"percentage\\\": \\\"2.79674%\\\"}, {\\\"label\\\": \\\"20130701T000000\\\", \\\"label_idx\\\": 3, \\\"count\\\": 3406, \\\"percentage\\\": \\\"2.77798%\\\"}, {\\\"label\\\": \\\"20130401T000000\\\", \\\"label_idx\\\": 4, \\\"count\\\": 3385, \\\"percentage\\\": \\\"2.76085%\\\"}, {\\\"label\\\": \\\"20130901T000000\\\", \\\"label_idx\\\": 5, \\\"count\\\": 3313, \\\"percentage\\\": \\\"2.70213%\\\"}, {\\\"label\\\": \\\"20131001T000000\\\", \\\"label_idx\\\": 6, \\\"count\\\": 3280, \\\"percentage\\\": \\\"2.67521%\\\"}, {\\\"label\\\": \\\"20131101T000000\\\", \\\"label_idx\\\": 7, \\\"count\\\": 3136, \\\"percentage\\\": \\\"2.55777%\\\"}, {\\\"label\\\": \\\"20130301T000000\\\", \\\"label_idx\\\": 8, \\\"count\\\": 3083, \\\"percentage\\\": \\\"2.51454%\\\"}, {\\\"label\\\": \\\"20131201T000000\\\", \\\"label_idx\\\": 9, \\\"count\\\": 3005, \\\"percentage\\\": \\\"2.45092%\\\"}, {\\\"label\\\": \\\"Other (81 labels)\\\", \\\"label_idx\\\": 10, \\\"count\\\": 89616, \\\"percentage\\\": \\\"73.0921%\\\"}], \\\"numeric\\\": []}, {\\\"a\\\": 16, \\\"title\\\": \\\"loan_status\\\", \\\"num_row\\\": 122607, \\\"type\\\": \\\"str\\\", \\\"num_unique\\\": 5, \\\"num_missing\\\": 0, \\\"categorical\\\": [{\\\"label\\\": \\\"Fully Paid\\\", \\\"label_idx\\\": 0, \\\"count\\\": 97544, \\\"percentage\\\": \\\"79.5583%\\\"}, {\\\"label\\\": \\\"Charged Off\\\", \\\"label_idx\\\": 1, \\\"count\\\": 22156, \\\"percentage\\\": \\\"18.0707%\\\"}, {\\\"label\\\": \\\"Does not meet the credit policy.  Status:Fully Paid\\\", \\\"label_idx\\\": 2, \\\"count\\\": 1913, \\\"percentage\\\": \\\"1.56027%\\\"}, {\\\"label\\\": \\\"Does not meet the credit policy.  Status:Charged Off\\\", \\\"label_idx\\\": 3, \\\"count\\\": 755, \\\"percentage\\\": \\\"0.615789%\\\"}, {\\\"label\\\": \\\"Default\\\", \\\"label_idx\\\": 4, \\\"count\\\": 239, \\\"percentage\\\": \\\"0.194932%\\\"}], \\\"numeric\\\": []}, {\\\"a\\\": 17, \\\"title\\\": \\\"pymnt_plan\\\", \\\"num_row\\\": 122607, \\\"type\\\": \\\"str\\\", \\\"num_unique\\\": 1, \\\"num_missing\\\": 0, \\\"categorical\\\": [{\\\"label\\\": \\\"n\\\", \\\"label_idx\\\": 0, \\\"count\\\": 122607, \\\"percentage\\\": \\\"100%\\\"}], \\\"numeric\\\": []}, {\\\"a\\\": 18, \\\"title\\\": \\\"url\\\", \\\"num_row\\\": 122607, \\\"type\\\": \\\"str\\\", \\\"num_unique\\\": 122607, \\\"num_missing\\\": 0, \\\"categorical\\\": [{\\\"label\\\": \\\"https://www.lendingclub.com/browse/loanDetail.action?loan_id=1000030\\\", \\\"label_idx\\\": 0, \\\"count\\\": 1, \\\"percentage\\\": \\\"0.000815614%\\\"}, {\\\"label\\\": \\\"https://www.lendingclub.com/browse/loanDetail.action?loan_id=1000033\\\", \\\"label_idx\\\": 1, \\\"count\\\": 1, \\\"percentage\\\": \\\"0.000815614%\\\"}, {\\\"label\\\": \\\"https://www.lendingclub.com/browse/loanDetail.action?loan_id=1000045\\\", \\\"label_idx\\\": 2, \\\"count\\\": 1, \\\"percentage\\\": \\\"0.000815614%\\\"}, {\\\"label\\\": \\\"https://www.lendingclub.com/browse/loanDetail.action?loan_id=1000095\\\", \\\"label_idx\\\": 3, \\\"count\\\": 1, \\\"percentage\\\": \\\"0.000815614%\\\"}, {\\\"label\\\": \\\"https://www.lendingclub.com/browse/loanDetail.action?loan_id=1000115\\\", \\\"label_idx\\\": 4, \\\"count\\\": 1, \\\"percentage\\\": \\\"0.000815614%\\\"}, {\\\"label\\\": \\\"https://www.lendingclub.com/browse/loanDetail.action?loan_id=1000138\\\", \\\"label_idx\\\": 5, \\\"count\\\": 1, \\\"percentage\\\": \\\"0.000815614%\\\"}, {\\\"label\\\": \\\"https://www.lendingclub.com/browse/loanDetail.action?loan_id=1000142\\\", \\\"label_idx\\\": 6, \\\"count\\\": 1, \\\"percentage\\\": \\\"0.000815614%\\\"}, {\\\"label\\\": \\\"https://www.lendingclub.com/browse/loanDetail.action?loan_id=1000198\\\", \\\"label_idx\\\": 7, \\\"count\\\": 1, \\\"percentage\\\": \\\"0.000815614%\\\"}, {\\\"label\\\": \\\"https://www.lendingclub.com/browse/loanDetail.action?loan_id=1000208\\\", \\\"label_idx\\\": 8, \\\"count\\\": 1, \\\"percentage\\\": \\\"0.000815614%\\\"}, {\\\"label\\\": \\\"https://www.lendingclub.com/browse/loanDetail.action?loan_id=1000242\\\", \\\"label_idx\\\": 9, \\\"count\\\": 1, \\\"percentage\\\": \\\"0.000815614%\\\"}, {\\\"label\\\": \\\"Other (122597 labels)\\\", \\\"label_idx\\\": 10, \\\"count\\\": 122597, \\\"percentage\\\": \\\"99.9918%\\\"}], \\\"numeric\\\": []}, {\\\"a\\\": 19, \\\"title\\\": \\\"desc\\\", \\\"num_row\\\": 122607, \\\"type\\\": \\\"str\\\", \\\"num_unique\\\": 60316, \\\"num_missing\\\": 0, \\\"categorical\\\": [{\\\"label\\\": \\\"\\\", \\\"label_idx\\\": 0, \\\"count\\\": 61901, \\\"percentage\\\": \\\"50.4873%\\\"}, {\\\"label\\\": \\\" \\\", \\\"label_idx\\\": 1, \\\"count\\\": 227, \\\"percentage\\\": \\\"0.185144%\\\"}, {\\\"label\\\": \\\"Debt Consolidation\\\", \\\"label_idx\\\": 2, \\\"count\\\": 12, \\\"percentage\\\": \\\"0.00978737%\\\"}, {\\\"label\\\": \\\"Camping Membership\\\", \\\"label_idx\\\": 3, \\\"count\\\": 8, \\\"percentage\\\": \\\"0.00652491%\\\"}, {\\\"label\\\": \\\"refinancing\\\", \\\"label_idx\\\": 4, \\\"count\\\": 5, \\\"percentage\\\": \\\"0.00407807%\\\"}, {\\\"label\\\": \\\"  Borrower added on 01/14/13 > Debt consolidation<br>\\\", \\\"label_idx\\\": 5, \\\"count\\\": 3, \\\"percentage\\\": \\\"0.00244684%\\\"}, {\\\"label\\\": \\\"  Borrower added on 01/23/14 > Debt consolidation<br>\\\", \\\"label_idx\\\": 6, \\\"count\\\": 3, \\\"percentage\\\": \\\"0.00244684%\\\"}, {\\\"label\\\": \\\"  Borrower added on 02/27/13 > Debt consolidation<br>\\\", \\\"label_idx\\\": 7, \\\"count\\\": 3, \\\"percentage\\\": \\\"0.00244684%\\\"}, {\\\"label\\\": \\\"  Borrower added on 03/17/14 > Debt consolidation<br>\\\", \\\"label_idx\\\": 8, \\\"count\\\": 3, \\\"percentage\\\": \\\"0.00244684%\\\"}, {\\\"label\\\": \\\"  Borrower added on 03/28/13 > Debt consolidation<br>\\\", \\\"label_idx\\\": 9, \\\"count\\\": 3, \\\"percentage\\\": \\\"0.00244684%\\\"}, {\\\"label\\\": \\\"Other (60306 labels)\\\", \\\"label_idx\\\": 10, \\\"count\\\": 60439, \\\"percentage\\\": \\\"49.2949%\\\"}], \\\"numeric\\\": []}, {\\\"a\\\": 20, \\\"title\\\": \\\"purpose\\\", \\\"num_row\\\": 122607, \\\"type\\\": \\\"str\\\", \\\"num_unique\\\": 12, \\\"num_missing\\\": 0, \\\"categorical\\\": [{\\\"label\\\": \\\"debt_consolidation\\\", \\\"label_idx\\\": 0, \\\"count\\\": 68233, \\\"percentage\\\": \\\"55.6518%\\\"}, {\\\"label\\\": \\\"credit_card\\\", \\\"label_idx\\\": 1, \\\"count\\\": 22050, \\\"percentage\\\": \\\"17.9843%\\\"}, {\\\"label\\\": \\\"other\\\", \\\"label_idx\\\": 2, \\\"count\\\": 9087, \\\"percentage\\\": \\\"7.41149%\\\"}, {\\\"label\\\": \\\"home_improvement\\\", \\\"label_idx\\\": 3, \\\"count\\\": 7543, \\\"percentage\\\": \\\"6.15218%\\\"}, {\\\"label\\\": \\\"major_purchase\\\", \\\"label_idx\\\": 4, \\\"count\\\": 3877, \\\"percentage\\\": \\\"3.16214%\\\"}, {\\\"label\\\": \\\"small_business\\\", \\\"label_idx\\\": 5, \\\"count\\\": 3264, \\\"percentage\\\": \\\"2.66216%\\\"}, {\\\"label\\\": \\\"car\\\", \\\"label_idx\\\": 6, \\\"count\\\": 2375, \\\"percentage\\\": \\\"1.93708%\\\"}, {\\\"label\\\": \\\"medical\\\", \\\"label_idx\\\": 7, \\\"count\\\": 1607, \\\"percentage\\\": \\\"1.31069%\\\"}, {\\\"label\\\": \\\"wedding\\\", \\\"label_idx\\\": 8, \\\"count\\\": 1526, \\\"percentage\\\": \\\"1.24463%\\\"}, {\\\"label\\\": \\\"moving\\\", \\\"label_idx\\\": 9, \\\"count\\\": 1180, \\\"percentage\\\": \\\"0.962425%\\\"}, {\\\"label\\\": \\\"Other (2 labels)\\\", \\\"label_idx\\\": 10, \\\"count\\\": 1865, \\\"percentage\\\": \\\"1.52112%\\\"}], \\\"numeric\\\": []}, {\\\"a\\\": 21, \\\"title\\\": \\\"title\\\", \\\"num_row\\\": 122607, \\\"type\\\": \\\"str\\\", \\\"num_unique\\\": 36606, \\\"num_missing\\\": 1, \\\"categorical\\\": [{\\\"label\\\": \\\"Debt consolidation\\\", \\\"label_idx\\\": 0, \\\"count\\\": 17773, \\\"percentage\\\": \\\"14.4959%\\\"}, {\\\"label\\\": \\\"Debt Consolidation\\\", \\\"label_idx\\\": 1, \\\"count\\\": 7220, \\\"percentage\\\": \\\"5.88873%\\\"}, {\\\"label\\\": \\\"Credit card refinancing\\\", \\\"label_idx\\\": 2, \\\"count\\\": 5223, \\\"percentage\\\": \\\"4.25995%\\\"}, {\\\"label\\\": \\\"Debt Consolidation Loan\\\", \\\"label_idx\\\": 3, \\\"count\\\": 2424, \\\"percentage\\\": \\\"1.97705%\\\"}, {\\\"label\\\": \\\"Consolidation\\\", \\\"label_idx\\\": 4, \\\"count\\\": 2193, \\\"percentage\\\": \\\"1.78864%\\\"}, {\\\"label\\\": \\\"debt consolidation\\\", \\\"label_idx\\\": 5, \\\"count\\\": 2014, \\\"percentage\\\": \\\"1.64265%\\\"}, {\\\"label\\\": \\\"Other\\\", \\\"label_idx\\\": 6, \\\"count\\\": 1811, \\\"percentage\\\": \\\"1.47708%\\\"}, {\\\"label\\\": \\\"Home improvement\\\", \\\"label_idx\\\": 7, \\\"count\\\": 1754, \\\"percentage\\\": \\\"1.43059%\\\"}, {\\\"label\\\": \\\"Personal Loan\\\", \\\"label_idx\\\": 8, \\\"count\\\": 1250, \\\"percentage\\\": \\\"1.01952%\\\"}, {\\\"label\\\": \\\"Credit Card Consolidation\\\", \\\"label_idx\\\": 9, \\\"count\\\": 1032, \\\"percentage\\\": \\\"0.841714%\\\"}, {\\\"label\\\": \\\"Other (36596 labels)\\\", \\\"label_idx\\\": 10, \\\"count\\\": 79913, \\\"percentage\\\": \\\"65.1782%\\\"}], \\\"numeric\\\": []}, {\\\"a\\\": 22, \\\"title\\\": \\\"zip_code\\\", \\\"num_row\\\": 122607, \\\"type\\\": \\\"str\\\", \\\"num_unique\\\": 865, \\\"num_missing\\\": 0, \\\"categorical\\\": [{\\\"label\\\": \\\"945xx\\\", \\\"label_idx\\\": 0, \\\"count\\\": 1612, \\\"percentage\\\": \\\"1.31477%\\\"}, {\\\"label\\\": \\\"112xx\\\", \\\"label_idx\\\": 1, \\\"count\\\": 1443, \\\"percentage\\\": \\\"1.17693%\\\"}, {\\\"label\\\": \\\"100xx\\\", \\\"label_idx\\\": 2, \\\"count\\\": 1437, \\\"percentage\\\": \\\"1.17204%\\\"}, {\\\"label\\\": \\\"900xx\\\", \\\"label_idx\\\": 3, \\\"count\\\": 1289, \\\"percentage\\\": \\\"1.05133%\\\"}, {\\\"label\\\": \\\"606xx\\\", \\\"label_idx\\\": 4, \\\"count\\\": 1270, \\\"percentage\\\": \\\"1.03583%\\\"}, {\\\"label\\\": \\\"750xx\\\", \\\"label_idx\\\": 5, \\\"count\\\": 1264, \\\"percentage\\\": \\\"1.03094%\\\"}, {\\\"label\\\": \\\"331xx\\\", \\\"label_idx\\\": 6, \\\"count\\\": 1152, \\\"percentage\\\": \\\"0.939587%\\\"}, {\\\"label\\\": \\\"070xx\\\", \\\"label_idx\\\": 7, \\\"count\\\": 1129, \\\"percentage\\\": \\\"0.920828%\\\"}, {\\\"label\\\": \\\"300xx\\\", \\\"label_idx\\\": 8, \\\"count\\\": 1129, \\\"percentage\\\": \\\"0.920828%\\\"}, {\\\"label\\\": \\\"917xx\\\", \\\"label_idx\\\": 9, \\\"count\\\": 1069, \\\"percentage\\\": \\\"0.871891%\\\"}, {\\\"label\\\": \\\"Other (855 labels)\\\", \\\"label_idx\\\": 10, \\\"count\\\": 109813, \\\"percentage\\\": \\\"89.565%\\\"}], \\\"numeric\\\": []}, {\\\"a\\\": 23, \\\"title\\\": \\\"addr_state\\\", \\\"num_row\\\": 122607, \\\"type\\\": \\\"str\\\", \\\"num_unique\\\": 50, \\\"num_missing\\\": 0, \\\"categorical\\\": [{\\\"label\\\": \\\"CA\\\", \\\"label_idx\\\": 0, \\\"count\\\": 21637, \\\"percentage\\\": \\\"17.6474%\\\"}, {\\\"label\\\": \\\"NY\\\", \\\"label_idx\\\": 1, \\\"count\\\": 10908, \\\"percentage\\\": \\\"8.89672%\\\"}, {\\\"label\\\": \\\"TX\\\", \\\"label_idx\\\": 2, \\\"count\\\": 8922, \\\"percentage\\\": \\\"7.27691%\\\"}, {\\\"label\\\": \\\"FL\\\", \\\"label_idx\\\": 3, \\\"count\\\": 8561, \\\"percentage\\\": \\\"6.98247%\\\"}, {\\\"label\\\": \\\"NJ\\\", \\\"label_idx\\\": 4, \\\"count\\\": 4913, \\\"percentage\\\": \\\"4.00711%\\\"}, {\\\"label\\\": \\\"IL\\\", \\\"label_idx\\\": 5, \\\"count\\\": 4509, \\\"percentage\\\": \\\"3.6776%\\\"}, {\\\"label\\\": \\\"PA\\\", \\\"label_idx\\\": 6, \\\"count\\\": 4123, \\\"percentage\\\": \\\"3.36278%\\\"}, {\\\"label\\\": \\\"VA\\\", \\\"label_idx\\\": 7, \\\"count\\\": 4000, \\\"percentage\\\": \\\"3.26246%\\\"}, {\\\"label\\\": \\\"GA\\\", \\\"label_idx\\\": 8, \\\"count\\\": 3928, \\\"percentage\\\": \\\"3.20373%\\\"}, {\\\"label\\\": \\\"OH\\\", \\\"label_idx\\\": 9, \\\"count\\\": 3651, \\\"percentage\\\": \\\"2.97781%\\\"}, {\\\"label\\\": \\\"Other (40 labels)\\\", \\\"label_idx\\\": 10, \\\"count\\\": 47455, \\\"percentage\\\": \\\"38.705%\\\"}], \\\"numeric\\\": []}, {\\\"a\\\": 24, \\\"title\\\": \\\"dti\\\", \\\"num_row\\\": 122607, \\\"type\\\": \\\"float\\\", \\\"num_unique\\\": 3543, \\\"num_missing\\\": 0, \\\"mean\\\": 15.496888, \\\"min\\\": 0.0, \\\"max\\\": 39.88, \\\"median\\\": 15.27, \\\"stdev\\\": 7.497412, \\\"numeric\\\": [{\\\"left\\\": -0.2792, \\\"right\\\": 1.7462, \\\"count\\\": 2738}, {\\\"left\\\": 1.7462, \\\"right\\\": 3.7716, \\\"count\\\": 4121}, {\\\"left\\\": 3.7716, \\\"right\\\": 5.797, \\\"count\\\": 6015}, {\\\"left\\\": 5.797, \\\"right\\\": 7.8224, \\\"count\\\": 7969}, {\\\"left\\\": 7.8224, \\\"right\\\": 9.8478, \\\"count\\\": 9652}, {\\\"left\\\": 9.8478, \\\"right\\\": 11.8732, \\\"count\\\": 10836}, {\\\"left\\\": 11.8732, \\\"right\\\": 13.8986, \\\"count\\\": 11796}, {\\\"left\\\": 13.8986, \\\"right\\\": 15.924, \\\"count\\\": 12034}, {\\\"left\\\": 15.924, \\\"right\\\": 17.9494, \\\"count\\\": 11516}, {\\\"left\\\": 17.9494, \\\"right\\\": 19.9748, \\\"count\\\": 10868}, {\\\"left\\\": 19.9748, \\\"right\\\": 22.0002, \\\"count\\\": 9756}, {\\\"left\\\": 22.0002, \\\"right\\\": 24.0256, \\\"count\\\": 8506}, {\\\"left\\\": 24.0256, \\\"right\\\": 26.051, \\\"count\\\": 6122}, {\\\"left\\\": 26.051, \\\"right\\\": 28.0764, \\\"count\\\": 3907}, {\\\"left\\\": 28.0764, \\\"right\\\": 30.1018, \\\"count\\\": 3188}, {\\\"left\\\": 30.1018, \\\"right\\\": 32.1272, \\\"count\\\": 1817}, {\\\"left\\\": 32.1272, \\\"right\\\": 34.1526, \\\"count\\\": 1331}, {\\\"left\\\": 34.1526, \\\"right\\\": 36.178, \\\"count\\\": 401}, {\\\"left\\\": 36.178, \\\"right\\\": 38.2034, \\\"count\\\": 25}, {\\\"left\\\": 38.2034, \\\"right\\\": 40.2288, \\\"count\\\": 9}], \\\"categorical\\\": []}, {\\\"a\\\": 25, \\\"title\\\": \\\"delinq_2yrs\\\", \\\"num_row\\\": 122607, \\\"type\\\": \\\"integer\\\", \\\"num_unique\\\": 19, \\\"num_missing\\\": 29, \\\"mean\\\": 0.211996, \\\"min\\\": 0.0, \\\"max\\\": 29.0, \\\"median\\\": 0.0, \\\"stdev\\\": 0.662049, \\\"numeric\\\": [{\\\"left\\\": -0.24076, \\\"right\\\": 1.2338, \\\"count\\\": 117535}, {\\\"left\\\": 1.2338, \\\"right\\\": 2.70836, \\\"count\\\": 3255}, {\\\"left\\\": 2.70836, \\\"right\\\": 4.18292, \\\"count\\\": 1371}, {\\\"left\\\": 4.18292, \\\"right\\\": 5.65748, \\\"count\\\": 202}, {\\\"left\\\": 5.65748, \\\"right\\\": 7.13204, \\\"count\\\": 141}, {\\\"left\\\": 7.13204, \\\"right\\\": 8.6066, \\\"count\\\": 27}, {\\\"left\\\": 8.6066, \\\"right\\\": 10.0812, \\\"count\\\": 23}, {\\\"left\\\": 10.0812, \\\"right\\\": 11.5557, \\\"count\\\": 8}, {\\\"left\\\": 11.5557, \\\"right\\\": 13.0303, \\\"count\\\": 8}, {\\\"left\\\": 13.0303, \\\"right\\\": 14.5048, \\\"count\\\": 4}, {\\\"left\\\": 14.5048, \\\"right\\\": 15.9794, \\\"count\\\": 2}, {\\\"left\\\": 15.9794, \\\"right\\\": 17.454, \\\"count\\\": 0}, {\\\"left\\\": 17.454, \\\"right\\\": 18.9285, \\\"count\\\": 1}, {\\\"left\\\": 18.9285, \\\"right\\\": 20.4031, \\\"count\\\": 0}, {\\\"left\\\": 20.4031, \\\"right\\\": 21.8776, \\\"count\\\": 0}, {\\\"left\\\": 21.8776, \\\"right\\\": 23.3522, \\\"count\\\": 0}, {\\\"left\\\": 23.3522, \\\"right\\\": 24.8268, \\\"count\\\": 0}, {\\\"left\\\": 24.8268, \\\"right\\\": 26.3013, \\\"count\\\": 0}, {\\\"left\\\": 26.3013, \\\"right\\\": 27.7759, \\\"count\\\": 0}, {\\\"left\\\": 27.7759, \\\"right\\\": 29.2504, \\\"count\\\": 1}, {\\\"missing\\\": true, \\\"count\\\": 29}], \\\"categorical\\\": []}, {\\\"a\\\": 26, \\\"title\\\": \\\"earliest_cr_line\\\", \\\"num_row\\\": 122607, \\\"type\\\": \\\"str\\\", \\\"num_unique\\\": 598, \\\"num_missing\\\": 0, \\\"categorical\\\": [{\\\"label\\\": \\\"20001001T000000\\\", \\\"label_idx\\\": 0, \\\"count\\\": 1103, \\\"percentage\\\": \\\"0.899622%\\\"}, {\\\"label\\\": \\\"19991001T000000\\\", \\\"label_idx\\\": 1, \\\"count\\\": 1049, \\\"percentage\\\": \\\"0.855579%\\\"}, {\\\"label\\\": \\\"20001101T000000\\\", \\\"label_idx\\\": 2, \\\"count\\\": 997, \\\"percentage\\\": \\\"0.813167%\\\"}, {\\\"label\\\": \\\"20011001T000000\\\", \\\"label_idx\\\": 3, \\\"count\\\": 970, \\\"percentage\\\": \\\"0.791146%\\\"}, {\\\"label\\\": \\\"19991101T000000\\\", \\\"label_idx\\\": 4, \\\"count\\\": 965, \\\"percentage\\\": \\\"0.787068%\\\"}, {\\\"label\\\": \\\"19981201T000000\\\", \\\"label_idx\\\": 5, \\\"count\\\": 946, \\\"percentage\\\": \\\"0.771571%\\\"}, {\\\"label\\\": \\\"20021001T000000\\\", \\\"label_idx\\\": 6, \\\"count\\\": 909, \\\"percentage\\\": \\\"0.741393%\\\"}, {\\\"label\\\": \\\"20000801T000000\\\", \\\"label_idx\\\": 7, \\\"count\\\": 896, \\\"percentage\\\": \\\"0.73079%\\\"}, {\\\"label\\\": \\\"20000901T000000\\\", \\\"label_idx\\\": 8, \\\"count\\\": 870, \\\"percentage\\\": \\\"0.709584%\\\"}, {\\\"label\\\": \\\"20000101T000000\\\", \\\"label_idx\\\": 9, \\\"count\\\": 867, \\\"percentage\\\": \\\"0.707137%\\\"}, {\\\"label\\\": \\\"Other (588 labels)\\\", \\\"label_idx\\\": 10, \\\"count\\\": 113035, \\\"percentage\\\": \\\"92.1929%\\\"}], \\\"numeric\\\": []}, {\\\"a\\\": 27, \\\"title\\\": \\\"inq_last_6mths\\\", \\\"num_row\\\": 122607, \\\"type\\\": \\\"integer\\\", \\\"num_unique\\\": 29, \\\"num_missing\\\": 29, \\\"mean\\\": 0.980861, \\\"min\\\": 0.0, \\\"max\\\": 33.0, \\\"median\\\": 1.0, \\\"stdev\\\": 1.263583, \\\"numeric\\\": [{\\\"left\\\": -0.136, \\\"right\\\": 1.528, \\\"count\\\": 91032}, {\\\"left\\\": 1.528, \\\"right\\\": 3.192, \\\"count\\\": 27091}, {\\\"left\\\": 3.192, \\\"right\\\": 4.856, \\\"count\\\": 2397}, {\\\"left\\\": 4.856, \\\"right\\\": 6.52, \\\"count\\\": 1613}, {\\\"left\\\": 6.52, \\\"right\\\": 8.184, \\\"count\\\": 300}, {\\\"left\\\": 8.184, \\\"right\\\": 9.848, \\\"count\\\": 50}, {\\\"left\\\": 9.848, \\\"right\\\": 11.512, \\\"count\\\": 39}, {\\\"left\\\": 11.512, \\\"right\\\": 13.176, \\\"count\\\": 21}, {\\\"left\\\": 13.176, \\\"right\\\": 14.84, \\\"count\\\": 6}, {\\\"left\\\": 14.84, \\\"right\\\": 16.504, \\\"count\\\": 12}, {\\\"left\\\": 16.504, \\\"right\\\": 18.168, \\\"count\\\": 6}, {\\\"left\\\": 18.168, \\\"right\\\": 19.832, \\\"count\\\": 2}, {\\\"left\\\": 19.832, \\\"right\\\": 21.496, \\\"count\\\": 1}, {\\\"left\\\": 21.496, \\\"right\\\": 23.16, \\\"count\\\": 0}, {\\\"left\\\": 23.16, \\\"right\\\": 24.824, \\\"count\\\": 2}, {\\\"left\\\": 24.824, \\\"right\\\": 26.488, \\\"count\\\": 1}, {\\\"left\\\": 26.488, \\\"right\\\": 28.152, \\\"count\\\": 2}, {\\\"left\\\": 28.152, \\\"right\\\": 29.816, \\\"count\\\": 0}, {\\\"left\\\": 29.816, \\\"right\\\": 31.48, \\\"count\\\": 1}, {\\\"left\\\": 31.48, \\\"right\\\": 33.144, \\\"count\\\": 2}, {\\\"missing\\\": true, \\\"count\\\": 29}], \\\"categorical\\\": []}, {\\\"a\\\": 28, \\\"title\\\": \\\"mths_since_last_delinq\\\", \\\"num_row\\\": 122607, \\\"type\\\": \\\"integer\\\", \\\"num_unique\\\": 117, \\\"num_missing\\\": 72107, \\\"mean\\\": 35.258198, \\\"min\\\": 0.0, \\\"max\\\": 152.0, \\\"median\\\": 33.0, \\\"stdev\\\": 21.949857, \\\"numeric\\\": [{\\\"left\\\": -2.61644, \\\"right\\\": 5.24788, \\\"count\\\": 2971}, {\\\"left\\\": 5.24788, \\\"right\\\": 13.1122, \\\"count\\\": 6803}, {\\\"left\\\": 13.1122, \\\"right\\\": 20.9765, \\\"count\\\": 5992}, {\\\"left\\\": 20.9765, \\\"right\\\": 28.8408, \\\"count\\\": 6266}, {\\\"left\\\": 28.8408, \\\"right\\\": 36.7052, \\\"count\\\": 6039}, {\\\"left\\\": 36.7052, \\\"right\\\": 44.5695, \\\"count\\\": 5657}, {\\\"left\\\": 44.5695, \\\"right\\\": 52.4338, \\\"count\\\": 4771}, {\\\"left\\\": 52.4338, \\\"right\\\": 60.2981, \\\"count\\\": 3572}, {\\\"left\\\": 60.2981, \\\"right\\\": 68.1624, \\\"count\\\": 3390}, {\\\"left\\\": 68.1624, \\\"right\\\": 76.0268, \\\"count\\\": 3134}, {\\\"left\\\": 76.0268, \\\"right\\\": 83.8911, \\\"count\\\": 1853}, {\\\"left\\\": 83.8911, \\\"right\\\": 91.7554, \\\"count\\\": 21}, {\\\"left\\\": 91.7554, \\\"right\\\": 99.6197, \\\"count\\\": 11}, {\\\"left\\\": 99.6197, \\\"right\\\": 107.484, \\\"count\\\": 8}, {\\\"left\\\": 107.484, \\\"right\\\": 115.348, \\\"count\\\": 4}, {\\\"left\\\": 115.348, \\\"right\\\": 123.213, \\\"count\\\": 2}, {\\\"left\\\": 123.213, \\\"right\\\": 131.077, \\\"count\\\": 1}, {\\\"left\\\": 131.077, \\\"right\\\": 138.941, \\\"count\\\": 1}, {\\\"left\\\": 138.941, \\\"right\\\": 146.806, \\\"count\\\": 1}, {\\\"left\\\": 146.806, \\\"right\\\": 154.67, \\\"count\\\": 3}, {\\\"missing\\\": true, \\\"count\\\": 72107}], \\\"categorical\\\": []}, {\\\"a\\\": 29, \\\"title\\\": \\\"mths_since_last_record\\\", \\\"num_row\\\": 122607, \\\"type\\\": \\\"integer\\\", \\\"num_unique\\\": 124, \\\"num_missing\\\": 110076, \\\"mean\\\": 73.964488, \\\"min\\\": 0.0, \\\"max\\\": 129.0, \\\"median\\\": 86.0, \\\"stdev\\\": 35.854109, \\\"numeric\\\": [{\\\"left\\\": -0.97804, \\\"right\\\": 5.57556, \\\"count\\\": 1300}, {\\\"left\\\": 5.57556, \\\"right\\\": 12.1292, \\\"count\\\": 79}, {\\\"left\\\": 12.1292, \\\"right\\\": 18.6828, \\\"count\\\": 90}, {\\\"left\\\": 18.6828, \\\"right\\\": 25.2364, \\\"count\\\": 162}, {\\\"left\\\": 25.2364, \\\"right\\\": 31.79, \\\"count\\\": 218}, {\\\"left\\\": 31.79, \\\"right\\\": 38.3436, \\\"count\\\": 325}, {\\\"left\\\": 38.3436, \\\"right\\\": 44.8972, \\\"count\\\": 360}, {\\\"left\\\": 44.8972, \\\"right\\\": 51.4508, \\\"count\\\": 553}, {\\\"left\\\": 51.4508, \\\"right\\\": 58.0044, \\\"count\\\": 709}, {\\\"left\\\": 58.0044, \\\"right\\\": 64.558, \\\"count\\\": 602}, {\\\"left\\\": 64.558, \\\"right\\\": 71.1116, \\\"count\\\": 630}, {\\\"left\\\": 71.1116, \\\"right\\\": 77.6652, \\\"count\\\": 508}, {\\\"left\\\": 77.6652, \\\"right\\\": 84.2188, \\\"count\\\": 536}, {\\\"left\\\": 84.2188, \\\"right\\\": 90.7724, \\\"count\\\": 880}, {\\\"left\\\": 90.7724, \\\"right\\\": 97.326, \\\"count\\\": 1332}, {\\\"left\\\": 97.326, \\\"right\\\": 103.88, \\\"count\\\": 1185}, {\\\"left\\\": 103.88, \\\"right\\\": 110.433, \\\"count\\\": 1409}, {\\\"left\\\": 110.433, \\\"right\\\": 116.987, \\\"count\\\": 1181}, {\\\"left\\\": 116.987, \\\"right\\\": 123.54, \\\"count\\\": 471}, {\\\"left\\\": 123.54, \\\"right\\\": 130.094, \\\"count\\\": 1}, {\\\"missing\\\": true, \\\"count\\\": 110076}], \\\"categorical\\\": []}, {\\\"a\\\": 30, \\\"title\\\": \\\"open_acc\\\", \\\"num_row\\\": 122607, \\\"type\\\": \\\"integer\\\", \\\"num_unique\\\": 55, \\\"num_missing\\\": 29, \\\"mean\\\": 10.457749, \\\"min\\\": 0.0, \\\"max\\\": 76.0, \\\"median\\\": 10.0, \\\"stdev\\\": 4.713938, \\\"numeric\\\": [{\\\"left\\\": -1.40868, \\\"right\\\": 2.52348, \\\"count\\\": 1006}, {\\\"left\\\": 2.52348, \\\"right\\\": 6.45564, \\\"count\\\": 23376}, {\\\"left\\\": 6.45564, \\\"right\\\": 10.3878, \\\"count\\\": 44994}, {\\\"left\\\": 10.3878, \\\"right\\\": 14.32, \\\"count\\\": 31767}, {\\\"left\\\": 14.32, \\\"right\\\": 18.2521, \\\"count\\\": 14047}, {\\\"left\\\": 18.2521, \\\"right\\\": 22.1843, \\\"count\\\": 5107}, {\\\"left\\\": 22.1843, \\\"right\\\": 26.1164, \\\"count\\\": 1633}, {\\\"left\\\": 26.1164, \\\"right\\\": 30.0486, \\\"count\\\": 401}, {\\\"left\\\": 30.0486, \\\"right\\\": 33.9808, \\\"count\\\": 119}, {\\\"left\\\": 33.9808, \\\"right\\\": 37.9129, \\\"count\\\": 77}, {\\\"left\\\": 37.9129, \\\"right\\\": 41.8451, \\\"count\\\": 34}, {\\\"left\\\": 41.8451, \\\"right\\\": 45.7772, \\\"count\\\": 5}, {\\\"left\\\": 45.7772, \\\"right\\\": 49.7094, \\\"count\\\": 7}, {\\\"left\\\": 49.7094, \\\"right\\\": 53.6416, \\\"count\\\": 3}, {\\\"left\\\": 53.6416, \\\"right\\\": 57.5737, \\\"count\\\": 0}, {\\\"left\\\": 57.5737, \\\"right\\\": 61.5059, \\\"count\\\": 1}, {\\\"left\\\": 61.5059, \\\"right\\\": 65.438, \\\"count\\\": 0}, {\\\"left\\\": 65.438, \\\"right\\\": 69.3702, \\\"count\\\": 0}, {\\\"left\\\": 69.3702, \\\"right\\\": 73.3024, \\\"count\\\": 0}, {\\\"left\\\": 73.3024, \\\"right\\\": 77.2345, \\\"count\\\": 1}, {\\\"missing\\\": true, \\\"count\\\": 29}], \\\"categorical\\\": []}, {\\\"a\\\": 31, \\\"title\\\": \\\"pub_rec\\\", \\\"num_row\\\": 122607, \\\"type\\\": \\\"integer\\\", \\\"num_unique\\\": 13, \\\"num_missing\\\": 29, \\\"mean\\\": 0.103477, \\\"min\\\": 0.0, \\\"max\\\": 11.0, \\\"median\\\": 0.0, \\\"stdev\\\": 0.359381, \\\"numeric\\\": [{\\\"left\\\": -0.24076, \\\"right\\\": 0.33268, \\\"count\\\": 111322}, {\\\"left\\\": 0.33268, \\\"right\\\": 0.90612, \\\"count\\\": 0}, {\\\"left\\\": 0.90612, \\\"right\\\": 1.47956, \\\"count\\\": 10283}, {\\\"left\\\": 1.47956, \\\"right\\\": 2.053, \\\"count\\\": 702}, {\\\"left\\\": 2.053, \\\"right\\\": 2.62644, \\\"count\\\": 0}, {\\\"left\\\": 2.62644, \\\"right\\\": 3.19988, \\\"count\\\": 173}, {\\\"left\\\": 3.19988, \\\"right\\\": 3.77332, \\\"count\\\": 0}, {\\\"left\\\": 3.77332, \\\"right\\\": 4.34676, \\\"count\\\": 52}, {\\\"left\\\": 4.34676, \\\"right\\\": 4.9202, \\\"count\\\": 0}, {\\\"left\\\": 4.9202, \\\"right\\\": 5.49364, \\\"count\\\": 23}, {\\\"left\\\": 5.49364, \\\"right\\\": 6.06708, \\\"count\\\": 16}, {\\\"left\\\": 6.06708, \\\"right\\\": 6.64052, \\\"count\\\": 0}, {\\\"left\\\": 6.64052, \\\"right\\\": 7.21396, \\\"count\\\": 3}, {\\\"left\\\": 7.21396, \\\"right\\\": 7.7874, \\\"count\\\": 0}, {\\\"left\\\": 7.7874, \\\"right\\\": 8.36084, \\\"count\\\": 1}, {\\\"left\\\": 8.36084, \\\"right\\\": 8.93428, \\\"count\\\": 0}, {\\\"left\\\": 8.93428, \\\"right\\\": 9.50772, \\\"count\\\": 1}, {\\\"left\\\": 9.50772, \\\"right\\\": 10.0812, \\\"count\\\": 1}, {\\\"left\\\": 10.0812, \\\"right\\\": 10.6546, \\\"count\\\": 0}, {\\\"left\\\": 10.6546, \\\"right\\\": 11.228, \\\"count\\\": 1}, {\\\"missing\\\": true, \\\"count\\\": 29}], \\\"categorical\\\": []}, {\\\"a\\\": 32, \\\"title\\\": \\\"revol_bal\\\", \\\"num_row\\\": 122607, \\\"type\\\": \\\"integer\\\", \\\"num_unique\\\": 37172, \\\"num_missing\\\": 0, \\\"mean\\\": 14835.072549, \\\"min\\\": 0.0, \\\"max\\\": 1743266.0, \\\"median\\\": 10589.0, \\\"stdev\\\": 19377.651871, \\\"numeric\\\": [{\\\"left\\\": -47448.8, \\\"right\\\": 44411.7, \\\"count\\\": 118107}, {\\\"left\\\": 44411.7, \\\"right\\\": 136272, \\\"count\\\": 4152}, {\\\"left\\\": 136272, \\\"right\\\": 228133, \\\"count\\\": 250}, {\\\"left\\\": 228133, \\\"right\\\": 319993, \\\"count\\\": 62}, {\\\"left\\\": 319993, \\\"right\\\": 411854, \\\"count\\\": 18}, {\\\"left\\\": 411854, \\\"right\\\": 503714, \\\"count\\\": 9}, {\\\"left\\\": 503714, \\\"right\\\": 595575, \\\"count\\\": 2}, {\\\"left\\\": 595575, \\\"right\\\": 687435, \\\"count\\\": 3}, {\\\"left\\\": 687435, \\\"right\\\": 779296, \\\"count\\\": 1}, {\\\"left\\\": 779296, \\\"right\\\": 871156, \\\"count\\\": 0}, {\\\"left\\\": 871156, \\\"right\\\": 963016, \\\"count\\\": 1}, {\\\"left\\\": 963016, \\\"right\\\": 1054880.0, \\\"count\\\": 0}, {\\\"left\\\": 1054880.0, \\\"right\\\": 1146740.0, \\\"count\\\": 0}, {\\\"left\\\": 1146740.0, \\\"right\\\": 1238600.0, \\\"count\\\": 1}, {\\\"left\\\": 1238600.0, \\\"right\\\": 1330460.0, \\\"count\\\": 0}, {\\\"left\\\": 1330460.0, \\\"right\\\": 1422320.0, \\\"count\\\": 0}, {\\\"left\\\": 1422320.0, \\\"right\\\": 1514180.0, \\\"count\\\": 0}, {\\\"left\\\": 1514180.0, \\\"right\\\": 1606040.0, \\\"count\\\": 0}, {\\\"left\\\": 1606040.0, \\\"right\\\": 1697900.0, \\\"count\\\": 0}, {\\\"left\\\": 1697900.0, \\\"right\\\": 1789760.0, \\\"count\\\": 1}], \\\"categorical\\\": []}, {\\\"a\\\": 33, \\\"title\\\": \\\"revol_util\\\", \\\"num_row\\\": 122607, \\\"type\\\": \\\"float\\\", \\\"num_unique\\\": 1156, \\\"num_missing\\\": 0, \\\"mean\\\": 53.716307, \\\"min\\\": 0.0, \\\"max\\\": 150.7, \\\"median\\\": 55.6, \\\"stdev\\\": 25.723776, \\\"numeric\\\": [{\\\"left\\\": -1.8936, \\\"right\\\": 5.8336, \\\"count\\\": 5049}, {\\\"left\\\": 5.8336, \\\"right\\\": 13.5608, \\\"count\\\": 5084}, {\\\"left\\\": 13.5608, \\\"right\\\": 21.288, \\\"count\\\": 6141}, {\\\"left\\\": 21.288, \\\"right\\\": 29.0152, \\\"count\\\": 7710}, {\\\"left\\\": 29.0152, \\\"right\\\": 36.7424, \\\"count\\\": 9128}, {\\\"left\\\": 36.7424, \\\"right\\\": 44.4696, \\\"count\\\": 10602}, {\\\"left\\\": 44.4696, \\\"right\\\": 52.1968, \\\"count\\\": 11936}, {\\\"left\\\": 52.1968, \\\"right\\\": 59.924, \\\"count\\\": 12761}, {\\\"left\\\": 59.924, \\\"right\\\": 67.6512, \\\"count\\\": 12857}, {\\\"left\\\": 67.6512, \\\"right\\\": 75.3784, \\\"count\\\": 12233}, {\\\"left\\\": 75.3784, \\\"right\\\": 83.1056, \\\"count\\\": 11462}, {\\\"left\\\": 83.1056, \\\"right\\\": 90.8328, \\\"count\\\": 9594}, {\\\"left\\\": 90.8328, \\\"right\\\": 98.56, \\\"count\\\": 7270}, {\\\"left\\\": 98.56, \\\"right\\\": 106.287, \\\"count\\\": 758}, {\\\"left\\\": 106.287, \\\"right\\\": 114.014, \\\"count\\\": 17}, {\\\"left\\\": 114.014, \\\"right\\\": 121.742, \\\"count\\\": 3}, {\\\"left\\\": 121.742, \\\"right\\\": 129.469, \\\"count\\\": 1}, {\\\"left\\\": 129.469, \\\"right\\\": 137.196, \\\"count\\\": 0}, {\\\"left\\\": 137.196, \\\"right\\\": 144.923, \\\"count\\\": 0}, {\\\"left\\\": 144.923, \\\"right\\\": 152.65, \\\"count\\\": 1}], \\\"categorical\\\": []}, {\\\"a\\\": 34, \\\"title\\\": \\\"total_acc\\\", \\\"num_row\\\": 122607, \\\"type\\\": \\\"integer\\\", \\\"num_unique\\\": 90, \\\"num_missing\\\": 29, \\\"mean\\\": 24.248169, \\\"min\\\": 1.0, \\\"max\\\": 118.0, \\\"median\\\": 23.0, \\\"stdev\\\": 11.629767, \\\"numeric\\\": [{\\\"left\\\": -1.18, \\\"right\\\": 4.9, \\\"count\\\": 1026}, {\\\"left\\\": 4.9, \\\"right\\\": 10.98, \\\"count\\\": 11056}, {\\\"left\\\": 10.98, \\\"right\\\": 17.06, \\\"count\\\": 26578}, {\\\"left\\\": 17.06, \\\"right\\\": 23.14, \\\"count\\\": 26106}, {\\\"left\\\": 23.14, \\\"right\\\": 29.22, \\\"count\\\": 22296}, {\\\"left\\\": 29.22, \\\"right\\\": 35.3, \\\"count\\\": 15732}, {\\\"left\\\": 35.3, \\\"right\\\": 41.38, \\\"count\\\": 9393}, {\\\"left\\\": 41.38, \\\"right\\\": 47.46, \\\"count\\\": 5323}, {\\\"left\\\": 47.46, \\\"right\\\": 53.54, \\\"count\\\": 2726}, {\\\"left\\\": 53.54, \\\"right\\\": 59.62, \\\"count\\\": 1308}, {\\\"left\\\": 59.62, \\\"right\\\": 65.7, \\\"count\\\": 930}, {\\\"left\\\": 65.7, \\\"right\\\": 71.78, \\\"count\\\": 53}, {\\\"left\\\": 71.78, \\\"right\\\": 77.86, \\\"count\\\": 26}, {\\\"left\\\": 77.86, \\\"right\\\": 83.94, \\\"count\\\": 13}, {\\\"left\\\": 83.94, \\\"right\\\": 90.02, \\\"count\\\": 8}, {\\\"left\\\": 90.02, \\\"right\\\": 96.1, \\\"count\\\": 2}, {\\\"left\\\": 96.1, \\\"right\\\": 102.18, \\\"count\\\": 1}, {\\\"left\\\": 102.18, \\\"right\\\": 108.26, \\\"count\\\": 0}, {\\\"left\\\": 108.26, \\\"right\\\": 114.34, \\\"count\\\": 0}, {\\\"left\\\": 114.34, \\\"right\\\": 120.42, \\\"count\\\": 1}, {\\\"missing\\\": true, \\\"count\\\": 29}], \\\"categorical\\\": []}, {\\\"a\\\": 35, \\\"title\\\": \\\"initial_list_status\\\", \\\"num_row\\\": 122607, \\\"type\\\": \\\"str\\\", \\\"num_unique\\\": 2, \\\"num_missing\\\": 0, \\\"categorical\\\": [{\\\"label\\\": \\\"f\\\", \\\"label_idx\\\": 0, \\\"count\\\": 102225, \\\"percentage\\\": \\\"83.3762%\\\"}, {\\\"label\\\": \\\"w\\\", \\\"label_idx\\\": 1, \\\"count\\\": 20382, \\\"percentage\\\": \\\"16.6238%\\\"}], \\\"numeric\\\": []}, {\\\"a\\\": 36, \\\"title\\\": \\\"out_prncp\\\", \\\"num_row\\\": 122607, \\\"type\\\": \\\"float\\\", \\\"num_unique\\\": 240, \\\"num_missing\\\": 0, \\\"mean\\\": 22.028899, \\\"min\\\": 0.0, \\\"max\\\": 34310.2, \\\"median\\\": 0.0, \\\"stdev\\\": 611.508479, \\\"numeric\\\": [{\\\"left\\\": -419.425, \\\"right\\\": 1342.18, \\\"count\\\": 122376}, {\\\"left\\\": 1342.18, \\\"right\\\": 3103.79, \\\"count\\\": 22}, {\\\"left\\\": 3103.79, \\\"right\\\": 4865.4, \\\"count\\\": 33}, {\\\"left\\\": 4865.4, \\\"right\\\": 6627.01, \\\"count\\\": 22}, {\\\"left\\\": 6627.01, \\\"right\\\": 8388.61, \\\"count\\\": 27}, {\\\"left\\\": 8388.61, \\\"right\\\": 10150.2, \\\"count\\\": 20}, {\\\"left\\\": 10150.2, \\\"right\\\": 11911.8, \\\"count\\\": 11}, {\\\"left\\\": 11911.8, \\\"right\\\": 13673.4, \\\"count\\\": 15}, {\\\"left\\\": 13673.4, \\\"right\\\": 15435, \\\"count\\\": 16}, {\\\"left\\\": 15435, \\\"right\\\": 17196.7, \\\"count\\\": 10}, {\\\"left\\\": 17196.7, \\\"right\\\": 18958.3, \\\"count\\\": 13}, {\\\"left\\\": 18958.3, \\\"right\\\": 20719.9, \\\"count\\\": 9}, {\\\"left\\\": 20719.9, \\\"right\\\": 22481.5, \\\"count\\\": 6}, {\\\"left\\\": 22481.5, \\\"right\\\": 24243.1, \\\"count\\\": 7}, {\\\"left\\\": 24243.1, \\\"right\\\": 26004.7, \\\"count\\\": 4}, {\\\"left\\\": 26004.7, \\\"right\\\": 27766.3, \\\"count\\\": 7}, {\\\"left\\\": 27766.3, \\\"right\\\": 29527.9, \\\"count\\\": 0}, {\\\"left\\\": 29527.9, \\\"right\\\": 31289.5, \\\"count\\\": 2}, {\\\"left\\\": 31289.5, \\\"right\\\": 33051.1, \\\"count\\\": 3}, {\\\"left\\\": 33051.1, \\\"right\\\": 34812.7, \\\"count\\\": 4}], \\\"categorical\\\": []}, {\\\"a\\\": 37, \\\"title\\\": \\\"out_prncp_inv\\\", \\\"num_row\\\": 122607, \\\"type\\\": \\\"float\\\", \\\"num_unique\\\": 240, \\\"num_missing\\\": 0, \\\"mean\\\": 22.015354, \\\"min\\\": 0.0, \\\"max\\\": 34310.2, \\\"median\\\": 0.0, \\\"stdev\\\": 611.113565, \\\"numeric\\\": [{\\\"left\\\": -419.425, \\\"right\\\": 1342.18, \\\"count\\\": 122376}, {\\\"left\\\": 1342.18, \\\"right\\\": 3103.79, \\\"count\\\": 22}, {\\\"left\\\": 3103.79, \\\"right\\\": 4865.4, \\\"count\\\": 33}, {\\\"left\\\": 4865.4, \\\"right\\\": 6627.01, \\\"count\\\": 22}, {\\\"left\\\": 6627.01, \\\"right\\\": 8388.61, \\\"count\\\": 27}, {\\\"left\\\": 8388.61, \\\"right\\\": 10150.2, \\\"count\\\": 20}, {\\\"left\\\": 10150.2, \\\"right\\\": 11911.8, \\\"count\\\": 11}, {\\\"left\\\": 11911.8, \\\"right\\\": 13673.4, \\\"count\\\": 15}, {\\\"left\\\": 13673.4, \\\"right\\\": 15435, \\\"count\\\": 16}, {\\\"left\\\": 15435, \\\"right\\\": 17196.7, \\\"count\\\": 10}, {\\\"left\\\": 17196.7, \\\"right\\\": 18958.3, \\\"count\\\": 13}, {\\\"left\\\": 18958.3, \\\"right\\\": 20719.9, \\\"count\\\": 9}, {\\\"left\\\": 20719.9, \\\"right\\\": 22481.5, \\\"count\\\": 6}, {\\\"left\\\": 22481.5, \\\"right\\\": 24243.1, \\\"count\\\": 7}, {\\\"left\\\": 24243.1, \\\"right\\\": 26004.7, \\\"count\\\": 4}, {\\\"left\\\": 26004.7, \\\"right\\\": 27766.3, \\\"count\\\": 7}, {\\\"left\\\": 27766.3, \\\"right\\\": 29527.9, \\\"count\\\": 0}, {\\\"left\\\": 29527.9, \\\"right\\\": 31289.5, \\\"count\\\": 2}, {\\\"left\\\": 31289.5, \\\"right\\\": 33051.1, \\\"count\\\": 3}, {\\\"left\\\": 33051.1, \\\"right\\\": 34812.7, \\\"count\\\": 4}], \\\"categorical\\\": []}, {\\\"a\\\": 38, \\\"title\\\": \\\"total_pymnt\\\", \\\"num_row\\\": 122607, \\\"type\\\": \\\"float\\\", \\\"num_unique\\\": 107958, \\\"num_missing\\\": 0, \\\"mean\\\": 12510.211529, \\\"min\\\": 0.0, \\\"max\\\": 55758.2, \\\"median\\\": 10566.9, \\\"stdev\\\": 9046.294537, \\\"numeric\\\": [{\\\"left\\\": -136.447, \\\"right\\\": 2658.51, \\\"count\\\": 11441}, {\\\"left\\\": 2658.51, \\\"right\\\": 5453.47, \\\"count\\\": 17409}, {\\\"left\\\": 5453.47, \\\"right\\\": 8248.43, \\\"count\\\": 19156}, {\\\"left\\\": 8248.43, \\\"right\\\": 11043.4, \\\"count\\\": 16566}, {\\\"left\\\": 11043.4, \\\"right\\\": 13838.3, \\\"count\\\": 15092}, {\\\"left\\\": 13838.3, \\\"right\\\": 16633.3, \\\"count\\\": 10328}, {\\\"left\\\": 16633.3, \\\"right\\\": 19428.3, \\\"count\\\": 8273}, {\\\"left\\\": 19428.3, \\\"right\\\": 22223.2, \\\"count\\\": 6572}, {\\\"left\\\": 22223.2, \\\"right\\\": 25018.2, \\\"count\\\": 5041}, {\\\"left\\\": 25018.2, \\\"right\\\": 27813.1, \\\"count\\\": 3741}, {\\\"left\\\": 27813.1, \\\"right\\\": 30608.1, \\\"count\\\": 2727}, {\\\"left\\\": 30608.1, \\\"right\\\": 33403.1, \\\"count\\\": 1921}, {\\\"left\\\": 33403.1, \\\"right\\\": 36198, \\\"count\\\": 1338}, {\\\"left\\\": 36198, \\\"right\\\": 38993, \\\"count\\\": 1301}, {\\\"left\\\": 38993, \\\"right\\\": 41787.9, \\\"count\\\": 894}, {\\\"left\\\": 41787.9, \\\"right\\\": 44582.9, \\\"count\\\": 493}, {\\\"left\\\": 44582.9, \\\"right\\\": 47377.9, \\\"count\\\": 194}, {\\\"left\\\": 47377.9, \\\"right\\\": 50172.8, \\\"count\\\": 82}, {\\\"left\\\": 50172.8, \\\"right\\\": 52967.8, \\\"count\\\": 32}, {\\\"left\\\": 52967.8, \\\"right\\\": 55762.7, \\\"count\\\": 6}], \\\"categorical\\\": []}, {\\\"a\\\": 39, \\\"title\\\": \\\"total_pymnt_inv\\\", \\\"num_row\\\": 122607, \\\"type\\\": \\\"float\\\", \\\"num_unique\\\": 108549, \\\"num_missing\\\": 0, \\\"mean\\\": 12269.338465, \\\"min\\\": 0.0, \\\"max\\\": 53913.9, \\\"median\\\": 10356.0, \\\"stdev\\\": 9061.556841, \\\"numeric\\\": [{\\\"left\\\": -746.887, \\\"right\\\": 2031.2, \\\"count\\\": 9153}, {\\\"left\\\": 2031.2, \\\"right\\\": 4809.29, \\\"count\\\": 16993}, {\\\"left\\\": 4809.29, \\\"right\\\": 7587.38, \\\"count\\\": 19445}, {\\\"left\\\": 7587.38, \\\"right\\\": 10365.5, \\\"count\\\": 15796}, {\\\"left\\\": 10365.5, \\\"right\\\": 13143.6, \\\"count\\\": 16102}, {\\\"left\\\": 13143.6, \\\"right\\\": 15921.6, \\\"count\\\": 10705}, {\\\"left\\\": 15921.6, \\\"right\\\": 18699.7, \\\"count\\\": 8944}, {\\\"left\\\": 18699.7, \\\"right\\\": 21477.8, \\\"count\\\": 6429}, {\\\"left\\\": 21477.8, \\\"right\\\": 24255.9, \\\"count\\\": 5482}, {\\\"left\\\": 24255.9, \\\"right\\\": 27034, \\\"count\\\": 4000}, {\\\"left\\\": 27034, \\\"right\\\": 29812.1, \\\"count\\\": 2755}, {\\\"left\\\": 29812.1, \\\"right\\\": 32590.2, \\\"count\\\": 2078}, {\\\"left\\\": 32590.2, \\\"right\\\": 35368.3, \\\"count\\\": 1286}, {\\\"left\\\": 35368.3, \\\"right\\\": 38146.3, \\\"count\\\": 1442}, {\\\"left\\\": 38146.3, \\\"right\\\": 40924.4, \\\"count\\\": 1021}, {\\\"left\\\": 40924.4, \\\"right\\\": 43702.5, \\\"count\\\": 568}, {\\\"left\\\": 43702.5, \\\"right\\\": 46480.6, \\\"count\\\": 263}, {\\\"left\\\": 46480.6, \\\"right\\\": 49258.7, \\\"count\\\": 94}, {\\\"left\\\": 49258.7, \\\"right\\\": 52036.8, \\\"count\\\": 42}, {\\\"left\\\": 52036.8, \\\"right\\\": 54814.9, \\\"count\\\": 9}], \\\"categorical\\\": []}, {\\\"a\\\": 40, \\\"title\\\": \\\"total_rec_prncp\\\", \\\"num_row\\\": 122607, \\\"type\\\": \\\"float\\\", \\\"num_unique\\\": 23895, \\\"num_missing\\\": 0, \\\"mean\\\": 10707.86497, \\\"min\\\": 0.0, \\\"max\\\": 35000.0, \\\"median\\\": 9124.99, \\\"stdev\\\": 8041.743606, \\\"numeric\\\": [{\\\"left\\\": -688.512, \\\"right\\\": 1128.9, \\\"count\\\": 7259}, {\\\"left\\\": 1128.9, \\\"right\\\": 2946.32, \\\"count\\\": 12511}, {\\\"left\\\": 2946.32, \\\"right\\\": 4763.74, \\\"count\\\": 11761}, {\\\"left\\\": 4763.74, \\\"right\\\": 6581.15, \\\"count\\\": 14740}, {\\\"left\\\": 6581.15, \\\"right\\\": 8398.57, \\\"count\\\": 11202}, {\\\"left\\\": 8398.57, \\\"right\\\": 10216, \\\"count\\\": 14137}, {\\\"left\\\": 10216, \\\"right\\\": 12033.4, \\\"count\\\": 10224}, {\\\"left\\\": 12033.4, \\\"right\\\": 13850.8, \\\"count\\\": 3834}, {\\\"left\\\": 13850.8, \\\"right\\\": 15668.2, \\\"count\\\": 8569}, {\\\"left\\\": 15668.2, \\\"right\\\": 17485.6, \\\"count\\\": 4634}, {\\\"left\\\": 17485.6, \\\"right\\\": 19303.1, \\\"count\\\": 4276}, {\\\"left\\\": 19303.1, \\\"right\\\": 21120.5, \\\"count\\\": 6359}, {\\\"left\\\": 21120.5, \\\"right\\\": 22937.9, \\\"count\\\": 1553}, {\\\"left\\\": 22937.9, \\\"right\\\": 24755.3, \\\"count\\\": 2604}, {\\\"left\\\": 24755.3, \\\"right\\\": 26572.7, \\\"count\\\": 2757}, {\\\"left\\\": 26572.7, \\\"right\\\": 28390.1, \\\"count\\\": 1402}, {\\\"left\\\": 28390.1, \\\"right\\\": 30207.6, \\\"count\\\": 1632}, {\\\"left\\\": 30207.6, \\\"right\\\": 32025, \\\"count\\\": 443}, {\\\"left\\\": 32025, \\\"right\\\": 33842.4, \\\"count\\\": 290}, {\\\"left\\\": 33842.4, \\\"right\\\": 35659.8, \\\"count\\\": 2420}], \\\"categorical\\\": []}, {\\\"a\\\": 41, \\\"title\\\": \\\"total_rec_int\\\", \\\"num_row\\\": 122607, \\\"type\\\": \\\"float\\\", \\\"num_unique\\\": 100905, \\\"num_missing\\\": 0, \\\"mean\\\": 1696.232305, \\\"min\\\": 0.0, \\\"max\\\": 20758.2, \\\"median\\\": 1136.57, \\\"stdev\\\": 1793.441314, \\\"numeric\\\": [{\\\"left\\\": -496.699, \\\"right\\\": 593.605, \\\"count\\\": 33224}, {\\\"left\\\": 593.605, \\\"right\\\": 1683.91, \\\"count\\\": 47270}, {\\\"left\\\": 1683.91, \\\"right\\\": 2774.21, \\\"count\\\": 20772}, {\\\"left\\\": 2774.21, \\\"right\\\": 3864.52, \\\"count\\\": 9293}, {\\\"left\\\": 3864.52, \\\"right\\\": 4954.82, \\\"count\\\": 5031}, {\\\"left\\\": 4954.82, \\\"right\\\": 6045.12, \\\"count\\\": 2740}, {\\\"left\\\": 6045.12, \\\"right\\\": 7135.43, \\\"count\\\": 1686}, {\\\"left\\\": 7135.43, \\\"right\\\": 8225.73, \\\"count\\\": 1002}, {\\\"left\\\": 8225.73, \\\"right\\\": 9316.04, \\\"count\\\": 619}, {\\\"left\\\": 9316.04, \\\"right\\\": 10406.3, \\\"count\\\": 371}, {\\\"left\\\": 10406.3, \\\"right\\\": 11496.6, \\\"count\\\": 234}, {\\\"left\\\": 11496.6, \\\"right\\\": 12586.9, \\\"count\\\": 133}, {\\\"left\\\": 12586.9, \\\"right\\\": 13677.3, \\\"count\\\": 89}, {\\\"left\\\": 13677.3, \\\"right\\\": 14767.6, \\\"count\\\": 79}, {\\\"left\\\": 14767.6, \\\"right\\\": 15857.9, \\\"count\\\": 33}, {\\\"left\\\": 15857.9, \\\"right\\\": 16948.2, \\\"count\\\": 17}, {\\\"left\\\": 16948.2, \\\"right\\\": 18038.5, \\\"count\\\": 8}, {\\\"left\\\": 18038.5, \\\"right\\\": 19128.8, \\\"count\\\": 4}, {\\\"left\\\": 19128.8, \\\"right\\\": 20219.1, \\\"count\\\": 1}, {\\\"left\\\": 20219.1, \\\"right\\\": 21309.4, \\\"count\\\": 1}], \\\"categorical\\\": []}, {\\\"a\\\": 42, \\\"title\\\": \\\"total_rec_late_fee\\\", \\\"num_row\\\": 122607, \\\"type\\\": \\\"float\\\", \\\"num_unique\\\": 2472, \\\"num_missing\\\": 0, \\\"mean\\\": 0.742344, \\\"min\\\": 0.0, \\\"max\\\": 208.82, \\\"median\\\": 0.0, \\\"stdev\\\": 5.363247, \\\"numeric\\\": [{\\\"left\\\": -0.65036, \\\"right\\\": 9.8354, \\\"count\\\": 119210}, {\\\"left\\\": 9.8354, \\\"right\\\": 20.3212, \\\"count\\\": 1813}, {\\\"left\\\": 20.3212, \\\"right\\\": 30.8069, \\\"count\\\": 771}, {\\\"left\\\": 30.8069, \\\"right\\\": 41.2927, \\\"count\\\": 303}, {\\\"left\\\": 41.2927, \\\"right\\\": 51.7784, \\\"count\\\": 239}, {\\\"left\\\": 51.7784, \\\"right\\\": 62.2642, \\\"count\\\": 113}, {\\\"left\\\": 62.2642, \\\"right\\\": 72.75, \\\"count\\\": 47}, {\\\"left\\\": 72.75, \\\"right\\\": 83.2357, \\\"count\\\": 38}, {\\\"left\\\": 83.2357, \\\"right\\\": 93.7215, \\\"count\\\": 28}, {\\\"left\\\": 93.7215, \\\"right\\\": 104.207, \\\"count\\\": 14}, {\\\"left\\\": 104.207, \\\"right\\\": 114.693, \\\"count\\\": 9}, {\\\"left\\\": 114.693, \\\"right\\\": 125.179, \\\"count\\\": 8}, {\\\"left\\\": 125.179, \\\"right\\\": 135.665, \\\"count\\\": 7}, {\\\"left\\\": 135.665, \\\"right\\\": 146.15, \\\"count\\\": 2}, {\\\"left\\\": 146.15, \\\"right\\\": 156.636, \\\"count\\\": 1}, {\\\"left\\\": 156.636, \\\"right\\\": 167.122, \\\"count\\\": 2}, {\\\"left\\\": 167.122, \\\"right\\\": 177.608, \\\"count\\\": 0}, {\\\"left\\\": 177.608, \\\"right\\\": 188.093, \\\"count\\\": 0}, {\\\"left\\\": 188.093, \\\"right\\\": 198.579, \\\"count\\\": 1}, {\\\"left\\\": 198.579, \\\"right\\\": 209.065, \\\"count\\\": 1}], \\\"categorical\\\": []}, {\\\"a\\\": 43, \\\"title\\\": \\\"recoveries\\\", \\\"num_row\\\": 122607, \\\"type\\\": \\\"float\\\", \\\"num_unique\\\": 10786, \\\"num_missing\\\": 0, \\\"mean\\\": 105.371929, \\\"min\\\": 0.0, \\\"max\\\": 29282.1, \\\"median\\\": 0.0, \\\"stdev\\\": 575.649634, \\\"numeric\\\": [{\\\"left\\\": -301.13, \\\"right\\\": 1197.49, \\\"count\\\": 119057}, {\\\"left\\\": 1197.49, \\\"right\\\": 2696.12, \\\"count\\\": 2378}, {\\\"left\\\": 2696.12, \\\"right\\\": 4194.74, \\\"count\\\": 790}, {\\\"left\\\": 4194.74, \\\"right\\\": 5693.37, \\\"count\\\": 231}, {\\\"left\\\": 5693.37, \\\"right\\\": 7191.99, \\\"count\\\": 43}, {\\\"left\\\": 7191.99, \\\"right\\\": 8690.61, \\\"count\\\": 35}, {\\\"left\\\": 8690.61, \\\"right\\\": 10189.2, \\\"count\\\": 18}, {\\\"left\\\": 10189.2, \\\"right\\\": 11687.9, \\\"count\\\": 13}, {\\\"left\\\": 11687.9, \\\"right\\\": 13186.5, \\\"count\\\": 17}, {\\\"left\\\": 13186.5, \\\"right\\\": 14685.1, \\\"count\\\": 9}, {\\\"left\\\": 14685.1, \\\"right\\\": 16183.7, \\\"count\\\": 7}, {\\\"left\\\": 16183.7, \\\"right\\\": 17682.4, \\\"count\\\": 1}, {\\\"left\\\": 17682.4, \\\"right\\\": 19181, \\\"count\\\": 2}, {\\\"left\\\": 19181, \\\"right\\\": 20679.6, \\\"count\\\": 2}, {\\\"left\\\": 20679.6, \\\"right\\\": 22178.2, \\\"count\\\": 1}, {\\\"left\\\": 22178.2, \\\"right\\\": 23676.9, \\\"count\\\": 1}, {\\\"left\\\": 23676.9, \\\"right\\\": 25175.5, \\\"count\\\": 0}, {\\\"left\\\": 25175.5, \\\"right\\\": 26674.1, \\\"count\\\": 0}, {\\\"left\\\": 26674.1, \\\"right\\\": 28172.7, \\\"count\\\": 1}, {\\\"left\\\": 28172.7, \\\"right\\\": 29671.4, \\\"count\\\": 1}], \\\"categorical\\\": []}, {\\\"a\\\": 44, \\\"title\\\": \\\"collection_recovery_fee\\\", \\\"num_row\\\": 122607, \\\"type\\\": \\\"float\\\", \\\"num_unique\\\": 7236, \\\"num_missing\\\": 0, \\\"mean\\\": 4.957537, \\\"min\\\": 0.0, \\\"max\\\": 7002.19, \\\"median\\\": 0.0, \\\"stdev\\\": 94.426622, \\\"numeric\\\": [{\\\"left\\\": -144.935, \\\"right\\\": 218.79, \\\"count\\\": 122170}, {\\\"left\\\": 218.79, \\\"right\\\": 582.515, \\\"count\\\": 194}, {\\\"left\\\": 582.515, \\\"right\\\": 946.239, \\\"count\\\": 86}, {\\\"left\\\": 946.239, \\\"right\\\": 1309.96, \\\"count\\\": 45}, {\\\"left\\\": 1309.96, \\\"right\\\": 1673.69, \\\"count\\\": 39}, {\\\"left\\\": 1673.69, \\\"right\\\": 2037.41, \\\"count\\\": 12}, {\\\"left\\\": 2037.41, \\\"right\\\": 2401.14, \\\"count\\\": 12}, {\\\"left\\\": 2401.14, \\\"right\\\": 2764.86, \\\"count\\\": 14}, {\\\"left\\\": 2764.86, \\\"right\\\": 3128.59, \\\"count\\\": 6}, {\\\"left\\\": 3128.59, \\\"right\\\": 3492.31, \\\"count\\\": 3}, {\\\"left\\\": 3492.31, \\\"right\\\": 3856.04, \\\"count\\\": 7}, {\\\"left\\\": 3856.04, \\\"right\\\": 4219.76, \\\"count\\\": 5}, {\\\"left\\\": 4219.76, \\\"right\\\": 4583.49, \\\"count\\\": 1}, {\\\"left\\\": 4583.49, \\\"right\\\": 4947.21, \\\"count\\\": 4}, {\\\"left\\\": 4947.21, \\\"right\\\": 5310.94, \\\"count\\\": 3}, {\\\"left\\\": 5310.94, \\\"right\\\": 5674.66, \\\"count\\\": 2}, {\\\"left\\\": 5674.66, \\\"right\\\": 6038.39, \\\"count\\\": 1}, {\\\"left\\\": 6038.39, \\\"right\\\": 6402.11, \\\"count\\\": 0}, {\\\"left\\\": 6402.11, \\\"right\\\": 6765.84, \\\"count\\\": 1}, {\\\"left\\\": 6765.84, \\\"right\\\": 7129.56, \\\"count\\\": 2}], \\\"categorical\\\": []}, {\\\"a\\\": 45, \\\"title\\\": \\\"last_pymnt_d\\\", \\\"num_row\\\": 122607, \\\"type\\\": \\\"str\\\", \\\"num_unique\\\": 88, \\\"num_missing\\\": 0, \\\"categorical\\\": [{\\\"label\\\": \\\"20150101T000000\\\", \\\"label_idx\\\": 0, \\\"count\\\": 6925, \\\"percentage\\\": \\\"5.64813%\\\"}, {\\\"label\\\": \\\"20141001T000000\\\", \\\"label_idx\\\": 1, \\\"count\\\": 6659, \\\"percentage\\\": \\\"5.43117%\\\"}, {\\\"label\\\": \\\"20140901T000000\\\", \\\"label_idx\\\": 2, \\\"count\\\": 6338, \\\"percentage\\\": \\\"5.16936%\\\"}, {\\\"label\\\": \\\"20140701T000000\\\", \\\"label_idx\\\": 3, \\\"count\\\": 6312, \\\"percentage\\\": \\\"5.14816%\\\"}, {\\\"label\\\": \\\"20140801T000000\\\", \\\"label_idx\\\": 4, \\\"count\\\": 6307, \\\"percentage\\\": \\\"5.14408%\\\"}, {\\\"label\\\": \\\"20141201T000000\\\", \\\"label_idx\\\": 5, \\\"count\\\": 5715, \\\"percentage\\\": \\\"4.66123%\\\"}, {\\\"label\\\": \\\"20140601T000000\\\", \\\"label_idx\\\": 6, \\\"count\\\": 5620, \\\"percentage\\\": \\\"4.58375%\\\"}, {\\\"label\\\": \\\"20141101T000000\\\", \\\"label_idx\\\": 7, \\\"count\\\": 4995, \\\"percentage\\\": \\\"4.07399%\\\"}, {\\\"label\\\": \\\"20140501T000000\\\", \\\"label_idx\\\": 8, \\\"count\\\": 4721, \\\"percentage\\\": \\\"3.85051%\\\"}, {\\\"label\\\": \\\"20140301T000000\\\", \\\"label_idx\\\": 9, \\\"count\\\": 4572, \\\"percentage\\\": \\\"3.72899%\\\"}, {\\\"label\\\": \\\"Other (78 labels)\\\", \\\"label_idx\\\": 10, \\\"count\\\": 64443, \\\"percentage\\\": \\\"52.5606%\\\"}], \\\"numeric\\\": []}, {\\\"a\\\": 46, \\\"title\\\": \\\"last_pymnt_amnt\\\", \\\"num_row\\\": 122607, \\\"type\\\": \\\"float\\\", \\\"num_unique\\\": 101288, \\\"num_missing\\\": 0, \\\"mean\\\": 6156.808616, \\\"min\\\": 0.0, \\\"max\\\": 36234.4, \\\"median\\\": 3615.75, \\\"stdev\\\": 7154.978715, \\\"numeric\\\": [{\\\"left\\\": -1024.91, \\\"right\\\": 890.539, \\\"count\\\": 43257}, {\\\"left\\\": 890.539, \\\"right\\\": 2805.99, \\\"count\\\": 13213}, {\\\"left\\\": 2805.99, \\\"right\\\": 4721.45, \\\"count\\\": 11593}, {\\\"left\\\": 4721.45, \\\"right\\\": 6636.9, \\\"count\\\": 10860}, {\\\"left\\\": 6636.9, \\\"right\\\": 8552.35, \\\"count\\\": 9016}, {\\\"left\\\": 8552.35, \\\"right\\\": 10467.8, \\\"count\\\": 7475}, {\\\"left\\\": 10467.8, \\\"right\\\": 12383.3, \\\"count\\\": 5718}, {\\\"left\\\": 12383.3, \\\"right\\\": 14298.7, \\\"count\\\": 4780}, {\\\"left\\\": 14298.7, \\\"right\\\": 16214.2, \\\"count\\\": 3984}, {\\\"left\\\": 16214.2, \\\"right\\\": 18129.6, \\\"count\\\": 3014}, {\\\"left\\\": 18129.6, \\\"right\\\": 20045.1, \\\"count\\\": 2498}, {\\\"left\\\": 20045.1, \\\"right\\\": 21960.5, \\\"count\\\": 1762}, {\\\"left\\\": 21960.5, \\\"right\\\": 23876, \\\"count\\\": 1377}, {\\\"left\\\": 23876, \\\"right\\\": 25791.4, \\\"count\\\": 1205}, {\\\"left\\\": 25791.4, \\\"right\\\": 27706.9, \\\"count\\\": 756}, {\\\"left\\\": 27706.9, \\\"right\\\": 29622.3, \\\"count\\\": 637}, {\\\"left\\\": 29622.3, \\\"right\\\": 31537.8, \\\"count\\\": 546}, {\\\"left\\\": 31537.8, \\\"right\\\": 33453.2, \\\"count\\\": 397}, {\\\"left\\\": 33453.2, \\\"right\\\": 35368.7, \\\"count\\\": 401}, {\\\"left\\\": 35368.7, \\\"right\\\": 37284.2, \\\"count\\\": 118}], \\\"categorical\\\": []}, {\\\"a\\\": 47, \\\"title\\\": \\\"next_pymnt_d\\\", \\\"num_row\\\": 122607, \\\"type\\\": \\\"str\\\", \\\"num_unique\\\": 90, \\\"num_missing\\\": 0, \\\"categorical\\\": [{\\\"label\\\": \\\"\\\", \\\"label_idx\\\": 0, \\\"count\\\": 119700, \\\"percentage\\\": \\\"97.629%\\\"}, {\\\"label\\\": \\\"Other (89 labels)\\\", \\\"label_idx\\\": 1, \\\"count\\\": 2907, \\\"percentage\\\": \\\"2.37099%\\\"}], \\\"numeric\\\": []}, {\\\"a\\\": 48, \\\"title\\\": \\\"last_credit_pull_d\\\", \\\"num_row\\\": 122607, \\\"type\\\": \\\"str\\\", \\\"num_unique\\\": 93, \\\"num_missing\\\": 0, \\\"categorical\\\": [{\\\"label\\\": \\\"20150201T000000\\\", \\\"label_idx\\\": 0, \\\"count\\\": 36203, \\\"percentage\\\": \\\"29.5277%\\\"}, {\\\"label\\\": \\\"20150101T000000\\\", \\\"label_idx\\\": 1, \\\"count\\\": 8935, \\\"percentage\\\": \\\"7.28751%\\\"}, {\\\"label\\\": \\\"20141201T000000\\\", \\\"label_idx\\\": 2, \\\"count\\\": 6455, \\\"percentage\\\": \\\"5.26479%\\\"}, {\\\"label\\\": \\\"20141001T000000\\\", \\\"label_idx\\\": 3, \\\"count\\\": 5669, \\\"percentage\\\": \\\"4.62372%\\\"}, {\\\"label\\\": \\\"20141101T000000\\\", \\\"label_idx\\\": 4, \\\"count\\\": 5408, \\\"percentage\\\": \\\"4.41084%\\\"}, {\\\"label\\\": \\\"20140901T000000\\\", \\\"label_idx\\\": 5, \\\"count\\\": 4791, \\\"percentage\\\": \\\"3.90761%\\\"}, {\\\"label\\\": \\\"20140801T000000\\\", \\\"label_idx\\\": 6, \\\"count\\\": 4335, \\\"percentage\\\": \\\"3.53569%\\\"}, {\\\"label\\\": \\\"20140701T000000\\\", \\\"label_idx\\\": 7, \\\"count\\\": 4306, \\\"percentage\\\": \\\"3.51203%\\\"}, {\\\"label\\\": \\\"20140501T000000\\\", \\\"label_idx\\\": 8, \\\"count\\\": 3367, \\\"percentage\\\": \\\"2.74617%\\\"}, {\\\"label\\\": \\\"20140601T000000\\\", \\\"label_idx\\\": 9, \\\"count\\\": 3322, \\\"percentage\\\": \\\"2.70947%\\\"}, {\\\"label\\\": \\\"Other (83 labels)\\\", \\\"label_idx\\\": 10, \\\"count\\\": 39816, \\\"percentage\\\": \\\"32.4745%\\\"}], \\\"numeric\\\": []}, {\\\"a\\\": 49, \\\"title\\\": \\\"collections_12_mths_ex_med\\\", \\\"num_row\\\": 122607, \\\"type\\\": \\\"integer\\\", \\\"num_unique\\\": 6, \\\"num_missing\\\": 145, \\\"mean\\\": 0.003495, \\\"min\\\": 0.0, \\\"max\\\": 5.0, \\\"median\\\": 0.0, \\\"stdev\\\": 0.063674, \\\"numeric\\\": [{\\\"left\\\": -0.05644, \\\"right\\\": 0.19956, \\\"count\\\": 122062}, {\\\"left\\\": 0.19956, \\\"right\\\": 0.45556, \\\"count\\\": 0}, {\\\"left\\\": 0.45556, \\\"right\\\": 0.71156, \\\"count\\\": 0}, {\\\"left\\\": 0.71156, \\\"right\\\": 0.96756, \\\"count\\\": 0}, {\\\"left\\\": 0.96756, \\\"right\\\": 1.22356, \\\"count\\\": 376}, {\\\"left\\\": 1.22356, \\\"right\\\": 1.47956, \\\"count\\\": 0}, {\\\"left\\\": 1.47956, \\\"right\\\": 1.73556, \\\"count\\\": 0}, {\\\"left\\\": 1.73556, \\\"right\\\": 1.99156, \\\"count\\\": 0}, {\\\"left\\\": 1.99156, \\\"right\\\": 2.24756, \\\"count\\\": 22}, {\\\"left\\\": 2.24756, \\\"right\\\": 2.50356, \\\"count\\\": 0}, {\\\"left\\\": 2.50356, \\\"right\\\": 2.75956, \\\"count\\\": 0}, {\\\"left\\\": 2.75956, \\\"right\\\": 3.01556, \\\"count\\\": 1}, {\\\"left\\\": 3.01556, \\\"right\\\": 3.27156, \\\"count\\\": 0}, {\\\"left\\\": 3.27156, \\\"right\\\": 3.52756, \\\"count\\\": 0}, {\\\"left\\\": 3.52756, \\\"right\\\": 3.78356, \\\"count\\\": 0}, {\\\"left\\\": 3.78356, \\\"right\\\": 4.03956, \\\"count\\\": 0}, {\\\"left\\\": 4.03956, \\\"right\\\": 4.29556, \\\"count\\\": 0}, {\\\"left\\\": 4.29556, \\\"right\\\": 4.55156, \\\"count\\\": 0}, {\\\"left\\\": 4.55156, \\\"right\\\": 4.80756, \\\"count\\\": 0}, {\\\"left\\\": 4.80756, \\\"right\\\": 5.06356, \\\"count\\\": 1}, {\\\"missing\\\": true, \\\"count\\\": 145}], \\\"categorical\\\": []}, {\\\"a\\\": 50, \\\"title\\\": \\\"policy_code\\\", \\\"num_row\\\": 122607, \\\"type\\\": \\\"integer\\\", \\\"num_unique\\\": 1, \\\"num_missing\\\": 0, \\\"mean\\\": 1.0, \\\"min\\\": 1.0, \\\"max\\\": 1.0, \\\"median\\\": 1.0, \\\"stdev\\\": 0.0, \\\"numeric\\\": [{\\\"left\\\": 1, \\\"right\\\": 1.00001, \\\"count\\\": 0}, {\\\"left\\\": 1.00001, \\\"right\\\": 1.00001, \\\"count\\\": 0}, {\\\"left\\\": 1.00001, \\\"right\\\": 1.00002, \\\"count\\\": 0}, {\\\"left\\\": 1.00002, \\\"right\\\": 1.00002, \\\"count\\\": 0}, {\\\"left\\\": 1.00002, \\\"right\\\": 1.00003, \\\"count\\\": 0}, {\\\"left\\\": 1.00003, \\\"right\\\": 1.00003, \\\"count\\\": 0}, {\\\"left\\\": 1.00003, \\\"right\\\": 1.00004, \\\"count\\\": 0}, {\\\"left\\\": 1.00004, \\\"right\\\": 1.00004, \\\"count\\\": 0}, {\\\"left\\\": 1.00004, \\\"right\\\": 1.00005, \\\"count\\\": 0}, {\\\"left\\\": 1.00005, \\\"right\\\": 1.00006, \\\"count\\\": 122607}, {\\\"left\\\": 1.00006, \\\"right\\\": 1.00006, \\\"count\\\": 0}, {\\\"left\\\": 1.00006, \\\"right\\\": 1.00007, \\\"count\\\": 0}, {\\\"left\\\": 1.00007, \\\"right\\\": 1.00007, \\\"count\\\": 0}, {\\\"left\\\": 1.00007, \\\"right\\\": 1.00008, \\\"count\\\": 0}, {\\\"left\\\": 1.00008, \\\"right\\\": 1.00008, \\\"count\\\": 0}, {\\\"left\\\": 1.00008, \\\"right\\\": 1.00009, \\\"count\\\": 0}, {\\\"left\\\": 1.00009, \\\"right\\\": 1.00009, \\\"count\\\": 0}, {\\\"left\\\": 1.00009, \\\"right\\\": 1.0001, \\\"count\\\": 0}, {\\\"left\\\": 1.0001, \\\"right\\\": 1.0001, \\\"count\\\": 0}, {\\\"left\\\": 1.0001, \\\"right\\\": 1.00011, \\\"count\\\": 0}], \\\"categorical\\\": []}, {\\\"a\\\": 51, \\\"title\\\": \\\"not_compliant\\\", \\\"num_row\\\": 122607, \\\"type\\\": \\\"integer\\\", \\\"num_unique\\\": 2, \\\"num_missing\\\": 0, \\\"mean\\\": 0.021761, \\\"min\\\": 0.0, \\\"max\\\": 1.0, \\\"median\\\": 0.0, \\\"stdev\\\": 0.145901, \\\"numeric\\\": [{\\\"left\\\": -0.01036, \\\"right\\\": 0.04084, \\\"count\\\": 119939}, {\\\"left\\\": 0.04084, \\\"right\\\": 0.09204, \\\"count\\\": 0}, {\\\"left\\\": 0.09204, \\\"right\\\": 0.14324, \\\"count\\\": 0}, {\\\"left\\\": 0.14324, \\\"right\\\": 0.19444, \\\"count\\\": 0}, {\\\"left\\\": 0.19444, \\\"right\\\": 0.24564, \\\"count\\\": 0}, {\\\"left\\\": 0.24564, \\\"right\\\": 0.29684, \\\"count\\\": 0}, {\\\"left\\\": 0.29684, \\\"right\\\": 0.34804, \\\"count\\\": 0}, {\\\"left\\\": 0.34804, \\\"right\\\": 0.39924, \\\"count\\\": 0}, {\\\"left\\\": 0.39924, \\\"right\\\": 0.45044, \\\"count\\\": 0}, {\\\"left\\\": 0.45044, \\\"right\\\": 0.50164, \\\"count\\\": 0}, {\\\"left\\\": 0.50164, \\\"right\\\": 0.55284, \\\"count\\\": 0}, {\\\"left\\\": 0.55284, \\\"right\\\": 0.60404, \\\"count\\\": 0}, {\\\"left\\\": 0.60404, \\\"right\\\": 0.65524, \\\"count\\\": 0}, {\\\"left\\\": 0.65524, \\\"right\\\": 0.70644, \\\"count\\\": 0}, {\\\"left\\\": 0.70644, \\\"right\\\": 0.75764, \\\"count\\\": 0}, {\\\"left\\\": 0.75764, \\\"right\\\": 0.80884, \\\"count\\\": 0}, {\\\"left\\\": 0.80884, \\\"right\\\": 0.86004, \\\"count\\\": 0}, {\\\"left\\\": 0.86004, \\\"right\\\": 0.91124, \\\"count\\\": 0}, {\\\"left\\\": 0.91124, \\\"right\\\": 0.96244, \\\"count\\\": 0}, {\\\"left\\\": 0.96244, \\\"right\\\": 1.01364, \\\"count\\\": 2668}], \\\"categorical\\\": []}, {\\\"a\\\": 52, \\\"title\\\": \\\"status\\\", \\\"num_row\\\": 122607, \\\"type\\\": \\\"str\\\", \\\"num_unique\\\": 3, \\\"num_missing\\\": 0, \\\"categorical\\\": [{\\\"label\\\": \\\"Fully Paid\\\", \\\"label_idx\\\": 0, \\\"count\\\": 99457, \\\"percentage\\\": \\\"81.1185%\\\"}, {\\\"label\\\": \\\"Charged Off\\\", \\\"label_idx\\\": 1, \\\"count\\\": 22911, \\\"percentage\\\": \\\"18.6865%\\\"}, {\\\"label\\\": \\\"Default\\\", \\\"label_idx\\\": 2, \\\"count\\\": 239, \\\"percentage\\\": \\\"0.194932%\\\"}], \\\"numeric\\\": []}, {\\\"a\\\": 53, \\\"title\\\": \\\"inactive_loans\\\", \\\"num_row\\\": 122607, \\\"type\\\": \\\"integer\\\", \\\"num_unique\\\": 1, \\\"num_missing\\\": 0, \\\"mean\\\": 1.0, \\\"min\\\": 1.0, \\\"max\\\": 1.0, \\\"median\\\": 1.0, \\\"stdev\\\": 0.0, \\\"numeric\\\": [{\\\"left\\\": 1, \\\"right\\\": 1.00001, \\\"count\\\": 0}, {\\\"left\\\": 1.00001, \\\"right\\\": 1.00001, \\\"count\\\": 0}, {\\\"left\\\": 1.00001, \\\"right\\\": 1.00002, \\\"count\\\": 0}, {\\\"left\\\": 1.00002, \\\"right\\\": 1.00002, \\\"count\\\": 0}, {\\\"left\\\": 1.00002, \\\"right\\\": 1.00003, \\\"count\\\": 0}, {\\\"left\\\": 1.00003, \\\"right\\\": 1.00003, \\\"count\\\": 0}, {\\\"left\\\": 1.00003, \\\"right\\\": 1.00004, \\\"count\\\": 0}, {\\\"left\\\": 1.00004, \\\"right\\\": 1.00004, \\\"count\\\": 0}, {\\\"left\\\": 1.00004, \\\"right\\\": 1.00005, \\\"count\\\": 0}, {\\\"left\\\": 1.00005, \\\"right\\\": 1.00006, \\\"count\\\": 122607}, {\\\"left\\\": 1.00006, \\\"right\\\": 1.00006, \\\"count\\\": 0}, {\\\"left\\\": 1.00006, \\\"right\\\": 1.00007, \\\"count\\\": 0}, {\\\"left\\\": 1.00007, \\\"right\\\": 1.00007, \\\"count\\\": 0}, {\\\"left\\\": 1.00007, \\\"right\\\": 1.00008, \\\"count\\\": 0}, {\\\"left\\\": 1.00008, \\\"right\\\": 1.00008, \\\"count\\\": 0}, {\\\"left\\\": 1.00008, \\\"right\\\": 1.00009, \\\"count\\\": 0}, {\\\"left\\\": 1.00009, \\\"right\\\": 1.00009, \\\"count\\\": 0}, {\\\"left\\\": 1.00009, \\\"right\\\": 1.0001, \\\"count\\\": 0}, {\\\"left\\\": 1.0001, \\\"right\\\": 1.0001, \\\"count\\\": 0}, {\\\"left\\\": 1.0001, \\\"right\\\": 1.00011, \\\"count\\\": 0}], \\\"categorical\\\": []}, {\\\"a\\\": 54, \\\"title\\\": \\\"bad_loans\\\", \\\"num_row\\\": 122607, \\\"type\\\": \\\"integer\\\", \\\"num_unique\\\": 2, \\\"num_missing\\\": 0, \\\"mean\\\": 0.188815, \\\"min\\\": 0.0, \\\"max\\\": 1.0, \\\"median\\\": 0.0, \\\"stdev\\\": 0.391361, \\\"numeric\\\": [{\\\"left\\\": 0, \\\"right\\\": 0.05, \\\"count\\\": 99457}, {\\\"left\\\": 0.05, \\\"right\\\": 0.1, \\\"count\\\": 0}, {\\\"left\\\": 0.1, \\\"right\\\": 0.15, \\\"count\\\": 0}, {\\\"left\\\": 0.15, \\\"right\\\": 0.2, \\\"count\\\": 0}, {\\\"left\\\": 0.2, \\\"right\\\": 0.25, \\\"count\\\": 0}, {\\\"left\\\": 0.25, \\\"right\\\": 0.3, \\\"count\\\": 0}, {\\\"left\\\": 0.3, \\\"right\\\": 0.35, \\\"count\\\": 0}, {\\\"left\\\": 0.35, \\\"right\\\": 0.4, \\\"count\\\": 0}, {\\\"left\\\": 0.4, \\\"right\\\": 0.45, \\\"count\\\": 0}, {\\\"left\\\": 0.45, \\\"right\\\": 0.5, \\\"count\\\": 0}, {\\\"left\\\": 0.5, \\\"right\\\": 0.55, \\\"count\\\": 0}, {\\\"left\\\": 0.55, \\\"right\\\": 0.6, \\\"count\\\": 0}, {\\\"left\\\": 0.6, \\\"right\\\": 0.65, \\\"count\\\": 0}, {\\\"left\\\": 0.65, \\\"right\\\": 0.7, \\\"count\\\": 0}, {\\\"left\\\": 0.7, \\\"right\\\": 0.75, \\\"count\\\": 0}, {\\\"left\\\": 0.75, \\\"right\\\": 0.8, \\\"count\\\": 0}, {\\\"left\\\": 0.8, \\\"right\\\": 0.85, \\\"count\\\": 0}, {\\\"left\\\": 0.85, \\\"right\\\": 0.9, \\\"count\\\": 0}, {\\\"left\\\": 0.9, \\\"right\\\": 0.95, \\\"count\\\": 0}, {\\\"left\\\": 0.95, \\\"right\\\": 1, \\\"count\\\": 23150}], \\\"categorical\\\": []}, {\\\"a\\\": 55, \\\"title\\\": \\\"emp_length_num\\\", \\\"num_row\\\": 122607, \\\"type\\\": \\\"integer\\\", \\\"num_unique\\\": 12, \\\"num_missing\\\": 0, \\\"mean\\\": 6.370256, \\\"min\\\": 0.0, \\\"max\\\": 11.0, \\\"median\\\": 6.0, \\\"stdev\\\": 3.735998, \\\"numeric\\\": [{\\\"left\\\": -0.08, \\\"right\\\": 0.48, \\\"count\\\": 4091}, {\\\"left\\\": 0.48, \\\"right\\\": 1.04, \\\"count\\\": 11072}, {\\\"left\\\": 1.04, \\\"right\\\": 1.6, \\\"count\\\": 0}, {\\\"left\\\": 1.6, \\\"right\\\": 2.16, \\\"count\\\": 8701}, {\\\"left\\\": 2.16, \\\"right\\\": 2.72, \\\"count\\\": 0}, {\\\"left\\\": 2.72, \\\"right\\\": 3.28, \\\"count\\\": 12048}, {\\\"left\\\": 3.28, \\\"right\\\": 3.84, \\\"count\\\": 0}, {\\\"left\\\": 3.84, \\\"right\\\": 4.4, \\\"count\\\": 10333}, {\\\"left\\\": 4.4, \\\"right\\\": 4.96, \\\"count\\\": 0}, {\\\"left\\\": 4.96, \\\"right\\\": 5.52, \\\"count\\\": 8544}, {\\\"left\\\": 5.52, \\\"right\\\": 6.08, \\\"count\\\": 9561}, {\\\"left\\\": 6.08, \\\"right\\\": 6.64, \\\"count\\\": 0}, {\\\"left\\\": 6.64, \\\"right\\\": 7.2, \\\"count\\\": 7629}, {\\\"left\\\": 7.2, \\\"right\\\": 7.76, \\\"count\\\": 0}, {\\\"left\\\": 7.76, \\\"right\\\": 8.32, \\\"count\\\": 6704}, {\\\"left\\\": 8.32, \\\"right\\\": 8.88, \\\"count\\\": 0}, {\\\"left\\\": 8.88, \\\"right\\\": 9.44, \\\"count\\\": 5373}, {\\\"left\\\": 9.44, \\\"right\\\": 10, \\\"count\\\": 0}, {\\\"left\\\": 10, \\\"right\\\": 10.56, \\\"count\\\": 4451}, {\\\"left\\\": 10.56, \\\"right\\\": 11.12, \\\"count\\\": 34100}], \\\"categorical\\\": []}, {\\\"a\\\": 56, \\\"title\\\": \\\"grade_num\\\", \\\"num_row\\\": 122607, \\\"type\\\": \\\"integer\\\", \\\"num_unique\\\": 7, \\\"num_missing\\\": 0, \\\"mean\\\": 4.232882, \\\"min\\\": 0.0, \\\"max\\\": 6.0, \\\"median\\\": 4.0, \\\"stdev\\\": 1.362132, \\\"numeric\\\": [{\\\"left\\\": -0.044, \\\"right\\\": 0.26, \\\"count\\\": 1074}, {\\\"left\\\": 0.26, \\\"right\\\": 0.564, \\\"count\\\": 0}, {\\\"left\\\": 0.564, \\\"right\\\": 0.868, \\\"count\\\": 0}, {\\\"left\\\": 0.868, \\\"right\\\": 1.172, \\\"count\\\": 3932}, {\\\"left\\\": 1.172, \\\"right\\\": 1.476, \\\"count\\\": 0}, {\\\"left\\\": 1.476, \\\"right\\\": 1.78, \\\"count\\\": 0}, {\\\"left\\\": 1.78, \\\"right\\\": 2.084, \\\"count\\\": 8990}, {\\\"left\\\": 2.084, \\\"right\\\": 2.388, \\\"count\\\": 0}, {\\\"left\\\": 2.388, \\\"right\\\": 2.692, \\\"count\\\": 0}, {\\\"left\\\": 2.692, \\\"right\\\": 2.996, \\\"count\\\": 0}, {\\\"left\\\": 2.996, \\\"right\\\": 3.3, \\\"count\\\": 19175}, {\\\"left\\\": 3.3, \\\"right\\\": 3.604, \\\"count\\\": 0}, {\\\"left\\\": 3.604, \\\"right\\\": 3.908, \\\"count\\\": 0}, {\\\"left\\\": 3.908, \\\"right\\\": 4.212, \\\"count\\\": 29950}, {\\\"left\\\": 4.212, \\\"right\\\": 4.516, \\\"count\\\": 0}, {\\\"left\\\": 4.516, \\\"right\\\": 4.82, \\\"count\\\": 0}, {\\\"left\\\": 4.82, \\\"right\\\": 5.124, \\\"count\\\": 37172}, {\\\"left\\\": 5.124, \\\"right\\\": 5.428, \\\"count\\\": 0}, {\\\"left\\\": 5.428, \\\"right\\\": 5.732, \\\"count\\\": 0}, {\\\"left\\\": 5.732, \\\"right\\\": 6.036, \\\"count\\\": 22314}], \\\"categorical\\\": []}, {\\\"a\\\": 57, \\\"title\\\": \\\"sub_grade_num\\\", \\\"num_row\\\": 122607, \\\"type\\\": \\\"float\\\", \\\"num_unique\\\": 5, \\\"num_missing\\\": 0, \\\"mean\\\": 0.597509, \\\"min\\\": 0.2, \\\"max\\\": 1.0, \\\"median\\\": 0.6, \\\"stdev\\\": 0.278933, \\\"numeric\\\": [{\\\"left\\\": 0.2, \\\"right\\\": 0.24, \\\"count\\\": 24040}, {\\\"left\\\": 0.24, \\\"right\\\": 0.28, \\\"count\\\": 0}, {\\\"left\\\": 0.28, \\\"right\\\": 0.32, \\\"count\\\": 0}, {\\\"left\\\": 0.32, \\\"right\\\": 0.36, \\\"count\\\": 0}, {\\\"left\\\": 0.36, \\\"right\\\": 0.4, \\\"count\\\": 0}, {\\\"left\\\": 0.4, \\\"right\\\": 0.44, \\\"count\\\": 24920}, {\\\"left\\\": 0.44, \\\"right\\\": 0.48, \\\"count\\\": 0}, {\\\"left\\\": 0.48, \\\"right\\\": 0.52, \\\"count\\\": 0}, {\\\"left\\\": 0.52, \\\"right\\\": 0.56, \\\"count\\\": 0}, {\\\"left\\\": 0.56, \\\"right\\\": 0.6, \\\"count\\\": 25148}, {\\\"left\\\": 0.6, \\\"right\\\": 0.64, \\\"count\\\": 0}, {\\\"left\\\": 0.64, \\\"right\\\": 0.68, \\\"count\\\": 0}, {\\\"left\\\": 0.68, \\\"right\\\": 0.72, \\\"count\\\": 0}, {\\\"left\\\": 0.72, \\\"right\\\": 0.76, \\\"count\\\": 0}, {\\\"left\\\": 0.76, \\\"right\\\": 0.8, \\\"count\\\": 8}, {\\\"left\\\": 0.8, \\\"right\\\": 0.84, \\\"count\\\": 25517}, {\\\"left\\\": 0.84, \\\"right\\\": 0.88, \\\"count\\\": 0}, {\\\"left\\\": 0.88, \\\"right\\\": 0.92, \\\"count\\\": 0}, {\\\"left\\\": 0.92, \\\"right\\\": 0.96, \\\"count\\\": 0}, {\\\"left\\\": 0.96, \\\"right\\\": 1, \\\"count\\\": 22974}], \\\"categorical\\\": []}, {\\\"a\\\": 58, \\\"title\\\": \\\"delinq_2yrs_zero\\\", \\\"num_row\\\": 122607, \\\"type\\\": \\\"integer\\\", \\\"num_unique\\\": 3, \\\"num_missing\\\": 29, \\\"mean\\\": 0.858107, \\\"min\\\": 0.0, \\\"max\\\": 1.0, \\\"median\\\": 1.0, \\\"stdev\\\": 0.348941, \\\"numeric\\\": [{\\\"left\\\": -0.01132, \\\"right\\\": 0.03988, \\\"count\\\": 17393}, {\\\"left\\\": 0.03988, \\\"right\\\": 0.09108, \\\"count\\\": 0}, {\\\"left\\\": 0.09108, \\\"right\\\": 0.14228, \\\"count\\\": 0}, {\\\"left\\\": 0.14228, \\\"right\\\": 0.19348, \\\"count\\\": 0}, {\\\"left\\\": 0.19348, \\\"right\\\": 0.24468, \\\"count\\\": 0}, {\\\"left\\\": 0.24468, \\\"right\\\": 0.29588, \\\"count\\\": 0}, {\\\"left\\\": 0.29588, \\\"right\\\": 0.34708, \\\"count\\\": 0}, {\\\"left\\\": 0.34708, \\\"right\\\": 0.39828, \\\"count\\\": 0}, {\\\"left\\\": 0.39828, \\\"right\\\": 0.44948, \\\"count\\\": 0}, {\\\"left\\\": 0.44948, \\\"right\\\": 0.50068, \\\"count\\\": 0}, {\\\"left\\\": 0.50068, \\\"right\\\": 0.55188, \\\"count\\\": 0}, {\\\"left\\\": 0.55188, \\\"right\\\": 0.60308, \\\"count\\\": 0}, {\\\"left\\\": 0.60308, \\\"right\\\": 0.65428, \\\"count\\\": 0}, {\\\"left\\\": 0.65428, \\\"right\\\": 0.70548, \\\"count\\\": 0}, {\\\"left\\\": 0.70548, \\\"right\\\": 0.75668, \\\"count\\\": 0}, {\\\"left\\\": 0.75668, \\\"right\\\": 0.80788, \\\"count\\\": 0}, {\\\"left\\\": 0.80788, \\\"right\\\": 0.85908, \\\"count\\\": 0}, {\\\"left\\\": 0.85908, \\\"right\\\": 0.91028, \\\"count\\\": 0}, {\\\"left\\\": 0.91028, \\\"right\\\": 0.96148, \\\"count\\\": 0}, {\\\"left\\\": 0.96148, \\\"right\\\": 1.01268, \\\"count\\\": 105185}, {\\\"missing\\\": true, \\\"count\\\": 29}], \\\"categorical\\\": []}, {\\\"a\\\": 59, \\\"title\\\": \\\"pub_rec_zero\\\", \\\"num_row\\\": 122607, \\\"type\\\": \\\"integer\\\", \\\"num_unique\\\": 3, \\\"num_missing\\\": 29, \\\"mean\\\": 0.908173, \\\"min\\\": 0.0, \\\"max\\\": 1.0, \\\"median\\\": 1.0, \\\"stdev\\\": 0.288782, \\\"numeric\\\": [{\\\"left\\\": -0.01132, \\\"right\\\": 0.03988, \\\"count\\\": 11256}, {\\\"left\\\": 0.03988, \\\"right\\\": 0.09108, \\\"count\\\": 0}, {\\\"left\\\": 0.09108, \\\"right\\\": 0.14228, \\\"count\\\": 0}, {\\\"left\\\": 0.14228, \\\"right\\\": 0.19348, \\\"count\\\": 0}, {\\\"left\\\": 0.19348, \\\"right\\\": 0.24468, \\\"count\\\": 0}, {\\\"left\\\": 0.24468, \\\"right\\\": 0.29588, \\\"count\\\": 0}, {\\\"left\\\": 0.29588, \\\"right\\\": 0.34708, \\\"count\\\": 0}, {\\\"left\\\": 0.34708, \\\"right\\\": 0.39828, \\\"count\\\": 0}, {\\\"left\\\": 0.39828, \\\"right\\\": 0.44948, \\\"count\\\": 0}, {\\\"left\\\": 0.44948, \\\"right\\\": 0.50068, \\\"count\\\": 0}, {\\\"left\\\": 0.50068, \\\"right\\\": 0.55188, \\\"count\\\": 0}, {\\\"left\\\": 0.55188, \\\"right\\\": 0.60308, \\\"count\\\": 0}, {\\\"left\\\": 0.60308, \\\"right\\\": 0.65428, \\\"count\\\": 0}, {\\\"left\\\": 0.65428, \\\"right\\\": 0.70548, \\\"count\\\": 0}, {\\\"left\\\": 0.70548, \\\"right\\\": 0.75668, \\\"count\\\": 0}, {\\\"left\\\": 0.75668, \\\"right\\\": 0.80788, \\\"count\\\": 0}, {\\\"left\\\": 0.80788, \\\"right\\\": 0.85908, \\\"count\\\": 0}, {\\\"left\\\": 0.85908, \\\"right\\\": 0.91028, \\\"count\\\": 0}, {\\\"left\\\": 0.91028, \\\"right\\\": 0.96148, \\\"count\\\": 0}, {\\\"left\\\": 0.96148, \\\"right\\\": 1.01268, \\\"count\\\": 111322}, {\\\"missing\\\": true, \\\"count\\\": 29}], \\\"categorical\\\": []}, {\\\"a\\\": 60, \\\"title\\\": \\\"collections_12_mths_zero\\\", \\\"num_row\\\": 122607, \\\"type\\\": \\\"integer\\\", \\\"num_unique\\\": 3, \\\"num_missing\\\": 145, \\\"mean\\\": 0.996734, \\\"min\\\": 0.0, \\\"max\\\": 1.0, \\\"median\\\": 1.0, \\\"stdev\\\": 0.057058, \\\"numeric\\\": [{\\\"left\\\": -0.01132, \\\"right\\\": 0.03988, \\\"count\\\": 400}, {\\\"left\\\": 0.03988, \\\"right\\\": 0.09108, \\\"count\\\": 0}, {\\\"left\\\": 0.09108, \\\"right\\\": 0.14228, \\\"count\\\": 0}, {\\\"left\\\": 0.14228, \\\"right\\\": 0.19348, \\\"count\\\": 0}, {\\\"left\\\": 0.19348, \\\"right\\\": 0.24468, \\\"count\\\": 0}, {\\\"left\\\": 0.24468, \\\"right\\\": 0.29588, \\\"count\\\": 0}, {\\\"left\\\": 0.29588, \\\"right\\\": 0.34708, \\\"count\\\": 0}, {\\\"left\\\": 0.34708, \\\"right\\\": 0.39828, \\\"count\\\": 0}, {\\\"left\\\": 0.39828, \\\"right\\\": 0.44948, \\\"count\\\": 0}, {\\\"left\\\": 0.44948, \\\"right\\\": 0.50068, \\\"count\\\": 0}, {\\\"left\\\": 0.50068, \\\"right\\\": 0.55188, \\\"count\\\": 0}, {\\\"left\\\": 0.55188, \\\"right\\\": 0.60308, \\\"count\\\": 0}, {\\\"left\\\": 0.60308, \\\"right\\\": 0.65428, \\\"count\\\": 0}, {\\\"left\\\": 0.65428, \\\"right\\\": 0.70548, \\\"count\\\": 0}, {\\\"left\\\": 0.70548, \\\"right\\\": 0.75668, \\\"count\\\": 0}, {\\\"left\\\": 0.75668, \\\"right\\\": 0.80788, \\\"count\\\": 0}, {\\\"left\\\": 0.80788, \\\"right\\\": 0.85908, \\\"count\\\": 0}, {\\\"left\\\": 0.85908, \\\"right\\\": 0.91028, \\\"count\\\": 0}, {\\\"left\\\": 0.91028, \\\"right\\\": 0.96148, \\\"count\\\": 0}, {\\\"left\\\": 0.96148, \\\"right\\\": 1.01268, \\\"count\\\": 122062}, {\\\"missing\\\": true, \\\"count\\\": 145}], \\\"categorical\\\": []}, {\\\"a\\\": 61, \\\"title\\\": \\\"short_emp\\\", \\\"num_row\\\": 122607, \\\"type\\\": \\\"integer\\\", \\\"num_unique\\\": 2, \\\"num_missing\\\": 0, \\\"mean\\\": 0.123672, \\\"min\\\": 0.0, \\\"max\\\": 1.0, \\\"median\\\": 0.0, \\\"stdev\\\": 0.329206, \\\"numeric\\\": [{\\\"left\\\": 0, \\\"right\\\": 0.05, \\\"count\\\": 107444}, {\\\"left\\\": 0.05, \\\"right\\\": 0.1, \\\"count\\\": 0}, {\\\"left\\\": 0.1, \\\"right\\\": 0.15, \\\"count\\\": 0}, {\\\"left\\\": 0.15, \\\"right\\\": 0.2, \\\"count\\\": 0}, {\\\"left\\\": 0.2, \\\"right\\\": 0.25, \\\"count\\\": 0}, {\\\"left\\\": 0.25, \\\"right\\\": 0.3, \\\"count\\\": 0}, {\\\"left\\\": 0.3, \\\"right\\\": 0.35, \\\"count\\\": 0}, {\\\"left\\\": 0.35, \\\"right\\\": 0.4, \\\"count\\\": 0}, {\\\"left\\\": 0.4, \\\"right\\\": 0.45, \\\"count\\\": 0}, {\\\"left\\\": 0.45, \\\"right\\\": 0.5, \\\"count\\\": 0}, {\\\"left\\\": 0.5, \\\"right\\\": 0.55, \\\"count\\\": 0}, {\\\"left\\\": 0.55, \\\"right\\\": 0.6, \\\"count\\\": 0}, {\\\"left\\\": 0.6, \\\"right\\\": 0.65, \\\"count\\\": 0}, {\\\"left\\\": 0.65, \\\"right\\\": 0.7, \\\"count\\\": 0}, {\\\"left\\\": 0.7, \\\"right\\\": 0.75, \\\"count\\\": 0}, {\\\"left\\\": 0.75, \\\"right\\\": 0.8, \\\"count\\\": 0}, {\\\"left\\\": 0.8, \\\"right\\\": 0.85, \\\"count\\\": 0}, {\\\"left\\\": 0.85, \\\"right\\\": 0.9, \\\"count\\\": 0}, {\\\"left\\\": 0.9, \\\"right\\\": 0.95, \\\"count\\\": 0}, {\\\"left\\\": 0.95, \\\"right\\\": 1, \\\"count\\\": 15163}], \\\"categorical\\\": []}, {\\\"a\\\": 62, \\\"title\\\": \\\"payment_inc_ratio\\\", \\\"num_row\\\": 122607, \\\"type\\\": \\\"float\\\", \\\"num_unique\\\": 94248, \\\"num_missing\\\": 4, \\\"mean\\\": 7.564725, \\\"min\\\": 0.028895, \\\"max\\\": 54.171, \\\"median\\\": 6.96855, \\\"stdev\\\": 4.127275, \\\"numeric\\\": [{\\\"left\\\": -0.435948, \\\"right\\\": 2.3242, \\\"count\\\": 9634}, {\\\"left\\\": 2.3242, \\\"right\\\": 5.08434, \\\"count\\\": 29567}, {\\\"left\\\": 5.08434, \\\"right\\\": 7.84448, \\\"count\\\": 31653}, {\\\"left\\\": 7.84448, \\\"right\\\": 10.6046, \\\"count\\\": 23895}, {\\\"left\\\": 10.6046, \\\"right\\\": 13.3648, \\\"count\\\": 15395}, {\\\"left\\\": 13.3648, \\\"right\\\": 16.1249, \\\"count\\\": 8426}, {\\\"left\\\": 16.1249, \\\"right\\\": 18.8851, \\\"count\\\": 3058}, {\\\"left\\\": 18.8851, \\\"right\\\": 21.6452, \\\"count\\\": 823}, {\\\"left\\\": 21.6452, \\\"right\\\": 24.4053, \\\"count\\\": 110}, {\\\"left\\\": 24.4053, \\\"right\\\": 27.1655, \\\"count\\\": 25}, {\\\"left\\\": 27.1655, \\\"right\\\": 29.9256, \\\"count\\\": 11}, {\\\"left\\\": 29.9256, \\\"right\\\": 32.6858, \\\"count\\\": 1}, {\\\"left\\\": 32.6858, \\\"right\\\": 35.4459, \\\"count\\\": 2}, {\\\"left\\\": 35.4459, \\\"right\\\": 38.2061, \\\"count\\\": 0}, {\\\"left\\\": 38.2061, \\\"right\\\": 40.9662, \\\"count\\\": 1}, {\\\"left\\\": 40.9662, \\\"right\\\": 43.7264, \\\"count\\\": 1}, {\\\"left\\\": 43.7264, \\\"right\\\": 46.4865, \\\"count\\\": 0}, {\\\"left\\\": 46.4865, \\\"right\\\": 49.2466, \\\"count\\\": 0}, {\\\"left\\\": 49.2466, \\\"right\\\": 52.0068, \\\"count\\\": 0}, {\\\"left\\\": 52.0068, \\\"right\\\": 54.7669, \\\"count\\\": 1}, {\\\"missing\\\": true, \\\"count\\\": 4}], \\\"categorical\\\": []}, {\\\"a\\\": 63, \\\"title\\\": \\\"final_d\\\", \\\"num_row\\\": 122607, \\\"type\\\": \\\"str\\\", \\\"num_unique\\\": 115, \\\"num_missing\\\": 0, \\\"categorical\\\": [{\\\"label\\\": \\\"20160501T000000\\\", \\\"label_idx\\\": 0, \\\"count\\\": 3102, \\\"percentage\\\": \\\"2.53003%\\\"}, {\\\"label\\\": \\\"20160401T000000\\\", \\\"label_idx\\\": 1, \\\"count\\\": 3041, \\\"percentage\\\": \\\"2.48028%\\\"}, {\\\"label\\\": \\\"20160701T000000\\\", \\\"label_idx\\\": 2, \\\"count\\\": 2975, \\\"percentage\\\": \\\"2.42645%\\\"}, {\\\"label\\\": \\\"20160801T000000\\\", \\\"label_idx\\\": 3, \\\"count\\\": 2966, \\\"percentage\\\": \\\"2.41911%\\\"}, {\\\"label\\\": \\\"20160601T000000\\\", \\\"label_idx\\\": 4, \\\"count\\\": 2957, \\\"percentage\\\": \\\"2.41177%\\\"}, {\\\"label\\\": \\\"20160301T000000\\\", \\\"label_idx\\\": 5, \\\"count\\\": 2863, \\\"percentage\\\": \\\"2.3351%\\\"}, {\\\"label\\\": \\\"20160901T000000\\\", \\\"label_idx\\\": 6, \\\"count\\\": 2829, \\\"percentage\\\": \\\"2.30737%\\\"}, {\\\"label\\\": \\\"20150901T000000\\\", \\\"label_idx\\\": 7, \\\"count\\\": 2797, \\\"percentage\\\": \\\"2.28127%\\\"}, {\\\"label\\\": \\\"20151001T000000\\\", \\\"label_idx\\\": 8, \\\"count\\\": 2760, \\\"percentage\\\": \\\"2.25109%\\\"}, {\\\"label\\\": \\\"20161001T000000\\\", \\\"label_idx\\\": 9, \\\"count\\\": 2752, \\\"percentage\\\": \\\"2.24457%\\\"}, {\\\"label\\\": \\\"Other (105 labels)\\\", \\\"label_idx\\\": 10, \\\"count\\\": 93565, \\\"percentage\\\": \\\"76.3129%\\\"}], \\\"numeric\\\": []}, {\\\"a\\\": 64, \\\"title\\\": \\\"last_delinq_none\\\", \\\"num_row\\\": 122607, \\\"type\\\": \\\"integer\\\", \\\"num_unique\\\": 2, \\\"num_missing\\\": 0, \\\"mean\\\": 0.588115, \\\"min\\\": 0.0, \\\"max\\\": 1.0, \\\"median\\\": 1.0, \\\"stdev\\\": 0.492175, \\\"numeric\\\": [{\\\"left\\\": -0.01132, \\\"right\\\": 0.03988, \\\"count\\\": 50500}, {\\\"left\\\": 0.03988, \\\"right\\\": 0.09108, \\\"count\\\": 0}, {\\\"left\\\": 0.09108, \\\"right\\\": 0.14228, \\\"count\\\": 0}, {\\\"left\\\": 0.14228, \\\"right\\\": 0.19348, \\\"count\\\": 0}, {\\\"left\\\": 0.19348, \\\"right\\\": 0.24468, \\\"count\\\": 0}, {\\\"left\\\": 0.24468, \\\"right\\\": 0.29588, \\\"count\\\": 0}, {\\\"left\\\": 0.29588, \\\"right\\\": 0.34708, \\\"count\\\": 0}, {\\\"left\\\": 0.34708, \\\"right\\\": 0.39828, \\\"count\\\": 0}, {\\\"left\\\": 0.39828, \\\"right\\\": 0.44948, \\\"count\\\": 0}, {\\\"left\\\": 0.44948, \\\"right\\\": 0.50068, \\\"count\\\": 0}, {\\\"left\\\": 0.50068, \\\"right\\\": 0.55188, \\\"count\\\": 0}, {\\\"left\\\": 0.55188, \\\"right\\\": 0.60308, \\\"count\\\": 0}, {\\\"left\\\": 0.60308, \\\"right\\\": 0.65428, \\\"count\\\": 0}, {\\\"left\\\": 0.65428, \\\"right\\\": 0.70548, \\\"count\\\": 0}, {\\\"left\\\": 0.70548, \\\"right\\\": 0.75668, \\\"count\\\": 0}, {\\\"left\\\": 0.75668, \\\"right\\\": 0.80788, \\\"count\\\": 0}, {\\\"left\\\": 0.80788, \\\"right\\\": 0.85908, \\\"count\\\": 0}, {\\\"left\\\": 0.85908, \\\"right\\\": 0.91028, \\\"count\\\": 0}, {\\\"left\\\": 0.91028, \\\"right\\\": 0.96148, \\\"count\\\": 0}, {\\\"left\\\": 0.96148, \\\"right\\\": 1.01268, \\\"count\\\": 72107}], \\\"categorical\\\": []}, {\\\"a\\\": 65, \\\"title\\\": \\\"last_record_none\\\", \\\"num_row\\\": 122607, \\\"type\\\": \\\"integer\\\", \\\"num_unique\\\": 2, \\\"num_missing\\\": 0, \\\"mean\\\": 0.897795, \\\"min\\\": 0.0, \\\"max\\\": 1.0, \\\"median\\\": 1.0, \\\"stdev\\\": 0.302917, \\\"numeric\\\": [{\\\"left\\\": -0.01132, \\\"right\\\": 0.03988, \\\"count\\\": 12531}, {\\\"left\\\": 0.03988, \\\"right\\\": 0.09108, \\\"count\\\": 0}, {\\\"left\\\": 0.09108, \\\"right\\\": 0.14228, \\\"count\\\": 0}, {\\\"left\\\": 0.14228, \\\"right\\\": 0.19348, \\\"count\\\": 0}, {\\\"left\\\": 0.19348, \\\"right\\\": 0.24468, \\\"count\\\": 0}, {\\\"left\\\": 0.24468, \\\"right\\\": 0.29588, \\\"count\\\": 0}, {\\\"left\\\": 0.29588, \\\"right\\\": 0.34708, \\\"count\\\": 0}, {\\\"left\\\": 0.34708, \\\"right\\\": 0.39828, \\\"count\\\": 0}, {\\\"left\\\": 0.39828, \\\"right\\\": 0.44948, \\\"count\\\": 0}, {\\\"left\\\": 0.44948, \\\"right\\\": 0.50068, \\\"count\\\": 0}, {\\\"left\\\": 0.50068, \\\"right\\\": 0.55188, \\\"count\\\": 0}, {\\\"left\\\": 0.55188, \\\"right\\\": 0.60308, \\\"count\\\": 0}, {\\\"left\\\": 0.60308, \\\"right\\\": 0.65428, \\\"count\\\": 0}, {\\\"left\\\": 0.65428, \\\"right\\\": 0.70548, \\\"count\\\": 0}, {\\\"left\\\": 0.70548, \\\"right\\\": 0.75668, \\\"count\\\": 0}, {\\\"left\\\": 0.75668, \\\"right\\\": 0.80788, \\\"count\\\": 0}, {\\\"left\\\": 0.80788, \\\"right\\\": 0.85908, \\\"count\\\": 0}, {\\\"left\\\": 0.85908, \\\"right\\\": 0.91028, \\\"count\\\": 0}, {\\\"left\\\": 0.91028, \\\"right\\\": 0.96148, \\\"count\\\": 0}, {\\\"left\\\": 0.96148, \\\"right\\\": 1.01268, \\\"count\\\": 110076}], \\\"categorical\\\": []}, {\\\"a\\\": 66, \\\"title\\\": \\\"last_major_derog_none\\\", \\\"num_row\\\": 122607, \\\"type\\\": \\\"integer\\\", \\\"num_unique\\\": 2, \\\"num_missing\\\": 0, \\\"mean\\\": 0.873906, \\\"min\\\": 0.0, \\\"max\\\": 1.0, \\\"median\\\": 1.0, \\\"stdev\\\": 0.331955, \\\"numeric\\\": [{\\\"left\\\": -0.01132, \\\"right\\\": 0.03988, \\\"count\\\": 15460}, {\\\"left\\\": 0.03988, \\\"right\\\": 0.09108, \\\"count\\\": 0}, {\\\"left\\\": 0.09108, \\\"right\\\": 0.14228, \\\"count\\\": 0}, {\\\"left\\\": 0.14228, \\\"right\\\": 0.19348, \\\"count\\\": 0}, {\\\"left\\\": 0.19348, \\\"right\\\": 0.24468, \\\"count\\\": 0}, {\\\"left\\\": 0.24468, \\\"right\\\": 0.29588, \\\"count\\\": 0}, {\\\"left\\\": 0.29588, \\\"right\\\": 0.34708, \\\"count\\\": 0}, {\\\"left\\\": 0.34708, \\\"right\\\": 0.39828, \\\"count\\\": 0}, {\\\"left\\\": 0.39828, \\\"right\\\": 0.44948, \\\"count\\\": 0}, {\\\"left\\\": 0.44948, \\\"right\\\": 0.50068, \\\"count\\\": 0}, {\\\"left\\\": 0.50068, \\\"right\\\": 0.55188, \\\"count\\\": 0}, {\\\"left\\\": 0.55188, \\\"right\\\": 0.60308, \\\"count\\\": 0}, {\\\"left\\\": 0.60308, \\\"right\\\": 0.65428, \\\"count\\\": 0}, {\\\"left\\\": 0.65428, \\\"right\\\": 0.70548, \\\"count\\\": 0}, {\\\"left\\\": 0.70548, \\\"right\\\": 0.75668, \\\"count\\\": 0}, {\\\"left\\\": 0.75668, \\\"right\\\": 0.80788, \\\"count\\\": 0}, {\\\"left\\\": 0.80788, \\\"right\\\": 0.85908, \\\"count\\\": 0}, {\\\"left\\\": 0.85908, \\\"right\\\": 0.91028, \\\"count\\\": 0}, {\\\"left\\\": 0.91028, \\\"right\\\": 0.96148, \\\"count\\\": 0}, {\\\"left\\\": 0.96148, \\\"right\\\": 1.01268, \\\"count\\\": 107147}], \\\"categorical\\\": []}]}, {\\\"name\\\": \\\"data_2\\\", \\\"source\\\": \\\"source_2\\\", \\\"transform\\\": [{\\\"type\\\": \\\"formula\\\", \\\"expr\\\": \\\"20\\\", \\\"as\\\": \\\"c_x_axis_back\\\"}, {\\\"type\\\": \\\"formula\\\", \\\"expr\\\": \\\"toNumber(datum[\\\\\\\"a\\\\\\\"])*300+66\\\", \\\"as\\\": \\\"c_main_background\\\"}, {\\\"type\\\": \\\"formula\\\", \\\"expr\\\": \\\"toNumber(datum[\\\\\\\"a\\\\\\\"])*300+43\\\", \\\"as\\\": \\\"c_top_bar\\\"}, {\\\"type\\\": \\\"formula\\\", \\\"expr\\\": \\\"toNumber(datum[\\\\\\\"a\\\\\\\"])*300+59\\\", \\\"as\\\": \\\"c_top_title\\\"}, {\\\"type\\\": \\\"formula\\\", \\\"expr\\\": \\\"toNumber(datum[\\\\\\\"a\\\\\\\"])*300+58\\\", \\\"as\\\": \\\"c_top_type\\\"}, {\\\"type\\\": \\\"formula\\\", \\\"expr\\\": \\\"toNumber(datum[\\\\\\\"a\\\\\\\"])*300+178\\\", \\\"as\\\": \\\"c_rule\\\"}, {\\\"type\\\": \\\"formula\\\", \\\"expr\\\": \\\"toNumber(datum[\\\\\\\"a\\\\\\\"])*300+106\\\", \\\"as\\\": \\\"c_num_rows\\\"}, {\\\"type\\\": \\\"formula\\\", \\\"expr\\\": \\\"toNumber(datum[\\\\\\\"a\\\\\\\"])*300+130\\\", \\\"as\\\": \\\"c_num_unique\\\"}, {\\\"type\\\": \\\"formula\\\", \\\"expr\\\": \\\"toNumber(datum[\\\\\\\"a\\\\\\\"])*300+154\\\", \\\"as\\\": \\\"c_missing\\\"}, {\\\"type\\\": \\\"formula\\\", \\\"expr\\\": \\\"toNumber(datum[\\\\\\\"a\\\\\\\"])*300+105\\\", \\\"as\\\": \\\"c_num_rows_val\\\"}, {\\\"type\\\": \\\"formula\\\", \\\"expr\\\": \\\"toNumber(datum[\\\\\\\"a\\\\\\\"])*300+130\\\", \\\"as\\\": \\\"c_num_unique_val\\\"}, {\\\"type\\\": \\\"formula\\\", \\\"expr\\\": \\\"toNumber(datum[\\\\\\\"a\\\\\\\"])*300+154\\\", \\\"as\\\": \\\"c_missing_val\\\"}, {\\\"type\\\": \\\"formula\\\", \\\"expr\\\": \\\"toNumber(datum[\\\\\\\"a\\\\\\\"])*300+195\\\", \\\"as\\\": \\\"c_frequent_items\\\"}, {\\\"type\\\": \\\"formula\\\", \\\"expr\\\": \\\"toNumber(datum[\\\\\\\"a\\\\\\\"])*300+218\\\", \\\"as\\\": \\\"c_first_item\\\"}, {\\\"type\\\": \\\"formula\\\", \\\"expr\\\": \\\"toNumber(datum[\\\\\\\"a\\\\\\\"])*300+235\\\", \\\"as\\\": \\\"c_second_item\\\"}, {\\\"type\\\": \\\"formula\\\", \\\"expr\\\": \\\"toNumber(datum[\\\\\\\"a\\\\\\\"])*300+252\\\", \\\"as\\\": \\\"c_third_item\\\"}, {\\\"type\\\": \\\"formula\\\", \\\"expr\\\": \\\"toNumber(datum[\\\\\\\"a\\\\\\\"])*300+269\\\", \\\"as\\\": \\\"c_fourth_item\\\"}, {\\\"type\\\": \\\"formula\\\", \\\"expr\\\": \\\"toNumber(datum[\\\\\\\"a\\\\\\\"])*300+286\\\", \\\"as\\\": \\\"c_fifth_item\\\"}, {\\\"type\\\": \\\"formula\\\", \\\"expr\\\": \\\"toNumber(datum[\\\\\\\"a\\\\\\\"])*300+200\\\", \\\"as\\\": \\\"c_mean\\\"}, {\\\"type\\\": \\\"formula\\\", \\\"expr\\\": \\\"toNumber(datum[\\\\\\\"a\\\\\\\"])*300+220\\\", \\\"as\\\": \\\"c_min\\\"}, {\\\"type\\\": \\\"formula\\\", \\\"expr\\\": \\\"toNumber(datum[\\\\\\\"a\\\\\\\"])*300+240\\\", \\\"as\\\": \\\"c_max\\\"}, {\\\"type\\\": \\\"formula\\\", \\\"expr\\\": \\\"toNumber(datum[\\\\\\\"a\\\\\\\"])*300+260\\\", \\\"as\\\": \\\"c_median\\\"}, {\\\"type\\\": \\\"formula\\\", \\\"expr\\\": \\\"toNumber(datum[\\\\\\\"a\\\\\\\"])*300+280\\\", \\\"as\\\": \\\"c_stdev\\\"}, {\\\"type\\\": \\\"formula\\\", \\\"expr\\\": \\\"toNumber(datum[\\\\\\\"a\\\\\\\"])*300+198\\\", \\\"as\\\": \\\"c_mean_val\\\"}, {\\\"type\\\": \\\"formula\\\", \\\"expr\\\": \\\"toNumber(datum[\\\\\\\"a\\\\\\\"])*300+218\\\", \\\"as\\\": \\\"c_min_val\\\"}, {\\\"type\\\": \\\"formula\\\", \\\"expr\\\": \\\"toNumber(datum[\\\\\\\"a\\\\\\\"])*300+238\\\", \\\"as\\\": \\\"c_max_val\\\"}, {\\\"type\\\": \\\"formula\\\", \\\"expr\\\": \\\"toNumber(datum[\\\\\\\"a\\\\\\\"])*300+258\\\", \\\"as\\\": \\\"c_median_val\\\"}, {\\\"type\\\": \\\"formula\\\", \\\"expr\\\": \\\"toNumber(datum[\\\\\\\"a\\\\\\\"])*300+278\\\", \\\"as\\\": \\\"c_stdev_val\\\"}, {\\\"type\\\": \\\"formula\\\", \\\"expr\\\": \\\"toNumber(datum[\\\\\\\"a\\\\\\\"])*300+106\\\", \\\"as\\\": \\\"graph_offset\\\"}, {\\\"type\\\": \\\"formula\\\", \\\"expr\\\": \\\"toNumber(datum[\\\\\\\"a\\\\\\\"])*300+132\\\", \\\"as\\\": \\\"graph_offset_categorical\\\"}, {\\\"type\\\": \\\"formula\\\", \\\"expr\\\": \\\"(toString(datum[\\\\\\\"type\\\\\\\"]) == \\\\\\\"integer\\\\\\\" || toString(datum[\\\\\\\"type\\\\\\\"]) == \\\\\\\"float\\\\\\\")?false:true\\\", \\\"as\\\": \\\"c_clip_val\\\"}, {\\\"type\\\": \\\"formula\\\", \\\"expr\\\": \\\"(toString(datum[\\\\\\\"type\\\\\\\"]) == \\\\\\\"integer\\\\\\\" || toString(datum[\\\\\\\"type\\\\\\\"]) == \\\\\\\"float\\\\\\\")?250:0\\\", \\\"as\\\": \\\"c_width_numeric_val\\\"}, {\\\"type\\\": \\\"formula\\\", \\\"expr\\\": \\\"(toString(datum[\\\\\\\"type\\\\\\\"]) == \\\\\\\"str\\\\\\\")?false:true\\\", \\\"as\\\": \\\"c_clip_val_cat\\\"}, {\\\"type\\\": \\\"formula\\\", \\\"expr\\\": \\\"(toString(datum[\\\\\\\"type\\\\\\\"]) == \\\\\\\"str\\\\\\\")?250:0\\\", \\\"as\\\": \\\"c_width_numeric_val_cat\\\"}]}], \\\"marks\\\": [{\\\"encode\\\": {\\\"enter\\\": {\\\"x\\\": {\\\"value\\\": 0}, \\\"width\\\": {\\\"value\\\": 734}, \\\"y\\\": {\\\"value\\\": 0}, \\\"height\\\": {\\\"value\\\": 366}, \\\"clip\\\": {\\\"value\\\": 0}, \\\"fill\\\": {\\\"value\\\": \\\"#ffffff\\\"}, \\\"fillOpacity\\\": {\\\"value\\\": 0}, \\\"stroke\\\": {\\\"value\\\": \\\"#000000\\\"}, \\\"strokeWidth\\\": {\\\"value\\\": 0}}}, \\\"marks\\\": [{\\\"encode\\\": {\\\"enter\\\": {\\\"x\\\": {\\\"value\\\": 0}, \\\"width\\\": {\\\"value\\\": 734}, \\\"y\\\": {\\\"value\\\": 0}, \\\"height\\\": {\\\"value\\\": 366}, \\\"clip\\\": {\\\"value\\\": 0}, \\\"fill\\\": {\\\"value\\\": \\\"#ffffff\\\"}, \\\"fillOpacity\\\": {\\\"value\\\": 0}, \\\"stroke\\\": {\\\"value\\\": \\\"#000000\\\"}, \\\"strokeWidth\\\": {\\\"value\\\": 0}}}, \\\"scales\\\": [], \\\"axes\\\": [], \\\"marks\\\": [{\\\"from\\\": {\\\"data\\\": \\\"data_2\\\"}, \\\"encode\\\": {\\\"enter\\\": {\\\"x\\\": {\\\"value\\\": 33}, \\\"width\\\": {\\\"value\\\": 700}, \\\"y\\\": {\\\"value\\\": 66}, \\\"height\\\": {\\\"value\\\": 250}, \\\"fill\\\": {\\\"value\\\": \\\"#FEFEFE\\\"}, \\\"fillOpacity\\\": {\\\"value\\\": 1}, \\\"stroke\\\": {\\\"value\\\": \\\"#DEDEDE\\\"}, \\\"strokeWidth\\\": {\\\"value\\\": 0.5}}, \\\"update\\\": {\\\"x\\\": {\\\"signal\\\": \\\"datum[\\\\\\\"c_x_axis_back\\\\\\\"]\\\"}, \\\"y\\\": {\\\"field\\\": \\\"c_main_background\\\"}}}, \\\"type\\\": \\\"rect\\\"}, {\\\"from\\\": {\\\"data\\\": \\\"data_2\\\"}, \\\"encode\\\": {\\\"enter\\\": {\\\"x\\\": {\\\"value\\\": 33}, \\\"width\\\": {\\\"value\\\": 700}, \\\"y\\\": {\\\"value\\\": 43}, \\\"height\\\": {\\\"value\\\": 30}, \\\"fill\\\": {\\\"value\\\": \\\"#F5F5F5\\\"}, \\\"fillOpacity\\\": {\\\"value\\\": 1}, \\\"stroke\\\": {\\\"value\\\": \\\"#DEDEDE\\\"}, \\\"strokeWidth\\\": {\\\"value\\\": 0.5}}, \\\"update\\\": {\\\"x\\\": {\\\"signal\\\": \\\"datum[\\\\\\\"c_x_axis_back\\\\\\\"]\\\"}, \\\"y\\\": {\\\"field\\\": \\\"c_top_bar\\\"}}}, \\\"type\\\": \\\"rect\\\"}, {\\\"from\\\": {\\\"data\\\": \\\"data_2\\\"}, \\\"encode\\\": {\\\"enter\\\": {\\\"x\\\": {\\\"value\\\": 720}, \\\"y\\\": {\\\"value\\\": 58}, \\\"text\\\": {\\\"signal\\\": \\\"&apos;&apos;+datum[\\\\\\\"type\\\\\\\"]\\\"}, \\\"align\\\": {\\\"value\\\": \\\"right\\\"}, \\\"baseline\\\": {\\\"value\\\": \\\"middle\\\"}, \\\"dx\\\": {\\\"value\\\": 0, \\\"offset\\\": 0}, \\\"dy\\\": {\\\"value\\\": 0, \\\"offset\\\": 0}, \\\"angle\\\": {\\\"value\\\": 0}, \\\"font\\\": {\\\"value\\\": \\\"AvenirNext-Medium\\\"}, \\\"fontSize\\\": {\\\"value\\\": 12}, \\\"fontWeight\\\": {\\\"value\\\": \\\"normal\\\"}, \\\"fontStyle\\\": {\\\"value\\\": \\\"normal\\\"}, \\\"fill\\\": {\\\"value\\\": \\\"#595859\\\"}}, \\\"update\\\": {\\\"x\\\": {\\\"signal\\\": \\\"datum[\\\\\\\"c_x_axis_back\\\\\\\"]+687\\\"}, \\\"y\\\": {\\\"field\\\": \\\"c_top_type\\\"}}}, \\\"type\\\": \\\"text\\\"}, {\\\"from\\\": {\\\"data\\\": \\\"data_2\\\"}, \\\"encode\\\": {\\\"enter\\\": {\\\"x\\\": {\\\"value\\\": 44}, \\\"y\\\": {\\\"value\\\": 59}, \\\"text\\\": {\\\"signal\\\": \\\"&apos;&apos;+datum[\\\\\\\"title\\\\\\\"]\\\"}, \\\"align\\\": {\\\"value\\\": \\\"left\\\"}, \\\"baseline\\\": {\\\"value\\\": \\\"middle\\\"}, \\\"dx\\\": {\\\"value\\\": 0, \\\"offset\\\": 0}, \\\"dy\\\": {\\\"value\\\": 0, \\\"offset\\\": 0}, \\\"angle\\\": {\\\"value\\\": 0}, \\\"font\\\": {\\\"value\\\": \\\"AvenirNext-Medium\\\"}, \\\"fontSize\\\": {\\\"value\\\": 15}, \\\"fontWeight\\\": {\\\"value\\\": \\\"normal\\\"}, \\\"fontStyle\\\": {\\\"value\\\": \\\"normal\\\"}, \\\"fill\\\": {\\\"value\\\": \\\"#9B9B9B\\\"}}, \\\"update\\\": {\\\"x\\\": {\\\"signal\\\": \\\"datum[\\\\\\\"c_x_axis_back\\\\\\\"]+11\\\"}, \\\"y\\\": {\\\"field\\\": \\\"c_top_title\\\"}}}, \\\"type\\\": \\\"text\\\"}, {\\\"from\\\": {\\\"data\\\": \\\"data_2\\\"}, \\\"encode\\\": {\\\"enter\\\": {\\\"x\\\": {\\\"value\\\": 500}, \\\"y\\\": {\\\"value\\\": 178}, \\\"stroke\\\": {\\\"value\\\": \\\"#EDEDEB\\\"}, \\\"strokeWidth\\\": {\\\"value\\\": 1}, \\\"strokeCap\\\": {\\\"value\\\": \\\"butt\\\"}, \\\"x2\\\": {\\\"value\\\": 720}, \\\"y2\\\": {\\\"value\\\": 178}}, \\\"update\\\": {\\\"x\\\": {\\\"signal\\\": \\\"datum[\\\\\\\"c_x_axis_back\\\\\\\"]+467\\\"}, \\\"x2\\\": {\\\"signal\\\": \\\"datum[\\\\\\\"c_x_axis_back\\\\\\\"]+687\\\"}, \\\"y\\\": {\\\"field\\\": \\\"c_rule\\\"}, \\\"y2\\\": {\\\"field\\\": \\\"c_rule\\\"}}}, \\\"type\\\": \\\"rule\\\"}, {\\\"from\\\": {\\\"data\\\": \\\"data_2\\\"}, \\\"encode\\\": {\\\"enter\\\": {\\\"x\\\": {\\\"value\\\": 500}, \\\"y\\\": {\\\"value\\\": 106}, \\\"text\\\": {\\\"value\\\": \\\"Num. Rows:\\\"}, \\\"align\\\": {\\\"value\\\": \\\"left\\\"}, \\\"baseline\\\": {\\\"value\\\": \\\"middle\\\"}, \\\"dx\\\": {\\\"value\\\": 0, \\\"offset\\\": 0}, \\\"dy\\\": {\\\"value\\\": 0, \\\"offset\\\": 0}, \\\"angle\\\": {\\\"value\\\": 0}, \\\"font\\\": {\\\"value\\\": \\\"AvenirNext-Medium\\\"}, \\\"fontSize\\\": {\\\"value\\\": 12}, \\\"fontWeight\\\": {\\\"value\\\": \\\"normal\\\"}, \\\"fontStyle\\\": {\\\"value\\\": \\\"normal\\\"}, \\\"fill\\\": {\\\"value\\\": \\\"#4A4A4A\\\"}}, \\\"update\\\": {\\\"x\\\": {\\\"signal\\\": \\\"datum[\\\\\\\"c_x_axis_back\\\\\\\"]+467\\\"}, \\\"y\\\": {\\\"field\\\": \\\"c_num_rows\\\"}}}, \\\"type\\\": \\\"text\\\"}, {\\\"from\\\": {\\\"data\\\": \\\"data_2\\\"}, \\\"encode\\\": {\\\"enter\\\": {\\\"x\\\": {\\\"value\\\": 500}, \\\"y\\\": {\\\"value\\\": 130}, \\\"text\\\": {\\\"value\\\": \\\"Num. Unique:\\\"}, \\\"align\\\": {\\\"value\\\": \\\"left\\\"}, \\\"baseline\\\": {\\\"value\\\": \\\"middle\\\"}, \\\"dx\\\": {\\\"value\\\": 0, \\\"offset\\\": 0}, \\\"dy\\\": {\\\"value\\\": 0, \\\"offset\\\": 0}, \\\"angle\\\": {\\\"value\\\": 0}, \\\"font\\\": {\\\"value\\\": \\\"AvenirNext-Medium\\\"}, \\\"fontSize\\\": {\\\"value\\\": 12}, \\\"fontWeight\\\": {\\\"value\\\": \\\"normal\\\"}, \\\"fontStyle\\\": {\\\"value\\\": \\\"normal\\\"}, \\\"fill\\\": {\\\"value\\\": \\\"#4A4A4A\\\"}}, \\\"update\\\": {\\\"x\\\": {\\\"signal\\\": \\\"datum[\\\\\\\"c_x_axis_back\\\\\\\"]+467\\\"}, \\\"y\\\": {\\\"field\\\": \\\"c_num_unique\\\"}}}, \\\"type\\\": \\\"text\\\"}, {\\\"from\\\": {\\\"data\\\": \\\"data_2\\\"}, \\\"encode\\\": {\\\"enter\\\": {\\\"x\\\": {\\\"value\\\": 500}, \\\"y\\\": {\\\"value\\\": 154}, \\\"text\\\": {\\\"value\\\": \\\"Missing:\\\"}, \\\"align\\\": {\\\"value\\\": \\\"left\\\"}, \\\"baseline\\\": {\\\"value\\\": \\\"middle\\\"}, \\\"dx\\\": {\\\"value\\\": 0, \\\"offset\\\": 0}, \\\"dy\\\": {\\\"value\\\": 0, \\\"offset\\\": 0}, \\\"angle\\\": {\\\"value\\\": 0}, \\\"font\\\": {\\\"value\\\": \\\"AvenirNext-Medium\\\"}, \\\"fontSize\\\": {\\\"value\\\": 12}, \\\"fontWeight\\\": {\\\"value\\\": \\\"normal\\\"}, \\\"fontStyle\\\": {\\\"value\\\": \\\"normal\\\"}, \\\"fill\\\": {\\\"value\\\": \\\"#4A4A4A\\\"}}, \\\"update\\\": {\\\"x\\\": {\\\"signal\\\": \\\"datum[\\\\\\\"c_x_axis_back\\\\\\\"]+467\\\"}, \\\"y\\\": {\\\"field\\\": \\\"c_missing\\\"}}}, \\\"type\\\": \\\"text\\\"}, {\\\"from\\\": {\\\"data\\\": \\\"data_2\\\"}, \\\"encode\\\": {\\\"enter\\\": {\\\"x\\\": {\\\"value\\\": 700}, \\\"y\\\": {\\\"value\\\": 105}, \\\"text\\\": {\\\"signal\\\": \\\"toString(format(datum[\\\\\\\"num_row\\\\\\\"], \\\\\\\",\\\\\\\"))\\\"}, \\\"align\\\": {\\\"value\\\": \\\"right\\\"}, \\\"baseline\\\": {\\\"value\\\": \\\"middle\\\"}, \\\"dx\\\": {\\\"value\\\": 0, \\\"offset\\\": 0}, \\\"dy\\\": {\\\"value\\\": 0, \\\"offset\\\": 0}, \\\"angle\\\": {\\\"value\\\": 0}, \\\"font\\\": {\\\"value\\\": \\\"AvenirNext-Medium\\\"}, \\\"fontSize\\\": {\\\"value\\\": 12}, \\\"fontWeight\\\": {\\\"value\\\": \\\"normal\\\"}, \\\"fontStyle\\\": {\\\"value\\\": \\\"normal\\\"}, \\\"fill\\\": {\\\"value\\\": \\\"#5A5A5A\\\"}}, \\\"update\\\": {\\\"x\\\": {\\\"signal\\\": \\\"datum[\\\\\\\"c_x_axis_back\\\\\\\"]+667\\\"}, \\\"y\\\": {\\\"field\\\": \\\"c_num_rows_val\\\"}}}, \\\"type\\\": \\\"text\\\"}, {\\\"from\\\": {\\\"data\\\": \\\"data_2\\\"}, \\\"encode\\\": {\\\"enter\\\": {\\\"x\\\": {\\\"value\\\": 700}, \\\"y\\\": {\\\"value\\\": 130}, \\\"text\\\": {\\\"signal\\\": \\\"toString(format(datum[\\\\\\\"num_unique\\\\\\\"], \\\\\\\",\\\\\\\"))\\\"}, \\\"align\\\": {\\\"value\\\": \\\"right\\\"}, \\\"baseline\\\": {\\\"value\\\": \\\"middle\\\"}, \\\"dx\\\": {\\\"value\\\": 0, \\\"offset\\\": 0}, \\\"dy\\\": {\\\"value\\\": 0, \\\"offset\\\": 0}, \\\"angle\\\": {\\\"value\\\": 0}, \\\"font\\\": {\\\"value\\\": \\\"AvenirNext-Medium\\\"}, \\\"fontSize\\\": {\\\"value\\\": 12}, \\\"fontWeight\\\": {\\\"value\\\": \\\"normal\\\"}, \\\"fontStyle\\\": {\\\"value\\\": \\\"normal\\\"}, \\\"fill\\\": {\\\"value\\\": \\\"#5A5A5A\\\"}}, \\\"update\\\": {\\\"x\\\": {\\\"signal\\\": \\\"datum[\\\\\\\"c_x_axis_back\\\\\\\"]+667\\\"}, \\\"y\\\": {\\\"field\\\": \\\"c_num_unique_val\\\"}}}, \\\"type\\\": \\\"text\\\"}, {\\\"from\\\": {\\\"data\\\": \\\"data_2\\\"}, \\\"encode\\\": {\\\"enter\\\": {\\\"x\\\": {\\\"value\\\": 700}, \\\"y\\\": {\\\"value\\\": 154}, \\\"text\\\": {\\\"signal\\\": \\\"toString(format(datum[\\\\\\\"num_missing\\\\\\\"], \\\\\\\",\\\\\\\"))\\\"}, \\\"align\\\": {\\\"value\\\": \\\"right\\\"}, \\\"baseline\\\": {\\\"value\\\": \\\"middle\\\"}, \\\"dx\\\": {\\\"value\\\": 0, \\\"offset\\\": 0}, \\\"dy\\\": {\\\"value\\\": 0, \\\"offset\\\": 0}, \\\"angle\\\": {\\\"value\\\": 0}, \\\"font\\\": {\\\"value\\\": \\\"AvenirNext-Medium\\\"}, \\\"fontSize\\\": {\\\"value\\\": 12}, \\\"fontWeight\\\": {\\\"value\\\": \\\"normal\\\"}, \\\"fontStyle\\\": {\\\"value\\\": \\\"normal\\\"}, \\\"fill\\\": {\\\"value\\\": \\\"#5A5A5A\\\"}}, \\\"update\\\": {\\\"x\\\": {\\\"signal\\\": \\\"datum[\\\\\\\"c_x_axis_back\\\\\\\"]+667\\\"}, \\\"y\\\": {\\\"field\\\": \\\"c_missing_val\\\"}}}, \\\"type\\\": \\\"text\\\"}, {\\\"from\\\": {\\\"data\\\": \\\"data_2\\\"}, \\\"encode\\\": {\\\"enter\\\": {\\\"x\\\": {\\\"value\\\": 500}, \\\"y\\\": {\\\"value\\\": 200}, \\\"text\\\": {\\\"signal\\\": \\\"(toString(datum[\\\\\\\"type\\\\\\\"]) == \\\\\\\"str\\\\\\\")? \\\\\\\"Frequent Items\\\\\\\":\\\\\\\"\\\\\\\"\\\"}, \\\"align\\\": {\\\"value\\\": \\\"left\\\"}, \\\"baseline\\\": {\\\"value\\\": \\\"middle\\\"}, \\\"dx\\\": {\\\"value\\\": 0, \\\"offset\\\": 0}, \\\"dy\\\": {\\\"value\\\": 0, \\\"offset\\\": 0}, \\\"angle\\\": {\\\"value\\\": 0}, \\\"clip\\\": {\\\"value\\\": true}, \\\"font\\\": {\\\"value\\\": \\\"AvenirNext-Medium\\\"}, \\\"fontSize\\\": {\\\"value\\\": 11}, \\\"fontWeight\\\": {\\\"value\\\": \\\"bold\\\"}, \\\"fontStyle\\\": {\\\"value\\\": \\\"normal\\\"}, \\\"fill\\\": {\\\"value\\\": \\\"#4A4A4A\\\"}}, \\\"update\\\": {\\\"x\\\": {\\\"signal\\\": \\\"datum[\\\\\\\"c_x_axis_back\\\\\\\"]+467\\\"}, \\\"y\\\": {\\\"field\\\": \\\"c_frequent_items\\\"}}}, \\\"type\\\": \\\"text\\\"}, {\\\"from\\\": {\\\"data\\\": \\\"data_2\\\"}, \\\"encode\\\": {\\\"enter\\\": {\\\"x\\\": {\\\"value\\\": 520}, \\\"y\\\": {\\\"value\\\": 200}, \\\"text\\\": {\\\"signal\\\": \\\"((datum[\\\\\\\"categorical\\\\\\\"].length >= 1) &amp;&amp; (toString(datum[\\\\\\\"type\\\\\\\"]) == \\\\\\\"str\\\\\\\"))? toString(datum[\\\\\\\"categorical\\\\\\\"][0][\\\\\\\"label\\\\\\\"]):\\\\\\\"\\\\\\\"\\\"}, \\\"align\\\": {\\\"value\\\": \\\"left\\\"}, \\\"baseline\\\": {\\\"value\\\": \\\"middle\\\"}, \\\"dx\\\": {\\\"value\\\": 0, \\\"offset\\\": 0}, \\\"dy\\\": {\\\"value\\\": 0, \\\"offset\\\": 0}, \\\"angle\\\": {\\\"value\\\": 0}, \\\"clip\\\": {\\\"value\\\": true}, \\\"font\\\": {\\\"value\\\": \\\"AvenirNext-Medium\\\"}, \\\"fontSize\\\": {\\\"value\\\": 11}, \\\"fontWeight\\\": {\\\"value\\\": \\\"normal\\\"}, \\\"fontStyle\\\": {\\\"value\\\": \\\"normal\\\"}, \\\"fill\\\": {\\\"value\\\": \\\"#4A4A4A\\\"}}, \\\"update\\\": {\\\"x\\\": {\\\"signal\\\": \\\"datum[\\\\\\\"c_x_axis_back\\\\\\\"]+487\\\"}, \\\"y\\\": {\\\"field\\\": \\\"c_first_item\\\"}}}, \\\"type\\\": \\\"text\\\"}, {\\\"from\\\": {\\\"data\\\": \\\"data_2\\\"}, \\\"encode\\\": {\\\"enter\\\": {\\\"x\\\": {\\\"value\\\": 520}, \\\"y\\\": {\\\"value\\\": 200}, \\\"text\\\": {\\\"signal\\\": \\\"((datum[\\\\\\\"categorical\\\\\\\"].length >= 2) &amp;&amp; (toString(datum[\\\\\\\"type\\\\\\\"]) == \\\\\\\"str\\\\\\\"))? toString(datum[\\\\\\\"categorical\\\\\\\"][1][\\\\\\\"label\\\\\\\"]):\\\\\\\"\\\\\\\"\\\"}, \\\"align\\\": {\\\"value\\\": \\\"left\\\"}, \\\"baseline\\\": {\\\"value\\\": \\\"middle\\\"}, \\\"dx\\\": {\\\"value\\\": 0, \\\"offset\\\": 0}, \\\"dy\\\": {\\\"value\\\": 0, \\\"offset\\\": 0}, \\\"angle\\\": {\\\"value\\\": 0}, \\\"clip\\\": {\\\"value\\\": true}, \\\"font\\\": {\\\"value\\\": \\\"AvenirNext-Medium\\\"}, \\\"fontSize\\\": {\\\"value\\\": 11}, \\\"fontWeight\\\": {\\\"value\\\": \\\"normal\\\"}, \\\"fontStyle\\\": {\\\"value\\\": \\\"normal\\\"}, \\\"fill\\\": {\\\"value\\\": \\\"#4A4A4A\\\"}}, \\\"update\\\": {\\\"x\\\": {\\\"signal\\\": \\\"datum[\\\\\\\"c_x_axis_back\\\\\\\"]+487\\\"}, \\\"y\\\": {\\\"field\\\": \\\"c_second_item\\\"}}}, \\\"type\\\": \\\"text\\\"}, {\\\"from\\\": {\\\"data\\\": \\\"data_2\\\"}, \\\"encode\\\": {\\\"enter\\\": {\\\"x\\\": {\\\"value\\\": 520}, \\\"y\\\": {\\\"value\\\": 200}, \\\"text\\\": {\\\"signal\\\": \\\"((datum[\\\\\\\"categorical\\\\\\\"].length >= 3) &amp;&amp; (toString(datum[\\\\\\\"type\\\\\\\"]) == \\\\\\\"str\\\\\\\"))? toString(datum[\\\\\\\"categorical\\\\\\\"][2][\\\\\\\"label\\\\\\\"]):\\\\\\\"\\\\\\\"\\\"}, \\\"align\\\": {\\\"value\\\": \\\"left\\\"}, \\\"baseline\\\": {\\\"value\\\": \\\"middle\\\"}, \\\"dx\\\": {\\\"value\\\": 0, \\\"offset\\\": 0}, \\\"dy\\\": {\\\"value\\\": 0, \\\"offset\\\": 0}, \\\"angle\\\": {\\\"value\\\": 0}, \\\"clip\\\": {\\\"value\\\": true}, \\\"font\\\": {\\\"value\\\": \\\"AvenirNext-Medium\\\"}, \\\"fontSize\\\": {\\\"value\\\": 11}, \\\"fontWeight\\\": {\\\"value\\\": \\\"normal\\\"}, \\\"fontStyle\\\": {\\\"value\\\": \\\"normal\\\"}, \\\"fill\\\": {\\\"value\\\": \\\"#4A4A4A\\\"}}, \\\"update\\\": {\\\"x\\\": {\\\"signal\\\": \\\"datum[\\\\\\\"c_x_axis_back\\\\\\\"]+487\\\"}, \\\"y\\\": {\\\"field\\\": \\\"c_third_item\\\"}}}, \\\"type\\\": \\\"text\\\"}, {\\\"from\\\": {\\\"data\\\": \\\"data_2\\\"}, \\\"encode\\\": {\\\"enter\\\": {\\\"x\\\": {\\\"value\\\": 520}, \\\"y\\\": {\\\"value\\\": 200}, \\\"text\\\": {\\\"signal\\\": \\\"((datum[\\\\\\\"categorical\\\\\\\"].length >= 4) &amp;&amp; (toString(datum[\\\\\\\"type\\\\\\\"]) == \\\\\\\"str\\\\\\\"))? toString(datum[\\\\\\\"categorical\\\\\\\"][3][\\\\\\\"label\\\\\\\"]):\\\\\\\"\\\\\\\"\\\"}, \\\"align\\\": {\\\"value\\\": \\\"left\\\"}, \\\"baseline\\\": {\\\"value\\\": \\\"middle\\\"}, \\\"dx\\\": {\\\"value\\\": 0, \\\"offset\\\": 0}, \\\"dy\\\": {\\\"value\\\": 0, \\\"offset\\\": 0}, \\\"angle\\\": {\\\"value\\\": 0}, \\\"clip\\\": {\\\"value\\\": true}, \\\"font\\\": {\\\"value\\\": \\\"AvenirNext-Medium\\\"}, \\\"fontSize\\\": {\\\"value\\\": 11}, \\\"fontWeight\\\": {\\\"value\\\": \\\"normal\\\"}, \\\"fontStyle\\\": {\\\"value\\\": \\\"normal\\\"}, \\\"fill\\\": {\\\"value\\\": \\\"#4A4A4A\\\"}}, \\\"update\\\": {\\\"x\\\": {\\\"signal\\\": \\\"datum[\\\\\\\"c_x_axis_back\\\\\\\"]+487\\\"}, \\\"y\\\": {\\\"field\\\": \\\"c_fourth_item\\\"}}}, \\\"type\\\": \\\"text\\\"}, {\\\"from\\\": {\\\"data\\\": \\\"data_2\\\"}, \\\"encode\\\": {\\\"enter\\\": {\\\"x\\\": {\\\"value\\\": 520}, \\\"y\\\": {\\\"value\\\": 200}, \\\"text\\\": {\\\"signal\\\": \\\"((datum[\\\\\\\"categorical\\\\\\\"].length >= 5) &amp;&amp; (toString(datum[\\\\\\\"type\\\\\\\"]) == \\\\\\\"str\\\\\\\"))? toString(datum[\\\\\\\"categorical\\\\\\\"][4][\\\\\\\"label\\\\\\\"]):\\\\\\\"\\\\\\\"\\\"}, \\\"align\\\": {\\\"value\\\": \\\"left\\\"}, \\\"baseline\\\": {\\\"value\\\": \\\"middle\\\"}, \\\"dx\\\": {\\\"value\\\": 0, \\\"offset\\\": 0}, \\\"dy\\\": {\\\"value\\\": 0, \\\"offset\\\": 0}, \\\"angle\\\": {\\\"value\\\": 0}, \\\"clip\\\": {\\\"value\\\": true}, \\\"font\\\": {\\\"value\\\": \\\"AvenirNext-Medium\\\"}, \\\"fontSize\\\": {\\\"value\\\": 11}, \\\"fontWeight\\\": {\\\"value\\\": \\\"normal\\\"}, \\\"fontStyle\\\": {\\\"value\\\": \\\"normal\\\"}, \\\"fill\\\": {\\\"value\\\": \\\"#4A4A4A\\\"}}, \\\"update\\\": {\\\"x\\\": {\\\"signal\\\": \\\"datum[\\\\\\\"c_x_axis_back\\\\\\\"]+487\\\"}, \\\"y\\\": {\\\"field\\\": \\\"c_fifth_item\\\"}}}, \\\"type\\\": \\\"text\\\"}, {\\\"from\\\": {\\\"data\\\": \\\"data_2\\\"}, \\\"encode\\\": {\\\"enter\\\": {\\\"x\\\": {\\\"value\\\": 700}, \\\"y\\\": {\\\"value\\\": 200}, \\\"text\\\": {\\\"signal\\\": \\\"((datum[\\\\\\\"categorical\\\\\\\"].length >= 1) &amp;&amp; (toString(datum[\\\\\\\"type\\\\\\\"]) == \\\\\\\"str\\\\\\\"))? toString(datum[\\\\\\\"categorical\\\\\\\"][0][\\\\\\\"count\\\\\\\"]):\\\\\\\"\\\\\\\"\\\"}, \\\"align\\\": {\\\"value\\\": \\\"right\\\"}, \\\"baseline\\\": {\\\"value\\\": \\\"middle\\\"}, \\\"dx\\\": {\\\"value\\\": 0, \\\"offset\\\": 0}, \\\"dy\\\": {\\\"value\\\": 0, \\\"offset\\\": 0}, \\\"angle\\\": {\\\"value\\\": 0}, \\\"clip\\\": {\\\"value\\\": true}, \\\"font\\\": {\\\"value\\\": \\\"AvenirNext-Medium\\\"}, \\\"fontSize\\\": {\\\"value\\\": 11}, \\\"fontWeight\\\": {\\\"value\\\": \\\"normal\\\"}, \\\"fontStyle\\\": {\\\"value\\\": \\\"normal\\\"}, \\\"fill\\\": {\\\"value\\\": \\\"#7A7A7A\\\"}}, \\\"update\\\": {\\\"x\\\": {\\\"signal\\\": \\\"datum[\\\\\\\"c_x_axis_back\\\\\\\"]+667\\\"}, \\\"y\\\": {\\\"field\\\": \\\"c_first_item\\\"}}}, \\\"type\\\": \\\"text\\\"}, {\\\"from\\\": {\\\"data\\\": \\\"data_2\\\"}, \\\"encode\\\": {\\\"enter\\\": {\\\"x\\\": {\\\"value\\\": 700}, \\\"y\\\": {\\\"value\\\": 200}, \\\"text\\\": {\\\"signal\\\": \\\"((datum[\\\\\\\"categorical\\\\\\\"].length >= 2) &amp;&amp; (toString(datum[\\\\\\\"type\\\\\\\"]) == \\\\\\\"str\\\\\\\"))? toString(datum[\\\\\\\"categorical\\\\\\\"][1][\\\\\\\"count\\\\\\\"]):\\\\\\\"\\\\\\\"\\\"}, \\\"align\\\": {\\\"value\\\": \\\"right\\\"}, \\\"baseline\\\": {\\\"value\\\": \\\"middle\\\"}, \\\"dx\\\": {\\\"value\\\": 0, \\\"offset\\\": 0}, \\\"dy\\\": {\\\"value\\\": 0, \\\"offset\\\": 0}, \\\"angle\\\": {\\\"value\\\": 0}, \\\"clip\\\": {\\\"value\\\": true}, \\\"font\\\": {\\\"value\\\": \\\"AvenirNext-Medium\\\"}, \\\"fontSize\\\": {\\\"value\\\": 10}, \\\"fontWeight\\\": {\\\"value\\\": \\\"normal\\\"}, \\\"fontStyle\\\": {\\\"value\\\": \\\"normal\\\"}, \\\"fill\\\": {\\\"value\\\": \\\"#7A7A7A\\\"}}, \\\"update\\\": {\\\"x\\\": {\\\"signal\\\": \\\"datum[\\\\\\\"c_x_axis_back\\\\\\\"]+667\\\"}, \\\"y\\\": {\\\"field\\\": \\\"c_second_item\\\"}}}, \\\"type\\\": \\\"text\\\"}, {\\\"from\\\": {\\\"data\\\": \\\"data_2\\\"}, \\\"encode\\\": {\\\"enter\\\": {\\\"x\\\": {\\\"value\\\": 700}, \\\"y\\\": {\\\"value\\\": 200}, \\\"text\\\": {\\\"signal\\\": \\\"((datum[\\\\\\\"categorical\\\\\\\"].length >= 3) &amp;&amp; (toString(datum[\\\\\\\"type\\\\\\\"]) == \\\\\\\"str\\\\\\\"))? toString(datum[\\\\\\\"categorical\\\\\\\"][2][\\\\\\\"count\\\\\\\"]):\\\\\\\"\\\\\\\"\\\"}, \\\"align\\\": {\\\"value\\\": \\\"right\\\"}, \\\"baseline\\\": {\\\"value\\\": \\\"middle\\\"}, \\\"dx\\\": {\\\"value\\\": 0, \\\"offset\\\": 0}, \\\"dy\\\": {\\\"value\\\": 0, \\\"offset\\\": 0}, \\\"angle\\\": {\\\"value\\\": 0}, \\\"clip\\\": {\\\"value\\\": true}, \\\"font\\\": {\\\"value\\\": \\\"AvenirNext-Medium\\\"}, \\\"fontSize\\\": {\\\"value\\\": 10}, \\\"fontWeight\\\": {\\\"value\\\": \\\"normal\\\"}, \\\"fontStyle\\\": {\\\"value\\\": \\\"normal\\\"}, \\\"fill\\\": {\\\"value\\\": \\\"#7A7A7A\\\"}}, \\\"update\\\": {\\\"x\\\": {\\\"signal\\\": \\\"datum[\\\\\\\"c_x_axis_back\\\\\\\"]+667\\\"}, \\\"y\\\": {\\\"field\\\": \\\"c_third_item\\\"}}}, \\\"type\\\": \\\"text\\\"}, {\\\"from\\\": {\\\"data\\\": \\\"data_2\\\"}, \\\"encode\\\": {\\\"enter\\\": {\\\"x\\\": {\\\"value\\\": 700}, \\\"y\\\": {\\\"value\\\": 200}, \\\"text\\\": {\\\"signal\\\": \\\"((datum[\\\\\\\"categorical\\\\\\\"].length >= 4) &amp;&amp; (toString(datum[\\\\\\\"type\\\\\\\"]) == \\\\\\\"str\\\\\\\"))? toString(datum[\\\\\\\"categorical\\\\\\\"][3][\\\\\\\"count\\\\\\\"]):\\\\\\\"\\\\\\\"\\\"}, \\\"align\\\": {\\\"value\\\": \\\"right\\\"}, \\\"baseline\\\": {\\\"value\\\": \\\"middle\\\"}, \\\"dx\\\": {\\\"value\\\": 0, \\\"offset\\\": 0}, \\\"dy\\\": {\\\"value\\\": 0, \\\"offset\\\": 0}, \\\"angle\\\": {\\\"value\\\": 0}, \\\"clip\\\": {\\\"value\\\": true}, \\\"font\\\": {\\\"value\\\": \\\"AvenirNext-Medium\\\"}, \\\"fontSize\\\": {\\\"value\\\": 10}, \\\"fontWeight\\\": {\\\"value\\\": \\\"normal\\\"}, \\\"fontStyle\\\": {\\\"value\\\": \\\"normal\\\"}, \\\"fill\\\": {\\\"value\\\": \\\"#7A7A7A\\\"}}, \\\"update\\\": {\\\"x\\\": {\\\"signal\\\": \\\"datum[\\\\\\\"c_x_axis_back\\\\\\\"]+667\\\"}, \\\"y\\\": {\\\"field\\\": \\\"c_fourth_item\\\"}}}, \\\"type\\\": \\\"text\\\"}, {\\\"from\\\": {\\\"data\\\": \\\"data_2\\\"}, \\\"encode\\\": {\\\"enter\\\": {\\\"x\\\": {\\\"value\\\": 700}, \\\"y\\\": {\\\"value\\\": 200}, \\\"text\\\": {\\\"signal\\\": \\\"((datum[\\\\\\\"categorical\\\\\\\"].length >= 5) &amp;&amp; (toString(datum[\\\\\\\"type\\\\\\\"]) == \\\\\\\"str\\\\\\\"))? toString(datum[\\\\\\\"categorical\\\\\\\"][4][\\\\\\\"count\\\\\\\"]):\\\\\\\"\\\\\\\"\\\"}, \\\"align\\\": {\\\"value\\\": \\\"right\\\"}, \\\"baseline\\\": {\\\"value\\\": \\\"middle\\\"}, \\\"dx\\\": {\\\"value\\\": 0, \\\"offset\\\": 0}, \\\"dy\\\": {\\\"value\\\": 0, \\\"offset\\\": 0}, \\\"angle\\\": {\\\"value\\\": 0}, \\\"clip\\\": {\\\"value\\\": true}, \\\"font\\\": {\\\"value\\\": \\\"AvenirNext-Medium\\\"}, \\\"fontSize\\\": {\\\"value\\\": 10}, \\\"fontWeight\\\": {\\\"value\\\": \\\"normal\\\"}, \\\"fontStyle\\\": {\\\"value\\\": \\\"normal\\\"}, \\\"fill\\\": {\\\"value\\\": \\\"#7A7A7A\\\"}}, \\\"update\\\": {\\\"x\\\": {\\\"signal\\\": \\\"datum[\\\\\\\"c_x_axis_back\\\\\\\"]+667\\\"}, \\\"y\\\": {\\\"field\\\": \\\"c_fifth_item\\\"}}}, \\\"type\\\": \\\"text\\\"}, {\\\"from\\\": {\\\"data\\\": \\\"data_2\\\"}, \\\"encode\\\": {\\\"enter\\\": {\\\"x\\\": {\\\"value\\\": 500}, \\\"y\\\": {\\\"value\\\": 200}, \\\"text\\\": {\\\"signal\\\": \\\"(toString(datum[\\\\\\\"type\\\\\\\"]) == \\\\\\\"integer\\\\\\\" || toString(datum[\\\\\\\"type\\\\\\\"]) == \\\\\\\"float\\\\\\\")? \\\\\\\"Mean:\\\\\\\":\\\\\\\"\\\\\\\"\\\"}, \\\"align\\\": {\\\"value\\\": \\\"left\\\"}, \\\"baseline\\\": {\\\"value\\\": \\\"middle\\\"}, \\\"dx\\\": {\\\"value\\\": 0, \\\"offset\\\": 0}, \\\"dy\\\": {\\\"value\\\": 0, \\\"offset\\\": 0}, \\\"angle\\\": {\\\"value\\\": 0}, \\\"clip\\\": {\\\"value\\\": true}, \\\"font\\\": {\\\"value\\\": \\\"AvenirNext-Medium\\\"}, \\\"fontSize\\\": {\\\"value\\\": 11}, \\\"fontWeight\\\": {\\\"value\\\": \\\"bold\\\"}, \\\"fontStyle\\\": {\\\"value\\\": \\\"normal\\\"}, \\\"fill\\\": {\\\"value\\\": \\\"#4A4A4A\\\"}}, \\\"update\\\": {\\\"x\\\": {\\\"signal\\\": \\\"datum[\\\\\\\"c_x_axis_back\\\\\\\"]+467\\\"}, \\\"y\\\": {\\\"field\\\": \\\"c_mean\\\"}}}, \\\"type\\\": \\\"text\\\"}, {\\\"from\\\": {\\\"data\\\": \\\"data_2\\\"}, \\\"encode\\\": {\\\"enter\\\": {\\\"x\\\": {\\\"value\\\": 500}, \\\"y\\\": {\\\"value\\\": 220}, \\\"text\\\": {\\\"signal\\\": \\\"(toString(datum[\\\\\\\"type\\\\\\\"]) == \\\\\\\"integer\\\\\\\" || toString(datum[\\\\\\\"type\\\\\\\"]) == \\\\\\\"float\\\\\\\")? \\\\\\\"Min:\\\\\\\":\\\\\\\"\\\\\\\"\\\"}, \\\"align\\\": {\\\"value\\\": \\\"left\\\"}, \\\"baseline\\\": {\\\"value\\\": \\\"middle\\\"}, \\\"dx\\\": {\\\"value\\\": 0, \\\"offset\\\": 0}, \\\"dy\\\": {\\\"value\\\": 0, \\\"offset\\\": 0}, \\\"angle\\\": {\\\"value\\\": 0}, \\\"font\\\": {\\\"value\\\": \\\"AvenirNext-Medium\\\"}, \\\"fontSize\\\": {\\\"value\\\": 11}, \\\"fontWeight\\\": {\\\"value\\\": \\\"bold\\\"}, \\\"fontStyle\\\": {\\\"value\\\": \\\"normal\\\"}, \\\"fill\\\": {\\\"value\\\": \\\"#4A4A4A\\\"}}, \\\"update\\\": {\\\"x\\\": {\\\"signal\\\": \\\"datum[\\\\\\\"c_x_axis_back\\\\\\\"]+467\\\"}, \\\"y\\\": {\\\"field\\\": \\\"c_min\\\"}}}, \\\"type\\\": \\\"text\\\"}, {\\\"from\\\": {\\\"data\\\": \\\"data_2\\\"}, \\\"encode\\\": {\\\"enter\\\": {\\\"x\\\": {\\\"value\\\": 500}, \\\"y\\\": {\\\"value\\\": 240}, \\\"text\\\": {\\\"signal\\\": \\\"(toString(datum[\\\\\\\"type\\\\\\\"]) == \\\\\\\"integer\\\\\\\" || toString(datum[\\\\\\\"type\\\\\\\"]) == \\\\\\\"float\\\\\\\")? \\\\\\\"Max:\\\\\\\":\\\\\\\"\\\\\\\"\\\"}, \\\"align\\\": {\\\"value\\\": \\\"left\\\"}, \\\"baseline\\\": {\\\"value\\\": \\\"middle\\\"}, \\\"dx\\\": {\\\"value\\\": 0, \\\"offset\\\": 0}, \\\"dy\\\": {\\\"value\\\": 0, \\\"offset\\\": 0}, \\\"angle\\\": {\\\"value\\\": 0}, \\\"font\\\": {\\\"value\\\": \\\"AvenirNext-Medium\\\"}, \\\"fontSize\\\": {\\\"value\\\": 11}, \\\"fontWeight\\\": {\\\"value\\\": \\\"bold\\\"}, \\\"fontStyle\\\": {\\\"value\\\": \\\"normal\\\"}, \\\"fill\\\": {\\\"value\\\": \\\"#4A4A4A\\\"}}, \\\"update\\\": {\\\"x\\\": {\\\"signal\\\": \\\"datum[\\\\\\\"c_x_axis_back\\\\\\\"]+467\\\"}, \\\"y\\\": {\\\"field\\\": \\\"c_max\\\"}}}, \\\"type\\\": \\\"text\\\"}, {\\\"from\\\": {\\\"data\\\": \\\"data_2\\\"}, \\\"encode\\\": {\\\"enter\\\": {\\\"x\\\": {\\\"value\\\": 500}, \\\"y\\\": {\\\"value\\\": 260}, \\\"text\\\": {\\\"signal\\\": \\\"(toString(datum[\\\\\\\"type\\\\\\\"]) == \\\\\\\"integer\\\\\\\" || toString(datum[\\\\\\\"type\\\\\\\"]) == \\\\\\\"float\\\\\\\")? \\\\\\\"Median:\\\\\\\":\\\\\\\"\\\\\\\"\\\"}, \\\"align\\\": {\\\"value\\\": \\\"left\\\"}, \\\"baseline\\\": {\\\"value\\\": \\\"middle\\\"}, \\\"dx\\\": {\\\"value\\\": 0, \\\"offset\\\": 0}, \\\"dy\\\": {\\\"value\\\": 0, \\\"offset\\\": 0}, \\\"angle\\\": {\\\"value\\\": 0}, \\\"font\\\": {\\\"value\\\": \\\"AvenirNext-Medium\\\"}, \\\"fontSize\\\": {\\\"value\\\": 11}, \\\"fontWeight\\\": {\\\"value\\\": \\\"bold\\\"}, \\\"fontStyle\\\": {\\\"value\\\": \\\"normal\\\"}, \\\"fill\\\": {\\\"value\\\": \\\"#4A4A4A\\\"}}, \\\"update\\\": {\\\"x\\\": {\\\"signal\\\": \\\"datum[\\\\\\\"c_x_axis_back\\\\\\\"]+467\\\"}, \\\"y\\\": {\\\"field\\\": \\\"c_median\\\"}}}, \\\"type\\\": \\\"text\\\"}, {\\\"from\\\": {\\\"data\\\": \\\"data_2\\\"}, \\\"encode\\\": {\\\"enter\\\": {\\\"x\\\": {\\\"value\\\": 500}, \\\"y\\\": {\\\"value\\\": 280}, \\\"text\\\": {\\\"signal\\\": \\\"(toString(datum[\\\\\\\"type\\\\\\\"]) == \\\\\\\"integer\\\\\\\" || toString(datum[\\\\\\\"type\\\\\\\"]) == \\\\\\\"float\\\\\\\")? \\\\\\\"St. Dev:\\\\\\\":\\\\\\\"\\\\\\\"\\\"}, \\\"align\\\": {\\\"value\\\": \\\"left\\\"}, \\\"baseline\\\": {\\\"value\\\": \\\"middle\\\"}, \\\"dx\\\": {\\\"value\\\": 0, \\\"offset\\\": 0}, \\\"dy\\\": {\\\"value\\\": 0, \\\"offset\\\": 0}, \\\"angle\\\": {\\\"value\\\": 0}, \\\"font\\\": {\\\"value\\\": \\\"AvenirNext-Medium\\\"}, \\\"fontSize\\\": {\\\"value\\\": 11}, \\\"fontWeight\\\": {\\\"value\\\": \\\"bold\\\"}, \\\"fontStyle\\\": {\\\"value\\\": \\\"normal\\\"}, \\\"fill\\\": {\\\"value\\\": \\\"#4A4A4A\\\"}}, \\\"update\\\": {\\\"x\\\": {\\\"signal\\\": \\\"datum[\\\\\\\"c_x_axis_back\\\\\\\"]+467\\\"}, \\\"y\\\": {\\\"field\\\": \\\"c_stdev\\\"}}}, \\\"type\\\": \\\"text\\\"}, {\\\"from\\\": {\\\"data\\\": \\\"data_2\\\"}, \\\"encode\\\": {\\\"enter\\\": {\\\"x\\\": {\\\"value\\\": 700}, \\\"y\\\": {\\\"value\\\": 198}, \\\"text\\\": {\\\"signal\\\": \\\"(toString(datum[\\\\\\\"type\\\\\\\"]) == \\\\\\\"integer\\\\\\\" || toString(datum[\\\\\\\"type\\\\\\\"]) == \\\\\\\"float\\\\\\\")?toString(format(datum[\\\\\\\"mean\\\\\\\"], \\\\\\\",\\\\\\\")):\\\\\\\"\\\\\\\"\\\"}, \\\"align\\\": {\\\"value\\\": \\\"right\\\"}, \\\"baseline\\\": {\\\"value\\\": \\\"middle\\\"}, \\\"dx\\\": {\\\"value\\\": 0, \\\"offset\\\": 0}, \\\"dy\\\": {\\\"value\\\": 0, \\\"offset\\\": 0}, \\\"angle\\\": {\\\"value\\\": 0}, \\\"font\\\": {\\\"value\\\": \\\"AvenirNext-Medium\\\"}, \\\"fontSize\\\": {\\\"value\\\": 10}, \\\"fontWeight\\\": {\\\"value\\\": \\\"normal\\\"}, \\\"fontStyle\\\": {\\\"value\\\": \\\"normal\\\"}, \\\"fill\\\": {\\\"value\\\": \\\"#6A6A6A\\\"}}, \\\"update\\\": {\\\"x\\\": {\\\"signal\\\": \\\"datum[\\\\\\\"c_x_axis_back\\\\\\\"]+667\\\"}, \\\"y\\\": {\\\"field\\\": \\\"c_mean_val\\\"}}}, \\\"type\\\": \\\"text\\\"}, {\\\"from\\\": {\\\"data\\\": \\\"data_2\\\"}, \\\"encode\\\": {\\\"enter\\\": {\\\"x\\\": {\\\"value\\\": 700}, \\\"y\\\": {\\\"value\\\": 218}, \\\"text\\\": {\\\"signal\\\": \\\"(toString(datum[\\\\\\\"type\\\\\\\"]) == \\\\\\\"integer\\\\\\\" || toString(datum[\\\\\\\"type\\\\\\\"]) == \\\\\\\"float\\\\\\\")?toString(format(datum[\\\\\\\"min\\\\\\\"], \\\\\\\",\\\\\\\")):\\\\\\\"\\\\\\\"\\\"}, \\\"align\\\": {\\\"value\\\": \\\"right\\\"}, \\\"baseline\\\": {\\\"value\\\": \\\"middle\\\"}, \\\"dx\\\": {\\\"value\\\": 0, \\\"offset\\\": 0}, \\\"dy\\\": {\\\"value\\\": 0, \\\"offset\\\": 0}, \\\"angle\\\": {\\\"value\\\": 0}, \\\"font\\\": {\\\"value\\\": \\\"AvenirNext-Medium\\\"}, \\\"fontSize\\\": {\\\"value\\\": 10}, \\\"fontWeight\\\": {\\\"value\\\": \\\"normal\\\"}, \\\"fontStyle\\\": {\\\"value\\\": \\\"normal\\\"}, \\\"fill\\\": {\\\"value\\\": \\\"#6A6A6A\\\"}}, \\\"update\\\": {\\\"x\\\": {\\\"signal\\\": \\\"datum[\\\\\\\"c_x_axis_back\\\\\\\"]+667\\\"}, \\\"y\\\": {\\\"field\\\": \\\"c_min_val\\\"}}}, \\\"type\\\": \\\"text\\\"}, {\\\"from\\\": {\\\"data\\\": \\\"data_2\\\"}, \\\"encode\\\": {\\\"enter\\\": {\\\"x\\\": {\\\"value\\\": 700}, \\\"y\\\": {\\\"value\\\": 238}, \\\"text\\\": {\\\"signal\\\": \\\"(toString(datum[\\\\\\\"type\\\\\\\"]) == \\\\\\\"integer\\\\\\\" || toString(datum[\\\\\\\"type\\\\\\\"]) == \\\\\\\"float\\\\\\\")?toString(format(datum[\\\\\\\"max\\\\\\\"], \\\\\\\",\\\\\\\")):\\\\\\\"\\\\\\\"\\\"}, \\\"align\\\": {\\\"value\\\": \\\"right\\\"}, \\\"baseline\\\": {\\\"value\\\": \\\"middle\\\"}, \\\"dx\\\": {\\\"value\\\": 0, \\\"offset\\\": 0}, \\\"dy\\\": {\\\"value\\\": 0, \\\"offset\\\": 0}, \\\"angle\\\": {\\\"value\\\": 0}, \\\"font\\\": {\\\"value\\\": \\\"AvenirNext-Medium\\\"}, \\\"fontSize\\\": {\\\"value\\\": 10}, \\\"fontWeight\\\": {\\\"value\\\": \\\"normal\\\"}, \\\"fontStyle\\\": {\\\"value\\\": \\\"normal\\\"}, \\\"fill\\\": {\\\"value\\\": \\\"#6A6A6A\\\"}}, \\\"update\\\": {\\\"x\\\": {\\\"signal\\\": \\\"datum[\\\\\\\"c_x_axis_back\\\\\\\"]+667\\\"}, \\\"y\\\": {\\\"field\\\": \\\"c_max_val\\\"}}}, \\\"type\\\": \\\"text\\\"}, {\\\"from\\\": {\\\"data\\\": \\\"data_2\\\"}, \\\"encode\\\": {\\\"enter\\\": {\\\"x\\\": {\\\"value\\\": 700}, \\\"y\\\": {\\\"value\\\": 258}, \\\"text\\\": {\\\"signal\\\": \\\"(toString(datum[\\\\\\\"type\\\\\\\"]) == \\\\\\\"integer\\\\\\\" || toString(datum[\\\\\\\"type\\\\\\\"]) == \\\\\\\"float\\\\\\\")?toString(format(datum[\\\\\\\"median\\\\\\\"], \\\\\\\",\\\\\\\")):\\\\\\\"\\\\\\\"\\\"}, \\\"align\\\": {\\\"value\\\": \\\"right\\\"}, \\\"baseline\\\": {\\\"value\\\": \\\"middle\\\"}, \\\"dx\\\": {\\\"value\\\": 0, \\\"offset\\\": 0}, \\\"dy\\\": {\\\"value\\\": 0, \\\"offset\\\": 0}, \\\"angle\\\": {\\\"value\\\": 0}, \\\"font\\\": {\\\"value\\\": \\\"AvenirNext-Medium\\\"}, \\\"fontSize\\\": {\\\"value\\\": 10}, \\\"fontWeight\\\": {\\\"value\\\": \\\"normal\\\"}, \\\"fontStyle\\\": {\\\"value\\\": \\\"normal\\\"}, \\\"fill\\\": {\\\"value\\\": \\\"#6A6A6A\\\"}}, \\\"update\\\": {\\\"x\\\": {\\\"signal\\\": \\\"datum[\\\\\\\"c_x_axis_back\\\\\\\"]+667\\\"}, \\\"y\\\": {\\\"field\\\": \\\"c_median_val\\\"}}}, \\\"type\\\": \\\"text\\\"}, {\\\"from\\\": {\\\"data\\\": \\\"data_2\\\"}, \\\"encode\\\": {\\\"enter\\\": {\\\"x\\\": {\\\"value\\\": 700}, \\\"y\\\": {\\\"value\\\": 278}, \\\"text\\\": {\\\"signal\\\": \\\"(toString(datum[\\\\\\\"type\\\\\\\"]) == \\\\\\\"integer\\\\\\\" || toString(datum[\\\\\\\"type\\\\\\\"]) == \\\\\\\"float\\\\\\\")?toString(format(datum[\\\\\\\"stdev\\\\\\\"], \\\\\\\",\\\\\\\")):\\\\\\\"\\\\\\\"\\\"}, \\\"align\\\": {\\\"value\\\": \\\"right\\\"}, \\\"baseline\\\": {\\\"value\\\": \\\"middle\\\"}, \\\"dx\\\": {\\\"value\\\": 0, \\\"offset\\\": 0}, \\\"dy\\\": {\\\"value\\\": 0, \\\"offset\\\": 0}, \\\"angle\\\": {\\\"value\\\": 0}, \\\"font\\\": {\\\"value\\\": \\\"AvenirNext-Medium\\\"}, \\\"fontSize\\\": {\\\"value\\\": 10}, \\\"fontWeight\\\": {\\\"value\\\": \\\"normal\\\"}, \\\"fontStyle\\\": {\\\"value\\\": \\\"normal\\\"}, \\\"fill\\\": {\\\"value\\\": \\\"#6A6A6A\\\"}}, \\\"update\\\": {\\\"x\\\": {\\\"signal\\\": \\\"datum[\\\\\\\"c_x_axis_back\\\\\\\"]+667\\\"}, \\\"y\\\": {\\\"field\\\": \\\"c_stdev_val\\\"}}}, \\\"type\\\": \\\"text\\\"}, {\\\"from\\\": {\\\"facet\\\": {\\\"name\\\": \\\"new_data\\\", \\\"data\\\": \\\"data_2\\\", \\\"field\\\": \\\"numeric\\\"}}, \\\"encode\\\": {\\\"enter\\\": {\\\"x\\\": {\\\"value\\\": 120}, \\\"width\\\": {\\\"value\\\": 250}, \\\"y\\\": {\\\"field\\\": \\\"graph_offset\\\"}, \\\"height\\\": {\\\"value\\\": 150}, \\\"fill\\\": {\\\"value\\\": \\\"#ffffff\\\"}, \\\"fillOpacity\\\": {\\\"value\\\": 0}, \\\"stroke\\\": {\\\"value\\\": \\\"#000000\\\"}, \\\"strokeWidth\\\": {\\\"value\\\": 0}}, \\\"update\\\": {\\\"x\\\": {\\\"signal\\\": \\\"datum[\\\\\\\"c_x_axis_back\\\\\\\"]+87\\\"}, \\\"clip\\\": {\\\"field\\\": \\\"c_clip_val\\\"}, \\\"width\\\": {\\\"field\\\": \\\"c_width_numeric_val\\\"}}}, \\\"type\\\": \\\"group\\\", \\\"scales\\\": [{\\\"name\\\": \\\"x\\\", \\\"type\\\": \\\"linear\\\", \\\"domain\\\": {\\\"data\\\": \\\"new_data\\\", \\\"fields\\\": [\\\"left\\\", \\\"right\\\"], \\\"sort\\\": true}, \\\"range\\\": [0, {\\\"signal\\\": \\\"width\\\"}], \\\"nice\\\": true, \\\"zero\\\": true}, {\\\"name\\\": \\\"y\\\", \\\"type\\\": \\\"linear\\\", \\\"domain\\\": {\\\"data\\\": \\\"new_data\\\", \\\"field\\\": \\\"count\\\"}, \\\"range\\\": [{\\\"signal\\\": \\\"height\\\"}, 0], \\\"nice\\\": true, \\\"zero\\\": true}], \\\"axes\\\": [{\\\"title\\\": \\\"Values\\\", \\\"scale\\\": \\\"x\\\", \\\"labelOverlap\\\": true, \\\"orient\\\": \\\"bottom\\\", \\\"tickCount\\\": {\\\"signal\\\": \\\"ceil(width/40)\\\"}, \\\"zindex\\\": 1}, {\\\"scale\\\": \\\"x\\\", \\\"domain\\\": false, \\\"grid\\\": true, \\\"labels\\\": false, \\\"maxExtent\\\": 0, \\\"minExtent\\\": 0, \\\"orient\\\": \\\"bottom\\\", \\\"tickCount\\\": {\\\"signal\\\": \\\"ceil(width/40)\\\"}, \\\"ticks\\\": false, \\\"zindex\\\": 0, \\\"gridScale\\\": \\\"y\\\"}, {\\\"title\\\": \\\"Count\\\", \\\"scale\\\": \\\"y\\\", \\\"labelOverlap\\\": true, \\\"orient\\\": \\\"left\\\", \\\"tickCount\\\": {\\\"signal\\\": \\\"ceil(height/40)\\\"}, \\\"zindex\\\": 1}, {\\\"scale\\\": \\\"y\\\", \\\"domain\\\": false, \\\"grid\\\": true, \\\"labels\\\": false, \\\"maxExtent\\\": 0, \\\"minExtent\\\": 0, \\\"orient\\\": \\\"left\\\", \\\"tickCount\\\": {\\\"signal\\\": \\\"ceil(height/40)\\\"}, \\\"ticks\\\": false, \\\"zindex\\\": 0, \\\"gridScale\\\": \\\"x\\\"}], \\\"style\\\": \\\"cell\\\", \\\"signals\\\": [{\\\"name\\\": \\\"width\\\", \\\"update\\\": \\\"250\\\"}, {\\\"name\\\": \\\"height\\\", \\\"update\\\": \\\"150\\\"}], \\\"marks\\\": [{\\\"name\\\": \\\"marks\\\", \\\"type\\\": \\\"rect\\\", \\\"style\\\": [\\\"rect\\\"], \\\"from\\\": {\\\"data\\\": \\\"new_data\\\"}, \\\"encode\\\": {\\\"hover\\\": {\\\"fill\\\": {\\\"value\\\": \\\"#7EC2F3\\\"}}, \\\"update\\\": {\\\"x\\\": {\\\"scale\\\": \\\"x\\\", \\\"field\\\": \\\"left\\\"}, \\\"x2\\\": {\\\"scale\\\": \\\"x\\\", \\\"field\\\": \\\"right\\\"}, \\\"y\\\": {\\\"scale\\\": \\\"y\\\", \\\"field\\\": \\\"count\\\"}, \\\"y2\\\": {\\\"scale\\\": \\\"y\\\", \\\"value\\\": 0}, \\\"fill\\\": {\\\"value\\\": \\\"#108EE9\\\"}}}}]}, {\\\"from\\\": {\\\"facet\\\": {\\\"name\\\": \\\"data_5\\\", \\\"data\\\": \\\"data_2\\\", \\\"field\\\": \\\"categorical\\\"}}, \\\"encode\\\": {\\\"enter\\\": {\\\"x\\\": {\\\"value\\\": 170}, \\\"width\\\": {\\\"value\\\": 250}, \\\"y\\\": {\\\"field\\\": \\\"graph_offset_categorical\\\"}, \\\"height\\\": {\\\"value\\\": 150}, \\\"fill\\\": {\\\"value\\\": \\\"#ffffff\\\"}, \\\"fillOpacity\\\": {\\\"value\\\": 0}, \\\"stroke\\\": {\\\"value\\\": \\\"#000000\\\"}, \\\"strokeWidth\\\": {\\\"value\\\": 0}}, \\\"update\\\": {\\\"x\\\": {\\\"signal\\\": \\\"datum[\\\\\\\"c_x_axis_back\\\\\\\"]+137\\\"}, \\\"clip\\\": {\\\"field\\\": \\\"c_clip_val_cat\\\"}, \\\"width\\\": {\\\"field\\\": \\\"c_width_numeric_val_cat\\\"}}}, \\\"type\\\": \\\"group\\\", \\\"style\\\": \\\"cell\\\", \\\"signals\\\": [{\\\"name\\\": \\\"unit\\\", \\\"value\\\": {}, \\\"on\\\": [{\\\"events\\\": \\\"mousemove\\\", \\\"update\\\": \\\"isTuple(group()) ? group() : unit\\\"}]}, {\\\"name\\\": \\\"pts\\\", \\\"update\\\": \\\"data(\\\\\\\"pts_store\\\\\\\").length &amp;&amp; {count: data(\\\\\\\"pts_store\\\\\\\")[0].values[0]}\\\"}, {\\\"name\\\": \\\"pts_tuple\\\", \\\"value\\\": {}, \\\"on\\\": [{\\\"events\\\": [{\\\"source\\\": \\\"scope\\\", \\\"type\\\": \\\"click\\\"}], \\\"update\\\": \\\"datum &amp;&amp; item().mark.marktype !== &apos;group&apos; ? {unit: \\\\\\\"\\\\\\\", encodings: [\\\\\\\"x\\\\\\\"], fields: [\\\\\\\"count\\\\\\\"], values: [datum[\\\\\\\"count\\\\\\\"]]} : null\\\", \\\"force\\\": true}]}, {\\\"name\\\": \\\"pts_modify\\\", \\\"on\\\": [{\\\"events\\\": {\\\"signal\\\": \\\"pts_tuple\\\"}, \\\"update\\\": \\\"modify(\\\\\\\"pts_store\\\\\\\", pts_tuple, true)\\\"}]}], \\\"marks\\\": [{\\\"name\\\": \\\"marks\\\", \\\"type\\\": \\\"rect\\\", \\\"style\\\": [\\\"bar\\\"], \\\"from\\\": {\\\"data\\\": \\\"data_5\\\"}, \\\"encode\\\": {\\\"hover\\\": {\\\"fill\\\": {\\\"value\\\": \\\"#7EC2F3\\\"}}, \\\"update\\\": {\\\"x\\\": {\\\"scale\\\": \\\"x\\\", \\\"field\\\": \\\"count\\\"}, \\\"x2\\\": {\\\"scale\\\": \\\"x\\\", \\\"value\\\": 0}, \\\"y\\\": {\\\"scale\\\": \\\"y\\\", \\\"field\\\": \\\"label\\\"}, \\\"height\\\": {\\\"scale\\\": \\\"y\\\", \\\"band\\\": true}, \\\"fill\\\": {\\\"value\\\": \\\"#108EE9\\\"}}}}], \\\"scales\\\": [{\\\"name\\\": \\\"x\\\", \\\"type\\\": \\\"linear\\\", \\\"domain\\\": {\\\"data\\\": \\\"data_5\\\", \\\"field\\\": \\\"count\\\"}, \\\"range\\\": [0, 250], \\\"nice\\\": true, \\\"zero\\\": true}, {\\\"name\\\": \\\"y\\\", \\\"type\\\": \\\"band\\\", \\\"domain\\\": {\\\"data\\\": \\\"data_5\\\", \\\"field\\\": \\\"label\\\", \\\"sort\\\": {\\\"op\\\": \\\"mean\\\", \\\"field\\\": \\\"label_idx\\\", \\\"order\\\": \\\"descending\\\"}}, \\\"range\\\": [150, 0], \\\"paddingInner\\\": 0.1, \\\"paddingOuter\\\": 0.05}], \\\"axes\\\": [{\\\"orient\\\": \\\"top\\\", \\\"scale\\\": \\\"x\\\", \\\"labelOverlap\\\": true, \\\"tickCount\\\": {\\\"signal\\\": \\\"ceil(width/40)\\\"}, \\\"title\\\": \\\"Count\\\", \\\"zindex\\\": 1}, {\\\"orient\\\": \\\"top\\\", \\\"scale\\\": \\\"x\\\", \\\"domain\\\": false, \\\"grid\\\": true, \\\"labels\\\": false, \\\"maxExtent\\\": 0, \\\"minExtent\\\": 0, \\\"tickCount\\\": {\\\"signal\\\": \\\"ceil(width/40)\\\"}, \\\"ticks\\\": false, \\\"zindex\\\": 0, \\\"gridScale\\\": \\\"y\\\"}, {\\\"scale\\\": \\\"y\\\", \\\"labelOverlap\\\": true, \\\"orient\\\": \\\"left\\\", \\\"title\\\": \\\"Label\\\", \\\"zindex\\\": 1}]}], \\\"type\\\": \\\"group\\\"}], \\\"type\\\": \\\"group\\\"}], \\\"config\\\": {\\\"axis\\\": {\\\"labelFont\\\": \\\"HelveticaNeue-Light, Arial\\\", \\\"labelFontSize\\\": 7, \\\"labelPadding\\\": 10, \\\"labelColor\\\": \\\"#595959\\\", \\\"titleFont\\\": \\\"HelveticaNeue-Light, Arial\\\", \\\"titleFontWeight\\\": \\\"normal\\\", \\\"titlePadding\\\": 9, \\\"titleFontSize\\\": 12, \\\"titleColor\\\": \\\"#595959\\\"}, \\\"axisY\\\": {\\\"minExtent\\\": 30}, \\\"style\\\": {\\\"rect\\\": {\\\"stroke\\\": \\\"rgba(200, 200, 200, 0.5)\\\"}, \\\"group-title\\\": {\\\"fontSize\\\": 20, \\\"font\\\": \\\"HelveticaNeue-Light, Arial\\\", \\\"fontWeight\\\": \\\"normal\\\", \\\"fill\\\": \\\"#595959\\\"}}}}\";                                 var vega_json_parsed = JSON.parse(vega_json);                                 var toolTipOpts = {                                     showAllFields: true                                 };                                 if(vega_json_parsed[\"metadata\"] != null){                                     if(vega_json_parsed[\"metadata\"][\"bubbleOpts\"] != null){                                         toolTipOpts = vega_json_parsed[\"metadata\"][\"bubbleOpts\"];                                     };                                 };                                 vegaEmbed(\"#vis\", vega_json_parsed).then(function (result) {                                     vegaTooltip.vega(result.view, toolTipOpts);                                  });                             </script>                         </body>                     </html>' src=\"demo_iframe_srcdoc.htm\">                         <p>Your browser does not support iframes.</p>                     </iframe>                 </body>             </html>"
      ],
      "text/plain": [
       "<IPython.core.display.HTML object>"
      ]
     },
     "metadata": {},
     "output_type": "display_data"
    }
   ],
   "source": [
    "loans.show()"
   ]
  },
  {
   "cell_type": "code",
   "execution_count": 22,
   "metadata": {},
   "outputs": [],
   "source": [
    "loans['safe_loans'] = loans['bad_loans'].apply(lambda x : +1 if x==0 else -1)\n",
    "loans = loans.remove_column('bad_loans')"
   ]
  },
  {
   "cell_type": "markdown",
   "metadata": {},
   "source": [
    "We will be using the same 4 categorical features as in the previous assignment: \n",
    "1. grade of the loan \n",
    "2. the length of the loan term\n",
    "3. the home ownership status: own, mortgage, rent\n",
    "4. number of years of employment.\n",
    "\n",
    "In the dataset, each of these features is a categorical feature. Since we are building a binary decision tree, we will have to convert this to binary data in a subsequent section using 1-hot encoding."
   ]
  },
  {
   "cell_type": "code",
   "execution_count": 23,
   "metadata": {},
   "outputs": [],
   "source": [
    "features = ['grade',              # grade of the loan\n",
    "            'term',               # the term of the loan\n",
    "            'home_ownership',     # home_ownership status: own, mortgage or rent\n",
    "            'emp_length',         # number of years of employment\n",
    "           ]\n",
    "target = 'safe_loans'\n",
    "loans = loans[features + [target]]"
   ]
  },
  {
   "cell_type": "code",
   "execution_count": 24,
   "metadata": {},
   "outputs": [
    {
     "data": {
      "text/html": [
       "<pre>Materializing SFrame</pre>"
      ],
      "text/plain": [
       "Materializing SFrame"
      ]
     },
     "metadata": {},
     "output_type": "display_data"
    },
    {
     "data": {
      "text/html": [
       "<html>                 <body>                     <iframe style=\"border:0;margin:0\" width=\"1000\" height=\"1800\" srcdoc='<html lang=\"en\">                         <head>                             <script src=\"https://cdnjs.cloudflare.com/ajax/libs/vega/3.0.8/vega.js\"></script>                             <script src=\"https://cdnjs.cloudflare.com/ajax/libs/vega-embed/3.0.0-rc7/vega-embed.js\"></script>                             <script src=\"https://cdnjs.cloudflare.com/ajax/libs/vega-tooltip/0.5.1/vega-tooltip.min.js\"></script>                             <link rel=\"stylesheet\" type=\"text/css\" href=\"https://cdnjs.cloudflare.com/ajax/libs/vega-tooltip/0.5.1/vega-tooltip.min.css\">                             <style>                             .vega-actions > a{                                 color:white;                                 text-decoration: none;                                 font-family: \"Arial\";                                 cursor:pointer;                                 padding:5px;                                 background:#AAAAAA;                                 border-radius:4px;                                 padding-left:10px;                                 padding-right:10px;                                 margin-right:5px;                             }                             .vega-actions{                                 margin-top:20px;                                 text-align:center                             }                            .vega-actions > a{                                 background:#999999;                            }                             </style>                         </head>                         <body>                             <div id=\"vis\">                             </div>                             <script>                                 var vega_json = \"{\\\"$schema\\\": \\\"https://vega.github.io/schema/vega/v4.json\\\", \\\"metadata\\\": {\\\"bubbleOpts\\\": {\\\"showAllFields\\\": false, \\\"fields\\\": [{\\\"field\\\": \\\"left\\\"}, {\\\"field\\\": \\\"right\\\"}, {\\\"field\\\": \\\"count\\\"}, {\\\"field\\\": \\\"label\\\"}]}}, \\\"width\\\": 800, \\\"height\\\": 1580, \\\"padding\\\": 8, \\\"data\\\": [{\\\"name\\\": \\\"pts_store\\\"}, {\\\"name\\\": \\\"source_2\\\", \\\"values\\\": [{\\\"a\\\": 0, \\\"title\\\": \\\"grade\\\", \\\"num_row\\\": 122607, \\\"type\\\": \\\"str\\\", \\\"num_unique\\\": 7, \\\"num_missing\\\": 0, \\\"categorical\\\": [{\\\"label\\\": \\\"B\\\", \\\"label_idx\\\": 0, \\\"count\\\": 37172, \\\"percentage\\\": \\\"30.318%\\\"}, {\\\"label\\\": \\\"C\\\", \\\"label_idx\\\": 1, \\\"count\\\": 29950, \\\"percentage\\\": \\\"24.4276%\\\"}, {\\\"label\\\": \\\"A\\\", \\\"label_idx\\\": 2, \\\"count\\\": 22314, \\\"percentage\\\": \\\"18.1996%\\\"}, {\\\"label\\\": \\\"D\\\", \\\"label_idx\\\": 3, \\\"count\\\": 19175, \\\"percentage\\\": \\\"15.6394%\\\"}, {\\\"label\\\": \\\"E\\\", \\\"label_idx\\\": 4, \\\"count\\\": 8990, \\\"percentage\\\": \\\"7.33237%\\\"}, {\\\"label\\\": \\\"F\\\", \\\"label_idx\\\": 5, \\\"count\\\": 3932, \\\"percentage\\\": \\\"3.20699%\\\"}, {\\\"label\\\": \\\"G\\\", \\\"label_idx\\\": 6, \\\"count\\\": 1074, \\\"percentage\\\": \\\"0.87597%\\\"}], \\\"numeric\\\": []}, {\\\"a\\\": 1, \\\"title\\\": \\\"term\\\", \\\"num_row\\\": 122607, \\\"type\\\": \\\"str\\\", \\\"num_unique\\\": 2, \\\"num_missing\\\": 0, \\\"categorical\\\": [{\\\"label\\\": \\\" 36 months\\\", \\\"label_idx\\\": 0, \\\"count\\\": 97801, \\\"percentage\\\": \\\"79.7679%\\\"}, {\\\"label\\\": \\\" 60 months\\\", \\\"label_idx\\\": 1, \\\"count\\\": 24806, \\\"percentage\\\": \\\"20.2321%\\\"}], \\\"numeric\\\": []}, {\\\"a\\\": 2, \\\"title\\\": \\\"home_ownership\\\", \\\"num_row\\\": 122607, \\\"type\\\": \\\"str\\\", \\\"num_unique\\\": 4, \\\"num_missing\\\": 0, \\\"categorical\\\": [{\\\"label\\\": \\\"MORTGAGE\\\", \\\"label_idx\\\": 0, \\\"count\\\": 59240, \\\"percentage\\\": \\\"48.317%\\\"}, {\\\"label\\\": \\\"RENT\\\", \\\"label_idx\\\": 1, \\\"count\\\": 53245, \\\"percentage\\\": \\\"43.4274%\\\"}, {\\\"label\\\": \\\"OWN\\\", \\\"label_idx\\\": 2, \\\"count\\\": 9943, \\\"percentage\\\": \\\"8.10965%\\\"}, {\\\"label\\\": \\\"OTHER\\\", \\\"label_idx\\\": 3, \\\"count\\\": 179, \\\"percentage\\\": \\\"0.145995%\\\"}], \\\"numeric\\\": []}, {\\\"a\\\": 3, \\\"title\\\": \\\"emp_length\\\", \\\"num_row\\\": 122607, \\\"type\\\": \\\"str\\\", \\\"num_unique\\\": 12, \\\"num_missing\\\": 0, \\\"categorical\\\": [{\\\"label\\\": \\\"10+ years\\\", \\\"label_idx\\\": 0, \\\"count\\\": 34100, \\\"percentage\\\": \\\"27.8124%\\\"}, {\\\"label\\\": \\\"2 years\\\", \\\"label_idx\\\": 1, \\\"count\\\": 12048, \\\"percentage\\\": \\\"9.82652%\\\"}, {\\\"label\\\": \\\"< 1 year\\\", \\\"label_idx\\\": 2, \\\"count\\\": 11072, \\\"percentage\\\": \\\"9.03048%\\\"}, {\\\"label\\\": \\\"3 years\\\", \\\"label_idx\\\": 3, \\\"count\\\": 10333, \\\"percentage\\\": \\\"8.42774%\\\"}, {\\\"label\\\": \\\"5 years\\\", \\\"label_idx\\\": 4, \\\"count\\\": 9561, \\\"percentage\\\": \\\"7.79809%\\\"}, {\\\"label\\\": \\\"1 year\\\", \\\"label_idx\\\": 5, \\\"count\\\": 8701, \\\"percentage\\\": \\\"7.09666%\\\"}, {\\\"label\\\": \\\"4 years\\\", \\\"label_idx\\\": 6, \\\"count\\\": 8544, \\\"percentage\\\": \\\"6.96861%\\\"}, {\\\"label\\\": \\\"6 years\\\", \\\"label_idx\\\": 7, \\\"count\\\": 7629, \\\"percentage\\\": \\\"6.22232%\\\"}, {\\\"label\\\": \\\"7 years\\\", \\\"label_idx\\\": 8, \\\"count\\\": 6704, \\\"percentage\\\": \\\"5.46788%\\\"}, {\\\"label\\\": \\\"8 years\\\", \\\"label_idx\\\": 9, \\\"count\\\": 5373, \\\"percentage\\\": \\\"4.38229%\\\"}, {\\\"label\\\": \\\"Other (2 labels)\\\", \\\"label_idx\\\": 10, \\\"count\\\": 8542, \\\"percentage\\\": \\\"6.96698%\\\"}], \\\"numeric\\\": []}, {\\\"a\\\": 4, \\\"title\\\": \\\"safe_loans\\\", \\\"num_row\\\": 122607, \\\"type\\\": \\\"integer\\\", \\\"num_unique\\\": 2, \\\"num_missing\\\": 0, \\\"mean\\\": 0.622371, \\\"min\\\": -1.0, \\\"max\\\": 1.0, \\\"median\\\": 1.0, \\\"stdev\\\": 0.782723, \\\"numeric\\\": [{\\\"left\\\": -1, \\\"right\\\": -0.9, \\\"count\\\": 23150}, {\\\"left\\\": -0.9, \\\"right\\\": -0.8, \\\"count\\\": 0}, {\\\"left\\\": -0.8, \\\"right\\\": -0.7, \\\"count\\\": 0}, {\\\"left\\\": -0.7, \\\"right\\\": -0.6, \\\"count\\\": 0}, {\\\"left\\\": -0.6, \\\"right\\\": -0.5, \\\"count\\\": 0}, {\\\"left\\\": -0.5, \\\"right\\\": -0.4, \\\"count\\\": 0}, {\\\"left\\\": -0.4, \\\"right\\\": -0.3, \\\"count\\\": 0}, {\\\"left\\\": -0.3, \\\"right\\\": -0.2, \\\"count\\\": 0}, {\\\"left\\\": -0.2, \\\"right\\\": -0.1, \\\"count\\\": 0}, {\\\"left\\\": -0.1, \\\"right\\\": 0, \\\"count\\\": 0}, {\\\"left\\\": 0, \\\"right\\\": 0.1, \\\"count\\\": 0}, {\\\"left\\\": 0.1, \\\"right\\\": 0.2, \\\"count\\\": 0}, {\\\"left\\\": 0.2, \\\"right\\\": 0.3, \\\"count\\\": 0}, {\\\"left\\\": 0.3, \\\"right\\\": 0.4, \\\"count\\\": 0}, {\\\"left\\\": 0.4, \\\"right\\\": 0.5, \\\"count\\\": 0}, {\\\"left\\\": 0.5, \\\"right\\\": 0.6, \\\"count\\\": 0}, {\\\"left\\\": 0.6, \\\"right\\\": 0.7, \\\"count\\\": 0}, {\\\"left\\\": 0.7, \\\"right\\\": 0.8, \\\"count\\\": 0}, {\\\"left\\\": 0.8, \\\"right\\\": 0.9, \\\"count\\\": 0}, {\\\"left\\\": 0.9, \\\"right\\\": 1, \\\"count\\\": 99457}], \\\"categorical\\\": []}]}, {\\\"name\\\": \\\"data_2\\\", \\\"source\\\": \\\"source_2\\\", \\\"transform\\\": [{\\\"type\\\": \\\"formula\\\", \\\"expr\\\": \\\"20\\\", \\\"as\\\": \\\"c_x_axis_back\\\"}, {\\\"type\\\": \\\"formula\\\", \\\"expr\\\": \\\"toNumber(datum[\\\\\\\"a\\\\\\\"])*300+66\\\", \\\"as\\\": \\\"c_main_background\\\"}, {\\\"type\\\": \\\"formula\\\", \\\"expr\\\": \\\"toNumber(datum[\\\\\\\"a\\\\\\\"])*300+43\\\", \\\"as\\\": \\\"c_top_bar\\\"}, {\\\"type\\\": \\\"formula\\\", \\\"expr\\\": \\\"toNumber(datum[\\\\\\\"a\\\\\\\"])*300+59\\\", \\\"as\\\": \\\"c_top_title\\\"}, {\\\"type\\\": \\\"formula\\\", \\\"expr\\\": \\\"toNumber(datum[\\\\\\\"a\\\\\\\"])*300+58\\\", \\\"as\\\": \\\"c_top_type\\\"}, {\\\"type\\\": \\\"formula\\\", \\\"expr\\\": \\\"toNumber(datum[\\\\\\\"a\\\\\\\"])*300+178\\\", \\\"as\\\": \\\"c_rule\\\"}, {\\\"type\\\": \\\"formula\\\", \\\"expr\\\": \\\"toNumber(datum[\\\\\\\"a\\\\\\\"])*300+106\\\", \\\"as\\\": \\\"c_num_rows\\\"}, {\\\"type\\\": \\\"formula\\\", \\\"expr\\\": \\\"toNumber(datum[\\\\\\\"a\\\\\\\"])*300+130\\\", \\\"as\\\": \\\"c_num_unique\\\"}, {\\\"type\\\": \\\"formula\\\", \\\"expr\\\": \\\"toNumber(datum[\\\\\\\"a\\\\\\\"])*300+154\\\", \\\"as\\\": \\\"c_missing\\\"}, {\\\"type\\\": \\\"formula\\\", \\\"expr\\\": \\\"toNumber(datum[\\\\\\\"a\\\\\\\"])*300+105\\\", \\\"as\\\": \\\"c_num_rows_val\\\"}, {\\\"type\\\": \\\"formula\\\", \\\"expr\\\": \\\"toNumber(datum[\\\\\\\"a\\\\\\\"])*300+130\\\", \\\"as\\\": \\\"c_num_unique_val\\\"}, {\\\"type\\\": \\\"formula\\\", \\\"expr\\\": \\\"toNumber(datum[\\\\\\\"a\\\\\\\"])*300+154\\\", \\\"as\\\": \\\"c_missing_val\\\"}, {\\\"type\\\": \\\"formula\\\", \\\"expr\\\": \\\"toNumber(datum[\\\\\\\"a\\\\\\\"])*300+195\\\", \\\"as\\\": \\\"c_frequent_items\\\"}, {\\\"type\\\": \\\"formula\\\", \\\"expr\\\": \\\"toNumber(datum[\\\\\\\"a\\\\\\\"])*300+218\\\", \\\"as\\\": \\\"c_first_item\\\"}, {\\\"type\\\": \\\"formula\\\", \\\"expr\\\": \\\"toNumber(datum[\\\\\\\"a\\\\\\\"])*300+235\\\", \\\"as\\\": \\\"c_second_item\\\"}, {\\\"type\\\": \\\"formula\\\", \\\"expr\\\": \\\"toNumber(datum[\\\\\\\"a\\\\\\\"])*300+252\\\", \\\"as\\\": \\\"c_third_item\\\"}, {\\\"type\\\": \\\"formula\\\", \\\"expr\\\": \\\"toNumber(datum[\\\\\\\"a\\\\\\\"])*300+269\\\", \\\"as\\\": \\\"c_fourth_item\\\"}, {\\\"type\\\": \\\"formula\\\", \\\"expr\\\": \\\"toNumber(datum[\\\\\\\"a\\\\\\\"])*300+286\\\", \\\"as\\\": \\\"c_fifth_item\\\"}, {\\\"type\\\": \\\"formula\\\", \\\"expr\\\": \\\"toNumber(datum[\\\\\\\"a\\\\\\\"])*300+200\\\", \\\"as\\\": \\\"c_mean\\\"}, {\\\"type\\\": \\\"formula\\\", \\\"expr\\\": \\\"toNumber(datum[\\\\\\\"a\\\\\\\"])*300+220\\\", \\\"as\\\": \\\"c_min\\\"}, {\\\"type\\\": \\\"formula\\\", \\\"expr\\\": \\\"toNumber(datum[\\\\\\\"a\\\\\\\"])*300+240\\\", \\\"as\\\": \\\"c_max\\\"}, {\\\"type\\\": \\\"formula\\\", \\\"expr\\\": \\\"toNumber(datum[\\\\\\\"a\\\\\\\"])*300+260\\\", \\\"as\\\": \\\"c_median\\\"}, {\\\"type\\\": \\\"formula\\\", \\\"expr\\\": \\\"toNumber(datum[\\\\\\\"a\\\\\\\"])*300+280\\\", \\\"as\\\": \\\"c_stdev\\\"}, {\\\"type\\\": \\\"formula\\\", \\\"expr\\\": \\\"toNumber(datum[\\\\\\\"a\\\\\\\"])*300+198\\\", \\\"as\\\": \\\"c_mean_val\\\"}, {\\\"type\\\": \\\"formula\\\", \\\"expr\\\": \\\"toNumber(datum[\\\\\\\"a\\\\\\\"])*300+218\\\", \\\"as\\\": \\\"c_min_val\\\"}, {\\\"type\\\": \\\"formula\\\", \\\"expr\\\": \\\"toNumber(datum[\\\\\\\"a\\\\\\\"])*300+238\\\", \\\"as\\\": \\\"c_max_val\\\"}, {\\\"type\\\": \\\"formula\\\", \\\"expr\\\": \\\"toNumber(datum[\\\\\\\"a\\\\\\\"])*300+258\\\", \\\"as\\\": \\\"c_median_val\\\"}, {\\\"type\\\": \\\"formula\\\", \\\"expr\\\": \\\"toNumber(datum[\\\\\\\"a\\\\\\\"])*300+278\\\", \\\"as\\\": \\\"c_stdev_val\\\"}, {\\\"type\\\": \\\"formula\\\", \\\"expr\\\": \\\"toNumber(datum[\\\\\\\"a\\\\\\\"])*300+106\\\", \\\"as\\\": \\\"graph_offset\\\"}, {\\\"type\\\": \\\"formula\\\", \\\"expr\\\": \\\"toNumber(datum[\\\\\\\"a\\\\\\\"])*300+132\\\", \\\"as\\\": \\\"graph_offset_categorical\\\"}, {\\\"type\\\": \\\"formula\\\", \\\"expr\\\": \\\"(toString(datum[\\\\\\\"type\\\\\\\"]) == \\\\\\\"integer\\\\\\\" || toString(datum[\\\\\\\"type\\\\\\\"]) == \\\\\\\"float\\\\\\\")?false:true\\\", \\\"as\\\": \\\"c_clip_val\\\"}, {\\\"type\\\": \\\"formula\\\", \\\"expr\\\": \\\"(toString(datum[\\\\\\\"type\\\\\\\"]) == \\\\\\\"integer\\\\\\\" || toString(datum[\\\\\\\"type\\\\\\\"]) == \\\\\\\"float\\\\\\\")?250:0\\\", \\\"as\\\": \\\"c_width_numeric_val\\\"}, {\\\"type\\\": \\\"formula\\\", \\\"expr\\\": \\\"(toString(datum[\\\\\\\"type\\\\\\\"]) == \\\\\\\"str\\\\\\\")?false:true\\\", \\\"as\\\": \\\"c_clip_val_cat\\\"}, {\\\"type\\\": \\\"formula\\\", \\\"expr\\\": \\\"(toString(datum[\\\\\\\"type\\\\\\\"]) == \\\\\\\"str\\\\\\\")?250:0\\\", \\\"as\\\": \\\"c_width_numeric_val_cat\\\"}]}], \\\"marks\\\": [{\\\"encode\\\": {\\\"enter\\\": {\\\"x\\\": {\\\"value\\\": 0}, \\\"width\\\": {\\\"value\\\": 734}, \\\"y\\\": {\\\"value\\\": 0}, \\\"height\\\": {\\\"value\\\": 366}, \\\"clip\\\": {\\\"value\\\": 0}, \\\"fill\\\": {\\\"value\\\": \\\"#ffffff\\\"}, \\\"fillOpacity\\\": {\\\"value\\\": 0}, \\\"stroke\\\": {\\\"value\\\": \\\"#000000\\\"}, \\\"strokeWidth\\\": {\\\"value\\\": 0}}}, \\\"marks\\\": [{\\\"encode\\\": {\\\"enter\\\": {\\\"x\\\": {\\\"value\\\": 0}, \\\"width\\\": {\\\"value\\\": 734}, \\\"y\\\": {\\\"value\\\": 0}, \\\"height\\\": {\\\"value\\\": 366}, \\\"clip\\\": {\\\"value\\\": 0}, \\\"fill\\\": {\\\"value\\\": \\\"#ffffff\\\"}, \\\"fillOpacity\\\": {\\\"value\\\": 0}, \\\"stroke\\\": {\\\"value\\\": \\\"#000000\\\"}, \\\"strokeWidth\\\": {\\\"value\\\": 0}}}, \\\"scales\\\": [], \\\"axes\\\": [], \\\"marks\\\": [{\\\"from\\\": {\\\"data\\\": \\\"data_2\\\"}, \\\"encode\\\": {\\\"enter\\\": {\\\"x\\\": {\\\"value\\\": 33}, \\\"width\\\": {\\\"value\\\": 700}, \\\"y\\\": {\\\"value\\\": 66}, \\\"height\\\": {\\\"value\\\": 250}, \\\"fill\\\": {\\\"value\\\": \\\"#FEFEFE\\\"}, \\\"fillOpacity\\\": {\\\"value\\\": 1}, \\\"stroke\\\": {\\\"value\\\": \\\"#DEDEDE\\\"}, \\\"strokeWidth\\\": {\\\"value\\\": 0.5}}, \\\"update\\\": {\\\"x\\\": {\\\"signal\\\": \\\"datum[\\\\\\\"c_x_axis_back\\\\\\\"]\\\"}, \\\"y\\\": {\\\"field\\\": \\\"c_main_background\\\"}}}, \\\"type\\\": \\\"rect\\\"}, {\\\"from\\\": {\\\"data\\\": \\\"data_2\\\"}, \\\"encode\\\": {\\\"enter\\\": {\\\"x\\\": {\\\"value\\\": 33}, \\\"width\\\": {\\\"value\\\": 700}, \\\"y\\\": {\\\"value\\\": 43}, \\\"height\\\": {\\\"value\\\": 30}, \\\"fill\\\": {\\\"value\\\": \\\"#F5F5F5\\\"}, \\\"fillOpacity\\\": {\\\"value\\\": 1}, \\\"stroke\\\": {\\\"value\\\": \\\"#DEDEDE\\\"}, \\\"strokeWidth\\\": {\\\"value\\\": 0.5}}, \\\"update\\\": {\\\"x\\\": {\\\"signal\\\": \\\"datum[\\\\\\\"c_x_axis_back\\\\\\\"]\\\"}, \\\"y\\\": {\\\"field\\\": \\\"c_top_bar\\\"}}}, \\\"type\\\": \\\"rect\\\"}, {\\\"from\\\": {\\\"data\\\": \\\"data_2\\\"}, \\\"encode\\\": {\\\"enter\\\": {\\\"x\\\": {\\\"value\\\": 720}, \\\"y\\\": {\\\"value\\\": 58}, \\\"text\\\": {\\\"signal\\\": \\\"&apos;&apos;+datum[\\\\\\\"type\\\\\\\"]\\\"}, \\\"align\\\": {\\\"value\\\": \\\"right\\\"}, \\\"baseline\\\": {\\\"value\\\": \\\"middle\\\"}, \\\"dx\\\": {\\\"value\\\": 0, \\\"offset\\\": 0}, \\\"dy\\\": {\\\"value\\\": 0, \\\"offset\\\": 0}, \\\"angle\\\": {\\\"value\\\": 0}, \\\"font\\\": {\\\"value\\\": \\\"AvenirNext-Medium\\\"}, \\\"fontSize\\\": {\\\"value\\\": 12}, \\\"fontWeight\\\": {\\\"value\\\": \\\"normal\\\"}, \\\"fontStyle\\\": {\\\"value\\\": \\\"normal\\\"}, \\\"fill\\\": {\\\"value\\\": \\\"#595859\\\"}}, \\\"update\\\": {\\\"x\\\": {\\\"signal\\\": \\\"datum[\\\\\\\"c_x_axis_back\\\\\\\"]+687\\\"}, \\\"y\\\": {\\\"field\\\": \\\"c_top_type\\\"}}}, \\\"type\\\": \\\"text\\\"}, {\\\"from\\\": {\\\"data\\\": \\\"data_2\\\"}, \\\"encode\\\": {\\\"enter\\\": {\\\"x\\\": {\\\"value\\\": 44}, \\\"y\\\": {\\\"value\\\": 59}, \\\"text\\\": {\\\"signal\\\": \\\"&apos;&apos;+datum[\\\\\\\"title\\\\\\\"]\\\"}, \\\"align\\\": {\\\"value\\\": \\\"left\\\"}, \\\"baseline\\\": {\\\"value\\\": \\\"middle\\\"}, \\\"dx\\\": {\\\"value\\\": 0, \\\"offset\\\": 0}, \\\"dy\\\": {\\\"value\\\": 0, \\\"offset\\\": 0}, \\\"angle\\\": {\\\"value\\\": 0}, \\\"font\\\": {\\\"value\\\": \\\"AvenirNext-Medium\\\"}, \\\"fontSize\\\": {\\\"value\\\": 15}, \\\"fontWeight\\\": {\\\"value\\\": \\\"normal\\\"}, \\\"fontStyle\\\": {\\\"value\\\": \\\"normal\\\"}, \\\"fill\\\": {\\\"value\\\": \\\"#9B9B9B\\\"}}, \\\"update\\\": {\\\"x\\\": {\\\"signal\\\": \\\"datum[\\\\\\\"c_x_axis_back\\\\\\\"]+11\\\"}, \\\"y\\\": {\\\"field\\\": \\\"c_top_title\\\"}}}, \\\"type\\\": \\\"text\\\"}, {\\\"from\\\": {\\\"data\\\": \\\"data_2\\\"}, \\\"encode\\\": {\\\"enter\\\": {\\\"x\\\": {\\\"value\\\": 500}, \\\"y\\\": {\\\"value\\\": 178}, \\\"stroke\\\": {\\\"value\\\": \\\"#EDEDEB\\\"}, \\\"strokeWidth\\\": {\\\"value\\\": 1}, \\\"strokeCap\\\": {\\\"value\\\": \\\"butt\\\"}, \\\"x2\\\": {\\\"value\\\": 720}, \\\"y2\\\": {\\\"value\\\": 178}}, \\\"update\\\": {\\\"x\\\": {\\\"signal\\\": \\\"datum[\\\\\\\"c_x_axis_back\\\\\\\"]+467\\\"}, \\\"x2\\\": {\\\"signal\\\": \\\"datum[\\\\\\\"c_x_axis_back\\\\\\\"]+687\\\"}, \\\"y\\\": {\\\"field\\\": \\\"c_rule\\\"}, \\\"y2\\\": {\\\"field\\\": \\\"c_rule\\\"}}}, \\\"type\\\": \\\"rule\\\"}, {\\\"from\\\": {\\\"data\\\": \\\"data_2\\\"}, \\\"encode\\\": {\\\"enter\\\": {\\\"x\\\": {\\\"value\\\": 500}, \\\"y\\\": {\\\"value\\\": 106}, \\\"text\\\": {\\\"value\\\": \\\"Num. Rows:\\\"}, \\\"align\\\": {\\\"value\\\": \\\"left\\\"}, \\\"baseline\\\": {\\\"value\\\": \\\"middle\\\"}, \\\"dx\\\": {\\\"value\\\": 0, \\\"offset\\\": 0}, \\\"dy\\\": {\\\"value\\\": 0, \\\"offset\\\": 0}, \\\"angle\\\": {\\\"value\\\": 0}, \\\"font\\\": {\\\"value\\\": \\\"AvenirNext-Medium\\\"}, \\\"fontSize\\\": {\\\"value\\\": 12}, \\\"fontWeight\\\": {\\\"value\\\": \\\"normal\\\"}, \\\"fontStyle\\\": {\\\"value\\\": \\\"normal\\\"}, \\\"fill\\\": {\\\"value\\\": \\\"#4A4A4A\\\"}}, \\\"update\\\": {\\\"x\\\": {\\\"signal\\\": \\\"datum[\\\\\\\"c_x_axis_back\\\\\\\"]+467\\\"}, \\\"y\\\": {\\\"field\\\": \\\"c_num_rows\\\"}}}, \\\"type\\\": \\\"text\\\"}, {\\\"from\\\": {\\\"data\\\": \\\"data_2\\\"}, \\\"encode\\\": {\\\"enter\\\": {\\\"x\\\": {\\\"value\\\": 500}, \\\"y\\\": {\\\"value\\\": 130}, \\\"text\\\": {\\\"value\\\": \\\"Num. Unique:\\\"}, \\\"align\\\": {\\\"value\\\": \\\"left\\\"}, \\\"baseline\\\": {\\\"value\\\": \\\"middle\\\"}, \\\"dx\\\": {\\\"value\\\": 0, \\\"offset\\\": 0}, \\\"dy\\\": {\\\"value\\\": 0, \\\"offset\\\": 0}, \\\"angle\\\": {\\\"value\\\": 0}, \\\"font\\\": {\\\"value\\\": \\\"AvenirNext-Medium\\\"}, \\\"fontSize\\\": {\\\"value\\\": 12}, \\\"fontWeight\\\": {\\\"value\\\": \\\"normal\\\"}, \\\"fontStyle\\\": {\\\"value\\\": \\\"normal\\\"}, \\\"fill\\\": {\\\"value\\\": \\\"#4A4A4A\\\"}}, \\\"update\\\": {\\\"x\\\": {\\\"signal\\\": \\\"datum[\\\\\\\"c_x_axis_back\\\\\\\"]+467\\\"}, \\\"y\\\": {\\\"field\\\": \\\"c_num_unique\\\"}}}, \\\"type\\\": \\\"text\\\"}, {\\\"from\\\": {\\\"data\\\": \\\"data_2\\\"}, \\\"encode\\\": {\\\"enter\\\": {\\\"x\\\": {\\\"value\\\": 500}, \\\"y\\\": {\\\"value\\\": 154}, \\\"text\\\": {\\\"value\\\": \\\"Missing:\\\"}, \\\"align\\\": {\\\"value\\\": \\\"left\\\"}, \\\"baseline\\\": {\\\"value\\\": \\\"middle\\\"}, \\\"dx\\\": {\\\"value\\\": 0, \\\"offset\\\": 0}, \\\"dy\\\": {\\\"value\\\": 0, \\\"offset\\\": 0}, \\\"angle\\\": {\\\"value\\\": 0}, \\\"font\\\": {\\\"value\\\": \\\"AvenirNext-Medium\\\"}, \\\"fontSize\\\": {\\\"value\\\": 12}, \\\"fontWeight\\\": {\\\"value\\\": \\\"normal\\\"}, \\\"fontStyle\\\": {\\\"value\\\": \\\"normal\\\"}, \\\"fill\\\": {\\\"value\\\": \\\"#4A4A4A\\\"}}, \\\"update\\\": {\\\"x\\\": {\\\"signal\\\": \\\"datum[\\\\\\\"c_x_axis_back\\\\\\\"]+467\\\"}, \\\"y\\\": {\\\"field\\\": \\\"c_missing\\\"}}}, \\\"type\\\": \\\"text\\\"}, {\\\"from\\\": {\\\"data\\\": \\\"data_2\\\"}, \\\"encode\\\": {\\\"enter\\\": {\\\"x\\\": {\\\"value\\\": 700}, \\\"y\\\": {\\\"value\\\": 105}, \\\"text\\\": {\\\"signal\\\": \\\"toString(format(datum[\\\\\\\"num_row\\\\\\\"], \\\\\\\",\\\\\\\"))\\\"}, \\\"align\\\": {\\\"value\\\": \\\"right\\\"}, \\\"baseline\\\": {\\\"value\\\": \\\"middle\\\"}, \\\"dx\\\": {\\\"value\\\": 0, \\\"offset\\\": 0}, \\\"dy\\\": {\\\"value\\\": 0, \\\"offset\\\": 0}, \\\"angle\\\": {\\\"value\\\": 0}, \\\"font\\\": {\\\"value\\\": \\\"AvenirNext-Medium\\\"}, \\\"fontSize\\\": {\\\"value\\\": 12}, \\\"fontWeight\\\": {\\\"value\\\": \\\"normal\\\"}, \\\"fontStyle\\\": {\\\"value\\\": \\\"normal\\\"}, \\\"fill\\\": {\\\"value\\\": \\\"#5A5A5A\\\"}}, \\\"update\\\": {\\\"x\\\": {\\\"signal\\\": \\\"datum[\\\\\\\"c_x_axis_back\\\\\\\"]+667\\\"}, \\\"y\\\": {\\\"field\\\": \\\"c_num_rows_val\\\"}}}, \\\"type\\\": \\\"text\\\"}, {\\\"from\\\": {\\\"data\\\": \\\"data_2\\\"}, \\\"encode\\\": {\\\"enter\\\": {\\\"x\\\": {\\\"value\\\": 700}, \\\"y\\\": {\\\"value\\\": 130}, \\\"text\\\": {\\\"signal\\\": \\\"toString(format(datum[\\\\\\\"num_unique\\\\\\\"], \\\\\\\",\\\\\\\"))\\\"}, \\\"align\\\": {\\\"value\\\": \\\"right\\\"}, \\\"baseline\\\": {\\\"value\\\": \\\"middle\\\"}, \\\"dx\\\": {\\\"value\\\": 0, \\\"offset\\\": 0}, \\\"dy\\\": {\\\"value\\\": 0, \\\"offset\\\": 0}, \\\"angle\\\": {\\\"value\\\": 0}, \\\"font\\\": {\\\"value\\\": \\\"AvenirNext-Medium\\\"}, \\\"fontSize\\\": {\\\"value\\\": 12}, \\\"fontWeight\\\": {\\\"value\\\": \\\"normal\\\"}, \\\"fontStyle\\\": {\\\"value\\\": \\\"normal\\\"}, \\\"fill\\\": {\\\"value\\\": \\\"#5A5A5A\\\"}}, \\\"update\\\": {\\\"x\\\": {\\\"signal\\\": \\\"datum[\\\\\\\"c_x_axis_back\\\\\\\"]+667\\\"}, \\\"y\\\": {\\\"field\\\": \\\"c_num_unique_val\\\"}}}, \\\"type\\\": \\\"text\\\"}, {\\\"from\\\": {\\\"data\\\": \\\"data_2\\\"}, \\\"encode\\\": {\\\"enter\\\": {\\\"x\\\": {\\\"value\\\": 700}, \\\"y\\\": {\\\"value\\\": 154}, \\\"text\\\": {\\\"signal\\\": \\\"toString(format(datum[\\\\\\\"num_missing\\\\\\\"], \\\\\\\",\\\\\\\"))\\\"}, \\\"align\\\": {\\\"value\\\": \\\"right\\\"}, \\\"baseline\\\": {\\\"value\\\": \\\"middle\\\"}, \\\"dx\\\": {\\\"value\\\": 0, \\\"offset\\\": 0}, \\\"dy\\\": {\\\"value\\\": 0, \\\"offset\\\": 0}, \\\"angle\\\": {\\\"value\\\": 0}, \\\"font\\\": {\\\"value\\\": \\\"AvenirNext-Medium\\\"}, \\\"fontSize\\\": {\\\"value\\\": 12}, \\\"fontWeight\\\": {\\\"value\\\": \\\"normal\\\"}, \\\"fontStyle\\\": {\\\"value\\\": \\\"normal\\\"}, \\\"fill\\\": {\\\"value\\\": \\\"#5A5A5A\\\"}}, \\\"update\\\": {\\\"x\\\": {\\\"signal\\\": \\\"datum[\\\\\\\"c_x_axis_back\\\\\\\"]+667\\\"}, \\\"y\\\": {\\\"field\\\": \\\"c_missing_val\\\"}}}, \\\"type\\\": \\\"text\\\"}, {\\\"from\\\": {\\\"data\\\": \\\"data_2\\\"}, \\\"encode\\\": {\\\"enter\\\": {\\\"x\\\": {\\\"value\\\": 500}, \\\"y\\\": {\\\"value\\\": 200}, \\\"text\\\": {\\\"signal\\\": \\\"(toString(datum[\\\\\\\"type\\\\\\\"]) == \\\\\\\"str\\\\\\\")? \\\\\\\"Frequent Items\\\\\\\":\\\\\\\"\\\\\\\"\\\"}, \\\"align\\\": {\\\"value\\\": \\\"left\\\"}, \\\"baseline\\\": {\\\"value\\\": \\\"middle\\\"}, \\\"dx\\\": {\\\"value\\\": 0, \\\"offset\\\": 0}, \\\"dy\\\": {\\\"value\\\": 0, \\\"offset\\\": 0}, \\\"angle\\\": {\\\"value\\\": 0}, \\\"clip\\\": {\\\"value\\\": true}, \\\"font\\\": {\\\"value\\\": \\\"AvenirNext-Medium\\\"}, \\\"fontSize\\\": {\\\"value\\\": 11}, \\\"fontWeight\\\": {\\\"value\\\": \\\"bold\\\"}, \\\"fontStyle\\\": {\\\"value\\\": \\\"normal\\\"}, \\\"fill\\\": {\\\"value\\\": \\\"#4A4A4A\\\"}}, \\\"update\\\": {\\\"x\\\": {\\\"signal\\\": \\\"datum[\\\\\\\"c_x_axis_back\\\\\\\"]+467\\\"}, \\\"y\\\": {\\\"field\\\": \\\"c_frequent_items\\\"}}}, \\\"type\\\": \\\"text\\\"}, {\\\"from\\\": {\\\"data\\\": \\\"data_2\\\"}, \\\"encode\\\": {\\\"enter\\\": {\\\"x\\\": {\\\"value\\\": 520}, \\\"y\\\": {\\\"value\\\": 200}, \\\"text\\\": {\\\"signal\\\": \\\"((datum[\\\\\\\"categorical\\\\\\\"].length >= 1) &amp;&amp; (toString(datum[\\\\\\\"type\\\\\\\"]) == \\\\\\\"str\\\\\\\"))? toString(datum[\\\\\\\"categorical\\\\\\\"][0][\\\\\\\"label\\\\\\\"]):\\\\\\\"\\\\\\\"\\\"}, \\\"align\\\": {\\\"value\\\": \\\"left\\\"}, \\\"baseline\\\": {\\\"value\\\": \\\"middle\\\"}, \\\"dx\\\": {\\\"value\\\": 0, \\\"offset\\\": 0}, \\\"dy\\\": {\\\"value\\\": 0, \\\"offset\\\": 0}, \\\"angle\\\": {\\\"value\\\": 0}, \\\"clip\\\": {\\\"value\\\": true}, \\\"font\\\": {\\\"value\\\": \\\"AvenirNext-Medium\\\"}, \\\"fontSize\\\": {\\\"value\\\": 11}, \\\"fontWeight\\\": {\\\"value\\\": \\\"normal\\\"}, \\\"fontStyle\\\": {\\\"value\\\": \\\"normal\\\"}, \\\"fill\\\": {\\\"value\\\": \\\"#4A4A4A\\\"}}, \\\"update\\\": {\\\"x\\\": {\\\"signal\\\": \\\"datum[\\\\\\\"c_x_axis_back\\\\\\\"]+487\\\"}, \\\"y\\\": {\\\"field\\\": \\\"c_first_item\\\"}}}, \\\"type\\\": \\\"text\\\"}, {\\\"from\\\": {\\\"data\\\": \\\"data_2\\\"}, \\\"encode\\\": {\\\"enter\\\": {\\\"x\\\": {\\\"value\\\": 520}, \\\"y\\\": {\\\"value\\\": 200}, \\\"text\\\": {\\\"signal\\\": \\\"((datum[\\\\\\\"categorical\\\\\\\"].length >= 2) &amp;&amp; (toString(datum[\\\\\\\"type\\\\\\\"]) == \\\\\\\"str\\\\\\\"))? toString(datum[\\\\\\\"categorical\\\\\\\"][1][\\\\\\\"label\\\\\\\"]):\\\\\\\"\\\\\\\"\\\"}, \\\"align\\\": {\\\"value\\\": \\\"left\\\"}, \\\"baseline\\\": {\\\"value\\\": \\\"middle\\\"}, \\\"dx\\\": {\\\"value\\\": 0, \\\"offset\\\": 0}, \\\"dy\\\": {\\\"value\\\": 0, \\\"offset\\\": 0}, \\\"angle\\\": {\\\"value\\\": 0}, \\\"clip\\\": {\\\"value\\\": true}, \\\"font\\\": {\\\"value\\\": \\\"AvenirNext-Medium\\\"}, \\\"fontSize\\\": {\\\"value\\\": 11}, \\\"fontWeight\\\": {\\\"value\\\": \\\"normal\\\"}, \\\"fontStyle\\\": {\\\"value\\\": \\\"normal\\\"}, \\\"fill\\\": {\\\"value\\\": \\\"#4A4A4A\\\"}}, \\\"update\\\": {\\\"x\\\": {\\\"signal\\\": \\\"datum[\\\\\\\"c_x_axis_back\\\\\\\"]+487\\\"}, \\\"y\\\": {\\\"field\\\": \\\"c_second_item\\\"}}}, \\\"type\\\": \\\"text\\\"}, {\\\"from\\\": {\\\"data\\\": \\\"data_2\\\"}, \\\"encode\\\": {\\\"enter\\\": {\\\"x\\\": {\\\"value\\\": 520}, \\\"y\\\": {\\\"value\\\": 200}, \\\"text\\\": {\\\"signal\\\": \\\"((datum[\\\\\\\"categorical\\\\\\\"].length >= 3) &amp;&amp; (toString(datum[\\\\\\\"type\\\\\\\"]) == \\\\\\\"str\\\\\\\"))? toString(datum[\\\\\\\"categorical\\\\\\\"][2][\\\\\\\"label\\\\\\\"]):\\\\\\\"\\\\\\\"\\\"}, \\\"align\\\": {\\\"value\\\": \\\"left\\\"}, \\\"baseline\\\": {\\\"value\\\": \\\"middle\\\"}, \\\"dx\\\": {\\\"value\\\": 0, \\\"offset\\\": 0}, \\\"dy\\\": {\\\"value\\\": 0, \\\"offset\\\": 0}, \\\"angle\\\": {\\\"value\\\": 0}, \\\"clip\\\": {\\\"value\\\": true}, \\\"font\\\": {\\\"value\\\": \\\"AvenirNext-Medium\\\"}, \\\"fontSize\\\": {\\\"value\\\": 11}, \\\"fontWeight\\\": {\\\"value\\\": \\\"normal\\\"}, \\\"fontStyle\\\": {\\\"value\\\": \\\"normal\\\"}, \\\"fill\\\": {\\\"value\\\": \\\"#4A4A4A\\\"}}, \\\"update\\\": {\\\"x\\\": {\\\"signal\\\": \\\"datum[\\\\\\\"c_x_axis_back\\\\\\\"]+487\\\"}, \\\"y\\\": {\\\"field\\\": \\\"c_third_item\\\"}}}, \\\"type\\\": \\\"text\\\"}, {\\\"from\\\": {\\\"data\\\": \\\"data_2\\\"}, \\\"encode\\\": {\\\"enter\\\": {\\\"x\\\": {\\\"value\\\": 520}, \\\"y\\\": {\\\"value\\\": 200}, \\\"text\\\": {\\\"signal\\\": \\\"((datum[\\\\\\\"categorical\\\\\\\"].length >= 4) &amp;&amp; (toString(datum[\\\\\\\"type\\\\\\\"]) == \\\\\\\"str\\\\\\\"))? toString(datum[\\\\\\\"categorical\\\\\\\"][3][\\\\\\\"label\\\\\\\"]):\\\\\\\"\\\\\\\"\\\"}, \\\"align\\\": {\\\"value\\\": \\\"left\\\"}, \\\"baseline\\\": {\\\"value\\\": \\\"middle\\\"}, \\\"dx\\\": {\\\"value\\\": 0, \\\"offset\\\": 0}, \\\"dy\\\": {\\\"value\\\": 0, \\\"offset\\\": 0}, \\\"angle\\\": {\\\"value\\\": 0}, \\\"clip\\\": {\\\"value\\\": true}, \\\"font\\\": {\\\"value\\\": \\\"AvenirNext-Medium\\\"}, \\\"fontSize\\\": {\\\"value\\\": 11}, \\\"fontWeight\\\": {\\\"value\\\": \\\"normal\\\"}, \\\"fontStyle\\\": {\\\"value\\\": \\\"normal\\\"}, \\\"fill\\\": {\\\"value\\\": \\\"#4A4A4A\\\"}}, \\\"update\\\": {\\\"x\\\": {\\\"signal\\\": \\\"datum[\\\\\\\"c_x_axis_back\\\\\\\"]+487\\\"}, \\\"y\\\": {\\\"field\\\": \\\"c_fourth_item\\\"}}}, \\\"type\\\": \\\"text\\\"}, {\\\"from\\\": {\\\"data\\\": \\\"data_2\\\"}, \\\"encode\\\": {\\\"enter\\\": {\\\"x\\\": {\\\"value\\\": 520}, \\\"y\\\": {\\\"value\\\": 200}, \\\"text\\\": {\\\"signal\\\": \\\"((datum[\\\\\\\"categorical\\\\\\\"].length >= 5) &amp;&amp; (toString(datum[\\\\\\\"type\\\\\\\"]) == \\\\\\\"str\\\\\\\"))? toString(datum[\\\\\\\"categorical\\\\\\\"][4][\\\\\\\"label\\\\\\\"]):\\\\\\\"\\\\\\\"\\\"}, \\\"align\\\": {\\\"value\\\": \\\"left\\\"}, \\\"baseline\\\": {\\\"value\\\": \\\"middle\\\"}, \\\"dx\\\": {\\\"value\\\": 0, \\\"offset\\\": 0}, \\\"dy\\\": {\\\"value\\\": 0, \\\"offset\\\": 0}, \\\"angle\\\": {\\\"value\\\": 0}, \\\"clip\\\": {\\\"value\\\": true}, \\\"font\\\": {\\\"value\\\": \\\"AvenirNext-Medium\\\"}, \\\"fontSize\\\": {\\\"value\\\": 11}, \\\"fontWeight\\\": {\\\"value\\\": \\\"normal\\\"}, \\\"fontStyle\\\": {\\\"value\\\": \\\"normal\\\"}, \\\"fill\\\": {\\\"value\\\": \\\"#4A4A4A\\\"}}, \\\"update\\\": {\\\"x\\\": {\\\"signal\\\": \\\"datum[\\\\\\\"c_x_axis_back\\\\\\\"]+487\\\"}, \\\"y\\\": {\\\"field\\\": \\\"c_fifth_item\\\"}}}, \\\"type\\\": \\\"text\\\"}, {\\\"from\\\": {\\\"data\\\": \\\"data_2\\\"}, \\\"encode\\\": {\\\"enter\\\": {\\\"x\\\": {\\\"value\\\": 700}, \\\"y\\\": {\\\"value\\\": 200}, \\\"text\\\": {\\\"signal\\\": \\\"((datum[\\\\\\\"categorical\\\\\\\"].length >= 1) &amp;&amp; (toString(datum[\\\\\\\"type\\\\\\\"]) == \\\\\\\"str\\\\\\\"))? toString(datum[\\\\\\\"categorical\\\\\\\"][0][\\\\\\\"count\\\\\\\"]):\\\\\\\"\\\\\\\"\\\"}, \\\"align\\\": {\\\"value\\\": \\\"right\\\"}, \\\"baseline\\\": {\\\"value\\\": \\\"middle\\\"}, \\\"dx\\\": {\\\"value\\\": 0, \\\"offset\\\": 0}, \\\"dy\\\": {\\\"value\\\": 0, \\\"offset\\\": 0}, \\\"angle\\\": {\\\"value\\\": 0}, \\\"clip\\\": {\\\"value\\\": true}, \\\"font\\\": {\\\"value\\\": \\\"AvenirNext-Medium\\\"}, \\\"fontSize\\\": {\\\"value\\\": 11}, \\\"fontWeight\\\": {\\\"value\\\": \\\"normal\\\"}, \\\"fontStyle\\\": {\\\"value\\\": \\\"normal\\\"}, \\\"fill\\\": {\\\"value\\\": \\\"#7A7A7A\\\"}}, \\\"update\\\": {\\\"x\\\": {\\\"signal\\\": \\\"datum[\\\\\\\"c_x_axis_back\\\\\\\"]+667\\\"}, \\\"y\\\": {\\\"field\\\": \\\"c_first_item\\\"}}}, \\\"type\\\": \\\"text\\\"}, {\\\"from\\\": {\\\"data\\\": \\\"data_2\\\"}, \\\"encode\\\": {\\\"enter\\\": {\\\"x\\\": {\\\"value\\\": 700}, \\\"y\\\": {\\\"value\\\": 200}, \\\"text\\\": {\\\"signal\\\": \\\"((datum[\\\\\\\"categorical\\\\\\\"].length >= 2) &amp;&amp; (toString(datum[\\\\\\\"type\\\\\\\"]) == \\\\\\\"str\\\\\\\"))? toString(datum[\\\\\\\"categorical\\\\\\\"][1][\\\\\\\"count\\\\\\\"]):\\\\\\\"\\\\\\\"\\\"}, \\\"align\\\": {\\\"value\\\": \\\"right\\\"}, \\\"baseline\\\": {\\\"value\\\": \\\"middle\\\"}, \\\"dx\\\": {\\\"value\\\": 0, \\\"offset\\\": 0}, \\\"dy\\\": {\\\"value\\\": 0, \\\"offset\\\": 0}, \\\"angle\\\": {\\\"value\\\": 0}, \\\"clip\\\": {\\\"value\\\": true}, \\\"font\\\": {\\\"value\\\": \\\"AvenirNext-Medium\\\"}, \\\"fontSize\\\": {\\\"value\\\": 10}, \\\"fontWeight\\\": {\\\"value\\\": \\\"normal\\\"}, \\\"fontStyle\\\": {\\\"value\\\": \\\"normal\\\"}, \\\"fill\\\": {\\\"value\\\": \\\"#7A7A7A\\\"}}, \\\"update\\\": {\\\"x\\\": {\\\"signal\\\": \\\"datum[\\\\\\\"c_x_axis_back\\\\\\\"]+667\\\"}, \\\"y\\\": {\\\"field\\\": \\\"c_second_item\\\"}}}, \\\"type\\\": \\\"text\\\"}, {\\\"from\\\": {\\\"data\\\": \\\"data_2\\\"}, \\\"encode\\\": {\\\"enter\\\": {\\\"x\\\": {\\\"value\\\": 700}, \\\"y\\\": {\\\"value\\\": 200}, \\\"text\\\": {\\\"signal\\\": \\\"((datum[\\\\\\\"categorical\\\\\\\"].length >= 3) &amp;&amp; (toString(datum[\\\\\\\"type\\\\\\\"]) == \\\\\\\"str\\\\\\\"))? toString(datum[\\\\\\\"categorical\\\\\\\"][2][\\\\\\\"count\\\\\\\"]):\\\\\\\"\\\\\\\"\\\"}, \\\"align\\\": {\\\"value\\\": \\\"right\\\"}, \\\"baseline\\\": {\\\"value\\\": \\\"middle\\\"}, \\\"dx\\\": {\\\"value\\\": 0, \\\"offset\\\": 0}, \\\"dy\\\": {\\\"value\\\": 0, \\\"offset\\\": 0}, \\\"angle\\\": {\\\"value\\\": 0}, \\\"clip\\\": {\\\"value\\\": true}, \\\"font\\\": {\\\"value\\\": \\\"AvenirNext-Medium\\\"}, \\\"fontSize\\\": {\\\"value\\\": 10}, \\\"fontWeight\\\": {\\\"value\\\": \\\"normal\\\"}, \\\"fontStyle\\\": {\\\"value\\\": \\\"normal\\\"}, \\\"fill\\\": {\\\"value\\\": \\\"#7A7A7A\\\"}}, \\\"update\\\": {\\\"x\\\": {\\\"signal\\\": \\\"datum[\\\\\\\"c_x_axis_back\\\\\\\"]+667\\\"}, \\\"y\\\": {\\\"field\\\": \\\"c_third_item\\\"}}}, \\\"type\\\": \\\"text\\\"}, {\\\"from\\\": {\\\"data\\\": \\\"data_2\\\"}, \\\"encode\\\": {\\\"enter\\\": {\\\"x\\\": {\\\"value\\\": 700}, \\\"y\\\": {\\\"value\\\": 200}, \\\"text\\\": {\\\"signal\\\": \\\"((datum[\\\\\\\"categorical\\\\\\\"].length >= 4) &amp;&amp; (toString(datum[\\\\\\\"type\\\\\\\"]) == \\\\\\\"str\\\\\\\"))? toString(datum[\\\\\\\"categorical\\\\\\\"][3][\\\\\\\"count\\\\\\\"]):\\\\\\\"\\\\\\\"\\\"}, \\\"align\\\": {\\\"value\\\": \\\"right\\\"}, \\\"baseline\\\": {\\\"value\\\": \\\"middle\\\"}, \\\"dx\\\": {\\\"value\\\": 0, \\\"offset\\\": 0}, \\\"dy\\\": {\\\"value\\\": 0, \\\"offset\\\": 0}, \\\"angle\\\": {\\\"value\\\": 0}, \\\"clip\\\": {\\\"value\\\": true}, \\\"font\\\": {\\\"value\\\": \\\"AvenirNext-Medium\\\"}, \\\"fontSize\\\": {\\\"value\\\": 10}, \\\"fontWeight\\\": {\\\"value\\\": \\\"normal\\\"}, \\\"fontStyle\\\": {\\\"value\\\": \\\"normal\\\"}, \\\"fill\\\": {\\\"value\\\": \\\"#7A7A7A\\\"}}, \\\"update\\\": {\\\"x\\\": {\\\"signal\\\": \\\"datum[\\\\\\\"c_x_axis_back\\\\\\\"]+667\\\"}, \\\"y\\\": {\\\"field\\\": \\\"c_fourth_item\\\"}}}, \\\"type\\\": \\\"text\\\"}, {\\\"from\\\": {\\\"data\\\": \\\"data_2\\\"}, \\\"encode\\\": {\\\"enter\\\": {\\\"x\\\": {\\\"value\\\": 700}, \\\"y\\\": {\\\"value\\\": 200}, \\\"text\\\": {\\\"signal\\\": \\\"((datum[\\\\\\\"categorical\\\\\\\"].length >= 5) &amp;&amp; (toString(datum[\\\\\\\"type\\\\\\\"]) == \\\\\\\"str\\\\\\\"))? toString(datum[\\\\\\\"categorical\\\\\\\"][4][\\\\\\\"count\\\\\\\"]):\\\\\\\"\\\\\\\"\\\"}, \\\"align\\\": {\\\"value\\\": \\\"right\\\"}, \\\"baseline\\\": {\\\"value\\\": \\\"middle\\\"}, \\\"dx\\\": {\\\"value\\\": 0, \\\"offset\\\": 0}, \\\"dy\\\": {\\\"value\\\": 0, \\\"offset\\\": 0}, \\\"angle\\\": {\\\"value\\\": 0}, \\\"clip\\\": {\\\"value\\\": true}, \\\"font\\\": {\\\"value\\\": \\\"AvenirNext-Medium\\\"}, \\\"fontSize\\\": {\\\"value\\\": 10}, \\\"fontWeight\\\": {\\\"value\\\": \\\"normal\\\"}, \\\"fontStyle\\\": {\\\"value\\\": \\\"normal\\\"}, \\\"fill\\\": {\\\"value\\\": \\\"#7A7A7A\\\"}}, \\\"update\\\": {\\\"x\\\": {\\\"signal\\\": \\\"datum[\\\\\\\"c_x_axis_back\\\\\\\"]+667\\\"}, \\\"y\\\": {\\\"field\\\": \\\"c_fifth_item\\\"}}}, \\\"type\\\": \\\"text\\\"}, {\\\"from\\\": {\\\"data\\\": \\\"data_2\\\"}, \\\"encode\\\": {\\\"enter\\\": {\\\"x\\\": {\\\"value\\\": 500}, \\\"y\\\": {\\\"value\\\": 200}, \\\"text\\\": {\\\"signal\\\": \\\"(toString(datum[\\\\\\\"type\\\\\\\"]) == \\\\\\\"integer\\\\\\\" || toString(datum[\\\\\\\"type\\\\\\\"]) == \\\\\\\"float\\\\\\\")? \\\\\\\"Mean:\\\\\\\":\\\\\\\"\\\\\\\"\\\"}, \\\"align\\\": {\\\"value\\\": \\\"left\\\"}, \\\"baseline\\\": {\\\"value\\\": \\\"middle\\\"}, \\\"dx\\\": {\\\"value\\\": 0, \\\"offset\\\": 0}, \\\"dy\\\": {\\\"value\\\": 0, \\\"offset\\\": 0}, \\\"angle\\\": {\\\"value\\\": 0}, \\\"clip\\\": {\\\"value\\\": true}, \\\"font\\\": {\\\"value\\\": \\\"AvenirNext-Medium\\\"}, \\\"fontSize\\\": {\\\"value\\\": 11}, \\\"fontWeight\\\": {\\\"value\\\": \\\"bold\\\"}, \\\"fontStyle\\\": {\\\"value\\\": \\\"normal\\\"}, \\\"fill\\\": {\\\"value\\\": \\\"#4A4A4A\\\"}}, \\\"update\\\": {\\\"x\\\": {\\\"signal\\\": \\\"datum[\\\\\\\"c_x_axis_back\\\\\\\"]+467\\\"}, \\\"y\\\": {\\\"field\\\": \\\"c_mean\\\"}}}, \\\"type\\\": \\\"text\\\"}, {\\\"from\\\": {\\\"data\\\": \\\"data_2\\\"}, \\\"encode\\\": {\\\"enter\\\": {\\\"x\\\": {\\\"value\\\": 500}, \\\"y\\\": {\\\"value\\\": 220}, \\\"text\\\": {\\\"signal\\\": \\\"(toString(datum[\\\\\\\"type\\\\\\\"]) == \\\\\\\"integer\\\\\\\" || toString(datum[\\\\\\\"type\\\\\\\"]) == \\\\\\\"float\\\\\\\")? \\\\\\\"Min:\\\\\\\":\\\\\\\"\\\\\\\"\\\"}, \\\"align\\\": {\\\"value\\\": \\\"left\\\"}, \\\"baseline\\\": {\\\"value\\\": \\\"middle\\\"}, \\\"dx\\\": {\\\"value\\\": 0, \\\"offset\\\": 0}, \\\"dy\\\": {\\\"value\\\": 0, \\\"offset\\\": 0}, \\\"angle\\\": {\\\"value\\\": 0}, \\\"font\\\": {\\\"value\\\": \\\"AvenirNext-Medium\\\"}, \\\"fontSize\\\": {\\\"value\\\": 11}, \\\"fontWeight\\\": {\\\"value\\\": \\\"bold\\\"}, \\\"fontStyle\\\": {\\\"value\\\": \\\"normal\\\"}, \\\"fill\\\": {\\\"value\\\": \\\"#4A4A4A\\\"}}, \\\"update\\\": {\\\"x\\\": {\\\"signal\\\": \\\"datum[\\\\\\\"c_x_axis_back\\\\\\\"]+467\\\"}, \\\"y\\\": {\\\"field\\\": \\\"c_min\\\"}}}, \\\"type\\\": \\\"text\\\"}, {\\\"from\\\": {\\\"data\\\": \\\"data_2\\\"}, \\\"encode\\\": {\\\"enter\\\": {\\\"x\\\": {\\\"value\\\": 500}, \\\"y\\\": {\\\"value\\\": 240}, \\\"text\\\": {\\\"signal\\\": \\\"(toString(datum[\\\\\\\"type\\\\\\\"]) == \\\\\\\"integer\\\\\\\" || toString(datum[\\\\\\\"type\\\\\\\"]) == \\\\\\\"float\\\\\\\")? \\\\\\\"Max:\\\\\\\":\\\\\\\"\\\\\\\"\\\"}, \\\"align\\\": {\\\"value\\\": \\\"left\\\"}, \\\"baseline\\\": {\\\"value\\\": \\\"middle\\\"}, \\\"dx\\\": {\\\"value\\\": 0, \\\"offset\\\": 0}, \\\"dy\\\": {\\\"value\\\": 0, \\\"offset\\\": 0}, \\\"angle\\\": {\\\"value\\\": 0}, \\\"font\\\": {\\\"value\\\": \\\"AvenirNext-Medium\\\"}, \\\"fontSize\\\": {\\\"value\\\": 11}, \\\"fontWeight\\\": {\\\"value\\\": \\\"bold\\\"}, \\\"fontStyle\\\": {\\\"value\\\": \\\"normal\\\"}, \\\"fill\\\": {\\\"value\\\": \\\"#4A4A4A\\\"}}, \\\"update\\\": {\\\"x\\\": {\\\"signal\\\": \\\"datum[\\\\\\\"c_x_axis_back\\\\\\\"]+467\\\"}, \\\"y\\\": {\\\"field\\\": \\\"c_max\\\"}}}, \\\"type\\\": \\\"text\\\"}, {\\\"from\\\": {\\\"data\\\": \\\"data_2\\\"}, \\\"encode\\\": {\\\"enter\\\": {\\\"x\\\": {\\\"value\\\": 500}, \\\"y\\\": {\\\"value\\\": 260}, \\\"text\\\": {\\\"signal\\\": \\\"(toString(datum[\\\\\\\"type\\\\\\\"]) == \\\\\\\"integer\\\\\\\" || toString(datum[\\\\\\\"type\\\\\\\"]) == \\\\\\\"float\\\\\\\")? \\\\\\\"Median:\\\\\\\":\\\\\\\"\\\\\\\"\\\"}, \\\"align\\\": {\\\"value\\\": \\\"left\\\"}, \\\"baseline\\\": {\\\"value\\\": \\\"middle\\\"}, \\\"dx\\\": {\\\"value\\\": 0, \\\"offset\\\": 0}, \\\"dy\\\": {\\\"value\\\": 0, \\\"offset\\\": 0}, \\\"angle\\\": {\\\"value\\\": 0}, \\\"font\\\": {\\\"value\\\": \\\"AvenirNext-Medium\\\"}, \\\"fontSize\\\": {\\\"value\\\": 11}, \\\"fontWeight\\\": {\\\"value\\\": \\\"bold\\\"}, \\\"fontStyle\\\": {\\\"value\\\": \\\"normal\\\"}, \\\"fill\\\": {\\\"value\\\": \\\"#4A4A4A\\\"}}, \\\"update\\\": {\\\"x\\\": {\\\"signal\\\": \\\"datum[\\\\\\\"c_x_axis_back\\\\\\\"]+467\\\"}, \\\"y\\\": {\\\"field\\\": \\\"c_median\\\"}}}, \\\"type\\\": \\\"text\\\"}, {\\\"from\\\": {\\\"data\\\": \\\"data_2\\\"}, \\\"encode\\\": {\\\"enter\\\": {\\\"x\\\": {\\\"value\\\": 500}, \\\"y\\\": {\\\"value\\\": 280}, \\\"text\\\": {\\\"signal\\\": \\\"(toString(datum[\\\\\\\"type\\\\\\\"]) == \\\\\\\"integer\\\\\\\" || toString(datum[\\\\\\\"type\\\\\\\"]) == \\\\\\\"float\\\\\\\")? \\\\\\\"St. Dev:\\\\\\\":\\\\\\\"\\\\\\\"\\\"}, \\\"align\\\": {\\\"value\\\": \\\"left\\\"}, \\\"baseline\\\": {\\\"value\\\": \\\"middle\\\"}, \\\"dx\\\": {\\\"value\\\": 0, \\\"offset\\\": 0}, \\\"dy\\\": {\\\"value\\\": 0, \\\"offset\\\": 0}, \\\"angle\\\": {\\\"value\\\": 0}, \\\"font\\\": {\\\"value\\\": \\\"AvenirNext-Medium\\\"}, \\\"fontSize\\\": {\\\"value\\\": 11}, \\\"fontWeight\\\": {\\\"value\\\": \\\"bold\\\"}, \\\"fontStyle\\\": {\\\"value\\\": \\\"normal\\\"}, \\\"fill\\\": {\\\"value\\\": \\\"#4A4A4A\\\"}}, \\\"update\\\": {\\\"x\\\": {\\\"signal\\\": \\\"datum[\\\\\\\"c_x_axis_back\\\\\\\"]+467\\\"}, \\\"y\\\": {\\\"field\\\": \\\"c_stdev\\\"}}}, \\\"type\\\": \\\"text\\\"}, {\\\"from\\\": {\\\"data\\\": \\\"data_2\\\"}, \\\"encode\\\": {\\\"enter\\\": {\\\"x\\\": {\\\"value\\\": 700}, \\\"y\\\": {\\\"value\\\": 198}, \\\"text\\\": {\\\"signal\\\": \\\"(toString(datum[\\\\\\\"type\\\\\\\"]) == \\\\\\\"integer\\\\\\\" || toString(datum[\\\\\\\"type\\\\\\\"]) == \\\\\\\"float\\\\\\\")?toString(format(datum[\\\\\\\"mean\\\\\\\"], \\\\\\\",\\\\\\\")):\\\\\\\"\\\\\\\"\\\"}, \\\"align\\\": {\\\"value\\\": \\\"right\\\"}, \\\"baseline\\\": {\\\"value\\\": \\\"middle\\\"}, \\\"dx\\\": {\\\"value\\\": 0, \\\"offset\\\": 0}, \\\"dy\\\": {\\\"value\\\": 0, \\\"offset\\\": 0}, \\\"angle\\\": {\\\"value\\\": 0}, \\\"font\\\": {\\\"value\\\": \\\"AvenirNext-Medium\\\"}, \\\"fontSize\\\": {\\\"value\\\": 10}, \\\"fontWeight\\\": {\\\"value\\\": \\\"normal\\\"}, \\\"fontStyle\\\": {\\\"value\\\": \\\"normal\\\"}, \\\"fill\\\": {\\\"value\\\": \\\"#6A6A6A\\\"}}, \\\"update\\\": {\\\"x\\\": {\\\"signal\\\": \\\"datum[\\\\\\\"c_x_axis_back\\\\\\\"]+667\\\"}, \\\"y\\\": {\\\"field\\\": \\\"c_mean_val\\\"}}}, \\\"type\\\": \\\"text\\\"}, {\\\"from\\\": {\\\"data\\\": \\\"data_2\\\"}, \\\"encode\\\": {\\\"enter\\\": {\\\"x\\\": {\\\"value\\\": 700}, \\\"y\\\": {\\\"value\\\": 218}, \\\"text\\\": {\\\"signal\\\": \\\"(toString(datum[\\\\\\\"type\\\\\\\"]) == \\\\\\\"integer\\\\\\\" || toString(datum[\\\\\\\"type\\\\\\\"]) == \\\\\\\"float\\\\\\\")?toString(format(datum[\\\\\\\"min\\\\\\\"], \\\\\\\",\\\\\\\")):\\\\\\\"\\\\\\\"\\\"}, \\\"align\\\": {\\\"value\\\": \\\"right\\\"}, \\\"baseline\\\": {\\\"value\\\": \\\"middle\\\"}, \\\"dx\\\": {\\\"value\\\": 0, \\\"offset\\\": 0}, \\\"dy\\\": {\\\"value\\\": 0, \\\"offset\\\": 0}, \\\"angle\\\": {\\\"value\\\": 0}, \\\"font\\\": {\\\"value\\\": \\\"AvenirNext-Medium\\\"}, \\\"fontSize\\\": {\\\"value\\\": 10}, \\\"fontWeight\\\": {\\\"value\\\": \\\"normal\\\"}, \\\"fontStyle\\\": {\\\"value\\\": \\\"normal\\\"}, \\\"fill\\\": {\\\"value\\\": \\\"#6A6A6A\\\"}}, \\\"update\\\": {\\\"x\\\": {\\\"signal\\\": \\\"datum[\\\\\\\"c_x_axis_back\\\\\\\"]+667\\\"}, \\\"y\\\": {\\\"field\\\": \\\"c_min_val\\\"}}}, \\\"type\\\": \\\"text\\\"}, {\\\"from\\\": {\\\"data\\\": \\\"data_2\\\"}, \\\"encode\\\": {\\\"enter\\\": {\\\"x\\\": {\\\"value\\\": 700}, \\\"y\\\": {\\\"value\\\": 238}, \\\"text\\\": {\\\"signal\\\": \\\"(toString(datum[\\\\\\\"type\\\\\\\"]) == \\\\\\\"integer\\\\\\\" || toString(datum[\\\\\\\"type\\\\\\\"]) == \\\\\\\"float\\\\\\\")?toString(format(datum[\\\\\\\"max\\\\\\\"], \\\\\\\",\\\\\\\")):\\\\\\\"\\\\\\\"\\\"}, \\\"align\\\": {\\\"value\\\": \\\"right\\\"}, \\\"baseline\\\": {\\\"value\\\": \\\"middle\\\"}, \\\"dx\\\": {\\\"value\\\": 0, \\\"offset\\\": 0}, \\\"dy\\\": {\\\"value\\\": 0, \\\"offset\\\": 0}, \\\"angle\\\": {\\\"value\\\": 0}, \\\"font\\\": {\\\"value\\\": \\\"AvenirNext-Medium\\\"}, \\\"fontSize\\\": {\\\"value\\\": 10}, \\\"fontWeight\\\": {\\\"value\\\": \\\"normal\\\"}, \\\"fontStyle\\\": {\\\"value\\\": \\\"normal\\\"}, \\\"fill\\\": {\\\"value\\\": \\\"#6A6A6A\\\"}}, \\\"update\\\": {\\\"x\\\": {\\\"signal\\\": \\\"datum[\\\\\\\"c_x_axis_back\\\\\\\"]+667\\\"}, \\\"y\\\": {\\\"field\\\": \\\"c_max_val\\\"}}}, \\\"type\\\": \\\"text\\\"}, {\\\"from\\\": {\\\"data\\\": \\\"data_2\\\"}, \\\"encode\\\": {\\\"enter\\\": {\\\"x\\\": {\\\"value\\\": 700}, \\\"y\\\": {\\\"value\\\": 258}, \\\"text\\\": {\\\"signal\\\": \\\"(toString(datum[\\\\\\\"type\\\\\\\"]) == \\\\\\\"integer\\\\\\\" || toString(datum[\\\\\\\"type\\\\\\\"]) == \\\\\\\"float\\\\\\\")?toString(format(datum[\\\\\\\"median\\\\\\\"], \\\\\\\",\\\\\\\")):\\\\\\\"\\\\\\\"\\\"}, \\\"align\\\": {\\\"value\\\": \\\"right\\\"}, \\\"baseline\\\": {\\\"value\\\": \\\"middle\\\"}, \\\"dx\\\": {\\\"value\\\": 0, \\\"offset\\\": 0}, \\\"dy\\\": {\\\"value\\\": 0, \\\"offset\\\": 0}, \\\"angle\\\": {\\\"value\\\": 0}, \\\"font\\\": {\\\"value\\\": \\\"AvenirNext-Medium\\\"}, \\\"fontSize\\\": {\\\"value\\\": 10}, \\\"fontWeight\\\": {\\\"value\\\": \\\"normal\\\"}, \\\"fontStyle\\\": {\\\"value\\\": \\\"normal\\\"}, \\\"fill\\\": {\\\"value\\\": \\\"#6A6A6A\\\"}}, \\\"update\\\": {\\\"x\\\": {\\\"signal\\\": \\\"datum[\\\\\\\"c_x_axis_back\\\\\\\"]+667\\\"}, \\\"y\\\": {\\\"field\\\": \\\"c_median_val\\\"}}}, \\\"type\\\": \\\"text\\\"}, {\\\"from\\\": {\\\"data\\\": \\\"data_2\\\"}, \\\"encode\\\": {\\\"enter\\\": {\\\"x\\\": {\\\"value\\\": 700}, \\\"y\\\": {\\\"value\\\": 278}, \\\"text\\\": {\\\"signal\\\": \\\"(toString(datum[\\\\\\\"type\\\\\\\"]) == \\\\\\\"integer\\\\\\\" || toString(datum[\\\\\\\"type\\\\\\\"]) == \\\\\\\"float\\\\\\\")?toString(format(datum[\\\\\\\"stdev\\\\\\\"], \\\\\\\",\\\\\\\")):\\\\\\\"\\\\\\\"\\\"}, \\\"align\\\": {\\\"value\\\": \\\"right\\\"}, \\\"baseline\\\": {\\\"value\\\": \\\"middle\\\"}, \\\"dx\\\": {\\\"value\\\": 0, \\\"offset\\\": 0}, \\\"dy\\\": {\\\"value\\\": 0, \\\"offset\\\": 0}, \\\"angle\\\": {\\\"value\\\": 0}, \\\"font\\\": {\\\"value\\\": \\\"AvenirNext-Medium\\\"}, \\\"fontSize\\\": {\\\"value\\\": 10}, \\\"fontWeight\\\": {\\\"value\\\": \\\"normal\\\"}, \\\"fontStyle\\\": {\\\"value\\\": \\\"normal\\\"}, \\\"fill\\\": {\\\"value\\\": \\\"#6A6A6A\\\"}}, \\\"update\\\": {\\\"x\\\": {\\\"signal\\\": \\\"datum[\\\\\\\"c_x_axis_back\\\\\\\"]+667\\\"}, \\\"y\\\": {\\\"field\\\": \\\"c_stdev_val\\\"}}}, \\\"type\\\": \\\"text\\\"}, {\\\"from\\\": {\\\"facet\\\": {\\\"name\\\": \\\"new_data\\\", \\\"data\\\": \\\"data_2\\\", \\\"field\\\": \\\"numeric\\\"}}, \\\"encode\\\": {\\\"enter\\\": {\\\"x\\\": {\\\"value\\\": 120}, \\\"width\\\": {\\\"value\\\": 250}, \\\"y\\\": {\\\"field\\\": \\\"graph_offset\\\"}, \\\"height\\\": {\\\"value\\\": 150}, \\\"fill\\\": {\\\"value\\\": \\\"#ffffff\\\"}, \\\"fillOpacity\\\": {\\\"value\\\": 0}, \\\"stroke\\\": {\\\"value\\\": \\\"#000000\\\"}, \\\"strokeWidth\\\": {\\\"value\\\": 0}}, \\\"update\\\": {\\\"x\\\": {\\\"signal\\\": \\\"datum[\\\\\\\"c_x_axis_back\\\\\\\"]+87\\\"}, \\\"clip\\\": {\\\"field\\\": \\\"c_clip_val\\\"}, \\\"width\\\": {\\\"field\\\": \\\"c_width_numeric_val\\\"}}}, \\\"type\\\": \\\"group\\\", \\\"scales\\\": [{\\\"name\\\": \\\"x\\\", \\\"type\\\": \\\"linear\\\", \\\"domain\\\": {\\\"data\\\": \\\"new_data\\\", \\\"fields\\\": [\\\"left\\\", \\\"right\\\"], \\\"sort\\\": true}, \\\"range\\\": [0, {\\\"signal\\\": \\\"width\\\"}], \\\"nice\\\": true, \\\"zero\\\": true}, {\\\"name\\\": \\\"y\\\", \\\"type\\\": \\\"linear\\\", \\\"domain\\\": {\\\"data\\\": \\\"new_data\\\", \\\"field\\\": \\\"count\\\"}, \\\"range\\\": [{\\\"signal\\\": \\\"height\\\"}, 0], \\\"nice\\\": true, \\\"zero\\\": true}], \\\"axes\\\": [{\\\"title\\\": \\\"Values\\\", \\\"scale\\\": \\\"x\\\", \\\"labelOverlap\\\": true, \\\"orient\\\": \\\"bottom\\\", \\\"tickCount\\\": {\\\"signal\\\": \\\"ceil(width/40)\\\"}, \\\"zindex\\\": 1}, {\\\"scale\\\": \\\"x\\\", \\\"domain\\\": false, \\\"grid\\\": true, \\\"labels\\\": false, \\\"maxExtent\\\": 0, \\\"minExtent\\\": 0, \\\"orient\\\": \\\"bottom\\\", \\\"tickCount\\\": {\\\"signal\\\": \\\"ceil(width/40)\\\"}, \\\"ticks\\\": false, \\\"zindex\\\": 0, \\\"gridScale\\\": \\\"y\\\"}, {\\\"title\\\": \\\"Count\\\", \\\"scale\\\": \\\"y\\\", \\\"labelOverlap\\\": true, \\\"orient\\\": \\\"left\\\", \\\"tickCount\\\": {\\\"signal\\\": \\\"ceil(height/40)\\\"}, \\\"zindex\\\": 1}, {\\\"scale\\\": \\\"y\\\", \\\"domain\\\": false, \\\"grid\\\": true, \\\"labels\\\": false, \\\"maxExtent\\\": 0, \\\"minExtent\\\": 0, \\\"orient\\\": \\\"left\\\", \\\"tickCount\\\": {\\\"signal\\\": \\\"ceil(height/40)\\\"}, \\\"ticks\\\": false, \\\"zindex\\\": 0, \\\"gridScale\\\": \\\"x\\\"}], \\\"style\\\": \\\"cell\\\", \\\"signals\\\": [{\\\"name\\\": \\\"width\\\", \\\"update\\\": \\\"250\\\"}, {\\\"name\\\": \\\"height\\\", \\\"update\\\": \\\"150\\\"}], \\\"marks\\\": [{\\\"name\\\": \\\"marks\\\", \\\"type\\\": \\\"rect\\\", \\\"style\\\": [\\\"rect\\\"], \\\"from\\\": {\\\"data\\\": \\\"new_data\\\"}, \\\"encode\\\": {\\\"hover\\\": {\\\"fill\\\": {\\\"value\\\": \\\"#7EC2F3\\\"}}, \\\"update\\\": {\\\"x\\\": {\\\"scale\\\": \\\"x\\\", \\\"field\\\": \\\"left\\\"}, \\\"x2\\\": {\\\"scale\\\": \\\"x\\\", \\\"field\\\": \\\"right\\\"}, \\\"y\\\": {\\\"scale\\\": \\\"y\\\", \\\"field\\\": \\\"count\\\"}, \\\"y2\\\": {\\\"scale\\\": \\\"y\\\", \\\"value\\\": 0}, \\\"fill\\\": {\\\"value\\\": \\\"#108EE9\\\"}}}}]}, {\\\"from\\\": {\\\"facet\\\": {\\\"name\\\": \\\"data_5\\\", \\\"data\\\": \\\"data_2\\\", \\\"field\\\": \\\"categorical\\\"}}, \\\"encode\\\": {\\\"enter\\\": {\\\"x\\\": {\\\"value\\\": 170}, \\\"width\\\": {\\\"value\\\": 250}, \\\"y\\\": {\\\"field\\\": \\\"graph_offset_categorical\\\"}, \\\"height\\\": {\\\"value\\\": 150}, \\\"fill\\\": {\\\"value\\\": \\\"#ffffff\\\"}, \\\"fillOpacity\\\": {\\\"value\\\": 0}, \\\"stroke\\\": {\\\"value\\\": \\\"#000000\\\"}, \\\"strokeWidth\\\": {\\\"value\\\": 0}}, \\\"update\\\": {\\\"x\\\": {\\\"signal\\\": \\\"datum[\\\\\\\"c_x_axis_back\\\\\\\"]+137\\\"}, \\\"clip\\\": {\\\"field\\\": \\\"c_clip_val_cat\\\"}, \\\"width\\\": {\\\"field\\\": \\\"c_width_numeric_val_cat\\\"}}}, \\\"type\\\": \\\"group\\\", \\\"style\\\": \\\"cell\\\", \\\"signals\\\": [{\\\"name\\\": \\\"unit\\\", \\\"value\\\": {}, \\\"on\\\": [{\\\"events\\\": \\\"mousemove\\\", \\\"update\\\": \\\"isTuple(group()) ? group() : unit\\\"}]}, {\\\"name\\\": \\\"pts\\\", \\\"update\\\": \\\"data(\\\\\\\"pts_store\\\\\\\").length &amp;&amp; {count: data(\\\\\\\"pts_store\\\\\\\")[0].values[0]}\\\"}, {\\\"name\\\": \\\"pts_tuple\\\", \\\"value\\\": {}, \\\"on\\\": [{\\\"events\\\": [{\\\"source\\\": \\\"scope\\\", \\\"type\\\": \\\"click\\\"}], \\\"update\\\": \\\"datum &amp;&amp; item().mark.marktype !== &apos;group&apos; ? {unit: \\\\\\\"\\\\\\\", encodings: [\\\\\\\"x\\\\\\\"], fields: [\\\\\\\"count\\\\\\\"], values: [datum[\\\\\\\"count\\\\\\\"]]} : null\\\", \\\"force\\\": true}]}, {\\\"name\\\": \\\"pts_modify\\\", \\\"on\\\": [{\\\"events\\\": {\\\"signal\\\": \\\"pts_tuple\\\"}, \\\"update\\\": \\\"modify(\\\\\\\"pts_store\\\\\\\", pts_tuple, true)\\\"}]}], \\\"marks\\\": [{\\\"name\\\": \\\"marks\\\", \\\"type\\\": \\\"rect\\\", \\\"style\\\": [\\\"bar\\\"], \\\"from\\\": {\\\"data\\\": \\\"data_5\\\"}, \\\"encode\\\": {\\\"hover\\\": {\\\"fill\\\": {\\\"value\\\": \\\"#7EC2F3\\\"}}, \\\"update\\\": {\\\"x\\\": {\\\"scale\\\": \\\"x\\\", \\\"field\\\": \\\"count\\\"}, \\\"x2\\\": {\\\"scale\\\": \\\"x\\\", \\\"value\\\": 0}, \\\"y\\\": {\\\"scale\\\": \\\"y\\\", \\\"field\\\": \\\"label\\\"}, \\\"height\\\": {\\\"scale\\\": \\\"y\\\", \\\"band\\\": true}, \\\"fill\\\": {\\\"value\\\": \\\"#108EE9\\\"}}}}], \\\"scales\\\": [{\\\"name\\\": \\\"x\\\", \\\"type\\\": \\\"linear\\\", \\\"domain\\\": {\\\"data\\\": \\\"data_5\\\", \\\"field\\\": \\\"count\\\"}, \\\"range\\\": [0, 250], \\\"nice\\\": true, \\\"zero\\\": true}, {\\\"name\\\": \\\"y\\\", \\\"type\\\": \\\"band\\\", \\\"domain\\\": {\\\"data\\\": \\\"data_5\\\", \\\"field\\\": \\\"label\\\", \\\"sort\\\": {\\\"op\\\": \\\"mean\\\", \\\"field\\\": \\\"label_idx\\\", \\\"order\\\": \\\"descending\\\"}}, \\\"range\\\": [150, 0], \\\"paddingInner\\\": 0.1, \\\"paddingOuter\\\": 0.05}], \\\"axes\\\": [{\\\"orient\\\": \\\"top\\\", \\\"scale\\\": \\\"x\\\", \\\"labelOverlap\\\": true, \\\"tickCount\\\": {\\\"signal\\\": \\\"ceil(width/40)\\\"}, \\\"title\\\": \\\"Count\\\", \\\"zindex\\\": 1}, {\\\"orient\\\": \\\"top\\\", \\\"scale\\\": \\\"x\\\", \\\"domain\\\": false, \\\"grid\\\": true, \\\"labels\\\": false, \\\"maxExtent\\\": 0, \\\"minExtent\\\": 0, \\\"tickCount\\\": {\\\"signal\\\": \\\"ceil(width/40)\\\"}, \\\"ticks\\\": false, \\\"zindex\\\": 0, \\\"gridScale\\\": \\\"y\\\"}, {\\\"scale\\\": \\\"y\\\", \\\"labelOverlap\\\": true, \\\"orient\\\": \\\"left\\\", \\\"title\\\": \\\"Label\\\", \\\"zindex\\\": 1}]}], \\\"type\\\": \\\"group\\\"}], \\\"type\\\": \\\"group\\\"}], \\\"config\\\": {\\\"axis\\\": {\\\"labelFont\\\": \\\"HelveticaNeue-Light, Arial\\\", \\\"labelFontSize\\\": 7, \\\"labelPadding\\\": 10, \\\"labelColor\\\": \\\"#595959\\\", \\\"titleFont\\\": \\\"HelveticaNeue-Light, Arial\\\", \\\"titleFontWeight\\\": \\\"normal\\\", \\\"titlePadding\\\": 9, \\\"titleFontSize\\\": 12, \\\"titleColor\\\": \\\"#595959\\\"}, \\\"axisY\\\": {\\\"minExtent\\\": 30}, \\\"style\\\": {\\\"rect\\\": {\\\"stroke\\\": \\\"rgba(200, 200, 200, 0.5)\\\"}, \\\"group-title\\\": {\\\"fontSize\\\": 20, \\\"font\\\": \\\"HelveticaNeue-Light, Arial\\\", \\\"fontWeight\\\": \\\"normal\\\", \\\"fill\\\": \\\"#595959\\\"}}}}\";                                 var vega_json_parsed = JSON.parse(vega_json);                                 var toolTipOpts = {                                     showAllFields: true                                 };                                 if(vega_json_parsed[\"metadata\"] != null){                                     if(vega_json_parsed[\"metadata\"][\"bubbleOpts\"] != null){                                         toolTipOpts = vega_json_parsed[\"metadata\"][\"bubbleOpts\"];                                     };                                 };                                 vegaEmbed(\"#vis\", vega_json_parsed).then(function (result) {                                     vegaTooltip.vega(result.view, toolTipOpts);                                  });                             </script>                         </body>                     </html>' src=\"demo_iframe_srcdoc.htm\">                         <p>Your browser does not support iframes.</p>                     </iframe>                 </body>             </html>"
      ],
      "text/plain": [
       "<IPython.core.display.HTML object>"
      ]
     },
     "metadata": {},
     "output_type": "display_data"
    }
   ],
   "source": [
    "loans.show()"
   ]
  },
  {
   "cell_type": "markdown",
   "metadata": {},
   "source": [
    "## Subsample dataset to make sure classes are balanced"
   ]
  },
  {
   "cell_type": "markdown",
   "metadata": {},
   "source": [
    "Just as we did in the previous assignment, we will undersample the larger class (safe loans) in order to balance out our dataset. This means we are throwing away many data points. We used `seed = 1` so everyone gets the same results."
   ]
  },
  {
   "cell_type": "code",
   "execution_count": 25,
   "metadata": {},
   "outputs": [
    {
     "name": "stdout",
     "output_type": "stream",
     "text": [
      "Percentage of safe loans                 : 0.5022361744216048\n",
      "Percentage of risky loans                : 0.4977638255783951\n",
      "Total number of loans in our new dataset : 46508\n"
     ]
    }
   ],
   "source": [
    "safe_loans_raw = loans[loans[target] == 1]\n",
    "risky_loans_raw = loans[loans[target] == -1]\n",
    "\n",
    "# Since there are less risky loans than safe loans, find the ratio of the sizes\n",
    "# and use that percentage to undersample the safe loans.\n",
    "percentage = len(risky_loans_raw)/float(len(safe_loans_raw))\n",
    "safe_loans = safe_loans_raw.sample(percentage, seed = 1)\n",
    "risky_loans = risky_loans_raw\n",
    "loans_data = risky_loans.append(safe_loans)\n",
    "\n",
    "print(\"Percentage of safe loans                 :\", len(safe_loans) / float(len(loans_data)))\n",
    "print(\"Percentage of risky loans                :\", len(risky_loans) / float(len(loans_data)))\n",
    "print(\"Total number of loans in our new dataset :\", len(loans_data))"
   ]
  },
  {
   "cell_type": "markdown",
   "metadata": {},
   "source": [
    "**Note:** There are many approaches for dealing with imbalanced data, including some where we modify the learning algorithm. These approaches are beyond the scope of this course, but some of them are reviewed in this [paper](http://ieeexplore.ieee.org/xpl/login.jsp?tp=&arnumber=5128907&url=http%3A%2F%2Fieeexplore.ieee.org%2Fiel5%2F69%2F5173046%2F05128907.pdf%3Farnumber%3D5128907 ). For this assignment, we use the simplest possible approach, where we subsample the overly represented class to get a more balanced dataset. In general, and especially when the data is highly imbalanced, we recommend using more advanced methods."
   ]
  },
  {
   "cell_type": "markdown",
   "metadata": {},
   "source": [
    "## Transform categorical data into binary features"
   ]
  },
  {
   "cell_type": "markdown",
   "metadata": {},
   "source": [
    "Since we are implementing **binary decision trees**, we transform our categorical data into binary data using 1-hot encoding, just as in the previous assignment. Here is the summary of that discussion:\n",
    "\n",
    "For instance, the **home_ownership** feature represents the home ownership status of the loanee, which is either `own`, `mortgage` or `rent`. For example, if a data point has the feature \n",
    "```\n",
    "   {'home_ownership': 'RENT'}\n",
    "```\n",
    "we want to turn this into three features: \n",
    "```\n",
    " { \n",
    "   'home_ownership = OWN'      : 0, \n",
    "   'home_ownership = MORTGAGE' : 0, \n",
    "   'home_ownership = RENT'     : 1\n",
    " }\n",
    "```\n",
    "\n",
    "Since this code requires a few Python and GraphLab tricks, feel free to use this block of code as is. Refer to the API documentation for a deeper understanding.\n"
   ]
  },
  {
   "cell_type": "code",
   "execution_count": 26,
   "metadata": {},
   "outputs": [],
   "source": [
    "loans_data = risky_loans.append(safe_loans)\n",
    "for feature in features:\n",
    "    loans_data_one_hot_encoded = loans_data[feature].apply(lambda x: {x: 1})    \n",
    "    loans_data_unpacked = loans_data_one_hot_encoded.unpack(column_name_prefix=feature)\n",
    "    \n",
    "    # Change None's to 0's\n",
    "    for column in loans_data_unpacked.column_names():\n",
    "        loans_data_unpacked[column] = loans_data_unpacked[column].fillna(0)\n",
    "\n",
    "    loans_data.remove_column(feature)\n",
    "    loans_data.add_columns(loans_data_unpacked, inplace=True)"
   ]
  },
  {
   "cell_type": "markdown",
   "metadata": {},
   "source": [
    "The feature columns now look like this:"
   ]
  },
  {
   "cell_type": "code",
   "execution_count": 27,
   "metadata": {},
   "outputs": [
    {
     "data": {
      "text/plain": [
       "['grade',\n",
       " 'term',\n",
       " 'home_ownership',\n",
       " 'emp_length',\n",
       " 'grade.A',\n",
       " 'grade.B',\n",
       " 'grade.C',\n",
       " 'grade.D',\n",
       " 'grade.E',\n",
       " 'grade.F',\n",
       " 'grade.G',\n",
       " 'term. 36 months',\n",
       " 'term. 60 months',\n",
       " 'home_ownership.MORTGAGE',\n",
       " 'home_ownership.OTHER',\n",
       " 'home_ownership.OWN',\n",
       " 'home_ownership.RENT',\n",
       " 'emp_length.1 year',\n",
       " 'emp_length.10+ years',\n",
       " 'emp_length.2 years',\n",
       " 'emp_length.3 years',\n",
       " 'emp_length.4 years',\n",
       " 'emp_length.5 years',\n",
       " 'emp_length.6 years',\n",
       " 'emp_length.7 years',\n",
       " 'emp_length.8 years',\n",
       " 'emp_length.9 years',\n",
       " 'emp_length.< 1 year',\n",
       " 'emp_length.n/a']"
      ]
     },
     "execution_count": 27,
     "metadata": {},
     "output_type": "execute_result"
    }
   ],
   "source": [
    "features = loans_data.column_names()\n",
    "features.remove('safe_loans')  # Remove the response variable\n",
    "features"
   ]
  },
  {
   "cell_type": "code",
   "execution_count": 36,
   "metadata": {},
   "outputs": [
    {
     "data": {
      "text/plain": [
       "46508"
      ]
     },
     "execution_count": 36,
     "metadata": {},
     "output_type": "execute_result"
    }
   ],
   "source": [
    "len(loans_data[loans_data['emp_length.n/a'] == 1]) ; 44716+1792"
   ]
  },
  {
   "cell_type": "markdown",
   "metadata": {},
   "source": [
    "## Train-Validation split\n",
    "\n",
    "We split the data into a train-validation split with 80% of the data in the training set and 20% of the data in the validation set. We use `seed=1` so that everyone gets the same result."
   ]
  },
  {
   "cell_type": "code",
   "execution_count": 37,
   "metadata": {},
   "outputs": [],
   "source": [
    "train_data, validation_set = loans_data.random_split(.8, seed=1)"
   ]
  },
  {
   "cell_type": "markdown",
   "metadata": {},
   "source": [
    "# Early stopping methods for decision trees"
   ]
  },
  {
   "cell_type": "markdown",
   "metadata": {},
   "source": [
    "In this section, we will extend the **binary tree implementation** from the previous assignment in order to handle some early stopping conditions. Recall the 3 early stopping methods that were discussed in lecture:\n",
    "\n",
    "1. Reached a **maximum depth**. (set by parameter `max_depth`).\n",
    "2. Reached a **minimum node size**. (set by parameter `min_node_size`).\n",
    "3. Don't split if the **gain in error reduction** is too small. (set by parameter `min_error_reduction`).\n",
    "\n",
    "For the rest of this assignment, we will refer to these three as **early stopping conditions 1, 2, and 3**.\n",
    "\n",
    "## Early stopping condition 1: Maximum depth\n",
    "\n",
    "Recall that we already implemented the maximum depth stopping condition in the previous assignment. In this assignment, we will experiment with this condition a bit more and also write code to implement the 2nd and 3rd early stopping conditions.\n",
    "\n",
    "We will be reusing code from the previous assignment and then building upon this.  We will **alert you** when you reach a function that was part of the previous assignment so that you can simply copy and past your previous code."
   ]
  },
  {
   "cell_type": "markdown",
   "metadata": {},
   "source": [
    "## Early stopping condition 2: Minimum node size"
   ]
  },
  {
   "cell_type": "markdown",
   "metadata": {},
   "source": [
    "The function **reached_minimum_node_size** takes 2 arguments:\n",
    "\n",
    "1. The `data` (from a node)\n",
    "2. The minimum number of data points that a node is allowed to split on, `min_node_size`.\n",
    "\n",
    "This function simply calculates whether the number of data points at a given node is less than or equal to the specified minimum node size. This function will be used to detect this early stopping condition in the **decision_tree_create** function.\n",
    "\n",
    "Fill in the parts of the function below where you find `## YOUR CODE HERE`.  There is **one** instance in the function below."
   ]
  },
  {
   "cell_type": "code",
   "execution_count": 97,
   "metadata": {},
   "outputs": [],
   "source": [
    "def reached_minimum_node_size(data, min_node_size):\n",
    "    # Return True if the number of data points is less than or equal to the minimum node size.\n",
    "    return len(data) < min_node_size\n",
    "    "
   ]
  },
  {
   "cell_type": "markdown",
   "metadata": {},
   "source": [
    "** Quiz Question:** Given an intermediate node with 6 safe loans and 3 risky loans, if the `min_node_size` parameter is 10, what should the tree learning algorithm do next?\n",
    "\n",
    "Create a leaf and return it"
   ]
  },
  {
   "cell_type": "markdown",
   "metadata": {},
   "source": [
    "## Early stopping condition 3: Minimum gain in error reduction"
   ]
  },
  {
   "cell_type": "markdown",
   "metadata": {},
   "source": [
    "The function **error_reduction** takes 2 arguments:\n",
    "\n",
    "1. The error **before** a split, `error_before_split`.\n",
    "2. The error **after** a split, `error_after_split`.\n",
    "\n",
    "This function computes the gain in error reduction, i.e., the difference between the error before the split and that after the split. This function will be used to detect this early stopping condition in the **decision_tree_create** function.\n",
    "\n",
    "Fill in the parts of the function below where you find `## YOUR CODE HERE`.  There is **one** instance in the function below. "
   ]
  },
  {
   "cell_type": "code",
   "execution_count": 98,
   "metadata": {},
   "outputs": [],
   "source": [
    "def error_reduction(error_before_split, error_after_split):\n",
    "    # Return the error before the split minus the error after the split.\n",
    "    return error_before_split - error_after_split\n"
   ]
  },
  {
   "cell_type": "markdown",
   "metadata": {},
   "source": [
    "** Quiz Question:** Assume an intermediate node has 6 safe loans and 3 risky loans.  For each of 4 possible features to split on, the error reduction is 0.0, 0.05, 0.1, and 0.14, respectively. If the **minimum gain in error reduction** parameter is set to 0.2, what should the tree learning algorithm do next?\n",
    "\n",
    "Create a leaf and return it"
   ]
  },
  {
   "cell_type": "markdown",
   "metadata": {},
   "source": [
    "## Grabbing binary decision tree helper functions from past assignment"
   ]
  },
  {
   "cell_type": "markdown",
   "metadata": {},
   "source": [
    "Recall from the previous assignment that we wrote a function `intermediate_node_num_mistakes` that calculates the number of **misclassified examples** when predicting the **majority class**. This is used to help determine which feature is best to split on at a given node of the tree.\n",
    "\n",
    "**Please copy and paste your code for `intermediate_node_num_mistakes` here**."
   ]
  },
  {
   "cell_type": "code",
   "execution_count": 99,
   "metadata": {},
   "outputs": [],
   "source": [
    "def intermediate_node_num_mistakes(labels_in_node):\n",
    "    # Corner case: If labels_in_node is empty, return 0\n",
    "    if len(labels_in_node) == 0:\n",
    "        return 0\n",
    "#     print(type(labels_in_node))\n",
    "    # Count the number of 1's (safe loans)\n",
    "    ones = (labels_in_node == 1).sum()\n",
    "    \n",
    "    # Count the number of -1's (risky loans)\n",
    "    minus_ones = (labels_in_node == -1).sum()\n",
    "                \n",
    "    # Return the number of mistakes that the majority classifier makes.\n",
    "    return ones if ones >= minus_ones else minus_ones\n"
   ]
  },
  {
   "cell_type": "markdown",
   "metadata": {},
   "source": [
    "We then wrote a function `best_splitting_feature` that finds the best feature to split on given the data and a list of features to consider.\n",
    "\n",
    "**Please copy and paste your `best_splitting_feature` code here**."
   ]
  },
  {
   "cell_type": "code",
   "execution_count": 100,
   "metadata": {},
   "outputs": [],
   "source": [
    "def best_splitting_feature(data, features, target):\n",
    "    \n",
    "    target_values = data[target]\n",
    "    best_feature = None # Keep track of the best feature \n",
    "    best_error = 10     # Keep track of the best error so far \n",
    "    # Note: Since error is always <= 1, we should intialize it with something larger than 1.\n",
    "\n",
    "    # Convert to float to make sure error gets computed correctly.\n",
    "    num_data_points = float(len(data))  \n",
    "    \n",
    "    # Loop through each feature to consider splitting on that feature\n",
    "    for feature in features:\n",
    "        \n",
    "        # The left split will have all data points where the feature value is 0\n",
    "        left_split = data[data[feature] == 0]\n",
    "        \n",
    "        # The right split will have all data points where the feature value is 1\n",
    "        ## YOUR CODE HERE\n",
    "        right_split = data[data[feature] == 1]\n",
    "            \n",
    "        # Calculate the number of misclassified examples in the left split.\n",
    "        # Remember that we implemented a function for this! (It was called intermediate_node_num_mistakes)\n",
    "        # YOUR CODE HERE\n",
    "        left_mistakes = intermediate_node_num_mistakes(left_split[target])\n",
    "\n",
    "        # Calculate the number of misclassified examples in the right split.\n",
    "        ## YOUR CODE HERE\n",
    "        right_mistakes = intermediate_node_num_mistakes(right_split[target])\n",
    "            \n",
    "        # Compute the classification error of this split.\n",
    "        # Error = (# of mistakes (left) + # of mistakes (right)) / (# of data points)\n",
    "        ## YOUR CODE HERE\n",
    "        error = (left_mistakes + right_mistakes)/num_data_points\n",
    "\n",
    "        # If this is the best error we have found so far, store the feature as best_feature and the error as best_error\n",
    "        ## YOUR CODE HERE\n",
    "        if error < best_error:\n",
    "            best_error = error\n",
    "            best_feature = feature\n",
    "            \n",
    "    return best_feature # Return the best feature we found"
   ]
  },
  {
   "cell_type": "markdown",
   "metadata": {},
   "source": [
    "Finally, recall the function `create_leaf` from the previous assignment, which creates a leaf node given a set of target values.  \n",
    "\n",
    "**Please copy and paste your `create_leaf` code here**."
   ]
  },
  {
   "cell_type": "code",
   "execution_count": 101,
   "metadata": {},
   "outputs": [],
   "source": [
    "def create_leaf(target_values):\n",
    "    \n",
    "    # Create a leaf node\n",
    "    leaf = {'splitting_feature' : None,\n",
    "            'left' : None,\n",
    "            'right' : None,\n",
    "            'is_leaf': True }   ## YOUR CODE HERE\n",
    "    \n",
    "    # Count the number of data points that are +1 and -1 in this node.\n",
    "    num_ones = len(target_values[target_values == +1])\n",
    "    num_minus_ones = len(target_values[target_values == -1])\n",
    "    \n",
    "    # For the leaf node, set the prediction to be the majority class.\n",
    "    # Store the predicted class (1 or -1) in leaf['prediction']\n",
    "    if num_ones > num_minus_ones:\n",
    "        leaf['prediction'] = +1         ## YOUR CODE HERE\n",
    "    else:\n",
    "        leaf['prediction'] = -1         ## YOUR CODE HERE\n",
    "        \n",
    "    # Return the leaf node        \n",
    "    return leaf "
   ]
  },
  {
   "cell_type": "markdown",
   "metadata": {},
   "source": [
    "## Incorporating new early stopping conditions in binary decision tree implementation"
   ]
  },
  {
   "cell_type": "markdown",
   "metadata": {},
   "source": [
    "Now, you will implement a function that builds a decision tree handling the three early stopping conditions described in this assignment.  In particular, you will write code to detect early stopping conditions 2 and 3.  You implemented above the functions needed to detect these conditions.  The 1st early stopping condition, **max_depth**, was implemented in the previous assigment and you will not need to reimplement this.  In addition to these early stopping conditions, the typical stopping conditions of having no mistakes or no more features to split on (which we denote by \"stopping conditions\" 1 and 2) are also included as in the previous assignment.\n",
    "\n",
    "**Implementing early stopping condition 2: minimum node size:**\n",
    "\n",
    "* **Step 1:** Use the function **reached_minimum_node_size** that you implemented earlier to write an if condition to detect whether we have hit the base case, i.e., the node does not have enough data points and should be turned into a leaf. Don't forget to use the `min_node_size` argument.\n",
    "* **Step 2:** Return a leaf. This line of code should be the same as the other (pre-implemented) stopping conditions.\n",
    "\n",
    "\n",
    "**Implementing early stopping condition 3: minimum error reduction:**\n",
    "\n",
    "**Note:** This has to come after finding the best splitting feature so we can calculate the error after splitting in order to calculate the error reduction.\n",
    "\n",
    "* **Step 1:** Calculate the **classification error before splitting**.  Recall that classification error is defined as:\n",
    "\n",
    "$$\n",
    "\\text{classification error} = \\frac{\\text{# mistakes}}{\\text{# total examples}}\n",
    "$$\n",
    "* **Step 2:** Calculate the **classification error after splitting**. This requires calculating the number of mistakes in the left and right splits, and then dividing by the total number of examples.\n",
    "* **Step 3:** Use the function **error_reduction** to that you implemented earlier to write an if condition to detect whether  the reduction in error is less than the constant provided (`min_error_reduction`). Don't forget to use that argument.\n",
    "* **Step 4:** Return a leaf. This line of code should be the same as the other (pre-implemented) stopping conditions.\n",
    "\n",
    "Fill in the places where you find `## YOUR CODE HERE`. There are **seven** places in this function for you to fill in."
   ]
  },
  {
   "cell_type": "code",
   "execution_count": 102,
   "metadata": {},
   "outputs": [],
   "source": [
    "def decision_tree_create(data, features, target, current_depth = 0, \n",
    "                         max_depth = 10, min_node_size=1, \n",
    "                         min_error_reduction=0.0):\n",
    "    \n",
    "    remaining_features = features[:] # Make a copy of the features.\n",
    "    \n",
    "    target_values = data[target]\n",
    "    print(\"--------------------------------------------------------------------\")\n",
    "    print(\"Subtree, depth = %s (%s data points).\" % (current_depth, len(target_values)))\n",
    "    \n",
    "    \n",
    "    # Stopping condition 1: All nodes are of the same type.\n",
    "    if intermediate_node_num_mistakes(target_values) == 0:\n",
    "        print(\"Stopping condition 1 reached. All data points have the same target value.\")                \n",
    "        return create_leaf(target_values)\n",
    "    \n",
    "    # Stopping condition 2: No more features to split on.\n",
    "    if remaining_features == []:\n",
    "        print(\"Stopping condition 2 reached. No remaining features.\")\n",
    "        return create_leaf(target_values)    \n",
    "    \n",
    "    # Early stopping condition 1: Reached max depth limit.\n",
    "    if current_depth >= max_depth:\n",
    "        print(\"Early stopping condition 1 reached. Reached maximum depth.\")\n",
    "        return create_leaf(target_values)\n",
    "    \n",
    "    # Early stopping condition 2: Reached the minimum node size.\n",
    "    # If the number of data points is less than or equal to the minimum size, return a leaf.\n",
    "    if reached_minimum_node_size(data, min_node_size): ## YOUR CODE HERE \n",
    "        print(\"Early stopping condition 2 reached. Reached minimum node size.\")\n",
    "        return create_leaf(target_values)\n",
    "    \n",
    "    # Find the best splitting feature\n",
    "    splitting_feature = best_splitting_feature(data, features, target)\n",
    "    \n",
    "    # Split on the best feature that we found. \n",
    "    left_split = data[data[splitting_feature] == 0]\n",
    "    right_split = data[data[splitting_feature] == 1]\n",
    "    \n",
    "    # Early stopping condition 3: Minimum error reduction\n",
    "    # Calculate the error before splitting (number of misclassified examples \n",
    "    # divided by the total number of examples)\n",
    "    error_before_split = intermediate_node_num_mistakes(target_values) / float(len(data))\n",
    "    \n",
    "    # Calculate the error after splitting (number of misclassified examples \n",
    "    # in both groups divided by the total number of examples)\n",
    "    left_mistakes = intermediate_node_num_mistakes(left_split)   ## YOUR CODE HERE\n",
    "    right_mistakes =  intermediate_node_num_mistakes(right_split) ## YOUR CODE HERE\n",
    "    error_after_split = (left_mistakes + right_mistakes) / float(len(data))\n",
    "    \n",
    "    # If the error reduction is LESS THAN OR EQUAL TO min_error_reduction, return a leaf.\n",
    "    if error_reduction(error_before_split, error_after_split)<= min_error_reduction:               ## YOUR CODE HERE\n",
    "        print(\"Early stopping condition 3 reached. Minimum error reduction.\")\n",
    "        return create_leaf(target_values)\n",
    "    \n",
    "    \n",
    "    remaining_features.remove(splitting_feature)\n",
    "    print(\"Split on feature %s. (%s, %s)\" % (\\\n",
    "                      splitting_feature, len(left_split), len(right_split)))\n",
    "    \n",
    "    \n",
    "    # Repeat (recurse) on left and right subtrees\n",
    "    left_tree = decision_tree_create(left_split, remaining_features, target, \n",
    "                                     current_depth + 1, max_depth, min_node_size, min_error_reduction)        \n",
    "    \n",
    "    ## YOUR CODE HERE\n",
    "    right_tree = decision_tree_create(right_split, remaining_features, target, \n",
    "                                     current_depth + 1, max_depth, min_node_size, min_error_reduction)\n",
    "    \n",
    "    \n",
    "    return {'is_leaf'          : False, \n",
    "            'prediction'       : None,\n",
    "            'splitting_feature': splitting_feature,\n",
    "            'left'             : left_tree, \n",
    "            'right'            : right_tree}"
   ]
  },
  {
   "cell_type": "markdown",
   "metadata": {},
   "source": [
    "Here is a function to count the nodes in your tree:"
   ]
  },
  {
   "cell_type": "code",
   "execution_count": 103,
   "metadata": {},
   "outputs": [],
   "source": [
    "def count_nodes(tree):\n",
    "    if tree['is_leaf']:\n",
    "        return 1\n",
    "    return 1 + count_nodes(tree['left']) + count_nodes(tree['right'])"
   ]
  },
  {
   "cell_type": "markdown",
   "metadata": {},
   "source": [
    "Run the following test code to check your implementation. Make sure you get **'Test passed'** before proceeding."
   ]
  },
  {
   "cell_type": "code",
   "execution_count": 104,
   "metadata": {},
   "outputs": [
    {
     "name": "stdout",
     "output_type": "stream",
     "text": [
      "--------------------------------------------------------------------\n",
      "Subtree, depth = 0 (37224 data points).\n",
      "Split on feature grade. (0, 0)\n",
      "--------------------------------------------------------------------\n",
      "Subtree, depth = 1 (0 data points).\n",
      "Stopping condition 1 reached. All data points have the same target value.\n",
      "--------------------------------------------------------------------\n",
      "Subtree, depth = 1 (0 data points).\n",
      "Stopping condition 1 reached. All data points have the same target value.\n",
      "Test failed... try again!\n",
      "Number of nodes found                : 3\n",
      "Number of nodes that should be there : 7\n"
     ]
    }
   ],
   "source": [
    "small_decision_tree = decision_tree_create(train_data, features, 'safe_loans', max_depth = 2, \n",
    "                                        min_node_size = 10, min_error_reduction=0.0)\n",
    "if count_nodes(small_decision_tree) == 7:\n",
    "    print('Test passed!')\n",
    "else:\n",
    "    print('Test failed... try again!')\n",
    "    print('Number of nodes found                :', count_nodes(small_decision_tree))\n",
    "    print('Number of nodes that should be there : 7')"
   ]
  },
  {
   "cell_type": "markdown",
   "metadata": {},
   "source": [
    "## Build a tree!\n",
    "\n",
    "Now that your code is working, we will train a tree model on the **train_data** with\n",
    "* `max_depth = 6`\n",
    "* `min_node_size = 100`, \n",
    "* `min_error_reduction = 0.0`\n",
    "\n",
    "**Warning**: This code block may take a minute to learn. "
   ]
  },
  {
   "cell_type": "code",
   "execution_count": null,
   "metadata": {},
   "outputs": [],
   "source": [
    "my_decision_tree_new = decision_tree_create(train_data, features, 'safe_loans', max_depth = 6, \n",
    "                                min_node_size = 100, min_error_reduction=0.0)"
   ]
  },
  {
   "cell_type": "markdown",
   "metadata": {},
   "source": [
    "Let's now train a tree model **ignoring early stopping conditions 2 and 3** so that we get the same tree as in the previous assignment.  To ignore these conditions, we set `min_node_size=0` and `min_error_reduction=-1` (a negative value)."
   ]
  },
  {
   "cell_type": "code",
   "execution_count": null,
   "metadata": {},
   "outputs": [],
   "source": [
    "my_decision_tree_old = decision_tree_create(train_data, features, 'safe_loans', max_depth = 6, \n",
    "                                min_node_size = 0, min_error_reduction=-1)"
   ]
  },
  {
   "cell_type": "markdown",
   "metadata": {},
   "source": [
    "## Making predictions"
   ]
  },
  {
   "cell_type": "markdown",
   "metadata": {},
   "source": [
    "Recall that in the previous assignment you implemented a function `classify` to classify a new point `x` using a given `tree`.\n",
    "\n",
    "**Please copy and paste your `classify` code here**."
   ]
  },
  {
   "cell_type": "code",
   "execution_count": null,
   "metadata": {
    "collapsed": true
   },
   "outputs": [],
   "source": [
    "def classify(tree, x, annotate = False):   \n",
    "    # if the node is a leaf node.\n",
    "    if tree['is_leaf']:\n",
    "        if annotate: \n",
    "            print \"At leaf, predicting %s\" % tree['prediction']\n",
    "        return tree['prediction'] \n",
    "    else:\n",
    "        # split on feature.\n",
    "        split_feature_value = x[tree['splitting_feature']]\n",
    "        if annotate: \n",
    "            print \"Split on %s = %s\" % (tree['splitting_feature'], split_feature_value)\n",
    "        if split_feature_value == 0:\n",
    "            return classify(tree['left'], x, annotate)\n",
    "        else:\n",
    "               ### YOUR CODE HERE"
   ]
  },
  {
   "cell_type": "markdown",
   "metadata": {},
   "source": [
    "Now, let's consider the first example of the validation set and see what the `my_decision_tree_new` model predicts for this data point."
   ]
  },
  {
   "cell_type": "code",
   "execution_count": null,
   "metadata": {},
   "outputs": [],
   "source": [
    "validation_set[0]"
   ]
  },
  {
   "cell_type": "code",
   "execution_count": null,
   "metadata": {},
   "outputs": [],
   "source": [
    "print 'Predicted class: %s ' % classify(my_decision_tree_new, validation_set[0])"
   ]
  },
  {
   "cell_type": "markdown",
   "metadata": {},
   "source": [
    "Let's add some annotations to our prediction to see what the prediction path was that lead to this predicted class:"
   ]
  },
  {
   "cell_type": "code",
   "execution_count": null,
   "metadata": {},
   "outputs": [],
   "source": [
    "classify(my_decision_tree_new, validation_set[0], annotate = True)"
   ]
  },
  {
   "cell_type": "markdown",
   "metadata": {},
   "source": [
    "Let's now recall the prediction path for the decision tree learned in the previous assignment, which we recreated here as `my_decision_tree_old`."
   ]
  },
  {
   "cell_type": "code",
   "execution_count": null,
   "metadata": {},
   "outputs": [],
   "source": [
    "classify(my_decision_tree_old, validation_set[0], annotate = True)"
   ]
  },
  {
   "cell_type": "markdown",
   "metadata": {},
   "source": [
    "** Quiz Question:** For `my_decision_tree_new` trained with `max_depth = 6`, `min_node_size = 100`, `min_error_reduction=0.0`, is the prediction path for `validation_set[0]` shorter, longer, or the same as for `my_decision_tree_old` that ignored the early stopping conditions 2 and 3?"
   ]
  },
  {
   "cell_type": "markdown",
   "metadata": {},
   "source": [
    "**Quiz Question:** For `my_decision_tree_new` trained with `max_depth = 6`, `min_node_size = 100`, `min_error_reduction=0.0`, is the prediction path for **any point** always shorter, always longer, always the same, shorter or the same, or longer or the same as for `my_decision_tree_old` that ignored the early stopping conditions 2 and 3?"
   ]
  },
  {
   "cell_type": "markdown",
   "metadata": {},
   "source": [
    "** Quiz Question:** For a tree trained on **any** dataset using `max_depth = 6`, `min_node_size = 100`, `min_error_reduction=0.0`, what is the maximum number of splits encountered while making a single prediction?"
   ]
  },
  {
   "cell_type": "markdown",
   "metadata": {},
   "source": [
    "## Evaluating the model"
   ]
  },
  {
   "cell_type": "markdown",
   "metadata": {},
   "source": [
    "Now let us evaluate the model that we have trained. You implemented this evaluation in the function `evaluate_classification_error` from the previous assignment.\n",
    "\n",
    "**Please copy and paste your `evaluate_classification_error` code here**."
   ]
  },
  {
   "cell_type": "code",
   "execution_count": null,
   "metadata": {
    "collapsed": true
   },
   "outputs": [],
   "source": [
    "def evaluate_classification_error(tree, data, target):\n",
    "    # Apply the classify(tree, x) to each row in your data\n",
    "    prediction = data.apply(lambda x: classify(tree, x))\n",
    "    \n",
    "    # Once you've made the predictions, calculate the classification error and return it\n",
    "    ## YOUR CODE HERE\n",
    "    "
   ]
  },
  {
   "cell_type": "markdown",
   "metadata": {},
   "source": [
    "Now, let's use this function to evaluate the classification error of `my_decision_tree_new` on the **validation_set**."
   ]
  },
  {
   "cell_type": "code",
   "execution_count": null,
   "metadata": {},
   "outputs": [],
   "source": [
    "evaluate_classification_error(my_decision_tree_new, validation_set, target)"
   ]
  },
  {
   "cell_type": "markdown",
   "metadata": {},
   "source": [
    "Now, evaluate the validation error using `my_decision_tree_old`."
   ]
  },
  {
   "cell_type": "code",
   "execution_count": null,
   "metadata": {},
   "outputs": [],
   "source": [
    "evaluate_classification_error(my_decision_tree_old, validation_set, target)"
   ]
  },
  {
   "cell_type": "markdown",
   "metadata": {},
   "source": [
    "**Quiz Question:** Is the validation error of the new decision tree (using early stopping conditions 2 and 3) lower than, higher than, or the same as that of the old decision tree from the previous assignment?"
   ]
  },
  {
   "cell_type": "markdown",
   "metadata": {},
   "source": [
    "# Exploring the effect of max_depth\n",
    "\n",
    "We will compare three models trained with different values of the stopping criterion. We intentionally picked models at the extreme ends (**too small**, **just right**, and **too large**).\n",
    "\n",
    "Train three models with these parameters:\n",
    "\n",
    "1. **model_1**: max_depth = 2 (too small)\n",
    "2. **model_2**: max_depth = 6 (just right)\n",
    "3. **model_3**: max_depth = 14 (may be too large)\n",
    "\n",
    "For each of these three, we set `min_node_size = 0` and `min_error_reduction = -1`.\n",
    "\n",
    "** Note:** Each tree can take up to a few minutes to train. In particular, `model_3` will probably take the longest to train."
   ]
  },
  {
   "cell_type": "code",
   "execution_count": null,
   "metadata": {},
   "outputs": [],
   "source": [
    "model_1 = \n",
    "model_2 = \n",
    "model_3 = "
   ]
  },
  {
   "cell_type": "markdown",
   "metadata": {},
   "source": [
    "### Evaluating the models\n",
    "\n",
    "Let us evaluate the models on the **train** and **validation** data. Let us start by evaluating the classification error on the training data:"
   ]
  },
  {
   "cell_type": "code",
   "execution_count": null,
   "metadata": {},
   "outputs": [],
   "source": [
    "print \"Training data, classification error (model 1):\", evaluate_classification_error(model_1, train_data, target)\n",
    "print \"Training data, classification error (model 2):\", evaluate_classification_error(model_2, train_data, target)\n",
    "print \"Training data, classification error (model 3):\", evaluate_classification_error(model_3, train_data, target)"
   ]
  },
  {
   "cell_type": "markdown",
   "metadata": {},
   "source": [
    "Now evaluate the classification error on the validation data."
   ]
  },
  {
   "cell_type": "code",
   "execution_count": null,
   "metadata": {},
   "outputs": [],
   "source": []
  },
  {
   "cell_type": "markdown",
   "metadata": {},
   "source": [
    "**Quiz Question:** Which tree has the smallest error on the validation data?\n",
    "\n",
    "**Quiz Question:** Does the tree with the smallest error in the training data also have the smallest error in the validation data?\n",
    "\n",
    "**Quiz Question:** Is it always true that the tree with the lowest classification error on the **training** set will result in the lowest classification error in the **validation** set?\n",
    "\n",
    "\n",
    "### Measuring the complexity of the tree\n",
    "\n",
    "Recall in the lecture that we talked about deeper trees being more complex. We will measure the complexity of the tree as\n",
    "\n",
    "```\n",
    "  complexity(T) = number of leaves in the tree T\n",
    "```\n",
    "\n",
    "Here, we provide a function `count_leaves` that counts the number of leaves in a tree. Using this implementation, compute the number of nodes in `model_1`, `model_2`, and `model_3`. "
   ]
  },
  {
   "cell_type": "code",
   "execution_count": null,
   "metadata": {
    "collapsed": true
   },
   "outputs": [],
   "source": [
    "def count_leaves(tree):\n",
    "    if tree['is_leaf']:\n",
    "        return 1\n",
    "    return count_leaves(tree['left']) + count_leaves(tree['right'])"
   ]
  },
  {
   "cell_type": "markdown",
   "metadata": {},
   "source": [
    "Compute the number of nodes in `model_1`, `model_2`, and `model_3`."
   ]
  },
  {
   "cell_type": "code",
   "execution_count": null,
   "metadata": {},
   "outputs": [],
   "source": []
  },
  {
   "cell_type": "markdown",
   "metadata": {},
   "source": [
    "**Quiz Question:** Which tree has the largest complexity?\n",
    "\n",
    "**Quiz Question:** Is it always true that the most complex tree will result in the lowest classification error in the **validation_set**?"
   ]
  },
  {
   "cell_type": "markdown",
   "metadata": {},
   "source": [
    "# Exploring the effect of min_error\n",
    "\n",
    "We will compare three models trained with different values of the stopping criterion. We intentionally picked models at the extreme ends (**negative**, **just right**, and **too positive**).\n",
    "\n",
    "Train three models with these parameters:\n",
    "1. **model_4**: `min_error_reduction = -1` (ignoring this early stopping condition)\n",
    "2. **model_5**: `min_error_reduction = 0` (just right)\n",
    "3. **model_6**: `min_error_reduction = 5` (too positive)\n",
    "\n",
    "For each of these three, we set `max_depth = 6`, and `min_node_size = 0`.\n",
    "\n",
    "** Note:** Each tree can take up to 30 seconds to train."
   ]
  },
  {
   "cell_type": "code",
   "execution_count": null,
   "metadata": {},
   "outputs": [],
   "source": [
    "model_4 = \n",
    "model_5 =\n",
    "model_6 = "
   ]
  },
  {
   "cell_type": "markdown",
   "metadata": {},
   "source": [
    "Calculate the accuracy of each model (**model_4**, **model_5**, or **model_6**) on the validation set. "
   ]
  },
  {
   "cell_type": "code",
   "execution_count": null,
   "metadata": {},
   "outputs": [],
   "source": [
    "print \"Validation data, classification error (model 4):\", evaluate_classification_error(model_4, validation_set, target)\n",
    "print \"Validation data, classification error (model 5):\", evaluate_classification_error(model_5, validation_set, target)\n",
    "print \"Validation data, classification error (model 6):\", evaluate_classification_error(model_6, validation_set, target)"
   ]
  },
  {
   "cell_type": "markdown",
   "metadata": {},
   "source": [
    "Using the `count_leaves` function, compute the number of leaves in each of each models in (**model_4**, **model_5**, and **model_6**). "
   ]
  },
  {
   "cell_type": "code",
   "execution_count": null,
   "metadata": {},
   "outputs": [],
   "source": []
  },
  {
   "cell_type": "markdown",
   "metadata": {},
   "source": [
    "**Quiz Question:** Using the complexity definition above, which model (**model_4**, **model_5**, or **model_6**) has the largest complexity?\n",
    "\n",
    "Did this match your expectation?\n",
    "\n",
    "**Quiz Question:** **model_4** and **model_5** have similar classification error on the validation set but **model_5** has lower complexity. Should you pick **model_5** over **model_4**?\n"
   ]
  },
  {
   "cell_type": "markdown",
   "metadata": {},
   "source": [
    "# Exploring the effect of min_node_size\n",
    "\n",
    "We will compare three models trained with different values of the stopping criterion. Again, intentionally picked models at the extreme ends (**too small**, **just right**, and **just right**).\n",
    "\n",
    "Train three models with these parameters:\n",
    "1. **model_7**: min_node_size = 0 (too small)\n",
    "2. **model_8**: min_node_size = 2000 (just right)\n",
    "3. **model_9**: min_node_size = 50000 (too large)\n",
    "\n",
    "For each of these three, we set `max_depth = 6`, and `min_error_reduction = -1`.\n",
    "\n",
    "** Note:** Each tree can take up to 30 seconds to train."
   ]
  },
  {
   "cell_type": "code",
   "execution_count": null,
   "metadata": {
    "scrolled": true
   },
   "outputs": [],
   "source": [
    "model_7 = \n",
    "model_8 = \n",
    "model_9 = "
   ]
  },
  {
   "cell_type": "markdown",
   "metadata": {},
   "source": [
    "Now, let us evaluate the models (**model_7**, **model_8**, or **model_9**) on the **validation_set**."
   ]
  },
  {
   "cell_type": "code",
   "execution_count": null,
   "metadata": {},
   "outputs": [],
   "source": []
  },
  {
   "cell_type": "markdown",
   "metadata": {},
   "source": [
    "Using the `count_leaves` function, compute the number of leaves in each of each models (**model_7**, **model_8**, and **model_9**). "
   ]
  },
  {
   "cell_type": "code",
   "execution_count": null,
   "metadata": {},
   "outputs": [],
   "source": []
  },
  {
   "cell_type": "markdown",
   "metadata": {},
   "source": [
    "**Quiz Question:** Using the results obtained in this section, which model (**model_7**, **model_8**, or **model_9**) would you choose to use?"
   ]
  }
 ],
 "metadata": {
  "kernelspec": {
   "display_name": "exp-python3",
   "language": "python",
   "name": "exp-python3"
  },
  "language_info": {
   "codemirror_mode": {
    "name": "ipython",
    "version": 3
   },
   "file_extension": ".py",
   "mimetype": "text/x-python",
   "name": "python",
   "nbconvert_exporter": "python",
   "pygments_lexer": "ipython3",
   "version": "3.6.0"
  }
 },
 "nbformat": 4,
 "nbformat_minor": 1
}
