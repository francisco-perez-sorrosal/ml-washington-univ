{
 "cells": [
  {
   "cell_type": "markdown",
   "metadata": {},
   "source": [
    "# Identifying safe loans with decision trees"
   ]
  },
  {
   "cell_type": "markdown",
   "metadata": {},
   "source": [
    "The [LendingClub](https://www.lendingclub.com/) is a peer-to-peer leading company that directly connects borrowers and potential lenders/investors. In this notebook, you will build a classification model to predict whether or not a loan provided by LendingClub is likely to [default](https://en.wikipedia.org/wiki/Default_%28finance%29).\n",
    "\n",
    "In this notebook you will use data from the LendingClub to predict whether a loan will be paid off in full or the loan will be [charged off](https://en.wikipedia.org/wiki/Charge-off) and possibly go into default. In this assignment you will:\n",
    "\n",
    "* Use SFrames to do some feature engineering.\n",
    "* Train a decision-tree on the LendingClub dataset.\n",
    "* Visualize the tree.\n",
    "* Predict whether a loan will default along with prediction probabilities (on a validation set).\n",
    "* Train a complex tree model and compare it to simple tree model.\n",
    "\n",
    "Let's get started!"
   ]
  },
  {
   "cell_type": "markdown",
   "metadata": {},
   "source": [
    "## Fire up GraphLab Create"
   ]
  },
  {
   "cell_type": "markdown",
   "metadata": {},
   "source": [
    "Make sure you have the latest version of GraphLab Create. If you don't find the decision tree module, then you would need to upgrade GraphLab Create using\n",
    "\n",
    "```\n",
    "   pip install graphlab-create --upgrade\n",
    "```"
   ]
  },
  {
   "cell_type": "code",
   "execution_count": 1,
   "metadata": {},
   "outputs": [],
   "source": [
    "# import graphlab\n",
    "# graphlab.canvas.set_target('ipynb')\n",
    "import turicreate as graphlab\n",
    "graphlab.visualization.set_target('auto')"
   ]
  },
  {
   "cell_type": "markdown",
   "metadata": {},
   "source": [
    "# Load LendingClub dataset"
   ]
  },
  {
   "cell_type": "markdown",
   "metadata": {},
   "source": [
    "We will be using a dataset from the [LendingClub](https://www.lendingclub.com/). A parsed and cleaned form of the dataset is availiable [here](https://github.com/learnml/machine-learning-specialization-private). Make sure you **download the dataset** before running the following command."
   ]
  },
  {
   "cell_type": "code",
   "execution_count": 2,
   "metadata": {},
   "outputs": [],
   "source": [
    "loans = graphlab.SFrame('lending-club-data.gl/')"
   ]
  },
  {
   "cell_type": "markdown",
   "metadata": {},
   "source": [
    "## Exploring some features\n",
    "\n",
    "Let's quickly explore what the dataset looks like. First, let's print out the column names to see what features we have in this dataset."
   ]
  },
  {
   "cell_type": "code",
   "execution_count": 3,
   "metadata": {},
   "outputs": [
    {
     "data": {
      "text/html": [
       "<pre>Materializing SFrame</pre>"
      ],
      "text/plain": [
       "Materializing SFrame"
      ]
     },
     "metadata": {},
     "output_type": "display_data"
    },
    {
     "data": {
      "text/html": [
       "<pre>Warning: Skipping column 'mths_since_last_major_derog' [string]. Unable to show more than 50 columns.</pre>"
      ],
      "text/plain": [
       "Warning: Skipping column 'mths_since_last_major_derog' [string]. Unable to show more than 50 columns."
      ]
     },
     "metadata": {},
     "output_type": "display_data"
    },
    {
     "data": {
      "text/html": [
       "<pre>Further warnings of more than 50 columns will be suppressed.</pre>"
      ],
      "text/plain": [
       "Further warnings of more than 50 columns will be suppressed."
      ]
     },
     "metadata": {},
     "output_type": "display_data"
    },
    {
     "data": {
      "text/html": [
       "<html>                 <body>                     <iframe style=\"border:0;margin:0\" width=\"1000\" height=\"20400\" srcdoc='<html lang=\"en\">                         <head>                             <script src=\"https://cdnjs.cloudflare.com/ajax/libs/vega/3.0.8/vega.js\"></script>                             <script src=\"https://cdnjs.cloudflare.com/ajax/libs/vega-embed/3.0.0-rc7/vega-embed.js\"></script>                             <script src=\"https://cdnjs.cloudflare.com/ajax/libs/vega-tooltip/0.5.1/vega-tooltip.min.js\"></script>                             <link rel=\"stylesheet\" type=\"text/css\" href=\"https://cdnjs.cloudflare.com/ajax/libs/vega-tooltip/0.5.1/vega-tooltip.min.css\">                             <style>                             .vega-actions > a{                                 color:white;                                 text-decoration: none;                                 font-family: \"Arial\";                                 cursor:pointer;                                 padding:5px;                                 background:#AAAAAA;                                 border-radius:4px;                                 padding-left:10px;                                 padding-right:10px;                                 margin-right:5px;                             }                             .vega-actions{                                 margin-top:20px;                                 text-align:center                             }                            .vega-actions > a{                                 background:#999999;                            }                             </style>                         </head>                         <body>                             <div id=\"vis\">                             </div>                             <script>                                 var vega_json = \"{\\\"$schema\\\": \\\"https://vega.github.io/schema/vega/v4.json\\\", \\\"metadata\\\": {\\\"bubbleOpts\\\": {\\\"showAllFields\\\": false, \\\"fields\\\": [{\\\"field\\\": \\\"left\\\"}, {\\\"field\\\": \\\"right\\\"}, {\\\"field\\\": \\\"count\\\"}, {\\\"field\\\": \\\"label\\\"}]}}, \\\"width\\\": 800, \\\"height\\\": 20180, \\\"padding\\\": 8, \\\"data\\\": [{\\\"name\\\": \\\"pts_store\\\"}, {\\\"name\\\": \\\"source_2\\\", \\\"values\\\": [{\\\"a\\\": 0, \\\"title\\\": \\\"id\\\", \\\"num_row\\\": 122607, \\\"type\\\": \\\"integer\\\", \\\"num_unique\\\": 122607, \\\"num_missing\\\": 0, \\\"mean\\\": 4728452.039141, \\\"min\\\": 54734.0, \\\"max\\\": 37841276.0, \\\"median\\\": 1621211.0, \\\"stdev\\\": 5938492.77332, \\\"numeric\\\": [{\\\"left\\\": -411512, \\\"right\\\": 1524160.0, \\\"count\\\": 57529}, {\\\"left\\\": 1524160.0, \\\"right\\\": 3459830.0, \\\"count\\\": 15678}, {\\\"left\\\": 3459830.0, \\\"right\\\": 5395500.0, \\\"count\\\": 9742}, {\\\"left\\\": 5395500.0, \\\"right\\\": 7331170.0, \\\"count\\\": 12730}, {\\\"left\\\": 7331170.0, \\\"right\\\": 9266840.0, \\\"count\\\": 7921}, {\\\"left\\\": 9266840.0, \\\"right\\\": 11202500.0, \\\"count\\\": 4483}, {\\\"left\\\": 11202500.0, \\\"right\\\": 13138200.0, \\\"count\\\": 4627}, {\\\"left\\\": 13138200.0, \\\"right\\\": 15073900.0, \\\"count\\\": 2141}, {\\\"left\\\": 15073900.0, \\\"right\\\": 17009500.0, \\\"count\\\": 1681}, {\\\"left\\\": 17009500.0, \\\"right\\\": 18945200.0, \\\"count\\\": 1120}, {\\\"left\\\": 18945200.0, \\\"right\\\": 20880900.0, \\\"count\\\": 1397}, {\\\"left\\\": 20880900.0, \\\"right\\\": 22816500.0, \\\"count\\\": 759}, {\\\"left\\\": 22816500.0, \\\"right\\\": 24752200.0, \\\"count\\\": 570}, {\\\"left\\\": 24752200.0, \\\"right\\\": 26687900.0, \\\"count\\\": 452}, {\\\"left\\\": 26687900.0, \\\"right\\\": 28623600.0, \\\"count\\\": 368}, {\\\"left\\\": 28623600.0, \\\"right\\\": 30559200.0, \\\"count\\\": 438}, {\\\"left\\\": 30559200.0, \\\"right\\\": 32494900.0, \\\"count\\\": 378}, {\\\"left\\\": 32494900.0, \\\"right\\\": 34430600.0, \\\"count\\\": 217}, {\\\"left\\\": 34430600.0, \\\"right\\\": 36366200.0, \\\"count\\\": 291}, {\\\"left\\\": 36366200.0, \\\"right\\\": 38301900.0, \\\"count\\\": 85}], \\\"categorical\\\": []}, {\\\"a\\\": 1, \\\"title\\\": \\\"member_id\\\", \\\"num_row\\\": 122607, \\\"type\\\": \\\"integer\\\", \\\"num_unique\\\": 122607, \\\"num_missing\\\": 0, \\\"mean\\\": 5493222.460855, \\\"min\\\": 70473.0, \\\"max\\\": 40604243.0, \\\"median\\\": 1878638.0, \\\"stdev\\\": 6604666.545177, \\\"numeric\\\": [{\\\"left\\\": -1141210.0, \\\"right\\\": 1017550.0, \\\"count\\\": 28540}, {\\\"left\\\": 1017550.0, \\\"right\\\": 3176300.0, \\\"count\\\": 38961}, {\\\"left\\\": 3176300.0, \\\"right\\\": 5335060.0, \\\"count\\\": 10928}, {\\\"left\\\": 5335060.0, \\\"right\\\": 7493820.0, \\\"count\\\": 10361}, {\\\"left\\\": 7493820.0, \\\"right\\\": 9652570.0, \\\"count\\\": 10440}, {\\\"left\\\": 9652570.0, \\\"right\\\": 11811300.0, \\\"count\\\": 5939}, {\\\"left\\\": 11811300.0, \\\"right\\\": 13970100.0, \\\"count\\\": 4823}, {\\\"left\\\": 13970100.0, \\\"right\\\": 16128800.0, \\\"count\\\": 3852}, {\\\"left\\\": 16128800.0, \\\"right\\\": 18287600.0, \\\"count\\\": 2129}, {\\\"left\\\": 18287600.0, \\\"right\\\": 20446400.0, \\\"count\\\": 1399}, {\\\"left\\\": 20446400.0, \\\"right\\\": 22605100.0, \\\"count\\\": 1316}, {\\\"left\\\": 22605100.0, \\\"right\\\": 24763900.0, \\\"count\\\": 1071}, {\\\"left\\\": 24763900.0, \\\"right\\\": 26922600.0, \\\"count\\\": 544}, {\\\"left\\\": 26922600.0, \\\"right\\\": 29081400.0, \\\"count\\\": 527}, {\\\"left\\\": 29081400.0, \\\"right\\\": 31240100.0, \\\"count\\\": 417}, {\\\"left\\\": 31240100.0, \\\"right\\\": 33398900.0, \\\"count\\\": 436}, {\\\"left\\\": 33398900.0, \\\"right\\\": 35557600.0, \\\"count\\\": 356}, {\\\"left\\\": 35557600.0, \\\"right\\\": 37716400.0, \\\"count\\\": 310}, {\\\"left\\\": 37716400.0, \\\"right\\\": 39875200.0, \\\"count\\\": 209}, {\\\"left\\\": 39875200.0, \\\"right\\\": 42033900.0, \\\"count\\\": 49}], \\\"categorical\\\": []}, {\\\"a\\\": 2, \\\"title\\\": \\\"loan_amnt\\\", \\\"num_row\\\": 122607, \\\"type\\\": \\\"integer\\\", \\\"num_unique\\\": 1235, \\\"num_missing\\\": 0, \\\"mean\\\": 12809.733743, \\\"min\\\": 500.0, \\\"max\\\": 35000.0, \\\"median\\\": 11000.0, \\\"stdev\\\": 7932.281049, \\\"numeric\\\": [{\\\"left\\\": 150, \\\"right\\\": 1910, \\\"count\\\": 2360}, {\\\"left\\\": 1910, \\\"right\\\": 3670, \\\"count\\\": 8097}, {\\\"left\\\": 3670, \\\"right\\\": 5430, \\\"count\\\": 11305}, {\\\"left\\\": 5430, \\\"right\\\": 7190, \\\"count\\\": 12106}, {\\\"left\\\": 7190, \\\"right\\\": 8950, \\\"count\\\": 10820}, {\\\"left\\\": 8950, \\\"right\\\": 10710, \\\"count\\\": 15665}, {\\\"left\\\": 10710, \\\"right\\\": 12470, \\\"count\\\": 11408}, {\\\"left\\\": 12470, \\\"right\\\": 14230, \\\"count\\\": 5868}, {\\\"left\\\": 14230, \\\"right\\\": 15990, \\\"count\\\": 8401}, {\\\"left\\\": 15990, \\\"right\\\": 17750, \\\"count\\\": 6179}, {\\\"left\\\": 17750, \\\"right\\\": 19510, \\\"count\\\": 5123}, {\\\"left\\\": 19510, \\\"right\\\": 21270, \\\"count\\\": 8001}, {\\\"left\\\": 21270, \\\"right\\\": 23030, \\\"count\\\": 2090}, {\\\"left\\\": 23030, \\\"right\\\": 24790, \\\"count\\\": 3115}, {\\\"left\\\": 24790, \\\"right\\\": 26550, \\\"count\\\": 3797}, {\\\"left\\\": 26550, \\\"right\\\": 28310, \\\"count\\\": 1802}, {\\\"left\\\": 28310, \\\"right\\\": 30070, \\\"count\\\": 2167}, {\\\"left\\\": 30070, \\\"right\\\": 31830, \\\"count\\\": 411}, {\\\"left\\\": 31830, \\\"right\\\": 33590, \\\"count\\\": 552}, {\\\"left\\\": 33590, \\\"right\\\": 35350, \\\"count\\\": 3340}], \\\"categorical\\\": []}, {\\\"a\\\": 3, \\\"title\\\": \\\"funded_amnt\\\", \\\"num_row\\\": 122607, \\\"type\\\": \\\"integer\\\", \\\"num_unique\\\": 1248, \\\"num_missing\\\": 0, \\\"mean\\\": 12736.123753, \\\"min\\\": 500.0, \\\"max\\\": 35000.0, \\\"median\\\": 10975.0, \\\"stdev\\\": 7887.134954, \\\"numeric\\\": [{\\\"left\\\": 150, \\\"right\\\": 1910, \\\"count\\\": 2380}, {\\\"left\\\": 1910, \\\"right\\\": 3670, \\\"count\\\": 8132}, {\\\"left\\\": 3670, \\\"right\\\": 5430, \\\"count\\\": 11387}, {\\\"left\\\": 5430, \\\"right\\\": 7190, \\\"count\\\": 12218}, {\\\"left\\\": 7190, \\\"right\\\": 8950, \\\"count\\\": 10846}, {\\\"left\\\": 8950, \\\"right\\\": 10710, \\\"count\\\": 15704}, {\\\"left\\\": 10710, \\\"right\\\": 12470, \\\"count\\\": 11457}, {\\\"left\\\": 12470, \\\"right\\\": 14230, \\\"count\\\": 5965}, {\\\"left\\\": 14230, \\\"right\\\": 15990, \\\"count\\\": 8474}, {\\\"left\\\": 15990, \\\"right\\\": 17750, \\\"count\\\": 6190}, {\\\"left\\\": 17750, \\\"right\\\": 19510, \\\"count\\\": 5117}, {\\\"left\\\": 19510, \\\"right\\\": 21270, \\\"count\\\": 7861}, {\\\"left\\\": 21270, \\\"right\\\": 23030, \\\"count\\\": 2109}, {\\\"left\\\": 23030, \\\"right\\\": 24790, \\\"count\\\": 3040}, {\\\"left\\\": 24790, \\\"right\\\": 26550, \\\"count\\\": 3594}, {\\\"left\\\": 26550, \\\"right\\\": 28310, \\\"count\\\": 1797}, {\\\"left\\\": 28310, \\\"right\\\": 30070, \\\"count\\\": 2136}, {\\\"left\\\": 30070, \\\"right\\\": 31830, \\\"count\\\": 407}, {\\\"left\\\": 31830, \\\"right\\\": 33590, \\\"count\\\": 544}, {\\\"left\\\": 33590, \\\"right\\\": 35350, \\\"count\\\": 3249}], \\\"categorical\\\": []}, {\\\"a\\\": 4, \\\"title\\\": \\\"funded_amnt_inv\\\", \\\"num_row\\\": 122607, \\\"type\\\": \\\"integer\\\", \\\"num_unique\\\": 7023, \\\"num_missing\\\": 0, \\\"mean\\\": 12497.828395, \\\"min\\\": 0.0, \\\"max\\\": 35000.0, \\\"median\\\": 10500.0, \\\"stdev\\\": 7946.699119, \\\"numeric\\\": [{\\\"left\\\": -697.7, \\\"right\\\": 1123.9, \\\"count\\\": 1727}, {\\\"left\\\": 1123.9, \\\"right\\\": 2945.5, \\\"count\\\": 6065}, {\\\"left\\\": 2945.5, \\\"right\\\": 4767.1, \\\"count\\\": 9618}, {\\\"left\\\": 4767.1, \\\"right\\\": 6588.7, \\\"count\\\": 14837}, {\\\"left\\\": 6588.7, \\\"right\\\": 8410.3, \\\"count\\\": 12632}, {\\\"left\\\": 8410.3, \\\"right\\\": 10231.9, \\\"count\\\": 15689}, {\\\"left\\\": 10231.9, \\\"right\\\": 12053.5, \\\"count\\\": 11836}, {\\\"left\\\": 12053.5, \\\"right\\\": 13875.1, \\\"count\\\": 4732}, {\\\"left\\\": 13875.1, \\\"right\\\": 15696.7, \\\"count\\\": 9861}, {\\\"left\\\": 15696.7, \\\"right\\\": 17518.3, \\\"count\\\": 6129}, {\\\"left\\\": 17518.3, \\\"right\\\": 19339.9, \\\"count\\\": 5137}, {\\\"left\\\": 19339.9, \\\"right\\\": 21161.5, \\\"count\\\": 7622}, {\\\"left\\\": 21161.5, \\\"right\\\": 22983.1, \\\"count\\\": 2192}, {\\\"left\\\": 22983.1, \\\"right\\\": 24804.7, \\\"count\\\": 3549}, {\\\"left\\\": 24804.7, \\\"right\\\": 26626.3, \\\"count\\\": 2923}, {\\\"left\\\": 26626.3, \\\"right\\\": 28447.9, \\\"count\\\": 1798}, {\\\"left\\\": 28447.9, \\\"right\\\": 30269.5, \\\"count\\\": 2167}, {\\\"left\\\": 30269.5, \\\"right\\\": 32091.1, \\\"count\\\": 561}, {\\\"left\\\": 32091.1, \\\"right\\\": 33912.7, \\\"count\\\": 406}, {\\\"left\\\": 33912.7, \\\"right\\\": 35734.3, \\\"count\\\": 3126}], \\\"categorical\\\": []}, {\\\"a\\\": 5, \\\"title\\\": \\\"term\\\", \\\"num_row\\\": 122607, \\\"type\\\": \\\"str\\\", \\\"num_unique\\\": 2, \\\"num_missing\\\": 0, \\\"categorical\\\": [{\\\"label\\\": \\\" 36 months\\\", \\\"label_idx\\\": 0, \\\"count\\\": 97801, \\\"percentage\\\": \\\"79.7679%\\\"}, {\\\"label\\\": \\\" 60 months\\\", \\\"label_idx\\\": 1, \\\"count\\\": 24806, \\\"percentage\\\": \\\"20.2321%\\\"}], \\\"numeric\\\": []}, {\\\"a\\\": 6, \\\"title\\\": \\\"int_rate\\\", \\\"num_row\\\": 122607, \\\"type\\\": \\\"float\\\", \\\"num_unique\\\": 505, \\\"num_missing\\\": 0, \\\"mean\\\": 13.639487, \\\"min\\\": 5.42, \\\"max\\\": 26.06, \\\"median\\\": 13.48, \\\"stdev\\\": 4.390818, \\\"numeric\\\": [{\\\"left\\\": 5.3832, \\\"right\\\": 6.41808, \\\"count\\\": 3937}, {\\\"left\\\": 6.41808, \\\"right\\\": 7.45296, \\\"count\\\": 4538}, {\\\"left\\\": 7.45296, \\\"right\\\": 8.48784, \\\"count\\\": 8931}, {\\\"left\\\": 8.48784, \\\"right\\\": 9.52272, \\\"count\\\": 5411}, {\\\"left\\\": 9.52272, \\\"right\\\": 10.5576, \\\"count\\\": 7416}, {\\\"left\\\": 10.5576, \\\"right\\\": 11.5925, \\\"count\\\": 10682}, {\\\"left\\\": 11.5925, \\\"right\\\": 12.6274, \\\"count\\\": 11032}, {\\\"left\\\": 12.6274, \\\"right\\\": 13.6622, \\\"count\\\": 11574}, {\\\"left\\\": 13.6622, \\\"right\\\": 14.6971, \\\"count\\\": 13129}, {\\\"left\\\": 14.6971, \\\"right\\\": 15.732, \\\"count\\\": 8858}, {\\\"left\\\": 15.732, \\\"right\\\": 16.7669, \\\"count\\\": 8061}, {\\\"left\\\": 16.7669, \\\"right\\\": 17.8018, \\\"count\\\": 8210}, {\\\"left\\\": 17.8018, \\\"right\\\": 18.8366, \\\"count\\\": 5403}, {\\\"left\\\": 18.8366, \\\"right\\\": 19.8715, \\\"count\\\": 4692}, {\\\"left\\\": 19.8715, \\\"right\\\": 20.9064, \\\"count\\\": 2512}, {\\\"left\\\": 20.9064, \\\"right\\\": 21.9413, \\\"count\\\": 2540}, {\\\"left\\\": 21.9413, \\\"right\\\": 22.9762, \\\"count\\\": 2263}, {\\\"left\\\": 22.9762, \\\"right\\\": 24.011, \\\"count\\\": 1696}, {\\\"left\\\": 24.011, \\\"right\\\": 25.0459, \\\"count\\\": 1148}, {\\\"left\\\": 25.0459, \\\"right\\\": 26.0808, \\\"count\\\": 574}], \\\"categorical\\\": []}, {\\\"a\\\": 7, \\\"title\\\": \\\"installment\\\", \\\"num_row\\\": 122607, \\\"type\\\": \\\"float\\\", \\\"num_unique\\\": 32387, \\\"num_missing\\\": 0, \\\"mean\\\": 396.623285, \\\"min\\\": 15.67, \\\"max\\\": 1408.13, \\\"median\\\": 348.18, \\\"stdev\\\": 239.474959, \\\"numeric\\\": [{\\\"left\\\": -13.9466, \\\"right\\\": 58.5935, \\\"count\\\": 2193}, {\\\"left\\\": 58.5935, \\\"right\\\": 131.134, \\\"count\\\": 10059}, {\\\"left\\\": 131.134, \\\"right\\\": 203.674, \\\"count\\\": 15781}, {\\\"left\\\": 203.674, \\\"right\\\": 276.214, \\\"count\\\": 15485}, {\\\"left\\\": 276.214, \\\"right\\\": 348.754, \\\"count\\\": 18062}, {\\\"left\\\": 348.754, \\\"right\\\": 421.294, \\\"count\\\": 14871}, {\\\"left\\\": 421.294, \\\"right\\\": 493.834, \\\"count\\\": 11073}, {\\\"left\\\": 493.834, \\\"right\\\": 566.375, \\\"count\\\": 9749}, {\\\"left\\\": 566.375, \\\"right\\\": 638.915, \\\"count\\\": 6439}, {\\\"left\\\": 638.915, \\\"right\\\": 711.455, \\\"count\\\": 5938}, {\\\"left\\\": 711.455, \\\"right\\\": 783.995, \\\"count\\\": 3461}, {\\\"left\\\": 783.995, \\\"right\\\": 856.535, \\\"count\\\": 2955}, {\\\"left\\\": 856.535, \\\"right\\\": 929.075, \\\"count\\\": 2251}, {\\\"left\\\": 929.075, \\\"right\\\": 1001.62, \\\"count\\\": 1565}, {\\\"left\\\": 1001.62, \\\"right\\\": 1074.16, \\\"count\\\": 742}, {\\\"left\\\": 1074.16, \\\"right\\\": 1146.7, \\\"count\\\": 626}, {\\\"left\\\": 1146.7, \\\"right\\\": 1219.24, \\\"count\\\": 617}, {\\\"left\\\": 1219.24, \\\"right\\\": 1291.78, \\\"count\\\": 551}, {\\\"left\\\": 1291.78, \\\"right\\\": 1364.32, \\\"count\\\": 171}, {\\\"left\\\": 1364.32, \\\"right\\\": 1436.86, \\\"count\\\": 18}], \\\"categorical\\\": []}, {\\\"a\\\": 8, \\\"title\\\": \\\"grade\\\", \\\"num_row\\\": 122607, \\\"type\\\": \\\"str\\\", \\\"num_unique\\\": 7, \\\"num_missing\\\": 0, \\\"categorical\\\": [{\\\"label\\\": \\\"B\\\", \\\"label_idx\\\": 0, \\\"count\\\": 37172, \\\"percentage\\\": \\\"30.318%\\\"}, {\\\"label\\\": \\\"C\\\", \\\"label_idx\\\": 1, \\\"count\\\": 29950, \\\"percentage\\\": \\\"24.4276%\\\"}, {\\\"label\\\": \\\"A\\\", \\\"label_idx\\\": 2, \\\"count\\\": 22314, \\\"percentage\\\": \\\"18.1996%\\\"}, {\\\"label\\\": \\\"D\\\", \\\"label_idx\\\": 3, \\\"count\\\": 19175, \\\"percentage\\\": \\\"15.6394%\\\"}, {\\\"label\\\": \\\"E\\\", \\\"label_idx\\\": 4, \\\"count\\\": 8990, \\\"percentage\\\": \\\"7.33237%\\\"}, {\\\"label\\\": \\\"F\\\", \\\"label_idx\\\": 5, \\\"count\\\": 3932, \\\"percentage\\\": \\\"3.20699%\\\"}, {\\\"label\\\": \\\"G\\\", \\\"label_idx\\\": 6, \\\"count\\\": 1074, \\\"percentage\\\": \\\"0.87597%\\\"}], \\\"numeric\\\": []}, {\\\"a\\\": 9, \\\"title\\\": \\\"sub_grade\\\", \\\"num_row\\\": 122607, \\\"type\\\": \\\"str\\\", \\\"num_unique\\\": 35, \\\"num_missing\\\": 0, \\\"categorical\\\": [{\\\"label\\\": \\\"B3\\\", \\\"label_idx\\\": 0, \\\"count\\\": 9036, \\\"percentage\\\": \\\"7.36989%\\\"}, {\\\"label\\\": \\\"B4\\\", \\\"label_idx\\\": 1, \\\"count\\\": 8279, \\\"percentage\\\": \\\"6.75247%\\\"}, {\\\"label\\\": \\\"B2\\\", \\\"label_idx\\\": 2, \\\"count\\\": 7096, \\\"percentage\\\": \\\"5.7876%\\\"}, {\\\"label\\\": \\\"C1\\\", \\\"label_idx\\\": 3, \\\"count\\\": 7068, \\\"percentage\\\": \\\"5.76476%\\\"}, {\\\"label\\\": \\\"B5\\\", \\\"label_idx\\\": 4, \\\"count\\\": 6924, \\\"percentage\\\": \\\"5.64731%\\\"}, {\\\"label\\\": \\\"C2\\\", \\\"label_idx\\\": 5, \\\"count\\\": 6726, \\\"percentage\\\": \\\"5.48582%\\\"}, {\\\"label\\\": \\\"A5\\\", \\\"label_idx\\\": 6, \\\"count\\\": 6027, \\\"percentage\\\": \\\"4.91571%\\\"}, {\\\"label\\\": \\\"A4\\\", \\\"label_idx\\\": 7, \\\"count\\\": 5993, \\\"percentage\\\": \\\"4.88798%\\\"}, {\\\"label\\\": \\\"B1\\\", \\\"label_idx\\\": 8, \\\"count\\\": 5837, \\\"percentage\\\": \\\"4.76074%\\\"}, {\\\"label\\\": \\\"C3\\\", \\\"label_idx\\\": 9, \\\"count\\\": 5690, \\\"percentage\\\": \\\"4.64084%\\\"}, {\\\"label\\\": \\\"Other (25 labels)\\\", \\\"label_idx\\\": 10, \\\"count\\\": 53931, \\\"percentage\\\": \\\"43.9869%\\\"}], \\\"numeric\\\": []}, {\\\"a\\\": 10, \\\"title\\\": \\\"emp_title\\\", \\\"num_row\\\": 122607, \\\"type\\\": \\\"str\\\", \\\"num_unique\\\": 77171, \\\"num_missing\\\": 2, \\\"categorical\\\": [{\\\"label\\\": \\\"\\\", \\\"label_idx\\\": 0, \\\"count\\\": 6829, \\\"percentage\\\": \\\"5.56983%\\\"}, {\\\"label\\\": \\\"Teacher\\\", \\\"label_idx\\\": 1, \\\"count\\\": 458, \\\"percentage\\\": \\\"0.373551%\\\"}, {\\\"label\\\": \\\"Manager\\\", \\\"label_idx\\\": 2, \\\"count\\\": 452, \\\"percentage\\\": \\\"0.368658%\\\"}, {\\\"label\\\": \\\"US Army\\\", \\\"label_idx\\\": 3, \\\"count\\\": 323, \\\"percentage\\\": \\\"0.263443%\\\"}, {\\\"label\\\": \\\"Bank of America\\\", \\\"label_idx\\\": 4, \\\"count\\\": 256, \\\"percentage\\\": \\\"0.208797%\\\"}, {\\\"label\\\": \\\"Supervisor\\\", \\\"label_idx\\\": 5, \\\"count\\\": 199, \\\"percentage\\\": \\\"0.162307%\\\"}, {\\\"label\\\": \\\"Registered Nurse\\\", \\\"label_idx\\\": 6, \\\"count\\\": 197, \\\"percentage\\\": \\\"0.160676%\\\"}, {\\\"label\\\": \\\"AT&amp;T\\\", \\\"label_idx\\\": 7, \\\"count\\\": 179, \\\"percentage\\\": \\\"0.145995%\\\"}, {\\\"label\\\": \\\"RN\\\", \\\"label_idx\\\": 8, \\\"count\\\": 177, \\\"percentage\\\": \\\"0.144364%\\\"}, {\\\"label\\\": \\\"Kaiser Permanente\\\", \\\"label_idx\\\": 9, \\\"count\\\": 173, \\\"percentage\\\": \\\"0.141101%\\\"}, {\\\"label\\\": \\\"Other (77161 labels)\\\", \\\"label_idx\\\": 10, \\\"count\\\": 113364, \\\"percentage\\\": \\\"92.4613%\\\"}], \\\"numeric\\\": []}, {\\\"a\\\": 11, \\\"title\\\": \\\"emp_length\\\", \\\"num_row\\\": 122607, \\\"type\\\": \\\"str\\\", \\\"num_unique\\\": 12, \\\"num_missing\\\": 0, \\\"categorical\\\": [{\\\"label\\\": \\\"10+ years\\\", \\\"label_idx\\\": 0, \\\"count\\\": 34100, \\\"percentage\\\": \\\"27.8124%\\\"}, {\\\"label\\\": \\\"2 years\\\", \\\"label_idx\\\": 1, \\\"count\\\": 12048, \\\"percentage\\\": \\\"9.82652%\\\"}, {\\\"label\\\": \\\"< 1 year\\\", \\\"label_idx\\\": 2, \\\"count\\\": 11072, \\\"percentage\\\": \\\"9.03048%\\\"}, {\\\"label\\\": \\\"3 years\\\", \\\"label_idx\\\": 3, \\\"count\\\": 10333, \\\"percentage\\\": \\\"8.42774%\\\"}, {\\\"label\\\": \\\"5 years\\\", \\\"label_idx\\\": 4, \\\"count\\\": 9561, \\\"percentage\\\": \\\"7.79809%\\\"}, {\\\"label\\\": \\\"1 year\\\", \\\"label_idx\\\": 5, \\\"count\\\": 8701, \\\"percentage\\\": \\\"7.09666%\\\"}, {\\\"label\\\": \\\"4 years\\\", \\\"label_idx\\\": 6, \\\"count\\\": 8544, \\\"percentage\\\": \\\"6.96861%\\\"}, {\\\"label\\\": \\\"6 years\\\", \\\"label_idx\\\": 7, \\\"count\\\": 7629, \\\"percentage\\\": \\\"6.22232%\\\"}, {\\\"label\\\": \\\"7 years\\\", \\\"label_idx\\\": 8, \\\"count\\\": 6704, \\\"percentage\\\": \\\"5.46788%\\\"}, {\\\"label\\\": \\\"8 years\\\", \\\"label_idx\\\": 9, \\\"count\\\": 5373, \\\"percentage\\\": \\\"4.38229%\\\"}, {\\\"label\\\": \\\"Other (2 labels)\\\", \\\"label_idx\\\": 10, \\\"count\\\": 8542, \\\"percentage\\\": \\\"6.96698%\\\"}], \\\"numeric\\\": []}, {\\\"a\\\": 12, \\\"title\\\": \\\"home_ownership\\\", \\\"num_row\\\": 122607, \\\"type\\\": \\\"str\\\", \\\"num_unique\\\": 4, \\\"num_missing\\\": 0, \\\"categorical\\\": [{\\\"label\\\": \\\"MORTGAGE\\\", \\\"label_idx\\\": 0, \\\"count\\\": 59240, \\\"percentage\\\": \\\"48.317%\\\"}, {\\\"label\\\": \\\"RENT\\\", \\\"label_idx\\\": 1, \\\"count\\\": 53245, \\\"percentage\\\": \\\"43.4274%\\\"}, {\\\"label\\\": \\\"OWN\\\", \\\"label_idx\\\": 2, \\\"count\\\": 9943, \\\"percentage\\\": \\\"8.10965%\\\"}, {\\\"label\\\": \\\"OTHER\\\", \\\"label_idx\\\": 3, \\\"count\\\": 179, \\\"percentage\\\": \\\"0.145995%\\\"}], \\\"numeric\\\": []}, {\\\"a\\\": 13, \\\"title\\\": \\\"annual_inc\\\", \\\"num_row\\\": 122607, \\\"type\\\": \\\"integer\\\", \\\"num_unique\\\": 11239, \\\"num_missing\\\": 4, \\\"mean\\\": 71385.017292, \\\"min\\\": 1896.0, \\\"max\\\": 7141778.0, \\\"median\\\": 60000.0, \\\"stdev\\\": 58414.587235, \\\"numeric\\\": [{\\\"left\\\": -120456, \\\"right\\\": 248184, \\\"count\\\": 121493}, {\\\"left\\\": 248184, \\\"right\\\": 616824, \\\"count\\\": 1011}, {\\\"left\\\": 616824, \\\"right\\\": 985464, \\\"count\\\": 77}, {\\\"left\\\": 985464, \\\"right\\\": 1354100.0, \\\"count\\\": 12}, {\\\"left\\\": 1354100.0, \\\"right\\\": 1722740.0, \\\"count\\\": 3}, {\\\"left\\\": 1722740.0, \\\"right\\\": 2091380.0, \\\"count\\\": 4}, {\\\"left\\\": 2091380.0, \\\"right\\\": 2460020.0, \\\"count\\\": 0}, {\\\"left\\\": 2460020.0, \\\"right\\\": 2828660.0, \\\"count\\\": 0}, {\\\"left\\\": 2828660.0, \\\"right\\\": 3197300.0, \\\"count\\\": 0}, {\\\"left\\\": 3197300.0, \\\"right\\\": 3565940.0, \\\"count\\\": 0}, {\\\"left\\\": 3565940.0, \\\"right\\\": 3934580.0, \\\"count\\\": 0}, {\\\"left\\\": 3934580.0, \\\"right\\\": 4303220.0, \\\"count\\\": 0}, {\\\"left\\\": 4303220.0, \\\"right\\\": 4671860.0, \\\"count\\\": 0}, {\\\"left\\\": 4671860.0, \\\"right\\\": 5040500.0, \\\"count\\\": 0}, {\\\"left\\\": 5040500.0, \\\"right\\\": 5409140.0, \\\"count\\\": 0}, {\\\"left\\\": 5409140.0, \\\"right\\\": 5777780.0, \\\"count\\\": 0}, {\\\"left\\\": 5777780.0, \\\"right\\\": 6146420.0, \\\"count\\\": 2}, {\\\"left\\\": 6146420.0, \\\"right\\\": 6515060.0, \\\"count\\\": 0}, {\\\"left\\\": 6515060.0, \\\"right\\\": 6883700.0, \\\"count\\\": 0}, {\\\"left\\\": 6883700.0, \\\"right\\\": 7252340.0, \\\"count\\\": 1}, {\\\"missing\\\": true, \\\"count\\\": 4}], \\\"categorical\\\": []}, {\\\"a\\\": 14, \\\"title\\\": \\\"is_inc_v\\\", \\\"num_row\\\": 122607, \\\"type\\\": \\\"str\\\", \\\"num_unique\\\": 3, \\\"num_missing\\\": 0, \\\"categorical\\\": [{\\\"label\\\": \\\"Verified\\\", \\\"label_idx\\\": 0, \\\"count\\\": 46090, \\\"percentage\\\": \\\"37.5917%\\\"}, {\\\"label\\\": \\\"Not Verified\\\", \\\"label_idx\\\": 1, \\\"count\\\": 45751, \\\"percentage\\\": \\\"37.3152%\\\"}, {\\\"label\\\": \\\"Source Verified\\\", \\\"label_idx\\\": 2, \\\"count\\\": 30766, \\\"percentage\\\": \\\"25.0932%\\\"}], \\\"numeric\\\": []}, {\\\"a\\\": 15, \\\"title\\\": \\\"issue_d\\\", \\\"num_row\\\": 122607, \\\"type\\\": \\\"str\\\", \\\"num_unique\\\": 91, \\\"num_missing\\\": 0, \\\"categorical\\\": [{\\\"label\\\": \\\"20130801T000000\\\", \\\"label_idx\\\": 0, \\\"count\\\": 3493, \\\"percentage\\\": \\\"2.84894%\\\"}, {\\\"label\\\": \\\"20130501T000000\\\", \\\"label_idx\\\": 1, \\\"count\\\": 3461, \\\"percentage\\\": \\\"2.82284%\\\"}, {\\\"label\\\": \\\"20130601T000000\\\", \\\"label_idx\\\": 2, \\\"count\\\": 3429, \\\"percentage\\\": \\\"2.79674%\\\"}, {\\\"label\\\": \\\"20130701T000000\\\", \\\"label_idx\\\": 3, \\\"count\\\": 3406, \\\"percentage\\\": \\\"2.77798%\\\"}, {\\\"label\\\": \\\"20130401T000000\\\", \\\"label_idx\\\": 4, \\\"count\\\": 3385, \\\"percentage\\\": \\\"2.76085%\\\"}, {\\\"label\\\": \\\"20130901T000000\\\", \\\"label_idx\\\": 5, \\\"count\\\": 3313, \\\"percentage\\\": \\\"2.70213%\\\"}, {\\\"label\\\": \\\"20131001T000000\\\", \\\"label_idx\\\": 6, \\\"count\\\": 3280, \\\"percentage\\\": \\\"2.67521%\\\"}, {\\\"label\\\": \\\"20131101T000000\\\", \\\"label_idx\\\": 7, \\\"count\\\": 3136, \\\"percentage\\\": \\\"2.55777%\\\"}, {\\\"label\\\": \\\"20130301T000000\\\", \\\"label_idx\\\": 8, \\\"count\\\": 3083, \\\"percentage\\\": \\\"2.51454%\\\"}, {\\\"label\\\": \\\"20131201T000000\\\", \\\"label_idx\\\": 9, \\\"count\\\": 3005, \\\"percentage\\\": \\\"2.45092%\\\"}, {\\\"label\\\": \\\"Other (81 labels)\\\", \\\"label_idx\\\": 10, \\\"count\\\": 89616, \\\"percentage\\\": \\\"73.0921%\\\"}], \\\"numeric\\\": []}, {\\\"a\\\": 16, \\\"title\\\": \\\"loan_status\\\", \\\"num_row\\\": 122607, \\\"type\\\": \\\"str\\\", \\\"num_unique\\\": 5, \\\"num_missing\\\": 0, \\\"categorical\\\": [{\\\"label\\\": \\\"Fully Paid\\\", \\\"label_idx\\\": 0, \\\"count\\\": 97544, \\\"percentage\\\": \\\"79.5583%\\\"}, {\\\"label\\\": \\\"Charged Off\\\", \\\"label_idx\\\": 1, \\\"count\\\": 22156, \\\"percentage\\\": \\\"18.0707%\\\"}, {\\\"label\\\": \\\"Does not meet the credit policy.  Status:Fully Paid\\\", \\\"label_idx\\\": 2, \\\"count\\\": 1913, \\\"percentage\\\": \\\"1.56027%\\\"}, {\\\"label\\\": \\\"Does not meet the credit policy.  Status:Charged Off\\\", \\\"label_idx\\\": 3, \\\"count\\\": 755, \\\"percentage\\\": \\\"0.615789%\\\"}, {\\\"label\\\": \\\"Default\\\", \\\"label_idx\\\": 4, \\\"count\\\": 239, \\\"percentage\\\": \\\"0.194932%\\\"}], \\\"numeric\\\": []}, {\\\"a\\\": 17, \\\"title\\\": \\\"pymnt_plan\\\", \\\"num_row\\\": 122607, \\\"type\\\": \\\"str\\\", \\\"num_unique\\\": 1, \\\"num_missing\\\": 0, \\\"categorical\\\": [{\\\"label\\\": \\\"n\\\", \\\"label_idx\\\": 0, \\\"count\\\": 122607, \\\"percentage\\\": \\\"100%\\\"}], \\\"numeric\\\": []}, {\\\"a\\\": 18, \\\"title\\\": \\\"url\\\", \\\"num_row\\\": 122607, \\\"type\\\": \\\"str\\\", \\\"num_unique\\\": 122607, \\\"num_missing\\\": 0, \\\"categorical\\\": [{\\\"label\\\": \\\"https://www.lendingclub.com/browse/loanDetail.action?loan_id=1000030\\\", \\\"label_idx\\\": 0, \\\"count\\\": 1, \\\"percentage\\\": \\\"0.000815614%\\\"}, {\\\"label\\\": \\\"https://www.lendingclub.com/browse/loanDetail.action?loan_id=1000033\\\", \\\"label_idx\\\": 1, \\\"count\\\": 1, \\\"percentage\\\": \\\"0.000815614%\\\"}, {\\\"label\\\": \\\"https://www.lendingclub.com/browse/loanDetail.action?loan_id=1000045\\\", \\\"label_idx\\\": 2, \\\"count\\\": 1, \\\"percentage\\\": \\\"0.000815614%\\\"}, {\\\"label\\\": \\\"https://www.lendingclub.com/browse/loanDetail.action?loan_id=1000095\\\", \\\"label_idx\\\": 3, \\\"count\\\": 1, \\\"percentage\\\": \\\"0.000815614%\\\"}, {\\\"label\\\": \\\"https://www.lendingclub.com/browse/loanDetail.action?loan_id=1000115\\\", \\\"label_idx\\\": 4, \\\"count\\\": 1, \\\"percentage\\\": \\\"0.000815614%\\\"}, {\\\"label\\\": \\\"https://www.lendingclub.com/browse/loanDetail.action?loan_id=1000138\\\", \\\"label_idx\\\": 5, \\\"count\\\": 1, \\\"percentage\\\": \\\"0.000815614%\\\"}, {\\\"label\\\": \\\"https://www.lendingclub.com/browse/loanDetail.action?loan_id=1000142\\\", \\\"label_idx\\\": 6, \\\"count\\\": 1, \\\"percentage\\\": \\\"0.000815614%\\\"}, {\\\"label\\\": \\\"https://www.lendingclub.com/browse/loanDetail.action?loan_id=1000198\\\", \\\"label_idx\\\": 7, \\\"count\\\": 1, \\\"percentage\\\": \\\"0.000815614%\\\"}, {\\\"label\\\": \\\"https://www.lendingclub.com/browse/loanDetail.action?loan_id=1000208\\\", \\\"label_idx\\\": 8, \\\"count\\\": 1, \\\"percentage\\\": \\\"0.000815614%\\\"}, {\\\"label\\\": \\\"https://www.lendingclub.com/browse/loanDetail.action?loan_id=1000242\\\", \\\"label_idx\\\": 9, \\\"count\\\": 1, \\\"percentage\\\": \\\"0.000815614%\\\"}, {\\\"label\\\": \\\"Other (122597 labels)\\\", \\\"label_idx\\\": 10, \\\"count\\\": 122597, \\\"percentage\\\": \\\"99.9918%\\\"}], \\\"numeric\\\": []}, {\\\"a\\\": 19, \\\"title\\\": \\\"desc\\\", \\\"num_row\\\": 122607, \\\"type\\\": \\\"str\\\", \\\"num_unique\\\": 60316, \\\"num_missing\\\": 0, \\\"categorical\\\": [{\\\"label\\\": \\\"\\\", \\\"label_idx\\\": 0, \\\"count\\\": 61901, \\\"percentage\\\": \\\"50.4873%\\\"}, {\\\"label\\\": \\\" \\\", \\\"label_idx\\\": 1, \\\"count\\\": 227, \\\"percentage\\\": \\\"0.185144%\\\"}, {\\\"label\\\": \\\"Debt Consolidation\\\", \\\"label_idx\\\": 2, \\\"count\\\": 12, \\\"percentage\\\": \\\"0.00978737%\\\"}, {\\\"label\\\": \\\"Camping Membership\\\", \\\"label_idx\\\": 3, \\\"count\\\": 8, \\\"percentage\\\": \\\"0.00652491%\\\"}, {\\\"label\\\": \\\"refinancing\\\", \\\"label_idx\\\": 4, \\\"count\\\": 5, \\\"percentage\\\": \\\"0.00407807%\\\"}, {\\\"label\\\": \\\"  Borrower added on 01/14/13 > Debt consolidation<br>\\\", \\\"label_idx\\\": 5, \\\"count\\\": 3, \\\"percentage\\\": \\\"0.00244684%\\\"}, {\\\"label\\\": \\\"  Borrower added on 01/23/14 > Debt consolidation<br>\\\", \\\"label_idx\\\": 6, \\\"count\\\": 3, \\\"percentage\\\": \\\"0.00244684%\\\"}, {\\\"label\\\": \\\"  Borrower added on 02/27/13 > Debt consolidation<br>\\\", \\\"label_idx\\\": 7, \\\"count\\\": 3, \\\"percentage\\\": \\\"0.00244684%\\\"}, {\\\"label\\\": \\\"  Borrower added on 03/17/14 > Debt consolidation<br>\\\", \\\"label_idx\\\": 8, \\\"count\\\": 3, \\\"percentage\\\": \\\"0.00244684%\\\"}, {\\\"label\\\": \\\"  Borrower added on 03/28/13 > Debt consolidation<br>\\\", \\\"label_idx\\\": 9, \\\"count\\\": 3, \\\"percentage\\\": \\\"0.00244684%\\\"}, {\\\"label\\\": \\\"Other (60306 labels)\\\", \\\"label_idx\\\": 10, \\\"count\\\": 60439, \\\"percentage\\\": \\\"49.2949%\\\"}], \\\"numeric\\\": []}, {\\\"a\\\": 20, \\\"title\\\": \\\"purpose\\\", \\\"num_row\\\": 122607, \\\"type\\\": \\\"str\\\", \\\"num_unique\\\": 12, \\\"num_missing\\\": 0, \\\"categorical\\\": [{\\\"label\\\": \\\"debt_consolidation\\\", \\\"label_idx\\\": 0, \\\"count\\\": 68233, \\\"percentage\\\": \\\"55.6518%\\\"}, {\\\"label\\\": \\\"credit_card\\\", \\\"label_idx\\\": 1, \\\"count\\\": 22050, \\\"percentage\\\": \\\"17.9843%\\\"}, {\\\"label\\\": \\\"other\\\", \\\"label_idx\\\": 2, \\\"count\\\": 9087, \\\"percentage\\\": \\\"7.41149%\\\"}, {\\\"label\\\": \\\"home_improvement\\\", \\\"label_idx\\\": 3, \\\"count\\\": 7543, \\\"percentage\\\": \\\"6.15218%\\\"}, {\\\"label\\\": \\\"major_purchase\\\", \\\"label_idx\\\": 4, \\\"count\\\": 3877, \\\"percentage\\\": \\\"3.16214%\\\"}, {\\\"label\\\": \\\"small_business\\\", \\\"label_idx\\\": 5, \\\"count\\\": 3264, \\\"percentage\\\": \\\"2.66216%\\\"}, {\\\"label\\\": \\\"car\\\", \\\"label_idx\\\": 6, \\\"count\\\": 2375, \\\"percentage\\\": \\\"1.93708%\\\"}, {\\\"label\\\": \\\"medical\\\", \\\"label_idx\\\": 7, \\\"count\\\": 1607, \\\"percentage\\\": \\\"1.31069%\\\"}, {\\\"label\\\": \\\"wedding\\\", \\\"label_idx\\\": 8, \\\"count\\\": 1526, \\\"percentage\\\": \\\"1.24463%\\\"}, {\\\"label\\\": \\\"moving\\\", \\\"label_idx\\\": 9, \\\"count\\\": 1180, \\\"percentage\\\": \\\"0.962425%\\\"}, {\\\"label\\\": \\\"Other (2 labels)\\\", \\\"label_idx\\\": 10, \\\"count\\\": 1865, \\\"percentage\\\": \\\"1.52112%\\\"}], \\\"numeric\\\": []}, {\\\"a\\\": 21, \\\"title\\\": \\\"title\\\", \\\"num_row\\\": 122607, \\\"type\\\": \\\"str\\\", \\\"num_unique\\\": 36606, \\\"num_missing\\\": 1, \\\"categorical\\\": [{\\\"label\\\": \\\"Debt consolidation\\\", \\\"label_idx\\\": 0, \\\"count\\\": 17773, \\\"percentage\\\": \\\"14.4959%\\\"}, {\\\"label\\\": \\\"Debt Consolidation\\\", \\\"label_idx\\\": 1, \\\"count\\\": 7220, \\\"percentage\\\": \\\"5.88873%\\\"}, {\\\"label\\\": \\\"Credit card refinancing\\\", \\\"label_idx\\\": 2, \\\"count\\\": 5223, \\\"percentage\\\": \\\"4.25995%\\\"}, {\\\"label\\\": \\\"Debt Consolidation Loan\\\", \\\"label_idx\\\": 3, \\\"count\\\": 2424, \\\"percentage\\\": \\\"1.97705%\\\"}, {\\\"label\\\": \\\"Consolidation\\\", \\\"label_idx\\\": 4, \\\"count\\\": 2193, \\\"percentage\\\": \\\"1.78864%\\\"}, {\\\"label\\\": \\\"debt consolidation\\\", \\\"label_idx\\\": 5, \\\"count\\\": 2014, \\\"percentage\\\": \\\"1.64265%\\\"}, {\\\"label\\\": \\\"Other\\\", \\\"label_idx\\\": 6, \\\"count\\\": 1811, \\\"percentage\\\": \\\"1.47708%\\\"}, {\\\"label\\\": \\\"Home improvement\\\", \\\"label_idx\\\": 7, \\\"count\\\": 1754, \\\"percentage\\\": \\\"1.43059%\\\"}, {\\\"label\\\": \\\"Personal Loan\\\", \\\"label_idx\\\": 8, \\\"count\\\": 1250, \\\"percentage\\\": \\\"1.01952%\\\"}, {\\\"label\\\": \\\"Credit Card Consolidation\\\", \\\"label_idx\\\": 9, \\\"count\\\": 1032, \\\"percentage\\\": \\\"0.841714%\\\"}, {\\\"label\\\": \\\"Other (36596 labels)\\\", \\\"label_idx\\\": 10, \\\"count\\\": 79913, \\\"percentage\\\": \\\"65.1782%\\\"}], \\\"numeric\\\": []}, {\\\"a\\\": 22, \\\"title\\\": \\\"zip_code\\\", \\\"num_row\\\": 122607, \\\"type\\\": \\\"str\\\", \\\"num_unique\\\": 865, \\\"num_missing\\\": 0, \\\"categorical\\\": [{\\\"label\\\": \\\"945xx\\\", \\\"label_idx\\\": 0, \\\"count\\\": 1612, \\\"percentage\\\": \\\"1.31477%\\\"}, {\\\"label\\\": \\\"112xx\\\", \\\"label_idx\\\": 1, \\\"count\\\": 1443, \\\"percentage\\\": \\\"1.17693%\\\"}, {\\\"label\\\": \\\"100xx\\\", \\\"label_idx\\\": 2, \\\"count\\\": 1437, \\\"percentage\\\": \\\"1.17204%\\\"}, {\\\"label\\\": \\\"900xx\\\", \\\"label_idx\\\": 3, \\\"count\\\": 1289, \\\"percentage\\\": \\\"1.05133%\\\"}, {\\\"label\\\": \\\"606xx\\\", \\\"label_idx\\\": 4, \\\"count\\\": 1270, \\\"percentage\\\": \\\"1.03583%\\\"}, {\\\"label\\\": \\\"750xx\\\", \\\"label_idx\\\": 5, \\\"count\\\": 1264, \\\"percentage\\\": \\\"1.03094%\\\"}, {\\\"label\\\": \\\"331xx\\\", \\\"label_idx\\\": 6, \\\"count\\\": 1152, \\\"percentage\\\": \\\"0.939587%\\\"}, {\\\"label\\\": \\\"070xx\\\", \\\"label_idx\\\": 7, \\\"count\\\": 1129, \\\"percentage\\\": \\\"0.920828%\\\"}, {\\\"label\\\": \\\"300xx\\\", \\\"label_idx\\\": 8, \\\"count\\\": 1129, \\\"percentage\\\": \\\"0.920828%\\\"}, {\\\"label\\\": \\\"917xx\\\", \\\"label_idx\\\": 9, \\\"count\\\": 1069, \\\"percentage\\\": \\\"0.871891%\\\"}, {\\\"label\\\": \\\"Other (855 labels)\\\", \\\"label_idx\\\": 10, \\\"count\\\": 109813, \\\"percentage\\\": \\\"89.565%\\\"}], \\\"numeric\\\": []}, {\\\"a\\\": 23, \\\"title\\\": \\\"addr_state\\\", \\\"num_row\\\": 122607, \\\"type\\\": \\\"str\\\", \\\"num_unique\\\": 50, \\\"num_missing\\\": 0, \\\"categorical\\\": [{\\\"label\\\": \\\"CA\\\", \\\"label_idx\\\": 0, \\\"count\\\": 21637, \\\"percentage\\\": \\\"17.6474%\\\"}, {\\\"label\\\": \\\"NY\\\", \\\"label_idx\\\": 1, \\\"count\\\": 10908, \\\"percentage\\\": \\\"8.89672%\\\"}, {\\\"label\\\": \\\"TX\\\", \\\"label_idx\\\": 2, \\\"count\\\": 8922, \\\"percentage\\\": \\\"7.27691%\\\"}, {\\\"label\\\": \\\"FL\\\", \\\"label_idx\\\": 3, \\\"count\\\": 8561, \\\"percentage\\\": \\\"6.98247%\\\"}, {\\\"label\\\": \\\"NJ\\\", \\\"label_idx\\\": 4, \\\"count\\\": 4913, \\\"percentage\\\": \\\"4.00711%\\\"}, {\\\"label\\\": \\\"IL\\\", \\\"label_idx\\\": 5, \\\"count\\\": 4509, \\\"percentage\\\": \\\"3.6776%\\\"}, {\\\"label\\\": \\\"PA\\\", \\\"label_idx\\\": 6, \\\"count\\\": 4123, \\\"percentage\\\": \\\"3.36278%\\\"}, {\\\"label\\\": \\\"VA\\\", \\\"label_idx\\\": 7, \\\"count\\\": 4000, \\\"percentage\\\": \\\"3.26246%\\\"}, {\\\"label\\\": \\\"GA\\\", \\\"label_idx\\\": 8, \\\"count\\\": 3928, \\\"percentage\\\": \\\"3.20373%\\\"}, {\\\"label\\\": \\\"OH\\\", \\\"label_idx\\\": 9, \\\"count\\\": 3651, \\\"percentage\\\": \\\"2.97781%\\\"}, {\\\"label\\\": \\\"Other (40 labels)\\\", \\\"label_idx\\\": 10, \\\"count\\\": 47455, \\\"percentage\\\": \\\"38.705%\\\"}], \\\"numeric\\\": []}, {\\\"a\\\": 24, \\\"title\\\": \\\"dti\\\", \\\"num_row\\\": 122607, \\\"type\\\": \\\"float\\\", \\\"num_unique\\\": 3543, \\\"num_missing\\\": 0, \\\"mean\\\": 15.496888, \\\"min\\\": 0.0, \\\"max\\\": 39.88, \\\"median\\\": 15.27, \\\"stdev\\\": 7.497412, \\\"numeric\\\": [{\\\"left\\\": -0.2792, \\\"right\\\": 1.7462, \\\"count\\\": 2738}, {\\\"left\\\": 1.7462, \\\"right\\\": 3.7716, \\\"count\\\": 4121}, {\\\"left\\\": 3.7716, \\\"right\\\": 5.797, \\\"count\\\": 6015}, {\\\"left\\\": 5.797, \\\"right\\\": 7.8224, \\\"count\\\": 7969}, {\\\"left\\\": 7.8224, \\\"right\\\": 9.8478, \\\"count\\\": 9652}, {\\\"left\\\": 9.8478, \\\"right\\\": 11.8732, \\\"count\\\": 10836}, {\\\"left\\\": 11.8732, \\\"right\\\": 13.8986, \\\"count\\\": 11796}, {\\\"left\\\": 13.8986, \\\"right\\\": 15.924, \\\"count\\\": 12034}, {\\\"left\\\": 15.924, \\\"right\\\": 17.9494, \\\"count\\\": 11516}, {\\\"left\\\": 17.9494, \\\"right\\\": 19.9748, \\\"count\\\": 10868}, {\\\"left\\\": 19.9748, \\\"right\\\": 22.0002, \\\"count\\\": 9756}, {\\\"left\\\": 22.0002, \\\"right\\\": 24.0256, \\\"count\\\": 8506}, {\\\"left\\\": 24.0256, \\\"right\\\": 26.051, \\\"count\\\": 6122}, {\\\"left\\\": 26.051, \\\"right\\\": 28.0764, \\\"count\\\": 3907}, {\\\"left\\\": 28.0764, \\\"right\\\": 30.1018, \\\"count\\\": 3188}, {\\\"left\\\": 30.1018, \\\"right\\\": 32.1272, \\\"count\\\": 1817}, {\\\"left\\\": 32.1272, \\\"right\\\": 34.1526, \\\"count\\\": 1331}, {\\\"left\\\": 34.1526, \\\"right\\\": 36.178, \\\"count\\\": 401}, {\\\"left\\\": 36.178, \\\"right\\\": 38.2034, \\\"count\\\": 25}, {\\\"left\\\": 38.2034, \\\"right\\\": 40.2288, \\\"count\\\": 9}], \\\"categorical\\\": []}, {\\\"a\\\": 25, \\\"title\\\": \\\"delinq_2yrs\\\", \\\"num_row\\\": 122607, \\\"type\\\": \\\"integer\\\", \\\"num_unique\\\": 19, \\\"num_missing\\\": 29, \\\"mean\\\": 0.211996, \\\"min\\\": 0.0, \\\"max\\\": 29.0, \\\"median\\\": 0.0, \\\"stdev\\\": 0.662049, \\\"numeric\\\": [{\\\"left\\\": -0.24076, \\\"right\\\": 1.2338, \\\"count\\\": 117535}, {\\\"left\\\": 1.2338, \\\"right\\\": 2.70836, \\\"count\\\": 3255}, {\\\"left\\\": 2.70836, \\\"right\\\": 4.18292, \\\"count\\\": 1371}, {\\\"left\\\": 4.18292, \\\"right\\\": 5.65748, \\\"count\\\": 202}, {\\\"left\\\": 5.65748, \\\"right\\\": 7.13204, \\\"count\\\": 141}, {\\\"left\\\": 7.13204, \\\"right\\\": 8.6066, \\\"count\\\": 27}, {\\\"left\\\": 8.6066, \\\"right\\\": 10.0812, \\\"count\\\": 23}, {\\\"left\\\": 10.0812, \\\"right\\\": 11.5557, \\\"count\\\": 8}, {\\\"left\\\": 11.5557, \\\"right\\\": 13.0303, \\\"count\\\": 8}, {\\\"left\\\": 13.0303, \\\"right\\\": 14.5048, \\\"count\\\": 4}, {\\\"left\\\": 14.5048, \\\"right\\\": 15.9794, \\\"count\\\": 2}, {\\\"left\\\": 15.9794, \\\"right\\\": 17.454, \\\"count\\\": 0}, {\\\"left\\\": 17.454, \\\"right\\\": 18.9285, \\\"count\\\": 1}, {\\\"left\\\": 18.9285, \\\"right\\\": 20.4031, \\\"count\\\": 0}, {\\\"left\\\": 20.4031, \\\"right\\\": 21.8776, \\\"count\\\": 0}, {\\\"left\\\": 21.8776, \\\"right\\\": 23.3522, \\\"count\\\": 0}, {\\\"left\\\": 23.3522, \\\"right\\\": 24.8268, \\\"count\\\": 0}, {\\\"left\\\": 24.8268, \\\"right\\\": 26.3013, \\\"count\\\": 0}, {\\\"left\\\": 26.3013, \\\"right\\\": 27.7759, \\\"count\\\": 0}, {\\\"left\\\": 27.7759, \\\"right\\\": 29.2504, \\\"count\\\": 1}, {\\\"missing\\\": true, \\\"count\\\": 29}], \\\"categorical\\\": []}, {\\\"a\\\": 26, \\\"title\\\": \\\"earliest_cr_line\\\", \\\"num_row\\\": 122607, \\\"type\\\": \\\"str\\\", \\\"num_unique\\\": 598, \\\"num_missing\\\": 0, \\\"categorical\\\": [{\\\"label\\\": \\\"20001001T000000\\\", \\\"label_idx\\\": 0, \\\"count\\\": 1103, \\\"percentage\\\": \\\"0.899622%\\\"}, {\\\"label\\\": \\\"19991001T000000\\\", \\\"label_idx\\\": 1, \\\"count\\\": 1049, \\\"percentage\\\": \\\"0.855579%\\\"}, {\\\"label\\\": \\\"20001101T000000\\\", \\\"label_idx\\\": 2, \\\"count\\\": 997, \\\"percentage\\\": \\\"0.813167%\\\"}, {\\\"label\\\": \\\"20011001T000000\\\", \\\"label_idx\\\": 3, \\\"count\\\": 970, \\\"percentage\\\": \\\"0.791146%\\\"}, {\\\"label\\\": \\\"19991101T000000\\\", \\\"label_idx\\\": 4, \\\"count\\\": 965, \\\"percentage\\\": \\\"0.787068%\\\"}, {\\\"label\\\": \\\"19981201T000000\\\", \\\"label_idx\\\": 5, \\\"count\\\": 946, \\\"percentage\\\": \\\"0.771571%\\\"}, {\\\"label\\\": \\\"20021001T000000\\\", \\\"label_idx\\\": 6, \\\"count\\\": 909, \\\"percentage\\\": \\\"0.741393%\\\"}, {\\\"label\\\": \\\"20000801T000000\\\", \\\"label_idx\\\": 7, \\\"count\\\": 896, \\\"percentage\\\": \\\"0.73079%\\\"}, {\\\"label\\\": \\\"20000901T000000\\\", \\\"label_idx\\\": 8, \\\"count\\\": 870, \\\"percentage\\\": \\\"0.709584%\\\"}, {\\\"label\\\": \\\"20000101T000000\\\", \\\"label_idx\\\": 9, \\\"count\\\": 867, \\\"percentage\\\": \\\"0.707137%\\\"}, {\\\"label\\\": \\\"Other (588 labels)\\\", \\\"label_idx\\\": 10, \\\"count\\\": 113035, \\\"percentage\\\": \\\"92.1929%\\\"}], \\\"numeric\\\": []}, {\\\"a\\\": 27, \\\"title\\\": \\\"inq_last_6mths\\\", \\\"num_row\\\": 122607, \\\"type\\\": \\\"integer\\\", \\\"num_unique\\\": 29, \\\"num_missing\\\": 29, \\\"mean\\\": 0.980861, \\\"min\\\": 0.0, \\\"max\\\": 33.0, \\\"median\\\": 1.0, \\\"stdev\\\": 1.263583, \\\"numeric\\\": [{\\\"left\\\": -0.136, \\\"right\\\": 1.528, \\\"count\\\": 91032}, {\\\"left\\\": 1.528, \\\"right\\\": 3.192, \\\"count\\\": 27091}, {\\\"left\\\": 3.192, \\\"right\\\": 4.856, \\\"count\\\": 2397}, {\\\"left\\\": 4.856, \\\"right\\\": 6.52, \\\"count\\\": 1613}, {\\\"left\\\": 6.52, \\\"right\\\": 8.184, \\\"count\\\": 300}, {\\\"left\\\": 8.184, \\\"right\\\": 9.848, \\\"count\\\": 50}, {\\\"left\\\": 9.848, \\\"right\\\": 11.512, \\\"count\\\": 39}, {\\\"left\\\": 11.512, \\\"right\\\": 13.176, \\\"count\\\": 21}, {\\\"left\\\": 13.176, \\\"right\\\": 14.84, \\\"count\\\": 6}, {\\\"left\\\": 14.84, \\\"right\\\": 16.504, \\\"count\\\": 12}, {\\\"left\\\": 16.504, \\\"right\\\": 18.168, \\\"count\\\": 6}, {\\\"left\\\": 18.168, \\\"right\\\": 19.832, \\\"count\\\": 2}, {\\\"left\\\": 19.832, \\\"right\\\": 21.496, \\\"count\\\": 1}, {\\\"left\\\": 21.496, \\\"right\\\": 23.16, \\\"count\\\": 0}, {\\\"left\\\": 23.16, \\\"right\\\": 24.824, \\\"count\\\": 2}, {\\\"left\\\": 24.824, \\\"right\\\": 26.488, \\\"count\\\": 1}, {\\\"left\\\": 26.488, \\\"right\\\": 28.152, \\\"count\\\": 2}, {\\\"left\\\": 28.152, \\\"right\\\": 29.816, \\\"count\\\": 0}, {\\\"left\\\": 29.816, \\\"right\\\": 31.48, \\\"count\\\": 1}, {\\\"left\\\": 31.48, \\\"right\\\": 33.144, \\\"count\\\": 2}, {\\\"missing\\\": true, \\\"count\\\": 29}], \\\"categorical\\\": []}, {\\\"a\\\": 28, \\\"title\\\": \\\"mths_since_last_delinq\\\", \\\"num_row\\\": 122607, \\\"type\\\": \\\"integer\\\", \\\"num_unique\\\": 117, \\\"num_missing\\\": 72107, \\\"mean\\\": 35.258198, \\\"min\\\": 0.0, \\\"max\\\": 152.0, \\\"median\\\": 33.0, \\\"stdev\\\": 21.949857, \\\"numeric\\\": [{\\\"left\\\": -2.61644, \\\"right\\\": 5.24788, \\\"count\\\": 2971}, {\\\"left\\\": 5.24788, \\\"right\\\": 13.1122, \\\"count\\\": 6803}, {\\\"left\\\": 13.1122, \\\"right\\\": 20.9765, \\\"count\\\": 5992}, {\\\"left\\\": 20.9765, \\\"right\\\": 28.8408, \\\"count\\\": 6266}, {\\\"left\\\": 28.8408, \\\"right\\\": 36.7052, \\\"count\\\": 6039}, {\\\"left\\\": 36.7052, \\\"right\\\": 44.5695, \\\"count\\\": 5657}, {\\\"left\\\": 44.5695, \\\"right\\\": 52.4338, \\\"count\\\": 4771}, {\\\"left\\\": 52.4338, \\\"right\\\": 60.2981, \\\"count\\\": 3572}, {\\\"left\\\": 60.2981, \\\"right\\\": 68.1624, \\\"count\\\": 3390}, {\\\"left\\\": 68.1624, \\\"right\\\": 76.0268, \\\"count\\\": 3134}, {\\\"left\\\": 76.0268, \\\"right\\\": 83.8911, \\\"count\\\": 1853}, {\\\"left\\\": 83.8911, \\\"right\\\": 91.7554, \\\"count\\\": 21}, {\\\"left\\\": 91.7554, \\\"right\\\": 99.6197, \\\"count\\\": 11}, {\\\"left\\\": 99.6197, \\\"right\\\": 107.484, \\\"count\\\": 8}, {\\\"left\\\": 107.484, \\\"right\\\": 115.348, \\\"count\\\": 4}, {\\\"left\\\": 115.348, \\\"right\\\": 123.213, \\\"count\\\": 2}, {\\\"left\\\": 123.213, \\\"right\\\": 131.077, \\\"count\\\": 1}, {\\\"left\\\": 131.077, \\\"right\\\": 138.941, \\\"count\\\": 1}, {\\\"left\\\": 138.941, \\\"right\\\": 146.806, \\\"count\\\": 1}, {\\\"left\\\": 146.806, \\\"right\\\": 154.67, \\\"count\\\": 3}, {\\\"missing\\\": true, \\\"count\\\": 72107}], \\\"categorical\\\": []}, {\\\"a\\\": 29, \\\"title\\\": \\\"mths_since_last_record\\\", \\\"num_row\\\": 122607, \\\"type\\\": \\\"integer\\\", \\\"num_unique\\\": 124, \\\"num_missing\\\": 110076, \\\"mean\\\": 73.964488, \\\"min\\\": 0.0, \\\"max\\\": 129.0, \\\"median\\\": 86.0, \\\"stdev\\\": 35.854109, \\\"numeric\\\": [{\\\"left\\\": -0.97804, \\\"right\\\": 5.57556, \\\"count\\\": 1300}, {\\\"left\\\": 5.57556, \\\"right\\\": 12.1292, \\\"count\\\": 79}, {\\\"left\\\": 12.1292, \\\"right\\\": 18.6828, \\\"count\\\": 90}, {\\\"left\\\": 18.6828, \\\"right\\\": 25.2364, \\\"count\\\": 162}, {\\\"left\\\": 25.2364, \\\"right\\\": 31.79, \\\"count\\\": 218}, {\\\"left\\\": 31.79, \\\"right\\\": 38.3436, \\\"count\\\": 325}, {\\\"left\\\": 38.3436, \\\"right\\\": 44.8972, \\\"count\\\": 360}, {\\\"left\\\": 44.8972, \\\"right\\\": 51.4508, \\\"count\\\": 553}, {\\\"left\\\": 51.4508, \\\"right\\\": 58.0044, \\\"count\\\": 709}, {\\\"left\\\": 58.0044, \\\"right\\\": 64.558, \\\"count\\\": 602}, {\\\"left\\\": 64.558, \\\"right\\\": 71.1116, \\\"count\\\": 630}, {\\\"left\\\": 71.1116, \\\"right\\\": 77.6652, \\\"count\\\": 508}, {\\\"left\\\": 77.6652, \\\"right\\\": 84.2188, \\\"count\\\": 536}, {\\\"left\\\": 84.2188, \\\"right\\\": 90.7724, \\\"count\\\": 880}, {\\\"left\\\": 90.7724, \\\"right\\\": 97.326, \\\"count\\\": 1332}, {\\\"left\\\": 97.326, \\\"right\\\": 103.88, \\\"count\\\": 1185}, {\\\"left\\\": 103.88, \\\"right\\\": 110.433, \\\"count\\\": 1409}, {\\\"left\\\": 110.433, \\\"right\\\": 116.987, \\\"count\\\": 1181}, {\\\"left\\\": 116.987, \\\"right\\\": 123.54, \\\"count\\\": 471}, {\\\"left\\\": 123.54, \\\"right\\\": 130.094, \\\"count\\\": 1}, {\\\"missing\\\": true, \\\"count\\\": 110076}], \\\"categorical\\\": []}, {\\\"a\\\": 30, \\\"title\\\": \\\"open_acc\\\", \\\"num_row\\\": 122607, \\\"type\\\": \\\"integer\\\", \\\"num_unique\\\": 55, \\\"num_missing\\\": 29, \\\"mean\\\": 10.457749, \\\"min\\\": 0.0, \\\"max\\\": 76.0, \\\"median\\\": 10.0, \\\"stdev\\\": 4.713938, \\\"numeric\\\": [{\\\"left\\\": -1.40868, \\\"right\\\": 2.52348, \\\"count\\\": 1006}, {\\\"left\\\": 2.52348, \\\"right\\\": 6.45564, \\\"count\\\": 23376}, {\\\"left\\\": 6.45564, \\\"right\\\": 10.3878, \\\"count\\\": 44994}, {\\\"left\\\": 10.3878, \\\"right\\\": 14.32, \\\"count\\\": 31767}, {\\\"left\\\": 14.32, \\\"right\\\": 18.2521, \\\"count\\\": 14047}, {\\\"left\\\": 18.2521, \\\"right\\\": 22.1843, \\\"count\\\": 5107}, {\\\"left\\\": 22.1843, \\\"right\\\": 26.1164, \\\"count\\\": 1633}, {\\\"left\\\": 26.1164, \\\"right\\\": 30.0486, \\\"count\\\": 401}, {\\\"left\\\": 30.0486, \\\"right\\\": 33.9808, \\\"count\\\": 119}, {\\\"left\\\": 33.9808, \\\"right\\\": 37.9129, \\\"count\\\": 77}, {\\\"left\\\": 37.9129, \\\"right\\\": 41.8451, \\\"count\\\": 34}, {\\\"left\\\": 41.8451, \\\"right\\\": 45.7772, \\\"count\\\": 5}, {\\\"left\\\": 45.7772, \\\"right\\\": 49.7094, \\\"count\\\": 7}, {\\\"left\\\": 49.7094, \\\"right\\\": 53.6416, \\\"count\\\": 3}, {\\\"left\\\": 53.6416, \\\"right\\\": 57.5737, \\\"count\\\": 0}, {\\\"left\\\": 57.5737, \\\"right\\\": 61.5059, \\\"count\\\": 1}, {\\\"left\\\": 61.5059, \\\"right\\\": 65.438, \\\"count\\\": 0}, {\\\"left\\\": 65.438, \\\"right\\\": 69.3702, \\\"count\\\": 0}, {\\\"left\\\": 69.3702, \\\"right\\\": 73.3024, \\\"count\\\": 0}, {\\\"left\\\": 73.3024, \\\"right\\\": 77.2345, \\\"count\\\": 1}, {\\\"missing\\\": true, \\\"count\\\": 29}], \\\"categorical\\\": []}, {\\\"a\\\": 31, \\\"title\\\": \\\"pub_rec\\\", \\\"num_row\\\": 122607, \\\"type\\\": \\\"integer\\\", \\\"num_unique\\\": 13, \\\"num_missing\\\": 29, \\\"mean\\\": 0.103477, \\\"min\\\": 0.0, \\\"max\\\": 11.0, \\\"median\\\": 0.0, \\\"stdev\\\": 0.359381, \\\"numeric\\\": [{\\\"left\\\": -0.24076, \\\"right\\\": 0.33268, \\\"count\\\": 111322}, {\\\"left\\\": 0.33268, \\\"right\\\": 0.90612, \\\"count\\\": 0}, {\\\"left\\\": 0.90612, \\\"right\\\": 1.47956, \\\"count\\\": 10283}, {\\\"left\\\": 1.47956, \\\"right\\\": 2.053, \\\"count\\\": 702}, {\\\"left\\\": 2.053, \\\"right\\\": 2.62644, \\\"count\\\": 0}, {\\\"left\\\": 2.62644, \\\"right\\\": 3.19988, \\\"count\\\": 173}, {\\\"left\\\": 3.19988, \\\"right\\\": 3.77332, \\\"count\\\": 0}, {\\\"left\\\": 3.77332, \\\"right\\\": 4.34676, \\\"count\\\": 52}, {\\\"left\\\": 4.34676, \\\"right\\\": 4.9202, \\\"count\\\": 0}, {\\\"left\\\": 4.9202, \\\"right\\\": 5.49364, \\\"count\\\": 23}, {\\\"left\\\": 5.49364, \\\"right\\\": 6.06708, \\\"count\\\": 16}, {\\\"left\\\": 6.06708, \\\"right\\\": 6.64052, \\\"count\\\": 0}, {\\\"left\\\": 6.64052, \\\"right\\\": 7.21396, \\\"count\\\": 3}, {\\\"left\\\": 7.21396, \\\"right\\\": 7.7874, \\\"count\\\": 0}, {\\\"left\\\": 7.7874, \\\"right\\\": 8.36084, \\\"count\\\": 1}, {\\\"left\\\": 8.36084, \\\"right\\\": 8.93428, \\\"count\\\": 0}, {\\\"left\\\": 8.93428, \\\"right\\\": 9.50772, \\\"count\\\": 1}, {\\\"left\\\": 9.50772, \\\"right\\\": 10.0812, \\\"count\\\": 1}, {\\\"left\\\": 10.0812, \\\"right\\\": 10.6546, \\\"count\\\": 0}, {\\\"left\\\": 10.6546, \\\"right\\\": 11.228, \\\"count\\\": 1}, {\\\"missing\\\": true, \\\"count\\\": 29}], \\\"categorical\\\": []}, {\\\"a\\\": 32, \\\"title\\\": \\\"revol_bal\\\", \\\"num_row\\\": 122607, \\\"type\\\": \\\"integer\\\", \\\"num_unique\\\": 37172, \\\"num_missing\\\": 0, \\\"mean\\\": 14835.072549, \\\"min\\\": 0.0, \\\"max\\\": 1743266.0, \\\"median\\\": 10589.0, \\\"stdev\\\": 19377.651871, \\\"numeric\\\": [{\\\"left\\\": -47448.8, \\\"right\\\": 44411.7, \\\"count\\\": 118107}, {\\\"left\\\": 44411.7, \\\"right\\\": 136272, \\\"count\\\": 4152}, {\\\"left\\\": 136272, \\\"right\\\": 228133, \\\"count\\\": 250}, {\\\"left\\\": 228133, \\\"right\\\": 319993, \\\"count\\\": 62}, {\\\"left\\\": 319993, \\\"right\\\": 411854, \\\"count\\\": 18}, {\\\"left\\\": 411854, \\\"right\\\": 503714, \\\"count\\\": 9}, {\\\"left\\\": 503714, \\\"right\\\": 595575, \\\"count\\\": 2}, {\\\"left\\\": 595575, \\\"right\\\": 687435, \\\"count\\\": 3}, {\\\"left\\\": 687435, \\\"right\\\": 779296, \\\"count\\\": 1}, {\\\"left\\\": 779296, \\\"right\\\": 871156, \\\"count\\\": 0}, {\\\"left\\\": 871156, \\\"right\\\": 963016, \\\"count\\\": 1}, {\\\"left\\\": 963016, \\\"right\\\": 1054880.0, \\\"count\\\": 0}, {\\\"left\\\": 1054880.0, \\\"right\\\": 1146740.0, \\\"count\\\": 0}, {\\\"left\\\": 1146740.0, \\\"right\\\": 1238600.0, \\\"count\\\": 1}, {\\\"left\\\": 1238600.0, \\\"right\\\": 1330460.0, \\\"count\\\": 0}, {\\\"left\\\": 1330460.0, \\\"right\\\": 1422320.0, \\\"count\\\": 0}, {\\\"left\\\": 1422320.0, \\\"right\\\": 1514180.0, \\\"count\\\": 0}, {\\\"left\\\": 1514180.0, \\\"right\\\": 1606040.0, \\\"count\\\": 0}, {\\\"left\\\": 1606040.0, \\\"right\\\": 1697900.0, \\\"count\\\": 0}, {\\\"left\\\": 1697900.0, \\\"right\\\": 1789760.0, \\\"count\\\": 1}], \\\"categorical\\\": []}, {\\\"a\\\": 33, \\\"title\\\": \\\"revol_util\\\", \\\"num_row\\\": 122607, \\\"type\\\": \\\"float\\\", \\\"num_unique\\\": 1156, \\\"num_missing\\\": 0, \\\"mean\\\": 53.716307, \\\"min\\\": 0.0, \\\"max\\\": 150.7, \\\"median\\\": 55.6, \\\"stdev\\\": 25.723776, \\\"numeric\\\": [{\\\"left\\\": -1.8936, \\\"right\\\": 5.8336, \\\"count\\\": 5049}, {\\\"left\\\": 5.8336, \\\"right\\\": 13.5608, \\\"count\\\": 5084}, {\\\"left\\\": 13.5608, \\\"right\\\": 21.288, \\\"count\\\": 6141}, {\\\"left\\\": 21.288, \\\"right\\\": 29.0152, \\\"count\\\": 7710}, {\\\"left\\\": 29.0152, \\\"right\\\": 36.7424, \\\"count\\\": 9128}, {\\\"left\\\": 36.7424, \\\"right\\\": 44.4696, \\\"count\\\": 10602}, {\\\"left\\\": 44.4696, \\\"right\\\": 52.1968, \\\"count\\\": 11936}, {\\\"left\\\": 52.1968, \\\"right\\\": 59.924, \\\"count\\\": 12761}, {\\\"left\\\": 59.924, \\\"right\\\": 67.6512, \\\"count\\\": 12857}, {\\\"left\\\": 67.6512, \\\"right\\\": 75.3784, \\\"count\\\": 12233}, {\\\"left\\\": 75.3784, \\\"right\\\": 83.1056, \\\"count\\\": 11462}, {\\\"left\\\": 83.1056, \\\"right\\\": 90.8328, \\\"count\\\": 9594}, {\\\"left\\\": 90.8328, \\\"right\\\": 98.56, \\\"count\\\": 7270}, {\\\"left\\\": 98.56, \\\"right\\\": 106.287, \\\"count\\\": 758}, {\\\"left\\\": 106.287, \\\"right\\\": 114.014, \\\"count\\\": 17}, {\\\"left\\\": 114.014, \\\"right\\\": 121.742, \\\"count\\\": 3}, {\\\"left\\\": 121.742, \\\"right\\\": 129.469, \\\"count\\\": 1}, {\\\"left\\\": 129.469, \\\"right\\\": 137.196, \\\"count\\\": 0}, {\\\"left\\\": 137.196, \\\"right\\\": 144.923, \\\"count\\\": 0}, {\\\"left\\\": 144.923, \\\"right\\\": 152.65, \\\"count\\\": 1}], \\\"categorical\\\": []}, {\\\"a\\\": 34, \\\"title\\\": \\\"total_acc\\\", \\\"num_row\\\": 122607, \\\"type\\\": \\\"integer\\\", \\\"num_unique\\\": 90, \\\"num_missing\\\": 29, \\\"mean\\\": 24.248169, \\\"min\\\": 1.0, \\\"max\\\": 118.0, \\\"median\\\": 23.0, \\\"stdev\\\": 11.629767, \\\"numeric\\\": [{\\\"left\\\": -1.18, \\\"right\\\": 4.9, \\\"count\\\": 1026}, {\\\"left\\\": 4.9, \\\"right\\\": 10.98, \\\"count\\\": 11056}, {\\\"left\\\": 10.98, \\\"right\\\": 17.06, \\\"count\\\": 26578}, {\\\"left\\\": 17.06, \\\"right\\\": 23.14, \\\"count\\\": 26106}, {\\\"left\\\": 23.14, \\\"right\\\": 29.22, \\\"count\\\": 22296}, {\\\"left\\\": 29.22, \\\"right\\\": 35.3, \\\"count\\\": 15732}, {\\\"left\\\": 35.3, \\\"right\\\": 41.38, \\\"count\\\": 9393}, {\\\"left\\\": 41.38, \\\"right\\\": 47.46, \\\"count\\\": 5323}, {\\\"left\\\": 47.46, \\\"right\\\": 53.54, \\\"count\\\": 2726}, {\\\"left\\\": 53.54, \\\"right\\\": 59.62, \\\"count\\\": 1308}, {\\\"left\\\": 59.62, \\\"right\\\": 65.7, \\\"count\\\": 930}, {\\\"left\\\": 65.7, \\\"right\\\": 71.78, \\\"count\\\": 53}, {\\\"left\\\": 71.78, \\\"right\\\": 77.86, \\\"count\\\": 26}, {\\\"left\\\": 77.86, \\\"right\\\": 83.94, \\\"count\\\": 13}, {\\\"left\\\": 83.94, \\\"right\\\": 90.02, \\\"count\\\": 8}, {\\\"left\\\": 90.02, \\\"right\\\": 96.1, \\\"count\\\": 2}, {\\\"left\\\": 96.1, \\\"right\\\": 102.18, \\\"count\\\": 1}, {\\\"left\\\": 102.18, \\\"right\\\": 108.26, \\\"count\\\": 0}, {\\\"left\\\": 108.26, \\\"right\\\": 114.34, \\\"count\\\": 0}, {\\\"left\\\": 114.34, \\\"right\\\": 120.42, \\\"count\\\": 1}, {\\\"missing\\\": true, \\\"count\\\": 29}], \\\"categorical\\\": []}, {\\\"a\\\": 35, \\\"title\\\": \\\"initial_list_status\\\", \\\"num_row\\\": 122607, \\\"type\\\": \\\"str\\\", \\\"num_unique\\\": 2, \\\"num_missing\\\": 0, \\\"categorical\\\": [{\\\"label\\\": \\\"f\\\", \\\"label_idx\\\": 0, \\\"count\\\": 102225, \\\"percentage\\\": \\\"83.3762%\\\"}, {\\\"label\\\": \\\"w\\\", \\\"label_idx\\\": 1, \\\"count\\\": 20382, \\\"percentage\\\": \\\"16.6238%\\\"}], \\\"numeric\\\": []}, {\\\"a\\\": 36, \\\"title\\\": \\\"out_prncp\\\", \\\"num_row\\\": 122607, \\\"type\\\": \\\"float\\\", \\\"num_unique\\\": 240, \\\"num_missing\\\": 0, \\\"mean\\\": 22.028899, \\\"min\\\": 0.0, \\\"max\\\": 34310.2, \\\"median\\\": 0.0, \\\"stdev\\\": 611.508479, \\\"numeric\\\": [{\\\"left\\\": -419.425, \\\"right\\\": 1342.18, \\\"count\\\": 122376}, {\\\"left\\\": 1342.18, \\\"right\\\": 3103.79, \\\"count\\\": 22}, {\\\"left\\\": 3103.79, \\\"right\\\": 4865.4, \\\"count\\\": 33}, {\\\"left\\\": 4865.4, \\\"right\\\": 6627.01, \\\"count\\\": 22}, {\\\"left\\\": 6627.01, \\\"right\\\": 8388.61, \\\"count\\\": 27}, {\\\"left\\\": 8388.61, \\\"right\\\": 10150.2, \\\"count\\\": 20}, {\\\"left\\\": 10150.2, \\\"right\\\": 11911.8, \\\"count\\\": 11}, {\\\"left\\\": 11911.8, \\\"right\\\": 13673.4, \\\"count\\\": 15}, {\\\"left\\\": 13673.4, \\\"right\\\": 15435, \\\"count\\\": 16}, {\\\"left\\\": 15435, \\\"right\\\": 17196.7, \\\"count\\\": 10}, {\\\"left\\\": 17196.7, \\\"right\\\": 18958.3, \\\"count\\\": 13}, {\\\"left\\\": 18958.3, \\\"right\\\": 20719.9, \\\"count\\\": 9}, {\\\"left\\\": 20719.9, \\\"right\\\": 22481.5, \\\"count\\\": 6}, {\\\"left\\\": 22481.5, \\\"right\\\": 24243.1, \\\"count\\\": 7}, {\\\"left\\\": 24243.1, \\\"right\\\": 26004.7, \\\"count\\\": 4}, {\\\"left\\\": 26004.7, \\\"right\\\": 27766.3, \\\"count\\\": 7}, {\\\"left\\\": 27766.3, \\\"right\\\": 29527.9, \\\"count\\\": 0}, {\\\"left\\\": 29527.9, \\\"right\\\": 31289.5, \\\"count\\\": 2}, {\\\"left\\\": 31289.5, \\\"right\\\": 33051.1, \\\"count\\\": 3}, {\\\"left\\\": 33051.1, \\\"right\\\": 34812.7, \\\"count\\\": 4}], \\\"categorical\\\": []}, {\\\"a\\\": 37, \\\"title\\\": \\\"out_prncp_inv\\\", \\\"num_row\\\": 122607, \\\"type\\\": \\\"float\\\", \\\"num_unique\\\": 240, \\\"num_missing\\\": 0, \\\"mean\\\": 22.015354, \\\"min\\\": 0.0, \\\"max\\\": 34310.2, \\\"median\\\": 0.0, \\\"stdev\\\": 611.113565, \\\"numeric\\\": [{\\\"left\\\": -419.425, \\\"right\\\": 1342.18, \\\"count\\\": 122376}, {\\\"left\\\": 1342.18, \\\"right\\\": 3103.79, \\\"count\\\": 22}, {\\\"left\\\": 3103.79, \\\"right\\\": 4865.4, \\\"count\\\": 33}, {\\\"left\\\": 4865.4, \\\"right\\\": 6627.01, \\\"count\\\": 22}, {\\\"left\\\": 6627.01, \\\"right\\\": 8388.61, \\\"count\\\": 27}, {\\\"left\\\": 8388.61, \\\"right\\\": 10150.2, \\\"count\\\": 20}, {\\\"left\\\": 10150.2, \\\"right\\\": 11911.8, \\\"count\\\": 11}, {\\\"left\\\": 11911.8, \\\"right\\\": 13673.4, \\\"count\\\": 15}, {\\\"left\\\": 13673.4, \\\"right\\\": 15435, \\\"count\\\": 16}, {\\\"left\\\": 15435, \\\"right\\\": 17196.7, \\\"count\\\": 10}, {\\\"left\\\": 17196.7, \\\"right\\\": 18958.3, \\\"count\\\": 13}, {\\\"left\\\": 18958.3, \\\"right\\\": 20719.9, \\\"count\\\": 9}, {\\\"left\\\": 20719.9, \\\"right\\\": 22481.5, \\\"count\\\": 6}, {\\\"left\\\": 22481.5, \\\"right\\\": 24243.1, \\\"count\\\": 7}, {\\\"left\\\": 24243.1, \\\"right\\\": 26004.7, \\\"count\\\": 4}, {\\\"left\\\": 26004.7, \\\"right\\\": 27766.3, \\\"count\\\": 7}, {\\\"left\\\": 27766.3, \\\"right\\\": 29527.9, \\\"count\\\": 0}, {\\\"left\\\": 29527.9, \\\"right\\\": 31289.5, \\\"count\\\": 2}, {\\\"left\\\": 31289.5, \\\"right\\\": 33051.1, \\\"count\\\": 3}, {\\\"left\\\": 33051.1, \\\"right\\\": 34812.7, \\\"count\\\": 4}], \\\"categorical\\\": []}, {\\\"a\\\": 38, \\\"title\\\": \\\"total_pymnt\\\", \\\"num_row\\\": 122607, \\\"type\\\": \\\"float\\\", \\\"num_unique\\\": 107958, \\\"num_missing\\\": 0, \\\"mean\\\": 12510.211529, \\\"min\\\": 0.0, \\\"max\\\": 55758.2, \\\"median\\\": 10566.9, \\\"stdev\\\": 9046.294537, \\\"numeric\\\": [{\\\"left\\\": -136.447, \\\"right\\\": 2658.51, \\\"count\\\": 11441}, {\\\"left\\\": 2658.51, \\\"right\\\": 5453.47, \\\"count\\\": 17409}, {\\\"left\\\": 5453.47, \\\"right\\\": 8248.43, \\\"count\\\": 19156}, {\\\"left\\\": 8248.43, \\\"right\\\": 11043.4, \\\"count\\\": 16566}, {\\\"left\\\": 11043.4, \\\"right\\\": 13838.3, \\\"count\\\": 15092}, {\\\"left\\\": 13838.3, \\\"right\\\": 16633.3, \\\"count\\\": 10328}, {\\\"left\\\": 16633.3, \\\"right\\\": 19428.3, \\\"count\\\": 8273}, {\\\"left\\\": 19428.3, \\\"right\\\": 22223.2, \\\"count\\\": 6572}, {\\\"left\\\": 22223.2, \\\"right\\\": 25018.2, \\\"count\\\": 5041}, {\\\"left\\\": 25018.2, \\\"right\\\": 27813.1, \\\"count\\\": 3741}, {\\\"left\\\": 27813.1, \\\"right\\\": 30608.1, \\\"count\\\": 2727}, {\\\"left\\\": 30608.1, \\\"right\\\": 33403.1, \\\"count\\\": 1921}, {\\\"left\\\": 33403.1, \\\"right\\\": 36198, \\\"count\\\": 1338}, {\\\"left\\\": 36198, \\\"right\\\": 38993, \\\"count\\\": 1301}, {\\\"left\\\": 38993, \\\"right\\\": 41787.9, \\\"count\\\": 894}, {\\\"left\\\": 41787.9, \\\"right\\\": 44582.9, \\\"count\\\": 493}, {\\\"left\\\": 44582.9, \\\"right\\\": 47377.9, \\\"count\\\": 194}, {\\\"left\\\": 47377.9, \\\"right\\\": 50172.8, \\\"count\\\": 82}, {\\\"left\\\": 50172.8, \\\"right\\\": 52967.8, \\\"count\\\": 32}, {\\\"left\\\": 52967.8, \\\"right\\\": 55762.7, \\\"count\\\": 6}], \\\"categorical\\\": []}, {\\\"a\\\": 39, \\\"title\\\": \\\"total_pymnt_inv\\\", \\\"num_row\\\": 122607, \\\"type\\\": \\\"float\\\", \\\"num_unique\\\": 108549, \\\"num_missing\\\": 0, \\\"mean\\\": 12269.338465, \\\"min\\\": 0.0, \\\"max\\\": 53913.9, \\\"median\\\": 10356.0, \\\"stdev\\\": 9061.556841, \\\"numeric\\\": [{\\\"left\\\": -746.887, \\\"right\\\": 2031.2, \\\"count\\\": 9153}, {\\\"left\\\": 2031.2, \\\"right\\\": 4809.29, \\\"count\\\": 16993}, {\\\"left\\\": 4809.29, \\\"right\\\": 7587.38, \\\"count\\\": 19445}, {\\\"left\\\": 7587.38, \\\"right\\\": 10365.5, \\\"count\\\": 15796}, {\\\"left\\\": 10365.5, \\\"right\\\": 13143.6, \\\"count\\\": 16102}, {\\\"left\\\": 13143.6, \\\"right\\\": 15921.6, \\\"count\\\": 10705}, {\\\"left\\\": 15921.6, \\\"right\\\": 18699.7, \\\"count\\\": 8944}, {\\\"left\\\": 18699.7, \\\"right\\\": 21477.8, \\\"count\\\": 6429}, {\\\"left\\\": 21477.8, \\\"right\\\": 24255.9, \\\"count\\\": 5482}, {\\\"left\\\": 24255.9, \\\"right\\\": 27034, \\\"count\\\": 4000}, {\\\"left\\\": 27034, \\\"right\\\": 29812.1, \\\"count\\\": 2755}, {\\\"left\\\": 29812.1, \\\"right\\\": 32590.2, \\\"count\\\": 2078}, {\\\"left\\\": 32590.2, \\\"right\\\": 35368.3, \\\"count\\\": 1286}, {\\\"left\\\": 35368.3, \\\"right\\\": 38146.3, \\\"count\\\": 1442}, {\\\"left\\\": 38146.3, \\\"right\\\": 40924.4, \\\"count\\\": 1021}, {\\\"left\\\": 40924.4, \\\"right\\\": 43702.5, \\\"count\\\": 568}, {\\\"left\\\": 43702.5, \\\"right\\\": 46480.6, \\\"count\\\": 263}, {\\\"left\\\": 46480.6, \\\"right\\\": 49258.7, \\\"count\\\": 94}, {\\\"left\\\": 49258.7, \\\"right\\\": 52036.8, \\\"count\\\": 42}, {\\\"left\\\": 52036.8, \\\"right\\\": 54814.9, \\\"count\\\": 9}], \\\"categorical\\\": []}, {\\\"a\\\": 40, \\\"title\\\": \\\"total_rec_prncp\\\", \\\"num_row\\\": 122607, \\\"type\\\": \\\"float\\\", \\\"num_unique\\\": 23895, \\\"num_missing\\\": 0, \\\"mean\\\": 10707.86497, \\\"min\\\": 0.0, \\\"max\\\": 35000.0, \\\"median\\\": 9124.99, \\\"stdev\\\": 8041.743606, \\\"numeric\\\": [{\\\"left\\\": -688.512, \\\"right\\\": 1128.9, \\\"count\\\": 7259}, {\\\"left\\\": 1128.9, \\\"right\\\": 2946.32, \\\"count\\\": 12511}, {\\\"left\\\": 2946.32, \\\"right\\\": 4763.74, \\\"count\\\": 11761}, {\\\"left\\\": 4763.74, \\\"right\\\": 6581.15, \\\"count\\\": 14740}, {\\\"left\\\": 6581.15, \\\"right\\\": 8398.57, \\\"count\\\": 11202}, {\\\"left\\\": 8398.57, \\\"right\\\": 10216, \\\"count\\\": 14137}, {\\\"left\\\": 10216, \\\"right\\\": 12033.4, \\\"count\\\": 10224}, {\\\"left\\\": 12033.4, \\\"right\\\": 13850.8, \\\"count\\\": 3834}, {\\\"left\\\": 13850.8, \\\"right\\\": 15668.2, \\\"count\\\": 8569}, {\\\"left\\\": 15668.2, \\\"right\\\": 17485.6, \\\"count\\\": 4634}, {\\\"left\\\": 17485.6, \\\"right\\\": 19303.1, \\\"count\\\": 4276}, {\\\"left\\\": 19303.1, \\\"right\\\": 21120.5, \\\"count\\\": 6359}, {\\\"left\\\": 21120.5, \\\"right\\\": 22937.9, \\\"count\\\": 1553}, {\\\"left\\\": 22937.9, \\\"right\\\": 24755.3, \\\"count\\\": 2604}, {\\\"left\\\": 24755.3, \\\"right\\\": 26572.7, \\\"count\\\": 2757}, {\\\"left\\\": 26572.7, \\\"right\\\": 28390.1, \\\"count\\\": 1402}, {\\\"left\\\": 28390.1, \\\"right\\\": 30207.6, \\\"count\\\": 1632}, {\\\"left\\\": 30207.6, \\\"right\\\": 32025, \\\"count\\\": 443}, {\\\"left\\\": 32025, \\\"right\\\": 33842.4, \\\"count\\\": 290}, {\\\"left\\\": 33842.4, \\\"right\\\": 35659.8, \\\"count\\\": 2420}], \\\"categorical\\\": []}, {\\\"a\\\": 41, \\\"title\\\": \\\"total_rec_int\\\", \\\"num_row\\\": 122607, \\\"type\\\": \\\"float\\\", \\\"num_unique\\\": 100905, \\\"num_missing\\\": 0, \\\"mean\\\": 1696.232305, \\\"min\\\": 0.0, \\\"max\\\": 20758.2, \\\"median\\\": 1136.57, \\\"stdev\\\": 1793.441314, \\\"numeric\\\": [{\\\"left\\\": -496.699, \\\"right\\\": 593.605, \\\"count\\\": 33224}, {\\\"left\\\": 593.605, \\\"right\\\": 1683.91, \\\"count\\\": 47270}, {\\\"left\\\": 1683.91, \\\"right\\\": 2774.21, \\\"count\\\": 20772}, {\\\"left\\\": 2774.21, \\\"right\\\": 3864.52, \\\"count\\\": 9293}, {\\\"left\\\": 3864.52, \\\"right\\\": 4954.82, \\\"count\\\": 5031}, {\\\"left\\\": 4954.82, \\\"right\\\": 6045.12, \\\"count\\\": 2740}, {\\\"left\\\": 6045.12, \\\"right\\\": 7135.43, \\\"count\\\": 1686}, {\\\"left\\\": 7135.43, \\\"right\\\": 8225.73, \\\"count\\\": 1002}, {\\\"left\\\": 8225.73, \\\"right\\\": 9316.04, \\\"count\\\": 619}, {\\\"left\\\": 9316.04, \\\"right\\\": 10406.3, \\\"count\\\": 371}, {\\\"left\\\": 10406.3, \\\"right\\\": 11496.6, \\\"count\\\": 234}, {\\\"left\\\": 11496.6, \\\"right\\\": 12586.9, \\\"count\\\": 133}, {\\\"left\\\": 12586.9, \\\"right\\\": 13677.3, \\\"count\\\": 89}, {\\\"left\\\": 13677.3, \\\"right\\\": 14767.6, \\\"count\\\": 79}, {\\\"left\\\": 14767.6, \\\"right\\\": 15857.9, \\\"count\\\": 33}, {\\\"left\\\": 15857.9, \\\"right\\\": 16948.2, \\\"count\\\": 17}, {\\\"left\\\": 16948.2, \\\"right\\\": 18038.5, \\\"count\\\": 8}, {\\\"left\\\": 18038.5, \\\"right\\\": 19128.8, \\\"count\\\": 4}, {\\\"left\\\": 19128.8, \\\"right\\\": 20219.1, \\\"count\\\": 1}, {\\\"left\\\": 20219.1, \\\"right\\\": 21309.4, \\\"count\\\": 1}], \\\"categorical\\\": []}, {\\\"a\\\": 42, \\\"title\\\": \\\"total_rec_late_fee\\\", \\\"num_row\\\": 122607, \\\"type\\\": \\\"float\\\", \\\"num_unique\\\": 2472, \\\"num_missing\\\": 0, \\\"mean\\\": 0.742344, \\\"min\\\": 0.0, \\\"max\\\": 208.82, \\\"median\\\": 0.0, \\\"stdev\\\": 5.363247, \\\"numeric\\\": [{\\\"left\\\": -0.65036, \\\"right\\\": 9.8354, \\\"count\\\": 119210}, {\\\"left\\\": 9.8354, \\\"right\\\": 20.3212, \\\"count\\\": 1813}, {\\\"left\\\": 20.3212, \\\"right\\\": 30.8069, \\\"count\\\": 771}, {\\\"left\\\": 30.8069, \\\"right\\\": 41.2927, \\\"count\\\": 303}, {\\\"left\\\": 41.2927, \\\"right\\\": 51.7784, \\\"count\\\": 239}, {\\\"left\\\": 51.7784, \\\"right\\\": 62.2642, \\\"count\\\": 113}, {\\\"left\\\": 62.2642, \\\"right\\\": 72.75, \\\"count\\\": 47}, {\\\"left\\\": 72.75, \\\"right\\\": 83.2357, \\\"count\\\": 38}, {\\\"left\\\": 83.2357, \\\"right\\\": 93.7215, \\\"count\\\": 28}, {\\\"left\\\": 93.7215, \\\"right\\\": 104.207, \\\"count\\\": 14}, {\\\"left\\\": 104.207, \\\"right\\\": 114.693, \\\"count\\\": 9}, {\\\"left\\\": 114.693, \\\"right\\\": 125.179, \\\"count\\\": 8}, {\\\"left\\\": 125.179, \\\"right\\\": 135.665, \\\"count\\\": 7}, {\\\"left\\\": 135.665, \\\"right\\\": 146.15, \\\"count\\\": 2}, {\\\"left\\\": 146.15, \\\"right\\\": 156.636, \\\"count\\\": 1}, {\\\"left\\\": 156.636, \\\"right\\\": 167.122, \\\"count\\\": 2}, {\\\"left\\\": 167.122, \\\"right\\\": 177.608, \\\"count\\\": 0}, {\\\"left\\\": 177.608, \\\"right\\\": 188.093, \\\"count\\\": 0}, {\\\"left\\\": 188.093, \\\"right\\\": 198.579, \\\"count\\\": 1}, {\\\"left\\\": 198.579, \\\"right\\\": 209.065, \\\"count\\\": 1}], \\\"categorical\\\": []}, {\\\"a\\\": 43, \\\"title\\\": \\\"recoveries\\\", \\\"num_row\\\": 122607, \\\"type\\\": \\\"float\\\", \\\"num_unique\\\": 10786, \\\"num_missing\\\": 0, \\\"mean\\\": 105.371929, \\\"min\\\": 0.0, \\\"max\\\": 29282.1, \\\"median\\\": 0.0, \\\"stdev\\\": 575.649634, \\\"numeric\\\": [{\\\"left\\\": -301.13, \\\"right\\\": 1197.49, \\\"count\\\": 119057}, {\\\"left\\\": 1197.49, \\\"right\\\": 2696.12, \\\"count\\\": 2378}, {\\\"left\\\": 2696.12, \\\"right\\\": 4194.74, \\\"count\\\": 790}, {\\\"left\\\": 4194.74, \\\"right\\\": 5693.37, \\\"count\\\": 231}, {\\\"left\\\": 5693.37, \\\"right\\\": 7191.99, \\\"count\\\": 43}, {\\\"left\\\": 7191.99, \\\"right\\\": 8690.61, \\\"count\\\": 35}, {\\\"left\\\": 8690.61, \\\"right\\\": 10189.2, \\\"count\\\": 18}, {\\\"left\\\": 10189.2, \\\"right\\\": 11687.9, \\\"count\\\": 13}, {\\\"left\\\": 11687.9, \\\"right\\\": 13186.5, \\\"count\\\": 17}, {\\\"left\\\": 13186.5, \\\"right\\\": 14685.1, \\\"count\\\": 9}, {\\\"left\\\": 14685.1, \\\"right\\\": 16183.7, \\\"count\\\": 7}, {\\\"left\\\": 16183.7, \\\"right\\\": 17682.4, \\\"count\\\": 1}, {\\\"left\\\": 17682.4, \\\"right\\\": 19181, \\\"count\\\": 2}, {\\\"left\\\": 19181, \\\"right\\\": 20679.6, \\\"count\\\": 2}, {\\\"left\\\": 20679.6, \\\"right\\\": 22178.2, \\\"count\\\": 1}, {\\\"left\\\": 22178.2, \\\"right\\\": 23676.9, \\\"count\\\": 1}, {\\\"left\\\": 23676.9, \\\"right\\\": 25175.5, \\\"count\\\": 0}, {\\\"left\\\": 25175.5, \\\"right\\\": 26674.1, \\\"count\\\": 0}, {\\\"left\\\": 26674.1, \\\"right\\\": 28172.7, \\\"count\\\": 1}, {\\\"left\\\": 28172.7, \\\"right\\\": 29671.4, \\\"count\\\": 1}], \\\"categorical\\\": []}, {\\\"a\\\": 44, \\\"title\\\": \\\"collection_recovery_fee\\\", \\\"num_row\\\": 122607, \\\"type\\\": \\\"float\\\", \\\"num_unique\\\": 7236, \\\"num_missing\\\": 0, \\\"mean\\\": 4.957537, \\\"min\\\": 0.0, \\\"max\\\": 7002.19, \\\"median\\\": 0.0, \\\"stdev\\\": 94.426622, \\\"numeric\\\": [{\\\"left\\\": -144.935, \\\"right\\\": 218.79, \\\"count\\\": 122170}, {\\\"left\\\": 218.79, \\\"right\\\": 582.515, \\\"count\\\": 194}, {\\\"left\\\": 582.515, \\\"right\\\": 946.239, \\\"count\\\": 86}, {\\\"left\\\": 946.239, \\\"right\\\": 1309.96, \\\"count\\\": 45}, {\\\"left\\\": 1309.96, \\\"right\\\": 1673.69, \\\"count\\\": 39}, {\\\"left\\\": 1673.69, \\\"right\\\": 2037.41, \\\"count\\\": 12}, {\\\"left\\\": 2037.41, \\\"right\\\": 2401.14, \\\"count\\\": 12}, {\\\"left\\\": 2401.14, \\\"right\\\": 2764.86, \\\"count\\\": 14}, {\\\"left\\\": 2764.86, \\\"right\\\": 3128.59, \\\"count\\\": 6}, {\\\"left\\\": 3128.59, \\\"right\\\": 3492.31, \\\"count\\\": 3}, {\\\"left\\\": 3492.31, \\\"right\\\": 3856.04, \\\"count\\\": 7}, {\\\"left\\\": 3856.04, \\\"right\\\": 4219.76, \\\"count\\\": 5}, {\\\"left\\\": 4219.76, \\\"right\\\": 4583.49, \\\"count\\\": 1}, {\\\"left\\\": 4583.49, \\\"right\\\": 4947.21, \\\"count\\\": 4}, {\\\"left\\\": 4947.21, \\\"right\\\": 5310.94, \\\"count\\\": 3}, {\\\"left\\\": 5310.94, \\\"right\\\": 5674.66, \\\"count\\\": 2}, {\\\"left\\\": 5674.66, \\\"right\\\": 6038.39, \\\"count\\\": 1}, {\\\"left\\\": 6038.39, \\\"right\\\": 6402.11, \\\"count\\\": 0}, {\\\"left\\\": 6402.11, \\\"right\\\": 6765.84, \\\"count\\\": 1}, {\\\"left\\\": 6765.84, \\\"right\\\": 7129.56, \\\"count\\\": 2}], \\\"categorical\\\": []}, {\\\"a\\\": 45, \\\"title\\\": \\\"last_pymnt_d\\\", \\\"num_row\\\": 122607, \\\"type\\\": \\\"str\\\", \\\"num_unique\\\": 88, \\\"num_missing\\\": 0, \\\"categorical\\\": [{\\\"label\\\": \\\"20150101T000000\\\", \\\"label_idx\\\": 0, \\\"count\\\": 6925, \\\"percentage\\\": \\\"5.64813%\\\"}, {\\\"label\\\": \\\"20141001T000000\\\", \\\"label_idx\\\": 1, \\\"count\\\": 6659, \\\"percentage\\\": \\\"5.43117%\\\"}, {\\\"label\\\": \\\"20140901T000000\\\", \\\"label_idx\\\": 2, \\\"count\\\": 6338, \\\"percentage\\\": \\\"5.16936%\\\"}, {\\\"label\\\": \\\"20140701T000000\\\", \\\"label_idx\\\": 3, \\\"count\\\": 6312, \\\"percentage\\\": \\\"5.14816%\\\"}, {\\\"label\\\": \\\"20140801T000000\\\", \\\"label_idx\\\": 4, \\\"count\\\": 6307, \\\"percentage\\\": \\\"5.14408%\\\"}, {\\\"label\\\": \\\"20141201T000000\\\", \\\"label_idx\\\": 5, \\\"count\\\": 5715, \\\"percentage\\\": \\\"4.66123%\\\"}, {\\\"label\\\": \\\"20140601T000000\\\", \\\"label_idx\\\": 6, \\\"count\\\": 5620, \\\"percentage\\\": \\\"4.58375%\\\"}, {\\\"label\\\": \\\"20141101T000000\\\", \\\"label_idx\\\": 7, \\\"count\\\": 4995, \\\"percentage\\\": \\\"4.07399%\\\"}, {\\\"label\\\": \\\"20140501T000000\\\", \\\"label_idx\\\": 8, \\\"count\\\": 4721, \\\"percentage\\\": \\\"3.85051%\\\"}, {\\\"label\\\": \\\"20140301T000000\\\", \\\"label_idx\\\": 9, \\\"count\\\": 4572, \\\"percentage\\\": \\\"3.72899%\\\"}, {\\\"label\\\": \\\"Other (78 labels)\\\", \\\"label_idx\\\": 10, \\\"count\\\": 64443, \\\"percentage\\\": \\\"52.5606%\\\"}], \\\"numeric\\\": []}, {\\\"a\\\": 46, \\\"title\\\": \\\"last_pymnt_amnt\\\", \\\"num_row\\\": 122607, \\\"type\\\": \\\"float\\\", \\\"num_unique\\\": 101288, \\\"num_missing\\\": 0, \\\"mean\\\": 6156.808616, \\\"min\\\": 0.0, \\\"max\\\": 36234.4, \\\"median\\\": 3615.75, \\\"stdev\\\": 7154.978715, \\\"numeric\\\": [{\\\"left\\\": -1024.91, \\\"right\\\": 890.539, \\\"count\\\": 43257}, {\\\"left\\\": 890.539, \\\"right\\\": 2805.99, \\\"count\\\": 13213}, {\\\"left\\\": 2805.99, \\\"right\\\": 4721.45, \\\"count\\\": 11593}, {\\\"left\\\": 4721.45, \\\"right\\\": 6636.9, \\\"count\\\": 10860}, {\\\"left\\\": 6636.9, \\\"right\\\": 8552.35, \\\"count\\\": 9016}, {\\\"left\\\": 8552.35, \\\"right\\\": 10467.8, \\\"count\\\": 7475}, {\\\"left\\\": 10467.8, \\\"right\\\": 12383.3, \\\"count\\\": 5718}, {\\\"left\\\": 12383.3, \\\"right\\\": 14298.7, \\\"count\\\": 4780}, {\\\"left\\\": 14298.7, \\\"right\\\": 16214.2, \\\"count\\\": 3984}, {\\\"left\\\": 16214.2, \\\"right\\\": 18129.6, \\\"count\\\": 3014}, {\\\"left\\\": 18129.6, \\\"right\\\": 20045.1, \\\"count\\\": 2498}, {\\\"left\\\": 20045.1, \\\"right\\\": 21960.5, \\\"count\\\": 1762}, {\\\"left\\\": 21960.5, \\\"right\\\": 23876, \\\"count\\\": 1377}, {\\\"left\\\": 23876, \\\"right\\\": 25791.4, \\\"count\\\": 1205}, {\\\"left\\\": 25791.4, \\\"right\\\": 27706.9, \\\"count\\\": 756}, {\\\"left\\\": 27706.9, \\\"right\\\": 29622.3, \\\"count\\\": 637}, {\\\"left\\\": 29622.3, \\\"right\\\": 31537.8, \\\"count\\\": 546}, {\\\"left\\\": 31537.8, \\\"right\\\": 33453.2, \\\"count\\\": 397}, {\\\"left\\\": 33453.2, \\\"right\\\": 35368.7, \\\"count\\\": 401}, {\\\"left\\\": 35368.7, \\\"right\\\": 37284.2, \\\"count\\\": 118}], \\\"categorical\\\": []}, {\\\"a\\\": 47, \\\"title\\\": \\\"next_pymnt_d\\\", \\\"num_row\\\": 122607, \\\"type\\\": \\\"str\\\", \\\"num_unique\\\": 90, \\\"num_missing\\\": 0, \\\"categorical\\\": [{\\\"label\\\": \\\"\\\", \\\"label_idx\\\": 0, \\\"count\\\": 119700, \\\"percentage\\\": \\\"97.629%\\\"}, {\\\"label\\\": \\\"Other (89 labels)\\\", \\\"label_idx\\\": 1, \\\"count\\\": 2907, \\\"percentage\\\": \\\"2.37099%\\\"}], \\\"numeric\\\": []}, {\\\"a\\\": 48, \\\"title\\\": \\\"last_credit_pull_d\\\", \\\"num_row\\\": 122607, \\\"type\\\": \\\"str\\\", \\\"num_unique\\\": 93, \\\"num_missing\\\": 0, \\\"categorical\\\": [{\\\"label\\\": \\\"20150201T000000\\\", \\\"label_idx\\\": 0, \\\"count\\\": 36203, \\\"percentage\\\": \\\"29.5277%\\\"}, {\\\"label\\\": \\\"20150101T000000\\\", \\\"label_idx\\\": 1, \\\"count\\\": 8935, \\\"percentage\\\": \\\"7.28751%\\\"}, {\\\"label\\\": \\\"20141201T000000\\\", \\\"label_idx\\\": 2, \\\"count\\\": 6455, \\\"percentage\\\": \\\"5.26479%\\\"}, {\\\"label\\\": \\\"20141001T000000\\\", \\\"label_idx\\\": 3, \\\"count\\\": 5669, \\\"percentage\\\": \\\"4.62372%\\\"}, {\\\"label\\\": \\\"20141101T000000\\\", \\\"label_idx\\\": 4, \\\"count\\\": 5408, \\\"percentage\\\": \\\"4.41084%\\\"}, {\\\"label\\\": \\\"20140901T000000\\\", \\\"label_idx\\\": 5, \\\"count\\\": 4791, \\\"percentage\\\": \\\"3.90761%\\\"}, {\\\"label\\\": \\\"20140801T000000\\\", \\\"label_idx\\\": 6, \\\"count\\\": 4335, \\\"percentage\\\": \\\"3.53569%\\\"}, {\\\"label\\\": \\\"20140701T000000\\\", \\\"label_idx\\\": 7, \\\"count\\\": 4306, \\\"percentage\\\": \\\"3.51203%\\\"}, {\\\"label\\\": \\\"20140501T000000\\\", \\\"label_idx\\\": 8, \\\"count\\\": 3367, \\\"percentage\\\": \\\"2.74617%\\\"}, {\\\"label\\\": \\\"20140601T000000\\\", \\\"label_idx\\\": 9, \\\"count\\\": 3322, \\\"percentage\\\": \\\"2.70947%\\\"}, {\\\"label\\\": \\\"Other (83 labels)\\\", \\\"label_idx\\\": 10, \\\"count\\\": 39816, \\\"percentage\\\": \\\"32.4745%\\\"}], \\\"numeric\\\": []}, {\\\"a\\\": 49, \\\"title\\\": \\\"collections_12_mths_ex_med\\\", \\\"num_row\\\": 122607, \\\"type\\\": \\\"integer\\\", \\\"num_unique\\\": 6, \\\"num_missing\\\": 145, \\\"mean\\\": 0.003495, \\\"min\\\": 0.0, \\\"max\\\": 5.0, \\\"median\\\": 0.0, \\\"stdev\\\": 0.063674, \\\"numeric\\\": [{\\\"left\\\": -0.05644, \\\"right\\\": 0.19956, \\\"count\\\": 122062}, {\\\"left\\\": 0.19956, \\\"right\\\": 0.45556, \\\"count\\\": 0}, {\\\"left\\\": 0.45556, \\\"right\\\": 0.71156, \\\"count\\\": 0}, {\\\"left\\\": 0.71156, \\\"right\\\": 0.96756, \\\"count\\\": 0}, {\\\"left\\\": 0.96756, \\\"right\\\": 1.22356, \\\"count\\\": 376}, {\\\"left\\\": 1.22356, \\\"right\\\": 1.47956, \\\"count\\\": 0}, {\\\"left\\\": 1.47956, \\\"right\\\": 1.73556, \\\"count\\\": 0}, {\\\"left\\\": 1.73556, \\\"right\\\": 1.99156, \\\"count\\\": 0}, {\\\"left\\\": 1.99156, \\\"right\\\": 2.24756, \\\"count\\\": 22}, {\\\"left\\\": 2.24756, \\\"right\\\": 2.50356, \\\"count\\\": 0}, {\\\"left\\\": 2.50356, \\\"right\\\": 2.75956, \\\"count\\\": 0}, {\\\"left\\\": 2.75956, \\\"right\\\": 3.01556, \\\"count\\\": 1}, {\\\"left\\\": 3.01556, \\\"right\\\": 3.27156, \\\"count\\\": 0}, {\\\"left\\\": 3.27156, \\\"right\\\": 3.52756, \\\"count\\\": 0}, {\\\"left\\\": 3.52756, \\\"right\\\": 3.78356, \\\"count\\\": 0}, {\\\"left\\\": 3.78356, \\\"right\\\": 4.03956, \\\"count\\\": 0}, {\\\"left\\\": 4.03956, \\\"right\\\": 4.29556, \\\"count\\\": 0}, {\\\"left\\\": 4.29556, \\\"right\\\": 4.55156, \\\"count\\\": 0}, {\\\"left\\\": 4.55156, \\\"right\\\": 4.80756, \\\"count\\\": 0}, {\\\"left\\\": 4.80756, \\\"right\\\": 5.06356, \\\"count\\\": 1}, {\\\"missing\\\": true, \\\"count\\\": 145}], \\\"categorical\\\": []}, {\\\"a\\\": 50, \\\"title\\\": \\\"policy_code\\\", \\\"num_row\\\": 122607, \\\"type\\\": \\\"integer\\\", \\\"num_unique\\\": 1, \\\"num_missing\\\": 0, \\\"mean\\\": 1.0, \\\"min\\\": 1.0, \\\"max\\\": 1.0, \\\"median\\\": 1.0, \\\"stdev\\\": 0.0, \\\"numeric\\\": [{\\\"left\\\": 1, \\\"right\\\": 1.00001, \\\"count\\\": 0}, {\\\"left\\\": 1.00001, \\\"right\\\": 1.00001, \\\"count\\\": 0}, {\\\"left\\\": 1.00001, \\\"right\\\": 1.00002, \\\"count\\\": 0}, {\\\"left\\\": 1.00002, \\\"right\\\": 1.00002, \\\"count\\\": 0}, {\\\"left\\\": 1.00002, \\\"right\\\": 1.00003, \\\"count\\\": 0}, {\\\"left\\\": 1.00003, \\\"right\\\": 1.00003, \\\"count\\\": 0}, {\\\"left\\\": 1.00003, \\\"right\\\": 1.00004, \\\"count\\\": 0}, {\\\"left\\\": 1.00004, \\\"right\\\": 1.00004, \\\"count\\\": 0}, {\\\"left\\\": 1.00004, \\\"right\\\": 1.00005, \\\"count\\\": 0}, {\\\"left\\\": 1.00005, \\\"right\\\": 1.00006, \\\"count\\\": 122607}, {\\\"left\\\": 1.00006, \\\"right\\\": 1.00006, \\\"count\\\": 0}, {\\\"left\\\": 1.00006, \\\"right\\\": 1.00007, \\\"count\\\": 0}, {\\\"left\\\": 1.00007, \\\"right\\\": 1.00007, \\\"count\\\": 0}, {\\\"left\\\": 1.00007, \\\"right\\\": 1.00008, \\\"count\\\": 0}, {\\\"left\\\": 1.00008, \\\"right\\\": 1.00008, \\\"count\\\": 0}, {\\\"left\\\": 1.00008, \\\"right\\\": 1.00009, \\\"count\\\": 0}, {\\\"left\\\": 1.00009, \\\"right\\\": 1.00009, \\\"count\\\": 0}, {\\\"left\\\": 1.00009, \\\"right\\\": 1.0001, \\\"count\\\": 0}, {\\\"left\\\": 1.0001, \\\"right\\\": 1.0001, \\\"count\\\": 0}, {\\\"left\\\": 1.0001, \\\"right\\\": 1.00011, \\\"count\\\": 0}], \\\"categorical\\\": []}, {\\\"a\\\": 51, \\\"title\\\": \\\"not_compliant\\\", \\\"num_row\\\": 122607, \\\"type\\\": \\\"integer\\\", \\\"num_unique\\\": 2, \\\"num_missing\\\": 0, \\\"mean\\\": 0.021761, \\\"min\\\": 0.0, \\\"max\\\": 1.0, \\\"median\\\": 0.0, \\\"stdev\\\": 0.145901, \\\"numeric\\\": [{\\\"left\\\": -0.01036, \\\"right\\\": 0.04084, \\\"count\\\": 119939}, {\\\"left\\\": 0.04084, \\\"right\\\": 0.09204, \\\"count\\\": 0}, {\\\"left\\\": 0.09204, \\\"right\\\": 0.14324, \\\"count\\\": 0}, {\\\"left\\\": 0.14324, \\\"right\\\": 0.19444, \\\"count\\\": 0}, {\\\"left\\\": 0.19444, \\\"right\\\": 0.24564, \\\"count\\\": 0}, {\\\"left\\\": 0.24564, \\\"right\\\": 0.29684, \\\"count\\\": 0}, {\\\"left\\\": 0.29684, \\\"right\\\": 0.34804, \\\"count\\\": 0}, {\\\"left\\\": 0.34804, \\\"right\\\": 0.39924, \\\"count\\\": 0}, {\\\"left\\\": 0.39924, \\\"right\\\": 0.45044, \\\"count\\\": 0}, {\\\"left\\\": 0.45044, \\\"right\\\": 0.50164, \\\"count\\\": 0}, {\\\"left\\\": 0.50164, \\\"right\\\": 0.55284, \\\"count\\\": 0}, {\\\"left\\\": 0.55284, \\\"right\\\": 0.60404, \\\"count\\\": 0}, {\\\"left\\\": 0.60404, \\\"right\\\": 0.65524, \\\"count\\\": 0}, {\\\"left\\\": 0.65524, \\\"right\\\": 0.70644, \\\"count\\\": 0}, {\\\"left\\\": 0.70644, \\\"right\\\": 0.75764, \\\"count\\\": 0}, {\\\"left\\\": 0.75764, \\\"right\\\": 0.80884, \\\"count\\\": 0}, {\\\"left\\\": 0.80884, \\\"right\\\": 0.86004, \\\"count\\\": 0}, {\\\"left\\\": 0.86004, \\\"right\\\": 0.91124, \\\"count\\\": 0}, {\\\"left\\\": 0.91124, \\\"right\\\": 0.96244, \\\"count\\\": 0}, {\\\"left\\\": 0.96244, \\\"right\\\": 1.01364, \\\"count\\\": 2668}], \\\"categorical\\\": []}, {\\\"a\\\": 52, \\\"title\\\": \\\"status\\\", \\\"num_row\\\": 122607, \\\"type\\\": \\\"str\\\", \\\"num_unique\\\": 3, \\\"num_missing\\\": 0, \\\"categorical\\\": [{\\\"label\\\": \\\"Fully Paid\\\", \\\"label_idx\\\": 0, \\\"count\\\": 99457, \\\"percentage\\\": \\\"81.1185%\\\"}, {\\\"label\\\": \\\"Charged Off\\\", \\\"label_idx\\\": 1, \\\"count\\\": 22911, \\\"percentage\\\": \\\"18.6865%\\\"}, {\\\"label\\\": \\\"Default\\\", \\\"label_idx\\\": 2, \\\"count\\\": 239, \\\"percentage\\\": \\\"0.194932%\\\"}], \\\"numeric\\\": []}, {\\\"a\\\": 53, \\\"title\\\": \\\"inactive_loans\\\", \\\"num_row\\\": 122607, \\\"type\\\": \\\"integer\\\", \\\"num_unique\\\": 1, \\\"num_missing\\\": 0, \\\"mean\\\": 1.0, \\\"min\\\": 1.0, \\\"max\\\": 1.0, \\\"median\\\": 1.0, \\\"stdev\\\": 0.0, \\\"numeric\\\": [{\\\"left\\\": 1, \\\"right\\\": 1.00001, \\\"count\\\": 0}, {\\\"left\\\": 1.00001, \\\"right\\\": 1.00001, \\\"count\\\": 0}, {\\\"left\\\": 1.00001, \\\"right\\\": 1.00002, \\\"count\\\": 0}, {\\\"left\\\": 1.00002, \\\"right\\\": 1.00002, \\\"count\\\": 0}, {\\\"left\\\": 1.00002, \\\"right\\\": 1.00003, \\\"count\\\": 0}, {\\\"left\\\": 1.00003, \\\"right\\\": 1.00003, \\\"count\\\": 0}, {\\\"left\\\": 1.00003, \\\"right\\\": 1.00004, \\\"count\\\": 0}, {\\\"left\\\": 1.00004, \\\"right\\\": 1.00004, \\\"count\\\": 0}, {\\\"left\\\": 1.00004, \\\"right\\\": 1.00005, \\\"count\\\": 0}, {\\\"left\\\": 1.00005, \\\"right\\\": 1.00006, \\\"count\\\": 122607}, {\\\"left\\\": 1.00006, \\\"right\\\": 1.00006, \\\"count\\\": 0}, {\\\"left\\\": 1.00006, \\\"right\\\": 1.00007, \\\"count\\\": 0}, {\\\"left\\\": 1.00007, \\\"right\\\": 1.00007, \\\"count\\\": 0}, {\\\"left\\\": 1.00007, \\\"right\\\": 1.00008, \\\"count\\\": 0}, {\\\"left\\\": 1.00008, \\\"right\\\": 1.00008, \\\"count\\\": 0}, {\\\"left\\\": 1.00008, \\\"right\\\": 1.00009, \\\"count\\\": 0}, {\\\"left\\\": 1.00009, \\\"right\\\": 1.00009, \\\"count\\\": 0}, {\\\"left\\\": 1.00009, \\\"right\\\": 1.0001, \\\"count\\\": 0}, {\\\"left\\\": 1.0001, \\\"right\\\": 1.0001, \\\"count\\\": 0}, {\\\"left\\\": 1.0001, \\\"right\\\": 1.00011, \\\"count\\\": 0}], \\\"categorical\\\": []}, {\\\"a\\\": 54, \\\"title\\\": \\\"bad_loans\\\", \\\"num_row\\\": 122607, \\\"type\\\": \\\"integer\\\", \\\"num_unique\\\": 2, \\\"num_missing\\\": 0, \\\"mean\\\": 0.188815, \\\"min\\\": 0.0, \\\"max\\\": 1.0, \\\"median\\\": 0.0, \\\"stdev\\\": 0.391361, \\\"numeric\\\": [{\\\"left\\\": 0, \\\"right\\\": 0.05, \\\"count\\\": 99457}, {\\\"left\\\": 0.05, \\\"right\\\": 0.1, \\\"count\\\": 0}, {\\\"left\\\": 0.1, \\\"right\\\": 0.15, \\\"count\\\": 0}, {\\\"left\\\": 0.15, \\\"right\\\": 0.2, \\\"count\\\": 0}, {\\\"left\\\": 0.2, \\\"right\\\": 0.25, \\\"count\\\": 0}, {\\\"left\\\": 0.25, \\\"right\\\": 0.3, \\\"count\\\": 0}, {\\\"left\\\": 0.3, \\\"right\\\": 0.35, \\\"count\\\": 0}, {\\\"left\\\": 0.35, \\\"right\\\": 0.4, \\\"count\\\": 0}, {\\\"left\\\": 0.4, \\\"right\\\": 0.45, \\\"count\\\": 0}, {\\\"left\\\": 0.45, \\\"right\\\": 0.5, \\\"count\\\": 0}, {\\\"left\\\": 0.5, \\\"right\\\": 0.55, \\\"count\\\": 0}, {\\\"left\\\": 0.55, \\\"right\\\": 0.6, \\\"count\\\": 0}, {\\\"left\\\": 0.6, \\\"right\\\": 0.65, \\\"count\\\": 0}, {\\\"left\\\": 0.65, \\\"right\\\": 0.7, \\\"count\\\": 0}, {\\\"left\\\": 0.7, \\\"right\\\": 0.75, \\\"count\\\": 0}, {\\\"left\\\": 0.75, \\\"right\\\": 0.8, \\\"count\\\": 0}, {\\\"left\\\": 0.8, \\\"right\\\": 0.85, \\\"count\\\": 0}, {\\\"left\\\": 0.85, \\\"right\\\": 0.9, \\\"count\\\": 0}, {\\\"left\\\": 0.9, \\\"right\\\": 0.95, \\\"count\\\": 0}, {\\\"left\\\": 0.95, \\\"right\\\": 1, \\\"count\\\": 23150}], \\\"categorical\\\": []}, {\\\"a\\\": 55, \\\"title\\\": \\\"emp_length_num\\\", \\\"num_row\\\": 122607, \\\"type\\\": \\\"integer\\\", \\\"num_unique\\\": 12, \\\"num_missing\\\": 0, \\\"mean\\\": 6.370256, \\\"min\\\": 0.0, \\\"max\\\": 11.0, \\\"median\\\": 6.0, \\\"stdev\\\": 3.735998, \\\"numeric\\\": [{\\\"left\\\": -0.08, \\\"right\\\": 0.48, \\\"count\\\": 4091}, {\\\"left\\\": 0.48, \\\"right\\\": 1.04, \\\"count\\\": 11072}, {\\\"left\\\": 1.04, \\\"right\\\": 1.6, \\\"count\\\": 0}, {\\\"left\\\": 1.6, \\\"right\\\": 2.16, \\\"count\\\": 8701}, {\\\"left\\\": 2.16, \\\"right\\\": 2.72, \\\"count\\\": 0}, {\\\"left\\\": 2.72, \\\"right\\\": 3.28, \\\"count\\\": 12048}, {\\\"left\\\": 3.28, \\\"right\\\": 3.84, \\\"count\\\": 0}, {\\\"left\\\": 3.84, \\\"right\\\": 4.4, \\\"count\\\": 10333}, {\\\"left\\\": 4.4, \\\"right\\\": 4.96, \\\"count\\\": 0}, {\\\"left\\\": 4.96, \\\"right\\\": 5.52, \\\"count\\\": 8544}, {\\\"left\\\": 5.52, \\\"right\\\": 6.08, \\\"count\\\": 9561}, {\\\"left\\\": 6.08, \\\"right\\\": 6.64, \\\"count\\\": 0}, {\\\"left\\\": 6.64, \\\"right\\\": 7.2, \\\"count\\\": 7629}, {\\\"left\\\": 7.2, \\\"right\\\": 7.76, \\\"count\\\": 0}, {\\\"left\\\": 7.76, \\\"right\\\": 8.32, \\\"count\\\": 6704}, {\\\"left\\\": 8.32, \\\"right\\\": 8.88, \\\"count\\\": 0}, {\\\"left\\\": 8.88, \\\"right\\\": 9.44, \\\"count\\\": 5373}, {\\\"left\\\": 9.44, \\\"right\\\": 10, \\\"count\\\": 0}, {\\\"left\\\": 10, \\\"right\\\": 10.56, \\\"count\\\": 4451}, {\\\"left\\\": 10.56, \\\"right\\\": 11.12, \\\"count\\\": 34100}], \\\"categorical\\\": []}, {\\\"a\\\": 56, \\\"title\\\": \\\"grade_num\\\", \\\"num_row\\\": 122607, \\\"type\\\": \\\"integer\\\", \\\"num_unique\\\": 7, \\\"num_missing\\\": 0, \\\"mean\\\": 4.232882, \\\"min\\\": 0.0, \\\"max\\\": 6.0, \\\"median\\\": 4.0, \\\"stdev\\\": 1.362132, \\\"numeric\\\": [{\\\"left\\\": -0.044, \\\"right\\\": 0.26, \\\"count\\\": 1074}, {\\\"left\\\": 0.26, \\\"right\\\": 0.564, \\\"count\\\": 0}, {\\\"left\\\": 0.564, \\\"right\\\": 0.868, \\\"count\\\": 0}, {\\\"left\\\": 0.868, \\\"right\\\": 1.172, \\\"count\\\": 3932}, {\\\"left\\\": 1.172, \\\"right\\\": 1.476, \\\"count\\\": 0}, {\\\"left\\\": 1.476, \\\"right\\\": 1.78, \\\"count\\\": 0}, {\\\"left\\\": 1.78, \\\"right\\\": 2.084, \\\"count\\\": 8990}, {\\\"left\\\": 2.084, \\\"right\\\": 2.388, \\\"count\\\": 0}, {\\\"left\\\": 2.388, \\\"right\\\": 2.692, \\\"count\\\": 0}, {\\\"left\\\": 2.692, \\\"right\\\": 2.996, \\\"count\\\": 0}, {\\\"left\\\": 2.996, \\\"right\\\": 3.3, \\\"count\\\": 19175}, {\\\"left\\\": 3.3, \\\"right\\\": 3.604, \\\"count\\\": 0}, {\\\"left\\\": 3.604, \\\"right\\\": 3.908, \\\"count\\\": 0}, {\\\"left\\\": 3.908, \\\"right\\\": 4.212, \\\"count\\\": 29950}, {\\\"left\\\": 4.212, \\\"right\\\": 4.516, \\\"count\\\": 0}, {\\\"left\\\": 4.516, \\\"right\\\": 4.82, \\\"count\\\": 0}, {\\\"left\\\": 4.82, \\\"right\\\": 5.124, \\\"count\\\": 37172}, {\\\"left\\\": 5.124, \\\"right\\\": 5.428, \\\"count\\\": 0}, {\\\"left\\\": 5.428, \\\"right\\\": 5.732, \\\"count\\\": 0}, {\\\"left\\\": 5.732, \\\"right\\\": 6.036, \\\"count\\\": 22314}], \\\"categorical\\\": []}, {\\\"a\\\": 57, \\\"title\\\": \\\"sub_grade_num\\\", \\\"num_row\\\": 122607, \\\"type\\\": \\\"float\\\", \\\"num_unique\\\": 5, \\\"num_missing\\\": 0, \\\"mean\\\": 0.597509, \\\"min\\\": 0.2, \\\"max\\\": 1.0, \\\"median\\\": 0.6, \\\"stdev\\\": 0.278933, \\\"numeric\\\": [{\\\"left\\\": 0.2, \\\"right\\\": 0.24, \\\"count\\\": 24040}, {\\\"left\\\": 0.24, \\\"right\\\": 0.28, \\\"count\\\": 0}, {\\\"left\\\": 0.28, \\\"right\\\": 0.32, \\\"count\\\": 0}, {\\\"left\\\": 0.32, \\\"right\\\": 0.36, \\\"count\\\": 0}, {\\\"left\\\": 0.36, \\\"right\\\": 0.4, \\\"count\\\": 0}, {\\\"left\\\": 0.4, \\\"right\\\": 0.44, \\\"count\\\": 24920}, {\\\"left\\\": 0.44, \\\"right\\\": 0.48, \\\"count\\\": 0}, {\\\"left\\\": 0.48, \\\"right\\\": 0.52, \\\"count\\\": 0}, {\\\"left\\\": 0.52, \\\"right\\\": 0.56, \\\"count\\\": 0}, {\\\"left\\\": 0.56, \\\"right\\\": 0.6, \\\"count\\\": 25148}, {\\\"left\\\": 0.6, \\\"right\\\": 0.64, \\\"count\\\": 0}, {\\\"left\\\": 0.64, \\\"right\\\": 0.68, \\\"count\\\": 0}, {\\\"left\\\": 0.68, \\\"right\\\": 0.72, \\\"count\\\": 0}, {\\\"left\\\": 0.72, \\\"right\\\": 0.76, \\\"count\\\": 0}, {\\\"left\\\": 0.76, \\\"right\\\": 0.8, \\\"count\\\": 8}, {\\\"left\\\": 0.8, \\\"right\\\": 0.84, \\\"count\\\": 25517}, {\\\"left\\\": 0.84, \\\"right\\\": 0.88, \\\"count\\\": 0}, {\\\"left\\\": 0.88, \\\"right\\\": 0.92, \\\"count\\\": 0}, {\\\"left\\\": 0.92, \\\"right\\\": 0.96, \\\"count\\\": 0}, {\\\"left\\\": 0.96, \\\"right\\\": 1, \\\"count\\\": 22974}], \\\"categorical\\\": []}, {\\\"a\\\": 58, \\\"title\\\": \\\"delinq_2yrs_zero\\\", \\\"num_row\\\": 122607, \\\"type\\\": \\\"integer\\\", \\\"num_unique\\\": 3, \\\"num_missing\\\": 29, \\\"mean\\\": 0.858107, \\\"min\\\": 0.0, \\\"max\\\": 1.0, \\\"median\\\": 1.0, \\\"stdev\\\": 0.348941, \\\"numeric\\\": [{\\\"left\\\": -0.01132, \\\"right\\\": 0.03988, \\\"count\\\": 17393}, {\\\"left\\\": 0.03988, \\\"right\\\": 0.09108, \\\"count\\\": 0}, {\\\"left\\\": 0.09108, \\\"right\\\": 0.14228, \\\"count\\\": 0}, {\\\"left\\\": 0.14228, \\\"right\\\": 0.19348, \\\"count\\\": 0}, {\\\"left\\\": 0.19348, \\\"right\\\": 0.24468, \\\"count\\\": 0}, {\\\"left\\\": 0.24468, \\\"right\\\": 0.29588, \\\"count\\\": 0}, {\\\"left\\\": 0.29588, \\\"right\\\": 0.34708, \\\"count\\\": 0}, {\\\"left\\\": 0.34708, \\\"right\\\": 0.39828, \\\"count\\\": 0}, {\\\"left\\\": 0.39828, \\\"right\\\": 0.44948, \\\"count\\\": 0}, {\\\"left\\\": 0.44948, \\\"right\\\": 0.50068, \\\"count\\\": 0}, {\\\"left\\\": 0.50068, \\\"right\\\": 0.55188, \\\"count\\\": 0}, {\\\"left\\\": 0.55188, \\\"right\\\": 0.60308, \\\"count\\\": 0}, {\\\"left\\\": 0.60308, \\\"right\\\": 0.65428, \\\"count\\\": 0}, {\\\"left\\\": 0.65428, \\\"right\\\": 0.70548, \\\"count\\\": 0}, {\\\"left\\\": 0.70548, \\\"right\\\": 0.75668, \\\"count\\\": 0}, {\\\"left\\\": 0.75668, \\\"right\\\": 0.80788, \\\"count\\\": 0}, {\\\"left\\\": 0.80788, \\\"right\\\": 0.85908, \\\"count\\\": 0}, {\\\"left\\\": 0.85908, \\\"right\\\": 0.91028, \\\"count\\\": 0}, {\\\"left\\\": 0.91028, \\\"right\\\": 0.96148, \\\"count\\\": 0}, {\\\"left\\\": 0.96148, \\\"right\\\": 1.01268, \\\"count\\\": 105185}, {\\\"missing\\\": true, \\\"count\\\": 29}], \\\"categorical\\\": []}, {\\\"a\\\": 59, \\\"title\\\": \\\"pub_rec_zero\\\", \\\"num_row\\\": 122607, \\\"type\\\": \\\"integer\\\", \\\"num_unique\\\": 3, \\\"num_missing\\\": 29, \\\"mean\\\": 0.908173, \\\"min\\\": 0.0, \\\"max\\\": 1.0, \\\"median\\\": 1.0, \\\"stdev\\\": 0.288782, \\\"numeric\\\": [{\\\"left\\\": -0.01132, \\\"right\\\": 0.03988, \\\"count\\\": 11256}, {\\\"left\\\": 0.03988, \\\"right\\\": 0.09108, \\\"count\\\": 0}, {\\\"left\\\": 0.09108, \\\"right\\\": 0.14228, \\\"count\\\": 0}, {\\\"left\\\": 0.14228, \\\"right\\\": 0.19348, \\\"count\\\": 0}, {\\\"left\\\": 0.19348, \\\"right\\\": 0.24468, \\\"count\\\": 0}, {\\\"left\\\": 0.24468, \\\"right\\\": 0.29588, \\\"count\\\": 0}, {\\\"left\\\": 0.29588, \\\"right\\\": 0.34708, \\\"count\\\": 0}, {\\\"left\\\": 0.34708, \\\"right\\\": 0.39828, \\\"count\\\": 0}, {\\\"left\\\": 0.39828, \\\"right\\\": 0.44948, \\\"count\\\": 0}, {\\\"left\\\": 0.44948, \\\"right\\\": 0.50068, \\\"count\\\": 0}, {\\\"left\\\": 0.50068, \\\"right\\\": 0.55188, \\\"count\\\": 0}, {\\\"left\\\": 0.55188, \\\"right\\\": 0.60308, \\\"count\\\": 0}, {\\\"left\\\": 0.60308, \\\"right\\\": 0.65428, \\\"count\\\": 0}, {\\\"left\\\": 0.65428, \\\"right\\\": 0.70548, \\\"count\\\": 0}, {\\\"left\\\": 0.70548, \\\"right\\\": 0.75668, \\\"count\\\": 0}, {\\\"left\\\": 0.75668, \\\"right\\\": 0.80788, \\\"count\\\": 0}, {\\\"left\\\": 0.80788, \\\"right\\\": 0.85908, \\\"count\\\": 0}, {\\\"left\\\": 0.85908, \\\"right\\\": 0.91028, \\\"count\\\": 0}, {\\\"left\\\": 0.91028, \\\"right\\\": 0.96148, \\\"count\\\": 0}, {\\\"left\\\": 0.96148, \\\"right\\\": 1.01268, \\\"count\\\": 111322}, {\\\"missing\\\": true, \\\"count\\\": 29}], \\\"categorical\\\": []}, {\\\"a\\\": 60, \\\"title\\\": \\\"collections_12_mths_zero\\\", \\\"num_row\\\": 122607, \\\"type\\\": \\\"integer\\\", \\\"num_unique\\\": 3, \\\"num_missing\\\": 145, \\\"mean\\\": 0.996734, \\\"min\\\": 0.0, \\\"max\\\": 1.0, \\\"median\\\": 1.0, \\\"stdev\\\": 0.057058, \\\"numeric\\\": [{\\\"left\\\": -0.01132, \\\"right\\\": 0.03988, \\\"count\\\": 400}, {\\\"left\\\": 0.03988, \\\"right\\\": 0.09108, \\\"count\\\": 0}, {\\\"left\\\": 0.09108, \\\"right\\\": 0.14228, \\\"count\\\": 0}, {\\\"left\\\": 0.14228, \\\"right\\\": 0.19348, \\\"count\\\": 0}, {\\\"left\\\": 0.19348, \\\"right\\\": 0.24468, \\\"count\\\": 0}, {\\\"left\\\": 0.24468, \\\"right\\\": 0.29588, \\\"count\\\": 0}, {\\\"left\\\": 0.29588, \\\"right\\\": 0.34708, \\\"count\\\": 0}, {\\\"left\\\": 0.34708, \\\"right\\\": 0.39828, \\\"count\\\": 0}, {\\\"left\\\": 0.39828, \\\"right\\\": 0.44948, \\\"count\\\": 0}, {\\\"left\\\": 0.44948, \\\"right\\\": 0.50068, \\\"count\\\": 0}, {\\\"left\\\": 0.50068, \\\"right\\\": 0.55188, \\\"count\\\": 0}, {\\\"left\\\": 0.55188, \\\"right\\\": 0.60308, \\\"count\\\": 0}, {\\\"left\\\": 0.60308, \\\"right\\\": 0.65428, \\\"count\\\": 0}, {\\\"left\\\": 0.65428, \\\"right\\\": 0.70548, \\\"count\\\": 0}, {\\\"left\\\": 0.70548, \\\"right\\\": 0.75668, \\\"count\\\": 0}, {\\\"left\\\": 0.75668, \\\"right\\\": 0.80788, \\\"count\\\": 0}, {\\\"left\\\": 0.80788, \\\"right\\\": 0.85908, \\\"count\\\": 0}, {\\\"left\\\": 0.85908, \\\"right\\\": 0.91028, \\\"count\\\": 0}, {\\\"left\\\": 0.91028, \\\"right\\\": 0.96148, \\\"count\\\": 0}, {\\\"left\\\": 0.96148, \\\"right\\\": 1.01268, \\\"count\\\": 122062}, {\\\"missing\\\": true, \\\"count\\\": 145}], \\\"categorical\\\": []}, {\\\"a\\\": 61, \\\"title\\\": \\\"short_emp\\\", \\\"num_row\\\": 122607, \\\"type\\\": \\\"integer\\\", \\\"num_unique\\\": 2, \\\"num_missing\\\": 0, \\\"mean\\\": 0.123672, \\\"min\\\": 0.0, \\\"max\\\": 1.0, \\\"median\\\": 0.0, \\\"stdev\\\": 0.329206, \\\"numeric\\\": [{\\\"left\\\": 0, \\\"right\\\": 0.05, \\\"count\\\": 107444}, {\\\"left\\\": 0.05, \\\"right\\\": 0.1, \\\"count\\\": 0}, {\\\"left\\\": 0.1, \\\"right\\\": 0.15, \\\"count\\\": 0}, {\\\"left\\\": 0.15, \\\"right\\\": 0.2, \\\"count\\\": 0}, {\\\"left\\\": 0.2, \\\"right\\\": 0.25, \\\"count\\\": 0}, {\\\"left\\\": 0.25, \\\"right\\\": 0.3, \\\"count\\\": 0}, {\\\"left\\\": 0.3, \\\"right\\\": 0.35, \\\"count\\\": 0}, {\\\"left\\\": 0.35, \\\"right\\\": 0.4, \\\"count\\\": 0}, {\\\"left\\\": 0.4, \\\"right\\\": 0.45, \\\"count\\\": 0}, {\\\"left\\\": 0.45, \\\"right\\\": 0.5, \\\"count\\\": 0}, {\\\"left\\\": 0.5, \\\"right\\\": 0.55, \\\"count\\\": 0}, {\\\"left\\\": 0.55, \\\"right\\\": 0.6, \\\"count\\\": 0}, {\\\"left\\\": 0.6, \\\"right\\\": 0.65, \\\"count\\\": 0}, {\\\"left\\\": 0.65, \\\"right\\\": 0.7, \\\"count\\\": 0}, {\\\"left\\\": 0.7, \\\"right\\\": 0.75, \\\"count\\\": 0}, {\\\"left\\\": 0.75, \\\"right\\\": 0.8, \\\"count\\\": 0}, {\\\"left\\\": 0.8, \\\"right\\\": 0.85, \\\"count\\\": 0}, {\\\"left\\\": 0.85, \\\"right\\\": 0.9, \\\"count\\\": 0}, {\\\"left\\\": 0.9, \\\"right\\\": 0.95, \\\"count\\\": 0}, {\\\"left\\\": 0.95, \\\"right\\\": 1, \\\"count\\\": 15163}], \\\"categorical\\\": []}, {\\\"a\\\": 62, \\\"title\\\": \\\"payment_inc_ratio\\\", \\\"num_row\\\": 122607, \\\"type\\\": \\\"float\\\", \\\"num_unique\\\": 94248, \\\"num_missing\\\": 4, \\\"mean\\\": 7.564725, \\\"min\\\": 0.028895, \\\"max\\\": 54.171, \\\"median\\\": 6.96855, \\\"stdev\\\": 4.127275, \\\"numeric\\\": [{\\\"left\\\": -0.435948, \\\"right\\\": 2.3242, \\\"count\\\": 9634}, {\\\"left\\\": 2.3242, \\\"right\\\": 5.08434, \\\"count\\\": 29567}, {\\\"left\\\": 5.08434, \\\"right\\\": 7.84448, \\\"count\\\": 31653}, {\\\"left\\\": 7.84448, \\\"right\\\": 10.6046, \\\"count\\\": 23895}, {\\\"left\\\": 10.6046, \\\"right\\\": 13.3648, \\\"count\\\": 15395}, {\\\"left\\\": 13.3648, \\\"right\\\": 16.1249, \\\"count\\\": 8426}, {\\\"left\\\": 16.1249, \\\"right\\\": 18.8851, \\\"count\\\": 3058}, {\\\"left\\\": 18.8851, \\\"right\\\": 21.6452, \\\"count\\\": 823}, {\\\"left\\\": 21.6452, \\\"right\\\": 24.4053, \\\"count\\\": 110}, {\\\"left\\\": 24.4053, \\\"right\\\": 27.1655, \\\"count\\\": 25}, {\\\"left\\\": 27.1655, \\\"right\\\": 29.9256, \\\"count\\\": 11}, {\\\"left\\\": 29.9256, \\\"right\\\": 32.6858, \\\"count\\\": 1}, {\\\"left\\\": 32.6858, \\\"right\\\": 35.4459, \\\"count\\\": 2}, {\\\"left\\\": 35.4459, \\\"right\\\": 38.2061, \\\"count\\\": 0}, {\\\"left\\\": 38.2061, \\\"right\\\": 40.9662, \\\"count\\\": 1}, {\\\"left\\\": 40.9662, \\\"right\\\": 43.7264, \\\"count\\\": 1}, {\\\"left\\\": 43.7264, \\\"right\\\": 46.4865, \\\"count\\\": 0}, {\\\"left\\\": 46.4865, \\\"right\\\": 49.2466, \\\"count\\\": 0}, {\\\"left\\\": 49.2466, \\\"right\\\": 52.0068, \\\"count\\\": 0}, {\\\"left\\\": 52.0068, \\\"right\\\": 54.7669, \\\"count\\\": 1}, {\\\"missing\\\": true, \\\"count\\\": 4}], \\\"categorical\\\": []}, {\\\"a\\\": 63, \\\"title\\\": \\\"final_d\\\", \\\"num_row\\\": 122607, \\\"type\\\": \\\"str\\\", \\\"num_unique\\\": 115, \\\"num_missing\\\": 0, \\\"categorical\\\": [{\\\"label\\\": \\\"20160501T000000\\\", \\\"label_idx\\\": 0, \\\"count\\\": 3102, \\\"percentage\\\": \\\"2.53003%\\\"}, {\\\"label\\\": \\\"20160401T000000\\\", \\\"label_idx\\\": 1, \\\"count\\\": 3041, \\\"percentage\\\": \\\"2.48028%\\\"}, {\\\"label\\\": \\\"20160701T000000\\\", \\\"label_idx\\\": 2, \\\"count\\\": 2975, \\\"percentage\\\": \\\"2.42645%\\\"}, {\\\"label\\\": \\\"20160801T000000\\\", \\\"label_idx\\\": 3, \\\"count\\\": 2966, \\\"percentage\\\": \\\"2.41911%\\\"}, {\\\"label\\\": \\\"20160601T000000\\\", \\\"label_idx\\\": 4, \\\"count\\\": 2957, \\\"percentage\\\": \\\"2.41177%\\\"}, {\\\"label\\\": \\\"20160301T000000\\\", \\\"label_idx\\\": 5, \\\"count\\\": 2863, \\\"percentage\\\": \\\"2.3351%\\\"}, {\\\"label\\\": \\\"20160901T000000\\\", \\\"label_idx\\\": 6, \\\"count\\\": 2829, \\\"percentage\\\": \\\"2.30737%\\\"}, {\\\"label\\\": \\\"20150901T000000\\\", \\\"label_idx\\\": 7, \\\"count\\\": 2797, \\\"percentage\\\": \\\"2.28127%\\\"}, {\\\"label\\\": \\\"20151001T000000\\\", \\\"label_idx\\\": 8, \\\"count\\\": 2760, \\\"percentage\\\": \\\"2.25109%\\\"}, {\\\"label\\\": \\\"20161001T000000\\\", \\\"label_idx\\\": 9, \\\"count\\\": 2752, \\\"percentage\\\": \\\"2.24457%\\\"}, {\\\"label\\\": \\\"Other (105 labels)\\\", \\\"label_idx\\\": 10, \\\"count\\\": 93565, \\\"percentage\\\": \\\"76.3129%\\\"}], \\\"numeric\\\": []}, {\\\"a\\\": 64, \\\"title\\\": \\\"last_delinq_none\\\", \\\"num_row\\\": 122607, \\\"type\\\": \\\"integer\\\", \\\"num_unique\\\": 2, \\\"num_missing\\\": 0, \\\"mean\\\": 0.588115, \\\"min\\\": 0.0, \\\"max\\\": 1.0, \\\"median\\\": 1.0, \\\"stdev\\\": 0.492175, \\\"numeric\\\": [{\\\"left\\\": -0.01132, \\\"right\\\": 0.03988, \\\"count\\\": 50500}, {\\\"left\\\": 0.03988, \\\"right\\\": 0.09108, \\\"count\\\": 0}, {\\\"left\\\": 0.09108, \\\"right\\\": 0.14228, \\\"count\\\": 0}, {\\\"left\\\": 0.14228, \\\"right\\\": 0.19348, \\\"count\\\": 0}, {\\\"left\\\": 0.19348, \\\"right\\\": 0.24468, \\\"count\\\": 0}, {\\\"left\\\": 0.24468, \\\"right\\\": 0.29588, \\\"count\\\": 0}, {\\\"left\\\": 0.29588, \\\"right\\\": 0.34708, \\\"count\\\": 0}, {\\\"left\\\": 0.34708, \\\"right\\\": 0.39828, \\\"count\\\": 0}, {\\\"left\\\": 0.39828, \\\"right\\\": 0.44948, \\\"count\\\": 0}, {\\\"left\\\": 0.44948, \\\"right\\\": 0.50068, \\\"count\\\": 0}, {\\\"left\\\": 0.50068, \\\"right\\\": 0.55188, \\\"count\\\": 0}, {\\\"left\\\": 0.55188, \\\"right\\\": 0.60308, \\\"count\\\": 0}, {\\\"left\\\": 0.60308, \\\"right\\\": 0.65428, \\\"count\\\": 0}, {\\\"left\\\": 0.65428, \\\"right\\\": 0.70548, \\\"count\\\": 0}, {\\\"left\\\": 0.70548, \\\"right\\\": 0.75668, \\\"count\\\": 0}, {\\\"left\\\": 0.75668, \\\"right\\\": 0.80788, \\\"count\\\": 0}, {\\\"left\\\": 0.80788, \\\"right\\\": 0.85908, \\\"count\\\": 0}, {\\\"left\\\": 0.85908, \\\"right\\\": 0.91028, \\\"count\\\": 0}, {\\\"left\\\": 0.91028, \\\"right\\\": 0.96148, \\\"count\\\": 0}, {\\\"left\\\": 0.96148, \\\"right\\\": 1.01268, \\\"count\\\": 72107}], \\\"categorical\\\": []}, {\\\"a\\\": 65, \\\"title\\\": \\\"last_record_none\\\", \\\"num_row\\\": 122607, \\\"type\\\": \\\"integer\\\", \\\"num_unique\\\": 2, \\\"num_missing\\\": 0, \\\"mean\\\": 0.897795, \\\"min\\\": 0.0, \\\"max\\\": 1.0, \\\"median\\\": 1.0, \\\"stdev\\\": 0.302917, \\\"numeric\\\": [{\\\"left\\\": -0.01132, \\\"right\\\": 0.03988, \\\"count\\\": 12531}, {\\\"left\\\": 0.03988, \\\"right\\\": 0.09108, \\\"count\\\": 0}, {\\\"left\\\": 0.09108, \\\"right\\\": 0.14228, \\\"count\\\": 0}, {\\\"left\\\": 0.14228, \\\"right\\\": 0.19348, \\\"count\\\": 0}, {\\\"left\\\": 0.19348, \\\"right\\\": 0.24468, \\\"count\\\": 0}, {\\\"left\\\": 0.24468, \\\"right\\\": 0.29588, \\\"count\\\": 0}, {\\\"left\\\": 0.29588, \\\"right\\\": 0.34708, \\\"count\\\": 0}, {\\\"left\\\": 0.34708, \\\"right\\\": 0.39828, \\\"count\\\": 0}, {\\\"left\\\": 0.39828, \\\"right\\\": 0.44948, \\\"count\\\": 0}, {\\\"left\\\": 0.44948, \\\"right\\\": 0.50068, \\\"count\\\": 0}, {\\\"left\\\": 0.50068, \\\"right\\\": 0.55188, \\\"count\\\": 0}, {\\\"left\\\": 0.55188, \\\"right\\\": 0.60308, \\\"count\\\": 0}, {\\\"left\\\": 0.60308, \\\"right\\\": 0.65428, \\\"count\\\": 0}, {\\\"left\\\": 0.65428, \\\"right\\\": 0.70548, \\\"count\\\": 0}, {\\\"left\\\": 0.70548, \\\"right\\\": 0.75668, \\\"count\\\": 0}, {\\\"left\\\": 0.75668, \\\"right\\\": 0.80788, \\\"count\\\": 0}, {\\\"left\\\": 0.80788, \\\"right\\\": 0.85908, \\\"count\\\": 0}, {\\\"left\\\": 0.85908, \\\"right\\\": 0.91028, \\\"count\\\": 0}, {\\\"left\\\": 0.91028, \\\"right\\\": 0.96148, \\\"count\\\": 0}, {\\\"left\\\": 0.96148, \\\"right\\\": 1.01268, \\\"count\\\": 110076}], \\\"categorical\\\": []}, {\\\"a\\\": 66, \\\"title\\\": \\\"last_major_derog_none\\\", \\\"num_row\\\": 122607, \\\"type\\\": \\\"integer\\\", \\\"num_unique\\\": 2, \\\"num_missing\\\": 0, \\\"mean\\\": 0.873906, \\\"min\\\": 0.0, \\\"max\\\": 1.0, \\\"median\\\": 1.0, \\\"stdev\\\": 0.331955, \\\"numeric\\\": [{\\\"left\\\": -0.01132, \\\"right\\\": 0.03988, \\\"count\\\": 15460}, {\\\"left\\\": 0.03988, \\\"right\\\": 0.09108, \\\"count\\\": 0}, {\\\"left\\\": 0.09108, \\\"right\\\": 0.14228, \\\"count\\\": 0}, {\\\"left\\\": 0.14228, \\\"right\\\": 0.19348, \\\"count\\\": 0}, {\\\"left\\\": 0.19348, \\\"right\\\": 0.24468, \\\"count\\\": 0}, {\\\"left\\\": 0.24468, \\\"right\\\": 0.29588, \\\"count\\\": 0}, {\\\"left\\\": 0.29588, \\\"right\\\": 0.34708, \\\"count\\\": 0}, {\\\"left\\\": 0.34708, \\\"right\\\": 0.39828, \\\"count\\\": 0}, {\\\"left\\\": 0.39828, \\\"right\\\": 0.44948, \\\"count\\\": 0}, {\\\"left\\\": 0.44948, \\\"right\\\": 0.50068, \\\"count\\\": 0}, {\\\"left\\\": 0.50068, \\\"right\\\": 0.55188, \\\"count\\\": 0}, {\\\"left\\\": 0.55188, \\\"right\\\": 0.60308, \\\"count\\\": 0}, {\\\"left\\\": 0.60308, \\\"right\\\": 0.65428, \\\"count\\\": 0}, {\\\"left\\\": 0.65428, \\\"right\\\": 0.70548, \\\"count\\\": 0}, {\\\"left\\\": 0.70548, \\\"right\\\": 0.75668, \\\"count\\\": 0}, {\\\"left\\\": 0.75668, \\\"right\\\": 0.80788, \\\"count\\\": 0}, {\\\"left\\\": 0.80788, \\\"right\\\": 0.85908, \\\"count\\\": 0}, {\\\"left\\\": 0.85908, \\\"right\\\": 0.91028, \\\"count\\\": 0}, {\\\"left\\\": 0.91028, \\\"right\\\": 0.96148, \\\"count\\\": 0}, {\\\"left\\\": 0.96148, \\\"right\\\": 1.01268, \\\"count\\\": 107147}], \\\"categorical\\\": []}]}, {\\\"name\\\": \\\"data_2\\\", \\\"source\\\": \\\"source_2\\\", \\\"transform\\\": [{\\\"type\\\": \\\"formula\\\", \\\"expr\\\": \\\"20\\\", \\\"as\\\": \\\"c_x_axis_back\\\"}, {\\\"type\\\": \\\"formula\\\", \\\"expr\\\": \\\"toNumber(datum[\\\\\\\"a\\\\\\\"])*300+66\\\", \\\"as\\\": \\\"c_main_background\\\"}, {\\\"type\\\": \\\"formula\\\", \\\"expr\\\": \\\"toNumber(datum[\\\\\\\"a\\\\\\\"])*300+43\\\", \\\"as\\\": \\\"c_top_bar\\\"}, {\\\"type\\\": \\\"formula\\\", \\\"expr\\\": \\\"toNumber(datum[\\\\\\\"a\\\\\\\"])*300+59\\\", \\\"as\\\": \\\"c_top_title\\\"}, {\\\"type\\\": \\\"formula\\\", \\\"expr\\\": \\\"toNumber(datum[\\\\\\\"a\\\\\\\"])*300+58\\\", \\\"as\\\": \\\"c_top_type\\\"}, {\\\"type\\\": \\\"formula\\\", \\\"expr\\\": \\\"toNumber(datum[\\\\\\\"a\\\\\\\"])*300+178\\\", \\\"as\\\": \\\"c_rule\\\"}, {\\\"type\\\": \\\"formula\\\", \\\"expr\\\": \\\"toNumber(datum[\\\\\\\"a\\\\\\\"])*300+106\\\", \\\"as\\\": \\\"c_num_rows\\\"}, {\\\"type\\\": \\\"formula\\\", \\\"expr\\\": \\\"toNumber(datum[\\\\\\\"a\\\\\\\"])*300+130\\\", \\\"as\\\": \\\"c_num_unique\\\"}, {\\\"type\\\": \\\"formula\\\", \\\"expr\\\": \\\"toNumber(datum[\\\\\\\"a\\\\\\\"])*300+154\\\", \\\"as\\\": \\\"c_missing\\\"}, {\\\"type\\\": \\\"formula\\\", \\\"expr\\\": \\\"toNumber(datum[\\\\\\\"a\\\\\\\"])*300+105\\\", \\\"as\\\": \\\"c_num_rows_val\\\"}, {\\\"type\\\": \\\"formula\\\", \\\"expr\\\": \\\"toNumber(datum[\\\\\\\"a\\\\\\\"])*300+130\\\", \\\"as\\\": \\\"c_num_unique_val\\\"}, {\\\"type\\\": \\\"formula\\\", \\\"expr\\\": \\\"toNumber(datum[\\\\\\\"a\\\\\\\"])*300+154\\\", \\\"as\\\": \\\"c_missing_val\\\"}, {\\\"type\\\": \\\"formula\\\", \\\"expr\\\": \\\"toNumber(datum[\\\\\\\"a\\\\\\\"])*300+195\\\", \\\"as\\\": \\\"c_frequent_items\\\"}, {\\\"type\\\": \\\"formula\\\", \\\"expr\\\": \\\"toNumber(datum[\\\\\\\"a\\\\\\\"])*300+218\\\", \\\"as\\\": \\\"c_first_item\\\"}, {\\\"type\\\": \\\"formula\\\", \\\"expr\\\": \\\"toNumber(datum[\\\\\\\"a\\\\\\\"])*300+235\\\", \\\"as\\\": \\\"c_second_item\\\"}, {\\\"type\\\": \\\"formula\\\", \\\"expr\\\": \\\"toNumber(datum[\\\\\\\"a\\\\\\\"])*300+252\\\", \\\"as\\\": \\\"c_third_item\\\"}, {\\\"type\\\": \\\"formula\\\", \\\"expr\\\": \\\"toNumber(datum[\\\\\\\"a\\\\\\\"])*300+269\\\", \\\"as\\\": \\\"c_fourth_item\\\"}, {\\\"type\\\": \\\"formula\\\", \\\"expr\\\": \\\"toNumber(datum[\\\\\\\"a\\\\\\\"])*300+286\\\", \\\"as\\\": \\\"c_fifth_item\\\"}, {\\\"type\\\": \\\"formula\\\", \\\"expr\\\": \\\"toNumber(datum[\\\\\\\"a\\\\\\\"])*300+200\\\", \\\"as\\\": \\\"c_mean\\\"}, {\\\"type\\\": \\\"formula\\\", \\\"expr\\\": \\\"toNumber(datum[\\\\\\\"a\\\\\\\"])*300+220\\\", \\\"as\\\": \\\"c_min\\\"}, {\\\"type\\\": \\\"formula\\\", \\\"expr\\\": \\\"toNumber(datum[\\\\\\\"a\\\\\\\"])*300+240\\\", \\\"as\\\": \\\"c_max\\\"}, {\\\"type\\\": \\\"formula\\\", \\\"expr\\\": \\\"toNumber(datum[\\\\\\\"a\\\\\\\"])*300+260\\\", \\\"as\\\": \\\"c_median\\\"}, {\\\"type\\\": \\\"formula\\\", \\\"expr\\\": \\\"toNumber(datum[\\\\\\\"a\\\\\\\"])*300+280\\\", \\\"as\\\": \\\"c_stdev\\\"}, {\\\"type\\\": \\\"formula\\\", \\\"expr\\\": \\\"toNumber(datum[\\\\\\\"a\\\\\\\"])*300+198\\\", \\\"as\\\": \\\"c_mean_val\\\"}, {\\\"type\\\": \\\"formula\\\", \\\"expr\\\": \\\"toNumber(datum[\\\\\\\"a\\\\\\\"])*300+218\\\", \\\"as\\\": \\\"c_min_val\\\"}, {\\\"type\\\": \\\"formula\\\", \\\"expr\\\": \\\"toNumber(datum[\\\\\\\"a\\\\\\\"])*300+238\\\", \\\"as\\\": \\\"c_max_val\\\"}, {\\\"type\\\": \\\"formula\\\", \\\"expr\\\": \\\"toNumber(datum[\\\\\\\"a\\\\\\\"])*300+258\\\", \\\"as\\\": \\\"c_median_val\\\"}, {\\\"type\\\": \\\"formula\\\", \\\"expr\\\": \\\"toNumber(datum[\\\\\\\"a\\\\\\\"])*300+278\\\", \\\"as\\\": \\\"c_stdev_val\\\"}, {\\\"type\\\": \\\"formula\\\", \\\"expr\\\": \\\"toNumber(datum[\\\\\\\"a\\\\\\\"])*300+106\\\", \\\"as\\\": \\\"graph_offset\\\"}, {\\\"type\\\": \\\"formula\\\", \\\"expr\\\": \\\"toNumber(datum[\\\\\\\"a\\\\\\\"])*300+132\\\", \\\"as\\\": \\\"graph_offset_categorical\\\"}, {\\\"type\\\": \\\"formula\\\", \\\"expr\\\": \\\"(toString(datum[\\\\\\\"type\\\\\\\"]) == \\\\\\\"integer\\\\\\\" || toString(datum[\\\\\\\"type\\\\\\\"]) == \\\\\\\"float\\\\\\\")?false:true\\\", \\\"as\\\": \\\"c_clip_val\\\"}, {\\\"type\\\": \\\"formula\\\", \\\"expr\\\": \\\"(toString(datum[\\\\\\\"type\\\\\\\"]) == \\\\\\\"integer\\\\\\\" || toString(datum[\\\\\\\"type\\\\\\\"]) == \\\\\\\"float\\\\\\\")?250:0\\\", \\\"as\\\": \\\"c_width_numeric_val\\\"}, {\\\"type\\\": \\\"formula\\\", \\\"expr\\\": \\\"(toString(datum[\\\\\\\"type\\\\\\\"]) == \\\\\\\"str\\\\\\\")?false:true\\\", \\\"as\\\": \\\"c_clip_val_cat\\\"}, {\\\"type\\\": \\\"formula\\\", \\\"expr\\\": \\\"(toString(datum[\\\\\\\"type\\\\\\\"]) == \\\\\\\"str\\\\\\\")?250:0\\\", \\\"as\\\": \\\"c_width_numeric_val_cat\\\"}]}], \\\"marks\\\": [{\\\"encode\\\": {\\\"enter\\\": {\\\"x\\\": {\\\"value\\\": 0}, \\\"width\\\": {\\\"value\\\": 734}, \\\"y\\\": {\\\"value\\\": 0}, \\\"height\\\": {\\\"value\\\": 366}, \\\"clip\\\": {\\\"value\\\": 0}, \\\"fill\\\": {\\\"value\\\": \\\"#ffffff\\\"}, \\\"fillOpacity\\\": {\\\"value\\\": 0}, \\\"stroke\\\": {\\\"value\\\": \\\"#000000\\\"}, \\\"strokeWidth\\\": {\\\"value\\\": 0}}}, \\\"marks\\\": [{\\\"encode\\\": {\\\"enter\\\": {\\\"x\\\": {\\\"value\\\": 0}, \\\"width\\\": {\\\"value\\\": 734}, \\\"y\\\": {\\\"value\\\": 0}, \\\"height\\\": {\\\"value\\\": 366}, \\\"clip\\\": {\\\"value\\\": 0}, \\\"fill\\\": {\\\"value\\\": \\\"#ffffff\\\"}, \\\"fillOpacity\\\": {\\\"value\\\": 0}, \\\"stroke\\\": {\\\"value\\\": \\\"#000000\\\"}, \\\"strokeWidth\\\": {\\\"value\\\": 0}}}, \\\"scales\\\": [], \\\"axes\\\": [], \\\"marks\\\": [{\\\"from\\\": {\\\"data\\\": \\\"data_2\\\"}, \\\"encode\\\": {\\\"enter\\\": {\\\"x\\\": {\\\"value\\\": 33}, \\\"width\\\": {\\\"value\\\": 700}, \\\"y\\\": {\\\"value\\\": 66}, \\\"height\\\": {\\\"value\\\": 250}, \\\"fill\\\": {\\\"value\\\": \\\"#FEFEFE\\\"}, \\\"fillOpacity\\\": {\\\"value\\\": 1}, \\\"stroke\\\": {\\\"value\\\": \\\"#DEDEDE\\\"}, \\\"strokeWidth\\\": {\\\"value\\\": 0.5}}, \\\"update\\\": {\\\"x\\\": {\\\"signal\\\": \\\"datum[\\\\\\\"c_x_axis_back\\\\\\\"]\\\"}, \\\"y\\\": {\\\"field\\\": \\\"c_main_background\\\"}}}, \\\"type\\\": \\\"rect\\\"}, {\\\"from\\\": {\\\"data\\\": \\\"data_2\\\"}, \\\"encode\\\": {\\\"enter\\\": {\\\"x\\\": {\\\"value\\\": 33}, \\\"width\\\": {\\\"value\\\": 700}, \\\"y\\\": {\\\"value\\\": 43}, \\\"height\\\": {\\\"value\\\": 30}, \\\"fill\\\": {\\\"value\\\": \\\"#F5F5F5\\\"}, \\\"fillOpacity\\\": {\\\"value\\\": 1}, \\\"stroke\\\": {\\\"value\\\": \\\"#DEDEDE\\\"}, \\\"strokeWidth\\\": {\\\"value\\\": 0.5}}, \\\"update\\\": {\\\"x\\\": {\\\"signal\\\": \\\"datum[\\\\\\\"c_x_axis_back\\\\\\\"]\\\"}, \\\"y\\\": {\\\"field\\\": \\\"c_top_bar\\\"}}}, \\\"type\\\": \\\"rect\\\"}, {\\\"from\\\": {\\\"data\\\": \\\"data_2\\\"}, \\\"encode\\\": {\\\"enter\\\": {\\\"x\\\": {\\\"value\\\": 720}, \\\"y\\\": {\\\"value\\\": 58}, \\\"text\\\": {\\\"signal\\\": \\\"&apos;&apos;+datum[\\\\\\\"type\\\\\\\"]\\\"}, \\\"align\\\": {\\\"value\\\": \\\"right\\\"}, \\\"baseline\\\": {\\\"value\\\": \\\"middle\\\"}, \\\"dx\\\": {\\\"value\\\": 0, \\\"offset\\\": 0}, \\\"dy\\\": {\\\"value\\\": 0, \\\"offset\\\": 0}, \\\"angle\\\": {\\\"value\\\": 0}, \\\"font\\\": {\\\"value\\\": \\\"AvenirNext-Medium\\\"}, \\\"fontSize\\\": {\\\"value\\\": 12}, \\\"fontWeight\\\": {\\\"value\\\": \\\"normal\\\"}, \\\"fontStyle\\\": {\\\"value\\\": \\\"normal\\\"}, \\\"fill\\\": {\\\"value\\\": \\\"#595859\\\"}}, \\\"update\\\": {\\\"x\\\": {\\\"signal\\\": \\\"datum[\\\\\\\"c_x_axis_back\\\\\\\"]+687\\\"}, \\\"y\\\": {\\\"field\\\": \\\"c_top_type\\\"}}}, \\\"type\\\": \\\"text\\\"}, {\\\"from\\\": {\\\"data\\\": \\\"data_2\\\"}, \\\"encode\\\": {\\\"enter\\\": {\\\"x\\\": {\\\"value\\\": 44}, \\\"y\\\": {\\\"value\\\": 59}, \\\"text\\\": {\\\"signal\\\": \\\"&apos;&apos;+datum[\\\\\\\"title\\\\\\\"]\\\"}, \\\"align\\\": {\\\"value\\\": \\\"left\\\"}, \\\"baseline\\\": {\\\"value\\\": \\\"middle\\\"}, \\\"dx\\\": {\\\"value\\\": 0, \\\"offset\\\": 0}, \\\"dy\\\": {\\\"value\\\": 0, \\\"offset\\\": 0}, \\\"angle\\\": {\\\"value\\\": 0}, \\\"font\\\": {\\\"value\\\": \\\"AvenirNext-Medium\\\"}, \\\"fontSize\\\": {\\\"value\\\": 15}, \\\"fontWeight\\\": {\\\"value\\\": \\\"normal\\\"}, \\\"fontStyle\\\": {\\\"value\\\": \\\"normal\\\"}, \\\"fill\\\": {\\\"value\\\": \\\"#9B9B9B\\\"}}, \\\"update\\\": {\\\"x\\\": {\\\"signal\\\": \\\"datum[\\\\\\\"c_x_axis_back\\\\\\\"]+11\\\"}, \\\"y\\\": {\\\"field\\\": \\\"c_top_title\\\"}}}, \\\"type\\\": \\\"text\\\"}, {\\\"from\\\": {\\\"data\\\": \\\"data_2\\\"}, \\\"encode\\\": {\\\"enter\\\": {\\\"x\\\": {\\\"value\\\": 500}, \\\"y\\\": {\\\"value\\\": 178}, \\\"stroke\\\": {\\\"value\\\": \\\"#EDEDEB\\\"}, \\\"strokeWidth\\\": {\\\"value\\\": 1}, \\\"strokeCap\\\": {\\\"value\\\": \\\"butt\\\"}, \\\"x2\\\": {\\\"value\\\": 720}, \\\"y2\\\": {\\\"value\\\": 178}}, \\\"update\\\": {\\\"x\\\": {\\\"signal\\\": \\\"datum[\\\\\\\"c_x_axis_back\\\\\\\"]+467\\\"}, \\\"x2\\\": {\\\"signal\\\": \\\"datum[\\\\\\\"c_x_axis_back\\\\\\\"]+687\\\"}, \\\"y\\\": {\\\"field\\\": \\\"c_rule\\\"}, \\\"y2\\\": {\\\"field\\\": \\\"c_rule\\\"}}}, \\\"type\\\": \\\"rule\\\"}, {\\\"from\\\": {\\\"data\\\": \\\"data_2\\\"}, \\\"encode\\\": {\\\"enter\\\": {\\\"x\\\": {\\\"value\\\": 500}, \\\"y\\\": {\\\"value\\\": 106}, \\\"text\\\": {\\\"value\\\": \\\"Num. Rows:\\\"}, \\\"align\\\": {\\\"value\\\": \\\"left\\\"}, \\\"baseline\\\": {\\\"value\\\": \\\"middle\\\"}, \\\"dx\\\": {\\\"value\\\": 0, \\\"offset\\\": 0}, \\\"dy\\\": {\\\"value\\\": 0, \\\"offset\\\": 0}, \\\"angle\\\": {\\\"value\\\": 0}, \\\"font\\\": {\\\"value\\\": \\\"AvenirNext-Medium\\\"}, \\\"fontSize\\\": {\\\"value\\\": 12}, \\\"fontWeight\\\": {\\\"value\\\": \\\"normal\\\"}, \\\"fontStyle\\\": {\\\"value\\\": \\\"normal\\\"}, \\\"fill\\\": {\\\"value\\\": \\\"#4A4A4A\\\"}}, \\\"update\\\": {\\\"x\\\": {\\\"signal\\\": \\\"datum[\\\\\\\"c_x_axis_back\\\\\\\"]+467\\\"}, \\\"y\\\": {\\\"field\\\": \\\"c_num_rows\\\"}}}, \\\"type\\\": \\\"text\\\"}, {\\\"from\\\": {\\\"data\\\": \\\"data_2\\\"}, \\\"encode\\\": {\\\"enter\\\": {\\\"x\\\": {\\\"value\\\": 500}, \\\"y\\\": {\\\"value\\\": 130}, \\\"text\\\": {\\\"value\\\": \\\"Num. Unique:\\\"}, \\\"align\\\": {\\\"value\\\": \\\"left\\\"}, \\\"baseline\\\": {\\\"value\\\": \\\"middle\\\"}, \\\"dx\\\": {\\\"value\\\": 0, \\\"offset\\\": 0}, \\\"dy\\\": {\\\"value\\\": 0, \\\"offset\\\": 0}, \\\"angle\\\": {\\\"value\\\": 0}, \\\"font\\\": {\\\"value\\\": \\\"AvenirNext-Medium\\\"}, \\\"fontSize\\\": {\\\"value\\\": 12}, \\\"fontWeight\\\": {\\\"value\\\": \\\"normal\\\"}, \\\"fontStyle\\\": {\\\"value\\\": \\\"normal\\\"}, \\\"fill\\\": {\\\"value\\\": \\\"#4A4A4A\\\"}}, \\\"update\\\": {\\\"x\\\": {\\\"signal\\\": \\\"datum[\\\\\\\"c_x_axis_back\\\\\\\"]+467\\\"}, \\\"y\\\": {\\\"field\\\": \\\"c_num_unique\\\"}}}, \\\"type\\\": \\\"text\\\"}, {\\\"from\\\": {\\\"data\\\": \\\"data_2\\\"}, \\\"encode\\\": {\\\"enter\\\": {\\\"x\\\": {\\\"value\\\": 500}, \\\"y\\\": {\\\"value\\\": 154}, \\\"text\\\": {\\\"value\\\": \\\"Missing:\\\"}, \\\"align\\\": {\\\"value\\\": \\\"left\\\"}, \\\"baseline\\\": {\\\"value\\\": \\\"middle\\\"}, \\\"dx\\\": {\\\"value\\\": 0, \\\"offset\\\": 0}, \\\"dy\\\": {\\\"value\\\": 0, \\\"offset\\\": 0}, \\\"angle\\\": {\\\"value\\\": 0}, \\\"font\\\": {\\\"value\\\": \\\"AvenirNext-Medium\\\"}, \\\"fontSize\\\": {\\\"value\\\": 12}, \\\"fontWeight\\\": {\\\"value\\\": \\\"normal\\\"}, \\\"fontStyle\\\": {\\\"value\\\": \\\"normal\\\"}, \\\"fill\\\": {\\\"value\\\": \\\"#4A4A4A\\\"}}, \\\"update\\\": {\\\"x\\\": {\\\"signal\\\": \\\"datum[\\\\\\\"c_x_axis_back\\\\\\\"]+467\\\"}, \\\"y\\\": {\\\"field\\\": \\\"c_missing\\\"}}}, \\\"type\\\": \\\"text\\\"}, {\\\"from\\\": {\\\"data\\\": \\\"data_2\\\"}, \\\"encode\\\": {\\\"enter\\\": {\\\"x\\\": {\\\"value\\\": 700}, \\\"y\\\": {\\\"value\\\": 105}, \\\"text\\\": {\\\"signal\\\": \\\"toString(format(datum[\\\\\\\"num_row\\\\\\\"], \\\\\\\",\\\\\\\"))\\\"}, \\\"align\\\": {\\\"value\\\": \\\"right\\\"}, \\\"baseline\\\": {\\\"value\\\": \\\"middle\\\"}, \\\"dx\\\": {\\\"value\\\": 0, \\\"offset\\\": 0}, \\\"dy\\\": {\\\"value\\\": 0, \\\"offset\\\": 0}, \\\"angle\\\": {\\\"value\\\": 0}, \\\"font\\\": {\\\"value\\\": \\\"AvenirNext-Medium\\\"}, \\\"fontSize\\\": {\\\"value\\\": 12}, \\\"fontWeight\\\": {\\\"value\\\": \\\"normal\\\"}, \\\"fontStyle\\\": {\\\"value\\\": \\\"normal\\\"}, \\\"fill\\\": {\\\"value\\\": \\\"#5A5A5A\\\"}}, \\\"update\\\": {\\\"x\\\": {\\\"signal\\\": \\\"datum[\\\\\\\"c_x_axis_back\\\\\\\"]+667\\\"}, \\\"y\\\": {\\\"field\\\": \\\"c_num_rows_val\\\"}}}, \\\"type\\\": \\\"text\\\"}, {\\\"from\\\": {\\\"data\\\": \\\"data_2\\\"}, \\\"encode\\\": {\\\"enter\\\": {\\\"x\\\": {\\\"value\\\": 700}, \\\"y\\\": {\\\"value\\\": 130}, \\\"text\\\": {\\\"signal\\\": \\\"toString(format(datum[\\\\\\\"num_unique\\\\\\\"], \\\\\\\",\\\\\\\"))\\\"}, \\\"align\\\": {\\\"value\\\": \\\"right\\\"}, \\\"baseline\\\": {\\\"value\\\": \\\"middle\\\"}, \\\"dx\\\": {\\\"value\\\": 0, \\\"offset\\\": 0}, \\\"dy\\\": {\\\"value\\\": 0, \\\"offset\\\": 0}, \\\"angle\\\": {\\\"value\\\": 0}, \\\"font\\\": {\\\"value\\\": \\\"AvenirNext-Medium\\\"}, \\\"fontSize\\\": {\\\"value\\\": 12}, \\\"fontWeight\\\": {\\\"value\\\": \\\"normal\\\"}, \\\"fontStyle\\\": {\\\"value\\\": \\\"normal\\\"}, \\\"fill\\\": {\\\"value\\\": \\\"#5A5A5A\\\"}}, \\\"update\\\": {\\\"x\\\": {\\\"signal\\\": \\\"datum[\\\\\\\"c_x_axis_back\\\\\\\"]+667\\\"}, \\\"y\\\": {\\\"field\\\": \\\"c_num_unique_val\\\"}}}, \\\"type\\\": \\\"text\\\"}, {\\\"from\\\": {\\\"data\\\": \\\"data_2\\\"}, \\\"encode\\\": {\\\"enter\\\": {\\\"x\\\": {\\\"value\\\": 700}, \\\"y\\\": {\\\"value\\\": 154}, \\\"text\\\": {\\\"signal\\\": \\\"toString(format(datum[\\\\\\\"num_missing\\\\\\\"], \\\\\\\",\\\\\\\"))\\\"}, \\\"align\\\": {\\\"value\\\": \\\"right\\\"}, \\\"baseline\\\": {\\\"value\\\": \\\"middle\\\"}, \\\"dx\\\": {\\\"value\\\": 0, \\\"offset\\\": 0}, \\\"dy\\\": {\\\"value\\\": 0, \\\"offset\\\": 0}, \\\"angle\\\": {\\\"value\\\": 0}, \\\"font\\\": {\\\"value\\\": \\\"AvenirNext-Medium\\\"}, \\\"fontSize\\\": {\\\"value\\\": 12}, \\\"fontWeight\\\": {\\\"value\\\": \\\"normal\\\"}, \\\"fontStyle\\\": {\\\"value\\\": \\\"normal\\\"}, \\\"fill\\\": {\\\"value\\\": \\\"#5A5A5A\\\"}}, \\\"update\\\": {\\\"x\\\": {\\\"signal\\\": \\\"datum[\\\\\\\"c_x_axis_back\\\\\\\"]+667\\\"}, \\\"y\\\": {\\\"field\\\": \\\"c_missing_val\\\"}}}, \\\"type\\\": \\\"text\\\"}, {\\\"from\\\": {\\\"data\\\": \\\"data_2\\\"}, \\\"encode\\\": {\\\"enter\\\": {\\\"x\\\": {\\\"value\\\": 500}, \\\"y\\\": {\\\"value\\\": 200}, \\\"text\\\": {\\\"signal\\\": \\\"(toString(datum[\\\\\\\"type\\\\\\\"]) == \\\\\\\"str\\\\\\\")? \\\\\\\"Frequent Items\\\\\\\":\\\\\\\"\\\\\\\"\\\"}, \\\"align\\\": {\\\"value\\\": \\\"left\\\"}, \\\"baseline\\\": {\\\"value\\\": \\\"middle\\\"}, \\\"dx\\\": {\\\"value\\\": 0, \\\"offset\\\": 0}, \\\"dy\\\": {\\\"value\\\": 0, \\\"offset\\\": 0}, \\\"angle\\\": {\\\"value\\\": 0}, \\\"clip\\\": {\\\"value\\\": true}, \\\"font\\\": {\\\"value\\\": \\\"AvenirNext-Medium\\\"}, \\\"fontSize\\\": {\\\"value\\\": 11}, \\\"fontWeight\\\": {\\\"value\\\": \\\"bold\\\"}, \\\"fontStyle\\\": {\\\"value\\\": \\\"normal\\\"}, \\\"fill\\\": {\\\"value\\\": \\\"#4A4A4A\\\"}}, \\\"update\\\": {\\\"x\\\": {\\\"signal\\\": \\\"datum[\\\\\\\"c_x_axis_back\\\\\\\"]+467\\\"}, \\\"y\\\": {\\\"field\\\": \\\"c_frequent_items\\\"}}}, \\\"type\\\": \\\"text\\\"}, {\\\"from\\\": {\\\"data\\\": \\\"data_2\\\"}, \\\"encode\\\": {\\\"enter\\\": {\\\"x\\\": {\\\"value\\\": 520}, \\\"y\\\": {\\\"value\\\": 200}, \\\"text\\\": {\\\"signal\\\": \\\"((datum[\\\\\\\"categorical\\\\\\\"].length >= 1) &amp;&amp; (toString(datum[\\\\\\\"type\\\\\\\"]) == \\\\\\\"str\\\\\\\"))? toString(datum[\\\\\\\"categorical\\\\\\\"][0][\\\\\\\"label\\\\\\\"]):\\\\\\\"\\\\\\\"\\\"}, \\\"align\\\": {\\\"value\\\": \\\"left\\\"}, \\\"baseline\\\": {\\\"value\\\": \\\"middle\\\"}, \\\"dx\\\": {\\\"value\\\": 0, \\\"offset\\\": 0}, \\\"dy\\\": {\\\"value\\\": 0, \\\"offset\\\": 0}, \\\"angle\\\": {\\\"value\\\": 0}, \\\"clip\\\": {\\\"value\\\": true}, \\\"font\\\": {\\\"value\\\": \\\"AvenirNext-Medium\\\"}, \\\"fontSize\\\": {\\\"value\\\": 11}, \\\"fontWeight\\\": {\\\"value\\\": \\\"normal\\\"}, \\\"fontStyle\\\": {\\\"value\\\": \\\"normal\\\"}, \\\"fill\\\": {\\\"value\\\": \\\"#4A4A4A\\\"}}, \\\"update\\\": {\\\"x\\\": {\\\"signal\\\": \\\"datum[\\\\\\\"c_x_axis_back\\\\\\\"]+487\\\"}, \\\"y\\\": {\\\"field\\\": \\\"c_first_item\\\"}}}, \\\"type\\\": \\\"text\\\"}, {\\\"from\\\": {\\\"data\\\": \\\"data_2\\\"}, \\\"encode\\\": {\\\"enter\\\": {\\\"x\\\": {\\\"value\\\": 520}, \\\"y\\\": {\\\"value\\\": 200}, \\\"text\\\": {\\\"signal\\\": \\\"((datum[\\\\\\\"categorical\\\\\\\"].length >= 2) &amp;&amp; (toString(datum[\\\\\\\"type\\\\\\\"]) == \\\\\\\"str\\\\\\\"))? toString(datum[\\\\\\\"categorical\\\\\\\"][1][\\\\\\\"label\\\\\\\"]):\\\\\\\"\\\\\\\"\\\"}, \\\"align\\\": {\\\"value\\\": \\\"left\\\"}, \\\"baseline\\\": {\\\"value\\\": \\\"middle\\\"}, \\\"dx\\\": {\\\"value\\\": 0, \\\"offset\\\": 0}, \\\"dy\\\": {\\\"value\\\": 0, \\\"offset\\\": 0}, \\\"angle\\\": {\\\"value\\\": 0}, \\\"clip\\\": {\\\"value\\\": true}, \\\"font\\\": {\\\"value\\\": \\\"AvenirNext-Medium\\\"}, \\\"fontSize\\\": {\\\"value\\\": 11}, \\\"fontWeight\\\": {\\\"value\\\": \\\"normal\\\"}, \\\"fontStyle\\\": {\\\"value\\\": \\\"normal\\\"}, \\\"fill\\\": {\\\"value\\\": \\\"#4A4A4A\\\"}}, \\\"update\\\": {\\\"x\\\": {\\\"signal\\\": \\\"datum[\\\\\\\"c_x_axis_back\\\\\\\"]+487\\\"}, \\\"y\\\": {\\\"field\\\": \\\"c_second_item\\\"}}}, \\\"type\\\": \\\"text\\\"}, {\\\"from\\\": {\\\"data\\\": \\\"data_2\\\"}, \\\"encode\\\": {\\\"enter\\\": {\\\"x\\\": {\\\"value\\\": 520}, \\\"y\\\": {\\\"value\\\": 200}, \\\"text\\\": {\\\"signal\\\": \\\"((datum[\\\\\\\"categorical\\\\\\\"].length >= 3) &amp;&amp; (toString(datum[\\\\\\\"type\\\\\\\"]) == \\\\\\\"str\\\\\\\"))? toString(datum[\\\\\\\"categorical\\\\\\\"][2][\\\\\\\"label\\\\\\\"]):\\\\\\\"\\\\\\\"\\\"}, \\\"align\\\": {\\\"value\\\": \\\"left\\\"}, \\\"baseline\\\": {\\\"value\\\": \\\"middle\\\"}, \\\"dx\\\": {\\\"value\\\": 0, \\\"offset\\\": 0}, \\\"dy\\\": {\\\"value\\\": 0, \\\"offset\\\": 0}, \\\"angle\\\": {\\\"value\\\": 0}, \\\"clip\\\": {\\\"value\\\": true}, \\\"font\\\": {\\\"value\\\": \\\"AvenirNext-Medium\\\"}, \\\"fontSize\\\": {\\\"value\\\": 11}, \\\"fontWeight\\\": {\\\"value\\\": \\\"normal\\\"}, \\\"fontStyle\\\": {\\\"value\\\": \\\"normal\\\"}, \\\"fill\\\": {\\\"value\\\": \\\"#4A4A4A\\\"}}, \\\"update\\\": {\\\"x\\\": {\\\"signal\\\": \\\"datum[\\\\\\\"c_x_axis_back\\\\\\\"]+487\\\"}, \\\"y\\\": {\\\"field\\\": \\\"c_third_item\\\"}}}, \\\"type\\\": \\\"text\\\"}, {\\\"from\\\": {\\\"data\\\": \\\"data_2\\\"}, \\\"encode\\\": {\\\"enter\\\": {\\\"x\\\": {\\\"value\\\": 520}, \\\"y\\\": {\\\"value\\\": 200}, \\\"text\\\": {\\\"signal\\\": \\\"((datum[\\\\\\\"categorical\\\\\\\"].length >= 4) &amp;&amp; (toString(datum[\\\\\\\"type\\\\\\\"]) == \\\\\\\"str\\\\\\\"))? toString(datum[\\\\\\\"categorical\\\\\\\"][3][\\\\\\\"label\\\\\\\"]):\\\\\\\"\\\\\\\"\\\"}, \\\"align\\\": {\\\"value\\\": \\\"left\\\"}, \\\"baseline\\\": {\\\"value\\\": \\\"middle\\\"}, \\\"dx\\\": {\\\"value\\\": 0, \\\"offset\\\": 0}, \\\"dy\\\": {\\\"value\\\": 0, \\\"offset\\\": 0}, \\\"angle\\\": {\\\"value\\\": 0}, \\\"clip\\\": {\\\"value\\\": true}, \\\"font\\\": {\\\"value\\\": \\\"AvenirNext-Medium\\\"}, \\\"fontSize\\\": {\\\"value\\\": 11}, \\\"fontWeight\\\": {\\\"value\\\": \\\"normal\\\"}, \\\"fontStyle\\\": {\\\"value\\\": \\\"normal\\\"}, \\\"fill\\\": {\\\"value\\\": \\\"#4A4A4A\\\"}}, \\\"update\\\": {\\\"x\\\": {\\\"signal\\\": \\\"datum[\\\\\\\"c_x_axis_back\\\\\\\"]+487\\\"}, \\\"y\\\": {\\\"field\\\": \\\"c_fourth_item\\\"}}}, \\\"type\\\": \\\"text\\\"}, {\\\"from\\\": {\\\"data\\\": \\\"data_2\\\"}, \\\"encode\\\": {\\\"enter\\\": {\\\"x\\\": {\\\"value\\\": 520}, \\\"y\\\": {\\\"value\\\": 200}, \\\"text\\\": {\\\"signal\\\": \\\"((datum[\\\\\\\"categorical\\\\\\\"].length >= 5) &amp;&amp; (toString(datum[\\\\\\\"type\\\\\\\"]) == \\\\\\\"str\\\\\\\"))? toString(datum[\\\\\\\"categorical\\\\\\\"][4][\\\\\\\"label\\\\\\\"]):\\\\\\\"\\\\\\\"\\\"}, \\\"align\\\": {\\\"value\\\": \\\"left\\\"}, \\\"baseline\\\": {\\\"value\\\": \\\"middle\\\"}, \\\"dx\\\": {\\\"value\\\": 0, \\\"offset\\\": 0}, \\\"dy\\\": {\\\"value\\\": 0, \\\"offset\\\": 0}, \\\"angle\\\": {\\\"value\\\": 0}, \\\"clip\\\": {\\\"value\\\": true}, \\\"font\\\": {\\\"value\\\": \\\"AvenirNext-Medium\\\"}, \\\"fontSize\\\": {\\\"value\\\": 11}, \\\"fontWeight\\\": {\\\"value\\\": \\\"normal\\\"}, \\\"fontStyle\\\": {\\\"value\\\": \\\"normal\\\"}, \\\"fill\\\": {\\\"value\\\": \\\"#4A4A4A\\\"}}, \\\"update\\\": {\\\"x\\\": {\\\"signal\\\": \\\"datum[\\\\\\\"c_x_axis_back\\\\\\\"]+487\\\"}, \\\"y\\\": {\\\"field\\\": \\\"c_fifth_item\\\"}}}, \\\"type\\\": \\\"text\\\"}, {\\\"from\\\": {\\\"data\\\": \\\"data_2\\\"}, \\\"encode\\\": {\\\"enter\\\": {\\\"x\\\": {\\\"value\\\": 700}, \\\"y\\\": {\\\"value\\\": 200}, \\\"text\\\": {\\\"signal\\\": \\\"((datum[\\\\\\\"categorical\\\\\\\"].length >= 1) &amp;&amp; (toString(datum[\\\\\\\"type\\\\\\\"]) == \\\\\\\"str\\\\\\\"))? toString(datum[\\\\\\\"categorical\\\\\\\"][0][\\\\\\\"count\\\\\\\"]):\\\\\\\"\\\\\\\"\\\"}, \\\"align\\\": {\\\"value\\\": \\\"right\\\"}, \\\"baseline\\\": {\\\"value\\\": \\\"middle\\\"}, \\\"dx\\\": {\\\"value\\\": 0, \\\"offset\\\": 0}, \\\"dy\\\": {\\\"value\\\": 0, \\\"offset\\\": 0}, \\\"angle\\\": {\\\"value\\\": 0}, \\\"clip\\\": {\\\"value\\\": true}, \\\"font\\\": {\\\"value\\\": \\\"AvenirNext-Medium\\\"}, \\\"fontSize\\\": {\\\"value\\\": 11}, \\\"fontWeight\\\": {\\\"value\\\": \\\"normal\\\"}, \\\"fontStyle\\\": {\\\"value\\\": \\\"normal\\\"}, \\\"fill\\\": {\\\"value\\\": \\\"#7A7A7A\\\"}}, \\\"update\\\": {\\\"x\\\": {\\\"signal\\\": \\\"datum[\\\\\\\"c_x_axis_back\\\\\\\"]+667\\\"}, \\\"y\\\": {\\\"field\\\": \\\"c_first_item\\\"}}}, \\\"type\\\": \\\"text\\\"}, {\\\"from\\\": {\\\"data\\\": \\\"data_2\\\"}, \\\"encode\\\": {\\\"enter\\\": {\\\"x\\\": {\\\"value\\\": 700}, \\\"y\\\": {\\\"value\\\": 200}, \\\"text\\\": {\\\"signal\\\": \\\"((datum[\\\\\\\"categorical\\\\\\\"].length >= 2) &amp;&amp; (toString(datum[\\\\\\\"type\\\\\\\"]) == \\\\\\\"str\\\\\\\"))? toString(datum[\\\\\\\"categorical\\\\\\\"][1][\\\\\\\"count\\\\\\\"]):\\\\\\\"\\\\\\\"\\\"}, \\\"align\\\": {\\\"value\\\": \\\"right\\\"}, \\\"baseline\\\": {\\\"value\\\": \\\"middle\\\"}, \\\"dx\\\": {\\\"value\\\": 0, \\\"offset\\\": 0}, \\\"dy\\\": {\\\"value\\\": 0, \\\"offset\\\": 0}, \\\"angle\\\": {\\\"value\\\": 0}, \\\"clip\\\": {\\\"value\\\": true}, \\\"font\\\": {\\\"value\\\": \\\"AvenirNext-Medium\\\"}, \\\"fontSize\\\": {\\\"value\\\": 10}, \\\"fontWeight\\\": {\\\"value\\\": \\\"normal\\\"}, \\\"fontStyle\\\": {\\\"value\\\": \\\"normal\\\"}, \\\"fill\\\": {\\\"value\\\": \\\"#7A7A7A\\\"}}, \\\"update\\\": {\\\"x\\\": {\\\"signal\\\": \\\"datum[\\\\\\\"c_x_axis_back\\\\\\\"]+667\\\"}, \\\"y\\\": {\\\"field\\\": \\\"c_second_item\\\"}}}, \\\"type\\\": \\\"text\\\"}, {\\\"from\\\": {\\\"data\\\": \\\"data_2\\\"}, \\\"encode\\\": {\\\"enter\\\": {\\\"x\\\": {\\\"value\\\": 700}, \\\"y\\\": {\\\"value\\\": 200}, \\\"text\\\": {\\\"signal\\\": \\\"((datum[\\\\\\\"categorical\\\\\\\"].length >= 3) &amp;&amp; (toString(datum[\\\\\\\"type\\\\\\\"]) == \\\\\\\"str\\\\\\\"))? toString(datum[\\\\\\\"categorical\\\\\\\"][2][\\\\\\\"count\\\\\\\"]):\\\\\\\"\\\\\\\"\\\"}, \\\"align\\\": {\\\"value\\\": \\\"right\\\"}, \\\"baseline\\\": {\\\"value\\\": \\\"middle\\\"}, \\\"dx\\\": {\\\"value\\\": 0, \\\"offset\\\": 0}, \\\"dy\\\": {\\\"value\\\": 0, \\\"offset\\\": 0}, \\\"angle\\\": {\\\"value\\\": 0}, \\\"clip\\\": {\\\"value\\\": true}, \\\"font\\\": {\\\"value\\\": \\\"AvenirNext-Medium\\\"}, \\\"fontSize\\\": {\\\"value\\\": 10}, \\\"fontWeight\\\": {\\\"value\\\": \\\"normal\\\"}, \\\"fontStyle\\\": {\\\"value\\\": \\\"normal\\\"}, \\\"fill\\\": {\\\"value\\\": \\\"#7A7A7A\\\"}}, \\\"update\\\": {\\\"x\\\": {\\\"signal\\\": \\\"datum[\\\\\\\"c_x_axis_back\\\\\\\"]+667\\\"}, \\\"y\\\": {\\\"field\\\": \\\"c_third_item\\\"}}}, \\\"type\\\": \\\"text\\\"}, {\\\"from\\\": {\\\"data\\\": \\\"data_2\\\"}, \\\"encode\\\": {\\\"enter\\\": {\\\"x\\\": {\\\"value\\\": 700}, \\\"y\\\": {\\\"value\\\": 200}, \\\"text\\\": {\\\"signal\\\": \\\"((datum[\\\\\\\"categorical\\\\\\\"].length >= 4) &amp;&amp; (toString(datum[\\\\\\\"type\\\\\\\"]) == \\\\\\\"str\\\\\\\"))? toString(datum[\\\\\\\"categorical\\\\\\\"][3][\\\\\\\"count\\\\\\\"]):\\\\\\\"\\\\\\\"\\\"}, \\\"align\\\": {\\\"value\\\": \\\"right\\\"}, \\\"baseline\\\": {\\\"value\\\": \\\"middle\\\"}, \\\"dx\\\": {\\\"value\\\": 0, \\\"offset\\\": 0}, \\\"dy\\\": {\\\"value\\\": 0, \\\"offset\\\": 0}, \\\"angle\\\": {\\\"value\\\": 0}, \\\"clip\\\": {\\\"value\\\": true}, \\\"font\\\": {\\\"value\\\": \\\"AvenirNext-Medium\\\"}, \\\"fontSize\\\": {\\\"value\\\": 10}, \\\"fontWeight\\\": {\\\"value\\\": \\\"normal\\\"}, \\\"fontStyle\\\": {\\\"value\\\": \\\"normal\\\"}, \\\"fill\\\": {\\\"value\\\": \\\"#7A7A7A\\\"}}, \\\"update\\\": {\\\"x\\\": {\\\"signal\\\": \\\"datum[\\\\\\\"c_x_axis_back\\\\\\\"]+667\\\"}, \\\"y\\\": {\\\"field\\\": \\\"c_fourth_item\\\"}}}, \\\"type\\\": \\\"text\\\"}, {\\\"from\\\": {\\\"data\\\": \\\"data_2\\\"}, \\\"encode\\\": {\\\"enter\\\": {\\\"x\\\": {\\\"value\\\": 700}, \\\"y\\\": {\\\"value\\\": 200}, \\\"text\\\": {\\\"signal\\\": \\\"((datum[\\\\\\\"categorical\\\\\\\"].length >= 5) &amp;&amp; (toString(datum[\\\\\\\"type\\\\\\\"]) == \\\\\\\"str\\\\\\\"))? toString(datum[\\\\\\\"categorical\\\\\\\"][4][\\\\\\\"count\\\\\\\"]):\\\\\\\"\\\\\\\"\\\"}, \\\"align\\\": {\\\"value\\\": \\\"right\\\"}, \\\"baseline\\\": {\\\"value\\\": \\\"middle\\\"}, \\\"dx\\\": {\\\"value\\\": 0, \\\"offset\\\": 0}, \\\"dy\\\": {\\\"value\\\": 0, \\\"offset\\\": 0}, \\\"angle\\\": {\\\"value\\\": 0}, \\\"clip\\\": {\\\"value\\\": true}, \\\"font\\\": {\\\"value\\\": \\\"AvenirNext-Medium\\\"}, \\\"fontSize\\\": {\\\"value\\\": 10}, \\\"fontWeight\\\": {\\\"value\\\": \\\"normal\\\"}, \\\"fontStyle\\\": {\\\"value\\\": \\\"normal\\\"}, \\\"fill\\\": {\\\"value\\\": \\\"#7A7A7A\\\"}}, \\\"update\\\": {\\\"x\\\": {\\\"signal\\\": \\\"datum[\\\\\\\"c_x_axis_back\\\\\\\"]+667\\\"}, \\\"y\\\": {\\\"field\\\": \\\"c_fifth_item\\\"}}}, \\\"type\\\": \\\"text\\\"}, {\\\"from\\\": {\\\"data\\\": \\\"data_2\\\"}, \\\"encode\\\": {\\\"enter\\\": {\\\"x\\\": {\\\"value\\\": 500}, \\\"y\\\": {\\\"value\\\": 200}, \\\"text\\\": {\\\"signal\\\": \\\"(toString(datum[\\\\\\\"type\\\\\\\"]) == \\\\\\\"integer\\\\\\\" || toString(datum[\\\\\\\"type\\\\\\\"]) == \\\\\\\"float\\\\\\\")? \\\\\\\"Mean:\\\\\\\":\\\\\\\"\\\\\\\"\\\"}, \\\"align\\\": {\\\"value\\\": \\\"left\\\"}, \\\"baseline\\\": {\\\"value\\\": \\\"middle\\\"}, \\\"dx\\\": {\\\"value\\\": 0, \\\"offset\\\": 0}, \\\"dy\\\": {\\\"value\\\": 0, \\\"offset\\\": 0}, \\\"angle\\\": {\\\"value\\\": 0}, \\\"clip\\\": {\\\"value\\\": true}, \\\"font\\\": {\\\"value\\\": \\\"AvenirNext-Medium\\\"}, \\\"fontSize\\\": {\\\"value\\\": 11}, \\\"fontWeight\\\": {\\\"value\\\": \\\"bold\\\"}, \\\"fontStyle\\\": {\\\"value\\\": \\\"normal\\\"}, \\\"fill\\\": {\\\"value\\\": \\\"#4A4A4A\\\"}}, \\\"update\\\": {\\\"x\\\": {\\\"signal\\\": \\\"datum[\\\\\\\"c_x_axis_back\\\\\\\"]+467\\\"}, \\\"y\\\": {\\\"field\\\": \\\"c_mean\\\"}}}, \\\"type\\\": \\\"text\\\"}, {\\\"from\\\": {\\\"data\\\": \\\"data_2\\\"}, \\\"encode\\\": {\\\"enter\\\": {\\\"x\\\": {\\\"value\\\": 500}, \\\"y\\\": {\\\"value\\\": 220}, \\\"text\\\": {\\\"signal\\\": \\\"(toString(datum[\\\\\\\"type\\\\\\\"]) == \\\\\\\"integer\\\\\\\" || toString(datum[\\\\\\\"type\\\\\\\"]) == \\\\\\\"float\\\\\\\")? \\\\\\\"Min:\\\\\\\":\\\\\\\"\\\\\\\"\\\"}, \\\"align\\\": {\\\"value\\\": \\\"left\\\"}, \\\"baseline\\\": {\\\"value\\\": \\\"middle\\\"}, \\\"dx\\\": {\\\"value\\\": 0, \\\"offset\\\": 0}, \\\"dy\\\": {\\\"value\\\": 0, \\\"offset\\\": 0}, \\\"angle\\\": {\\\"value\\\": 0}, \\\"font\\\": {\\\"value\\\": \\\"AvenirNext-Medium\\\"}, \\\"fontSize\\\": {\\\"value\\\": 11}, \\\"fontWeight\\\": {\\\"value\\\": \\\"bold\\\"}, \\\"fontStyle\\\": {\\\"value\\\": \\\"normal\\\"}, \\\"fill\\\": {\\\"value\\\": \\\"#4A4A4A\\\"}}, \\\"update\\\": {\\\"x\\\": {\\\"signal\\\": \\\"datum[\\\\\\\"c_x_axis_back\\\\\\\"]+467\\\"}, \\\"y\\\": {\\\"field\\\": \\\"c_min\\\"}}}, \\\"type\\\": \\\"text\\\"}, {\\\"from\\\": {\\\"data\\\": \\\"data_2\\\"}, \\\"encode\\\": {\\\"enter\\\": {\\\"x\\\": {\\\"value\\\": 500}, \\\"y\\\": {\\\"value\\\": 240}, \\\"text\\\": {\\\"signal\\\": \\\"(toString(datum[\\\\\\\"type\\\\\\\"]) == \\\\\\\"integer\\\\\\\" || toString(datum[\\\\\\\"type\\\\\\\"]) == \\\\\\\"float\\\\\\\")? \\\\\\\"Max:\\\\\\\":\\\\\\\"\\\\\\\"\\\"}, \\\"align\\\": {\\\"value\\\": \\\"left\\\"}, \\\"baseline\\\": {\\\"value\\\": \\\"middle\\\"}, \\\"dx\\\": {\\\"value\\\": 0, \\\"offset\\\": 0}, \\\"dy\\\": {\\\"value\\\": 0, \\\"offset\\\": 0}, \\\"angle\\\": {\\\"value\\\": 0}, \\\"font\\\": {\\\"value\\\": \\\"AvenirNext-Medium\\\"}, \\\"fontSize\\\": {\\\"value\\\": 11}, \\\"fontWeight\\\": {\\\"value\\\": \\\"bold\\\"}, \\\"fontStyle\\\": {\\\"value\\\": \\\"normal\\\"}, \\\"fill\\\": {\\\"value\\\": \\\"#4A4A4A\\\"}}, \\\"update\\\": {\\\"x\\\": {\\\"signal\\\": \\\"datum[\\\\\\\"c_x_axis_back\\\\\\\"]+467\\\"}, \\\"y\\\": {\\\"field\\\": \\\"c_max\\\"}}}, \\\"type\\\": \\\"text\\\"}, {\\\"from\\\": {\\\"data\\\": \\\"data_2\\\"}, \\\"encode\\\": {\\\"enter\\\": {\\\"x\\\": {\\\"value\\\": 500}, \\\"y\\\": {\\\"value\\\": 260}, \\\"text\\\": {\\\"signal\\\": \\\"(toString(datum[\\\\\\\"type\\\\\\\"]) == \\\\\\\"integer\\\\\\\" || toString(datum[\\\\\\\"type\\\\\\\"]) == \\\\\\\"float\\\\\\\")? \\\\\\\"Median:\\\\\\\":\\\\\\\"\\\\\\\"\\\"}, \\\"align\\\": {\\\"value\\\": \\\"left\\\"}, \\\"baseline\\\": {\\\"value\\\": \\\"middle\\\"}, \\\"dx\\\": {\\\"value\\\": 0, \\\"offset\\\": 0}, \\\"dy\\\": {\\\"value\\\": 0, \\\"offset\\\": 0}, \\\"angle\\\": {\\\"value\\\": 0}, \\\"font\\\": {\\\"value\\\": \\\"AvenirNext-Medium\\\"}, \\\"fontSize\\\": {\\\"value\\\": 11}, \\\"fontWeight\\\": {\\\"value\\\": \\\"bold\\\"}, \\\"fontStyle\\\": {\\\"value\\\": \\\"normal\\\"}, \\\"fill\\\": {\\\"value\\\": \\\"#4A4A4A\\\"}}, \\\"update\\\": {\\\"x\\\": {\\\"signal\\\": \\\"datum[\\\\\\\"c_x_axis_back\\\\\\\"]+467\\\"}, \\\"y\\\": {\\\"field\\\": \\\"c_median\\\"}}}, \\\"type\\\": \\\"text\\\"}, {\\\"from\\\": {\\\"data\\\": \\\"data_2\\\"}, \\\"encode\\\": {\\\"enter\\\": {\\\"x\\\": {\\\"value\\\": 500}, \\\"y\\\": {\\\"value\\\": 280}, \\\"text\\\": {\\\"signal\\\": \\\"(toString(datum[\\\\\\\"type\\\\\\\"]) == \\\\\\\"integer\\\\\\\" || toString(datum[\\\\\\\"type\\\\\\\"]) == \\\\\\\"float\\\\\\\")? \\\\\\\"St. Dev:\\\\\\\":\\\\\\\"\\\\\\\"\\\"}, \\\"align\\\": {\\\"value\\\": \\\"left\\\"}, \\\"baseline\\\": {\\\"value\\\": \\\"middle\\\"}, \\\"dx\\\": {\\\"value\\\": 0, \\\"offset\\\": 0}, \\\"dy\\\": {\\\"value\\\": 0, \\\"offset\\\": 0}, \\\"angle\\\": {\\\"value\\\": 0}, \\\"font\\\": {\\\"value\\\": \\\"AvenirNext-Medium\\\"}, \\\"fontSize\\\": {\\\"value\\\": 11}, \\\"fontWeight\\\": {\\\"value\\\": \\\"bold\\\"}, \\\"fontStyle\\\": {\\\"value\\\": \\\"normal\\\"}, \\\"fill\\\": {\\\"value\\\": \\\"#4A4A4A\\\"}}, \\\"update\\\": {\\\"x\\\": {\\\"signal\\\": \\\"datum[\\\\\\\"c_x_axis_back\\\\\\\"]+467\\\"}, \\\"y\\\": {\\\"field\\\": \\\"c_stdev\\\"}}}, \\\"type\\\": \\\"text\\\"}, {\\\"from\\\": {\\\"data\\\": \\\"data_2\\\"}, \\\"encode\\\": {\\\"enter\\\": {\\\"x\\\": {\\\"value\\\": 700}, \\\"y\\\": {\\\"value\\\": 198}, \\\"text\\\": {\\\"signal\\\": \\\"(toString(datum[\\\\\\\"type\\\\\\\"]) == \\\\\\\"integer\\\\\\\" || toString(datum[\\\\\\\"type\\\\\\\"]) == \\\\\\\"float\\\\\\\")?toString(format(datum[\\\\\\\"mean\\\\\\\"], \\\\\\\",\\\\\\\")):\\\\\\\"\\\\\\\"\\\"}, \\\"align\\\": {\\\"value\\\": \\\"right\\\"}, \\\"baseline\\\": {\\\"value\\\": \\\"middle\\\"}, \\\"dx\\\": {\\\"value\\\": 0, \\\"offset\\\": 0}, \\\"dy\\\": {\\\"value\\\": 0, \\\"offset\\\": 0}, \\\"angle\\\": {\\\"value\\\": 0}, \\\"font\\\": {\\\"value\\\": \\\"AvenirNext-Medium\\\"}, \\\"fontSize\\\": {\\\"value\\\": 10}, \\\"fontWeight\\\": {\\\"value\\\": \\\"normal\\\"}, \\\"fontStyle\\\": {\\\"value\\\": \\\"normal\\\"}, \\\"fill\\\": {\\\"value\\\": \\\"#6A6A6A\\\"}}, \\\"update\\\": {\\\"x\\\": {\\\"signal\\\": \\\"datum[\\\\\\\"c_x_axis_back\\\\\\\"]+667\\\"}, \\\"y\\\": {\\\"field\\\": \\\"c_mean_val\\\"}}}, \\\"type\\\": \\\"text\\\"}, {\\\"from\\\": {\\\"data\\\": \\\"data_2\\\"}, \\\"encode\\\": {\\\"enter\\\": {\\\"x\\\": {\\\"value\\\": 700}, \\\"y\\\": {\\\"value\\\": 218}, \\\"text\\\": {\\\"signal\\\": \\\"(toString(datum[\\\\\\\"type\\\\\\\"]) == \\\\\\\"integer\\\\\\\" || toString(datum[\\\\\\\"type\\\\\\\"]) == \\\\\\\"float\\\\\\\")?toString(format(datum[\\\\\\\"min\\\\\\\"], \\\\\\\",\\\\\\\")):\\\\\\\"\\\\\\\"\\\"}, \\\"align\\\": {\\\"value\\\": \\\"right\\\"}, \\\"baseline\\\": {\\\"value\\\": \\\"middle\\\"}, \\\"dx\\\": {\\\"value\\\": 0, \\\"offset\\\": 0}, \\\"dy\\\": {\\\"value\\\": 0, \\\"offset\\\": 0}, \\\"angle\\\": {\\\"value\\\": 0}, \\\"font\\\": {\\\"value\\\": \\\"AvenirNext-Medium\\\"}, \\\"fontSize\\\": {\\\"value\\\": 10}, \\\"fontWeight\\\": {\\\"value\\\": \\\"normal\\\"}, \\\"fontStyle\\\": {\\\"value\\\": \\\"normal\\\"}, \\\"fill\\\": {\\\"value\\\": \\\"#6A6A6A\\\"}}, \\\"update\\\": {\\\"x\\\": {\\\"signal\\\": \\\"datum[\\\\\\\"c_x_axis_back\\\\\\\"]+667\\\"}, \\\"y\\\": {\\\"field\\\": \\\"c_min_val\\\"}}}, \\\"type\\\": \\\"text\\\"}, {\\\"from\\\": {\\\"data\\\": \\\"data_2\\\"}, \\\"encode\\\": {\\\"enter\\\": {\\\"x\\\": {\\\"value\\\": 700}, \\\"y\\\": {\\\"value\\\": 238}, \\\"text\\\": {\\\"signal\\\": \\\"(toString(datum[\\\\\\\"type\\\\\\\"]) == \\\\\\\"integer\\\\\\\" || toString(datum[\\\\\\\"type\\\\\\\"]) == \\\\\\\"float\\\\\\\")?toString(format(datum[\\\\\\\"max\\\\\\\"], \\\\\\\",\\\\\\\")):\\\\\\\"\\\\\\\"\\\"}, \\\"align\\\": {\\\"value\\\": \\\"right\\\"}, \\\"baseline\\\": {\\\"value\\\": \\\"middle\\\"}, \\\"dx\\\": {\\\"value\\\": 0, \\\"offset\\\": 0}, \\\"dy\\\": {\\\"value\\\": 0, \\\"offset\\\": 0}, \\\"angle\\\": {\\\"value\\\": 0}, \\\"font\\\": {\\\"value\\\": \\\"AvenirNext-Medium\\\"}, \\\"fontSize\\\": {\\\"value\\\": 10}, \\\"fontWeight\\\": {\\\"value\\\": \\\"normal\\\"}, \\\"fontStyle\\\": {\\\"value\\\": \\\"normal\\\"}, \\\"fill\\\": {\\\"value\\\": \\\"#6A6A6A\\\"}}, \\\"update\\\": {\\\"x\\\": {\\\"signal\\\": \\\"datum[\\\\\\\"c_x_axis_back\\\\\\\"]+667\\\"}, \\\"y\\\": {\\\"field\\\": \\\"c_max_val\\\"}}}, \\\"type\\\": \\\"text\\\"}, {\\\"from\\\": {\\\"data\\\": \\\"data_2\\\"}, \\\"encode\\\": {\\\"enter\\\": {\\\"x\\\": {\\\"value\\\": 700}, \\\"y\\\": {\\\"value\\\": 258}, \\\"text\\\": {\\\"signal\\\": \\\"(toString(datum[\\\\\\\"type\\\\\\\"]) == \\\\\\\"integer\\\\\\\" || toString(datum[\\\\\\\"type\\\\\\\"]) == \\\\\\\"float\\\\\\\")?toString(format(datum[\\\\\\\"median\\\\\\\"], \\\\\\\",\\\\\\\")):\\\\\\\"\\\\\\\"\\\"}, \\\"align\\\": {\\\"value\\\": \\\"right\\\"}, \\\"baseline\\\": {\\\"value\\\": \\\"middle\\\"}, \\\"dx\\\": {\\\"value\\\": 0, \\\"offset\\\": 0}, \\\"dy\\\": {\\\"value\\\": 0, \\\"offset\\\": 0}, \\\"angle\\\": {\\\"value\\\": 0}, \\\"font\\\": {\\\"value\\\": \\\"AvenirNext-Medium\\\"}, \\\"fontSize\\\": {\\\"value\\\": 10}, \\\"fontWeight\\\": {\\\"value\\\": \\\"normal\\\"}, \\\"fontStyle\\\": {\\\"value\\\": \\\"normal\\\"}, \\\"fill\\\": {\\\"value\\\": \\\"#6A6A6A\\\"}}, \\\"update\\\": {\\\"x\\\": {\\\"signal\\\": \\\"datum[\\\\\\\"c_x_axis_back\\\\\\\"]+667\\\"}, \\\"y\\\": {\\\"field\\\": \\\"c_median_val\\\"}}}, \\\"type\\\": \\\"text\\\"}, {\\\"from\\\": {\\\"data\\\": \\\"data_2\\\"}, \\\"encode\\\": {\\\"enter\\\": {\\\"x\\\": {\\\"value\\\": 700}, \\\"y\\\": {\\\"value\\\": 278}, \\\"text\\\": {\\\"signal\\\": \\\"(toString(datum[\\\\\\\"type\\\\\\\"]) == \\\\\\\"integer\\\\\\\" || toString(datum[\\\\\\\"type\\\\\\\"]) == \\\\\\\"float\\\\\\\")?toString(format(datum[\\\\\\\"stdev\\\\\\\"], \\\\\\\",\\\\\\\")):\\\\\\\"\\\\\\\"\\\"}, \\\"align\\\": {\\\"value\\\": \\\"right\\\"}, \\\"baseline\\\": {\\\"value\\\": \\\"middle\\\"}, \\\"dx\\\": {\\\"value\\\": 0, \\\"offset\\\": 0}, \\\"dy\\\": {\\\"value\\\": 0, \\\"offset\\\": 0}, \\\"angle\\\": {\\\"value\\\": 0}, \\\"font\\\": {\\\"value\\\": \\\"AvenirNext-Medium\\\"}, \\\"fontSize\\\": {\\\"value\\\": 10}, \\\"fontWeight\\\": {\\\"value\\\": \\\"normal\\\"}, \\\"fontStyle\\\": {\\\"value\\\": \\\"normal\\\"}, \\\"fill\\\": {\\\"value\\\": \\\"#6A6A6A\\\"}}, \\\"update\\\": {\\\"x\\\": {\\\"signal\\\": \\\"datum[\\\\\\\"c_x_axis_back\\\\\\\"]+667\\\"}, \\\"y\\\": {\\\"field\\\": \\\"c_stdev_val\\\"}}}, \\\"type\\\": \\\"text\\\"}, {\\\"from\\\": {\\\"facet\\\": {\\\"name\\\": \\\"new_data\\\", \\\"data\\\": \\\"data_2\\\", \\\"field\\\": \\\"numeric\\\"}}, \\\"encode\\\": {\\\"enter\\\": {\\\"x\\\": {\\\"value\\\": 120}, \\\"width\\\": {\\\"value\\\": 250}, \\\"y\\\": {\\\"field\\\": \\\"graph_offset\\\"}, \\\"height\\\": {\\\"value\\\": 150}, \\\"fill\\\": {\\\"value\\\": \\\"#ffffff\\\"}, \\\"fillOpacity\\\": {\\\"value\\\": 0}, \\\"stroke\\\": {\\\"value\\\": \\\"#000000\\\"}, \\\"strokeWidth\\\": {\\\"value\\\": 0}}, \\\"update\\\": {\\\"x\\\": {\\\"signal\\\": \\\"datum[\\\\\\\"c_x_axis_back\\\\\\\"]+87\\\"}, \\\"clip\\\": {\\\"field\\\": \\\"c_clip_val\\\"}, \\\"width\\\": {\\\"field\\\": \\\"c_width_numeric_val\\\"}}}, \\\"type\\\": \\\"group\\\", \\\"scales\\\": [{\\\"name\\\": \\\"x\\\", \\\"type\\\": \\\"linear\\\", \\\"domain\\\": {\\\"data\\\": \\\"new_data\\\", \\\"fields\\\": [\\\"left\\\", \\\"right\\\"], \\\"sort\\\": true}, \\\"range\\\": [0, {\\\"signal\\\": \\\"width\\\"}], \\\"nice\\\": true, \\\"zero\\\": true}, {\\\"name\\\": \\\"y\\\", \\\"type\\\": \\\"linear\\\", \\\"domain\\\": {\\\"data\\\": \\\"new_data\\\", \\\"field\\\": \\\"count\\\"}, \\\"range\\\": [{\\\"signal\\\": \\\"height\\\"}, 0], \\\"nice\\\": true, \\\"zero\\\": true}], \\\"axes\\\": [{\\\"title\\\": \\\"Values\\\", \\\"scale\\\": \\\"x\\\", \\\"labelOverlap\\\": true, \\\"orient\\\": \\\"bottom\\\", \\\"tickCount\\\": {\\\"signal\\\": \\\"ceil(width/40)\\\"}, \\\"zindex\\\": 1}, {\\\"scale\\\": \\\"x\\\", \\\"domain\\\": false, \\\"grid\\\": true, \\\"labels\\\": false, \\\"maxExtent\\\": 0, \\\"minExtent\\\": 0, \\\"orient\\\": \\\"bottom\\\", \\\"tickCount\\\": {\\\"signal\\\": \\\"ceil(width/40)\\\"}, \\\"ticks\\\": false, \\\"zindex\\\": 0, \\\"gridScale\\\": \\\"y\\\"}, {\\\"title\\\": \\\"Count\\\", \\\"scale\\\": \\\"y\\\", \\\"labelOverlap\\\": true, \\\"orient\\\": \\\"left\\\", \\\"tickCount\\\": {\\\"signal\\\": \\\"ceil(height/40)\\\"}, \\\"zindex\\\": 1}, {\\\"scale\\\": \\\"y\\\", \\\"domain\\\": false, \\\"grid\\\": true, \\\"labels\\\": false, \\\"maxExtent\\\": 0, \\\"minExtent\\\": 0, \\\"orient\\\": \\\"left\\\", \\\"tickCount\\\": {\\\"signal\\\": \\\"ceil(height/40)\\\"}, \\\"ticks\\\": false, \\\"zindex\\\": 0, \\\"gridScale\\\": \\\"x\\\"}], \\\"style\\\": \\\"cell\\\", \\\"signals\\\": [{\\\"name\\\": \\\"width\\\", \\\"update\\\": \\\"250\\\"}, {\\\"name\\\": \\\"height\\\", \\\"update\\\": \\\"150\\\"}], \\\"marks\\\": [{\\\"name\\\": \\\"marks\\\", \\\"type\\\": \\\"rect\\\", \\\"style\\\": [\\\"rect\\\"], \\\"from\\\": {\\\"data\\\": \\\"new_data\\\"}, \\\"encode\\\": {\\\"hover\\\": {\\\"fill\\\": {\\\"value\\\": \\\"#7EC2F3\\\"}}, \\\"update\\\": {\\\"x\\\": {\\\"scale\\\": \\\"x\\\", \\\"field\\\": \\\"left\\\"}, \\\"x2\\\": {\\\"scale\\\": \\\"x\\\", \\\"field\\\": \\\"right\\\"}, \\\"y\\\": {\\\"scale\\\": \\\"y\\\", \\\"field\\\": \\\"count\\\"}, \\\"y2\\\": {\\\"scale\\\": \\\"y\\\", \\\"value\\\": 0}, \\\"fill\\\": {\\\"value\\\": \\\"#108EE9\\\"}}}}]}, {\\\"from\\\": {\\\"facet\\\": {\\\"name\\\": \\\"data_5\\\", \\\"data\\\": \\\"data_2\\\", \\\"field\\\": \\\"categorical\\\"}}, \\\"encode\\\": {\\\"enter\\\": {\\\"x\\\": {\\\"value\\\": 170}, \\\"width\\\": {\\\"value\\\": 250}, \\\"y\\\": {\\\"field\\\": \\\"graph_offset_categorical\\\"}, \\\"height\\\": {\\\"value\\\": 150}, \\\"fill\\\": {\\\"value\\\": \\\"#ffffff\\\"}, \\\"fillOpacity\\\": {\\\"value\\\": 0}, \\\"stroke\\\": {\\\"value\\\": \\\"#000000\\\"}, \\\"strokeWidth\\\": {\\\"value\\\": 0}}, \\\"update\\\": {\\\"x\\\": {\\\"signal\\\": \\\"datum[\\\\\\\"c_x_axis_back\\\\\\\"]+137\\\"}, \\\"clip\\\": {\\\"field\\\": \\\"c_clip_val_cat\\\"}, \\\"width\\\": {\\\"field\\\": \\\"c_width_numeric_val_cat\\\"}}}, \\\"type\\\": \\\"group\\\", \\\"style\\\": \\\"cell\\\", \\\"signals\\\": [{\\\"name\\\": \\\"unit\\\", \\\"value\\\": {}, \\\"on\\\": [{\\\"events\\\": \\\"mousemove\\\", \\\"update\\\": \\\"isTuple(group()) ? group() : unit\\\"}]}, {\\\"name\\\": \\\"pts\\\", \\\"update\\\": \\\"data(\\\\\\\"pts_store\\\\\\\").length &amp;&amp; {count: data(\\\\\\\"pts_store\\\\\\\")[0].values[0]}\\\"}, {\\\"name\\\": \\\"pts_tuple\\\", \\\"value\\\": {}, \\\"on\\\": [{\\\"events\\\": [{\\\"source\\\": \\\"scope\\\", \\\"type\\\": \\\"click\\\"}], \\\"update\\\": \\\"datum &amp;&amp; item().mark.marktype !== &apos;group&apos; ? {unit: \\\\\\\"\\\\\\\", encodings: [\\\\\\\"x\\\\\\\"], fields: [\\\\\\\"count\\\\\\\"], values: [datum[\\\\\\\"count\\\\\\\"]]} : null\\\", \\\"force\\\": true}]}, {\\\"name\\\": \\\"pts_modify\\\", \\\"on\\\": [{\\\"events\\\": {\\\"signal\\\": \\\"pts_tuple\\\"}, \\\"update\\\": \\\"modify(\\\\\\\"pts_store\\\\\\\", pts_tuple, true)\\\"}]}], \\\"marks\\\": [{\\\"name\\\": \\\"marks\\\", \\\"type\\\": \\\"rect\\\", \\\"style\\\": [\\\"bar\\\"], \\\"from\\\": {\\\"data\\\": \\\"data_5\\\"}, \\\"encode\\\": {\\\"hover\\\": {\\\"fill\\\": {\\\"value\\\": \\\"#7EC2F3\\\"}}, \\\"update\\\": {\\\"x\\\": {\\\"scale\\\": \\\"x\\\", \\\"field\\\": \\\"count\\\"}, \\\"x2\\\": {\\\"scale\\\": \\\"x\\\", \\\"value\\\": 0}, \\\"y\\\": {\\\"scale\\\": \\\"y\\\", \\\"field\\\": \\\"label\\\"}, \\\"height\\\": {\\\"scale\\\": \\\"y\\\", \\\"band\\\": true}, \\\"fill\\\": {\\\"value\\\": \\\"#108EE9\\\"}}}}], \\\"scales\\\": [{\\\"name\\\": \\\"x\\\", \\\"type\\\": \\\"linear\\\", \\\"domain\\\": {\\\"data\\\": \\\"data_5\\\", \\\"field\\\": \\\"count\\\"}, \\\"range\\\": [0, 250], \\\"nice\\\": true, \\\"zero\\\": true}, {\\\"name\\\": \\\"y\\\", \\\"type\\\": \\\"band\\\", \\\"domain\\\": {\\\"data\\\": \\\"data_5\\\", \\\"field\\\": \\\"label\\\", \\\"sort\\\": {\\\"op\\\": \\\"mean\\\", \\\"field\\\": \\\"label_idx\\\", \\\"order\\\": \\\"descending\\\"}}, \\\"range\\\": [150, 0], \\\"paddingInner\\\": 0.1, \\\"paddingOuter\\\": 0.05}], \\\"axes\\\": [{\\\"orient\\\": \\\"top\\\", \\\"scale\\\": \\\"x\\\", \\\"labelOverlap\\\": true, \\\"tickCount\\\": {\\\"signal\\\": \\\"ceil(width/40)\\\"}, \\\"title\\\": \\\"Count\\\", \\\"zindex\\\": 1}, {\\\"orient\\\": \\\"top\\\", \\\"scale\\\": \\\"x\\\", \\\"domain\\\": false, \\\"grid\\\": true, \\\"labels\\\": false, \\\"maxExtent\\\": 0, \\\"minExtent\\\": 0, \\\"tickCount\\\": {\\\"signal\\\": \\\"ceil(width/40)\\\"}, \\\"ticks\\\": false, \\\"zindex\\\": 0, \\\"gridScale\\\": \\\"y\\\"}, {\\\"scale\\\": \\\"y\\\", \\\"labelOverlap\\\": true, \\\"orient\\\": \\\"left\\\", \\\"title\\\": \\\"Label\\\", \\\"zindex\\\": 1}]}], \\\"type\\\": \\\"group\\\"}], \\\"type\\\": \\\"group\\\"}], \\\"config\\\": {\\\"axis\\\": {\\\"labelFont\\\": \\\"HelveticaNeue-Light, Arial\\\", \\\"labelFontSize\\\": 7, \\\"labelPadding\\\": 10, \\\"labelColor\\\": \\\"#595959\\\", \\\"titleFont\\\": \\\"HelveticaNeue-Light, Arial\\\", \\\"titleFontWeight\\\": \\\"normal\\\", \\\"titlePadding\\\": 9, \\\"titleFontSize\\\": 12, \\\"titleColor\\\": \\\"#595959\\\"}, \\\"axisY\\\": {\\\"minExtent\\\": 30}, \\\"style\\\": {\\\"rect\\\": {\\\"stroke\\\": \\\"rgba(200, 200, 200, 0.5)\\\"}, \\\"group-title\\\": {\\\"fontSize\\\": 20, \\\"font\\\": \\\"HelveticaNeue-Light, Arial\\\", \\\"fontWeight\\\": \\\"normal\\\", \\\"fill\\\": \\\"#595959\\\"}}}}\";                                 var vega_json_parsed = JSON.parse(vega_json);                                 var toolTipOpts = {                                     showAllFields: true                                 };                                 if(vega_json_parsed[\"metadata\"] != null){                                     if(vega_json_parsed[\"metadata\"][\"bubbleOpts\"] != null){                                         toolTipOpts = vega_json_parsed[\"metadata\"][\"bubbleOpts\"];                                     };                                 };                                 vegaEmbed(\"#vis\", vega_json_parsed).then(function (result) {                                     vegaTooltip.vega(result.view, toolTipOpts);                                  });                             </script>                         </body>                     </html>' src=\"demo_iframe_srcdoc.htm\">                         <p>Your browser does not support iframes.</p>                     </iframe>                 </body>             </html>"
      ],
      "text/plain": [
       "<IPython.core.display.HTML object>"
      ]
     },
     "metadata": {},
     "output_type": "display_data"
    }
   ],
   "source": [
    "loans.show()"
   ]
  },
  {
   "cell_type": "code",
   "execution_count": 4,
   "metadata": {},
   "outputs": [
    {
     "data": {
      "text/plain": [
       "['id',\n",
       " 'member_id',\n",
       " 'loan_amnt',\n",
       " 'funded_amnt',\n",
       " 'funded_amnt_inv',\n",
       " 'term',\n",
       " 'int_rate',\n",
       " 'installment',\n",
       " 'grade',\n",
       " 'sub_grade',\n",
       " 'emp_title',\n",
       " 'emp_length',\n",
       " 'home_ownership',\n",
       " 'annual_inc',\n",
       " 'is_inc_v',\n",
       " 'issue_d',\n",
       " 'loan_status',\n",
       " 'pymnt_plan',\n",
       " 'url',\n",
       " 'desc',\n",
       " 'purpose',\n",
       " 'title',\n",
       " 'zip_code',\n",
       " 'addr_state',\n",
       " 'dti',\n",
       " 'delinq_2yrs',\n",
       " 'earliest_cr_line',\n",
       " 'inq_last_6mths',\n",
       " 'mths_since_last_delinq',\n",
       " 'mths_since_last_record',\n",
       " 'open_acc',\n",
       " 'pub_rec',\n",
       " 'revol_bal',\n",
       " 'revol_util',\n",
       " 'total_acc',\n",
       " 'initial_list_status',\n",
       " 'out_prncp',\n",
       " 'out_prncp_inv',\n",
       " 'total_pymnt',\n",
       " 'total_pymnt_inv',\n",
       " 'total_rec_prncp',\n",
       " 'total_rec_int',\n",
       " 'total_rec_late_fee',\n",
       " 'recoveries',\n",
       " 'collection_recovery_fee',\n",
       " 'last_pymnt_d',\n",
       " 'last_pymnt_amnt',\n",
       " 'next_pymnt_d',\n",
       " 'last_credit_pull_d',\n",
       " 'collections_12_mths_ex_med',\n",
       " 'mths_since_last_major_derog',\n",
       " 'policy_code',\n",
       " 'not_compliant',\n",
       " 'status',\n",
       " 'inactive_loans',\n",
       " 'bad_loans',\n",
       " 'emp_length_num',\n",
       " 'grade_num',\n",
       " 'sub_grade_num',\n",
       " 'delinq_2yrs_zero',\n",
       " 'pub_rec_zero',\n",
       " 'collections_12_mths_zero',\n",
       " 'short_emp',\n",
       " 'payment_inc_ratio',\n",
       " 'final_d',\n",
       " 'last_delinq_none',\n",
       " 'last_record_none',\n",
       " 'last_major_derog_none']"
      ]
     },
     "execution_count": 4,
     "metadata": {},
     "output_type": "execute_result"
    }
   ],
   "source": [
    "loans.column_names()"
   ]
  },
  {
   "cell_type": "markdown",
   "metadata": {},
   "source": [
    "Here, we see that we have some feature columns that have to do with grade of the loan, annual income, home ownership status, etc. Let's take a look at the distribution of loan grades in the dataset."
   ]
  },
  {
   "cell_type": "code",
   "execution_count": 5,
   "metadata": {},
   "outputs": [
    {
     "data": {
      "text/html": [
       "<pre>Materializing SArray</pre>"
      ],
      "text/plain": [
       "Materializing SArray"
      ]
     },
     "metadata": {},
     "output_type": "display_data"
    },
    {
     "data": {
      "text/html": [
       "<html>                 <body>                     <iframe style=\"border:0;margin:0\" width=\"920\" height=\"770\" srcdoc='<html lang=\"en\">                         <head>                             <script src=\"https://cdnjs.cloudflare.com/ajax/libs/vega/3.0.8/vega.js\"></script>                             <script src=\"https://cdnjs.cloudflare.com/ajax/libs/vega-embed/3.0.0-rc7/vega-embed.js\"></script>                             <script src=\"https://cdnjs.cloudflare.com/ajax/libs/vega-tooltip/0.5.1/vega-tooltip.min.js\"></script>                             <link rel=\"stylesheet\" type=\"text/css\" href=\"https://cdnjs.cloudflare.com/ajax/libs/vega-tooltip/0.5.1/vega-tooltip.min.css\">                             <style>                             .vega-actions > a{                                 color:white;                                 text-decoration: none;                                 font-family: \"Arial\";                                 cursor:pointer;                                 padding:5px;                                 background:#AAAAAA;                                 border-radius:4px;                                 padding-left:10px;                                 padding-right:10px;                                 margin-right:5px;                             }                             .vega-actions{                                 margin-top:20px;                                 text-align:center                             }                            .vega-actions > a{                                 background:#999999;                            }                             </style>                         </head>                         <body>                             <div id=\"vis\">                             </div>                             <script>                                 var vega_json = \"{\\\"$schema\\\": \\\"https://vega.github.io/schema/vega/v4.json\\\", \\\"autosize\\\": {\\\"type\\\": \\\"fit\\\", \\\"resize\\\": false, \\\"contains\\\": \\\"padding\\\"}, \\\"padding\\\": 8, \\\"metadata\\\": {\\\"bubbleOpts\\\": {\\\"showAllFields\\\": false, \\\"fields\\\": [{\\\"field\\\": \\\"count\\\"}, {\\\"field\\\": \\\"label\\\"}, {\\\"field\\\": \\\"percentage\\\"}]}}, \\\"width\\\": 720, \\\"height\\\": 550, \\\"title\\\": \\\"Distribution of Values [string]\\\", \\\"style\\\": \\\"cell\\\", \\\"data\\\": [{\\\"name\\\": \\\"pts_store_store\\\"}, {\\\"name\\\": \\\"source_2\\\", \\\"values\\\": [{\\\"label\\\": \\\"B\\\", \\\"label_idx\\\": 0, \\\"count\\\": 37172, \\\"percentage\\\": \\\"30.318%\\\"}, {\\\"label\\\": \\\"C\\\", \\\"label_idx\\\": 1, \\\"count\\\": 29950, \\\"percentage\\\": \\\"24.4276%\\\"}, {\\\"label\\\": \\\"A\\\", \\\"label_idx\\\": 2, \\\"count\\\": 22314, \\\"percentage\\\": \\\"18.1996%\\\"}, {\\\"label\\\": \\\"D\\\", \\\"label_idx\\\": 3, \\\"count\\\": 19175, \\\"percentage\\\": \\\"15.6394%\\\"}, {\\\"label\\\": \\\"E\\\", \\\"label_idx\\\": 4, \\\"count\\\": 8990, \\\"percentage\\\": \\\"7.33237%\\\"}, {\\\"label\\\": \\\"F\\\", \\\"label_idx\\\": 5, \\\"count\\\": 3932, \\\"percentage\\\": \\\"3.20699%\\\"}, {\\\"label\\\": \\\"G\\\", \\\"label_idx\\\": 6, \\\"count\\\": 1074, \\\"percentage\\\": \\\"0.87597%\\\"}]}, {\\\"name\\\": \\\"data_0\\\", \\\"source\\\": \\\"source_2\\\", \\\"transform\\\": [{\\\"type\\\": \\\"formula\\\", \\\"expr\\\": \\\"toNumber(datum[\\\\\\\"count\\\\\\\"])\\\", \\\"as\\\": \\\"count\\\"}, {\\\"type\\\": \\\"filter\\\", \\\"expr\\\": \\\"datum[\\\\\\\"count\\\\\\\"] !== null &amp;&amp; !isNaN(datum[\\\\\\\"count\\\\\\\"])\\\"}]}], \\\"signals\\\": [{\\\"name\\\": \\\"unit\\\", \\\"value\\\": {}, \\\"on\\\": [{\\\"events\\\": \\\"mousemove\\\", \\\"update\\\": \\\"isTuple(group()) ? group() : unit\\\"}]}, {\\\"name\\\": \\\"pts_store\\\", \\\"update\\\": \\\"data(\\\\\\\"pts_store_store\\\\\\\").length &amp;&amp; {count: data(\\\\\\\"pts_store_store\\\\\\\")[0].values[0]}\\\"}, {\\\"name\\\": \\\"pts_store_tuple\\\", \\\"value\\\": {}, \\\"on\\\": [{\\\"events\\\": [{\\\"source\\\": \\\"scope\\\", \\\"type\\\": \\\"click\\\"}], \\\"update\\\": \\\"datum &amp;&amp; item().mark.marktype !== &apos;group&apos; ? {unit: \\\\\\\"\\\\\\\", encodings: [\\\\\\\"x\\\\\\\"], fields: [\\\\\\\"count\\\\\\\"], values: [datum[\\\\\\\"count\\\\\\\"]]} : null\\\", \\\"force\\\": true}]}, {\\\"name\\\": \\\"pts_store_modify\\\", \\\"on\\\": [{\\\"events\\\": {\\\"signal\\\": \\\"pts_store_tuple\\\"}, \\\"update\\\": \\\"modify(\\\\\\\"pts_store_store\\\\\\\", pts_store_tuple, true)\\\"}]}], \\\"marks\\\": [{\\\"name\\\": \\\"marks\\\", \\\"type\\\": \\\"rect\\\", \\\"style\\\": [\\\"bar\\\"], \\\"from\\\": {\\\"data\\\": \\\"data_0\\\"}, \\\"encode\\\": {\\\"hover\\\": {\\\"fill\\\": {\\\"value\\\": \\\"#7EC2F3\\\"}}, \\\"update\\\": {\\\"x\\\": {\\\"scale\\\": \\\"x\\\", \\\"field\\\": \\\"count\\\"}, \\\"x2\\\": {\\\"scale\\\": \\\"x\\\", \\\"value\\\": 0}, \\\"y\\\": {\\\"scale\\\": \\\"y\\\", \\\"field\\\": \\\"label\\\"}, \\\"height\\\": {\\\"scale\\\": \\\"y\\\", \\\"band\\\": true}, \\\"fill\\\": {\\\"value\\\": \\\"#108EE9\\\"}}}}], \\\"scales\\\": [{\\\"name\\\": \\\"x\\\", \\\"type\\\": \\\"linear\\\", \\\"domain\\\": {\\\"data\\\": \\\"data_0\\\", \\\"field\\\": \\\"count\\\"}, \\\"range\\\": [0, {\\\"signal\\\": \\\"width\\\"}], \\\"nice\\\": true, \\\"zero\\\": true}, {\\\"name\\\": \\\"y\\\", \\\"type\\\": \\\"band\\\", \\\"domain\\\": {\\\"data\\\": \\\"data_0\\\", \\\"field\\\": \\\"label\\\", \\\"sort\\\": {\\\"op\\\": \\\"mean\\\", \\\"field\\\": \\\"label_idx\\\", \\\"order\\\": \\\"descending\\\"}}, \\\"range\\\": [{\\\"signal\\\": \\\"height\\\"}, 0], \\\"paddingInner\\\": 0.1, \\\"paddingOuter\\\": 0.05}], \\\"axes\\\": [{\\\"orient\\\": \\\"top\\\", \\\"scale\\\": \\\"x\\\", \\\"labelOverlap\\\": true, \\\"tickCount\\\": {\\\"signal\\\": \\\"ceil(width/40)\\\"}, \\\"title\\\": \\\"Values\\\", \\\"zindex\\\": 1}, {\\\"orient\\\": \\\"top\\\", \\\"scale\\\": \\\"x\\\", \\\"domain\\\": false, \\\"grid\\\": true, \\\"labels\\\": false, \\\"maxExtent\\\": 0, \\\"minExtent\\\": 0, \\\"tickCount\\\": {\\\"signal\\\": \\\"ceil(width/40)\\\"}, \\\"ticks\\\": false, \\\"zindex\\\": 0, \\\"gridScale\\\": \\\"y\\\"}, {\\\"scale\\\": \\\"y\\\", \\\"labelOverlap\\\": true, \\\"orient\\\": \\\"left\\\", \\\"title\\\": \\\"Count\\\", \\\"zindex\\\": 1}], \\\"config\\\": {\\\"axis\\\": {\\\"gridColor\\\": \\\"rgba(204,204,204,1.0)\\\", \\\"labelFont\\\": \\\"\\\\\\\"San Francisco\\\\\\\", HelveticaNeue, Arial\\\", \\\"labelFontSize\\\": 12, \\\"labelPadding\\\": 10, \\\"labelColor\\\": \\\"rgba(0,0,0,0.847)\\\", \\\"tickColor\\\": \\\"rgb(136,136,136)\\\", \\\"titleFont\\\": \\\"\\\\\\\"San Francisco\\\\\\\", HelveticaNeue, Arial\\\", \\\"titleFontWeight\\\": \\\"normal\\\", \\\"titlePadding\\\": 20, \\\"titleFontSize\\\": 14, \\\"titleColor\\\": \\\"rgba(0,0,0,0.847)\\\"}, \\\"axisY\\\": {\\\"minExtent\\\": 30}, \\\"legend\\\": {\\\"labelFont\\\": \\\"\\\\\\\"San Francisco\\\\\\\", HelveticaNeue, Arial\\\", \\\"labelColor\\\": \\\"rgba(0,0,0,0.847)\\\", \\\"titleFont\\\": \\\"\\\\\\\"San Francisco\\\\\\\", HelveticaNeue, Arial\\\", \\\"cornerRadius\\\": 30, \\\"gradientLength\\\": 608, \\\"titleColor\\\": \\\"rgba(0,0,0,0.847)\\\"}, \\\"range\\\": {\\\"heatmap\\\": {\\\"scheme\\\": \\\"greenblue\\\"}}, \\\"style\\\": {\\\"rect\\\": {\\\"stroke\\\": \\\"rgba(200, 200, 200, 0.5)\\\"}, \\\"cell\\\": {\\\"stroke\\\": \\\"transparent\\\"}, \\\"group-title\\\": {\\\"fontSize\\\": 29, \\\"font\\\": \\\"HelveticaNeue, Arial\\\", \\\"fontWeight\\\": \\\"normal\\\", \\\"fill\\\": \\\"rgba(0,0,0,0.65)\\\"}}, \\\"title\\\": {\\\"color\\\": \\\"rgba(0,0,0,0.847)\\\", \\\"font\\\": \\\"\\\\\\\"San Francisco\\\\\\\", HelveticaNeue, Arial\\\", \\\"fontSize\\\": 18, \\\"fontWeight\\\": \\\"normal\\\", \\\"offset\\\": 30}}}\";                                 var vega_json_parsed = JSON.parse(vega_json);                                 var toolTipOpts = {                                     showAllFields: true                                 };                                 if(vega_json_parsed[\"metadata\"] != null){                                     if(vega_json_parsed[\"metadata\"][\"bubbleOpts\"] != null){                                         toolTipOpts = vega_json_parsed[\"metadata\"][\"bubbleOpts\"];                                     };                                 };                                 vegaEmbed(\"#vis\", vega_json_parsed).then(function (result) {                                     vegaTooltip.vega(result.view, toolTipOpts);                                  });                             </script>                         </body>                     </html>' src=\"demo_iframe_srcdoc.htm\">                         <p>Your browser does not support iframes.</p>                     </iframe>                 </body>             </html>"
      ],
      "text/plain": [
       "<IPython.core.display.HTML object>"
      ]
     },
     "metadata": {},
     "output_type": "display_data"
    }
   ],
   "source": [
    "loans['grade'].show()"
   ]
  },
  {
   "cell_type": "code",
   "execution_count": 6,
   "metadata": {},
   "outputs": [
    {
     "data": {
      "text/html": [
       "<pre>Materializing SArray</pre>"
      ],
      "text/plain": [
       "Materializing SArray"
      ]
     },
     "metadata": {},
     "output_type": "display_data"
    },
    {
     "data": {
      "text/html": [
       "<html>                 <body>                     <iframe style=\"border:0;margin:0\" width=\"920\" height=\"770\" srcdoc='<html lang=\"en\">                         <head>                             <script src=\"https://cdnjs.cloudflare.com/ajax/libs/vega/3.0.8/vega.js\"></script>                             <script src=\"https://cdnjs.cloudflare.com/ajax/libs/vega-embed/3.0.0-rc7/vega-embed.js\"></script>                             <script src=\"https://cdnjs.cloudflare.com/ajax/libs/vega-tooltip/0.5.1/vega-tooltip.min.js\"></script>                             <link rel=\"stylesheet\" type=\"text/css\" href=\"https://cdnjs.cloudflare.com/ajax/libs/vega-tooltip/0.5.1/vega-tooltip.min.css\">                             <style>                             .vega-actions > a{                                 color:white;                                 text-decoration: none;                                 font-family: \"Arial\";                                 cursor:pointer;                                 padding:5px;                                 background:#AAAAAA;                                 border-radius:4px;                                 padding-left:10px;                                 padding-right:10px;                                 margin-right:5px;                             }                             .vega-actions{                                 margin-top:20px;                                 text-align:center                             }                            .vega-actions > a{                                 background:#999999;                            }                             </style>                         </head>                         <body>                             <div id=\"vis\">                             </div>                             <script>                                 var vega_json = \"{\\\"$schema\\\": \\\"https://vega.github.io/schema/vega/v4.json\\\", \\\"autosize\\\": {\\\"type\\\": \\\"fit\\\", \\\"resize\\\": false, \\\"contains\\\": \\\"padding\\\"}, \\\"padding\\\": 8, \\\"metadata\\\": {\\\"bubbleOpts\\\": {\\\"showAllFields\\\": false, \\\"fields\\\": [{\\\"field\\\": \\\"count\\\"}, {\\\"field\\\": \\\"label\\\"}, {\\\"field\\\": \\\"percentage\\\"}]}}, \\\"width\\\": 720, \\\"height\\\": 550, \\\"title\\\": \\\"Distribution of Values [string]\\\", \\\"style\\\": \\\"cell\\\", \\\"data\\\": [{\\\"name\\\": \\\"pts_store_store\\\"}, {\\\"name\\\": \\\"source_2\\\", \\\"values\\\": [{\\\"label\\\": \\\"B3\\\", \\\"label_idx\\\": 0, \\\"count\\\": 9036, \\\"percentage\\\": \\\"7.36989%\\\"}, {\\\"label\\\": \\\"B4\\\", \\\"label_idx\\\": 1, \\\"count\\\": 8279, \\\"percentage\\\": \\\"6.75247%\\\"}, {\\\"label\\\": \\\"B2\\\", \\\"label_idx\\\": 2, \\\"count\\\": 7096, \\\"percentage\\\": \\\"5.7876%\\\"}, {\\\"label\\\": \\\"C1\\\", \\\"label_idx\\\": 3, \\\"count\\\": 7068, \\\"percentage\\\": \\\"5.76476%\\\"}, {\\\"label\\\": \\\"B5\\\", \\\"label_idx\\\": 4, \\\"count\\\": 6924, \\\"percentage\\\": \\\"5.64731%\\\"}, {\\\"label\\\": \\\"C2\\\", \\\"label_idx\\\": 5, \\\"count\\\": 6726, \\\"percentage\\\": \\\"5.48582%\\\"}, {\\\"label\\\": \\\"A5\\\", \\\"label_idx\\\": 6, \\\"count\\\": 6027, \\\"percentage\\\": \\\"4.91571%\\\"}, {\\\"label\\\": \\\"A4\\\", \\\"label_idx\\\": 7, \\\"count\\\": 5993, \\\"percentage\\\": \\\"4.88798%\\\"}, {\\\"label\\\": \\\"B1\\\", \\\"label_idx\\\": 8, \\\"count\\\": 5837, \\\"percentage\\\": \\\"4.76074%\\\"}, {\\\"label\\\": \\\"C3\\\", \\\"label_idx\\\": 9, \\\"count\\\": 5690, \\\"percentage\\\": \\\"4.64084%\\\"}, {\\\"label\\\": \\\"C4\\\", \\\"label_idx\\\": 10, \\\"count\\\": 5402, \\\"percentage\\\": \\\"4.40595%\\\"}, {\\\"label\\\": \\\"C5\\\", \\\"label_idx\\\": 11, \\\"count\\\": 5064, \\\"percentage\\\": \\\"4.13027%\\\"}, {\\\"label\\\": \\\"Other (23 labels)\\\", \\\"label_idx\\\": 12, \\\"count\\\": 43465, \\\"percentage\\\": \\\"35.4507%\\\"}]}, {\\\"name\\\": \\\"data_0\\\", \\\"source\\\": \\\"source_2\\\", \\\"transform\\\": [{\\\"type\\\": \\\"formula\\\", \\\"expr\\\": \\\"toNumber(datum[\\\\\\\"count\\\\\\\"])\\\", \\\"as\\\": \\\"count\\\"}, {\\\"type\\\": \\\"filter\\\", \\\"expr\\\": \\\"datum[\\\\\\\"count\\\\\\\"] !== null &amp;&amp; !isNaN(datum[\\\\\\\"count\\\\\\\"])\\\"}]}], \\\"signals\\\": [{\\\"name\\\": \\\"unit\\\", \\\"value\\\": {}, \\\"on\\\": [{\\\"events\\\": \\\"mousemove\\\", \\\"update\\\": \\\"isTuple(group()) ? group() : unit\\\"}]}, {\\\"name\\\": \\\"pts_store\\\", \\\"update\\\": \\\"data(\\\\\\\"pts_store_store\\\\\\\").length &amp;&amp; {count: data(\\\\\\\"pts_store_store\\\\\\\")[0].values[0]}\\\"}, {\\\"name\\\": \\\"pts_store_tuple\\\", \\\"value\\\": {}, \\\"on\\\": [{\\\"events\\\": [{\\\"source\\\": \\\"scope\\\", \\\"type\\\": \\\"click\\\"}], \\\"update\\\": \\\"datum &amp;&amp; item().mark.marktype !== &apos;group&apos; ? {unit: \\\\\\\"\\\\\\\", encodings: [\\\\\\\"x\\\\\\\"], fields: [\\\\\\\"count\\\\\\\"], values: [datum[\\\\\\\"count\\\\\\\"]]} : null\\\", \\\"force\\\": true}]}, {\\\"name\\\": \\\"pts_store_modify\\\", \\\"on\\\": [{\\\"events\\\": {\\\"signal\\\": \\\"pts_store_tuple\\\"}, \\\"update\\\": \\\"modify(\\\\\\\"pts_store_store\\\\\\\", pts_store_tuple, true)\\\"}]}], \\\"marks\\\": [{\\\"name\\\": \\\"marks\\\", \\\"type\\\": \\\"rect\\\", \\\"style\\\": [\\\"bar\\\"], \\\"from\\\": {\\\"data\\\": \\\"data_0\\\"}, \\\"encode\\\": {\\\"hover\\\": {\\\"fill\\\": {\\\"value\\\": \\\"#7EC2F3\\\"}}, \\\"update\\\": {\\\"x\\\": {\\\"scale\\\": \\\"x\\\", \\\"field\\\": \\\"count\\\"}, \\\"x2\\\": {\\\"scale\\\": \\\"x\\\", \\\"value\\\": 0}, \\\"y\\\": {\\\"scale\\\": \\\"y\\\", \\\"field\\\": \\\"label\\\"}, \\\"height\\\": {\\\"scale\\\": \\\"y\\\", \\\"band\\\": true}, \\\"fill\\\": {\\\"value\\\": \\\"#108EE9\\\"}}}}], \\\"scales\\\": [{\\\"name\\\": \\\"x\\\", \\\"type\\\": \\\"linear\\\", \\\"domain\\\": {\\\"data\\\": \\\"data_0\\\", \\\"field\\\": \\\"count\\\"}, \\\"range\\\": [0, {\\\"signal\\\": \\\"width\\\"}], \\\"nice\\\": true, \\\"zero\\\": true}, {\\\"name\\\": \\\"y\\\", \\\"type\\\": \\\"band\\\", \\\"domain\\\": {\\\"data\\\": \\\"data_0\\\", \\\"field\\\": \\\"label\\\", \\\"sort\\\": {\\\"op\\\": \\\"mean\\\", \\\"field\\\": \\\"label_idx\\\", \\\"order\\\": \\\"descending\\\"}}, \\\"range\\\": [{\\\"signal\\\": \\\"height\\\"}, 0], \\\"paddingInner\\\": 0.1, \\\"paddingOuter\\\": 0.05}], \\\"axes\\\": [{\\\"orient\\\": \\\"top\\\", \\\"scale\\\": \\\"x\\\", \\\"labelOverlap\\\": true, \\\"tickCount\\\": {\\\"signal\\\": \\\"ceil(width/40)\\\"}, \\\"title\\\": \\\"Values\\\", \\\"zindex\\\": 1}, {\\\"orient\\\": \\\"top\\\", \\\"scale\\\": \\\"x\\\", \\\"domain\\\": false, \\\"grid\\\": true, \\\"labels\\\": false, \\\"maxExtent\\\": 0, \\\"minExtent\\\": 0, \\\"tickCount\\\": {\\\"signal\\\": \\\"ceil(width/40)\\\"}, \\\"ticks\\\": false, \\\"zindex\\\": 0, \\\"gridScale\\\": \\\"y\\\"}, {\\\"scale\\\": \\\"y\\\", \\\"labelOverlap\\\": true, \\\"orient\\\": \\\"left\\\", \\\"title\\\": \\\"Count\\\", \\\"zindex\\\": 1}], \\\"config\\\": {\\\"axis\\\": {\\\"gridColor\\\": \\\"rgba(204,204,204,1.0)\\\", \\\"labelFont\\\": \\\"\\\\\\\"San Francisco\\\\\\\", HelveticaNeue, Arial\\\", \\\"labelFontSize\\\": 12, \\\"labelPadding\\\": 10, \\\"labelColor\\\": \\\"rgba(0,0,0,0.847)\\\", \\\"tickColor\\\": \\\"rgb(136,136,136)\\\", \\\"titleFont\\\": \\\"\\\\\\\"San Francisco\\\\\\\", HelveticaNeue, Arial\\\", \\\"titleFontWeight\\\": \\\"normal\\\", \\\"titlePadding\\\": 20, \\\"titleFontSize\\\": 14, \\\"titleColor\\\": \\\"rgba(0,0,0,0.847)\\\"}, \\\"axisY\\\": {\\\"minExtent\\\": 30}, \\\"legend\\\": {\\\"labelFont\\\": \\\"\\\\\\\"San Francisco\\\\\\\", HelveticaNeue, Arial\\\", \\\"labelColor\\\": \\\"rgba(0,0,0,0.847)\\\", \\\"titleFont\\\": \\\"\\\\\\\"San Francisco\\\\\\\", HelveticaNeue, Arial\\\", \\\"cornerRadius\\\": 30, \\\"gradientLength\\\": 608, \\\"titleColor\\\": \\\"rgba(0,0,0,0.847)\\\"}, \\\"range\\\": {\\\"heatmap\\\": {\\\"scheme\\\": \\\"greenblue\\\"}}, \\\"style\\\": {\\\"rect\\\": {\\\"stroke\\\": \\\"rgba(200, 200, 200, 0.5)\\\"}, \\\"cell\\\": {\\\"stroke\\\": \\\"transparent\\\"}, \\\"group-title\\\": {\\\"fontSize\\\": 29, \\\"font\\\": \\\"HelveticaNeue, Arial\\\", \\\"fontWeight\\\": \\\"normal\\\", \\\"fill\\\": \\\"rgba(0,0,0,0.65)\\\"}}, \\\"title\\\": {\\\"color\\\": \\\"rgba(0,0,0,0.847)\\\", \\\"font\\\": \\\"\\\\\\\"San Francisco\\\\\\\", HelveticaNeue, Arial\\\", \\\"fontSize\\\": 18, \\\"fontWeight\\\": \\\"normal\\\", \\\"offset\\\": 30}}}\";                                 var vega_json_parsed = JSON.parse(vega_json);                                 var toolTipOpts = {                                     showAllFields: true                                 };                                 if(vega_json_parsed[\"metadata\"] != null){                                     if(vega_json_parsed[\"metadata\"][\"bubbleOpts\"] != null){                                         toolTipOpts = vega_json_parsed[\"metadata\"][\"bubbleOpts\"];                                     };                                 };                                 vegaEmbed(\"#vis\", vega_json_parsed).then(function (result) {                                     vegaTooltip.vega(result.view, toolTipOpts);                                  });                             </script>                         </body>                     </html>' src=\"demo_iframe_srcdoc.htm\">                         <p>Your browser does not support iframes.</p>                     </iframe>                 </body>             </html>"
      ],
      "text/plain": [
       "<IPython.core.display.HTML object>"
      ]
     },
     "metadata": {},
     "output_type": "display_data"
    }
   ],
   "source": [
    "loans['sub_grade'].show()"
   ]
  },
  {
   "cell_type": "markdown",
   "metadata": {},
   "source": [
    "We can see that over half of the loan grades are assigned values `B` or `C`. Each loan is assigned one of these grades, along with a more finely discretized feature called `sub_grade` (feel free to explore that feature column as well!). These values depend on the loan application and credit report, and determine the interest rate of the loan. More information can be found [here](https://www.lendingclub.com/public/rates-and-fees.action).\n",
    "\n",
    "Now, let's look at a different feature."
   ]
  },
  {
   "cell_type": "code",
   "execution_count": 7,
   "metadata": {},
   "outputs": [
    {
     "data": {
      "text/html": [
       "<pre>Materializing SArray</pre>"
      ],
      "text/plain": [
       "Materializing SArray"
      ]
     },
     "metadata": {},
     "output_type": "display_data"
    },
    {
     "data": {
      "text/html": [
       "<html>                 <body>                     <iframe style=\"border:0;margin:0\" width=\"920\" height=\"770\" srcdoc='<html lang=\"en\">                         <head>                             <script src=\"https://cdnjs.cloudflare.com/ajax/libs/vega/3.0.8/vega.js\"></script>                             <script src=\"https://cdnjs.cloudflare.com/ajax/libs/vega-embed/3.0.0-rc7/vega-embed.js\"></script>                             <script src=\"https://cdnjs.cloudflare.com/ajax/libs/vega-tooltip/0.5.1/vega-tooltip.min.js\"></script>                             <link rel=\"stylesheet\" type=\"text/css\" href=\"https://cdnjs.cloudflare.com/ajax/libs/vega-tooltip/0.5.1/vega-tooltip.min.css\">                             <style>                             .vega-actions > a{                                 color:white;                                 text-decoration: none;                                 font-family: \"Arial\";                                 cursor:pointer;                                 padding:5px;                                 background:#AAAAAA;                                 border-radius:4px;                                 padding-left:10px;                                 padding-right:10px;                                 margin-right:5px;                             }                             .vega-actions{                                 margin-top:20px;                                 text-align:center                             }                            .vega-actions > a{                                 background:#999999;                            }                             </style>                         </head>                         <body>                             <div id=\"vis\">                             </div>                             <script>                                 var vega_json = \"{\\\"$schema\\\": \\\"https://vega.github.io/schema/vega/v4.json\\\", \\\"autosize\\\": {\\\"type\\\": \\\"fit\\\", \\\"resize\\\": false, \\\"contains\\\": \\\"padding\\\"}, \\\"padding\\\": 8, \\\"metadata\\\": {\\\"bubbleOpts\\\": {\\\"showAllFields\\\": false, \\\"fields\\\": [{\\\"field\\\": \\\"count\\\"}, {\\\"field\\\": \\\"label\\\"}, {\\\"field\\\": \\\"percentage\\\"}]}}, \\\"width\\\": 720, \\\"height\\\": 550, \\\"title\\\": \\\"Distribution of Values [string]\\\", \\\"style\\\": \\\"cell\\\", \\\"data\\\": [{\\\"name\\\": \\\"pts_store_store\\\"}, {\\\"name\\\": \\\"source_2\\\", \\\"values\\\": [{\\\"label\\\": \\\"MORTGAGE\\\", \\\"label_idx\\\": 0, \\\"count\\\": 59240, \\\"percentage\\\": \\\"48.317%\\\"}, {\\\"label\\\": \\\"RENT\\\", \\\"label_idx\\\": 1, \\\"count\\\": 53245, \\\"percentage\\\": \\\"43.4274%\\\"}, {\\\"label\\\": \\\"OWN\\\", \\\"label_idx\\\": 2, \\\"count\\\": 9943, \\\"percentage\\\": \\\"8.10965%\\\"}, {\\\"label\\\": \\\"OTHER\\\", \\\"label_idx\\\": 3, \\\"count\\\": 179, \\\"percentage\\\": \\\"0.145995%\\\"}]}, {\\\"name\\\": \\\"data_0\\\", \\\"source\\\": \\\"source_2\\\", \\\"transform\\\": [{\\\"type\\\": \\\"formula\\\", \\\"expr\\\": \\\"toNumber(datum[\\\\\\\"count\\\\\\\"])\\\", \\\"as\\\": \\\"count\\\"}, {\\\"type\\\": \\\"filter\\\", \\\"expr\\\": \\\"datum[\\\\\\\"count\\\\\\\"] !== null &amp;&amp; !isNaN(datum[\\\\\\\"count\\\\\\\"])\\\"}]}], \\\"signals\\\": [{\\\"name\\\": \\\"unit\\\", \\\"value\\\": {}, \\\"on\\\": [{\\\"events\\\": \\\"mousemove\\\", \\\"update\\\": \\\"isTuple(group()) ? group() : unit\\\"}]}, {\\\"name\\\": \\\"pts_store\\\", \\\"update\\\": \\\"data(\\\\\\\"pts_store_store\\\\\\\").length &amp;&amp; {count: data(\\\\\\\"pts_store_store\\\\\\\")[0].values[0]}\\\"}, {\\\"name\\\": \\\"pts_store_tuple\\\", \\\"value\\\": {}, \\\"on\\\": [{\\\"events\\\": [{\\\"source\\\": \\\"scope\\\", \\\"type\\\": \\\"click\\\"}], \\\"update\\\": \\\"datum &amp;&amp; item().mark.marktype !== &apos;group&apos; ? {unit: \\\\\\\"\\\\\\\", encodings: [\\\\\\\"x\\\\\\\"], fields: [\\\\\\\"count\\\\\\\"], values: [datum[\\\\\\\"count\\\\\\\"]]} : null\\\", \\\"force\\\": true}]}, {\\\"name\\\": \\\"pts_store_modify\\\", \\\"on\\\": [{\\\"events\\\": {\\\"signal\\\": \\\"pts_store_tuple\\\"}, \\\"update\\\": \\\"modify(\\\\\\\"pts_store_store\\\\\\\", pts_store_tuple, true)\\\"}]}], \\\"marks\\\": [{\\\"name\\\": \\\"marks\\\", \\\"type\\\": \\\"rect\\\", \\\"style\\\": [\\\"bar\\\"], \\\"from\\\": {\\\"data\\\": \\\"data_0\\\"}, \\\"encode\\\": {\\\"hover\\\": {\\\"fill\\\": {\\\"value\\\": \\\"#7EC2F3\\\"}}, \\\"update\\\": {\\\"x\\\": {\\\"scale\\\": \\\"x\\\", \\\"field\\\": \\\"count\\\"}, \\\"x2\\\": {\\\"scale\\\": \\\"x\\\", \\\"value\\\": 0}, \\\"y\\\": {\\\"scale\\\": \\\"y\\\", \\\"field\\\": \\\"label\\\"}, \\\"height\\\": {\\\"scale\\\": \\\"y\\\", \\\"band\\\": true}, \\\"fill\\\": {\\\"value\\\": \\\"#108EE9\\\"}}}}], \\\"scales\\\": [{\\\"name\\\": \\\"x\\\", \\\"type\\\": \\\"linear\\\", \\\"domain\\\": {\\\"data\\\": \\\"data_0\\\", \\\"field\\\": \\\"count\\\"}, \\\"range\\\": [0, {\\\"signal\\\": \\\"width\\\"}], \\\"nice\\\": true, \\\"zero\\\": true}, {\\\"name\\\": \\\"y\\\", \\\"type\\\": \\\"band\\\", \\\"domain\\\": {\\\"data\\\": \\\"data_0\\\", \\\"field\\\": \\\"label\\\", \\\"sort\\\": {\\\"op\\\": \\\"mean\\\", \\\"field\\\": \\\"label_idx\\\", \\\"order\\\": \\\"descending\\\"}}, \\\"range\\\": [{\\\"signal\\\": \\\"height\\\"}, 0], \\\"paddingInner\\\": 0.1, \\\"paddingOuter\\\": 0.05}], \\\"axes\\\": [{\\\"orient\\\": \\\"top\\\", \\\"scale\\\": \\\"x\\\", \\\"labelOverlap\\\": true, \\\"tickCount\\\": {\\\"signal\\\": \\\"ceil(width/40)\\\"}, \\\"title\\\": \\\"Values\\\", \\\"zindex\\\": 1}, {\\\"orient\\\": \\\"top\\\", \\\"scale\\\": \\\"x\\\", \\\"domain\\\": false, \\\"grid\\\": true, \\\"labels\\\": false, \\\"maxExtent\\\": 0, \\\"minExtent\\\": 0, \\\"tickCount\\\": {\\\"signal\\\": \\\"ceil(width/40)\\\"}, \\\"ticks\\\": false, \\\"zindex\\\": 0, \\\"gridScale\\\": \\\"y\\\"}, {\\\"scale\\\": \\\"y\\\", \\\"labelOverlap\\\": true, \\\"orient\\\": \\\"left\\\", \\\"title\\\": \\\"Count\\\", \\\"zindex\\\": 1}], \\\"config\\\": {\\\"axis\\\": {\\\"gridColor\\\": \\\"rgba(204,204,204,1.0)\\\", \\\"labelFont\\\": \\\"\\\\\\\"San Francisco\\\\\\\", HelveticaNeue, Arial\\\", \\\"labelFontSize\\\": 12, \\\"labelPadding\\\": 10, \\\"labelColor\\\": \\\"rgba(0,0,0,0.847)\\\", \\\"tickColor\\\": \\\"rgb(136,136,136)\\\", \\\"titleFont\\\": \\\"\\\\\\\"San Francisco\\\\\\\", HelveticaNeue, Arial\\\", \\\"titleFontWeight\\\": \\\"normal\\\", \\\"titlePadding\\\": 20, \\\"titleFontSize\\\": 14, \\\"titleColor\\\": \\\"rgba(0,0,0,0.847)\\\"}, \\\"axisY\\\": {\\\"minExtent\\\": 30}, \\\"legend\\\": {\\\"labelFont\\\": \\\"\\\\\\\"San Francisco\\\\\\\", HelveticaNeue, Arial\\\", \\\"labelColor\\\": \\\"rgba(0,0,0,0.847)\\\", \\\"titleFont\\\": \\\"\\\\\\\"San Francisco\\\\\\\", HelveticaNeue, Arial\\\", \\\"cornerRadius\\\": 30, \\\"gradientLength\\\": 608, \\\"titleColor\\\": \\\"rgba(0,0,0,0.847)\\\"}, \\\"range\\\": {\\\"heatmap\\\": {\\\"scheme\\\": \\\"greenblue\\\"}}, \\\"style\\\": {\\\"rect\\\": {\\\"stroke\\\": \\\"rgba(200, 200, 200, 0.5)\\\"}, \\\"cell\\\": {\\\"stroke\\\": \\\"transparent\\\"}, \\\"group-title\\\": {\\\"fontSize\\\": 29, \\\"font\\\": \\\"HelveticaNeue, Arial\\\", \\\"fontWeight\\\": \\\"normal\\\", \\\"fill\\\": \\\"rgba(0,0,0,0.65)\\\"}}, \\\"title\\\": {\\\"color\\\": \\\"rgba(0,0,0,0.847)\\\", \\\"font\\\": \\\"\\\\\\\"San Francisco\\\\\\\", HelveticaNeue, Arial\\\", \\\"fontSize\\\": 18, \\\"fontWeight\\\": \\\"normal\\\", \\\"offset\\\": 30}}}\";                                 var vega_json_parsed = JSON.parse(vega_json);                                 var toolTipOpts = {                                     showAllFields: true                                 };                                 if(vega_json_parsed[\"metadata\"] != null){                                     if(vega_json_parsed[\"metadata\"][\"bubbleOpts\"] != null){                                         toolTipOpts = vega_json_parsed[\"metadata\"][\"bubbleOpts\"];                                     };                                 };                                 vegaEmbed(\"#vis\", vega_json_parsed).then(function (result) {                                     vegaTooltip.vega(result.view, toolTipOpts);                                  });                             </script>                         </body>                     </html>' src=\"demo_iframe_srcdoc.htm\">                         <p>Your browser does not support iframes.</p>                     </iframe>                 </body>             </html>"
      ],
      "text/plain": [
       "<IPython.core.display.HTML object>"
      ]
     },
     "metadata": {},
     "output_type": "display_data"
    }
   ],
   "source": [
    "loans['home_ownership'].show()"
   ]
  },
  {
   "cell_type": "markdown",
   "metadata": {},
   "source": [
    "This feature describes whether the loanee is mortaging, renting, or owns a home. We can see that a small percentage of the loanees own a home."
   ]
  },
  {
   "cell_type": "markdown",
   "metadata": {},
   "source": [
    "## Exploring the target column\n",
    "\n",
    "The target column (label column) of the dataset that we are interested in is called `bad_loans`. In this column **1** means a risky (bad) loan **0** means a safe  loan.\n",
    "\n",
    "In order to make this more intuitive and consistent with the lectures, we reassign the target to be:\n",
    "* **+1** as a safe  loan, \n",
    "* **-1** as a risky (bad) loan. \n",
    "\n",
    "We put this in a new column called `safe_loans`."
   ]
  },
  {
   "cell_type": "code",
   "execution_count": 8,
   "metadata": {},
   "outputs": [],
   "source": [
    "# safe_loans =  1 => safe\n",
    "# safe_loans = -1 => risky\n",
    "loans['safe_loans'] = loans['bad_loans'].apply(lambda x : +1 if x==0 else -1)\n",
    "loans = loans.remove_column('bad_loans')"
   ]
  },
  {
   "cell_type": "markdown",
   "metadata": {},
   "source": [
    "Now, let us explore the distribution of the column `safe_loans`. This gives us a sense of how many safe and risky loans are present in the dataset."
   ]
  },
  {
   "cell_type": "code",
   "execution_count": 9,
   "metadata": {},
   "outputs": [
    {
     "data": {
      "text/html": [
       "<pre>Materializing SArray</pre>"
      ],
      "text/plain": [
       "Materializing SArray"
      ]
     },
     "metadata": {},
     "output_type": "display_data"
    },
    {
     "data": {
      "text/html": [
       "<html>                 <body>                     <iframe style=\"border:0;margin:0\" width=\"920\" height=\"770\" srcdoc='<html lang=\"en\">                         <head>                             <script src=\"https://cdnjs.cloudflare.com/ajax/libs/vega/3.0.8/vega.js\"></script>                             <script src=\"https://cdnjs.cloudflare.com/ajax/libs/vega-embed/3.0.0-rc7/vega-embed.js\"></script>                             <script src=\"https://cdnjs.cloudflare.com/ajax/libs/vega-tooltip/0.5.1/vega-tooltip.min.js\"></script>                             <link rel=\"stylesheet\" type=\"text/css\" href=\"https://cdnjs.cloudflare.com/ajax/libs/vega-tooltip/0.5.1/vega-tooltip.min.css\">                             <style>                             .vega-actions > a{                                 color:white;                                 text-decoration: none;                                 font-family: \"Arial\";                                 cursor:pointer;                                 padding:5px;                                 background:#AAAAAA;                                 border-radius:4px;                                 padding-left:10px;                                 padding-right:10px;                                 margin-right:5px;                             }                             .vega-actions{                                 margin-top:20px;                                 text-align:center                             }                            .vega-actions > a{                                 background:#999999;                            }                             </style>                         </head>                         <body>                             <div id=\"vis\">                             </div>                             <script>                                 var vega_json = \"{\\\"$schema\\\": \\\"https://vega.github.io/schema/vega/v4.json\\\", \\\"description\\\": \\\"A simple bar chart with embedded data.\\\", \\\"autosize\\\": {\\\"type\\\": \\\"fit\\\", \\\"resize\\\": false, \\\"contains\\\": \\\"padding\\\"}, \\\"width\\\": 720, \\\"height\\\": 550, \\\"padding\\\": 8, \\\"title\\\": \\\"Distribution of Values [integer]\\\", \\\"style\\\": \\\"cell\\\", \\\"signals\\\": [{\\\"name\\\": \\\"nullGap\\\", \\\"update\\\": \\\"data(&apos;nulls&apos;).length > 0 ? 10 : 0\\\"}, {\\\"name\\\": \\\"barStep\\\", \\\"update\\\": \\\"nullGap == 0 ? 0 : (width/40)\\\"}], \\\"data\\\": [{\\\"name\\\": \\\"source_2\\\", \\\"values\\\": [{\\\"left\\\": -1, \\\"right\\\": -0.9, \\\"count\\\": 23150}, {\\\"left\\\": -0.9, \\\"right\\\": -0.8, \\\"count\\\": 0}, {\\\"left\\\": -0.8, \\\"right\\\": -0.7, \\\"count\\\": 0}, {\\\"left\\\": -0.7, \\\"right\\\": -0.6, \\\"count\\\": 0}, {\\\"left\\\": -0.6, \\\"right\\\": -0.5, \\\"count\\\": 0}, {\\\"left\\\": -0.5, \\\"right\\\": -0.4, \\\"count\\\": 0}, {\\\"left\\\": -0.4, \\\"right\\\": -0.3, \\\"count\\\": 0}, {\\\"left\\\": -0.3, \\\"right\\\": -0.2, \\\"count\\\": 0}, {\\\"left\\\": -0.2, \\\"right\\\": -0.1, \\\"count\\\": 0}, {\\\"left\\\": -0.1, \\\"right\\\": 0, \\\"count\\\": 0}, {\\\"left\\\": 0, \\\"right\\\": 0.1, \\\"count\\\": 0}, {\\\"left\\\": 0.1, \\\"right\\\": 0.2, \\\"count\\\": 0}, {\\\"left\\\": 0.2, \\\"right\\\": 0.3, \\\"count\\\": 0}, {\\\"left\\\": 0.3, \\\"right\\\": 0.4, \\\"count\\\": 0}, {\\\"left\\\": 0.4, \\\"right\\\": 0.5, \\\"count\\\": 0}, {\\\"left\\\": 0.5, \\\"right\\\": 0.6, \\\"count\\\": 0}, {\\\"left\\\": 0.6, \\\"right\\\": 0.7, \\\"count\\\": 0}, {\\\"left\\\": 0.7, \\\"right\\\": 0.8, \\\"count\\\": 0}, {\\\"left\\\": 0.8, \\\"right\\\": 0.9, \\\"count\\\": 0}, {\\\"left\\\": 0.9, \\\"right\\\": 1, \\\"count\\\": 99457}]}, {\\\"name\\\": \\\"data_0\\\", \\\"source\\\": \\\"source_2\\\", \\\"transform\\\": [{\\\"type\\\": \\\"formula\\\", \\\"expr\\\": \\\"toNumber(datum[\\\\\\\"left\\\\\\\"])\\\", \\\"as\\\": \\\"left\\\"}, {\\\"type\\\": \\\"formula\\\", \\\"expr\\\": \\\"toNumber(datum[\\\\\\\"right\\\\\\\"])\\\", \\\"as\\\": \\\"right\\\"}, {\\\"type\\\": \\\"formula\\\", \\\"expr\\\": \\\"toNumber(datum[\\\\\\\"count\\\\\\\"])\\\", \\\"as\\\": \\\"count\\\"}, {\\\"type\\\": \\\"filter\\\", \\\"expr\\\": \\\"datum[\\\\\\\"left\\\\\\\"] !== null &amp;&amp; !isNaN(datum[\\\\\\\"left\\\\\\\"]) &amp;&amp; datum[\\\\\\\"count\\\\\\\"] !== null &amp;&amp; !isNaN(datum[\\\\\\\"count\\\\\\\"])\\\"}]}, {\\\"source\\\": \\\"source_2\\\", \\\"name\\\": \\\"nulls\\\", \\\"transform\\\": [{\\\"expr\\\": \\\"toNumber(datum[\\\\\\\"count\\\\\\\"])\\\", \\\"as\\\": \\\"count\\\", \\\"type\\\": \\\"formula\\\"}, {\\\"expr\\\": \\\"datum[\\\\\\\"missing\\\\\\\"] === true &amp;&amp; datum[\\\\\\\"count\\\\\\\"] !== null &amp;&amp; !isNaN(datum[\\\\\\\"count\\\\\\\"])\\\", \\\"type\\\": \\\"filter\\\"}]}], \\\"marks\\\": [{\\\"name\\\": \\\"marks\\\", \\\"type\\\": \\\"rect\\\", \\\"style\\\": [\\\"rect\\\"], \\\"from\\\": {\\\"data\\\": \\\"data_0\\\"}, \\\"encode\\\": {\\\"hover\\\": {\\\"fill\\\": {\\\"value\\\": \\\"#7EC2F3\\\"}}, \\\"update\\\": {\\\"x\\\": {\\\"scale\\\": \\\"x\\\", \\\"field\\\": \\\"left\\\"}, \\\"x2\\\": {\\\"scale\\\": \\\"x\\\", \\\"field\\\": \\\"right\\\"}, \\\"y\\\": {\\\"scale\\\": \\\"y\\\", \\\"field\\\": \\\"count\\\"}, \\\"y2\\\": {\\\"scale\\\": \\\"y\\\", \\\"value\\\": 0}, \\\"fill\\\": {\\\"value\\\": \\\"#108EE9\\\"}}}}, {\\\"type\\\": \\\"rect\\\", \\\"from\\\": {\\\"data\\\": \\\"nulls\\\"}, \\\"style\\\": [\\\"rect\\\"], \\\"encode\\\": {\\\"update\\\": {\\\"x\\\": {\\\"scale\\\": \\\"xscale-null\\\", \\\"value\\\": null, \\\"offset\\\": 1}, \\\"x2\\\": {\\\"scale\\\": \\\"xscale-null\\\", \\\"band\\\": 1}, \\\"y\\\": {\\\"scale\\\": \\\"y\\\", \\\"field\\\": \\\"count\\\"}, \\\"y2\\\": {\\\"scale\\\": \\\"y\\\", \\\"value\\\": 0}, \\\"fill\\\": {\\\"value\\\": \\\"#108EE9\\\"}}, \\\"hover\\\": {\\\"fill\\\": {\\\"value\\\": \\\"#7EC2F3\\\"}}}}], \\\"scales\\\": [{\\\"domain\\\": [null], \\\"range\\\": [0, {\\\"signal\\\": \\\"barStep\\\"}], \\\"type\\\": \\\"band\\\", \\\"name\\\": \\\"xscale-null\\\"}, {\\\"name\\\": \\\"x\\\", \\\"type\\\": \\\"linear\\\", \\\"domain\\\": {\\\"data\\\": \\\"data_0\\\", \\\"fields\\\": [\\\"left\\\", \\\"right\\\"], \\\"sort\\\": true}, \\\"range\\\": [{\\\"signal\\\": \\\"barStep + nullGap\\\"}, {\\\"signal\\\": \\\"width\\\"}], \\\"nice\\\": true, \\\"zero\\\": false}, {\\\"name\\\": \\\"y\\\", \\\"type\\\": \\\"linear\\\", \\\"domain\\\": {\\\"fields\\\": [{\\\"data\\\": \\\"data_0\\\", \\\"field\\\": \\\"count\\\"}, {\\\"data\\\": \\\"nulls\\\", \\\"field\\\": \\\"count\\\"}]}, \\\"range\\\": [{\\\"signal\\\": \\\"height\\\"}, 0], \\\"nice\\\": true, \\\"zero\\\": true}], \\\"axes\\\": [{\\\"title\\\": \\\"Count\\\", \\\"scale\\\": \\\"x\\\", \\\"labelOverlap\\\": true, \\\"orient\\\": \\\"bottom\\\", \\\"tickCount\\\": {\\\"signal\\\": \\\"ceil(width/40)\\\"}, \\\"zindex\\\": 1}, {\\\"scale\\\": \\\"x\\\", \\\"domain\\\": false, \\\"grid\\\": true, \\\"labels\\\": false, \\\"maxExtent\\\": 0, \\\"minExtent\\\": 0, \\\"orient\\\": \\\"bottom\\\", \\\"tickCount\\\": {\\\"signal\\\": \\\"ceil(width/40)\\\"}, \\\"ticks\\\": false, \\\"zindex\\\": 0, \\\"gridScale\\\": \\\"y\\\"}, {\\\"title\\\": \\\"Values\\\", \\\"scale\\\": \\\"y\\\", \\\"labelOverlap\\\": true, \\\"orient\\\": \\\"left\\\", \\\"tickCount\\\": {\\\"signal\\\": \\\"ceil(height/40)\\\"}, \\\"zindex\\\": 1}, {\\\"scale\\\": \\\"y\\\", \\\"domain\\\": false, \\\"grid\\\": true, \\\"labels\\\": false, \\\"maxExtent\\\": 0, \\\"minExtent\\\": 0, \\\"orient\\\": \\\"left\\\", \\\"tickCount\\\": {\\\"signal\\\": \\\"ceil(height/40)\\\"}, \\\"ticks\\\": false, \\\"zindex\\\": 0, \\\"gridScale\\\": \\\"x\\\"}, {\\\"orient\\\": \\\"bottom\\\", \\\"scale\\\": \\\"xscale-null\\\", \\\"encode\\\": {\\\"ticks\\\": {\\\"update\\\": {\\\"opacity\\\": {\\\"signal\\\": \\\"nullGap > 0 ? 1.0 : 0.0\\\"}}}, \\\"labels\\\": {\\\"update\\\": {\\\"text\\\": {\\\"signal\\\": \\\"nullGap > 0 ? &apos;null&apos; : &apos;&apos;\\\"}}}}}], \\\"config\\\": {\\\"axis\\\": {\\\"gridColor\\\": \\\"rgba(204,204,204,1.0)\\\", \\\"labelFont\\\": \\\"\\\\\\\"San Francisco\\\\\\\", HelveticaNeue, Arial\\\", \\\"labelFontSize\\\": 12, \\\"labelPadding\\\": 10, \\\"labelColor\\\": \\\"rgba(0,0,0,0.847)\\\", \\\"tickColor\\\": \\\"rgb(136,136,136)\\\", \\\"titleFont\\\": \\\"\\\\\\\"San Francisco\\\\\\\", HelveticaNeue, Arial\\\", \\\"titleFontWeight\\\": \\\"normal\\\", \\\"titlePadding\\\": 20, \\\"titleFontSize\\\": 14, \\\"titleColor\\\": \\\"rgba(0,0,0,0.847)\\\"}, \\\"axisY\\\": {\\\"minExtent\\\": 30}, \\\"legend\\\": {\\\"labelFont\\\": \\\"\\\\\\\"San Francisco\\\\\\\", HelveticaNeue, Arial\\\", \\\"labelColor\\\": \\\"rgba(0,0,0,0.847)\\\", \\\"titleFont\\\": \\\"\\\\\\\"San Francisco\\\\\\\", HelveticaNeue, Arial\\\", \\\"cornerRadius\\\": 30, \\\"gradientLength\\\": 608, \\\"titleColor\\\": \\\"rgba(0,0,0,0.847)\\\"}, \\\"range\\\": {\\\"heatmap\\\": {\\\"scheme\\\": \\\"greenblue\\\"}}, \\\"style\\\": {\\\"rect\\\": {\\\"stroke\\\": \\\"rgba(200, 200, 200, 0.5)\\\"}, \\\"cell\\\": {\\\"stroke\\\": \\\"transparent\\\"}, \\\"group-title\\\": {\\\"fontSize\\\": 29, \\\"font\\\": \\\"HelveticaNeue, Arial\\\", \\\"fontWeight\\\": \\\"normal\\\", \\\"fill\\\": \\\"rgba(0,0,0,0.65)\\\"}}, \\\"title\\\": {\\\"color\\\": \\\"rgba(0,0,0,0.847)\\\", \\\"font\\\": \\\"\\\\\\\"San Francisco\\\\\\\", HelveticaNeue, Arial\\\", \\\"fontSize\\\": 18, \\\"fontWeight\\\": \\\"normal\\\", \\\"offset\\\": 30}}}\";                                 var vega_json_parsed = JSON.parse(vega_json);                                 var toolTipOpts = {                                     showAllFields: true                                 };                                 if(vega_json_parsed[\"metadata\"] != null){                                     if(vega_json_parsed[\"metadata\"][\"bubbleOpts\"] != null){                                         toolTipOpts = vega_json_parsed[\"metadata\"][\"bubbleOpts\"];                                     };                                 };                                 vegaEmbed(\"#vis\", vega_json_parsed).then(function (result) {                                     vegaTooltip.vega(result.view, toolTipOpts);                                  });                             </script>                         </body>                     </html>' src=\"demo_iframe_srcdoc.htm\">                         <p>Your browser does not support iframes.</p>                     </iframe>                 </body>             </html>"
      ],
      "text/plain": [
       "<IPython.core.display.HTML object>"
      ]
     },
     "metadata": {},
     "output_type": "display_data"
    }
   ],
   "source": [
    "# loans['safe_loans'].show(view = 'Categorical')\n",
    "loans['safe_loans'].show()"
   ]
  },
  {
   "cell_type": "markdown",
   "metadata": {},
   "source": [
    "You should have:\n",
    "* Around 81% safe loans\n",
    "* Around 19% risky loans\n",
    "\n",
    "It looks like most of these loans are safe loans (thankfully). But this does make our problem of identifying risky loans challenging."
   ]
  },
  {
   "cell_type": "markdown",
   "metadata": {},
   "source": [
    "## Features for the classification algorithm"
   ]
  },
  {
   "cell_type": "markdown",
   "metadata": {},
   "source": [
    "In this assignment, we will be using a subset of features (categorical and numeric). The features we will be using are **described in the code comments** below. If you are a finance geek, the [LendingClub](https://www.lendingclub.com/) website has a lot more details about these features."
   ]
  },
  {
   "cell_type": "code",
   "execution_count": 10,
   "metadata": {},
   "outputs": [],
   "source": [
    "features = ['grade',                     # grade of the loan\n",
    "            'sub_grade',                 # sub-grade of the loan\n",
    "            'short_emp',                 # one year or less of employment\n",
    "            'emp_length_num',            # number of years of employment\n",
    "            'home_ownership',            # home_ownership status: own, mortgage or rent\n",
    "            'dti',                       # debt to income ratio\n",
    "            'purpose',                   # the purpose of the loan\n",
    "            'term',                      # the term of the loan\n",
    "            'last_delinq_none',          # has borrower had a delinquincy\n",
    "            'last_major_derog_none',     # has borrower had 90 day or worse rating\n",
    "            'revol_util',                # percent of available credit being used\n",
    "            'total_rec_late_fee',        # total late fees received to day\n",
    "           ]\n",
    "\n",
    "target = 'safe_loans'                   # prediction target (y) (+1 means safe, -1 is risky)\n",
    "\n",
    "# Extract the feature columns and target column\n",
    "loans = loans[features + [target]]"
   ]
  },
  {
   "cell_type": "markdown",
   "metadata": {},
   "source": [
    "What remains now is a **subset of features** and the **target** that we will use for the rest of this notebook. "
   ]
  },
  {
   "cell_type": "markdown",
   "metadata": {},
   "source": [
    "## Sample data to balance classes\n",
    "\n",
    "As we explored above, our data is disproportionally full of safe loans.  Let's create two datasets: one with just the safe loans (`safe_loans_raw`) and one with just the risky loans (`risky_loans_raw`)."
   ]
  },
  {
   "cell_type": "code",
   "execution_count": 12,
   "metadata": {},
   "outputs": [
    {
     "name": "stdout",
     "output_type": "stream",
     "text": [
      "Number of safe loans  : 99457\n",
      "Number of risky loans : 23150\n"
     ]
    }
   ],
   "source": [
    "safe_loans_raw = loans[loans[target] == +1]\n",
    "risky_loans_raw = loans[loans[target] == -1]\n",
    "print(\"Number of safe loans  : %s\" % len(safe_loans_raw))\n",
    "print(\"Number of risky loans : %s\" % len(risky_loans_raw))"
   ]
  },
  {
   "cell_type": "markdown",
   "metadata": {},
   "source": [
    "Now, write some code to compute below the percentage of safe and risky loans in the dataset and validate these numbers against what was given using `.show` earlier in the assignment:"
   ]
  },
  {
   "cell_type": "code",
   "execution_count": 15,
   "metadata": {},
   "outputs": [
    {
     "name": "stdout",
     "output_type": "stream",
     "text": [
      "Percentage of safe loans  : 0.8111853319957262\n",
      "Percentage of risky loans : 0.18881466800427382\n"
     ]
    }
   ],
   "source": [
    "print(\"Percentage of safe loans  :\", len(safe_loans_raw)/(len(safe_loans_raw)+len(risky_loans_raw)))\n",
    "print(\"Percentage of risky loans :\", len(risky_loans_raw)/(len(safe_loans_raw)+len(risky_loans_raw)))"
   ]
  },
  {
   "cell_type": "markdown",
   "metadata": {},
   "source": [
    "One way to combat class imbalance is to undersample the larger class until the class distribution is approximately half and half. Here, we will undersample the larger class (safe loans) in order to balance out our dataset. This means we are throwing away many data points. We used `seed=1` so everyone gets the same results."
   ]
  },
  {
   "cell_type": "code",
   "execution_count": 16,
   "metadata": {},
   "outputs": [
    {
     "name": "stdout",
     "output_type": "stream",
     "text": [
      "0.2327639080205516\n"
     ]
    }
   ],
   "source": [
    "# Since there are fewer risky loans than safe loans, find the ratio of the sizes\n",
    "# and use that percentage to undersample the safe loans.\n",
    "percentage = len(risky_loans_raw)/float(len(safe_loans_raw))\n",
    "\n",
    "print(percentage)\n",
    "\n",
    "risky_loans = risky_loans_raw\n",
    "safe_loans = safe_loans_raw.sample(percentage, seed=1)\n",
    "\n",
    "# Append the risky_loans with the downsampled version of safe_loans\n",
    "loans_data = risky_loans.append(safe_loans)"
   ]
  },
  {
   "cell_type": "markdown",
   "metadata": {},
   "source": [
    "Now, let's verify that the resulting percentage of safe and risky loans are each nearly 50%."
   ]
  },
  {
   "cell_type": "code",
   "execution_count": 17,
   "metadata": {},
   "outputs": [
    {
     "name": "stdout",
     "output_type": "stream",
     "text": [
      "Percentage of safe loans                 : 0.5022361744216048\n",
      "Percentage of risky loans                : 0.4977638255783951\n",
      "Total number of loans in our new dataset : 46508\n"
     ]
    }
   ],
   "source": [
    "print(\"Percentage of safe loans                 :\", len(safe_loans) / float(len(loans_data)))\n",
    "print(\"Percentage of risky loans                :\", len(risky_loans) / float(len(loans_data)))\n",
    "print(\"Total number of loans in our new dataset :\", len(loans_data))"
   ]
  },
  {
   "cell_type": "code",
   "execution_count": 19,
   "metadata": {},
   "outputs": [
    {
     "data": {
      "text/html": [
       "<pre>Materializing SArray</pre>"
      ],
      "text/plain": [
       "Materializing SArray"
      ]
     },
     "metadata": {},
     "output_type": "display_data"
    },
    {
     "data": {
      "text/html": [
       "<html>                 <body>                     <iframe style=\"border:0;margin:0\" width=\"920\" height=\"770\" srcdoc='<html lang=\"en\">                         <head>                             <script src=\"https://cdnjs.cloudflare.com/ajax/libs/vega/3.0.8/vega.js\"></script>                             <script src=\"https://cdnjs.cloudflare.com/ajax/libs/vega-embed/3.0.0-rc7/vega-embed.js\"></script>                             <script src=\"https://cdnjs.cloudflare.com/ajax/libs/vega-tooltip/0.5.1/vega-tooltip.min.js\"></script>                             <link rel=\"stylesheet\" type=\"text/css\" href=\"https://cdnjs.cloudflare.com/ajax/libs/vega-tooltip/0.5.1/vega-tooltip.min.css\">                             <style>                             .vega-actions > a{                                 color:white;                                 text-decoration: none;                                 font-family: \"Arial\";                                 cursor:pointer;                                 padding:5px;                                 background:#AAAAAA;                                 border-radius:4px;                                 padding-left:10px;                                 padding-right:10px;                                 margin-right:5px;                             }                             .vega-actions{                                 margin-top:20px;                                 text-align:center                             }                            .vega-actions > a{                                 background:#999999;                            }                             </style>                         </head>                         <body>                             <div id=\"vis\">                             </div>                             <script>                                 var vega_json = \"{\\\"$schema\\\": \\\"https://vega.github.io/schema/vega/v4.json\\\", \\\"description\\\": \\\"A simple bar chart with embedded data.\\\", \\\"autosize\\\": {\\\"type\\\": \\\"fit\\\", \\\"resize\\\": false, \\\"contains\\\": \\\"padding\\\"}, \\\"width\\\": 720, \\\"height\\\": 550, \\\"padding\\\": 8, \\\"title\\\": \\\"Distribution of Values [integer]\\\", \\\"style\\\": \\\"cell\\\", \\\"signals\\\": [{\\\"name\\\": \\\"nullGap\\\", \\\"update\\\": \\\"data(&apos;nulls&apos;).length > 0 ? 10 : 0\\\"}, {\\\"name\\\": \\\"barStep\\\", \\\"update\\\": \\\"nullGap == 0 ? 0 : (width/40)\\\"}], \\\"data\\\": [{\\\"name\\\": \\\"source_2\\\", \\\"values\\\": [{\\\"left\\\": -1.0206, \\\"right\\\": -0.9182, \\\"count\\\": 23150}, {\\\"left\\\": -0.9182, \\\"right\\\": -0.8158, \\\"count\\\": 0}, {\\\"left\\\": -0.8158, \\\"right\\\": -0.7134, \\\"count\\\": 0}, {\\\"left\\\": -0.7134, \\\"right\\\": -0.611, \\\"count\\\": 0}, {\\\"left\\\": -0.611, \\\"right\\\": -0.5086, \\\"count\\\": 0}, {\\\"left\\\": -0.5086, \\\"right\\\": -0.4062, \\\"count\\\": 0}, {\\\"left\\\": -0.4062, \\\"right\\\": -0.3038, \\\"count\\\": 0}, {\\\"left\\\": -0.3038, \\\"right\\\": -0.2014, \\\"count\\\": 0}, {\\\"left\\\": -0.2014, \\\"right\\\": -0.099, \\\"count\\\": 0}, {\\\"left\\\": -0.099, \\\"right\\\": 0.0034, \\\"count\\\": 0}, {\\\"left\\\": 0.0034, \\\"right\\\": 0.1058, \\\"count\\\": 0}, {\\\"left\\\": 0.1058, \\\"right\\\": 0.2082, \\\"count\\\": 0}, {\\\"left\\\": 0.2082, \\\"right\\\": 0.3106, \\\"count\\\": 0}, {\\\"left\\\": 0.3106, \\\"right\\\": 0.413, \\\"count\\\": 0}, {\\\"left\\\": 0.413, \\\"right\\\": 0.5154, \\\"count\\\": 0}, {\\\"left\\\": 0.5154, \\\"right\\\": 0.6178, \\\"count\\\": 0}, {\\\"left\\\": 0.6178, \\\"right\\\": 0.7202, \\\"count\\\": 0}, {\\\"left\\\": 0.7202, \\\"right\\\": 0.8226, \\\"count\\\": 0}, {\\\"left\\\": 0.8226, \\\"right\\\": 0.925, \\\"count\\\": 0}, {\\\"left\\\": 0.925, \\\"right\\\": 1.0274, \\\"count\\\": 23358}]}, {\\\"name\\\": \\\"data_0\\\", \\\"source\\\": \\\"source_2\\\", \\\"transform\\\": [{\\\"type\\\": \\\"formula\\\", \\\"expr\\\": \\\"toNumber(datum[\\\\\\\"left\\\\\\\"])\\\", \\\"as\\\": \\\"left\\\"}, {\\\"type\\\": \\\"formula\\\", \\\"expr\\\": \\\"toNumber(datum[\\\\\\\"right\\\\\\\"])\\\", \\\"as\\\": \\\"right\\\"}, {\\\"type\\\": \\\"formula\\\", \\\"expr\\\": \\\"toNumber(datum[\\\\\\\"count\\\\\\\"])\\\", \\\"as\\\": \\\"count\\\"}, {\\\"type\\\": \\\"filter\\\", \\\"expr\\\": \\\"datum[\\\\\\\"left\\\\\\\"] !== null &amp;&amp; !isNaN(datum[\\\\\\\"left\\\\\\\"]) &amp;&amp; datum[\\\\\\\"count\\\\\\\"] !== null &amp;&amp; !isNaN(datum[\\\\\\\"count\\\\\\\"])\\\"}]}, {\\\"source\\\": \\\"source_2\\\", \\\"name\\\": \\\"nulls\\\", \\\"transform\\\": [{\\\"expr\\\": \\\"toNumber(datum[\\\\\\\"count\\\\\\\"])\\\", \\\"as\\\": \\\"count\\\", \\\"type\\\": \\\"formula\\\"}, {\\\"expr\\\": \\\"datum[\\\\\\\"missing\\\\\\\"] === true &amp;&amp; datum[\\\\\\\"count\\\\\\\"] !== null &amp;&amp; !isNaN(datum[\\\\\\\"count\\\\\\\"])\\\", \\\"type\\\": \\\"filter\\\"}]}], \\\"marks\\\": [{\\\"name\\\": \\\"marks\\\", \\\"type\\\": \\\"rect\\\", \\\"style\\\": [\\\"rect\\\"], \\\"from\\\": {\\\"data\\\": \\\"data_0\\\"}, \\\"encode\\\": {\\\"hover\\\": {\\\"fill\\\": {\\\"value\\\": \\\"#7EC2F3\\\"}}, \\\"update\\\": {\\\"x\\\": {\\\"scale\\\": \\\"x\\\", \\\"field\\\": \\\"left\\\"}, \\\"x2\\\": {\\\"scale\\\": \\\"x\\\", \\\"field\\\": \\\"right\\\"}, \\\"y\\\": {\\\"scale\\\": \\\"y\\\", \\\"field\\\": \\\"count\\\"}, \\\"y2\\\": {\\\"scale\\\": \\\"y\\\", \\\"value\\\": 0}, \\\"fill\\\": {\\\"value\\\": \\\"#108EE9\\\"}}}}, {\\\"type\\\": \\\"rect\\\", \\\"from\\\": {\\\"data\\\": \\\"nulls\\\"}, \\\"style\\\": [\\\"rect\\\"], \\\"encode\\\": {\\\"update\\\": {\\\"x\\\": {\\\"scale\\\": \\\"xscale-null\\\", \\\"value\\\": null, \\\"offset\\\": 1}, \\\"x2\\\": {\\\"scale\\\": \\\"xscale-null\\\", \\\"band\\\": 1}, \\\"y\\\": {\\\"scale\\\": \\\"y\\\", \\\"field\\\": \\\"count\\\"}, \\\"y2\\\": {\\\"scale\\\": \\\"y\\\", \\\"value\\\": 0}, \\\"fill\\\": {\\\"value\\\": \\\"#108EE9\\\"}}, \\\"hover\\\": {\\\"fill\\\": {\\\"value\\\": \\\"#7EC2F3\\\"}}}}], \\\"scales\\\": [{\\\"domain\\\": [null], \\\"range\\\": [0, {\\\"signal\\\": \\\"barStep\\\"}], \\\"type\\\": \\\"band\\\", \\\"name\\\": \\\"xscale-null\\\"}, {\\\"name\\\": \\\"x\\\", \\\"type\\\": \\\"linear\\\", \\\"domain\\\": {\\\"data\\\": \\\"data_0\\\", \\\"fields\\\": [\\\"left\\\", \\\"right\\\"], \\\"sort\\\": true}, \\\"range\\\": [{\\\"signal\\\": \\\"barStep + nullGap\\\"}, {\\\"signal\\\": \\\"width\\\"}], \\\"nice\\\": true, \\\"zero\\\": false}, {\\\"name\\\": \\\"y\\\", \\\"type\\\": \\\"linear\\\", \\\"domain\\\": {\\\"fields\\\": [{\\\"data\\\": \\\"data_0\\\", \\\"field\\\": \\\"count\\\"}, {\\\"data\\\": \\\"nulls\\\", \\\"field\\\": \\\"count\\\"}]}, \\\"range\\\": [{\\\"signal\\\": \\\"height\\\"}, 0], \\\"nice\\\": true, \\\"zero\\\": true}], \\\"axes\\\": [{\\\"title\\\": \\\"Count\\\", \\\"scale\\\": \\\"x\\\", \\\"labelOverlap\\\": true, \\\"orient\\\": \\\"bottom\\\", \\\"tickCount\\\": {\\\"signal\\\": \\\"ceil(width/40)\\\"}, \\\"zindex\\\": 1}, {\\\"scale\\\": \\\"x\\\", \\\"domain\\\": false, \\\"grid\\\": true, \\\"labels\\\": false, \\\"maxExtent\\\": 0, \\\"minExtent\\\": 0, \\\"orient\\\": \\\"bottom\\\", \\\"tickCount\\\": {\\\"signal\\\": \\\"ceil(width/40)\\\"}, \\\"ticks\\\": false, \\\"zindex\\\": 0, \\\"gridScale\\\": \\\"y\\\"}, {\\\"title\\\": \\\"Values\\\", \\\"scale\\\": \\\"y\\\", \\\"labelOverlap\\\": true, \\\"orient\\\": \\\"left\\\", \\\"tickCount\\\": {\\\"signal\\\": \\\"ceil(height/40)\\\"}, \\\"zindex\\\": 1}, {\\\"scale\\\": \\\"y\\\", \\\"domain\\\": false, \\\"grid\\\": true, \\\"labels\\\": false, \\\"maxExtent\\\": 0, \\\"minExtent\\\": 0, \\\"orient\\\": \\\"left\\\", \\\"tickCount\\\": {\\\"signal\\\": \\\"ceil(height/40)\\\"}, \\\"ticks\\\": false, \\\"zindex\\\": 0, \\\"gridScale\\\": \\\"x\\\"}, {\\\"orient\\\": \\\"bottom\\\", \\\"scale\\\": \\\"xscale-null\\\", \\\"encode\\\": {\\\"ticks\\\": {\\\"update\\\": {\\\"opacity\\\": {\\\"signal\\\": \\\"nullGap > 0 ? 1.0 : 0.0\\\"}}}, \\\"labels\\\": {\\\"update\\\": {\\\"text\\\": {\\\"signal\\\": \\\"nullGap > 0 ? &apos;null&apos; : &apos;&apos;\\\"}}}}}], \\\"config\\\": {\\\"axis\\\": {\\\"gridColor\\\": \\\"rgba(204,204,204,1.0)\\\", \\\"labelFont\\\": \\\"\\\\\\\"San Francisco\\\\\\\", HelveticaNeue, Arial\\\", \\\"labelFontSize\\\": 12, \\\"labelPadding\\\": 10, \\\"labelColor\\\": \\\"rgba(0,0,0,0.847)\\\", \\\"tickColor\\\": \\\"rgb(136,136,136)\\\", \\\"titleFont\\\": \\\"\\\\\\\"San Francisco\\\\\\\", HelveticaNeue, Arial\\\", \\\"titleFontWeight\\\": \\\"normal\\\", \\\"titlePadding\\\": 20, \\\"titleFontSize\\\": 14, \\\"titleColor\\\": \\\"rgba(0,0,0,0.847)\\\"}, \\\"axisY\\\": {\\\"minExtent\\\": 30}, \\\"legend\\\": {\\\"labelFont\\\": \\\"\\\\\\\"San Francisco\\\\\\\", HelveticaNeue, Arial\\\", \\\"labelColor\\\": \\\"rgba(0,0,0,0.847)\\\", \\\"titleFont\\\": \\\"\\\\\\\"San Francisco\\\\\\\", HelveticaNeue, Arial\\\", \\\"cornerRadius\\\": 30, \\\"gradientLength\\\": 608, \\\"titleColor\\\": \\\"rgba(0,0,0,0.847)\\\"}, \\\"range\\\": {\\\"heatmap\\\": {\\\"scheme\\\": \\\"greenblue\\\"}}, \\\"style\\\": {\\\"rect\\\": {\\\"stroke\\\": \\\"rgba(200, 200, 200, 0.5)\\\"}, \\\"cell\\\": {\\\"stroke\\\": \\\"transparent\\\"}, \\\"group-title\\\": {\\\"fontSize\\\": 29, \\\"font\\\": \\\"HelveticaNeue, Arial\\\", \\\"fontWeight\\\": \\\"normal\\\", \\\"fill\\\": \\\"rgba(0,0,0,0.65)\\\"}}, \\\"title\\\": {\\\"color\\\": \\\"rgba(0,0,0,0.847)\\\", \\\"font\\\": \\\"\\\\\\\"San Francisco\\\\\\\", HelveticaNeue, Arial\\\", \\\"fontSize\\\": 18, \\\"fontWeight\\\": \\\"normal\\\", \\\"offset\\\": 30}}}\";                                 var vega_json_parsed = JSON.parse(vega_json);                                 var toolTipOpts = {                                     showAllFields: true                                 };                                 if(vega_json_parsed[\"metadata\"] != null){                                     if(vega_json_parsed[\"metadata\"][\"bubbleOpts\"] != null){                                         toolTipOpts = vega_json_parsed[\"metadata\"][\"bubbleOpts\"];                                     };                                 };                                 vegaEmbed(\"#vis\", vega_json_parsed).then(function (result) {                                     vegaTooltip.vega(result.view, toolTipOpts);                                  });                             </script>                         </body>                     </html>' src=\"demo_iframe_srcdoc.htm\">                         <p>Your browser does not support iframes.</p>                     </iframe>                 </body>             </html>"
      ],
      "text/plain": [
       "<IPython.core.display.HTML object>"
      ]
     },
     "metadata": {},
     "output_type": "display_data"
    }
   ],
   "source": [
    "loans_data['safe_loans'].show()"
   ]
  },
  {
   "cell_type": "markdown",
   "metadata": {},
   "source": [
    "**Note:** There are many approaches for dealing with imbalanced data, including some where we modify the learning algorithm. These approaches are beyond the scope of this course, but some of them are reviewed in this [paper](http://ieeexplore.ieee.org/xpl/login.jsp?tp=&arnumber=5128907&url=http%3A%2F%2Fieeexplore.ieee.org%2Fiel5%2F69%2F5173046%2F05128907.pdf%3Farnumber%3D5128907 ). For this assignment, we use the simplest possible approach, where we subsample the overly represented class to get a more balanced dataset. In general, and especially when the data is highly imbalanced, we recommend using more advanced methods."
   ]
  },
  {
   "cell_type": "markdown",
   "metadata": {},
   "source": [
    "## Split data into training and validation sets"
   ]
  },
  {
   "cell_type": "markdown",
   "metadata": {},
   "source": [
    "We split the data into training and validation sets using an 80/20 split and specifying `seed=1` so everyone gets the same results.\n",
    "\n",
    "**Note**: In previous assignments, we have called this a **train-test split**. However, the portion of data that we don't train on will be used to help **select model parameters** (this is known as model selection). Thus, this portion of data should be called a **validation set**. Recall that examining performance of various potential models (i.e. models with different parameters) should be on validation set, while evaluation of the final selected model should always be on test data. Typically, we would also save a portion of the data (a real test set) to test our final model on or use cross-validation on the training set to select our final model. But for the learning purposes of this assignment, we won't do that."
   ]
  },
  {
   "cell_type": "code",
   "execution_count": 25,
   "metadata": {},
   "outputs": [],
   "source": [
    "train_data, validation_data = loans_data.random_split(.8, seed=1)"
   ]
  },
  {
   "cell_type": "markdown",
   "metadata": {},
   "source": [
    "# Use decision tree to build a classifier"
   ]
  },
  {
   "cell_type": "markdown",
   "metadata": {},
   "source": [
    "Now, let's use the built-in GraphLab Create decision tree learner to create a loan prediction model on the training data. (In the next assignment, you will implement your own decision tree learning algorithm.)  Our feature columns and target column have already been decided above. Use `validation_set=None` to get the same results as everyone else."
   ]
  },
  {
   "cell_type": "code",
   "execution_count": 26,
   "metadata": {},
   "outputs": [
    {
     "data": {
      "text/html": [
       "<pre>Decision tree classifier:</pre>"
      ],
      "text/plain": [
       "Decision tree classifier:"
      ]
     },
     "metadata": {},
     "output_type": "display_data"
    },
    {
     "data": {
      "text/html": [
       "<pre>--------------------------------------------------------</pre>"
      ],
      "text/plain": [
       "--------------------------------------------------------"
      ]
     },
     "metadata": {},
     "output_type": "display_data"
    },
    {
     "data": {
      "text/html": [
       "<pre>Number of examples          : 37224</pre>"
      ],
      "text/plain": [
       "Number of examples          : 37224"
      ]
     },
     "metadata": {},
     "output_type": "display_data"
    },
    {
     "data": {
      "text/html": [
       "<pre>Number of classes           : 2</pre>"
      ],
      "text/plain": [
       "Number of classes           : 2"
      ]
     },
     "metadata": {},
     "output_type": "display_data"
    },
    {
     "data": {
      "text/html": [
       "<pre>Number of feature columns   : 12</pre>"
      ],
      "text/plain": [
       "Number of feature columns   : 12"
      ]
     },
     "metadata": {},
     "output_type": "display_data"
    },
    {
     "data": {
      "text/html": [
       "<pre>Number of unpacked features : 12</pre>"
      ],
      "text/plain": [
       "Number of unpacked features : 12"
      ]
     },
     "metadata": {},
     "output_type": "display_data"
    },
    {
     "data": {
      "text/html": [
       "<pre>+-----------+--------------+-------------------+-------------------+</pre>"
      ],
      "text/plain": [
       "+-----------+--------------+-------------------+-------------------+"
      ]
     },
     "metadata": {},
     "output_type": "display_data"
    },
    {
     "data": {
      "text/html": [
       "<pre>| Iteration | Elapsed Time | Training Accuracy | Training Log Loss |</pre>"
      ],
      "text/plain": [
       "| Iteration | Elapsed Time | Training Accuracy | Training Log Loss |"
      ]
     },
     "metadata": {},
     "output_type": "display_data"
    },
    {
     "data": {
      "text/html": [
       "<pre>+-----------+--------------+-------------------+-------------------+</pre>"
      ],
      "text/plain": [
       "+-----------+--------------+-------------------+-------------------+"
      ]
     },
     "metadata": {},
     "output_type": "display_data"
    },
    {
     "data": {
      "text/html": [
       "<pre>| 1         | 0.030704     | 0.640581          | 0.631396          |</pre>"
      ],
      "text/plain": [
       "| 1         | 0.030704     | 0.640581          | 0.631396          |"
      ]
     },
     "metadata": {},
     "output_type": "display_data"
    },
    {
     "data": {
      "text/html": [
       "<pre>+-----------+--------------+-------------------+-------------------+</pre>"
      ],
      "text/plain": [
       "+-----------+--------------+-------------------+-------------------+"
      ]
     },
     "metadata": {},
     "output_type": "display_data"
    }
   ],
   "source": [
    "decision_tree_model = graphlab.decision_tree_classifier.create(train_data, validation_set=None,\n",
    "                                target = target, features = features)"
   ]
  },
  {
   "cell_type": "markdown",
   "metadata": {},
   "source": [
    "## Visualizing a learned model"
   ]
  },
  {
   "cell_type": "markdown",
   "metadata": {},
   "source": [
    "As noted in the [documentation](https://dato.com/products/create/docs/generated/graphlab.boosted_trees_classifier.create.html#graphlab.boosted_trees_classifier.create), typically the max depth of the tree is capped at 6. However, such a tree can be hard to visualize graphically.  Here, we instead learn a smaller model with **max depth of 2** to gain some intuition by visualizing the learned tree."
   ]
  },
  {
   "cell_type": "code",
   "execution_count": 27,
   "metadata": {},
   "outputs": [
    {
     "data": {
      "text/html": [
       "<pre>Decision tree classifier:</pre>"
      ],
      "text/plain": [
       "Decision tree classifier:"
      ]
     },
     "metadata": {},
     "output_type": "display_data"
    },
    {
     "data": {
      "text/html": [
       "<pre>--------------------------------------------------------</pre>"
      ],
      "text/plain": [
       "--------------------------------------------------------"
      ]
     },
     "metadata": {},
     "output_type": "display_data"
    },
    {
     "data": {
      "text/html": [
       "<pre>Number of examples          : 37224</pre>"
      ],
      "text/plain": [
       "Number of examples          : 37224"
      ]
     },
     "metadata": {},
     "output_type": "display_data"
    },
    {
     "data": {
      "text/html": [
       "<pre>Number of classes           : 2</pre>"
      ],
      "text/plain": [
       "Number of classes           : 2"
      ]
     },
     "metadata": {},
     "output_type": "display_data"
    },
    {
     "data": {
      "text/html": [
       "<pre>Number of feature columns   : 12</pre>"
      ],
      "text/plain": [
       "Number of feature columns   : 12"
      ]
     },
     "metadata": {},
     "output_type": "display_data"
    },
    {
     "data": {
      "text/html": [
       "<pre>Number of unpacked features : 12</pre>"
      ],
      "text/plain": [
       "Number of unpacked features : 12"
      ]
     },
     "metadata": {},
     "output_type": "display_data"
    },
    {
     "data": {
      "text/html": [
       "<pre>+-----------+--------------+-------------------+-------------------+</pre>"
      ],
      "text/plain": [
       "+-----------+--------------+-------------------+-------------------+"
      ]
     },
     "metadata": {},
     "output_type": "display_data"
    },
    {
     "data": {
      "text/html": [
       "<pre>| Iteration | Elapsed Time | Training Accuracy | Training Log Loss |</pre>"
      ],
      "text/plain": [
       "| Iteration | Elapsed Time | Training Accuracy | Training Log Loss |"
      ]
     },
     "metadata": {},
     "output_type": "display_data"
    },
    {
     "data": {
      "text/html": [
       "<pre>+-----------+--------------+-------------------+-------------------+</pre>"
      ],
      "text/plain": [
       "+-----------+--------------+-------------------+-------------------+"
      ]
     },
     "metadata": {},
     "output_type": "display_data"
    },
    {
     "data": {
      "text/html": [
       "<pre>| 1         | 0.020397     | 0.613502          | 0.658759          |</pre>"
      ],
      "text/plain": [
       "| 1         | 0.020397     | 0.613502          | 0.658759          |"
      ]
     },
     "metadata": {},
     "output_type": "display_data"
    },
    {
     "data": {
      "text/html": [
       "<pre>+-----------+--------------+-------------------+-------------------+</pre>"
      ],
      "text/plain": [
       "+-----------+--------------+-------------------+-------------------+"
      ]
     },
     "metadata": {},
     "output_type": "display_data"
    }
   ],
   "source": [
    "small_model = graphlab.decision_tree_classifier.create(train_data, validation_set=None,\n",
    "                   target = target, features = features, max_depth = 2)"
   ]
  },
  {
   "cell_type": "markdown",
   "metadata": {},
   "source": [
    "In the view that is provided by GraphLab Create, you can see each node, and each split at each node. This visualization is great for considering what happens when this model predicts the target of a new data point. \n",
    "\n",
    "**Note:** To better understand this visual:\n",
    "* The root node is represented using pink. \n",
    "* Intermediate nodes are in green. \n",
    "* Leaf nodes in blue and orange. "
   ]
  },
  {
   "cell_type": "code",
   "execution_count": 30,
   "metadata": {},
   "outputs": [],
   "source": [
    "# small_model.show(view=\"Tree\")"
   ]
  },
  {
   "cell_type": "markdown",
   "metadata": {},
   "source": [
    "# Making predictions\n",
    "\n",
    "Let's consider two positive and two negative examples **from the validation set** and see what the model predicts. We will do the following:\n",
    "* Predict whether or not a loan is safe.\n",
    "* Predict the probability that a loan is safe."
   ]
  },
  {
   "cell_type": "code",
   "execution_count": 31,
   "metadata": {},
   "outputs": [
    {
     "data": {
      "text/html": [
       "<div style=\"max-height:1000px;max-width:1500px;overflow:auto;\"><table frame=\"box\" rules=\"cols\">\n",
       "    <tr>\n",
       "        <th style=\"padding-left: 1em; padding-right: 1em; text-align: center\">grade</th>\n",
       "        <th style=\"padding-left: 1em; padding-right: 1em; text-align: center\">sub_grade</th>\n",
       "        <th style=\"padding-left: 1em; padding-right: 1em; text-align: center\">short_emp</th>\n",
       "        <th style=\"padding-left: 1em; padding-right: 1em; text-align: center\">emp_length_num</th>\n",
       "        <th style=\"padding-left: 1em; padding-right: 1em; text-align: center\">home_ownership</th>\n",
       "        <th style=\"padding-left: 1em; padding-right: 1em; text-align: center\">dti</th>\n",
       "        <th style=\"padding-left: 1em; padding-right: 1em; text-align: center\">purpose</th>\n",
       "        <th style=\"padding-left: 1em; padding-right: 1em; text-align: center\">term</th>\n",
       "        <th style=\"padding-left: 1em; padding-right: 1em; text-align: center\">last_delinq_none</th>\n",
       "    </tr>\n",
       "    <tr>\n",
       "        <td style=\"padding-left: 1em; padding-right: 1em; text-align: center; vertical-align: top\">B</td>\n",
       "        <td style=\"padding-left: 1em; padding-right: 1em; text-align: center; vertical-align: top\">B3</td>\n",
       "        <td style=\"padding-left: 1em; padding-right: 1em; text-align: center; vertical-align: top\">0</td>\n",
       "        <td style=\"padding-left: 1em; padding-right: 1em; text-align: center; vertical-align: top\">11</td>\n",
       "        <td style=\"padding-left: 1em; padding-right: 1em; text-align: center; vertical-align: top\">OWN</td>\n",
       "        <td style=\"padding-left: 1em; padding-right: 1em; text-align: center; vertical-align: top\">11.18</td>\n",
       "        <td style=\"padding-left: 1em; padding-right: 1em; text-align: center; vertical-align: top\">credit_card</td>\n",
       "        <td style=\"padding-left: 1em; padding-right: 1em; text-align: center; vertical-align: top\"> 36 months</td>\n",
       "        <td style=\"padding-left: 1em; padding-right: 1em; text-align: center; vertical-align: top\">1</td>\n",
       "    </tr>\n",
       "    <tr>\n",
       "        <td style=\"padding-left: 1em; padding-right: 1em; text-align: center; vertical-align: top\">D</td>\n",
       "        <td style=\"padding-left: 1em; padding-right: 1em; text-align: center; vertical-align: top\">D1</td>\n",
       "        <td style=\"padding-left: 1em; padding-right: 1em; text-align: center; vertical-align: top\">0</td>\n",
       "        <td style=\"padding-left: 1em; padding-right: 1em; text-align: center; vertical-align: top\">10</td>\n",
       "        <td style=\"padding-left: 1em; padding-right: 1em; text-align: center; vertical-align: top\">RENT</td>\n",
       "        <td style=\"padding-left: 1em; padding-right: 1em; text-align: center; vertical-align: top\">16.85</td>\n",
       "        <td style=\"padding-left: 1em; padding-right: 1em; text-align: center; vertical-align: top\">debt_consolidation</td>\n",
       "        <td style=\"padding-left: 1em; padding-right: 1em; text-align: center; vertical-align: top\"> 36 months</td>\n",
       "        <td style=\"padding-left: 1em; padding-right: 1em; text-align: center; vertical-align: top\">1</td>\n",
       "    </tr>\n",
       "    <tr>\n",
       "        <td style=\"padding-left: 1em; padding-right: 1em; text-align: center; vertical-align: top\">D</td>\n",
       "        <td style=\"padding-left: 1em; padding-right: 1em; text-align: center; vertical-align: top\">D2</td>\n",
       "        <td style=\"padding-left: 1em; padding-right: 1em; text-align: center; vertical-align: top\">0</td>\n",
       "        <td style=\"padding-left: 1em; padding-right: 1em; text-align: center; vertical-align: top\">3</td>\n",
       "        <td style=\"padding-left: 1em; padding-right: 1em; text-align: center; vertical-align: top\">RENT</td>\n",
       "        <td style=\"padding-left: 1em; padding-right: 1em; text-align: center; vertical-align: top\">13.97</td>\n",
       "        <td style=\"padding-left: 1em; padding-right: 1em; text-align: center; vertical-align: top\">other</td>\n",
       "        <td style=\"padding-left: 1em; padding-right: 1em; text-align: center; vertical-align: top\"> 60 months</td>\n",
       "        <td style=\"padding-left: 1em; padding-right: 1em; text-align: center; vertical-align: top\">0</td>\n",
       "    </tr>\n",
       "    <tr>\n",
       "        <td style=\"padding-left: 1em; padding-right: 1em; text-align: center; vertical-align: top\">A</td>\n",
       "        <td style=\"padding-left: 1em; padding-right: 1em; text-align: center; vertical-align: top\">A5</td>\n",
       "        <td style=\"padding-left: 1em; padding-right: 1em; text-align: center; vertical-align: top\">0</td>\n",
       "        <td style=\"padding-left: 1em; padding-right: 1em; text-align: center; vertical-align: top\">11</td>\n",
       "        <td style=\"padding-left: 1em; padding-right: 1em; text-align: center; vertical-align: top\">MORTGAGE</td>\n",
       "        <td style=\"padding-left: 1em; padding-right: 1em; text-align: center; vertical-align: top\">16.33</td>\n",
       "        <td style=\"padding-left: 1em; padding-right: 1em; text-align: center; vertical-align: top\">debt_consolidation</td>\n",
       "        <td style=\"padding-left: 1em; padding-right: 1em; text-align: center; vertical-align: top\"> 36 months</td>\n",
       "        <td style=\"padding-left: 1em; padding-right: 1em; text-align: center; vertical-align: top\">1</td>\n",
       "    </tr>\n",
       "</table>\n",
       "<table frame=\"box\" rules=\"cols\">\n",
       "    <tr>\n",
       "        <th style=\"padding-left: 1em; padding-right: 1em; text-align: center\">last_major_derog_none</th>\n",
       "        <th style=\"padding-left: 1em; padding-right: 1em; text-align: center\">revol_util</th>\n",
       "        <th style=\"padding-left: 1em; padding-right: 1em; text-align: center\">total_rec_late_fee</th>\n",
       "        <th style=\"padding-left: 1em; padding-right: 1em; text-align: center\">safe_loans</th>\n",
       "    </tr>\n",
       "    <tr>\n",
       "        <td style=\"padding-left: 1em; padding-right: 1em; text-align: center; vertical-align: top\">1</td>\n",
       "        <td style=\"padding-left: 1em; padding-right: 1em; text-align: center; vertical-align: top\">82.4</td>\n",
       "        <td style=\"padding-left: 1em; padding-right: 1em; text-align: center; vertical-align: top\">0.0</td>\n",
       "        <td style=\"padding-left: 1em; padding-right: 1em; text-align: center; vertical-align: top\">1</td>\n",
       "    </tr>\n",
       "    <tr>\n",
       "        <td style=\"padding-left: 1em; padding-right: 1em; text-align: center; vertical-align: top\">1</td>\n",
       "        <td style=\"padding-left: 1em; padding-right: 1em; text-align: center; vertical-align: top\">96.4</td>\n",
       "        <td style=\"padding-left: 1em; padding-right: 1em; text-align: center; vertical-align: top\">0.0</td>\n",
       "        <td style=\"padding-left: 1em; padding-right: 1em; text-align: center; vertical-align: top\">1</td>\n",
       "    </tr>\n",
       "    <tr>\n",
       "        <td style=\"padding-left: 1em; padding-right: 1em; text-align: center; vertical-align: top\">1</td>\n",
       "        <td style=\"padding-left: 1em; padding-right: 1em; text-align: center; vertical-align: top\">59.5</td>\n",
       "        <td style=\"padding-left: 1em; padding-right: 1em; text-align: center; vertical-align: top\">0.0</td>\n",
       "        <td style=\"padding-left: 1em; padding-right: 1em; text-align: center; vertical-align: top\">-1</td>\n",
       "    </tr>\n",
       "    <tr>\n",
       "        <td style=\"padding-left: 1em; padding-right: 1em; text-align: center; vertical-align: top\">1</td>\n",
       "        <td style=\"padding-left: 1em; padding-right: 1em; text-align: center; vertical-align: top\">62.1</td>\n",
       "        <td style=\"padding-left: 1em; padding-right: 1em; text-align: center; vertical-align: top\">0.0</td>\n",
       "        <td style=\"padding-left: 1em; padding-right: 1em; text-align: center; vertical-align: top\">-1</td>\n",
       "    </tr>\n",
       "</table>\n",
       "[4 rows x 13 columns]<br/>\n",
       "</div>"
      ],
      "text/plain": [
       "Columns:\n",
       "\tgrade\tstr\n",
       "\tsub_grade\tstr\n",
       "\tshort_emp\tint\n",
       "\temp_length_num\tint\n",
       "\thome_ownership\tstr\n",
       "\tdti\tfloat\n",
       "\tpurpose\tstr\n",
       "\tterm\tstr\n",
       "\tlast_delinq_none\tint\n",
       "\tlast_major_derog_none\tint\n",
       "\trevol_util\tfloat\n",
       "\ttotal_rec_late_fee\tfloat\n",
       "\tsafe_loans\tint\n",
       "\n",
       "Rows: 4\n",
       "\n",
       "Data:\n",
       "+-------+-----------+-----------+----------------+----------------+-------+\n",
       "| grade | sub_grade | short_emp | emp_length_num | home_ownership |  dti  |\n",
       "+-------+-----------+-----------+----------------+----------------+-------+\n",
       "|   B   |     B3    |     0     |       11       |      OWN       | 11.18 |\n",
       "|   D   |     D1    |     0     |       10       |      RENT      | 16.85 |\n",
       "|   D   |     D2    |     0     |       3        |      RENT      | 13.97 |\n",
       "|   A   |     A5    |     0     |       11       |    MORTGAGE    | 16.33 |\n",
       "+-------+-----------+-----------+----------------+----------------+-------+\n",
       "+--------------------+------------+------------------+-----------------------+\n",
       "|      purpose       |    term    | last_delinq_none | last_major_derog_none |\n",
       "+--------------------+------------+------------------+-----------------------+\n",
       "|    credit_card     |  36 months |        1         |           1           |\n",
       "| debt_consolidation |  36 months |        1         |           1           |\n",
       "|       other        |  60 months |        0         |           1           |\n",
       "| debt_consolidation |  36 months |        1         |           1           |\n",
       "+--------------------+------------+------------------+-----------------------+\n",
       "+------------+--------------------+------------+\n",
       "| revol_util | total_rec_late_fee | safe_loans |\n",
       "+------------+--------------------+------------+\n",
       "|    82.4    |        0.0         |     1      |\n",
       "|    96.4    |        0.0         |     1      |\n",
       "|    59.5    |        0.0         |     -1     |\n",
       "|    62.1    |        0.0         |     -1     |\n",
       "+------------+--------------------+------------+\n",
       "[4 rows x 13 columns]"
      ]
     },
     "execution_count": 31,
     "metadata": {},
     "output_type": "execute_result"
    }
   ],
   "source": [
    "validation_safe_loans = validation_data[validation_data[target] == 1]\n",
    "validation_risky_loans = validation_data[validation_data[target] == -1]\n",
    "\n",
    "sample_validation_data_risky = validation_risky_loans[0:2]\n",
    "sample_validation_data_safe = validation_safe_loans[0:2]\n",
    "\n",
    "sample_validation_data = sample_validation_data_safe.append(sample_validation_data_risky)\n",
    "sample_validation_data"
   ]
  },
  {
   "cell_type": "markdown",
   "metadata": {},
   "source": [
    "## Explore label predictions"
   ]
  },
  {
   "cell_type": "markdown",
   "metadata": {},
   "source": [
    "Now, we will use our model  to predict whether or not a loan is likely to default. For each row in the **sample_validation_data**, use the **decision_tree_model** to predict whether or not the loan is classified as a **safe loan**. \n",
    "\n",
    "**Hint:** Be sure to use the `.predict()` method."
   ]
  },
  {
   "cell_type": "code",
   "execution_count": 53,
   "metadata": {},
   "outputs": [
    {
     "data": {
      "text/plain": [
       "dtype: int\n",
       "Rows: 4\n",
       "[1, -1, -1, 1]"
      ]
     },
     "execution_count": 53,
     "metadata": {},
     "output_type": "execute_result"
    }
   ],
   "source": [
    "preds = decision_tree_model.predict(sample_validation_data)\n",
    "preds"
   ]
  },
  {
   "cell_type": "markdown",
   "metadata": {},
   "source": [
    "**Quiz Question:** What percentage of the predictions on `sample_validation_data` did `decision_tree_model` get correct?"
   ]
  },
  {
   "cell_type": "code",
   "execution_count": 54,
   "metadata": {},
   "outputs": [
    {
     "data": {
      "text/plain": [
       "0.5"
      ]
     },
     "execution_count": 54,
     "metadata": {},
     "output_type": "execute_result"
    }
   ],
   "source": [
    "right = 0\n",
    "sucesses = (sample_validation_data['safe_loans'] == preds)\n",
    "sucesses.where(sucesses == 1, 1, 0).sum() / len(sucesses)"
   ]
  },
  {
   "cell_type": "markdown",
   "metadata": {},
   "source": [
    "## Explore probability predictions\n",
    "\n",
    "For each row in the **sample_validation_data**, what is the probability (according **decision_tree_model**) of a loan being classified as **safe**? \n",
    "\n",
    "\n",
    "**Hint:** Set `output_type='probability'` to make **probability** predictions using **decision_tree_model** on `sample_validation_data`:"
   ]
  },
  {
   "cell_type": "code",
   "execution_count": 56,
   "metadata": {},
   "outputs": [
    {
     "data": {
      "text/plain": [
       "dtype: float\n",
       "Rows: 4\n",
       "[0.6532223224639893, 0.463798463344574, 0.356814444065094, 0.7621196508407593]"
      ]
     },
     "execution_count": 56,
     "metadata": {},
     "output_type": "execute_result"
    }
   ],
   "source": [
    "probas = decision_tree_model.predict(sample_validation_data, output_type='probability')\n",
    "probas"
   ]
  },
  {
   "cell_type": "markdown",
   "metadata": {},
   "source": [
    "**Quiz Question:** Which loan has the highest probability of being classified as a **safe loan**?\n",
    "\n",
    "Fourth\n",
    "\n",
    "**Checkpoint:** Can you verify that for all the predictions with `probability >= 0.5`, the model predicted the label **+1**?\n",
    "\n",
    "Yes"
   ]
  },
  {
   "cell_type": "markdown",
   "metadata": {},
   "source": [
    "### Tricky predictions!\n",
    "\n",
    "Now, we will explore something pretty interesting. For each row in the **sample_validation_data**, what is the probability (according to **small_model**) of a loan being classified as **safe**?\n",
    "\n",
    "**Hint:** Set `output_type='probability'` to make **probability** predictions using **small_model** on `sample_validation_data`:"
   ]
  },
  {
   "cell_type": "code",
   "execution_count": 57,
   "metadata": {},
   "outputs": [
    {
     "data": {
      "text/plain": [
       "dtype: float\n",
       "Rows: 4\n",
       "[0.5803016424179077, 0.4085058867931366, 0.4085058867931366, 0.7454202175140381]"
      ]
     },
     "execution_count": 57,
     "metadata": {},
     "output_type": "execute_result"
    }
   ],
   "source": [
    "small_model.predict(sample_validation_data, output_type='probability')"
   ]
  },
  {
   "cell_type": "markdown",
   "metadata": {},
   "source": [
    "**Quiz Question:** Notice that the probability preditions are the **exact same** for the 2nd and 3rd loans. Why would this happen?"
   ]
  },
  {
   "cell_type": "markdown",
   "metadata": {},
   "source": [
    "## Visualize the prediction on a tree\n",
    "\n",
    "\n",
    "Note that you should be able to look at the small tree, traverse it yourself, and visualize the prediction being made. Consider the following point in the **sample_validation_data**"
   ]
  },
  {
   "cell_type": "code",
   "execution_count": 58,
   "metadata": {},
   "outputs": [
    {
     "data": {
      "text/plain": [
       "{'grade': 'D',\n",
       " 'sub_grade': 'D1',\n",
       " 'short_emp': 0,\n",
       " 'emp_length_num': 10,\n",
       " 'home_ownership': 'RENT',\n",
       " 'dti': 16.85,\n",
       " 'purpose': 'debt_consolidation',\n",
       " 'term': ' 36 months',\n",
       " 'last_delinq_none': 1,\n",
       " 'last_major_derog_none': 1,\n",
       " 'revol_util': 96.4,\n",
       " 'total_rec_late_fee': 0.0,\n",
       " 'safe_loans': 1}"
      ]
     },
     "execution_count": 58,
     "metadata": {},
     "output_type": "execute_result"
    }
   ],
   "source": [
    "sample_validation_data[1]"
   ]
  },
  {
   "cell_type": "markdown",
   "metadata": {},
   "source": [
    "Let's visualize the small tree here to do the traversing for this data point."
   ]
  },
  {
   "cell_type": "code",
   "execution_count": null,
   "metadata": {},
   "outputs": [],
   "source": [
    "small_model.show(view=\"Tree\")"
   ]
  },
  {
   "cell_type": "markdown",
   "metadata": {},
   "source": [
    "**Note:** In the tree visualization above, the values at the leaf nodes are not class predictions but scores (a slightly advanced concept that is out of the scope of this course). You can read more about this [here](https://homes.cs.washington.edu/~tqchen/pdf/BoostedTree.pdf).  If the score is $\\geq$ 0, the class +1 is predicted.  Otherwise, if the score < 0, we predict class -1.\n",
    "\n",
    "\n",
    "**Quiz Question:** Based on the visualized tree, what prediction would you make for this data point?\n",
    "\n",
    "Now, let's verify your prediction by examining the prediction made using GraphLab Create.  Use the `.predict` function on `small_model`."
   ]
  },
  {
   "cell_type": "code",
   "execution_count": 59,
   "metadata": {},
   "outputs": [
    {
     "data": {
      "text/plain": [
       "dtype: int\n",
       "Rows: 1\n",
       "[-1]"
      ]
     },
     "execution_count": 59,
     "metadata": {},
     "output_type": "execute_result"
    }
   ],
   "source": [
    "small_model.predict(sample_validation_data[1])"
   ]
  },
  {
   "cell_type": "markdown",
   "metadata": {},
   "source": [
    "# Evaluating accuracy of the decision tree model"
   ]
  },
  {
   "cell_type": "markdown",
   "metadata": {},
   "source": [
    "Recall that the accuracy is defined as follows:\n",
    "$$\n",
    "\\mbox{accuracy} = \\frac{\\mbox{# correctly classified examples}}{\\mbox{# total examples}}\n",
    "$$\n",
    "\n",
    "Let us start by evaluating the accuracy of the `small_model` and `decision_tree_model` on the training data"
   ]
  },
  {
   "cell_type": "code",
   "execution_count": 60,
   "metadata": {},
   "outputs": [
    {
     "name": "stdout",
     "output_type": "stream",
     "text": [
      "0.6135020416935311\n",
      "0.6405813453685794\n"
     ]
    }
   ],
   "source": [
    "print(small_model.evaluate(train_data)['accuracy'])\n",
    "print(decision_tree_model.evaluate(train_data)['accuracy'])"
   ]
  },
  {
   "cell_type": "markdown",
   "metadata": {},
   "source": [
    "**Checkpoint:** You should see that the **small_model** performs worse than the **decision_tree_model** on the training data.\n",
    "\n",
    "\n",
    "Now, let us evaluate the accuracy of the **small_model** and **decision_tree_model** on the entire **validation_data**, not just the subsample considered above."
   ]
  },
  {
   "cell_type": "code",
   "execution_count": 62,
   "metadata": {},
   "outputs": [
    {
     "data": {
      "text/plain": [
       "{'accuracy': 0.6367944851357173,\n",
       " 'auc': 0.684473995156666,\n",
       " 'confusion_matrix': Columns:\n",
       " \ttarget_label\tint\n",
       " \tpredicted_label\tint\n",
       " \tcount\tint\n",
       " \n",
       " Rows: 4\n",
       " \n",
       " Data:\n",
       " +--------------+-----------------+-------+\n",
       " | target_label | predicted_label | count |\n",
       " +--------------+-----------------+-------+\n",
       " |      -1      |        1        |  1656 |\n",
       " |      1       |        -1       |  1716 |\n",
       " |      -1      |        -1       |  3018 |\n",
       " |      1       |        1        |  2894 |\n",
       " +--------------+-----------------+-------+\n",
       " [4 rows x 3 columns],\n",
       " 'f1_score': 0.631877729257642,\n",
       " 'log_loss': 0.6361775883080373,\n",
       " 'precision': 0.636043956043956,\n",
       " 'recall': 0.627765726681128,\n",
       " 'roc_curve': Columns:\n",
       " \tthreshold\tfloat\n",
       " \tfpr\tfloat\n",
       " \ttpr\tfloat\n",
       " \tp\tint\n",
       " \tn\tint\n",
       " \n",
       " Rows: 100001\n",
       " \n",
       " Data:\n",
       " +-----------+-----+-----+------+------+\n",
       " | threshold | fpr | tpr |  p   |  n   |\n",
       " +-----------+-----+-----+------+------+\n",
       " |    0.0    | 1.0 | 1.0 | 4610 | 4674 |\n",
       " |   1e-05   | 1.0 | 1.0 | 4610 | 4674 |\n",
       " |   2e-05   | 1.0 | 1.0 | 4610 | 4674 |\n",
       " |   3e-05   | 1.0 | 1.0 | 4610 | 4674 |\n",
       " |   4e-05   | 1.0 | 1.0 | 4610 | 4674 |\n",
       " |   5e-05   | 1.0 | 1.0 | 4610 | 4674 |\n",
       " |   6e-05   | 1.0 | 1.0 | 4610 | 4674 |\n",
       " |   7e-05   | 1.0 | 1.0 | 4610 | 4674 |\n",
       " |   8e-05   | 1.0 | 1.0 | 4610 | 4674 |\n",
       " |   9e-05   | 1.0 | 1.0 | 4610 | 4674 |\n",
       " +-----------+-----+-----+------+------+\n",
       " [100001 rows x 5 columns]\n",
       " Note: Only the head of the SFrame is printed.\n",
       " You can use print_rows(num_rows=m, num_columns=n) to print more rows and columns.}"
      ]
     },
     "execution_count": 62,
     "metadata": {},
     "output_type": "execute_result"
    }
   ],
   "source": [
    "decision_tree_model.evaluate(validation_data)"
   ]
  },
  {
   "cell_type": "code",
   "execution_count": 61,
   "metadata": {},
   "outputs": [
    {
     "name": "stdout",
     "output_type": "stream",
     "text": [
      "0.6193451098664369\n",
      "0.6367944851357173\n"
     ]
    }
   ],
   "source": [
    "print(small_model.evaluate(validation_data)['accuracy'])\n",
    "print(decision_tree_model.evaluate(validation_data)['accuracy'])"
   ]
  },
  {
   "cell_type": "markdown",
   "metadata": {},
   "source": [
    "**Quiz Question:** What is the accuracy of `decision_tree_model` on the validation set, rounded to the nearest .01?"
   ]
  },
  {
   "cell_type": "markdown",
   "metadata": {},
   "source": [
    "## Evaluating accuracy of a complex decision tree model\n",
    "\n",
    "Here, we will train a large decision tree with `max_depth=10`. This will allow the learned tree to become very deep, and result in a very complex model. Recall that in lecture, we prefer simpler models with similar predictive power. This will be an example of a more complicated model which has similar predictive power, i.e. something we don't want."
   ]
  },
  {
   "cell_type": "code",
   "execution_count": 63,
   "metadata": {},
   "outputs": [
    {
     "data": {
      "text/html": [
       "<pre>Decision tree classifier:</pre>"
      ],
      "text/plain": [
       "Decision tree classifier:"
      ]
     },
     "metadata": {},
     "output_type": "display_data"
    },
    {
     "data": {
      "text/html": [
       "<pre>--------------------------------------------------------</pre>"
      ],
      "text/plain": [
       "--------------------------------------------------------"
      ]
     },
     "metadata": {},
     "output_type": "display_data"
    },
    {
     "data": {
      "text/html": [
       "<pre>Number of examples          : 37224</pre>"
      ],
      "text/plain": [
       "Number of examples          : 37224"
      ]
     },
     "metadata": {},
     "output_type": "display_data"
    },
    {
     "data": {
      "text/html": [
       "<pre>Number of classes           : 2</pre>"
      ],
      "text/plain": [
       "Number of classes           : 2"
      ]
     },
     "metadata": {},
     "output_type": "display_data"
    },
    {
     "data": {
      "text/html": [
       "<pre>Number of feature columns   : 12</pre>"
      ],
      "text/plain": [
       "Number of feature columns   : 12"
      ]
     },
     "metadata": {},
     "output_type": "display_data"
    },
    {
     "data": {
      "text/html": [
       "<pre>Number of unpacked features : 12</pre>"
      ],
      "text/plain": [
       "Number of unpacked features : 12"
      ]
     },
     "metadata": {},
     "output_type": "display_data"
    },
    {
     "data": {
      "text/html": [
       "<pre>+-----------+--------------+-------------------+-------------------+</pre>"
      ],
      "text/plain": [
       "+-----------+--------------+-------------------+-------------------+"
      ]
     },
     "metadata": {},
     "output_type": "display_data"
    },
    {
     "data": {
      "text/html": [
       "<pre>| Iteration | Elapsed Time | Training Accuracy | Training Log Loss |</pre>"
      ],
      "text/plain": [
       "| Iteration | Elapsed Time | Training Accuracy | Training Log Loss |"
      ]
     },
     "metadata": {},
     "output_type": "display_data"
    },
    {
     "data": {
      "text/html": [
       "<pre>+-----------+--------------+-------------------+-------------------+</pre>"
      ],
      "text/plain": [
       "+-----------+--------------+-------------------+-------------------+"
      ]
     },
     "metadata": {},
     "output_type": "display_data"
    },
    {
     "data": {
      "text/html": [
       "<pre>| 1         | 0.054238     | 0.665538          | 0.606828          |</pre>"
      ],
      "text/plain": [
       "| 1         | 0.054238     | 0.665538          | 0.606828          |"
      ]
     },
     "metadata": {},
     "output_type": "display_data"
    },
    {
     "data": {
      "text/html": [
       "<pre>+-----------+--------------+-------------------+-------------------+</pre>"
      ],
      "text/plain": [
       "+-----------+--------------+-------------------+-------------------+"
      ]
     },
     "metadata": {},
     "output_type": "display_data"
    }
   ],
   "source": [
    "big_model = graphlab.decision_tree_classifier.create(train_data, validation_set=None,\n",
    "                   target = target, features = features, max_depth = 10)"
   ]
  },
  {
   "cell_type": "markdown",
   "metadata": {},
   "source": [
    "Now, let us evaluate **big_model** on the training set and validation set."
   ]
  },
  {
   "cell_type": "code",
   "execution_count": 64,
   "metadata": {},
   "outputs": [
    {
     "name": "stdout",
     "output_type": "stream",
     "text": [
      "0.665538362346873\n",
      "0.6274235243429557\n"
     ]
    }
   ],
   "source": [
    "print(big_model.evaluate(train_data)['accuracy'])\n",
    "print(big_model.evaluate(validation_data)['accuracy'])"
   ]
  },
  {
   "cell_type": "markdown",
   "metadata": {},
   "source": [
    "**Checkpoint:** We should see that **big_model** has even better performance on the training set than **decision_tree_model** did on the training set."
   ]
  },
  {
   "cell_type": "markdown",
   "metadata": {},
   "source": [
    "**Quiz Question:** How does the performance of **big_model** on the validation set compare to **decision_tree_model** on the validation set? Is this a sign of overfitting?"
   ]
  },
  {
   "cell_type": "markdown",
   "metadata": {},
   "source": [
    "### Quantifying the cost of mistakes\n",
    "\n",
    "Every mistake the model makes costs money. In this section, we will try and quantify the cost of each mistake made by the model.\n",
    "\n",
    "Assume the following:\n",
    "\n",
    "* **False negatives**: Loans that were actually safe but were predicted to be risky. This results in an oppurtunity cost of losing a loan that would have otherwise been accepted. \n",
    "* **False positives**: Loans that were actually risky but were predicted to be safe. These are much more expensive because it results in a risky loan being given. \n",
    "* **Correct predictions**: All correct predictions don't typically incur any cost.\n",
    "\n",
    "\n",
    "Let's write code that can compute the cost of mistakes made by the model. Complete the following 4 steps:\n",
    "1. First, let us compute the predictions made by the model.\n",
    "1. Second, compute the number of false positives.\n",
    "2. Third, compute the number of false negatives.\n",
    "3. Finally, compute the cost of mistakes made by the model by adding up the costs of true positives and false positives.\n",
    "\n",
    "First, let us make predictions on `validation_data` using the `decision_tree_model`:"
   ]
  },
  {
   "cell_type": "code",
   "execution_count": 65,
   "metadata": {},
   "outputs": [],
   "source": [
    "predictions = decision_tree_model.predict(validation_data)"
   ]
  },
  {
   "cell_type": "code",
   "execution_count": 84,
   "metadata": {},
   "outputs": [
    {
     "data": {
      "text/plain": [
       "9284"
      ]
     },
     "execution_count": 84,
     "metadata": {},
     "output_type": "execute_result"
    }
   ],
   "source": [
    "len(predictions)"
   ]
  },
  {
   "cell_type": "markdown",
   "metadata": {},
   "source": [
    "**False positives** are predictions where the model predicts +1 but the true label is -1. Complete the following code block for the number of false positives:"
   ]
  },
  {
   "cell_type": "code",
   "execution_count": 70,
   "metadata": {},
   "outputs": [
    {
     "data": {
      "text/plain": [
       "dtype: int\n",
       "Rows: 9284\n",
       "[-1, -1, -1, -1, -1, -1, -1, -1, -1, -1, -1, -1, -1, -1, -1, -1, -1, -1, -1, -1, -1, -1, -1, -1, -1, -1, -1, -1, -1, -1, -1, -1, -1, -1, -1, -1, -1, -1, -1, -1, -1, -1, -1, -1, -1, -1, -1, -1, -1, -1, -1, -1, -1, -1, -1, -1, -1, -1, -1, -1, -1, -1, -1, -1, -1, -1, -1, -1, -1, -1, -1, -1, -1, -1, -1, -1, -1, -1, -1, -1, -1, -1, -1, -1, -1, -1, -1, -1, -1, -1, -1, -1, -1, -1, -1, -1, -1, -1, -1, -1, ... ]"
      ]
     },
     "execution_count": 70,
     "metadata": {},
     "output_type": "execute_result"
    }
   ],
   "source": [
    "validation_data['safe_loans']"
   ]
  },
  {
   "cell_type": "code",
   "execution_count": 88,
   "metadata": {},
   "outputs": [],
   "source": [
    "fp = (validation_data[validation_data['safe_loans'] != predictions]['safe_loans'] == -1).sum()"
   ]
  },
  {
   "cell_type": "code",
   "execution_count": 89,
   "metadata": {},
   "outputs": [
    {
     "data": {
      "text/plain": [
       "1656"
      ]
     },
     "execution_count": 89,
     "metadata": {},
     "output_type": "execute_result"
    }
   ],
   "source": [
    "fp"
   ]
  },
  {
   "cell_type": "markdown",
   "metadata": {},
   "source": [
    "**False negatives** are predictions where the model predicts -1 but the true label is +1. Complete the following code block for the number of false negatives:"
   ]
  },
  {
   "cell_type": "code",
   "execution_count": 90,
   "metadata": {},
   "outputs": [],
   "source": [
    "fn = (validation_data[validation_data['safe_loans'] != predictions]['safe_loans'] == 1).sum()"
   ]
  },
  {
   "cell_type": "code",
   "execution_count": 91,
   "metadata": {},
   "outputs": [
    {
     "data": {
      "text/plain": [
       "1716"
      ]
     },
     "execution_count": 91,
     "metadata": {},
     "output_type": "execute_result"
    }
   ],
   "source": [
    "fn"
   ]
  },
  {
   "cell_type": "markdown",
   "metadata": {},
   "source": [
    "**Quiz Question:** Let us assume that each mistake costs money:\n",
    "* Assume a cost of \\$10,000 per false negative.\n",
    "* Assume a cost of \\$20,000 per false positive.\n",
    "\n",
    "What is the total cost of mistakes made by `decision_tree_model` on `validation_data`?"
   ]
  },
  {
   "cell_type": "code",
   "execution_count": 92,
   "metadata": {},
   "outputs": [
    {
     "data": {
      "text/plain": [
       "50280000"
      ]
     },
     "execution_count": 92,
     "metadata": {},
     "output_type": "execute_result"
    }
   ],
   "source": [
    "fn * 10000 + fp * 20000"
   ]
  },
  {
   "cell_type": "code",
   "execution_count": null,
   "metadata": {},
   "outputs": [],
   "source": []
  }
 ],
 "metadata": {
  "kernelspec": {
   "display_name": "exp-python3",
   "language": "python",
   "name": "exp-python3"
  },
  "language_info": {
   "codemirror_mode": {
    "name": "ipython",
    "version": 3
   },
   "file_extension": ".py",
   "mimetype": "text/x-python",
   "name": "python",
   "nbconvert_exporter": "python",
   "pygments_lexer": "ipython3",
   "version": "3.6.0"
  }
 },
 "nbformat": 4,
 "nbformat_minor": 1
}
