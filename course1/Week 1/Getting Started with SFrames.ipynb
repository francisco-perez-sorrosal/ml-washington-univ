{
  "cells": [
    {
      "cell_type": "markdown",
      "source": [
        "# Fire up GraphLab Create\n",
        "\n",
        "We always start with this line before using any part of GraphLab Create. It can take up to 30 seconds to load the GraphLab library - be patient!\n",
        "\nThe first time you use GraphLab create, you must enter a product key to license the software for non-commerical academic use. To register for a free one-year academic license and obtain your key, go to [dato.com](https://dato.com/download/academic.html)."
      ],
      "metadata": {}
    },
    {
      "cell_type": "code",
      "source": [
        "import graphlab\n",
        "# Set product key on this computer. After running this cell, you will not need to re-enter your product key. \n",
        "# graphlab.product_key.set_product_key('your product key here')\n",
        "\n",
        "# Limit number of worker processes. This preserves system memory, which prevents hosted notebooks from crashing.\n",
        "graphlab.set_runtime_config('GRAPHLAB_DEFAULT_NUM_PYLAMBDA_WORKERS', 4)\n",
        "\n",
        "# Output active product key.\n",
        "# graphlab.product_key.get_product_key()"
      ],
      "outputs": [
        {
          "output_type": "error",
          "ename": "ImportError",
          "evalue": "No module named graphlab",
          "traceback": [
            "\u001b[0;31m\u001b[0m",
            "\u001b[0;31mImportError\u001b[0mTraceback (most recent call last)",
            "\u001b[0;32m<ipython-input-1-d3a9de3fd0d3>\u001b[0m in \u001b[0;36m<module>\u001b[0;34m()\u001b[0m\n\u001b[0;32m----> 1\u001b[0;31m \u001b[0;32mimport\u001b[0m \u001b[0mgraphlab\u001b[0m\u001b[0;34m\u001b[0m\u001b[0m\n\u001b[0m\u001b[1;32m      2\u001b[0m \u001b[0;31m# Set product key on this computer. After running this cell, you will not need to re-enter your product key.\u001b[0m\u001b[0;34m\u001b[0m\u001b[0;34m\u001b[0m\u001b[0m\n\u001b[1;32m      3\u001b[0m \u001b[0;31m# graphlab.product_key.set_product_key('your product key here')\u001b[0m\u001b[0;34m\u001b[0m\u001b[0;34m\u001b[0m\u001b[0m\n\u001b[1;32m      4\u001b[0m \u001b[0;34m\u001b[0m\u001b[0m\n\u001b[1;32m      5\u001b[0m \u001b[0;31m# Limit number of worker processes. This preserves system memory, which prevents hosted notebooks from crashing.\u001b[0m\u001b[0;34m\u001b[0m\u001b[0;34m\u001b[0m\u001b[0m\n",
            "\u001b[0;31mImportError\u001b[0m: No module named graphlab"
          ]
        }
      ],
      "execution_count": 1,
      "metadata": {
        "collapsed": false
      }
    },
    {
      "cell_type": "markdown",
      "source": [
        "# Load a tabular data set"
      ],
      "metadata": {}
    },
    {
      "cell_type": "code",
      "source": [
        "import turicreate as graphlab\n",
        "sf = graphlab.SFrame('people-example.csv')"
      ],
      "outputs": [
        {
          "output_type": "display_data",
          "data": {
            "text/html": [
              "<pre>Finished parsing file /Users/fperez/dev/ml-washington-univ/course1/Week 1/people-example.csv</pre>"
            ],
            "text/plain": [
              "Finished parsing file /Users/fperez/dev/ml-washington-univ/course1/Week 1/people-example.csv"
            ]
          },
          "metadata": {}
        },
        {
          "output_type": "display_data",
          "data": {
            "text/html": [
              "<pre>Parsing completed. Parsed 7 lines in 0.032264 secs.</pre>"
            ],
            "text/plain": [
              "Parsing completed. Parsed 7 lines in 0.032264 secs."
            ]
          },
          "metadata": {}
        },
        {
          "output_type": "stream",
          "name": "stdout",
          "text": [
            "------------------------------------------------------\n",
            "Inferred types from first 100 line(s) of file as \n",
            "column_type_hints=[str,str,str,int]\n",
            "If parsing fails due to incorrect types, you can correct\n",
            "the inferred type list above and pass it to read_csv in\n",
            "the column_type_hints argument\n",
            "------------------------------------------------------\n"
          ]
        },
        {
          "output_type": "display_data",
          "data": {
            "text/html": [
              "<pre>Finished parsing file /Users/fperez/dev/ml-washington-univ/course1/Week 1/people-example.csv</pre>"
            ],
            "text/plain": [
              "Finished parsing file /Users/fperez/dev/ml-washington-univ/course1/Week 1/people-example.csv"
            ]
          },
          "metadata": {}
        },
        {
          "output_type": "display_data",
          "data": {
            "text/html": [
              "<pre>Parsing completed. Parsed 7 lines in 0.00583 secs.</pre>"
            ],
            "text/plain": [
              "Parsing completed. Parsed 7 lines in 0.00583 secs."
            ]
          },
          "metadata": {}
        }
      ],
      "execution_count": 61,
      "metadata": {
        "collapsed": false
      }
    },
    {
      "cell_type": "markdown",
      "source": [
        "# SFrame basics"
      ],
      "metadata": {}
    },
    {
      "cell_type": "code",
      "source": [
        "sf # we can view first few lines of table"
      ],
      "outputs": [
        {
          "output_type": "execute_result",
          "execution_count": 62,
          "data": {
            "text/html": [
              "<div style=\"max-height:1000px;max-width:1500px;overflow:auto;\"><table frame=\"box\" rules=\"cols\">\n",
              "    <tr>\n",
              "        <th style=\"padding-left: 1em; padding-right: 1em; text-align: center\">First Name</th>\n",
              "        <th style=\"padding-left: 1em; padding-right: 1em; text-align: center\">Last Name</th>\n",
              "        <th style=\"padding-left: 1em; padding-right: 1em; text-align: center\">Country</th>\n",
              "        <th style=\"padding-left: 1em; padding-right: 1em; text-align: center\">age</th>\n",
              "    </tr>\n",
              "    <tr>\n",
              "        <td style=\"padding-left: 1em; padding-right: 1em; text-align: center; vertical-align: top\">Bob</td>\n",
              "        <td style=\"padding-left: 1em; padding-right: 1em; text-align: center; vertical-align: top\">Smith</td>\n",
              "        <td style=\"padding-left: 1em; padding-right: 1em; text-align: center; vertical-align: top\">United States</td>\n",
              "        <td style=\"padding-left: 1em; padding-right: 1em; text-align: center; vertical-align: top\">24</td>\n",
              "    </tr>\n",
              "    <tr>\n",
              "        <td style=\"padding-left: 1em; padding-right: 1em; text-align: center; vertical-align: top\">Alice</td>\n",
              "        <td style=\"padding-left: 1em; padding-right: 1em; text-align: center; vertical-align: top\">Williams</td>\n",
              "        <td style=\"padding-left: 1em; padding-right: 1em; text-align: center; vertical-align: top\">Canada</td>\n",
              "        <td style=\"padding-left: 1em; padding-right: 1em; text-align: center; vertical-align: top\">23</td>\n",
              "    </tr>\n",
              "    <tr>\n",
              "        <td style=\"padding-left: 1em; padding-right: 1em; text-align: center; vertical-align: top\">Malcolm</td>\n",
              "        <td style=\"padding-left: 1em; padding-right: 1em; text-align: center; vertical-align: top\">Jone</td>\n",
              "        <td style=\"padding-left: 1em; padding-right: 1em; text-align: center; vertical-align: top\">England</td>\n",
              "        <td style=\"padding-left: 1em; padding-right: 1em; text-align: center; vertical-align: top\">22</td>\n",
              "    </tr>\n",
              "    <tr>\n",
              "        <td style=\"padding-left: 1em; padding-right: 1em; text-align: center; vertical-align: top\">Felix</td>\n",
              "        <td style=\"padding-left: 1em; padding-right: 1em; text-align: center; vertical-align: top\">Brown</td>\n",
              "        <td style=\"padding-left: 1em; padding-right: 1em; text-align: center; vertical-align: top\">USA</td>\n",
              "        <td style=\"padding-left: 1em; padding-right: 1em; text-align: center; vertical-align: top\">23</td>\n",
              "    </tr>\n",
              "    <tr>\n",
              "        <td style=\"padding-left: 1em; padding-right: 1em; text-align: center; vertical-align: top\">Alex</td>\n",
              "        <td style=\"padding-left: 1em; padding-right: 1em; text-align: center; vertical-align: top\">Cooper</td>\n",
              "        <td style=\"padding-left: 1em; padding-right: 1em; text-align: center; vertical-align: top\">Poland</td>\n",
              "        <td style=\"padding-left: 1em; padding-right: 1em; text-align: center; vertical-align: top\">23</td>\n",
              "    </tr>\n",
              "    <tr>\n",
              "        <td style=\"padding-left: 1em; padding-right: 1em; text-align: center; vertical-align: top\">Tod</td>\n",
              "        <td style=\"padding-left: 1em; padding-right: 1em; text-align: center; vertical-align: top\">Campbell</td>\n",
              "        <td style=\"padding-left: 1em; padding-right: 1em; text-align: center; vertical-align: top\">United States</td>\n",
              "        <td style=\"padding-left: 1em; padding-right: 1em; text-align: center; vertical-align: top\">22</td>\n",
              "    </tr>\n",
              "    <tr>\n",
              "        <td style=\"padding-left: 1em; padding-right: 1em; text-align: center; vertical-align: top\">Derek</td>\n",
              "        <td style=\"padding-left: 1em; padding-right: 1em; text-align: center; vertical-align: top\">Ward</td>\n",
              "        <td style=\"padding-left: 1em; padding-right: 1em; text-align: center; vertical-align: top\">Switzerland</td>\n",
              "        <td style=\"padding-left: 1em; padding-right: 1em; text-align: center; vertical-align: top\">25</td>\n",
              "    </tr>\n",
              "</table>\n",
              "[7 rows x 4 columns]<br/>\n",
              "</div>"
            ],
            "text/plain": [
              "Columns:\n",
              "\tFirst Name\tstr\n",
              "\tLast Name\tstr\n",
              "\tCountry\tstr\n",
              "\tage\tint\n",
              "\n",
              "Rows: 7\n",
              "\n",
              "Data:\n",
              "+------------+-----------+---------------+-----+\n",
              "| First Name | Last Name |    Country    | age |\n",
              "+------------+-----------+---------------+-----+\n",
              "|    Bob     |   Smith   | United States |  24 |\n",
              "|   Alice    |  Williams |     Canada    |  23 |\n",
              "|  Malcolm   |    Jone   |    England    |  22 |\n",
              "|   Felix    |   Brown   |      USA      |  23 |\n",
              "|    Alex    |   Cooper  |     Poland    |  23 |\n",
              "|    Tod     |  Campbell | United States |  22 |\n",
              "|   Derek    |    Ward   |  Switzerland  |  25 |\n",
              "+------------+-----------+---------------+-----+\n",
              "[7 rows x 4 columns]"
            ]
          },
          "metadata": {}
        }
      ],
      "execution_count": 62,
      "metadata": {
        "collapsed": false
      }
    },
    {
      "cell_type": "code",
      "source": [
        "sf.tail()  # view end of the table"
      ],
      "outputs": [
        {
          "output_type": "execute_result",
          "execution_count": 63,
          "data": {
            "text/html": [
              "<div style=\"max-height:1000px;max-width:1500px;overflow:auto;\"><table frame=\"box\" rules=\"cols\">\n",
              "    <tr>\n",
              "        <th style=\"padding-left: 1em; padding-right: 1em; text-align: center\">First Name</th>\n",
              "        <th style=\"padding-left: 1em; padding-right: 1em; text-align: center\">Last Name</th>\n",
              "        <th style=\"padding-left: 1em; padding-right: 1em; text-align: center\">Country</th>\n",
              "        <th style=\"padding-left: 1em; padding-right: 1em; text-align: center\">age</th>\n",
              "    </tr>\n",
              "    <tr>\n",
              "        <td style=\"padding-left: 1em; padding-right: 1em; text-align: center; vertical-align: top\">Bob</td>\n",
              "        <td style=\"padding-left: 1em; padding-right: 1em; text-align: center; vertical-align: top\">Smith</td>\n",
              "        <td style=\"padding-left: 1em; padding-right: 1em; text-align: center; vertical-align: top\">United States</td>\n",
              "        <td style=\"padding-left: 1em; padding-right: 1em; text-align: center; vertical-align: top\">24</td>\n",
              "    </tr>\n",
              "    <tr>\n",
              "        <td style=\"padding-left: 1em; padding-right: 1em; text-align: center; vertical-align: top\">Alice</td>\n",
              "        <td style=\"padding-left: 1em; padding-right: 1em; text-align: center; vertical-align: top\">Williams</td>\n",
              "        <td style=\"padding-left: 1em; padding-right: 1em; text-align: center; vertical-align: top\">Canada</td>\n",
              "        <td style=\"padding-left: 1em; padding-right: 1em; text-align: center; vertical-align: top\">23</td>\n",
              "    </tr>\n",
              "    <tr>\n",
              "        <td style=\"padding-left: 1em; padding-right: 1em; text-align: center; vertical-align: top\">Malcolm</td>\n",
              "        <td style=\"padding-left: 1em; padding-right: 1em; text-align: center; vertical-align: top\">Jone</td>\n",
              "        <td style=\"padding-left: 1em; padding-right: 1em; text-align: center; vertical-align: top\">England</td>\n",
              "        <td style=\"padding-left: 1em; padding-right: 1em; text-align: center; vertical-align: top\">22</td>\n",
              "    </tr>\n",
              "    <tr>\n",
              "        <td style=\"padding-left: 1em; padding-right: 1em; text-align: center; vertical-align: top\">Felix</td>\n",
              "        <td style=\"padding-left: 1em; padding-right: 1em; text-align: center; vertical-align: top\">Brown</td>\n",
              "        <td style=\"padding-left: 1em; padding-right: 1em; text-align: center; vertical-align: top\">USA</td>\n",
              "        <td style=\"padding-left: 1em; padding-right: 1em; text-align: center; vertical-align: top\">23</td>\n",
              "    </tr>\n",
              "    <tr>\n",
              "        <td style=\"padding-left: 1em; padding-right: 1em; text-align: center; vertical-align: top\">Alex</td>\n",
              "        <td style=\"padding-left: 1em; padding-right: 1em; text-align: center; vertical-align: top\">Cooper</td>\n",
              "        <td style=\"padding-left: 1em; padding-right: 1em; text-align: center; vertical-align: top\">Poland</td>\n",
              "        <td style=\"padding-left: 1em; padding-right: 1em; text-align: center; vertical-align: top\">23</td>\n",
              "    </tr>\n",
              "    <tr>\n",
              "        <td style=\"padding-left: 1em; padding-right: 1em; text-align: center; vertical-align: top\">Tod</td>\n",
              "        <td style=\"padding-left: 1em; padding-right: 1em; text-align: center; vertical-align: top\">Campbell</td>\n",
              "        <td style=\"padding-left: 1em; padding-right: 1em; text-align: center; vertical-align: top\">United States</td>\n",
              "        <td style=\"padding-left: 1em; padding-right: 1em; text-align: center; vertical-align: top\">22</td>\n",
              "    </tr>\n",
              "    <tr>\n",
              "        <td style=\"padding-left: 1em; padding-right: 1em; text-align: center; vertical-align: top\">Derek</td>\n",
              "        <td style=\"padding-left: 1em; padding-right: 1em; text-align: center; vertical-align: top\">Ward</td>\n",
              "        <td style=\"padding-left: 1em; padding-right: 1em; text-align: center; vertical-align: top\">Switzerland</td>\n",
              "        <td style=\"padding-left: 1em; padding-right: 1em; text-align: center; vertical-align: top\">25</td>\n",
              "    </tr>\n",
              "</table>\n",
              "[7 rows x 4 columns]<br/>\n",
              "</div>"
            ],
            "text/plain": [
              "Columns:\n",
              "\tFirst Name\tstr\n",
              "\tLast Name\tstr\n",
              "\tCountry\tstr\n",
              "\tage\tint\n",
              "\n",
              "Rows: 7\n",
              "\n",
              "Data:\n",
              "+------------+-----------+---------------+-----+\n",
              "| First Name | Last Name |    Country    | age |\n",
              "+------------+-----------+---------------+-----+\n",
              "|    Bob     |   Smith   | United States |  24 |\n",
              "|   Alice    |  Williams |     Canada    |  23 |\n",
              "|  Malcolm   |    Jone   |    England    |  22 |\n",
              "|   Felix    |   Brown   |      USA      |  23 |\n",
              "|    Alex    |   Cooper  |     Poland    |  23 |\n",
              "|    Tod     |  Campbell | United States |  22 |\n",
              "|   Derek    |    Ward   |  Switzerland  |  25 |\n",
              "+------------+-----------+---------------+-----+\n",
              "[7 rows x 4 columns]"
            ]
          },
          "metadata": {}
        }
      ],
      "execution_count": 63,
      "metadata": {
        "collapsed": false
      }
    },
    {
      "cell_type": "markdown",
      "source": [
        "# GraphLab Canvas"
      ],
      "metadata": {}
    },
    {
      "cell_type": "code",
      "source": [
        "# .show() visualizes any data structure in GraphLab Create\n",
        "# If you want Canvas visualization to show up on this notebook, \n",
        "# add this line:\n",
        "graphlab.visualization.set_target('auto')"
      ],
      "outputs": [],
      "execution_count": 64,
      "metadata": {
        "collapsed": true
      }
    },
    {
      "cell_type": "code",
      "source": [
        "sf['age'].show('Categorical')"
      ],
      "outputs": [
        {
          "output_type": "display_data",
          "data": {
            "text/html": [
              "<pre>Materializing SArray</pre>"
            ],
            "text/plain": [
              "Materializing SArray"
            ]
          },
          "metadata": {}
        },
        {
          "output_type": "display_data",
          "data": {
            "text/html": [
              "<html>                 <body>                     <iframe style=\"border:0;margin:0\" width=\"920\" height=\"770\" srcdoc='<html lang=\"en\">                         <head>                             <script src=\"https://cdnjs.cloudflare.com/ajax/libs/vega/3.0.8/vega.js\"></script>                             <script src=\"https://cdnjs.cloudflare.com/ajax/libs/vega-embed/3.0.0-rc7/vega-embed.js\"></script>                             <script src=\"https://cdnjs.cloudflare.com/ajax/libs/vega-tooltip/0.5.1/vega-tooltip.min.js\"></script>                             <link rel=\"stylesheet\" type=\"text/css\" href=\"https://cdnjs.cloudflare.com/ajax/libs/vega-tooltip/0.5.1/vega-tooltip.min.css\">                             <style>                             .vega-actions > a{                                 color:white;                                 text-decoration: none;                                 font-family: \"Arial\";                                 cursor:pointer;                                 padding:5px;                                 background:#AAAAAA;                                 border-radius:4px;                                 padding-left:10px;                                 padding-right:10px;                                 margin-right:5px;                             }                             .vega-actions{                                 margin-top:20px;                                 text-align:center                             }                            .vega-actions > a{                                 background:#999999;                            }                             </style>                         </head>                         <body>                             <div id=\"vis\">                             </div>                             <script>                                 var vega_json = \"{\\\"signals\\\": [{\\\"name\\\": \\\"nullGap\\\", \\\"update\\\": \\\"data(&apos;nulls&apos;).length > 0 ? 10 : 0\\\"}, {\\\"name\\\": \\\"barStep\\\", \\\"update\\\": \\\"nullGap == 0 ? 0 : (width/40)\\\"}], \\\"autosize\\\": {\\\"contains\\\": \\\"padding\\\", \\\"type\\\": \\\"fit\\\", \\\"resize\\\": false}, \\\"axes\\\": [{\\\"scale\\\": \\\"x\\\", \\\"title\\\": \\\"Count\\\", \\\"tickCount\\\": {\\\"signal\\\": \\\"ceil(width/40)\\\"}, \\\"zindex\\\": 1, \\\"labelOverlap\\\": true, \\\"orient\\\": \\\"bottom\\\"}, {\\\"domain\\\": false, \\\"scale\\\": \\\"x\\\", \\\"ticks\\\": false, \\\"labels\\\": false, \\\"tickCount\\\": {\\\"signal\\\": \\\"ceil(width/40)\\\"}, \\\"zindex\\\": 0, \\\"grid\\\": true, \\\"minExtent\\\": 0, \\\"gridScale\\\": \\\"y\\\", \\\"orient\\\": \\\"bottom\\\", \\\"maxExtent\\\": 0}, {\\\"scale\\\": \\\"y\\\", \\\"title\\\": \\\"Values\\\", \\\"tickCount\\\": {\\\"signal\\\": \\\"ceil(height/40)\\\"}, \\\"zindex\\\": 1, \\\"labelOverlap\\\": true, \\\"orient\\\": \\\"left\\\"}, {\\\"domain\\\": false, \\\"scale\\\": \\\"y\\\", \\\"ticks\\\": false, \\\"labels\\\": false, \\\"tickCount\\\": {\\\"signal\\\": \\\"ceil(height/40)\\\"}, \\\"zindex\\\": 0, \\\"grid\\\": true, \\\"minExtent\\\": 0, \\\"gridScale\\\": \\\"x\\\", \\\"orient\\\": \\\"left\\\", \\\"maxExtent\\\": 0}, {\\\"encode\\\": {\\\"labels\\\": {\\\"update\\\": {\\\"text\\\": {\\\"signal\\\": \\\"nullGap > 0 ? &apos;null&apos; : &apos;&apos;\\\"}}}, \\\"ticks\\\": {\\\"update\\\": {\\\"opacity\\\": {\\\"signal\\\": \\\"nullGap > 0 ? 1.0 : 0.0\\\"}}}}, \\\"scale\\\": \\\"xscale-null\\\", \\\"orient\\\": \\\"bottom\\\"}], \\\"description\\\": \\\"A simple bar chart with embedded data.\\\", \\\"title\\\": \\\"Categorical\\\", \\\"config\\\": {\\\"style\\\": {\\\"cell\\\": {\\\"stroke\\\": \\\"transparent\\\"}, \\\"rect\\\": {\\\"stroke\\\": \\\"rgba(200, 200, 200, 0.5)\\\"}, \\\"group-title\\\": {\\\"fontWeight\\\": \\\"normal\\\", \\\"font\\\": \\\"HelveticaNeue, Arial\\\", \\\"fontSize\\\": 29, \\\"fill\\\": \\\"rgba(0,0,0,0.65)\\\"}}, \\\"title\\\": {\\\"color\\\": \\\"rgba(0,0,0,0.847)\\\", \\\"fontWeight\\\": \\\"normal\\\", \\\"font\\\": \\\"\\\\\\\"San Francisco\\\\\\\", HelveticaNeue, Arial\\\", \\\"fontSize\\\": 18, \\\"offset\\\": 30}, \\\"axisY\\\": {\\\"minExtent\\\": 30}, \\\"range\\\": {\\\"heatmap\\\": {\\\"scheme\\\": \\\"greenblue\\\"}}, \\\"legend\\\": {\\\"labelFont\\\": \\\"\\\\\\\"San Francisco\\\\\\\", HelveticaNeue, Arial\\\", \\\"labelColor\\\": \\\"rgba(0,0,0,0.847)\\\", \\\"titleFont\\\": \\\"\\\\\\\"San Francisco\\\\\\\", HelveticaNeue, Arial\\\", \\\"cornerRadius\\\": 30, \\\"titleColor\\\": \\\"rgba(0,0,0,0.847)\\\", \\\"gradientLength\\\": 608}, \\\"axis\\\": {\\\"titlePadding\\\": 20, \\\"titleColor\\\": \\\"rgba(0,0,0,0.847)\\\", \\\"titleFont\\\": \\\"\\\\\\\"San Francisco\\\\\\\", HelveticaNeue, Arial\\\", \\\"labelPadding\\\": 10, \\\"labelFont\\\": \\\"\\\\\\\"San Francisco\\\\\\\", HelveticaNeue, Arial\\\", \\\"labelFontSize\\\": 12, \\\"labelColor\\\": \\\"rgba(0,0,0,0.847)\\\", \\\"gridColor\\\": \\\"rgba(204,204,204,1.0)\\\", \\\"titleFontSize\\\": 14, \\\"tickColor\\\": \\\"rgb(136,136,136)\\\", \\\"titleFontWeight\\\": \\\"normal\\\"}}, \\\"scales\\\": [{\\\"domain\\\": [null], \\\"type\\\": \\\"band\\\", \\\"range\\\": [0, {\\\"signal\\\": \\\"barStep\\\"}], \\\"name\\\": \\\"xscale-null\\\"}, {\\\"domain\\\": {\\\"sort\\\": true, \\\"fields\\\": [\\\"left\\\", \\\"right\\\"], \\\"data\\\": \\\"data_0\\\"}, \\\"name\\\": \\\"x\\\", \\\"zero\\\": false, \\\"range\\\": [{\\\"signal\\\": \\\"barStep + nullGap\\\"}, {\\\"signal\\\": \\\"width\\\"}], \\\"type\\\": \\\"linear\\\", \\\"nice\\\": true}, {\\\"domain\\\": {\\\"fields\\\": [{\\\"field\\\": \\\"count\\\", \\\"data\\\": \\\"data_0\\\"}, {\\\"field\\\": \\\"count\\\", \\\"data\\\": \\\"nulls\\\"}]}, \\\"name\\\": \\\"y\\\", \\\"zero\\\": true, \\\"range\\\": [{\\\"signal\\\": \\\"height\\\"}, 0], \\\"type\\\": \\\"linear\\\", \\\"nice\\\": true}], \\\"style\\\": \\\"cell\\\", \\\"height\\\": 550, \\\"padding\\\": 8, \\\"width\\\": 720, \\\"marks\\\": [{\\\"encode\\\": {\\\"hover\\\": {\\\"fill\\\": {\\\"value\\\": \\\"#7EC2F3\\\"}}, \\\"update\\\": {\\\"x2\\\": {\\\"field\\\": \\\"right\\\", \\\"scale\\\": \\\"x\\\"}, \\\"x\\\": {\\\"field\\\": \\\"left\\\", \\\"scale\\\": \\\"x\\\"}, \\\"y2\\\": {\\\"scale\\\": \\\"y\\\", \\\"value\\\": 0}, \\\"y\\\": {\\\"field\\\": \\\"count\\\", \\\"scale\\\": \\\"y\\\"}, \\\"fill\\\": {\\\"value\\\": \\\"#108EE9\\\"}}}, \\\"from\\\": {\\\"data\\\": \\\"data_0\\\"}, \\\"style\\\": [\\\"rect\\\"], \\\"type\\\": \\\"rect\\\", \\\"name\\\": \\\"marks\\\"}, {\\\"encode\\\": {\\\"hover\\\": {\\\"fill\\\": {\\\"value\\\": \\\"#7EC2F3\\\"}}, \\\"update\\\": {\\\"x2\\\": {\\\"band\\\": 1, \\\"scale\\\": \\\"xscale-null\\\"}, \\\"x\\\": {\\\"scale\\\": \\\"xscale-null\\\", \\\"value\\\": null, \\\"offset\\\": 1}, \\\"y2\\\": {\\\"scale\\\": \\\"y\\\", \\\"value\\\": 0}, \\\"y\\\": {\\\"field\\\": \\\"count\\\", \\\"scale\\\": \\\"y\\\"}, \\\"fill\\\": {\\\"value\\\": \\\"#108EE9\\\"}}}, \\\"from\\\": {\\\"data\\\": \\\"nulls\\\"}, \\\"style\\\": [\\\"rect\\\"], \\\"type\\\": \\\"rect\\\"}], \\\"$schema\\\": \\\"https://vega.github.io/schema/vega/v4.json\\\", \\\"data\\\": [{\\\"values\\\": [{\\\"count\\\": 2, \\\"right\\\": 22.136, \\\"left\\\": 21.984}, {\\\"count\\\": 0, \\\"right\\\": 22.288, \\\"left\\\": 22.136}, {\\\"count\\\": 0, \\\"right\\\": 22.44, \\\"left\\\": 22.288}, {\\\"count\\\": 0, \\\"right\\\": 22.592, \\\"left\\\": 22.44}, {\\\"count\\\": 0, \\\"right\\\": 22.744, \\\"left\\\": 22.592}, {\\\"count\\\": 0, \\\"right\\\": 22.896, \\\"left\\\": 22.744}, {\\\"count\\\": 3, \\\"right\\\": 23.048, \\\"left\\\": 22.896}, {\\\"count\\\": 0, \\\"right\\\": 23.2, \\\"left\\\": 23.048}, {\\\"count\\\": 0, \\\"right\\\": 23.352, \\\"left\\\": 23.2}, {\\\"count\\\": 0, \\\"right\\\": 23.504, \\\"left\\\": 23.352}, {\\\"count\\\": 0, \\\"right\\\": 23.656, \\\"left\\\": 23.504}, {\\\"count\\\": 0, \\\"right\\\": 23.808, \\\"left\\\": 23.656}, {\\\"count\\\": 0, \\\"right\\\": 23.96, \\\"left\\\": 23.808}, {\\\"count\\\": 1, \\\"right\\\": 24.112, \\\"left\\\": 23.96}, {\\\"count\\\": 0, \\\"right\\\": 24.264, \\\"left\\\": 24.112}, {\\\"count\\\": 0, \\\"right\\\": 24.416, \\\"left\\\": 24.264}, {\\\"count\\\": 0, \\\"right\\\": 24.568, \\\"left\\\": 24.416}, {\\\"count\\\": 0, \\\"right\\\": 24.72, \\\"left\\\": 24.568}, {\\\"count\\\": 0, \\\"right\\\": 24.872, \\\"left\\\": 24.72}, {\\\"count\\\": 1, \\\"right\\\": 25.024, \\\"left\\\": 24.872}], \\\"name\\\": \\\"source_2\\\"}, {\\\"source\\\": \\\"source_2\\\", \\\"name\\\": \\\"data_0\\\", \\\"transform\\\": [{\\\"expr\\\": \\\"toNumber(datum[\\\\\\\"left\\\\\\\"])\\\", \\\"as\\\": \\\"left\\\", \\\"type\\\": \\\"formula\\\"}, {\\\"expr\\\": \\\"toNumber(datum[\\\\\\\"right\\\\\\\"])\\\", \\\"as\\\": \\\"right\\\", \\\"type\\\": \\\"formula\\\"}, {\\\"expr\\\": \\\"toNumber(datum[\\\\\\\"count\\\\\\\"])\\\", \\\"as\\\": \\\"count\\\", \\\"type\\\": \\\"formula\\\"}, {\\\"expr\\\": \\\"datum[\\\\\\\"left\\\\\\\"] !== null &amp;&amp; !isNaN(datum[\\\\\\\"left\\\\\\\"]) &amp;&amp; datum[\\\\\\\"count\\\\\\\"] !== null &amp;&amp; !isNaN(datum[\\\\\\\"count\\\\\\\"])\\\", \\\"type\\\": \\\"filter\\\"}]}, {\\\"source\\\": \\\"source_2\\\", \\\"name\\\": \\\"nulls\\\", \\\"transform\\\": [{\\\"expr\\\": \\\"toNumber(datum[\\\\\\\"count\\\\\\\"])\\\", \\\"as\\\": \\\"count\\\", \\\"type\\\": \\\"formula\\\"}, {\\\"expr\\\": \\\"datum[\\\\\\\"missing\\\\\\\"] === true &amp;&amp; datum[\\\\\\\"count\\\\\\\"] !== null &amp;&amp; !isNaN(datum[\\\\\\\"count\\\\\\\"])\\\", \\\"type\\\": \\\"filter\\\"}]}]}\";                                 var vega_json_parsed = JSON.parse(vega_json);                                 var toolTipOpts = {                                     showAllFields: true                                 };                                 if(vega_json_parsed[\"metadata\"] != null){                                     if(vega_json_parsed[\"metadata\"][\"bubbleOpts\"] != null){                                         toolTipOpts = vega_json_parsed[\"metadata\"][\"bubbleOpts\"];                                     };                                 };                                 vegaEmbed(\"#vis\", vega_json_parsed).then(function (result) {                                     vegaTooltip.vega(result.view, toolTipOpts);                                  });                             </script>                         </body>                     </html>' src=\"demo_iframe_srcdoc.htm\">                         <p>Your browser does not support iframes.</p>                     </iframe>                 </body>             </html>"
            ],
            "text/plain": [
              "<IPython.core.display.HTML object>"
            ]
          },
          "metadata": {}
        }
      ],
      "execution_count": 65,
      "metadata": {
        "collapsed": false
      }
    },
    {
      "cell_type": "markdown",
      "source": [
        "# Inspect columns of dataset"
      ],
      "metadata": {}
    },
    {
      "cell_type": "code",
      "source": [
        "sf['Country']"
      ],
      "outputs": [
        {
          "output_type": "execute_result",
          "execution_count": 66,
          "data": {
            "text/plain": [
              "dtype: str\n",
              "Rows: 7\n",
              "['United States', 'Canada', 'England', 'USA', 'Poland', 'United States', 'Switzerland']"
            ]
          },
          "metadata": {}
        }
      ],
      "execution_count": 66,
      "metadata": {
        "collapsed": false
      }
    },
    {
      "cell_type": "code",
      "source": [
        "sf['age']"
      ],
      "outputs": [
        {
          "output_type": "execute_result",
          "execution_count": 67,
          "data": {
            "text/plain": [
              "dtype: int\n",
              "Rows: 7\n",
              "[24, 23, 22, 23, 23, 22, 25]"
            ]
          },
          "metadata": {}
        }
      ],
      "execution_count": 67,
      "metadata": {
        "collapsed": false
      }
    },
    {
      "cell_type": "markdown",
      "source": [
        "Some simple columnar operations"
      ],
      "metadata": {}
    },
    {
      "cell_type": "code",
      "source": [
        "sf['age'].mean()"
      ],
      "outputs": [
        {
          "output_type": "execute_result",
          "execution_count": 68,
          "data": {
            "text/plain": [
              "23.142857142857146"
            ]
          },
          "metadata": {}
        }
      ],
      "execution_count": 68,
      "metadata": {
        "collapsed": false
      }
    },
    {
      "cell_type": "code",
      "source": [
        "sf['age'].max()"
      ],
      "outputs": [
        {
          "output_type": "execute_result",
          "execution_count": 69,
          "data": {
            "text/plain": [
              "25"
            ]
          },
          "metadata": {}
        }
      ],
      "execution_count": 69,
      "metadata": {
        "collapsed": false
      }
    },
    {
      "cell_type": "markdown",
      "source": [
        "# Create new columns in our SFrame"
      ],
      "metadata": {}
    },
    {
      "cell_type": "code",
      "source": [
        "sf.show()"
      ],
      "outputs": [
        {
          "output_type": "display_data",
          "data": {
            "text/html": [
              "<pre>Materializing SFrame</pre>"
            ],
            "text/plain": [
              "Materializing SFrame"
            ]
          },
          "metadata": {}
        },
        {
          "output_type": "display_data",
          "data": {
            "text/html": [
              "<html>                 <body>                     <iframe style=\"border:0;margin:0\" width=\"1000\" height=\"1500\" srcdoc='<html lang=\"en\">                         <head>                             <script src=\"https://cdnjs.cloudflare.com/ajax/libs/vega/3.0.8/vega.js\"></script>                             <script src=\"https://cdnjs.cloudflare.com/ajax/libs/vega-embed/3.0.0-rc7/vega-embed.js\"></script>                             <script src=\"https://cdnjs.cloudflare.com/ajax/libs/vega-tooltip/0.5.1/vega-tooltip.min.js\"></script>                             <link rel=\"stylesheet\" type=\"text/css\" href=\"https://cdnjs.cloudflare.com/ajax/libs/vega-tooltip/0.5.1/vega-tooltip.min.css\">                             <style>                             .vega-actions > a{                                 color:white;                                 text-decoration: none;                                 font-family: \"Arial\";                                 cursor:pointer;                                 padding:5px;                                 background:#AAAAAA;                                 border-radius:4px;                                 padding-left:10px;                                 padding-right:10px;                                 margin-right:5px;                             }                             .vega-actions{                                 margin-top:20px;                                 text-align:center                             }                            .vega-actions > a{                                 background:#999999;                            }                             </style>                         </head>                         <body>                             <div id=\"vis\">                             </div>                             <script>                                 var vega_json = \"{\\\"config\\\": {\\\"style\\\": {\\\"rect\\\": {\\\"stroke\\\": \\\"rgba(200, 200, 200, 0.5)\\\"}, \\\"group-title\\\": {\\\"fontWeight\\\": \\\"normal\\\", \\\"font\\\": \\\"HelveticaNeue-Light, Arial\\\", \\\"fontSize\\\": 20, \\\"fill\\\": \\\"#595959\\\"}}, \\\"axisY\\\": {\\\"minExtent\\\": 30}, \\\"axis\\\": {\\\"titlePadding\\\": 9, \\\"labelPadding\\\": 10, \\\"labelFont\\\": \\\"HelveticaNeue-Light, Arial\\\", \\\"labelFontSize\\\": 7, \\\"labelColor\\\": \\\"#595959\\\", \\\"titleFont\\\": \\\"HelveticaNeue-Light, Arial\\\", \\\"titleFontSize\\\": 12, \\\"titleColor\\\": \\\"#595959\\\", \\\"titleFontWeight\\\": \\\"normal\\\"}}, \\\"height\\\": 1280, \\\"padding\\\": 8, \\\"width\\\": 800, \\\"marks\\\": [{\\\"encode\\\": {\\\"enter\\\": {\\\"strokeWidth\\\": {\\\"value\\\": 0}, \\\"clip\\\": {\\\"value\\\": 0}, \\\"height\\\": {\\\"value\\\": 366}, \\\"width\\\": {\\\"value\\\": 734}, \\\"stroke\\\": {\\\"value\\\": \\\"#000000\\\"}, \\\"fillOpacity\\\": {\\\"value\\\": 0}, \\\"y\\\": {\\\"value\\\": 0}, \\\"x\\\": {\\\"value\\\": 0}, \\\"fill\\\": {\\\"value\\\": \\\"#ffffff\\\"}}}, \\\"type\\\": \\\"group\\\", \\\"marks\\\": [{\\\"encode\\\": {\\\"enter\\\": {\\\"strokeWidth\\\": {\\\"value\\\": 0}, \\\"clip\\\": {\\\"value\\\": 0}, \\\"height\\\": {\\\"value\\\": 366}, \\\"width\\\": {\\\"value\\\": 734}, \\\"stroke\\\": {\\\"value\\\": \\\"#000000\\\"}, \\\"fillOpacity\\\": {\\\"value\\\": 0}, \\\"y\\\": {\\\"value\\\": 0}, \\\"x\\\": {\\\"value\\\": 0}, \\\"fill\\\": {\\\"value\\\": \\\"#ffffff\\\"}}}, \\\"marks\\\": [{\\\"encode\\\": {\\\"update\\\": {\\\"y\\\": {\\\"field\\\": \\\"c_main_background\\\"}, \\\"x\\\": {\\\"signal\\\": \\\"datum[\\\\\\\"c_x_axis_back\\\\\\\"]\\\"}}, \\\"enter\\\": {\\\"strokeWidth\\\": {\\\"value\\\": 0.5}, \\\"height\\\": {\\\"value\\\": 250}, \\\"width\\\": {\\\"value\\\": 700}, \\\"stroke\\\": {\\\"value\\\": \\\"#DEDEDE\\\"}, \\\"fillOpacity\\\": {\\\"value\\\": 1}, \\\"y\\\": {\\\"value\\\": 66}, \\\"x\\\": {\\\"value\\\": 33}, \\\"fill\\\": {\\\"value\\\": \\\"#FEFEFE\\\"}}}, \\\"type\\\": \\\"rect\\\", \\\"from\\\": {\\\"data\\\": \\\"data_2\\\"}}, {\\\"encode\\\": {\\\"update\\\": {\\\"y\\\": {\\\"field\\\": \\\"c_top_bar\\\"}, \\\"x\\\": {\\\"signal\\\": \\\"datum[\\\\\\\"c_x_axis_back\\\\\\\"]\\\"}}, \\\"enter\\\": {\\\"strokeWidth\\\": {\\\"value\\\": 0.5}, \\\"height\\\": {\\\"value\\\": 30}, \\\"width\\\": {\\\"value\\\": 700}, \\\"stroke\\\": {\\\"value\\\": \\\"#DEDEDE\\\"}, \\\"fillOpacity\\\": {\\\"value\\\": 1}, \\\"y\\\": {\\\"value\\\": 43}, \\\"x\\\": {\\\"value\\\": 33}, \\\"fill\\\": {\\\"value\\\": \\\"#F5F5F5\\\"}}}, \\\"type\\\": \\\"rect\\\", \\\"from\\\": {\\\"data\\\": \\\"data_2\\\"}}, {\\\"encode\\\": {\\\"update\\\": {\\\"y\\\": {\\\"field\\\": \\\"c_top_type\\\"}, \\\"x\\\": {\\\"signal\\\": \\\"datum[\\\\\\\"c_x_axis_back\\\\\\\"]+687\\\"}}, \\\"enter\\\": {\\\"fontStyle\\\": {\\\"value\\\": \\\"normal\\\"}, \\\"angle\\\": {\\\"value\\\": 0}, \\\"baseline\\\": {\\\"value\\\": \\\"middle\\\"}, \\\"text\\\": {\\\"signal\\\": \\\"&apos;&apos;+datum[\\\\\\\"type\\\\\\\"]\\\"}, \\\"align\\\": {\\\"value\\\": \\\"right\\\"}, \\\"fontWeight\\\": {\\\"value\\\": \\\"normal\\\"}, \\\"fontSize\\\": {\\\"value\\\": 12}, \\\"dx\\\": {\\\"value\\\": 0, \\\"offset\\\": 0}, \\\"dy\\\": {\\\"value\\\": 0, \\\"offset\\\": 0}, \\\"y\\\": {\\\"value\\\": 58}, \\\"x\\\": {\\\"value\\\": 720}, \\\"font\\\": {\\\"value\\\": \\\"AvenirNext-Medium\\\"}, \\\"fill\\\": {\\\"value\\\": \\\"#595859\\\"}}}, \\\"type\\\": \\\"text\\\", \\\"from\\\": {\\\"data\\\": \\\"data_2\\\"}}, {\\\"encode\\\": {\\\"update\\\": {\\\"y\\\": {\\\"field\\\": \\\"c_top_title\\\"}, \\\"x\\\": {\\\"signal\\\": \\\"datum[\\\\\\\"c_x_axis_back\\\\\\\"]+11\\\"}}, \\\"enter\\\": {\\\"fontStyle\\\": {\\\"value\\\": \\\"normal\\\"}, \\\"angle\\\": {\\\"value\\\": 0}, \\\"baseline\\\": {\\\"value\\\": \\\"middle\\\"}, \\\"text\\\": {\\\"signal\\\": \\\"&apos;&apos;+datum[\\\\\\\"title\\\\\\\"]\\\"}, \\\"align\\\": {\\\"value\\\": \\\"left\\\"}, \\\"fontWeight\\\": {\\\"value\\\": \\\"normal\\\"}, \\\"fontSize\\\": {\\\"value\\\": 15}, \\\"dx\\\": {\\\"value\\\": 0, \\\"offset\\\": 0}, \\\"dy\\\": {\\\"value\\\": 0, \\\"offset\\\": 0}, \\\"y\\\": {\\\"value\\\": 59}, \\\"x\\\": {\\\"value\\\": 44}, \\\"font\\\": {\\\"value\\\": \\\"AvenirNext-Medium\\\"}, \\\"fill\\\": {\\\"value\\\": \\\"#9B9B9B\\\"}}}, \\\"type\\\": \\\"text\\\", \\\"from\\\": {\\\"data\\\": \\\"data_2\\\"}}, {\\\"encode\\\": {\\\"update\\\": {\\\"x2\\\": {\\\"signal\\\": \\\"datum[\\\\\\\"c_x_axis_back\\\\\\\"]+687\\\"}, \\\"x\\\": {\\\"signal\\\": \\\"datum[\\\\\\\"c_x_axis_back\\\\\\\"]+467\\\"}, \\\"y2\\\": {\\\"field\\\": \\\"c_rule\\\"}, \\\"y\\\": {\\\"field\\\": \\\"c_rule\\\"}}, \\\"enter\\\": {\\\"strokeWidth\\\": {\\\"value\\\": 1}, \\\"strokeCap\\\": {\\\"value\\\": \\\"butt\\\"}, \\\"x2\\\": {\\\"value\\\": 720}, \\\"stroke\\\": {\\\"value\\\": \\\"#EDEDEB\\\"}, \\\"y\\\": {\\\"value\\\": 178}, \\\"x\\\": {\\\"value\\\": 500}, \\\"y2\\\": {\\\"value\\\": 178}}}, \\\"type\\\": \\\"rule\\\", \\\"from\\\": {\\\"data\\\": \\\"data_2\\\"}}, {\\\"encode\\\": {\\\"update\\\": {\\\"y\\\": {\\\"field\\\": \\\"c_num_rows\\\"}, \\\"x\\\": {\\\"signal\\\": \\\"datum[\\\\\\\"c_x_axis_back\\\\\\\"]+467\\\"}}, \\\"enter\\\": {\\\"fontStyle\\\": {\\\"value\\\": \\\"normal\\\"}, \\\"angle\\\": {\\\"value\\\": 0}, \\\"baseline\\\": {\\\"value\\\": \\\"middle\\\"}, \\\"text\\\": {\\\"value\\\": \\\"Num. Rows:\\\"}, \\\"align\\\": {\\\"value\\\": \\\"left\\\"}, \\\"fontWeight\\\": {\\\"value\\\": \\\"normal\\\"}, \\\"fontSize\\\": {\\\"value\\\": 12}, \\\"dx\\\": {\\\"value\\\": 0, \\\"offset\\\": 0}, \\\"dy\\\": {\\\"value\\\": 0, \\\"offset\\\": 0}, \\\"y\\\": {\\\"value\\\": 106}, \\\"x\\\": {\\\"value\\\": 500}, \\\"font\\\": {\\\"value\\\": \\\"AvenirNext-Medium\\\"}, \\\"fill\\\": {\\\"value\\\": \\\"#4A4A4A\\\"}}}, \\\"type\\\": \\\"text\\\", \\\"from\\\": {\\\"data\\\": \\\"data_2\\\"}}, {\\\"encode\\\": {\\\"update\\\": {\\\"y\\\": {\\\"field\\\": \\\"c_num_unique\\\"}, \\\"x\\\": {\\\"signal\\\": \\\"datum[\\\\\\\"c_x_axis_back\\\\\\\"]+467\\\"}}, \\\"enter\\\": {\\\"fontStyle\\\": {\\\"value\\\": \\\"normal\\\"}, \\\"angle\\\": {\\\"value\\\": 0}, \\\"baseline\\\": {\\\"value\\\": \\\"middle\\\"}, \\\"text\\\": {\\\"value\\\": \\\"Num. Unique:\\\"}, \\\"align\\\": {\\\"value\\\": \\\"left\\\"}, \\\"fontWeight\\\": {\\\"value\\\": \\\"normal\\\"}, \\\"fontSize\\\": {\\\"value\\\": 12}, \\\"dx\\\": {\\\"value\\\": 0, \\\"offset\\\": 0}, \\\"dy\\\": {\\\"value\\\": 0, \\\"offset\\\": 0}, \\\"y\\\": {\\\"value\\\": 130}, \\\"x\\\": {\\\"value\\\": 500}, \\\"font\\\": {\\\"value\\\": \\\"AvenirNext-Medium\\\"}, \\\"fill\\\": {\\\"value\\\": \\\"#4A4A4A\\\"}}}, \\\"type\\\": \\\"text\\\", \\\"from\\\": {\\\"data\\\": \\\"data_2\\\"}}, {\\\"encode\\\": {\\\"update\\\": {\\\"y\\\": {\\\"field\\\": \\\"c_missing\\\"}, \\\"x\\\": {\\\"signal\\\": \\\"datum[\\\\\\\"c_x_axis_back\\\\\\\"]+467\\\"}}, \\\"enter\\\": {\\\"fontStyle\\\": {\\\"value\\\": \\\"normal\\\"}, \\\"angle\\\": {\\\"value\\\": 0}, \\\"baseline\\\": {\\\"value\\\": \\\"middle\\\"}, \\\"text\\\": {\\\"value\\\": \\\"Missing:\\\"}, \\\"align\\\": {\\\"value\\\": \\\"left\\\"}, \\\"fontWeight\\\": {\\\"value\\\": \\\"normal\\\"}, \\\"fontSize\\\": {\\\"value\\\": 12}, \\\"dx\\\": {\\\"value\\\": 0, \\\"offset\\\": 0}, \\\"dy\\\": {\\\"value\\\": 0, \\\"offset\\\": 0}, \\\"y\\\": {\\\"value\\\": 154}, \\\"x\\\": {\\\"value\\\": 500}, \\\"font\\\": {\\\"value\\\": \\\"AvenirNext-Medium\\\"}, \\\"fill\\\": {\\\"value\\\": \\\"#4A4A4A\\\"}}}, \\\"type\\\": \\\"text\\\", \\\"from\\\": {\\\"data\\\": \\\"data_2\\\"}}, {\\\"encode\\\": {\\\"update\\\": {\\\"y\\\": {\\\"field\\\": \\\"c_num_rows_val\\\"}, \\\"x\\\": {\\\"signal\\\": \\\"datum[\\\\\\\"c_x_axis_back\\\\\\\"]+667\\\"}}, \\\"enter\\\": {\\\"fontStyle\\\": {\\\"value\\\": \\\"normal\\\"}, \\\"angle\\\": {\\\"value\\\": 0}, \\\"baseline\\\": {\\\"value\\\": \\\"middle\\\"}, \\\"text\\\": {\\\"signal\\\": \\\"toString(format(datum[\\\\\\\"num_row\\\\\\\"], \\\\\\\",\\\\\\\"))\\\"}, \\\"align\\\": {\\\"value\\\": \\\"right\\\"}, \\\"fontWeight\\\": {\\\"value\\\": \\\"normal\\\"}, \\\"fontSize\\\": {\\\"value\\\": 12}, \\\"dx\\\": {\\\"value\\\": 0, \\\"offset\\\": 0}, \\\"dy\\\": {\\\"value\\\": 0, \\\"offset\\\": 0}, \\\"y\\\": {\\\"value\\\": 105}, \\\"x\\\": {\\\"value\\\": 700}, \\\"font\\\": {\\\"value\\\": \\\"AvenirNext-Medium\\\"}, \\\"fill\\\": {\\\"value\\\": \\\"#5A5A5A\\\"}}}, \\\"type\\\": \\\"text\\\", \\\"from\\\": {\\\"data\\\": \\\"data_2\\\"}}, {\\\"encode\\\": {\\\"update\\\": {\\\"y\\\": {\\\"field\\\": \\\"c_num_unique_val\\\"}, \\\"x\\\": {\\\"signal\\\": \\\"datum[\\\\\\\"c_x_axis_back\\\\\\\"]+667\\\"}}, \\\"enter\\\": {\\\"fontStyle\\\": {\\\"value\\\": \\\"normal\\\"}, \\\"angle\\\": {\\\"value\\\": 0}, \\\"baseline\\\": {\\\"value\\\": \\\"middle\\\"}, \\\"text\\\": {\\\"signal\\\": \\\"toString(format(datum[\\\\\\\"num_unique\\\\\\\"], \\\\\\\",\\\\\\\"))\\\"}, \\\"align\\\": {\\\"value\\\": \\\"right\\\"}, \\\"fontWeight\\\": {\\\"value\\\": \\\"normal\\\"}, \\\"fontSize\\\": {\\\"value\\\": 12}, \\\"dx\\\": {\\\"value\\\": 0, \\\"offset\\\": 0}, \\\"dy\\\": {\\\"value\\\": 0, \\\"offset\\\": 0}, \\\"y\\\": {\\\"value\\\": 130}, \\\"x\\\": {\\\"value\\\": 700}, \\\"font\\\": {\\\"value\\\": \\\"AvenirNext-Medium\\\"}, \\\"fill\\\": {\\\"value\\\": \\\"#5A5A5A\\\"}}}, \\\"type\\\": \\\"text\\\", \\\"from\\\": {\\\"data\\\": \\\"data_2\\\"}}, {\\\"encode\\\": {\\\"update\\\": {\\\"y\\\": {\\\"field\\\": \\\"c_missing_val\\\"}, \\\"x\\\": {\\\"signal\\\": \\\"datum[\\\\\\\"c_x_axis_back\\\\\\\"]+667\\\"}}, \\\"enter\\\": {\\\"fontStyle\\\": {\\\"value\\\": \\\"normal\\\"}, \\\"angle\\\": {\\\"value\\\": 0}, \\\"baseline\\\": {\\\"value\\\": \\\"middle\\\"}, \\\"text\\\": {\\\"signal\\\": \\\"toString(format(datum[\\\\\\\"num_missing\\\\\\\"], \\\\\\\",\\\\\\\"))\\\"}, \\\"align\\\": {\\\"value\\\": \\\"right\\\"}, \\\"fontWeight\\\": {\\\"value\\\": \\\"normal\\\"}, \\\"fontSize\\\": {\\\"value\\\": 12}, \\\"dx\\\": {\\\"value\\\": 0, \\\"offset\\\": 0}, \\\"dy\\\": {\\\"value\\\": 0, \\\"offset\\\": 0}, \\\"y\\\": {\\\"value\\\": 154}, \\\"x\\\": {\\\"value\\\": 700}, \\\"font\\\": {\\\"value\\\": \\\"AvenirNext-Medium\\\"}, \\\"fill\\\": {\\\"value\\\": \\\"#5A5A5A\\\"}}}, \\\"type\\\": \\\"text\\\", \\\"from\\\": {\\\"data\\\": \\\"data_2\\\"}}, {\\\"encode\\\": {\\\"update\\\": {\\\"y\\\": {\\\"field\\\": \\\"c_frequent_items\\\"}, \\\"x\\\": {\\\"signal\\\": \\\"datum[\\\\\\\"c_x_axis_back\\\\\\\"]+467\\\"}}, \\\"enter\\\": {\\\"fontStyle\\\": {\\\"value\\\": \\\"normal\\\"}, \\\"angle\\\": {\\\"value\\\": 0}, \\\"baseline\\\": {\\\"value\\\": \\\"middle\\\"}, \\\"clip\\\": {\\\"value\\\": true}, \\\"text\\\": {\\\"signal\\\": \\\"(toString(datum[\\\\\\\"type\\\\\\\"]) == \\\\\\\"str\\\\\\\")? \\\\\\\"Frequent Items\\\\\\\":\\\\\\\"\\\\\\\"\\\"}, \\\"align\\\": {\\\"value\\\": \\\"left\\\"}, \\\"fontWeight\\\": {\\\"value\\\": \\\"bold\\\"}, \\\"fontSize\\\": {\\\"value\\\": 11}, \\\"dx\\\": {\\\"value\\\": 0, \\\"offset\\\": 0}, \\\"dy\\\": {\\\"value\\\": 0, \\\"offset\\\": 0}, \\\"y\\\": {\\\"value\\\": 200}, \\\"x\\\": {\\\"value\\\": 500}, \\\"font\\\": {\\\"value\\\": \\\"AvenirNext-Medium\\\"}, \\\"fill\\\": {\\\"value\\\": \\\"#4A4A4A\\\"}}}, \\\"type\\\": \\\"text\\\", \\\"from\\\": {\\\"data\\\": \\\"data_2\\\"}}, {\\\"encode\\\": {\\\"update\\\": {\\\"y\\\": {\\\"field\\\": \\\"c_first_item\\\"}, \\\"x\\\": {\\\"signal\\\": \\\"datum[\\\\\\\"c_x_axis_back\\\\\\\"]+487\\\"}}, \\\"enter\\\": {\\\"fontStyle\\\": {\\\"value\\\": \\\"normal\\\"}, \\\"angle\\\": {\\\"value\\\": 0}, \\\"baseline\\\": {\\\"value\\\": \\\"middle\\\"}, \\\"clip\\\": {\\\"value\\\": true}, \\\"text\\\": {\\\"signal\\\": \\\"((datum[\\\\\\\"categorical\\\\\\\"].length >= 1) &amp;&amp; (toString(datum[\\\\\\\"type\\\\\\\"]) == \\\\\\\"str\\\\\\\"))? toString(datum[\\\\\\\"categorical\\\\\\\"][0][\\\\\\\"label\\\\\\\"]):\\\\\\\"\\\\\\\"\\\"}, \\\"align\\\": {\\\"value\\\": \\\"left\\\"}, \\\"fontWeight\\\": {\\\"value\\\": \\\"normal\\\"}, \\\"fontSize\\\": {\\\"value\\\": 11}, \\\"dx\\\": {\\\"value\\\": 0, \\\"offset\\\": 0}, \\\"dy\\\": {\\\"value\\\": 0, \\\"offset\\\": 0}, \\\"y\\\": {\\\"value\\\": 200}, \\\"x\\\": {\\\"value\\\": 520}, \\\"font\\\": {\\\"value\\\": \\\"AvenirNext-Medium\\\"}, \\\"fill\\\": {\\\"value\\\": \\\"#4A4A4A\\\"}}}, \\\"type\\\": \\\"text\\\", \\\"from\\\": {\\\"data\\\": \\\"data_2\\\"}}, {\\\"encode\\\": {\\\"update\\\": {\\\"y\\\": {\\\"field\\\": \\\"c_second_item\\\"}, \\\"x\\\": {\\\"signal\\\": \\\"datum[\\\\\\\"c_x_axis_back\\\\\\\"]+487\\\"}}, \\\"enter\\\": {\\\"fontStyle\\\": {\\\"value\\\": \\\"normal\\\"}, \\\"angle\\\": {\\\"value\\\": 0}, \\\"baseline\\\": {\\\"value\\\": \\\"middle\\\"}, \\\"clip\\\": {\\\"value\\\": true}, \\\"text\\\": {\\\"signal\\\": \\\"((datum[\\\\\\\"categorical\\\\\\\"].length >= 2) &amp;&amp; (toString(datum[\\\\\\\"type\\\\\\\"]) == \\\\\\\"str\\\\\\\"))? toString(datum[\\\\\\\"categorical\\\\\\\"][1][\\\\\\\"label\\\\\\\"]):\\\\\\\"\\\\\\\"\\\"}, \\\"align\\\": {\\\"value\\\": \\\"left\\\"}, \\\"fontWeight\\\": {\\\"value\\\": \\\"normal\\\"}, \\\"fontSize\\\": {\\\"value\\\": 11}, \\\"dx\\\": {\\\"value\\\": 0, \\\"offset\\\": 0}, \\\"dy\\\": {\\\"value\\\": 0, \\\"offset\\\": 0}, \\\"y\\\": {\\\"value\\\": 200}, \\\"x\\\": {\\\"value\\\": 520}, \\\"font\\\": {\\\"value\\\": \\\"AvenirNext-Medium\\\"}, \\\"fill\\\": {\\\"value\\\": \\\"#4A4A4A\\\"}}}, \\\"type\\\": \\\"text\\\", \\\"from\\\": {\\\"data\\\": \\\"data_2\\\"}}, {\\\"encode\\\": {\\\"update\\\": {\\\"y\\\": {\\\"field\\\": \\\"c_third_item\\\"}, \\\"x\\\": {\\\"signal\\\": \\\"datum[\\\\\\\"c_x_axis_back\\\\\\\"]+487\\\"}}, \\\"enter\\\": {\\\"fontStyle\\\": {\\\"value\\\": \\\"normal\\\"}, \\\"angle\\\": {\\\"value\\\": 0}, \\\"baseline\\\": {\\\"value\\\": \\\"middle\\\"}, \\\"clip\\\": {\\\"value\\\": true}, \\\"text\\\": {\\\"signal\\\": \\\"((datum[\\\\\\\"categorical\\\\\\\"].length >= 3) &amp;&amp; (toString(datum[\\\\\\\"type\\\\\\\"]) == \\\\\\\"str\\\\\\\"))? toString(datum[\\\\\\\"categorical\\\\\\\"][2][\\\\\\\"label\\\\\\\"]):\\\\\\\"\\\\\\\"\\\"}, \\\"align\\\": {\\\"value\\\": \\\"left\\\"}, \\\"fontWeight\\\": {\\\"value\\\": \\\"normal\\\"}, \\\"fontSize\\\": {\\\"value\\\": 11}, \\\"dx\\\": {\\\"value\\\": 0, \\\"offset\\\": 0}, \\\"dy\\\": {\\\"value\\\": 0, \\\"offset\\\": 0}, \\\"y\\\": {\\\"value\\\": 200}, \\\"x\\\": {\\\"value\\\": 520}, \\\"font\\\": {\\\"value\\\": \\\"AvenirNext-Medium\\\"}, \\\"fill\\\": {\\\"value\\\": \\\"#4A4A4A\\\"}}}, \\\"type\\\": \\\"text\\\", \\\"from\\\": {\\\"data\\\": \\\"data_2\\\"}}, {\\\"encode\\\": {\\\"update\\\": {\\\"y\\\": {\\\"field\\\": \\\"c_fourth_item\\\"}, \\\"x\\\": {\\\"signal\\\": \\\"datum[\\\\\\\"c_x_axis_back\\\\\\\"]+487\\\"}}, \\\"enter\\\": {\\\"fontStyle\\\": {\\\"value\\\": \\\"normal\\\"}, \\\"angle\\\": {\\\"value\\\": 0}, \\\"baseline\\\": {\\\"value\\\": \\\"middle\\\"}, \\\"clip\\\": {\\\"value\\\": true}, \\\"text\\\": {\\\"signal\\\": \\\"((datum[\\\\\\\"categorical\\\\\\\"].length >= 4) &amp;&amp; (toString(datum[\\\\\\\"type\\\\\\\"]) == \\\\\\\"str\\\\\\\"))? toString(datum[\\\\\\\"categorical\\\\\\\"][3][\\\\\\\"label\\\\\\\"]):\\\\\\\"\\\\\\\"\\\"}, \\\"align\\\": {\\\"value\\\": \\\"left\\\"}, \\\"fontWeight\\\": {\\\"value\\\": \\\"normal\\\"}, \\\"fontSize\\\": {\\\"value\\\": 11}, \\\"dx\\\": {\\\"value\\\": 0, \\\"offset\\\": 0}, \\\"dy\\\": {\\\"value\\\": 0, \\\"offset\\\": 0}, \\\"y\\\": {\\\"value\\\": 200}, \\\"x\\\": {\\\"value\\\": 520}, \\\"font\\\": {\\\"value\\\": \\\"AvenirNext-Medium\\\"}, \\\"fill\\\": {\\\"value\\\": \\\"#4A4A4A\\\"}}}, \\\"type\\\": \\\"text\\\", \\\"from\\\": {\\\"data\\\": \\\"data_2\\\"}}, {\\\"encode\\\": {\\\"update\\\": {\\\"y\\\": {\\\"field\\\": \\\"c_fifth_item\\\"}, \\\"x\\\": {\\\"signal\\\": \\\"datum[\\\\\\\"c_x_axis_back\\\\\\\"]+487\\\"}}, \\\"enter\\\": {\\\"fontStyle\\\": {\\\"value\\\": \\\"normal\\\"}, \\\"angle\\\": {\\\"value\\\": 0}, \\\"baseline\\\": {\\\"value\\\": \\\"middle\\\"}, \\\"clip\\\": {\\\"value\\\": true}, \\\"text\\\": {\\\"signal\\\": \\\"((datum[\\\\\\\"categorical\\\\\\\"].length >= 5) &amp;&amp; (toString(datum[\\\\\\\"type\\\\\\\"]) == \\\\\\\"str\\\\\\\"))? toString(datum[\\\\\\\"categorical\\\\\\\"][4][\\\\\\\"label\\\\\\\"]):\\\\\\\"\\\\\\\"\\\"}, \\\"align\\\": {\\\"value\\\": \\\"left\\\"}, \\\"fontWeight\\\": {\\\"value\\\": \\\"normal\\\"}, \\\"fontSize\\\": {\\\"value\\\": 11}, \\\"dx\\\": {\\\"value\\\": 0, \\\"offset\\\": 0}, \\\"dy\\\": {\\\"value\\\": 0, \\\"offset\\\": 0}, \\\"y\\\": {\\\"value\\\": 200}, \\\"x\\\": {\\\"value\\\": 520}, \\\"font\\\": {\\\"value\\\": \\\"AvenirNext-Medium\\\"}, \\\"fill\\\": {\\\"value\\\": \\\"#4A4A4A\\\"}}}, \\\"type\\\": \\\"text\\\", \\\"from\\\": {\\\"data\\\": \\\"data_2\\\"}}, {\\\"encode\\\": {\\\"update\\\": {\\\"y\\\": {\\\"field\\\": \\\"c_first_item\\\"}, \\\"x\\\": {\\\"signal\\\": \\\"datum[\\\\\\\"c_x_axis_back\\\\\\\"]+667\\\"}}, \\\"enter\\\": {\\\"fontStyle\\\": {\\\"value\\\": \\\"normal\\\"}, \\\"angle\\\": {\\\"value\\\": 0}, \\\"baseline\\\": {\\\"value\\\": \\\"middle\\\"}, \\\"clip\\\": {\\\"value\\\": true}, \\\"text\\\": {\\\"signal\\\": \\\"((datum[\\\\\\\"categorical\\\\\\\"].length >= 1) &amp;&amp; (toString(datum[\\\\\\\"type\\\\\\\"]) == \\\\\\\"str\\\\\\\"))? toString(datum[\\\\\\\"categorical\\\\\\\"][0][\\\\\\\"count\\\\\\\"]):\\\\\\\"\\\\\\\"\\\"}, \\\"align\\\": {\\\"value\\\": \\\"right\\\"}, \\\"fontWeight\\\": {\\\"value\\\": \\\"normal\\\"}, \\\"fontSize\\\": {\\\"value\\\": 11}, \\\"dx\\\": {\\\"value\\\": 0, \\\"offset\\\": 0}, \\\"dy\\\": {\\\"value\\\": 0, \\\"offset\\\": 0}, \\\"y\\\": {\\\"value\\\": 200}, \\\"x\\\": {\\\"value\\\": 700}, \\\"font\\\": {\\\"value\\\": \\\"AvenirNext-Medium\\\"}, \\\"fill\\\": {\\\"value\\\": \\\"#7A7A7A\\\"}}}, \\\"type\\\": \\\"text\\\", \\\"from\\\": {\\\"data\\\": \\\"data_2\\\"}}, {\\\"encode\\\": {\\\"update\\\": {\\\"y\\\": {\\\"field\\\": \\\"c_second_item\\\"}, \\\"x\\\": {\\\"signal\\\": \\\"datum[\\\\\\\"c_x_axis_back\\\\\\\"]+667\\\"}}, \\\"enter\\\": {\\\"fontStyle\\\": {\\\"value\\\": \\\"normal\\\"}, \\\"angle\\\": {\\\"value\\\": 0}, \\\"baseline\\\": {\\\"value\\\": \\\"middle\\\"}, \\\"clip\\\": {\\\"value\\\": true}, \\\"text\\\": {\\\"signal\\\": \\\"((datum[\\\\\\\"categorical\\\\\\\"].length >= 2) &amp;&amp; (toString(datum[\\\\\\\"type\\\\\\\"]) == \\\\\\\"str\\\\\\\"))? toString(datum[\\\\\\\"categorical\\\\\\\"][1][\\\\\\\"count\\\\\\\"]):\\\\\\\"\\\\\\\"\\\"}, \\\"align\\\": {\\\"value\\\": \\\"right\\\"}, \\\"fontWeight\\\": {\\\"value\\\": \\\"normal\\\"}, \\\"fontSize\\\": {\\\"value\\\": 10}, \\\"dx\\\": {\\\"value\\\": 0, \\\"offset\\\": 0}, \\\"dy\\\": {\\\"value\\\": 0, \\\"offset\\\": 0}, \\\"y\\\": {\\\"value\\\": 200}, \\\"x\\\": {\\\"value\\\": 700}, \\\"font\\\": {\\\"value\\\": \\\"AvenirNext-Medium\\\"}, \\\"fill\\\": {\\\"value\\\": \\\"#7A7A7A\\\"}}}, \\\"type\\\": \\\"text\\\", \\\"from\\\": {\\\"data\\\": \\\"data_2\\\"}}, {\\\"encode\\\": {\\\"update\\\": {\\\"y\\\": {\\\"field\\\": \\\"c_third_item\\\"}, \\\"x\\\": {\\\"signal\\\": \\\"datum[\\\\\\\"c_x_axis_back\\\\\\\"]+667\\\"}}, \\\"enter\\\": {\\\"fontStyle\\\": {\\\"value\\\": \\\"normal\\\"}, \\\"angle\\\": {\\\"value\\\": 0}, \\\"baseline\\\": {\\\"value\\\": \\\"middle\\\"}, \\\"clip\\\": {\\\"value\\\": true}, \\\"text\\\": {\\\"signal\\\": \\\"((datum[\\\\\\\"categorical\\\\\\\"].length >= 3) &amp;&amp; (toString(datum[\\\\\\\"type\\\\\\\"]) == \\\\\\\"str\\\\\\\"))? toString(datum[\\\\\\\"categorical\\\\\\\"][2][\\\\\\\"count\\\\\\\"]):\\\\\\\"\\\\\\\"\\\"}, \\\"align\\\": {\\\"value\\\": \\\"right\\\"}, \\\"fontWeight\\\": {\\\"value\\\": \\\"normal\\\"}, \\\"fontSize\\\": {\\\"value\\\": 10}, \\\"dx\\\": {\\\"value\\\": 0, \\\"offset\\\": 0}, \\\"dy\\\": {\\\"value\\\": 0, \\\"offset\\\": 0}, \\\"y\\\": {\\\"value\\\": 200}, \\\"x\\\": {\\\"value\\\": 700}, \\\"font\\\": {\\\"value\\\": \\\"AvenirNext-Medium\\\"}, \\\"fill\\\": {\\\"value\\\": \\\"#7A7A7A\\\"}}}, \\\"type\\\": \\\"text\\\", \\\"from\\\": {\\\"data\\\": \\\"data_2\\\"}}, {\\\"encode\\\": {\\\"update\\\": {\\\"y\\\": {\\\"field\\\": \\\"c_fourth_item\\\"}, \\\"x\\\": {\\\"signal\\\": \\\"datum[\\\\\\\"c_x_axis_back\\\\\\\"]+667\\\"}}, \\\"enter\\\": {\\\"fontStyle\\\": {\\\"value\\\": \\\"normal\\\"}, \\\"angle\\\": {\\\"value\\\": 0}, \\\"baseline\\\": {\\\"value\\\": \\\"middle\\\"}, \\\"clip\\\": {\\\"value\\\": true}, \\\"text\\\": {\\\"signal\\\": \\\"((datum[\\\\\\\"categorical\\\\\\\"].length >= 4) &amp;&amp; (toString(datum[\\\\\\\"type\\\\\\\"]) == \\\\\\\"str\\\\\\\"))? toString(datum[\\\\\\\"categorical\\\\\\\"][3][\\\\\\\"count\\\\\\\"]):\\\\\\\"\\\\\\\"\\\"}, \\\"align\\\": {\\\"value\\\": \\\"right\\\"}, \\\"fontWeight\\\": {\\\"value\\\": \\\"normal\\\"}, \\\"fontSize\\\": {\\\"value\\\": 10}, \\\"dx\\\": {\\\"value\\\": 0, \\\"offset\\\": 0}, \\\"dy\\\": {\\\"value\\\": 0, \\\"offset\\\": 0}, \\\"y\\\": {\\\"value\\\": 200}, \\\"x\\\": {\\\"value\\\": 700}, \\\"font\\\": {\\\"value\\\": \\\"AvenirNext-Medium\\\"}, \\\"fill\\\": {\\\"value\\\": \\\"#7A7A7A\\\"}}}, \\\"type\\\": \\\"text\\\", \\\"from\\\": {\\\"data\\\": \\\"data_2\\\"}}, {\\\"encode\\\": {\\\"update\\\": {\\\"y\\\": {\\\"field\\\": \\\"c_fifth_item\\\"}, \\\"x\\\": {\\\"signal\\\": \\\"datum[\\\\\\\"c_x_axis_back\\\\\\\"]+667\\\"}}, \\\"enter\\\": {\\\"fontStyle\\\": {\\\"value\\\": \\\"normal\\\"}, \\\"angle\\\": {\\\"value\\\": 0}, \\\"baseline\\\": {\\\"value\\\": \\\"middle\\\"}, \\\"clip\\\": {\\\"value\\\": true}, \\\"text\\\": {\\\"signal\\\": \\\"((datum[\\\\\\\"categorical\\\\\\\"].length >= 5) &amp;&amp; (toString(datum[\\\\\\\"type\\\\\\\"]) == \\\\\\\"str\\\\\\\"))? toString(datum[\\\\\\\"categorical\\\\\\\"][4][\\\\\\\"count\\\\\\\"]):\\\\\\\"\\\\\\\"\\\"}, \\\"align\\\": {\\\"value\\\": \\\"right\\\"}, \\\"fontWeight\\\": {\\\"value\\\": \\\"normal\\\"}, \\\"fontSize\\\": {\\\"value\\\": 10}, \\\"dx\\\": {\\\"value\\\": 0, \\\"offset\\\": 0}, \\\"dy\\\": {\\\"value\\\": 0, \\\"offset\\\": 0}, \\\"y\\\": {\\\"value\\\": 200}, \\\"x\\\": {\\\"value\\\": 700}, \\\"font\\\": {\\\"value\\\": \\\"AvenirNext-Medium\\\"}, \\\"fill\\\": {\\\"value\\\": \\\"#7A7A7A\\\"}}}, \\\"type\\\": \\\"text\\\", \\\"from\\\": {\\\"data\\\": \\\"data_2\\\"}}, {\\\"encode\\\": {\\\"update\\\": {\\\"y\\\": {\\\"field\\\": \\\"c_mean\\\"}, \\\"x\\\": {\\\"signal\\\": \\\"datum[\\\\\\\"c_x_axis_back\\\\\\\"]+467\\\"}}, \\\"enter\\\": {\\\"fontStyle\\\": {\\\"value\\\": \\\"normal\\\"}, \\\"angle\\\": {\\\"value\\\": 0}, \\\"baseline\\\": {\\\"value\\\": \\\"middle\\\"}, \\\"clip\\\": {\\\"value\\\": true}, \\\"text\\\": {\\\"signal\\\": \\\"(toString(datum[\\\\\\\"type\\\\\\\"]) == \\\\\\\"integer\\\\\\\" || toString(datum[\\\\\\\"type\\\\\\\"]) == \\\\\\\"float\\\\\\\")? \\\\\\\"Mean:\\\\\\\":\\\\\\\"\\\\\\\"\\\"}, \\\"align\\\": {\\\"value\\\": \\\"left\\\"}, \\\"fontWeight\\\": {\\\"value\\\": \\\"bold\\\"}, \\\"fontSize\\\": {\\\"value\\\": 11}, \\\"dx\\\": {\\\"value\\\": 0, \\\"offset\\\": 0}, \\\"dy\\\": {\\\"value\\\": 0, \\\"offset\\\": 0}, \\\"y\\\": {\\\"value\\\": 200}, \\\"x\\\": {\\\"value\\\": 500}, \\\"font\\\": {\\\"value\\\": \\\"AvenirNext-Medium\\\"}, \\\"fill\\\": {\\\"value\\\": \\\"#4A4A4A\\\"}}}, \\\"type\\\": \\\"text\\\", \\\"from\\\": {\\\"data\\\": \\\"data_2\\\"}}, {\\\"encode\\\": {\\\"update\\\": {\\\"y\\\": {\\\"field\\\": \\\"c_min\\\"}, \\\"x\\\": {\\\"signal\\\": \\\"datum[\\\\\\\"c_x_axis_back\\\\\\\"]+467\\\"}}, \\\"enter\\\": {\\\"fontStyle\\\": {\\\"value\\\": \\\"normal\\\"}, \\\"angle\\\": {\\\"value\\\": 0}, \\\"baseline\\\": {\\\"value\\\": \\\"middle\\\"}, \\\"text\\\": {\\\"signal\\\": \\\"(toString(datum[\\\\\\\"type\\\\\\\"]) == \\\\\\\"integer\\\\\\\" || toString(datum[\\\\\\\"type\\\\\\\"]) == \\\\\\\"float\\\\\\\")? \\\\\\\"Min:\\\\\\\":\\\\\\\"\\\\\\\"\\\"}, \\\"align\\\": {\\\"value\\\": \\\"left\\\"}, \\\"fontWeight\\\": {\\\"value\\\": \\\"bold\\\"}, \\\"fontSize\\\": {\\\"value\\\": 11}, \\\"dx\\\": {\\\"value\\\": 0, \\\"offset\\\": 0}, \\\"dy\\\": {\\\"value\\\": 0, \\\"offset\\\": 0}, \\\"y\\\": {\\\"value\\\": 220}, \\\"x\\\": {\\\"value\\\": 500}, \\\"font\\\": {\\\"value\\\": \\\"AvenirNext-Medium\\\"}, \\\"fill\\\": {\\\"value\\\": \\\"#4A4A4A\\\"}}}, \\\"type\\\": \\\"text\\\", \\\"from\\\": {\\\"data\\\": \\\"data_2\\\"}}, {\\\"encode\\\": {\\\"update\\\": {\\\"y\\\": {\\\"field\\\": \\\"c_max\\\"}, \\\"x\\\": {\\\"signal\\\": \\\"datum[\\\\\\\"c_x_axis_back\\\\\\\"]+467\\\"}}, \\\"enter\\\": {\\\"fontStyle\\\": {\\\"value\\\": \\\"normal\\\"}, \\\"angle\\\": {\\\"value\\\": 0}, \\\"baseline\\\": {\\\"value\\\": \\\"middle\\\"}, \\\"text\\\": {\\\"signal\\\": \\\"(toString(datum[\\\\\\\"type\\\\\\\"]) == \\\\\\\"integer\\\\\\\" || toString(datum[\\\\\\\"type\\\\\\\"]) == \\\\\\\"float\\\\\\\")? \\\\\\\"Max:\\\\\\\":\\\\\\\"\\\\\\\"\\\"}, \\\"align\\\": {\\\"value\\\": \\\"left\\\"}, \\\"fontWeight\\\": {\\\"value\\\": \\\"bold\\\"}, \\\"fontSize\\\": {\\\"value\\\": 11}, \\\"dx\\\": {\\\"value\\\": 0, \\\"offset\\\": 0}, \\\"dy\\\": {\\\"value\\\": 0, \\\"offset\\\": 0}, \\\"y\\\": {\\\"value\\\": 240}, \\\"x\\\": {\\\"value\\\": 500}, \\\"font\\\": {\\\"value\\\": \\\"AvenirNext-Medium\\\"}, \\\"fill\\\": {\\\"value\\\": \\\"#4A4A4A\\\"}}}, \\\"type\\\": \\\"text\\\", \\\"from\\\": {\\\"data\\\": \\\"data_2\\\"}}, {\\\"encode\\\": {\\\"update\\\": {\\\"y\\\": {\\\"field\\\": \\\"c_median\\\"}, \\\"x\\\": {\\\"signal\\\": \\\"datum[\\\\\\\"c_x_axis_back\\\\\\\"]+467\\\"}}, \\\"enter\\\": {\\\"fontStyle\\\": {\\\"value\\\": \\\"normal\\\"}, \\\"angle\\\": {\\\"value\\\": 0}, \\\"baseline\\\": {\\\"value\\\": \\\"middle\\\"}, \\\"text\\\": {\\\"signal\\\": \\\"(toString(datum[\\\\\\\"type\\\\\\\"]) == \\\\\\\"integer\\\\\\\" || toString(datum[\\\\\\\"type\\\\\\\"]) == \\\\\\\"float\\\\\\\")? \\\\\\\"Median:\\\\\\\":\\\\\\\"\\\\\\\"\\\"}, \\\"align\\\": {\\\"value\\\": \\\"left\\\"}, \\\"fontWeight\\\": {\\\"value\\\": \\\"bold\\\"}, \\\"fontSize\\\": {\\\"value\\\": 11}, \\\"dx\\\": {\\\"value\\\": 0, \\\"offset\\\": 0}, \\\"dy\\\": {\\\"value\\\": 0, \\\"offset\\\": 0}, \\\"y\\\": {\\\"value\\\": 260}, \\\"x\\\": {\\\"value\\\": 500}, \\\"font\\\": {\\\"value\\\": \\\"AvenirNext-Medium\\\"}, \\\"fill\\\": {\\\"value\\\": \\\"#4A4A4A\\\"}}}, \\\"type\\\": \\\"text\\\", \\\"from\\\": {\\\"data\\\": \\\"data_2\\\"}}, {\\\"encode\\\": {\\\"update\\\": {\\\"y\\\": {\\\"field\\\": \\\"c_stdev\\\"}, \\\"x\\\": {\\\"signal\\\": \\\"datum[\\\\\\\"c_x_axis_back\\\\\\\"]+467\\\"}}, \\\"enter\\\": {\\\"fontStyle\\\": {\\\"value\\\": \\\"normal\\\"}, \\\"angle\\\": {\\\"value\\\": 0}, \\\"baseline\\\": {\\\"value\\\": \\\"middle\\\"}, \\\"text\\\": {\\\"signal\\\": \\\"(toString(datum[\\\\\\\"type\\\\\\\"]) == \\\\\\\"integer\\\\\\\" || toString(datum[\\\\\\\"type\\\\\\\"]) == \\\\\\\"float\\\\\\\")? \\\\\\\"St. Dev:\\\\\\\":\\\\\\\"\\\\\\\"\\\"}, \\\"align\\\": {\\\"value\\\": \\\"left\\\"}, \\\"fontWeight\\\": {\\\"value\\\": \\\"bold\\\"}, \\\"fontSize\\\": {\\\"value\\\": 11}, \\\"dx\\\": {\\\"value\\\": 0, \\\"offset\\\": 0}, \\\"dy\\\": {\\\"value\\\": 0, \\\"offset\\\": 0}, \\\"y\\\": {\\\"value\\\": 280}, \\\"x\\\": {\\\"value\\\": 500}, \\\"font\\\": {\\\"value\\\": \\\"AvenirNext-Medium\\\"}, \\\"fill\\\": {\\\"value\\\": \\\"#4A4A4A\\\"}}}, \\\"type\\\": \\\"text\\\", \\\"from\\\": {\\\"data\\\": \\\"data_2\\\"}}, {\\\"encode\\\": {\\\"update\\\": {\\\"y\\\": {\\\"field\\\": \\\"c_mean_val\\\"}, \\\"x\\\": {\\\"signal\\\": \\\"datum[\\\\\\\"c_x_axis_back\\\\\\\"]+667\\\"}}, \\\"enter\\\": {\\\"fontStyle\\\": {\\\"value\\\": \\\"normal\\\"}, \\\"angle\\\": {\\\"value\\\": 0}, \\\"baseline\\\": {\\\"value\\\": \\\"middle\\\"}, \\\"text\\\": {\\\"signal\\\": \\\"(toString(datum[\\\\\\\"type\\\\\\\"]) == \\\\\\\"integer\\\\\\\" || toString(datum[\\\\\\\"type\\\\\\\"]) == \\\\\\\"float\\\\\\\")?toString(format(datum[\\\\\\\"mean\\\\\\\"], \\\\\\\",\\\\\\\")):\\\\\\\"\\\\\\\"\\\"}, \\\"align\\\": {\\\"value\\\": \\\"right\\\"}, \\\"fontWeight\\\": {\\\"value\\\": \\\"normal\\\"}, \\\"fontSize\\\": {\\\"value\\\": 10}, \\\"dx\\\": {\\\"value\\\": 0, \\\"offset\\\": 0}, \\\"dy\\\": {\\\"value\\\": 0, \\\"offset\\\": 0}, \\\"y\\\": {\\\"value\\\": 198}, \\\"x\\\": {\\\"value\\\": 700}, \\\"font\\\": {\\\"value\\\": \\\"AvenirNext-Medium\\\"}, \\\"fill\\\": {\\\"value\\\": \\\"#6A6A6A\\\"}}}, \\\"type\\\": \\\"text\\\", \\\"from\\\": {\\\"data\\\": \\\"data_2\\\"}}, {\\\"encode\\\": {\\\"update\\\": {\\\"y\\\": {\\\"field\\\": \\\"c_min_val\\\"}, \\\"x\\\": {\\\"signal\\\": \\\"datum[\\\\\\\"c_x_axis_back\\\\\\\"]+667\\\"}}, \\\"enter\\\": {\\\"fontStyle\\\": {\\\"value\\\": \\\"normal\\\"}, \\\"angle\\\": {\\\"value\\\": 0}, \\\"baseline\\\": {\\\"value\\\": \\\"middle\\\"}, \\\"text\\\": {\\\"signal\\\": \\\"(toString(datum[\\\\\\\"type\\\\\\\"]) == \\\\\\\"integer\\\\\\\" || toString(datum[\\\\\\\"type\\\\\\\"]) == \\\\\\\"float\\\\\\\")?toString(format(datum[\\\\\\\"min\\\\\\\"], \\\\\\\",\\\\\\\")):\\\\\\\"\\\\\\\"\\\"}, \\\"align\\\": {\\\"value\\\": \\\"right\\\"}, \\\"fontWeight\\\": {\\\"value\\\": \\\"normal\\\"}, \\\"fontSize\\\": {\\\"value\\\": 10}, \\\"dx\\\": {\\\"value\\\": 0, \\\"offset\\\": 0}, \\\"dy\\\": {\\\"value\\\": 0, \\\"offset\\\": 0}, \\\"y\\\": {\\\"value\\\": 218}, \\\"x\\\": {\\\"value\\\": 700}, \\\"font\\\": {\\\"value\\\": \\\"AvenirNext-Medium\\\"}, \\\"fill\\\": {\\\"value\\\": \\\"#6A6A6A\\\"}}}, \\\"type\\\": \\\"text\\\", \\\"from\\\": {\\\"data\\\": \\\"data_2\\\"}}, {\\\"encode\\\": {\\\"update\\\": {\\\"y\\\": {\\\"field\\\": \\\"c_max_val\\\"}, \\\"x\\\": {\\\"signal\\\": \\\"datum[\\\\\\\"c_x_axis_back\\\\\\\"]+667\\\"}}, \\\"enter\\\": {\\\"fontStyle\\\": {\\\"value\\\": \\\"normal\\\"}, \\\"angle\\\": {\\\"value\\\": 0}, \\\"baseline\\\": {\\\"value\\\": \\\"middle\\\"}, \\\"text\\\": {\\\"signal\\\": \\\"(toString(datum[\\\\\\\"type\\\\\\\"]) == \\\\\\\"integer\\\\\\\" || toString(datum[\\\\\\\"type\\\\\\\"]) == \\\\\\\"float\\\\\\\")?toString(format(datum[\\\\\\\"max\\\\\\\"], \\\\\\\",\\\\\\\")):\\\\\\\"\\\\\\\"\\\"}, \\\"align\\\": {\\\"value\\\": \\\"right\\\"}, \\\"fontWeight\\\": {\\\"value\\\": \\\"normal\\\"}, \\\"fontSize\\\": {\\\"value\\\": 10}, \\\"dx\\\": {\\\"value\\\": 0, \\\"offset\\\": 0}, \\\"dy\\\": {\\\"value\\\": 0, \\\"offset\\\": 0}, \\\"y\\\": {\\\"value\\\": 238}, \\\"x\\\": {\\\"value\\\": 700}, \\\"font\\\": {\\\"value\\\": \\\"AvenirNext-Medium\\\"}, \\\"fill\\\": {\\\"value\\\": \\\"#6A6A6A\\\"}}}, \\\"type\\\": \\\"text\\\", \\\"from\\\": {\\\"data\\\": \\\"data_2\\\"}}, {\\\"encode\\\": {\\\"update\\\": {\\\"y\\\": {\\\"field\\\": \\\"c_median_val\\\"}, \\\"x\\\": {\\\"signal\\\": \\\"datum[\\\\\\\"c_x_axis_back\\\\\\\"]+667\\\"}}, \\\"enter\\\": {\\\"fontStyle\\\": {\\\"value\\\": \\\"normal\\\"}, \\\"angle\\\": {\\\"value\\\": 0}, \\\"baseline\\\": {\\\"value\\\": \\\"middle\\\"}, \\\"text\\\": {\\\"signal\\\": \\\"(toString(datum[\\\\\\\"type\\\\\\\"]) == \\\\\\\"integer\\\\\\\" || toString(datum[\\\\\\\"type\\\\\\\"]) == \\\\\\\"float\\\\\\\")?toString(format(datum[\\\\\\\"median\\\\\\\"], \\\\\\\",\\\\\\\")):\\\\\\\"\\\\\\\"\\\"}, \\\"align\\\": {\\\"value\\\": \\\"right\\\"}, \\\"fontWeight\\\": {\\\"value\\\": \\\"normal\\\"}, \\\"fontSize\\\": {\\\"value\\\": 10}, \\\"dx\\\": {\\\"value\\\": 0, \\\"offset\\\": 0}, \\\"dy\\\": {\\\"value\\\": 0, \\\"offset\\\": 0}, \\\"y\\\": {\\\"value\\\": 258}, \\\"x\\\": {\\\"value\\\": 700}, \\\"font\\\": {\\\"value\\\": \\\"AvenirNext-Medium\\\"}, \\\"fill\\\": {\\\"value\\\": \\\"#6A6A6A\\\"}}}, \\\"type\\\": \\\"text\\\", \\\"from\\\": {\\\"data\\\": \\\"data_2\\\"}}, {\\\"encode\\\": {\\\"update\\\": {\\\"y\\\": {\\\"field\\\": \\\"c_stdev_val\\\"}, \\\"x\\\": {\\\"signal\\\": \\\"datum[\\\\\\\"c_x_axis_back\\\\\\\"]+667\\\"}}, \\\"enter\\\": {\\\"fontStyle\\\": {\\\"value\\\": \\\"normal\\\"}, \\\"angle\\\": {\\\"value\\\": 0}, \\\"baseline\\\": {\\\"value\\\": \\\"middle\\\"}, \\\"text\\\": {\\\"signal\\\": \\\"(toString(datum[\\\\\\\"type\\\\\\\"]) == \\\\\\\"integer\\\\\\\" || toString(datum[\\\\\\\"type\\\\\\\"]) == \\\\\\\"float\\\\\\\")?toString(format(datum[\\\\\\\"stdev\\\\\\\"], \\\\\\\",\\\\\\\")):\\\\\\\"\\\\\\\"\\\"}, \\\"align\\\": {\\\"value\\\": \\\"right\\\"}, \\\"fontWeight\\\": {\\\"value\\\": \\\"normal\\\"}, \\\"fontSize\\\": {\\\"value\\\": 10}, \\\"dx\\\": {\\\"value\\\": 0, \\\"offset\\\": 0}, \\\"dy\\\": {\\\"value\\\": 0, \\\"offset\\\": 0}, \\\"y\\\": {\\\"value\\\": 278}, \\\"x\\\": {\\\"value\\\": 700}, \\\"font\\\": {\\\"value\\\": \\\"AvenirNext-Medium\\\"}, \\\"fill\\\": {\\\"value\\\": \\\"#6A6A6A\\\"}}}, \\\"type\\\": \\\"text\\\", \\\"from\\\": {\\\"data\\\": \\\"data_2\\\"}}, {\\\"style\\\": \\\"cell\\\", \\\"from\\\": {\\\"facet\\\": {\\\"field\\\": \\\"numeric\\\", \\\"data\\\": \\\"data_2\\\", \\\"name\\\": \\\"new_data\\\"}}, \\\"scales\\\": [{\\\"domain\\\": {\\\"sort\\\": true, \\\"fields\\\": [\\\"left\\\", \\\"right\\\"], \\\"data\\\": \\\"new_data\\\"}, \\\"name\\\": \\\"x\\\", \\\"zero\\\": true, \\\"range\\\": [0, {\\\"signal\\\": \\\"width\\\"}], \\\"type\\\": \\\"linear\\\", \\\"nice\\\": true}, {\\\"domain\\\": {\\\"field\\\": \\\"count\\\", \\\"data\\\": \\\"new_data\\\"}, \\\"name\\\": \\\"y\\\", \\\"zero\\\": true, \\\"range\\\": [{\\\"signal\\\": \\\"height\\\"}, 0], \\\"type\\\": \\\"linear\\\", \\\"nice\\\": true}], \\\"axes\\\": [{\\\"scale\\\": \\\"x\\\", \\\"title\\\": \\\"Values\\\", \\\"tickCount\\\": {\\\"signal\\\": \\\"ceil(width/40)\\\"}, \\\"zindex\\\": 1, \\\"labelOverlap\\\": true, \\\"orient\\\": \\\"bottom\\\"}, {\\\"domain\\\": false, \\\"scale\\\": \\\"x\\\", \\\"ticks\\\": false, \\\"labels\\\": false, \\\"tickCount\\\": {\\\"signal\\\": \\\"ceil(width/40)\\\"}, \\\"zindex\\\": 0, \\\"grid\\\": true, \\\"minExtent\\\": 0, \\\"gridScale\\\": \\\"y\\\", \\\"orient\\\": \\\"bottom\\\", \\\"maxExtent\\\": 0}, {\\\"scale\\\": \\\"y\\\", \\\"title\\\": \\\"Count\\\", \\\"tickCount\\\": {\\\"signal\\\": \\\"ceil(height/40)\\\"}, \\\"zindex\\\": 1, \\\"labelOverlap\\\": true, \\\"orient\\\": \\\"left\\\"}, {\\\"domain\\\": false, \\\"scale\\\": \\\"y\\\", \\\"ticks\\\": false, \\\"labels\\\": false, \\\"tickCount\\\": {\\\"signal\\\": \\\"ceil(height/40)\\\"}, \\\"zindex\\\": 0, \\\"grid\\\": true, \\\"minExtent\\\": 0, \\\"gridScale\\\": \\\"x\\\", \\\"orient\\\": \\\"left\\\", \\\"maxExtent\\\": 0}], \\\"signals\\\": [{\\\"name\\\": \\\"width\\\", \\\"update\\\": \\\"250\\\"}, {\\\"name\\\": \\\"height\\\", \\\"update\\\": \\\"150\\\"}], \\\"marks\\\": [{\\\"encode\\\": {\\\"hover\\\": {\\\"fill\\\": {\\\"value\\\": \\\"#7EC2F3\\\"}}, \\\"update\\\": {\\\"x2\\\": {\\\"field\\\": \\\"right\\\", \\\"scale\\\": \\\"x\\\"}, \\\"x\\\": {\\\"field\\\": \\\"left\\\", \\\"scale\\\": \\\"x\\\"}, \\\"y2\\\": {\\\"scale\\\": \\\"y\\\", \\\"value\\\": 0}, \\\"y\\\": {\\\"field\\\": \\\"count\\\", \\\"scale\\\": \\\"y\\\"}, \\\"fill\\\": {\\\"value\\\": \\\"#108EE9\\\"}}}, \\\"from\\\": {\\\"data\\\": \\\"new_data\\\"}, \\\"style\\\": [\\\"rect\\\"], \\\"type\\\": \\\"rect\\\", \\\"name\\\": \\\"marks\\\"}], \\\"encode\\\": {\\\"update\\\": {\\\"x\\\": {\\\"signal\\\": \\\"datum[\\\\\\\"c_x_axis_back\\\\\\\"]+87\\\"}, \\\"clip\\\": {\\\"field\\\": \\\"c_clip_val\\\"}, \\\"width\\\": {\\\"field\\\": \\\"c_width_numeric_val\\\"}}, \\\"enter\\\": {\\\"strokeWidth\\\": {\\\"value\\\": 0}, \\\"height\\\": {\\\"value\\\": 150}, \\\"width\\\": {\\\"value\\\": 250}, \\\"stroke\\\": {\\\"value\\\": \\\"#000000\\\"}, \\\"fillOpacity\\\": {\\\"value\\\": 0}, \\\"y\\\": {\\\"field\\\": \\\"graph_offset\\\"}, \\\"x\\\": {\\\"value\\\": 120}, \\\"fill\\\": {\\\"value\\\": \\\"#ffffff\\\"}}}, \\\"type\\\": \\\"group\\\"}, {\\\"style\\\": \\\"cell\\\", \\\"from\\\": {\\\"facet\\\": {\\\"field\\\": \\\"categorical\\\", \\\"data\\\": \\\"data_2\\\", \\\"name\\\": \\\"data_5\\\"}}, \\\"scales\\\": [{\\\"domain\\\": {\\\"field\\\": \\\"count\\\", \\\"data\\\": \\\"data_5\\\"}, \\\"name\\\": \\\"x\\\", \\\"zero\\\": true, \\\"range\\\": [0, 250], \\\"type\\\": \\\"linear\\\", \\\"nice\\\": true}, {\\\"paddingInner\\\": 0.1, \\\"domain\\\": {\\\"sort\\\": {\\\"field\\\": \\\"label_idx\\\", \\\"order\\\": \\\"descending\\\", \\\"op\\\": \\\"mean\\\"}, \\\"field\\\": \\\"label\\\", \\\"data\\\": \\\"data_5\\\"}, \\\"name\\\": \\\"y\\\", \\\"paddingOuter\\\": 0.05, \\\"range\\\": [150, 0], \\\"type\\\": \\\"band\\\"}], \\\"axes\\\": [{\\\"scale\\\": \\\"x\\\", \\\"title\\\": \\\"Count\\\", \\\"tickCount\\\": {\\\"signal\\\": \\\"ceil(width/40)\\\"}, \\\"zindex\\\": 1, \\\"labelOverlap\\\": true, \\\"orient\\\": \\\"top\\\"}, {\\\"domain\\\": false, \\\"scale\\\": \\\"x\\\", \\\"ticks\\\": false, \\\"labels\\\": false, \\\"tickCount\\\": {\\\"signal\\\": \\\"ceil(width/40)\\\"}, \\\"zindex\\\": 0, \\\"grid\\\": true, \\\"minExtent\\\": 0, \\\"gridScale\\\": \\\"y\\\", \\\"orient\\\": \\\"top\\\", \\\"maxExtent\\\": 0}, {\\\"zindex\\\": 1, \\\"title\\\": \\\"Label\\\", \\\"scale\\\": \\\"y\\\", \\\"orient\\\": \\\"left\\\", \\\"labelOverlap\\\": true}], \\\"signals\\\": [{\\\"on\\\": [{\\\"events\\\": \\\"mousemove\\\", \\\"update\\\": \\\"isTuple(group()) ? group() : unit\\\"}], \\\"name\\\": \\\"unit\\\", \\\"value\\\": {}}, {\\\"name\\\": \\\"pts\\\", \\\"update\\\": \\\"data(\\\\\\\"pts_store\\\\\\\").length &amp;&amp; {count: data(\\\\\\\"pts_store\\\\\\\")[0].values[0]}\\\"}, {\\\"on\\\": [{\\\"force\\\": true, \\\"events\\\": [{\\\"source\\\": \\\"scope\\\", \\\"type\\\": \\\"click\\\"}], \\\"update\\\": \\\"datum &amp;&amp; item().mark.marktype !== &apos;group&apos; ? {unit: \\\\\\\"\\\\\\\", encodings: [\\\\\\\"x\\\\\\\"], fields: [\\\\\\\"count\\\\\\\"], values: [datum[\\\\\\\"count\\\\\\\"]]} : null\\\"}], \\\"name\\\": \\\"pts_tuple\\\", \\\"value\\\": {}}, {\\\"on\\\": [{\\\"events\\\": {\\\"signal\\\": \\\"pts_tuple\\\"}, \\\"update\\\": \\\"modify(\\\\\\\"pts_store\\\\\\\", pts_tuple, true)\\\"}], \\\"name\\\": \\\"pts_modify\\\"}], \\\"marks\\\": [{\\\"encode\\\": {\\\"hover\\\": {\\\"fill\\\": {\\\"value\\\": \\\"#7EC2F3\\\"}}, \\\"update\\\": {\\\"x2\\\": {\\\"scale\\\": \\\"x\\\", \\\"value\\\": 0}, \\\"x\\\": {\\\"field\\\": \\\"count\\\", \\\"scale\\\": \\\"x\\\"}, \\\"fill\\\": {\\\"value\\\": \\\"#108EE9\\\"}, \\\"y\\\": {\\\"field\\\": \\\"label\\\", \\\"scale\\\": \\\"y\\\"}, \\\"height\\\": {\\\"band\\\": true, \\\"scale\\\": \\\"y\\\"}}}, \\\"from\\\": {\\\"data\\\": \\\"data_5\\\"}, \\\"style\\\": [\\\"bar\\\"], \\\"type\\\": \\\"rect\\\", \\\"name\\\": \\\"marks\\\"}], \\\"encode\\\": {\\\"update\\\": {\\\"x\\\": {\\\"signal\\\": \\\"datum[\\\\\\\"c_x_axis_back\\\\\\\"]+137\\\"}, \\\"clip\\\": {\\\"field\\\": \\\"c_clip_val_cat\\\"}, \\\"width\\\": {\\\"field\\\": \\\"c_width_numeric_val_cat\\\"}}, \\\"enter\\\": {\\\"strokeWidth\\\": {\\\"value\\\": 0}, \\\"height\\\": {\\\"value\\\": 150}, \\\"width\\\": {\\\"value\\\": 250}, \\\"stroke\\\": {\\\"value\\\": \\\"#000000\\\"}, \\\"fillOpacity\\\": {\\\"value\\\": 0}, \\\"y\\\": {\\\"field\\\": \\\"graph_offset_categorical\\\"}, \\\"x\\\": {\\\"value\\\": 170}, \\\"fill\\\": {\\\"value\\\": \\\"#ffffff\\\"}}}, \\\"type\\\": \\\"group\\\"}], \\\"axes\\\": [], \\\"type\\\": \\\"group\\\", \\\"scales\\\": []}]}], \\\"$schema\\\": \\\"https://vega.github.io/schema/vega/v4.json\\\", \\\"data\\\": [{\\\"name\\\": \\\"pts_store\\\"}, {\\\"values\\\": [{\\\"a\\\": 0, \\\"num_row\\\": 7, \\\"title\\\": \\\"First Name\\\", \\\"categorical\\\": [{\\\"count\\\": 1, \\\"percentage\\\": \\\"14.2857%\\\", \\\"label_idx\\\": 0, \\\"label\\\": \\\"Alex\\\"}, {\\\"count\\\": 1, \\\"percentage\\\": \\\"14.2857%\\\", \\\"label_idx\\\": 1, \\\"label\\\": \\\"Alice\\\"}, {\\\"count\\\": 1, \\\"percentage\\\": \\\"14.2857%\\\", \\\"label_idx\\\": 2, \\\"label\\\": \\\"Bob\\\"}, {\\\"count\\\": 1, \\\"percentage\\\": \\\"14.2857%\\\", \\\"label_idx\\\": 3, \\\"label\\\": \\\"Derek\\\"}, {\\\"count\\\": 1, \\\"percentage\\\": \\\"14.2857%\\\", \\\"label_idx\\\": 4, \\\"label\\\": \\\"Felix\\\"}, {\\\"count\\\": 1, \\\"percentage\\\": \\\"14.2857%\\\", \\\"label_idx\\\": 5, \\\"label\\\": \\\"Malcolm\\\"}, {\\\"count\\\": 1, \\\"percentage\\\": \\\"14.2857%\\\", \\\"label_idx\\\": 6, \\\"label\\\": \\\"Tod\\\"}], \\\"num_missing\\\": 0, \\\"num_unique\\\": 7, \\\"numeric\\\": [], \\\"type\\\": \\\"str\\\"}, {\\\"a\\\": 1, \\\"num_row\\\": 7, \\\"title\\\": \\\"Last Name\\\", \\\"categorical\\\": [{\\\"count\\\": 1, \\\"percentage\\\": \\\"14.2857%\\\", \\\"label_idx\\\": 0, \\\"label\\\": \\\"Brown\\\"}, {\\\"count\\\": 1, \\\"percentage\\\": \\\"14.2857%\\\", \\\"label_idx\\\": 1, \\\"label\\\": \\\"Campbell\\\"}, {\\\"count\\\": 1, \\\"percentage\\\": \\\"14.2857%\\\", \\\"label_idx\\\": 2, \\\"label\\\": \\\"Cooper\\\"}, {\\\"count\\\": 1, \\\"percentage\\\": \\\"14.2857%\\\", \\\"label_idx\\\": 3, \\\"label\\\": \\\"Jone\\\"}, {\\\"count\\\": 1, \\\"percentage\\\": \\\"14.2857%\\\", \\\"label_idx\\\": 4, \\\"label\\\": \\\"Smith\\\"}, {\\\"count\\\": 1, \\\"percentage\\\": \\\"14.2857%\\\", \\\"label_idx\\\": 5, \\\"label\\\": \\\"Ward\\\"}, {\\\"count\\\": 1, \\\"percentage\\\": \\\"14.2857%\\\", \\\"label_idx\\\": 6, \\\"label\\\": \\\"Williams\\\"}], \\\"num_missing\\\": 0, \\\"num_unique\\\": 7, \\\"numeric\\\": [], \\\"type\\\": \\\"str\\\"}, {\\\"a\\\": 2, \\\"num_row\\\": 7, \\\"title\\\": \\\"Country\\\", \\\"categorical\\\": [{\\\"count\\\": 2, \\\"percentage\\\": \\\"28.5714%\\\", \\\"label_idx\\\": 0, \\\"label\\\": \\\"United States\\\"}, {\\\"count\\\": 1, \\\"percentage\\\": \\\"14.2857%\\\", \\\"label_idx\\\": 1, \\\"label\\\": \\\"Canada\\\"}, {\\\"count\\\": 1, \\\"percentage\\\": \\\"14.2857%\\\", \\\"label_idx\\\": 2, \\\"label\\\": \\\"England\\\"}, {\\\"count\\\": 1, \\\"percentage\\\": \\\"14.2857%\\\", \\\"label_idx\\\": 3, \\\"label\\\": \\\"Poland\\\"}, {\\\"count\\\": 1, \\\"percentage\\\": \\\"14.2857%\\\", \\\"label_idx\\\": 4, \\\"label\\\": \\\"Switzerland\\\"}, {\\\"count\\\": 1, \\\"percentage\\\": \\\"14.2857%\\\", \\\"label_idx\\\": 5, \\\"label\\\": \\\"USA\\\"}], \\\"num_missing\\\": 0, \\\"num_unique\\\": 6, \\\"numeric\\\": [], \\\"type\\\": \\\"str\\\"}, {\\\"a\\\": 3, \\\"num_row\\\": 7, \\\"title\\\": \\\"age\\\", \\\"max\\\": 25.0, \\\"min\\\": 22.0, \\\"median\\\": 23.0, \\\"num_missing\\\": 0, \\\"num_unique\\\": 4, \\\"categorical\\\": [], \\\"numeric\\\": [{\\\"count\\\": 2, \\\"right\\\": 22.136, \\\"left\\\": 21.984}, {\\\"count\\\": 0, \\\"right\\\": 22.288, \\\"left\\\": 22.136}, {\\\"count\\\": 0, \\\"right\\\": 22.44, \\\"left\\\": 22.288}, {\\\"count\\\": 0, \\\"right\\\": 22.592, \\\"left\\\": 22.44}, {\\\"count\\\": 0, \\\"right\\\": 22.744, \\\"left\\\": 22.592}, {\\\"count\\\": 0, \\\"right\\\": 22.896, \\\"left\\\": 22.744}, {\\\"count\\\": 3, \\\"right\\\": 23.048, \\\"left\\\": 22.896}, {\\\"count\\\": 0, \\\"right\\\": 23.2, \\\"left\\\": 23.048}, {\\\"count\\\": 0, \\\"right\\\": 23.352, \\\"left\\\": 23.2}, {\\\"count\\\": 0, \\\"right\\\": 23.504, \\\"left\\\": 23.352}, {\\\"count\\\": 0, \\\"right\\\": 23.656, \\\"left\\\": 23.504}, {\\\"count\\\": 0, \\\"right\\\": 23.808, \\\"left\\\": 23.656}, {\\\"count\\\": 0, \\\"right\\\": 23.96, \\\"left\\\": 23.808}, {\\\"count\\\": 1, \\\"right\\\": 24.112, \\\"left\\\": 23.96}, {\\\"count\\\": 0, \\\"right\\\": 24.264, \\\"left\\\": 24.112}, {\\\"count\\\": 0, \\\"right\\\": 24.416, \\\"left\\\": 24.264}, {\\\"count\\\": 0, \\\"right\\\": 24.568, \\\"left\\\": 24.416}, {\\\"count\\\": 0, \\\"right\\\": 24.72, \\\"left\\\": 24.568}, {\\\"count\\\": 0, \\\"right\\\": 24.872, \\\"left\\\": 24.72}, {\\\"count\\\": 1, \\\"right\\\": 25.024, \\\"left\\\": 24.872}], \\\"stdev\\\": 0.989743, \\\"type\\\": \\\"integer\\\", \\\"mean\\\": 23.142857}], \\\"name\\\": \\\"source_2\\\"}, {\\\"source\\\": \\\"source_2\\\", \\\"name\\\": \\\"data_2\\\", \\\"transform\\\": [{\\\"expr\\\": \\\"20\\\", \\\"as\\\": \\\"c_x_axis_back\\\", \\\"type\\\": \\\"formula\\\"}, {\\\"expr\\\": \\\"toNumber(datum[\\\\\\\"a\\\\\\\"])*300+66\\\", \\\"as\\\": \\\"c_main_background\\\", \\\"type\\\": \\\"formula\\\"}, {\\\"expr\\\": \\\"toNumber(datum[\\\\\\\"a\\\\\\\"])*300+43\\\", \\\"as\\\": \\\"c_top_bar\\\", \\\"type\\\": \\\"formula\\\"}, {\\\"expr\\\": \\\"toNumber(datum[\\\\\\\"a\\\\\\\"])*300+59\\\", \\\"as\\\": \\\"c_top_title\\\", \\\"type\\\": \\\"formula\\\"}, {\\\"expr\\\": \\\"toNumber(datum[\\\\\\\"a\\\\\\\"])*300+58\\\", \\\"as\\\": \\\"c_top_type\\\", \\\"type\\\": \\\"formula\\\"}, {\\\"expr\\\": \\\"toNumber(datum[\\\\\\\"a\\\\\\\"])*300+178\\\", \\\"as\\\": \\\"c_rule\\\", \\\"type\\\": \\\"formula\\\"}, {\\\"expr\\\": \\\"toNumber(datum[\\\\\\\"a\\\\\\\"])*300+106\\\", \\\"as\\\": \\\"c_num_rows\\\", \\\"type\\\": \\\"formula\\\"}, {\\\"expr\\\": \\\"toNumber(datum[\\\\\\\"a\\\\\\\"])*300+130\\\", \\\"as\\\": \\\"c_num_unique\\\", \\\"type\\\": \\\"formula\\\"}, {\\\"expr\\\": \\\"toNumber(datum[\\\\\\\"a\\\\\\\"])*300+154\\\", \\\"as\\\": \\\"c_missing\\\", \\\"type\\\": \\\"formula\\\"}, {\\\"expr\\\": \\\"toNumber(datum[\\\\\\\"a\\\\\\\"])*300+105\\\", \\\"as\\\": \\\"c_num_rows_val\\\", \\\"type\\\": \\\"formula\\\"}, {\\\"expr\\\": \\\"toNumber(datum[\\\\\\\"a\\\\\\\"])*300+130\\\", \\\"as\\\": \\\"c_num_unique_val\\\", \\\"type\\\": \\\"formula\\\"}, {\\\"expr\\\": \\\"toNumber(datum[\\\\\\\"a\\\\\\\"])*300+154\\\", \\\"as\\\": \\\"c_missing_val\\\", \\\"type\\\": \\\"formula\\\"}, {\\\"expr\\\": \\\"toNumber(datum[\\\\\\\"a\\\\\\\"])*300+195\\\", \\\"as\\\": \\\"c_frequent_items\\\", \\\"type\\\": \\\"formula\\\"}, {\\\"expr\\\": \\\"toNumber(datum[\\\\\\\"a\\\\\\\"])*300+218\\\", \\\"as\\\": \\\"c_first_item\\\", \\\"type\\\": \\\"formula\\\"}, {\\\"expr\\\": \\\"toNumber(datum[\\\\\\\"a\\\\\\\"])*300+235\\\", \\\"as\\\": \\\"c_second_item\\\", \\\"type\\\": \\\"formula\\\"}, {\\\"expr\\\": \\\"toNumber(datum[\\\\\\\"a\\\\\\\"])*300+252\\\", \\\"as\\\": \\\"c_third_item\\\", \\\"type\\\": \\\"formula\\\"}, {\\\"expr\\\": \\\"toNumber(datum[\\\\\\\"a\\\\\\\"])*300+269\\\", \\\"as\\\": \\\"c_fourth_item\\\", \\\"type\\\": \\\"formula\\\"}, {\\\"expr\\\": \\\"toNumber(datum[\\\\\\\"a\\\\\\\"])*300+286\\\", \\\"as\\\": \\\"c_fifth_item\\\", \\\"type\\\": \\\"formula\\\"}, {\\\"expr\\\": \\\"toNumber(datum[\\\\\\\"a\\\\\\\"])*300+200\\\", \\\"as\\\": \\\"c_mean\\\", \\\"type\\\": \\\"formula\\\"}, {\\\"expr\\\": \\\"toNumber(datum[\\\\\\\"a\\\\\\\"])*300+220\\\", \\\"as\\\": \\\"c_min\\\", \\\"type\\\": \\\"formula\\\"}, {\\\"expr\\\": \\\"toNumber(datum[\\\\\\\"a\\\\\\\"])*300+240\\\", \\\"as\\\": \\\"c_max\\\", \\\"type\\\": \\\"formula\\\"}, {\\\"expr\\\": \\\"toNumber(datum[\\\\\\\"a\\\\\\\"])*300+260\\\", \\\"as\\\": \\\"c_median\\\", \\\"type\\\": \\\"formula\\\"}, {\\\"expr\\\": \\\"toNumber(datum[\\\\\\\"a\\\\\\\"])*300+280\\\", \\\"as\\\": \\\"c_stdev\\\", \\\"type\\\": \\\"formula\\\"}, {\\\"expr\\\": \\\"toNumber(datum[\\\\\\\"a\\\\\\\"])*300+198\\\", \\\"as\\\": \\\"c_mean_val\\\", \\\"type\\\": \\\"formula\\\"}, {\\\"expr\\\": \\\"toNumber(datum[\\\\\\\"a\\\\\\\"])*300+218\\\", \\\"as\\\": \\\"c_min_val\\\", \\\"type\\\": \\\"formula\\\"}, {\\\"expr\\\": \\\"toNumber(datum[\\\\\\\"a\\\\\\\"])*300+238\\\", \\\"as\\\": \\\"c_max_val\\\", \\\"type\\\": \\\"formula\\\"}, {\\\"expr\\\": \\\"toNumber(datum[\\\\\\\"a\\\\\\\"])*300+258\\\", \\\"as\\\": \\\"c_median_val\\\", \\\"type\\\": \\\"formula\\\"}, {\\\"expr\\\": \\\"toNumber(datum[\\\\\\\"a\\\\\\\"])*300+278\\\", \\\"as\\\": \\\"c_stdev_val\\\", \\\"type\\\": \\\"formula\\\"}, {\\\"expr\\\": \\\"toNumber(datum[\\\\\\\"a\\\\\\\"])*300+106\\\", \\\"as\\\": \\\"graph_offset\\\", \\\"type\\\": \\\"formula\\\"}, {\\\"expr\\\": \\\"toNumber(datum[\\\\\\\"a\\\\\\\"])*300+132\\\", \\\"as\\\": \\\"graph_offset_categorical\\\", \\\"type\\\": \\\"formula\\\"}, {\\\"expr\\\": \\\"(toString(datum[\\\\\\\"type\\\\\\\"]) == \\\\\\\"integer\\\\\\\" || toString(datum[\\\\\\\"type\\\\\\\"]) == \\\\\\\"float\\\\\\\")?false:true\\\", \\\"as\\\": \\\"c_clip_val\\\", \\\"type\\\": \\\"formula\\\"}, {\\\"expr\\\": \\\"(toString(datum[\\\\\\\"type\\\\\\\"]) == \\\\\\\"integer\\\\\\\" || toString(datum[\\\\\\\"type\\\\\\\"]) == \\\\\\\"float\\\\\\\")?250:0\\\", \\\"as\\\": \\\"c_width_numeric_val\\\", \\\"type\\\": \\\"formula\\\"}, {\\\"expr\\\": \\\"(toString(datum[\\\\\\\"type\\\\\\\"]) == \\\\\\\"str\\\\\\\")?false:true\\\", \\\"as\\\": \\\"c_clip_val_cat\\\", \\\"type\\\": \\\"formula\\\"}, {\\\"expr\\\": \\\"(toString(datum[\\\\\\\"type\\\\\\\"]) == \\\\\\\"str\\\\\\\")?250:0\\\", \\\"as\\\": \\\"c_width_numeric_val_cat\\\", \\\"type\\\": \\\"formula\\\"}]}], \\\"metadata\\\": {\\\"bubbleOpts\\\": {\\\"fields\\\": [{\\\"field\\\": \\\"left\\\"}, {\\\"field\\\": \\\"right\\\"}, {\\\"field\\\": \\\"count\\\"}, {\\\"field\\\": \\\"label\\\"}], \\\"showAllFields\\\": false}}}\";                                 var vega_json_parsed = JSON.parse(vega_json);                                 var toolTipOpts = {                                     showAllFields: true                                 };                                 if(vega_json_parsed[\"metadata\"] != null){                                     if(vega_json_parsed[\"metadata\"][\"bubbleOpts\"] != null){                                         toolTipOpts = vega_json_parsed[\"metadata\"][\"bubbleOpts\"];                                     };                                 };                                 vegaEmbed(\"#vis\", vega_json_parsed).then(function (result) {                                     vegaTooltip.vega(result.view, toolTipOpts);                                  });                             </script>                         </body>                     </html>' src=\"demo_iframe_srcdoc.htm\">                         <p>Your browser does not support iframes.</p>                     </iframe>                 </body>             </html>"
            ],
            "text/plain": [
              "<IPython.core.display.HTML object>"
            ]
          },
          "metadata": {}
        }
      ],
      "execution_count": 70,
      "metadata": {
        "collapsed": false
      }
    },
    {
      "cell_type": "code",
      "source": [
        "sf['Full Name'] = sf['First Name'] + ' ' + sf['Last Name']"
      ],
      "outputs": [],
      "execution_count": 71,
      "metadata": {
        "collapsed": false
      }
    },
    {
      "cell_type": "code",
      "source": [
        "sf"
      ],
      "outputs": [
        {
          "output_type": "execute_result",
          "execution_count": 72,
          "data": {
            "text/html": [
              "<div style=\"max-height:1000px;max-width:1500px;overflow:auto;\"><table frame=\"box\" rules=\"cols\">\n",
              "    <tr>\n",
              "        <th style=\"padding-left: 1em; padding-right: 1em; text-align: center\">First Name</th>\n",
              "        <th style=\"padding-left: 1em; padding-right: 1em; text-align: center\">Last Name</th>\n",
              "        <th style=\"padding-left: 1em; padding-right: 1em; text-align: center\">Country</th>\n",
              "        <th style=\"padding-left: 1em; padding-right: 1em; text-align: center\">age</th>\n",
              "        <th style=\"padding-left: 1em; padding-right: 1em; text-align: center\">Full Name</th>\n",
              "    </tr>\n",
              "    <tr>\n",
              "        <td style=\"padding-left: 1em; padding-right: 1em; text-align: center; vertical-align: top\">Bob</td>\n",
              "        <td style=\"padding-left: 1em; padding-right: 1em; text-align: center; vertical-align: top\">Smith</td>\n",
              "        <td style=\"padding-left: 1em; padding-right: 1em; text-align: center; vertical-align: top\">United States</td>\n",
              "        <td style=\"padding-left: 1em; padding-right: 1em; text-align: center; vertical-align: top\">24</td>\n",
              "        <td style=\"padding-left: 1em; padding-right: 1em; text-align: center; vertical-align: top\">Bob Smith</td>\n",
              "    </tr>\n",
              "    <tr>\n",
              "        <td style=\"padding-left: 1em; padding-right: 1em; text-align: center; vertical-align: top\">Alice</td>\n",
              "        <td style=\"padding-left: 1em; padding-right: 1em; text-align: center; vertical-align: top\">Williams</td>\n",
              "        <td style=\"padding-left: 1em; padding-right: 1em; text-align: center; vertical-align: top\">Canada</td>\n",
              "        <td style=\"padding-left: 1em; padding-right: 1em; text-align: center; vertical-align: top\">23</td>\n",
              "        <td style=\"padding-left: 1em; padding-right: 1em; text-align: center; vertical-align: top\">Alice Williams</td>\n",
              "    </tr>\n",
              "    <tr>\n",
              "        <td style=\"padding-left: 1em; padding-right: 1em; text-align: center; vertical-align: top\">Malcolm</td>\n",
              "        <td style=\"padding-left: 1em; padding-right: 1em; text-align: center; vertical-align: top\">Jone</td>\n",
              "        <td style=\"padding-left: 1em; padding-right: 1em; text-align: center; vertical-align: top\">England</td>\n",
              "        <td style=\"padding-left: 1em; padding-right: 1em; text-align: center; vertical-align: top\">22</td>\n",
              "        <td style=\"padding-left: 1em; padding-right: 1em; text-align: center; vertical-align: top\">Malcolm Jone</td>\n",
              "    </tr>\n",
              "    <tr>\n",
              "        <td style=\"padding-left: 1em; padding-right: 1em; text-align: center; vertical-align: top\">Felix</td>\n",
              "        <td style=\"padding-left: 1em; padding-right: 1em; text-align: center; vertical-align: top\">Brown</td>\n",
              "        <td style=\"padding-left: 1em; padding-right: 1em; text-align: center; vertical-align: top\">USA</td>\n",
              "        <td style=\"padding-left: 1em; padding-right: 1em; text-align: center; vertical-align: top\">23</td>\n",
              "        <td style=\"padding-left: 1em; padding-right: 1em; text-align: center; vertical-align: top\">Felix Brown</td>\n",
              "    </tr>\n",
              "    <tr>\n",
              "        <td style=\"padding-left: 1em; padding-right: 1em; text-align: center; vertical-align: top\">Alex</td>\n",
              "        <td style=\"padding-left: 1em; padding-right: 1em; text-align: center; vertical-align: top\">Cooper</td>\n",
              "        <td style=\"padding-left: 1em; padding-right: 1em; text-align: center; vertical-align: top\">Poland</td>\n",
              "        <td style=\"padding-left: 1em; padding-right: 1em; text-align: center; vertical-align: top\">23</td>\n",
              "        <td style=\"padding-left: 1em; padding-right: 1em; text-align: center; vertical-align: top\">Alex Cooper</td>\n",
              "    </tr>\n",
              "    <tr>\n",
              "        <td style=\"padding-left: 1em; padding-right: 1em; text-align: center; vertical-align: top\">Tod</td>\n",
              "        <td style=\"padding-left: 1em; padding-right: 1em; text-align: center; vertical-align: top\">Campbell</td>\n",
              "        <td style=\"padding-left: 1em; padding-right: 1em; text-align: center; vertical-align: top\">United States</td>\n",
              "        <td style=\"padding-left: 1em; padding-right: 1em; text-align: center; vertical-align: top\">22</td>\n",
              "        <td style=\"padding-left: 1em; padding-right: 1em; text-align: center; vertical-align: top\">Tod Campbell</td>\n",
              "    </tr>\n",
              "    <tr>\n",
              "        <td style=\"padding-left: 1em; padding-right: 1em; text-align: center; vertical-align: top\">Derek</td>\n",
              "        <td style=\"padding-left: 1em; padding-right: 1em; text-align: center; vertical-align: top\">Ward</td>\n",
              "        <td style=\"padding-left: 1em; padding-right: 1em; text-align: center; vertical-align: top\">Switzerland</td>\n",
              "        <td style=\"padding-left: 1em; padding-right: 1em; text-align: center; vertical-align: top\">25</td>\n",
              "        <td style=\"padding-left: 1em; padding-right: 1em; text-align: center; vertical-align: top\">Derek Ward</td>\n",
              "    </tr>\n",
              "</table>\n",
              "[7 rows x 5 columns]<br/>\n",
              "</div>"
            ],
            "text/plain": [
              "Columns:\n",
              "\tFirst Name\tstr\n",
              "\tLast Name\tstr\n",
              "\tCountry\tstr\n",
              "\tage\tint\n",
              "\tFull Name\tstr\n",
              "\n",
              "Rows: 7\n",
              "\n",
              "Data:\n",
              "+------------+-----------+---------------+-----+----------------+\n",
              "| First Name | Last Name |    Country    | age |   Full Name    |\n",
              "+------------+-----------+---------------+-----+----------------+\n",
              "|    Bob     |   Smith   | United States |  24 |   Bob Smith    |\n",
              "|   Alice    |  Williams |     Canada    |  23 | Alice Williams |\n",
              "|  Malcolm   |    Jone   |    England    |  22 |  Malcolm Jone  |\n",
              "|   Felix    |   Brown   |      USA      |  23 |  Felix Brown   |\n",
              "|    Alex    |   Cooper  |     Poland    |  23 |  Alex Cooper   |\n",
              "|    Tod     |  Campbell | United States |  22 |  Tod Campbell  |\n",
              "|   Derek    |    Ward   |  Switzerland  |  25 |   Derek Ward   |\n",
              "+------------+-----------+---------------+-----+----------------+\n",
              "[7 rows x 5 columns]"
            ]
          },
          "metadata": {}
        }
      ],
      "execution_count": 72,
      "metadata": {
        "collapsed": false
      }
    },
    {
      "cell_type": "code",
      "source": [
        "sf['age'] * sf['age']"
      ],
      "outputs": [
        {
          "output_type": "execute_result",
          "execution_count": 73,
          "data": {
            "text/plain": [
              "dtype: int\n",
              "Rows: 7\n",
              "[576, 529, 484, 529, 529, 484, 625]"
            ]
          },
          "metadata": {}
        }
      ],
      "execution_count": 73,
      "metadata": {
        "collapsed": false
      }
    },
    {
      "cell_type": "markdown",
      "source": [
        "# Use the apply function to do a advance transformation of our data"
      ],
      "metadata": {}
    },
    {
      "cell_type": "code",
      "source": [
        "sf['Country']"
      ],
      "outputs": [
        {
          "output_type": "execute_result",
          "execution_count": 74,
          "data": {
            "text/plain": [
              "dtype: str\n",
              "Rows: 7\n",
              "['United States', 'Canada', 'England', 'USA', 'Poland', 'United States', 'Switzerland']"
            ]
          },
          "metadata": {}
        }
      ],
      "execution_count": 74,
      "metadata": {
        "collapsed": false
      }
    },
    {
      "cell_type": "code",
      "source": [
        "sf['Country'].show()"
      ],
      "outputs": [
        {
          "output_type": "display_data",
          "data": {
            "text/html": [
              "<pre>Materializing SArray</pre>"
            ],
            "text/plain": [
              "Materializing SArray"
            ]
          },
          "metadata": {}
        },
        {
          "output_type": "display_data",
          "data": {
            "text/html": [
              "<html>                 <body>                     <iframe style=\"border:0;margin:0\" width=\"920\" height=\"770\" srcdoc='<html lang=\"en\">                         <head>                             <script src=\"https://cdnjs.cloudflare.com/ajax/libs/vega/3.0.8/vega.js\"></script>                             <script src=\"https://cdnjs.cloudflare.com/ajax/libs/vega-embed/3.0.0-rc7/vega-embed.js\"></script>                             <script src=\"https://cdnjs.cloudflare.com/ajax/libs/vega-tooltip/0.5.1/vega-tooltip.min.js\"></script>                             <link rel=\"stylesheet\" type=\"text/css\" href=\"https://cdnjs.cloudflare.com/ajax/libs/vega-tooltip/0.5.1/vega-tooltip.min.css\">                             <style>                             .vega-actions > a{                                 color:white;                                 text-decoration: none;                                 font-family: \"Arial\";                                 cursor:pointer;                                 padding:5px;                                 background:#AAAAAA;                                 border-radius:4px;                                 padding-left:10px;                                 padding-right:10px;                                 margin-right:5px;                             }                             .vega-actions{                                 margin-top:20px;                                 text-align:center                             }                            .vega-actions > a{                                 background:#999999;                            }                             </style>                         </head>                         <body>                             <div id=\"vis\">                             </div>                             <script>                                 var vega_json = \"{\\\"signals\\\": [{\\\"on\\\": [{\\\"events\\\": \\\"mousemove\\\", \\\"update\\\": \\\"isTuple(group()) ? group() : unit\\\"}], \\\"name\\\": \\\"unit\\\", \\\"value\\\": {}}, {\\\"name\\\": \\\"pts_store\\\", \\\"update\\\": \\\"data(\\\\\\\"pts_store_store\\\\\\\").length &amp;&amp; {count: data(\\\\\\\"pts_store_store\\\\\\\")[0].values[0]}\\\"}, {\\\"on\\\": [{\\\"force\\\": true, \\\"events\\\": [{\\\"source\\\": \\\"scope\\\", \\\"type\\\": \\\"click\\\"}], \\\"update\\\": \\\"datum &amp;&amp; item().mark.marktype !== &apos;group&apos; ? {unit: \\\\\\\"\\\\\\\", encodings: [\\\\\\\"x\\\\\\\"], fields: [\\\\\\\"count\\\\\\\"], values: [datum[\\\\\\\"count\\\\\\\"]]} : null\\\"}], \\\"name\\\": \\\"pts_store_tuple\\\", \\\"value\\\": {}}, {\\\"on\\\": [{\\\"events\\\": {\\\"signal\\\": \\\"pts_store_tuple\\\"}, \\\"update\\\": \\\"modify(\\\\\\\"pts_store_store\\\\\\\", pts_store_tuple, true)\\\"}], \\\"name\\\": \\\"pts_store_modify\\\"}], \\\"autosize\\\": {\\\"contains\\\": \\\"padding\\\", \\\"type\\\": \\\"fit\\\", \\\"resize\\\": false}, \\\"axes\\\": [{\\\"scale\\\": \\\"x\\\", \\\"title\\\": \\\"Values\\\", \\\"tickCount\\\": {\\\"signal\\\": \\\"ceil(width/40)\\\"}, \\\"zindex\\\": 1, \\\"labelOverlap\\\": true, \\\"orient\\\": \\\"top\\\"}, {\\\"domain\\\": false, \\\"scale\\\": \\\"x\\\", \\\"ticks\\\": false, \\\"labels\\\": false, \\\"tickCount\\\": {\\\"signal\\\": \\\"ceil(width/40)\\\"}, \\\"zindex\\\": 0, \\\"grid\\\": true, \\\"minExtent\\\": 0, \\\"gridScale\\\": \\\"y\\\", \\\"orient\\\": \\\"top\\\", \\\"maxExtent\\\": 0}, {\\\"zindex\\\": 1, \\\"title\\\": \\\"Count\\\", \\\"scale\\\": \\\"y\\\", \\\"orient\\\": \\\"left\\\", \\\"labelOverlap\\\": true}], \\\"title\\\": \\\"Distribution of Values [string]\\\", \\\"config\\\": {\\\"style\\\": {\\\"cell\\\": {\\\"stroke\\\": \\\"transparent\\\"}, \\\"rect\\\": {\\\"stroke\\\": \\\"rgba(200, 200, 200, 0.5)\\\"}, \\\"group-title\\\": {\\\"fontWeight\\\": \\\"normal\\\", \\\"font\\\": \\\"HelveticaNeue, Arial\\\", \\\"fontSize\\\": 29, \\\"fill\\\": \\\"rgba(0,0,0,0.65)\\\"}}, \\\"title\\\": {\\\"color\\\": \\\"rgba(0,0,0,0.847)\\\", \\\"fontWeight\\\": \\\"normal\\\", \\\"font\\\": \\\"\\\\\\\"San Francisco\\\\\\\", HelveticaNeue, Arial\\\", \\\"fontSize\\\": 18, \\\"offset\\\": 30}, \\\"axisY\\\": {\\\"minExtent\\\": 30}, \\\"range\\\": {\\\"heatmap\\\": {\\\"scheme\\\": \\\"greenblue\\\"}}, \\\"legend\\\": {\\\"labelFont\\\": \\\"\\\\\\\"San Francisco\\\\\\\", HelveticaNeue, Arial\\\", \\\"labelColor\\\": \\\"rgba(0,0,0,0.847)\\\", \\\"titleFont\\\": \\\"\\\\\\\"San Francisco\\\\\\\", HelveticaNeue, Arial\\\", \\\"cornerRadius\\\": 30, \\\"titleColor\\\": \\\"rgba(0,0,0,0.847)\\\", \\\"gradientLength\\\": 608}, \\\"axis\\\": {\\\"titlePadding\\\": 20, \\\"titleColor\\\": \\\"rgba(0,0,0,0.847)\\\", \\\"titleFont\\\": \\\"\\\\\\\"San Francisco\\\\\\\", HelveticaNeue, Arial\\\", \\\"labelPadding\\\": 10, \\\"labelFont\\\": \\\"\\\\\\\"San Francisco\\\\\\\", HelveticaNeue, Arial\\\", \\\"labelFontSize\\\": 12, \\\"labelColor\\\": \\\"rgba(0,0,0,0.847)\\\", \\\"gridColor\\\": \\\"rgba(204,204,204,1.0)\\\", \\\"titleFontSize\\\": 14, \\\"tickColor\\\": \\\"rgb(136,136,136)\\\", \\\"titleFontWeight\\\": \\\"normal\\\"}}, \\\"scales\\\": [{\\\"domain\\\": {\\\"field\\\": \\\"count\\\", \\\"data\\\": \\\"data_0\\\"}, \\\"name\\\": \\\"x\\\", \\\"zero\\\": true, \\\"range\\\": [0, {\\\"signal\\\": \\\"width\\\"}], \\\"type\\\": \\\"linear\\\", \\\"nice\\\": true}, {\\\"paddingInner\\\": 0.1, \\\"domain\\\": {\\\"sort\\\": {\\\"field\\\": \\\"label_idx\\\", \\\"order\\\": \\\"descending\\\", \\\"op\\\": \\\"mean\\\"}, \\\"field\\\": \\\"label\\\", \\\"data\\\": \\\"data_0\\\"}, \\\"name\\\": \\\"y\\\", \\\"paddingOuter\\\": 0.05, \\\"range\\\": [{\\\"signal\\\": \\\"height\\\"}, 0], \\\"type\\\": \\\"band\\\"}], \\\"style\\\": \\\"cell\\\", \\\"height\\\": 550, \\\"padding\\\": 8, \\\"width\\\": 720, \\\"marks\\\": [{\\\"encode\\\": {\\\"hover\\\": {\\\"fill\\\": {\\\"value\\\": \\\"#7EC2F3\\\"}}, \\\"update\\\": {\\\"x2\\\": {\\\"scale\\\": \\\"x\\\", \\\"value\\\": 0}, \\\"x\\\": {\\\"field\\\": \\\"count\\\", \\\"scale\\\": \\\"x\\\"}, \\\"fill\\\": {\\\"value\\\": \\\"#108EE9\\\"}, \\\"y\\\": {\\\"field\\\": \\\"label\\\", \\\"scale\\\": \\\"y\\\"}, \\\"height\\\": {\\\"band\\\": true, \\\"scale\\\": \\\"y\\\"}}}, \\\"from\\\": {\\\"data\\\": \\\"data_0\\\"}, \\\"style\\\": [\\\"bar\\\"], \\\"type\\\": \\\"rect\\\", \\\"name\\\": \\\"marks\\\"}], \\\"$schema\\\": \\\"https://vega.github.io/schema/vega/v4.json\\\", \\\"data\\\": [{\\\"name\\\": \\\"pts_store_store\\\"}, {\\\"values\\\": [{\\\"count\\\": 2, \\\"percentage\\\": \\\"28.5714%\\\", \\\"label_idx\\\": 0, \\\"label\\\": \\\"United States\\\"}, {\\\"count\\\": 1, \\\"percentage\\\": \\\"14.2857%\\\", \\\"label_idx\\\": 1, \\\"label\\\": \\\"Canada\\\"}, {\\\"count\\\": 1, \\\"percentage\\\": \\\"14.2857%\\\", \\\"label_idx\\\": 2, \\\"label\\\": \\\"England\\\"}, {\\\"count\\\": 1, \\\"percentage\\\": \\\"14.2857%\\\", \\\"label_idx\\\": 3, \\\"label\\\": \\\"Poland\\\"}, {\\\"count\\\": 1, \\\"percentage\\\": \\\"14.2857%\\\", \\\"label_idx\\\": 4, \\\"label\\\": \\\"Switzerland\\\"}, {\\\"count\\\": 1, \\\"percentage\\\": \\\"14.2857%\\\", \\\"label_idx\\\": 5, \\\"label\\\": \\\"USA\\\"}], \\\"name\\\": \\\"source_2\\\"}, {\\\"source\\\": \\\"source_2\\\", \\\"name\\\": \\\"data_0\\\", \\\"transform\\\": [{\\\"expr\\\": \\\"toNumber(datum[\\\\\\\"count\\\\\\\"])\\\", \\\"as\\\": \\\"count\\\", \\\"type\\\": \\\"formula\\\"}, {\\\"expr\\\": \\\"datum[\\\\\\\"count\\\\\\\"] !== null &amp;&amp; !isNaN(datum[\\\\\\\"count\\\\\\\"])\\\", \\\"type\\\": \\\"filter\\\"}]}], \\\"metadata\\\": {\\\"bubbleOpts\\\": {\\\"fields\\\": [{\\\"field\\\": \\\"count\\\"}, {\\\"field\\\": \\\"label\\\"}, {\\\"field\\\": \\\"percentage\\\"}], \\\"showAllFields\\\": false}}}\";                                 var vega_json_parsed = JSON.parse(vega_json);                                 var toolTipOpts = {                                     showAllFields: true                                 };                                 if(vega_json_parsed[\"metadata\"] != null){                                     if(vega_json_parsed[\"metadata\"][\"bubbleOpts\"] != null){                                         toolTipOpts = vega_json_parsed[\"metadata\"][\"bubbleOpts\"];                                     };                                 };                                 vegaEmbed(\"#vis\", vega_json_parsed).then(function (result) {                                     vegaTooltip.vega(result.view, toolTipOpts);                                  });                             </script>                         </body>                     </html>' src=\"demo_iframe_srcdoc.htm\">                         <p>Your browser does not support iframes.</p>                     </iframe>                 </body>             </html>"
            ],
            "text/plain": [
              "<IPython.core.display.HTML object>"
            ]
          },
          "metadata": {}
        }
      ],
      "execution_count": 75,
      "metadata": {
        "collapsed": false
      }
    },
    {
      "cell_type": "code",
      "source": [
        "def transform_country(country):\n",
        "    if country == 'USA':\n",
        "        return 'United States'\n",
        "    else:\n",
        "        return country"
      ],
      "outputs": [],
      "execution_count": 76,
      "metadata": {
        "collapsed": true
      }
    },
    {
      "cell_type": "code",
      "source": [
        "transform_country('Brazil')"
      ],
      "outputs": [
        {
          "output_type": "execute_result",
          "execution_count": 77,
          "data": {
            "text/plain": [
              "'Brazil'"
            ]
          },
          "metadata": {}
        }
      ],
      "execution_count": 77,
      "metadata": {
        "collapsed": false
      }
    },
    {
      "cell_type": "code",
      "source": [
        "transform_country('Brasil')"
      ],
      "outputs": [
        {
          "output_type": "execute_result",
          "execution_count": 78,
          "data": {
            "text/plain": [
              "'Brasil'"
            ]
          },
          "metadata": {}
        }
      ],
      "execution_count": 78,
      "metadata": {
        "collapsed": false
      }
    },
    {
      "cell_type": "code",
      "source": [
        "transform_country('USA')"
      ],
      "outputs": [
        {
          "output_type": "execute_result",
          "execution_count": 79,
          "data": {
            "text/plain": [
              "'United States'"
            ]
          },
          "metadata": {}
        }
      ],
      "execution_count": 79,
      "metadata": {
        "collapsed": false
      }
    },
    {
      "cell_type": "code",
      "source": [
        "sf['Country'].apply(transform_country)"
      ],
      "outputs": [
        {
          "output_type": "execute_result",
          "execution_count": 80,
          "data": {
            "text/plain": [
              "dtype: str\n",
              "Rows: 7\n",
              "['United States', 'Canada', 'England', 'United States', 'Poland', 'United States', 'Switzerland']"
            ]
          },
          "metadata": {}
        }
      ],
      "execution_count": 80,
      "metadata": {
        "collapsed": false
      }
    },
    {
      "cell_type": "code",
      "source": [
        "sf['Country'] = sf['Country'].apply(transform_country)"
      ],
      "outputs": [],
      "execution_count": 81,
      "metadata": {
        "collapsed": true
      }
    },
    {
      "cell_type": "code",
      "source": [
        "sf"
      ],
      "outputs": [
        {
          "output_type": "execute_result",
          "execution_count": 82,
          "data": {
            "text/html": [
              "<div style=\"max-height:1000px;max-width:1500px;overflow:auto;\"><table frame=\"box\" rules=\"cols\">\n",
              "    <tr>\n",
              "        <th style=\"padding-left: 1em; padding-right: 1em; text-align: center\">First Name</th>\n",
              "        <th style=\"padding-left: 1em; padding-right: 1em; text-align: center\">Last Name</th>\n",
              "        <th style=\"padding-left: 1em; padding-right: 1em; text-align: center\">Country</th>\n",
              "        <th style=\"padding-left: 1em; padding-right: 1em; text-align: center\">age</th>\n",
              "        <th style=\"padding-left: 1em; padding-right: 1em; text-align: center\">Full Name</th>\n",
              "    </tr>\n",
              "    <tr>\n",
              "        <td style=\"padding-left: 1em; padding-right: 1em; text-align: center; vertical-align: top\">Bob</td>\n",
              "        <td style=\"padding-left: 1em; padding-right: 1em; text-align: center; vertical-align: top\">Smith</td>\n",
              "        <td style=\"padding-left: 1em; padding-right: 1em; text-align: center; vertical-align: top\">United States</td>\n",
              "        <td style=\"padding-left: 1em; padding-right: 1em; text-align: center; vertical-align: top\">24</td>\n",
              "        <td style=\"padding-left: 1em; padding-right: 1em; text-align: center; vertical-align: top\">Bob Smith</td>\n",
              "    </tr>\n",
              "    <tr>\n",
              "        <td style=\"padding-left: 1em; padding-right: 1em; text-align: center; vertical-align: top\">Alice</td>\n",
              "        <td style=\"padding-left: 1em; padding-right: 1em; text-align: center; vertical-align: top\">Williams</td>\n",
              "        <td style=\"padding-left: 1em; padding-right: 1em; text-align: center; vertical-align: top\">Canada</td>\n",
              "        <td style=\"padding-left: 1em; padding-right: 1em; text-align: center; vertical-align: top\">23</td>\n",
              "        <td style=\"padding-left: 1em; padding-right: 1em; text-align: center; vertical-align: top\">Alice Williams</td>\n",
              "    </tr>\n",
              "    <tr>\n",
              "        <td style=\"padding-left: 1em; padding-right: 1em; text-align: center; vertical-align: top\">Malcolm</td>\n",
              "        <td style=\"padding-left: 1em; padding-right: 1em; text-align: center; vertical-align: top\">Jone</td>\n",
              "        <td style=\"padding-left: 1em; padding-right: 1em; text-align: center; vertical-align: top\">England</td>\n",
              "        <td style=\"padding-left: 1em; padding-right: 1em; text-align: center; vertical-align: top\">22</td>\n",
              "        <td style=\"padding-left: 1em; padding-right: 1em; text-align: center; vertical-align: top\">Malcolm Jone</td>\n",
              "    </tr>\n",
              "    <tr>\n",
              "        <td style=\"padding-left: 1em; padding-right: 1em; text-align: center; vertical-align: top\">Felix</td>\n",
              "        <td style=\"padding-left: 1em; padding-right: 1em; text-align: center; vertical-align: top\">Brown</td>\n",
              "        <td style=\"padding-left: 1em; padding-right: 1em; text-align: center; vertical-align: top\">United States</td>\n",
              "        <td style=\"padding-left: 1em; padding-right: 1em; text-align: center; vertical-align: top\">23</td>\n",
              "        <td style=\"padding-left: 1em; padding-right: 1em; text-align: center; vertical-align: top\">Felix Brown</td>\n",
              "    </tr>\n",
              "    <tr>\n",
              "        <td style=\"padding-left: 1em; padding-right: 1em; text-align: center; vertical-align: top\">Alex</td>\n",
              "        <td style=\"padding-left: 1em; padding-right: 1em; text-align: center; vertical-align: top\">Cooper</td>\n",
              "        <td style=\"padding-left: 1em; padding-right: 1em; text-align: center; vertical-align: top\">Poland</td>\n",
              "        <td style=\"padding-left: 1em; padding-right: 1em; text-align: center; vertical-align: top\">23</td>\n",
              "        <td style=\"padding-left: 1em; padding-right: 1em; text-align: center; vertical-align: top\">Alex Cooper</td>\n",
              "    </tr>\n",
              "    <tr>\n",
              "        <td style=\"padding-left: 1em; padding-right: 1em; text-align: center; vertical-align: top\">Tod</td>\n",
              "        <td style=\"padding-left: 1em; padding-right: 1em; text-align: center; vertical-align: top\">Campbell</td>\n",
              "        <td style=\"padding-left: 1em; padding-right: 1em; text-align: center; vertical-align: top\">United States</td>\n",
              "        <td style=\"padding-left: 1em; padding-right: 1em; text-align: center; vertical-align: top\">22</td>\n",
              "        <td style=\"padding-left: 1em; padding-right: 1em; text-align: center; vertical-align: top\">Tod Campbell</td>\n",
              "    </tr>\n",
              "    <tr>\n",
              "        <td style=\"padding-left: 1em; padding-right: 1em; text-align: center; vertical-align: top\">Derek</td>\n",
              "        <td style=\"padding-left: 1em; padding-right: 1em; text-align: center; vertical-align: top\">Ward</td>\n",
              "        <td style=\"padding-left: 1em; padding-right: 1em; text-align: center; vertical-align: top\">Switzerland</td>\n",
              "        <td style=\"padding-left: 1em; padding-right: 1em; text-align: center; vertical-align: top\">25</td>\n",
              "        <td style=\"padding-left: 1em; padding-right: 1em; text-align: center; vertical-align: top\">Derek Ward</td>\n",
              "    </tr>\n",
              "</table>\n",
              "[7 rows x 5 columns]<br/>\n",
              "</div>"
            ],
            "text/plain": [
              "Columns:\n",
              "\tFirst Name\tstr\n",
              "\tLast Name\tstr\n",
              "\tCountry\tstr\n",
              "\tage\tint\n",
              "\tFull Name\tstr\n",
              "\n",
              "Rows: 7\n",
              "\n",
              "Data:\n",
              "+------------+-----------+---------------+-----+----------------+\n",
              "| First Name | Last Name |    Country    | age |   Full Name    |\n",
              "+------------+-----------+---------------+-----+----------------+\n",
              "|    Bob     |   Smith   | United States |  24 |   Bob Smith    |\n",
              "|   Alice    |  Williams |     Canada    |  23 | Alice Williams |\n",
              "|  Malcolm   |    Jone   |    England    |  22 |  Malcolm Jone  |\n",
              "|   Felix    |   Brown   | United States |  23 |  Felix Brown   |\n",
              "|    Alex    |   Cooper  |     Poland    |  23 |  Alex Cooper   |\n",
              "|    Tod     |  Campbell | United States |  22 |  Tod Campbell  |\n",
              "|   Derek    |    Ward   |  Switzerland  |  25 |   Derek Ward   |\n",
              "+------------+-----------+---------------+-----+----------------+\n",
              "[7 rows x 5 columns]"
            ]
          },
          "metadata": {}
        }
      ],
      "execution_count": 82,
      "metadata": {
        "collapsed": false
      }
    },
    {
      "cell_type": "code",
      "source": [],
      "outputs": [],
      "execution_count": 83,
      "metadata": {
        "collapsed": true
      }
    },
    {
      "cell_type": "code",
      "source": [],
      "outputs": [],
      "execution_count": null,
      "metadata": {
        "collapsed": false,
        "outputHidden": false,
        "inputHidden": false
      }
    }
  ],
  "metadata": {
    "kernelspec": {
      "name": "python2",
      "language": "python",
      "display_name": "Python 2"
    },
    "language_info": {
      "mimetype": "text/x-python",
      "nbconvert_exporter": "python",
      "name": "python",
      "pygments_lexer": "ipython2",
      "version": "2.7.15",
      "file_extension": ".py",
      "codemirror_mode": {
        "version": 2,
        "name": "ipython"
      }
    },
    "kernel_info": {
      "name": "python2"
    },
    "nteract": {
      "version": "0.12.3"
    }
  },
  "nbformat": 4,
  "nbformat_minor": 0
}