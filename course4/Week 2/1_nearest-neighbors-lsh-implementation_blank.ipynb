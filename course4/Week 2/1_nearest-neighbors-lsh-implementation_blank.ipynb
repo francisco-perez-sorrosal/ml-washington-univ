{
 "cells": [
  {
   "cell_type": "markdown",
   "metadata": {},
   "source": [
    "# Locality Sensitive Hashing"
   ]
  },
  {
   "cell_type": "markdown",
   "metadata": {},
   "source": [
    "Locality Sensitive Hashing (LSH) provides for a fast, efficient approximate nearest neighbor search. The algorithm scales well with respect to the number of data points as well as dimensions.\n",
    "\n",
    "In this assignment, you will\n",
    "* Implement the LSH algorithm for approximate nearest neighbor search\n",
    "* Examine the accuracy for different documents by comparing against brute force search, and also contrast runtimes\n",
    "* Explore the role of the algorithm’s tuning parameters in the accuracy of the method"
   ]
  },
  {
   "cell_type": "markdown",
   "metadata": {},
   "source": [
    "**Note to Amazon EC2 users**: To conserve memory, make sure to stop all the other notebooks before running this notebook."
   ]
  },
  {
   "cell_type": "markdown",
   "metadata": {},
   "source": [
    "## Import necessary packages"
   ]
  },
  {
   "cell_type": "markdown",
   "metadata": {},
   "source": [
    "The following code block will check if you have the correct version of GraphLab Create. Any version later than 1.8.5 will do. To upgrade, read [this page](https://turi.com/download/upgrade-graphlab-create.html)."
   ]
  },
  {
   "cell_type": "code",
   "execution_count": 1,
   "metadata": {},
   "outputs": [],
   "source": [
    "import numpy as np\n",
    "# import graphlab\n",
    "import turicreate as graphlab\n",
    "from scipy.sparse import csr_matrix\n",
    "from sklearn.metrics.pairwise import pairwise_distances\n",
    "import time\n",
    "from copy import copy\n",
    "import matplotlib.pyplot as plt\n",
    "%matplotlib inline\n",
    "\n",
    "'''Check GraphLab Create version'''\n",
    "from distutils.version import StrictVersion\n",
    "# assert (StrictVersion(graphlab.version) >= StrictVersion('1.8.5')), 'GraphLab Create must be version 1.8.5 or later.'\n",
    "\n",
    "'''compute norm of a sparse vector\n",
    "   Thanks to: Jaiyam Sharma'''\n",
    "def norm(x):\n",
    "    sum_sq=x.dot(x.T)\n",
    "    norm=np.sqrt(sum_sq)\n",
    "    return(norm)"
   ]
  },
  {
   "cell_type": "markdown",
   "metadata": {},
   "source": [
    "## Load in the Wikipedia dataset"
   ]
  },
  {
   "cell_type": "code",
   "execution_count": 2,
   "metadata": {},
   "outputs": [],
   "source": [
    "wiki = graphlab.SFrame('people_wiki.gl/')"
   ]
  },
  {
   "cell_type": "code",
   "execution_count": 3,
   "metadata": {},
   "outputs": [
    {
     "data": {
      "text/html": [
       "<div style=\"max-height:1000px;max-width:1500px;overflow:auto;\"><table frame=\"box\" rules=\"cols\">\n",
       "    <tr>\n",
       "        <th style=\"padding-left: 1em; padding-right: 1em; text-align: center\">URI</th>\n",
       "        <th style=\"padding-left: 1em; padding-right: 1em; text-align: center\">name</th>\n",
       "        <th style=\"padding-left: 1em; padding-right: 1em; text-align: center\">text</th>\n",
       "    </tr>\n",
       "    <tr>\n",
       "        <td style=\"padding-left: 1em; padding-right: 1em; text-align: center; vertical-align: top\">&lt;http://dbpedia.org/resou<br>rce/Digby_Morrell&gt; ...</td>\n",
       "        <td style=\"padding-left: 1em; padding-right: 1em; text-align: center; vertical-align: top\">Digby Morrell</td>\n",
       "        <td style=\"padding-left: 1em; padding-right: 1em; text-align: center; vertical-align: top\">digby morrell born 10<br>october 1979 is a former ...</td>\n",
       "    </tr>\n",
       "</table>\n",
       "[1 rows x 3 columns]<br/>\n",
       "</div>"
      ],
      "text/plain": [
       "Columns:\n",
       "\tURI\tstr\n",
       "\tname\tstr\n",
       "\ttext\tstr\n",
       "\n",
       "Rows: 1\n",
       "\n",
       "Data:\n",
       "+-------------------------------+---------------+-------------------------------+\n",
       "|              URI              |      name     |              text             |\n",
       "+-------------------------------+---------------+-------------------------------+\n",
       "| <http://dbpedia.org/resour... | Digby Morrell | digby morrell born 10 octo... |\n",
       "+-------------------------------+---------------+-------------------------------+\n",
       "[1 rows x 3 columns]"
      ]
     },
     "execution_count": 3,
     "metadata": {},
     "output_type": "execute_result"
    }
   ],
   "source": [
    "# wiki.show()\n",
    "wiki.head(1)"
   ]
  },
  {
   "cell_type": "markdown",
   "metadata": {},
   "source": [
    "For this assignment, let us assign a unique ID to each document."
   ]
  },
  {
   "cell_type": "code",
   "execution_count": 4,
   "metadata": {},
   "outputs": [
    {
     "data": {
      "text/html": [
       "<div style=\"max-height:1000px;max-width:1500px;overflow:auto;\"><table frame=\"box\" rules=\"cols\">\n",
       "    <tr>\n",
       "        <th style=\"padding-left: 1em; padding-right: 1em; text-align: center\">id</th>\n",
       "        <th style=\"padding-left: 1em; padding-right: 1em; text-align: center\">URI</th>\n",
       "        <th style=\"padding-left: 1em; padding-right: 1em; text-align: center\">name</th>\n",
       "        <th style=\"padding-left: 1em; padding-right: 1em; text-align: center\">text</th>\n",
       "    </tr>\n",
       "    <tr>\n",
       "        <td style=\"padding-left: 1em; padding-right: 1em; text-align: center; vertical-align: top\">0</td>\n",
       "        <td style=\"padding-left: 1em; padding-right: 1em; text-align: center; vertical-align: top\">&lt;http://dbpedia.org/resou<br>rce/Digby_Morrell&gt; ...</td>\n",
       "        <td style=\"padding-left: 1em; padding-right: 1em; text-align: center; vertical-align: top\">Digby Morrell</td>\n",
       "        <td style=\"padding-left: 1em; padding-right: 1em; text-align: center; vertical-align: top\">digby morrell born 10<br>october 1979 is a former ...</td>\n",
       "    </tr>\n",
       "    <tr>\n",
       "        <td style=\"padding-left: 1em; padding-right: 1em; text-align: center; vertical-align: top\">1</td>\n",
       "        <td style=\"padding-left: 1em; padding-right: 1em; text-align: center; vertical-align: top\">&lt;http://dbpedia.org/resou<br>rce/Alfred_J._Lewy&gt; ...</td>\n",
       "        <td style=\"padding-left: 1em; padding-right: 1em; text-align: center; vertical-align: top\">Alfred J. Lewy</td>\n",
       "        <td style=\"padding-left: 1em; padding-right: 1em; text-align: center; vertical-align: top\">alfred j lewy aka sandy<br>lewy graduated from ...</td>\n",
       "    </tr>\n",
       "    <tr>\n",
       "        <td style=\"padding-left: 1em; padding-right: 1em; text-align: center; vertical-align: top\">2</td>\n",
       "        <td style=\"padding-left: 1em; padding-right: 1em; text-align: center; vertical-align: top\">&lt;http://dbpedia.org/resou<br>rce/Harpdog_Brown&gt; ...</td>\n",
       "        <td style=\"padding-left: 1em; padding-right: 1em; text-align: center; vertical-align: top\">Harpdog Brown</td>\n",
       "        <td style=\"padding-left: 1em; padding-right: 1em; text-align: center; vertical-align: top\">harpdog brown is a singer<br>and harmonica player who ...</td>\n",
       "    </tr>\n",
       "    <tr>\n",
       "        <td style=\"padding-left: 1em; padding-right: 1em; text-align: center; vertical-align: top\">3</td>\n",
       "        <td style=\"padding-left: 1em; padding-right: 1em; text-align: center; vertical-align: top\">&lt;http://dbpedia.org/resou<br>rce/Franz_Rottensteiner&gt; ...</td>\n",
       "        <td style=\"padding-left: 1em; padding-right: 1em; text-align: center; vertical-align: top\">Franz Rottensteiner</td>\n",
       "        <td style=\"padding-left: 1em; padding-right: 1em; text-align: center; vertical-align: top\">franz rottensteiner born<br>in waidmannsfeld lower ...</td>\n",
       "    </tr>\n",
       "    <tr>\n",
       "        <td style=\"padding-left: 1em; padding-right: 1em; text-align: center; vertical-align: top\">4</td>\n",
       "        <td style=\"padding-left: 1em; padding-right: 1em; text-align: center; vertical-align: top\">&lt;http://dbpedia.org/resou<br>rce/G-Enka&gt; ...</td>\n",
       "        <td style=\"padding-left: 1em; padding-right: 1em; text-align: center; vertical-align: top\">G-Enka</td>\n",
       "        <td style=\"padding-left: 1em; padding-right: 1em; text-align: center; vertical-align: top\">henry krvits born 30<br>december 1974 in tallinn ...</td>\n",
       "    </tr>\n",
       "    <tr>\n",
       "        <td style=\"padding-left: 1em; padding-right: 1em; text-align: center; vertical-align: top\">5</td>\n",
       "        <td style=\"padding-left: 1em; padding-right: 1em; text-align: center; vertical-align: top\">&lt;http://dbpedia.org/resou<br>rce/Sam_Henderson&gt; ...</td>\n",
       "        <td style=\"padding-left: 1em; padding-right: 1em; text-align: center; vertical-align: top\">Sam Henderson</td>\n",
       "        <td style=\"padding-left: 1em; padding-right: 1em; text-align: center; vertical-align: top\">sam henderson born<br>october 18 1969 is an ...</td>\n",
       "    </tr>\n",
       "    <tr>\n",
       "        <td style=\"padding-left: 1em; padding-right: 1em; text-align: center; vertical-align: top\">6</td>\n",
       "        <td style=\"padding-left: 1em; padding-right: 1em; text-align: center; vertical-align: top\">&lt;http://dbpedia.org/resou<br>rce/Aaron_LaCrate&gt; ...</td>\n",
       "        <td style=\"padding-left: 1em; padding-right: 1em; text-align: center; vertical-align: top\">Aaron LaCrate</td>\n",
       "        <td style=\"padding-left: 1em; padding-right: 1em; text-align: center; vertical-align: top\">aaron lacrate is an<br>american music producer ...</td>\n",
       "    </tr>\n",
       "    <tr>\n",
       "        <td style=\"padding-left: 1em; padding-right: 1em; text-align: center; vertical-align: top\">7</td>\n",
       "        <td style=\"padding-left: 1em; padding-right: 1em; text-align: center; vertical-align: top\">&lt;http://dbpedia.org/resou<br>rce/Trevor_Ferguson&gt; ...</td>\n",
       "        <td style=\"padding-left: 1em; padding-right: 1em; text-align: center; vertical-align: top\">Trevor Ferguson</td>\n",
       "        <td style=\"padding-left: 1em; padding-right: 1em; text-align: center; vertical-align: top\">trevor ferguson aka john<br>farrow born 11 november ...</td>\n",
       "    </tr>\n",
       "    <tr>\n",
       "        <td style=\"padding-left: 1em; padding-right: 1em; text-align: center; vertical-align: top\">8</td>\n",
       "        <td style=\"padding-left: 1em; padding-right: 1em; text-align: center; vertical-align: top\">&lt;http://dbpedia.org/resou<br>rce/Grant_Nelson&gt; ...</td>\n",
       "        <td style=\"padding-left: 1em; padding-right: 1em; text-align: center; vertical-align: top\">Grant Nelson</td>\n",
       "        <td style=\"padding-left: 1em; padding-right: 1em; text-align: center; vertical-align: top\">grant nelson born 27<br>april 1971 in london  ...</td>\n",
       "    </tr>\n",
       "    <tr>\n",
       "        <td style=\"padding-left: 1em; padding-right: 1em; text-align: center; vertical-align: top\">9</td>\n",
       "        <td style=\"padding-left: 1em; padding-right: 1em; text-align: center; vertical-align: top\">&lt;http://dbpedia.org/resou<br>rce/Cathy_Caruth&gt; ...</td>\n",
       "        <td style=\"padding-left: 1em; padding-right: 1em; text-align: center; vertical-align: top\">Cathy Caruth</td>\n",
       "        <td style=\"padding-left: 1em; padding-right: 1em; text-align: center; vertical-align: top\">cathy caruth born 1955 is<br>frank h t rhodes ...</td>\n",
       "    </tr>\n",
       "</table>\n",
       "[59071 rows x 4 columns]<br/>Note: Only the head of the SFrame is printed.<br/>You can use print_rows(num_rows=m, num_columns=n) to print more rows and columns.\n",
       "</div>"
      ],
      "text/plain": [
       "Columns:\n",
       "\tid\tint\n",
       "\tURI\tstr\n",
       "\tname\tstr\n",
       "\ttext\tstr\n",
       "\n",
       "Rows: 59071\n",
       "\n",
       "Data:\n",
       "+----+-------------------------------+---------------------+\n",
       "| id |              URI              |         name        |\n",
       "+----+-------------------------------+---------------------+\n",
       "| 0  | <http://dbpedia.org/resour... |    Digby Morrell    |\n",
       "| 1  | <http://dbpedia.org/resour... |    Alfred J. Lewy   |\n",
       "| 2  | <http://dbpedia.org/resour... |    Harpdog Brown    |\n",
       "| 3  | <http://dbpedia.org/resour... | Franz Rottensteiner |\n",
       "| 4  | <http://dbpedia.org/resour... |        G-Enka       |\n",
       "| 5  | <http://dbpedia.org/resour... |    Sam Henderson    |\n",
       "| 6  | <http://dbpedia.org/resour... |    Aaron LaCrate    |\n",
       "| 7  | <http://dbpedia.org/resour... |   Trevor Ferguson   |\n",
       "| 8  | <http://dbpedia.org/resour... |     Grant Nelson    |\n",
       "| 9  | <http://dbpedia.org/resour... |     Cathy Caruth    |\n",
       "+----+-------------------------------+---------------------+\n",
       "+-------------------------------+\n",
       "|              text             |\n",
       "+-------------------------------+\n",
       "| digby morrell born 10 octo... |\n",
       "| alfred j lewy aka sandy le... |\n",
       "| harpdog brown is a singer ... |\n",
       "| franz rottensteiner born i... |\n",
       "| henry krvits born 30 decem... |\n",
       "| sam henderson born october... |\n",
       "| aaron lacrate is an americ... |\n",
       "| trevor ferguson aka john f... |\n",
       "| grant nelson born 27 april... |\n",
       "| cathy caruth born 1955 is ... |\n",
       "+-------------------------------+\n",
       "[59071 rows x 4 columns]\n",
       "Note: Only the head of the SFrame is printed.\n",
       "You can use print_rows(num_rows=m, num_columns=n) to print more rows and columns."
      ]
     },
     "execution_count": 4,
     "metadata": {},
     "output_type": "execute_result"
    }
   ],
   "source": [
    "wiki = wiki.add_row_number()\n",
    "wiki"
   ]
  },
  {
   "cell_type": "markdown",
   "metadata": {},
   "source": [
    "## Extract TF-IDF matrix"
   ]
  },
  {
   "cell_type": "markdown",
   "metadata": {},
   "source": [
    "We first use GraphLab Create to compute a TF-IDF representation for each document."
   ]
  },
  {
   "cell_type": "code",
   "execution_count": 5,
   "metadata": {},
   "outputs": [
    {
     "data": {
      "text/html": [
       "<div style=\"max-height:1000px;max-width:1500px;overflow:auto;\"><table frame=\"box\" rules=\"cols\">\n",
       "    <tr>\n",
       "        <th style=\"padding-left: 1em; padding-right: 1em; text-align: center\">id</th>\n",
       "        <th style=\"padding-left: 1em; padding-right: 1em; text-align: center\">URI</th>\n",
       "        <th style=\"padding-left: 1em; padding-right: 1em; text-align: center\">name</th>\n",
       "        <th style=\"padding-left: 1em; padding-right: 1em; text-align: center\">text</th>\n",
       "        <th style=\"padding-left: 1em; padding-right: 1em; text-align: center\">tf_idf</th>\n",
       "    </tr>\n",
       "    <tr>\n",
       "        <td style=\"padding-left: 1em; padding-right: 1em; text-align: center; vertical-align: top\">0</td>\n",
       "        <td style=\"padding-left: 1em; padding-right: 1em; text-align: center; vertical-align: top\">&lt;http://dbpedia.org/resou<br>rce/Digby_Morrell&gt; ...</td>\n",
       "        <td style=\"padding-left: 1em; padding-right: 1em; text-align: center; vertical-align: top\">Digby Morrell</td>\n",
       "        <td style=\"padding-left: 1em; padding-right: 1em; text-align: center; vertical-align: top\">digby morrell born 10<br>october 1979 is a former ...</td>\n",
       "        <td style=\"padding-left: 1em; padding-right: 1em; text-align: center; vertical-align: top\">{&#x27;melbourne&#x27;:<br>3.8914310119380633, ...</td>\n",
       "    </tr>\n",
       "    <tr>\n",
       "        <td style=\"padding-left: 1em; padding-right: 1em; text-align: center; vertical-align: top\">1</td>\n",
       "        <td style=\"padding-left: 1em; padding-right: 1em; text-align: center; vertical-align: top\">&lt;http://dbpedia.org/resou<br>rce/Alfred_J._Lewy&gt; ...</td>\n",
       "        <td style=\"padding-left: 1em; padding-right: 1em; text-align: center; vertical-align: top\">Alfred J. Lewy</td>\n",
       "        <td style=\"padding-left: 1em; padding-right: 1em; text-align: center; vertical-align: top\">alfred j lewy aka sandy<br>lewy graduated from ...</td>\n",
       "        <td style=\"padding-left: 1em; padding-right: 1em; text-align: center; vertical-align: top\">{&#x27;time&#x27;:<br>1.3253342074200498, ...</td>\n",
       "    </tr>\n",
       "    <tr>\n",
       "        <td style=\"padding-left: 1em; padding-right: 1em; text-align: center; vertical-align: top\">2</td>\n",
       "        <td style=\"padding-left: 1em; padding-right: 1em; text-align: center; vertical-align: top\">&lt;http://dbpedia.org/resou<br>rce/Harpdog_Brown&gt; ...</td>\n",
       "        <td style=\"padding-left: 1em; padding-right: 1em; text-align: center; vertical-align: top\">Harpdog Brown</td>\n",
       "        <td style=\"padding-left: 1em; padding-right: 1em; text-align: center; vertical-align: top\">harpdog brown is a singer<br>and harmonica player who ...</td>\n",
       "        <td style=\"padding-left: 1em; padding-right: 1em; text-align: center; vertical-align: top\">{&#x27;time&#x27;:<br>1.3253342074200498, ...</td>\n",
       "    </tr>\n",
       "    <tr>\n",
       "        <td style=\"padding-left: 1em; padding-right: 1em; text-align: center; vertical-align: top\">3</td>\n",
       "        <td style=\"padding-left: 1em; padding-right: 1em; text-align: center; vertical-align: top\">&lt;http://dbpedia.org/resou<br>rce/Franz_Rottensteiner&gt; ...</td>\n",
       "        <td style=\"padding-left: 1em; padding-right: 1em; text-align: center; vertical-align: top\">Franz Rottensteiner</td>\n",
       "        <td style=\"padding-left: 1em; padding-right: 1em; text-align: center; vertical-align: top\">franz rottensteiner born<br>in waidmannsfeld lower ...</td>\n",
       "        <td style=\"padding-left: 1em; padding-right: 1em; text-align: center; vertical-align: top\">{&#x27;kurdlawitzpreis&#x27;:<br>10.986495389225194, ...</td>\n",
       "    </tr>\n",
       "    <tr>\n",
       "        <td style=\"padding-left: 1em; padding-right: 1em; text-align: center; vertical-align: top\">4</td>\n",
       "        <td style=\"padding-left: 1em; padding-right: 1em; text-align: center; vertical-align: top\">&lt;http://dbpedia.org/resou<br>rce/G-Enka&gt; ...</td>\n",
       "        <td style=\"padding-left: 1em; padding-right: 1em; text-align: center; vertical-align: top\">G-Enka</td>\n",
       "        <td style=\"padding-left: 1em; padding-right: 1em; text-align: center; vertical-align: top\">henry krvits born 30<br>december 1974 in tallinn ...</td>\n",
       "        <td style=\"padding-left: 1em; padding-right: 1em; text-align: center; vertical-align: top\">{&#x27;curtis&#x27;:<br>5.299520032885375, ...</td>\n",
       "    </tr>\n",
       "    <tr>\n",
       "        <td style=\"padding-left: 1em; padding-right: 1em; text-align: center; vertical-align: top\">5</td>\n",
       "        <td style=\"padding-left: 1em; padding-right: 1em; text-align: center; vertical-align: top\">&lt;http://dbpedia.org/resou<br>rce/Sam_Henderson&gt; ...</td>\n",
       "        <td style=\"padding-left: 1em; padding-right: 1em; text-align: center; vertical-align: top\">Sam Henderson</td>\n",
       "        <td style=\"padding-left: 1em; padding-right: 1em; text-align: center; vertical-align: top\">sam henderson born<br>october 18 1969 is an ...</td>\n",
       "        <td style=\"padding-left: 1em; padding-right: 1em; text-align: center; vertical-align: top\">{&#x27;journal&#x27;:<br>3.025473923341824, ...</td>\n",
       "    </tr>\n",
       "    <tr>\n",
       "        <td style=\"padding-left: 1em; padding-right: 1em; text-align: center; vertical-align: top\">6</td>\n",
       "        <td style=\"padding-left: 1em; padding-right: 1em; text-align: center; vertical-align: top\">&lt;http://dbpedia.org/resou<br>rce/Aaron_LaCrate&gt; ...</td>\n",
       "        <td style=\"padding-left: 1em; padding-right: 1em; text-align: center; vertical-align: top\">Aaron LaCrate</td>\n",
       "        <td style=\"padding-left: 1em; padding-right: 1em; text-align: center; vertical-align: top\">aaron lacrate is an<br>american music producer ...</td>\n",
       "        <td style=\"padding-left: 1em; padding-right: 1em; text-align: center; vertical-align: top\">{&#x27;including&#x27;:<br>1.2272824458461182, ...</td>\n",
       "    </tr>\n",
       "    <tr>\n",
       "        <td style=\"padding-left: 1em; padding-right: 1em; text-align: center; vertical-align: top\">7</td>\n",
       "        <td style=\"padding-left: 1em; padding-right: 1em; text-align: center; vertical-align: top\">&lt;http://dbpedia.org/resou<br>rce/Trevor_Ferguson&gt; ...</td>\n",
       "        <td style=\"padding-left: 1em; padding-right: 1em; text-align: center; vertical-align: top\">Trevor Ferguson</td>\n",
       "        <td style=\"padding-left: 1em; padding-right: 1em; text-align: center; vertical-align: top\">trevor ferguson aka john<br>farrow born 11 november ...</td>\n",
       "        <td style=\"padding-left: 1em; padding-right: 1em; text-align: center; vertical-align: top\">{&#x27;concordia&#x27;:<br>6.250296940830698, ...</td>\n",
       "    </tr>\n",
       "    <tr>\n",
       "        <td style=\"padding-left: 1em; padding-right: 1em; text-align: center; vertical-align: top\">8</td>\n",
       "        <td style=\"padding-left: 1em; padding-right: 1em; text-align: center; vertical-align: top\">&lt;http://dbpedia.org/resou<br>rce/Grant_Nelson&gt; ...</td>\n",
       "        <td style=\"padding-left: 1em; padding-right: 1em; text-align: center; vertical-align: top\">Grant Nelson</td>\n",
       "        <td style=\"padding-left: 1em; padding-right: 1em; text-align: center; vertical-align: top\">grant nelson born 27<br>april 1971 in london  ...</td>\n",
       "        <td style=\"padding-left: 1em; padding-right: 1em; text-align: center; vertical-align: top\">{&#x27;knuckles&#x27;:<br>8.042056410058754, ...</td>\n",
       "    </tr>\n",
       "    <tr>\n",
       "        <td style=\"padding-left: 1em; padding-right: 1em; text-align: center; vertical-align: top\">9</td>\n",
       "        <td style=\"padding-left: 1em; padding-right: 1em; text-align: center; vertical-align: top\">&lt;http://dbpedia.org/resou<br>rce/Cathy_Caruth&gt; ...</td>\n",
       "        <td style=\"padding-left: 1em; padding-right: 1em; text-align: center; vertical-align: top\">Cathy Caruth</td>\n",
       "        <td style=\"padding-left: 1em; padding-right: 1em; text-align: center; vertical-align: top\">cathy caruth born 1955 is<br>frank h t rhodes ...</td>\n",
       "        <td style=\"padding-left: 1em; padding-right: 1em; text-align: center; vertical-align: top\">{&#x27;n3&#x27;:<br>10.293348208665249, ...</td>\n",
       "    </tr>\n",
       "</table>\n",
       "[59071 rows x 5 columns]<br/>Note: Only the head of the SFrame is printed.<br/>You can use print_rows(num_rows=m, num_columns=n) to print more rows and columns.\n",
       "</div>"
      ],
      "text/plain": [
       "Columns:\n",
       "\tid\tint\n",
       "\tURI\tstr\n",
       "\tname\tstr\n",
       "\ttext\tstr\n",
       "\ttf_idf\tdict\n",
       "\n",
       "Rows: 59071\n",
       "\n",
       "Data:\n",
       "+----+-------------------------------+---------------------+\n",
       "| id |              URI              |         name        |\n",
       "+----+-------------------------------+---------------------+\n",
       "| 0  | <http://dbpedia.org/resour... |    Digby Morrell    |\n",
       "| 1  | <http://dbpedia.org/resour... |    Alfred J. Lewy   |\n",
       "| 2  | <http://dbpedia.org/resour... |    Harpdog Brown    |\n",
       "| 3  | <http://dbpedia.org/resour... | Franz Rottensteiner |\n",
       "| 4  | <http://dbpedia.org/resour... |        G-Enka       |\n",
       "| 5  | <http://dbpedia.org/resour... |    Sam Henderson    |\n",
       "| 6  | <http://dbpedia.org/resour... |    Aaron LaCrate    |\n",
       "| 7  | <http://dbpedia.org/resour... |   Trevor Ferguson   |\n",
       "| 8  | <http://dbpedia.org/resour... |     Grant Nelson    |\n",
       "| 9  | <http://dbpedia.org/resour... |     Cathy Caruth    |\n",
       "+----+-------------------------------+---------------------+\n",
       "+-------------------------------+-------------------------------+\n",
       "|              text             |             tf_idf            |\n",
       "+-------------------------------+-------------------------------+\n",
       "| digby morrell born 10 octo... | {'melbourne': 3.8914310119... |\n",
       "| alfred j lewy aka sandy le... | {'time': 1.325334207420049... |\n",
       "| harpdog brown is a singer ... | {'time': 1.325334207420049... |\n",
       "| franz rottensteiner born i... | {'kurdlawitzpreis': 10.986... |\n",
       "| henry krvits born 30 decem... | {'curtis': 5.2995200328853... |\n",
       "| sam henderson born october... | {'journal': 3.025473923341... |\n",
       "| aaron lacrate is an americ... | {'including': 1.2272824458... |\n",
       "| trevor ferguson aka john f... | {'concordia': 6.2502969408... |\n",
       "| grant nelson born 27 april... | {'knuckles': 8.04205641005... |\n",
       "| cathy caruth born 1955 is ... | {'n3': 10.293348208665249,... |\n",
       "+-------------------------------+-------------------------------+\n",
       "[59071 rows x 5 columns]\n",
       "Note: Only the head of the SFrame is printed.\n",
       "You can use print_rows(num_rows=m, num_columns=n) to print more rows and columns."
      ]
     },
     "execution_count": 5,
     "metadata": {},
     "output_type": "execute_result"
    }
   ],
   "source": [
    "wiki['tf_idf'] = graphlab.text_analytics.tf_idf(wiki['text'])\n",
    "wiki"
   ]
  },
  {
   "cell_type": "markdown",
   "metadata": {},
   "source": [
    "For the remainder of the assignment, we will use sparse matrices. Sparse matrices are [matrices](https://en.wikipedia.org/wiki/Matrix_(mathematics%29 ) that have a small number of nonzero entries. A good data structure for sparse matrices would only store the nonzero entries to save space and speed up computation. SciPy provides a highly-optimized library for sparse matrices. Many matrix operations available for NumPy arrays are also available for SciPy sparse matrices.\n",
    "\n",
    "We first convert the TF-IDF column (in dictionary format) into the SciPy sparse matrix format."
   ]
  },
  {
   "cell_type": "code",
   "execution_count": 6,
   "metadata": {},
   "outputs": [],
   "source": [
    "## Note: I had to reimplement the one hot encoding, leading to different results\n",
    "\n",
    "def sframe_to_scipy(column):\n",
    "    \"\"\" \n",
    "    Convert a dict-typed SArray into a SciPy sparse matrix.\n",
    "\n",
    "    Returns\n",
    "    -------\n",
    "    mat : a SciPy sparse matrix where mat[i, j] is the value of word j for document i.\n",
    "    mapping : a dictionary where mapping[j] is the word whose values are in column j.\n",
    "    \"\"\"\n",
    "    # Create triples of (row_id, feature_id, count).\n",
    "    x = graphlab.SFrame({'X1':column})\n",
    "    print(\"Documents {}\".format(x.shape))\n",
    "    # 1. Add a row number.\n",
    "    x = x.add_row_number()\n",
    "    # 2. Stack will transform x to have a row for each unique (row, key) pair.\n",
    "    x = x.stack('X1', ['feature', 'value'])\n",
    "\n",
    "    print(x.head(10))\n",
    "    print(len(x))\n",
    "\n",
    "    values = sorted(x[\"feature\"].unique().to_numpy())\n",
    "\n",
    "    print(\"Words, {}\".format(len(values)))\n",
    "\n",
    "    tr_dict = {v : idx for idx, v in enumerate(values)}\n",
    "    x[\"encoded_features\"] = x[\"feature\"].apply(lambda v: {tr_dict[v] : 1})\n",
    "\n",
    "    print(x.head(10))\n",
    "\n",
    "    # Map words into integers using a OneHotEncoder feature transformation.\n",
    "    #     f = graphlab.feature_engineering.OneHotEncoder(features=['feature'])\n",
    "\n",
    "    # We first fit the transformer using the above data.\n",
    "    #     f.fit(x)\n",
    "\n",
    "    # The transform method will add a new column that is the transformed version\n",
    "    # of the 'word' column.\n",
    "    #     x = f.transform(x)\n",
    "\n",
    "    # Get the feature mapping.\n",
    "    #     mapping = f['feature_encoding']\n",
    "    mapping = tr_dict\n",
    "    # Get the actual word id.\n",
    "    x['feature_id'] = x['encoded_features'].dict_keys().apply(lambda x: x[0])\n",
    "\n",
    "    # Create numpy arrays that contain the data for the sparse matrix.\n",
    "    i = np.array(x['id'])\n",
    "    j = np.array(x['feature_id'])\n",
    "    v = np.array(x['value'])\n",
    "    width = x['id'].max() + 1\n",
    "    height = x['feature_id'].max() + 1\n",
    "\n",
    "    # Create a sparse matrix.\n",
    "    mat = csr_matrix((v, (i, j)), shape=(width, height))\n",
    "    inv_map = {v: k for k, v in mapping.items()}\n",
    "    #     return mat, mapping\n",
    "    return mat, inv_map"
   ]
  },
  {
   "cell_type": "markdown",
   "metadata": {},
   "source": [
    "The conversion should take a few minutes to complete."
   ]
  },
  {
   "cell_type": "code",
   "execution_count": 7,
   "metadata": {},
   "outputs": [
    {
     "name": "stdout",
     "output_type": "stream",
     "text": [
      "Documents (59071, 1)\n",
      "+----+-----------+--------------------+\n",
      "| id |  feature  |       value        |\n",
      "+----+-----------+--------------------+\n",
      "| 0  | melbourne | 3.8914310119380633 |\n",
      "| 0  |  college  | 1.5613662703175555 |\n",
      "| 0  |   parade  | 5.510031837293684  |\n",
      "| 0  | education | 2.4487155642005685 |\n",
      "| 0  |  teaches  | 3.7712554104950966 |\n",
      "| 0  | currently | 1.637088969126014  |\n",
      "| 0  |   edflhe  | 10.986495389225194 |\n",
      "| 0  |    also   | 0.4627270916162349 |\n",
      "| 0  |   coburg  | 7.851001173296044  |\n",
      "| 0  |  coached  | 3.9925624140020046 |\n",
      "+----+-----------+--------------------+\n",
      "[10 rows x 3 columns]\n",
      "\n",
      "10379283\n",
      "Words, 547979\n",
      "+----+-----------+--------------------+------------------+\n",
      "| id |  feature  |       value        | encoded_features |\n",
      "+----+-----------+--------------------+------------------+\n",
      "| 0  | melbourne | 3.8914310119380633 |   {323172: 1}    |\n",
      "| 0  |  college  | 1.5613662703175555 |   {131032: 1}    |\n",
      "| 0  |   parade  | 5.510031837293684  |   {373417: 1}    |\n",
      "| 0  | education | 2.4487155642005685 |   {174907: 1}    |\n",
      "| 0  |  teaches  | 3.7712554104950966 |   {483003: 1}    |\n",
      "| 0  | currently | 1.637088969126014  |   {147551: 1}    |\n",
      "| 0  |   edflhe  | 10.986495389225194 |   {174332: 1}    |\n",
      "| 0  |    also   | 0.4627270916162349 |    {55818: 1}    |\n",
      "| 0  |   coburg  | 7.851001173296044  |   {129485: 1}    |\n",
      "| 0  |  coached  | 3.9925624140020046 |   {129011: 1}    |\n",
      "+----+-----------+--------------------+------------------+\n",
      "[10 rows x 4 columns]\n",
      "\n",
      "80.54922795295715\n"
     ]
    }
   ],
   "source": [
    "start=time.time()\n",
    "corpus, mapping = sframe_to_scipy(wiki['tf_idf'])\n",
    "end=time.time()\n",
    "print(end-start)"
   ]
  },
  {
   "cell_type": "markdown",
   "metadata": {},
   "source": [
    "**Checkpoint**: The following code block should return 'Check passed correctly', indicating that your matrix contains TF-IDF values for 59071 documents and 547979 unique words.  Otherwise, it will return Error."
   ]
  },
  {
   "cell_type": "code",
   "execution_count": 8,
   "metadata": {},
   "outputs": [
    {
     "data": {
      "text/plain": [
       "(59071, 547979)"
      ]
     },
     "execution_count": 8,
     "metadata": {},
     "output_type": "execute_result"
    }
   ],
   "source": [
    "corpus.shape"
   ]
  },
  {
   "cell_type": "code",
   "execution_count": 9,
   "metadata": {},
   "outputs": [
    {
     "data": {
      "text/plain": [
       "'worksthomas'"
      ]
     },
     "execution_count": 9,
     "metadata": {},
     "output_type": "execute_result"
    }
   ],
   "source": [
    "mapping[535418]"
   ]
  },
  {
   "cell_type": "code",
   "execution_count": 10,
   "metadata": {},
   "outputs": [
    {
     "data": {
      "text/plain": [
       "0.0"
      ]
     },
     "execution_count": 10,
     "metadata": {},
     "output_type": "execute_result"
    }
   ],
   "source": [
    "corpus[0,535418]"
   ]
  },
  {
   "cell_type": "code",
   "execution_count": 11,
   "metadata": {},
   "outputs": [
    {
     "name": "stdout",
     "output_type": "stream",
     "text": [
      "Check passed correctly!\n"
     ]
    }
   ],
   "source": [
    "assert corpus.shape == (59071, 547979)\n",
    "print('Check passed correctly!')"
   ]
  },
  {
   "cell_type": "markdown",
   "metadata": {},
   "source": [
    "## Train an LSH model"
   ]
  },
  {
   "cell_type": "markdown",
   "metadata": {},
   "source": [
    "LSH performs an efficient neighbor search by randomly partitioning all reference data points into different bins. Today we will build a popular variant of LSH known as random binary projection, which approximates cosine distance. There are other variants we could use for other choices of distance metrics.\n",
    "\n",
    "The first step is to generate a collection of random vectors from the standard Gaussian distribution."
   ]
  },
  {
   "cell_type": "code",
   "execution_count": 12,
   "metadata": {},
   "outputs": [],
   "source": [
    "def generate_random_vectors(num_vector, dim):\n",
    "    return np.random.randn(dim, num_vector)"
   ]
  },
  {
   "cell_type": "markdown",
   "metadata": {},
   "source": [
    "To visualize these Gaussian random vectors, let's look at an example in low-dimensions.  Below, we generate 3 random vectors each of dimension 5."
   ]
  },
  {
   "cell_type": "code",
   "execution_count": 13,
   "metadata": {},
   "outputs": [
    {
     "data": {
      "text/plain": [
       "array([[ 1.76405235,  0.40015721,  0.97873798],\n",
       "       [ 2.2408932 ,  1.86755799, -0.97727788],\n",
       "       [ 0.95008842, -0.15135721, -0.10321885],\n",
       "       [ 0.4105985 ,  0.14404357,  1.45427351],\n",
       "       [ 0.76103773,  0.12167502,  0.44386323]])"
      ]
     },
     "execution_count": 13,
     "metadata": {},
     "output_type": "execute_result"
    }
   ],
   "source": [
    "# Generate 3 random vectors of dimension 5, arranged into a single 5 x 3 matrix.\n",
    "np.random.seed(0) # set seed=0 for consistent results\n",
    "generate_random_vectors(num_vector=3, dim=5)"
   ]
  },
  {
   "cell_type": "markdown",
   "metadata": {},
   "source": [
    "We now generate random vectors of the same dimensionality as our vocubulary size (547979).  Each vector can be used to compute one bit in the bin encoding.  We generate 16 vectors, leading to a 16-bit encoding of the bin index for each document."
   ]
  },
  {
   "cell_type": "code",
   "execution_count": 14,
   "metadata": {},
   "outputs": [
    {
     "data": {
      "text/plain": [
       "(547979, 16)"
      ]
     },
     "execution_count": 14,
     "metadata": {},
     "output_type": "execute_result"
    }
   ],
   "source": [
    "# Generate 16 random vectors of dimension 547979\n",
    "np.random.seed(0)\n",
    "random_vectors = generate_random_vectors(num_vector=16, dim=547979)\n",
    "random_vectors.shape"
   ]
  },
  {
   "cell_type": "code",
   "execution_count": 15,
   "metadata": {},
   "outputs": [
    {
     "data": {
      "text/plain": [
       "array([ 1.76405235,  0.40015721,  0.97873798,  2.2408932 ,  1.86755799,\n",
       "       -0.97727788,  0.95008842, -0.15135721, -0.10321885,  0.4105985 ,\n",
       "        0.14404357,  1.45427351,  0.76103773,  0.12167502,  0.44386323,\n",
       "        0.33367433])"
      ]
     },
     "execution_count": 15,
     "metadata": {},
     "output_type": "execute_result"
    }
   ],
   "source": [
    "random_vectors[0,:]"
   ]
  },
  {
   "cell_type": "markdown",
   "metadata": {},
   "source": [
    "Next, we partition data points into bins. Instead of using explicit loops, we'd like to utilize matrix operations for greater efficiency. Let's walk through the construction step by step.\n",
    "\n",
    "We'd like to decide which bin document 0 should go. Since 16 random vectors were generated in the previous cell, we have 16 bits to represent the bin index. The first bit is given by the sign of the dot product between the first random vector and the document's TF-IDF vector."
   ]
  },
  {
   "cell_type": "code",
   "execution_count": 16,
   "metadata": {},
   "outputs": [
    {
     "name": "stdout",
     "output_type": "stream",
     "text": [
      "139\n"
     ]
    }
   ],
   "source": [
    "print(corpus[0, :].getnnz())"
   ]
  },
  {
   "cell_type": "code",
   "execution_count": 17,
   "metadata": {},
   "outputs": [
    {
     "data": {
      "text/plain": [
       "array([ True])"
      ]
     },
     "execution_count": 17,
     "metadata": {},
     "output_type": "execute_result"
    }
   ],
   "source": [
    "doc = corpus[0, :] # vector of tf-idf values for document 0\n",
    "doc.dot(random_vectors[:, 0]) >= 0 # True if positive sign; False if negative sign"
   ]
  },
  {
   "cell_type": "markdown",
   "metadata": {},
   "source": [
    "Similarly, the second bit is computed as the sign of the dot product between the second random vector and the document vector."
   ]
  },
  {
   "cell_type": "code",
   "execution_count": 18,
   "metadata": {},
   "outputs": [
    {
     "data": {
      "text/plain": [
       "array([False])"
      ]
     },
     "execution_count": 18,
     "metadata": {},
     "output_type": "execute_result"
    }
   ],
   "source": [
    "doc.dot(random_vectors[:, 1]) >= 0 # True if positive sign; False if negative sign"
   ]
  },
  {
   "cell_type": "markdown",
   "metadata": {},
   "source": [
    "We can compute all of the bin index bits at once as follows. Note the absence of the explicit `for` loop over the 16 vectors. Matrix operations let us batch dot-product computation in a highly efficent manner, unlike the `for` loop construction. Given the relative inefficiency of loops in Python, the advantage of matrix operations is even greater."
   ]
  },
  {
   "cell_type": "code",
   "execution_count": 19,
   "metadata": {},
   "outputs": [
    {
     "data": {
      "text/plain": [
       "array([[ True, False, False, False,  True, False,  True, False,  True,\n",
       "         True,  True, False,  True,  True, False,  True]])"
      ]
     },
     "execution_count": 19,
     "metadata": {},
     "output_type": "execute_result"
    }
   ],
   "source": [
    "doc.dot(random_vectors) >= 0 # should return an array of 16 True/False bits"
   ]
  },
  {
   "cell_type": "code",
   "execution_count": 20,
   "metadata": {},
   "outputs": [
    {
     "data": {
      "text/plain": [
       "array([[1, 0, 0, 0, 1, 0, 1, 0, 1, 1, 1, 0, 1, 1, 0, 1]])"
      ]
     },
     "execution_count": 20,
     "metadata": {},
     "output_type": "execute_result"
    }
   ],
   "source": [
    "np.array(doc.dot(random_vectors) >= 0, dtype=int) # display index bits in 0/1's"
   ]
  },
  {
   "cell_type": "markdown",
   "metadata": {},
   "source": [
    "All documents that obtain exactly this vector will be assigned to the same bin. We'd like to repeat the identical operation on all documents in the Wikipedia dataset and compute the corresponding bin indices. Again, we use matrix operations  so that no explicit loop is needed."
   ]
  },
  {
   "cell_type": "code",
   "execution_count": 21,
   "metadata": {},
   "outputs": [
    {
     "data": {
      "text/plain": [
       "array([[ True, False, False, False,  True, False,  True, False,  True,\n",
       "         True,  True, False,  True,  True, False,  True],\n",
       "       [False, False, False, False,  True, False, False, False,  True,\n",
       "         True,  True, False, False,  True, False,  True]])"
      ]
     },
     "execution_count": 21,
     "metadata": {},
     "output_type": "execute_result"
    }
   ],
   "source": [
    "corpus[0:2].dot(random_vectors) >= 0 # compute bit indices of first two documents"
   ]
  },
  {
   "cell_type": "code",
   "execution_count": 22,
   "metadata": {},
   "outputs": [
    {
     "data": {
      "text/plain": [
       "array([[ True, False, False, ...,  True, False,  True],\n",
       "       [False, False, False, ...,  True, False,  True],\n",
       "       [ True,  True,  True, ...,  True,  True,  True],\n",
       "       ...,\n",
       "       [False, False, False, ..., False, False,  True],\n",
       "       [ True,  True, False, ...,  True,  True, False],\n",
       "       [ True,  True,  True, ...,  True, False,  True]])"
      ]
     },
     "execution_count": 22,
     "metadata": {},
     "output_type": "execute_result"
    }
   ],
   "source": [
    "corpus.dot(random_vectors) >= 0 # compute bit indices of ALL documents"
   ]
  },
  {
   "cell_type": "markdown",
   "metadata": {},
   "source": [
    "We're almost done! To make it convenient to refer to individual bins, we convert each binary bin index into a single integer: \n",
    "```\n",
    "Bin index                      integer\n",
    "[0,0,0,0,0,0,0,0,0,0,0,0]   => 0\n",
    "[0,0,0,0,0,0,0,0,0,0,0,1]   => 1\n",
    "[0,0,0,0,0,0,0,0,0,0,1,0]   => 2\n",
    "[0,0,0,0,0,0,0,0,0,0,1,1]   => 3\n",
    "...\n",
    "[1,1,1,1,1,1,1,1,1,1,0,0]   => 65532\n",
    "[1,1,1,1,1,1,1,1,1,1,0,1]   => 65533\n",
    "[1,1,1,1,1,1,1,1,1,1,1,0]   => 65534\n",
    "[1,1,1,1,1,1,1,1,1,1,1,1]   => 65535 (= 2^16-1)\n",
    "```\n",
    "By the [rules of binary number representation](https://en.wikipedia.org/wiki/Binary_number#Decimal), we just need to compute the dot product between the document vector and the vector consisting of powers of 2:"
   ]
  },
  {
   "cell_type": "code",
   "execution_count": 23,
   "metadata": {},
   "outputs": [
    {
     "name": "stdout",
     "output_type": "stream",
     "text": [
      "[[ True False False False  True False  True False  True  True  True False\n",
      "   True  True False  True]]\n",
      "[32768 16384  8192  4096  2048  1024   512   256   128    64    32    16\n",
      "     8     4     2     1]\n",
      "[35565]\n"
     ]
    }
   ],
   "source": [
    "doc = corpus[0, :]  # first document\n",
    "index_bits = (doc.dot(random_vectors) >= 0)\n",
    "powers_of_two = (1 << np.arange(15, -1, -1))\n",
    "print(index_bits)\n",
    "print(powers_of_two)\n",
    "print(index_bits.dot(powers_of_two))"
   ]
  },
  {
   "cell_type": "markdown",
   "metadata": {},
   "source": [
    "Since it's the dot product again, we batch it with a matrix operation:"
   ]
  },
  {
   "cell_type": "code",
   "execution_count": 24,
   "metadata": {},
   "outputs": [
    {
     "data": {
      "text/plain": [
       "array([35565,  2277, 61191, ...,  2729, 50638, 63741])"
      ]
     },
     "execution_count": 24,
     "metadata": {},
     "output_type": "execute_result"
    }
   ],
   "source": [
    "index_bits = corpus.dot(random_vectors) >= 0\n",
    "index_bits.dot(powers_of_two)"
   ]
  },
  {
   "cell_type": "markdown",
   "metadata": {},
   "source": [
    "This array gives us the integer index of the bins for all documents.\n",
    "\n",
    "Now we are ready to complete the following function. Given the integer bin indices for the documents, you should compile a list of document IDs that belong to each bin. Since a list is to be maintained for each unique bin index, a dictionary of lists is used.\n",
    "\n",
    "1. Compute the integer bin indices. This step is already completed.\n",
    "2. For each document in the dataset, do the following:\n",
    "   * Get the integer bin index for the document.\n",
    "   * Fetch the list of document ids associated with the bin; if no list yet exists for this bin, assign the bin an empty list.\n",
    "   * Add the document id to the end of the list.\n"
   ]
  },
  {
   "cell_type": "code",
   "execution_count": 25,
   "metadata": {},
   "outputs": [
    {
     "name": "stdout",
     "output_type": "stream",
     "text": [
      "0.0\n"
     ]
    }
   ],
   "source": [
    "print(corpus[0,535418])\n"
   ]
  },
  {
   "cell_type": "code",
   "execution_count": 26,
   "metadata": {},
   "outputs": [],
   "source": [
    "def train_lsh(data, num_vector=16, seed=None):\n",
    "    \n",
    "    dim = data.shape[1]\n",
    "    if seed is not None:\n",
    "        np.random.seed(seed)\n",
    "    random_vectors = generate_random_vectors(num_vector, dim)\n",
    "  \n",
    "    powers_of_two = 1 << np.arange(num_vector-1, -1, -1)\n",
    "  \n",
    "    table = {}\n",
    "    \n",
    "    # Partition data points into bins\n",
    "    bin_index_bits = (data.dot(random_vectors) >= 0)\n",
    "  \n",
    "    # Encode bin index bits into integers\n",
    "    bin_indices = bin_index_bits.dot(powers_of_two)\n",
    "    \n",
    "    # Update `table` so that `table[i]` is the list of document ids with bin index equal to i.\n",
    "    for data_index, bin_index in enumerate(bin_indices):\n",
    "        if bin_index not in table:\n",
    "            # If no list yet exists for this bin, assign the bin an empty list.\n",
    "            table[bin_index] = []\n",
    "#             ... # YOUR CODE HERE\n",
    "        # Fetch the list of document ids associated with the bin and add the document id to the end.\n",
    "        table[bin_index].append(data_index) #... # YOUR CODE HERE\n",
    "\n",
    "    model = {'data': data,\n",
    "             'bin_index_bits': bin_index_bits,\n",
    "             'bin_indices': bin_indices,\n",
    "             'table': table,\n",
    "             'random_vectors': random_vectors,\n",
    "             'num_vector': num_vector}\n",
    "    \n",
    "    return model"
   ]
  },
  {
   "cell_type": "markdown",
   "metadata": {},
   "source": [
    "**Checkpoint**. "
   ]
  },
  {
   "cell_type": "code",
   "execution_count": 28,
   "metadata": {
    "scrolled": false
   },
   "outputs": [
    {
     "name": "stdout",
     "output_type": "stream",
     "text": [
      "Check your code.\n"
     ]
    }
   ],
   "source": [
    "model = train_lsh(corpus, num_vector=16, seed=143)\n",
    "table = model['table']\n",
    "if   0 in table and table[0]   == [39583] and \\\n",
    "   143 in table and table[143] == [19693, 28277, 29776, 30399]:\n",
    "    print('Passed!')\n",
    "else:\n",
    "    print('Check your code.')"
   ]
  },
  {
   "cell_type": "code",
   "execution_count": 29,
   "metadata": {},
   "outputs": [
    {
     "data": {
      "text/plain": [
       "[11570, 17993, 30328, 42431]"
      ]
     },
     "execution_count": 29,
     "metadata": {},
     "output_type": "execute_result"
    }
   ],
   "source": [
    "table[0]"
   ]
  },
  {
   "cell_type": "markdown",
   "metadata": {},
   "source": [
    "**Note.** We will be using the model trained here in the following sections, unless otherwise indicated."
   ]
  },
  {
   "cell_type": "markdown",
   "metadata": {},
   "source": [
    "## Inspect bins"
   ]
  },
  {
   "cell_type": "markdown",
   "metadata": {},
   "source": [
    "Let us look at some documents and see which bins they fall into."
   ]
  },
  {
   "cell_type": "code",
   "execution_count": 30,
   "metadata": {},
   "outputs": [
    {
     "data": {
      "text/html": [
       "<div style=\"max-height:1000px;max-width:1500px;overflow:auto;\"><table frame=\"box\" rules=\"cols\">\n",
       "    <tr>\n",
       "        <th style=\"padding-left: 1em; padding-right: 1em; text-align: center\">id</th>\n",
       "        <th style=\"padding-left: 1em; padding-right: 1em; text-align: center\">URI</th>\n",
       "        <th style=\"padding-left: 1em; padding-right: 1em; text-align: center\">name</th>\n",
       "        <th style=\"padding-left: 1em; padding-right: 1em; text-align: center\">text</th>\n",
       "        <th style=\"padding-left: 1em; padding-right: 1em; text-align: center\">tf_idf</th>\n",
       "    </tr>\n",
       "    <tr>\n",
       "        <td style=\"padding-left: 1em; padding-right: 1em; text-align: center; vertical-align: top\">35817</td>\n",
       "        <td style=\"padding-left: 1em; padding-right: 1em; text-align: center; vertical-align: top\">&lt;http://dbpedia.org/resou<br>rce/Barack_Obama&gt; ...</td>\n",
       "        <td style=\"padding-left: 1em; padding-right: 1em; text-align: center; vertical-align: top\">Barack Obama</td>\n",
       "        <td style=\"padding-left: 1em; padding-right: 1em; text-align: center; vertical-align: top\">barack hussein obama ii<br>brk husen bm born august ...</td>\n",
       "        <td style=\"padding-left: 1em; padding-right: 1em; text-align: center; vertical-align: top\">{&#x27;cuba&#x27;:<br>5.005081177970713, ...</td>\n",
       "    </tr>\n",
       "</table>\n",
       "[? rows x 5 columns]<br/>Note: Only the head of the SFrame is printed. This SFrame is lazily evaluated.<br/>You can use sf.materialize() to force materialization.\n",
       "</div>"
      ],
      "text/plain": [
       "Columns:\n",
       "\tid\tint\n",
       "\tURI\tstr\n",
       "\tname\tstr\n",
       "\ttext\tstr\n",
       "\ttf_idf\tdict\n",
       "\n",
       "Rows: Unknown\n",
       "\n",
       "Data:\n",
       "+-------+-------------------------------+--------------+\n",
       "|   id  |              URI              |     name     |\n",
       "+-------+-------------------------------+--------------+\n",
       "| 35817 | <http://dbpedia.org/resour... | Barack Obama |\n",
       "+-------+-------------------------------+--------------+\n",
       "+-------------------------------+-------------------------------+\n",
       "|              text             |             tf_idf            |\n",
       "+-------------------------------+-------------------------------+\n",
       "| barack hussein obama ii br... | {'cuba': 5.005081177970713... |\n",
       "+-------------------------------+-------------------------------+\n",
       "[? rows x 5 columns]\n",
       "Note: Only the head of the SFrame is printed. This SFrame is lazily evaluated.\n",
       "You can use sf.materialize() to force materialization."
      ]
     },
     "execution_count": 30,
     "metadata": {},
     "output_type": "execute_result"
    }
   ],
   "source": [
    "wiki[wiki['name'] == 'Barack Obama']"
   ]
  },
  {
   "cell_type": "markdown",
   "metadata": {},
   "source": [
    "**Quiz Question**. What is the document `id` of Barack Obama's article?\n",
    "\n",
    "35817\n",
    "\n",
    "**Quiz Question**. Which bin contains Barack Obama's article? Enter its integer index."
   ]
  },
  {
   "cell_type": "code",
   "execution_count": 31,
   "metadata": {},
   "outputs": [
    {
     "data": {
      "text/plain": [
       "{'data': <59071x547979 sparse matrix of type '<class 'numpy.float64'>'\n",
       " \twith 10379283 stored elements in Compressed Sparse Row format>,\n",
       " 'bin_index_bits': array([[False,  True,  True, ..., False, False, False],\n",
       "        [ True,  True,  True, ..., False,  True, False],\n",
       "        [ True, False,  True, ...,  True,  True,  True],\n",
       "        ...,\n",
       "        [False,  True, False, ..., False, False, False],\n",
       "        [ True,  True, False, ...,  True, False, False],\n",
       "        [False,  True,  True, ..., False,  True, False]]),\n",
       " 'bin_indices': array([25368, 63418, 47759, ..., 20808, 53108, 30914]),\n",
       " 'table': {25368: [0, 54400],\n",
       "  63418: [1, 7878],\n",
       "  47759: [2],\n",
       "  22972: [3, 9308],\n",
       "  59156: [4],\n",
       "  59064: [5, 35339, 42685],\n",
       "  6325: [6],\n",
       "  18463: [7, 10883, 32830, 36566],\n",
       "  36297: [8],\n",
       "  44390: [9, 19186, 26545],\n",
       "  50279: [10, 47033],\n",
       "  26644: [11, 3115, 23507, 59058],\n",
       "  18867: [12],\n",
       "  40546: [13, 16295],\n",
       "  30973: [14],\n",
       "  28970: [15],\n",
       "  23142: [16, 28837],\n",
       "  34693: [17, 30798, 37457],\n",
       "  53619: [18],\n",
       "  4474: [19],\n",
       "  25786: [20],\n",
       "  14487: [21],\n",
       "  59069: [22, 159],\n",
       "  15444: [23, 6675],\n",
       "  47601: [24],\n",
       "  46047: [25, 25152, 43945],\n",
       "  62053: [26],\n",
       "  14320: [27, 34185],\n",
       "  30367: [28],\n",
       "  29108: [29, 8358, 47372, 57879],\n",
       "  15690: [30],\n",
       "  53047: [31, 43122],\n",
       "  53354: [32],\n",
       "  36685: [33],\n",
       "  45660: [34],\n",
       "  34163: [35, 53325],\n",
       "  23640: [36, 34801, 36327, 52104],\n",
       "  44165: [37, 27027, 41490],\n",
       "  33385: [38, 42078],\n",
       "  1150: [39, 48793],\n",
       "  24975: [40],\n",
       "  52053: [41, 10298, 13301, 31531],\n",
       "  41431: [42, 5500],\n",
       "  27143: [43, 50426, 54308],\n",
       "  58290: [44],\n",
       "  25176: [45],\n",
       "  54298: [46, 9484],\n",
       "  13768: [47],\n",
       "  57884: [48, 34063, 47312],\n",
       "  54868: [49, 8089, 56493],\n",
       "  30385: [50],\n",
       "  39101: [51, 13544],\n",
       "  35398: [52, 53569],\n",
       "  50112: [53],\n",
       "  28960: [54],\n",
       "  63233: [55, 20526],\n",
       "  1080: [56],\n",
       "  18087: [57],\n",
       "  703: [58, 53561],\n",
       "  3183: [59, 17817],\n",
       "  64652: [60, 15468],\n",
       "  30041: [61],\n",
       "  30916: [62, 5000, 13804],\n",
       "  46893: [63, 21425, 32986, 44712],\n",
       "  65245: [64, 12966],\n",
       "  50324: [65],\n",
       "  56352: [66],\n",
       "  57764: [67, 51761],\n",
       "  42582: [68],\n",
       "  62276: [69, 46119, 53702],\n",
       "  2852: [70, 23695],\n",
       "  16641: [71, 7590, 42526],\n",
       "  16163: [72, 31572],\n",
       "  38578: [73],\n",
       "  3794: [74, 10214, 39696],\n",
       "  63600: [75, 22624, 25370, 41195],\n",
       "  25944: [76],\n",
       "  59305: [77, 48759],\n",
       "  11353: [78, 55829],\n",
       "  6044: [79, 8729],\n",
       "  64868: [80, 51072],\n",
       "  31989: [81, 53392],\n",
       "  13844: [82],\n",
       "  23246: [83],\n",
       "  13183: [84, 18743, 25538],\n",
       "  46037: [85, 2319, 7132],\n",
       "  21200: [86, 51510],\n",
       "  27960: [87],\n",
       "  16850: [88, 45426],\n",
       "  10864: [89, 41733, 54683],\n",
       "  21945: [90, 22147],\n",
       "  24215: [91],\n",
       "  35343: [92],\n",
       "  58893: [93, 721, 13762],\n",
       "  32132: [94, 18562, 45125],\n",
       "  38023: [95, 56010],\n",
       "  4484: [96, 12279, 33363, 34116, 52871, 58100],\n",
       "  51788: [97, 4878, 44587],\n",
       "  859: [98],\n",
       "  15510: [99],\n",
       "  49925: [100, 26055],\n",
       "  34654: [101],\n",
       "  18310: [102],\n",
       "  52847: [103, 14452],\n",
       "  29820: [104, 16382, 50929],\n",
       "  14387: [105, 15264],\n",
       "  21560: [106],\n",
       "  42444: [107, 12867],\n",
       "  32855: [108, 49878],\n",
       "  40231: [109, 10970],\n",
       "  27328: [110, 456],\n",
       "  13739: [111, 18093],\n",
       "  33271: [112, 21310, 48129],\n",
       "  48761: [113],\n",
       "  6244: [114, 13823, 22511, 51741],\n",
       "  4622: [115, 30752],\n",
       "  36321: [116],\n",
       "  49092: [117],\n",
       "  4150: [118],\n",
       "  8218: [119],\n",
       "  22768: [120],\n",
       "  30418: [121],\n",
       "  57270: [122],\n",
       "  34383: [123, 21799, 30327, 37345],\n",
       "  20563: [124, 15453, 17636, 39040],\n",
       "  40441: [125, 17251],\n",
       "  31704: [126],\n",
       "  15867: [127, 24390],\n",
       "  28133: [128],\n",
       "  28357: [129],\n",
       "  42779: [130],\n",
       "  51538: [131],\n",
       "  64729: [132, 28706],\n",
       "  6637: [133, 41560],\n",
       "  53632: [134],\n",
       "  44482: [135],\n",
       "  13809: [136, 13107, 55304],\n",
       "  57644: [137, 10532, 11877],\n",
       "  21204: [138, 37988, 48321],\n",
       "  64270: [139, 15704],\n",
       "  15480: [140, 18024, 25027, 33406, 46820, 57609],\n",
       "  20958: [141, 23806],\n",
       "  4647: [142],\n",
       "  25437: [143, 23089, 35576],\n",
       "  8788: [144, 7093],\n",
       "  42052: [145, 20926, 31247],\n",
       "  53252: [146, 3459, 53269],\n",
       "  1100: [147, 686, 33356, 40710],\n",
       "  54462: [148],\n",
       "  5508: [149, 58210],\n",
       "  49844: [150],\n",
       "  1398: [151, 2604],\n",
       "  3990: [152, 53307],\n",
       "  11841: [153, 28462, 50061],\n",
       "  59357: [154, 1687, 26670],\n",
       "  25585: [155, 3349],\n",
       "  12822: [156, 55532],\n",
       "  14071: [157],\n",
       "  62646: [158],\n",
       "  24758: [160, 2054],\n",
       "  25809: [161, 32683, 36003],\n",
       "  23916: [162, 7443, 27234, 54373],\n",
       "  59892: [163, 20695],\n",
       "  8263: [164, 19342],\n",
       "  30529: [165],\n",
       "  61464: [166, 32074],\n",
       "  44665: [167, 6784, 38095, 46993],\n",
       "  32104: [168, 41021],\n",
       "  38928: [169],\n",
       "  12605: [170, 15779],\n",
       "  39525: [171, 20245],\n",
       "  10101: [172, 32096],\n",
       "  24047: [173, 21222],\n",
       "  24948: [174, 1211, 44865],\n",
       "  49149: [175],\n",
       "  14227: [176],\n",
       "  40234: [177, 36371, 53890, 55793],\n",
       "  26488: [178, 58066],\n",
       "  52890: [179],\n",
       "  21092: [180, 12924],\n",
       "  11104: [181, 45568],\n",
       "  39100: [182, 28736, 34910],\n",
       "  40266: [183, 14274],\n",
       "  29390: [184, 57458],\n",
       "  64086: [185],\n",
       "  40484: [186, 8065, 33920, 38262],\n",
       "  21720: [187],\n",
       "  51543: [188, 21152],\n",
       "  13146: [189, 3899],\n",
       "  60578: [190],\n",
       "  12406: [191, 33075],\n",
       "  46931: [192],\n",
       "  41541: [193],\n",
       "  7150: [194],\n",
       "  28777: [195, 24671],\n",
       "  62323: [196],\n",
       "  2450: [197, 45843],\n",
       "  59255: [198],\n",
       "  44142: [199, 52511],\n",
       "  60409: [200],\n",
       "  11444: [201, 35594, 41643, 52197],\n",
       "  32280: [202, 4061, 29576, 51105],\n",
       "  63902: [203, 24631, 50392],\n",
       "  58076: [204],\n",
       "  13950: [205, 52505],\n",
       "  45152: [206],\n",
       "  14718: [207],\n",
       "  46584: [208],\n",
       "  52326: [209, 41967, 55447],\n",
       "  53796: [210],\n",
       "  3525: [211],\n",
       "  43132: [212, 5341, 55608],\n",
       "  59719: [213],\n",
       "  33925: [214, 10133, 17778, 34682],\n",
       "  35033: [215],\n",
       "  54784: [216, 42815],\n",
       "  51270: [217, 6069],\n",
       "  19205: [218],\n",
       "  37438: [219, 37201],\n",
       "  46159: [220, 55256],\n",
       "  50376: [221],\n",
       "  61508: [222, 56261],\n",
       "  33651: [223, 32077],\n",
       "  38840: [224],\n",
       "  65232: [225, 53658],\n",
       "  60593: [226, 52804],\n",
       "  11596: [227, 30397],\n",
       "  24339: [228, 16850],\n",
       "  54481: [229, 56336],\n",
       "  3013: [230, 23496],\n",
       "  51257: [231],\n",
       "  8082: [232],\n",
       "  32214: [233],\n",
       "  20494: [234],\n",
       "  6267: [235, 28128],\n",
       "  25196: [236],\n",
       "  47205: [237, 43825, 49576],\n",
       "  43294: [238],\n",
       "  7583: [239, 13926, 25092],\n",
       "  6401: [240],\n",
       "  35394: [241],\n",
       "  59155: [242, 9723],\n",
       "  9183: [243],\n",
       "  63188: [244],\n",
       "  49773: [245],\n",
       "  13836: [246, 56669],\n",
       "  9124: [247, 48988],\n",
       "  8028: [248],\n",
       "  32799: [249, 18420, 18626, 37806, 41015],\n",
       "  22217: [250],\n",
       "  43616: [251],\n",
       "  34459: [252],\n",
       "  7677: [253, 1480],\n",
       "  19249: [254, 9976],\n",
       "  53135: [255],\n",
       "  560: [256, 1777, 39285],\n",
       "  13727: [257],\n",
       "  9701: [258, 2180, 15118, 20636],\n",
       "  31634: [259, 13714, 53758],\n",
       "  11579: [260],\n",
       "  27018: [261],\n",
       "  64231: [262],\n",
       "  45316: [263, 53222],\n",
       "  23038: [264, 25987],\n",
       "  47872: [265],\n",
       "  12331: [266, 10115, 26125],\n",
       "  15638: [267, 2949],\n",
       "  90: [268],\n",
       "  34054: [269, 19655, 54204],\n",
       "  57145: [270],\n",
       "  23463: [271, 24828],\n",
       "  64394: [272],\n",
       "  17179: [273, 25827, 39148, 53539],\n",
       "  27424: [274, 21128],\n",
       "  64413: [275, 26976],\n",
       "  2713: [276, 16586],\n",
       "  38916: [277, 15771, 29647],\n",
       "  52278: [278, 29407, 46425],\n",
       "  63493: [279, 20156, 26679, 50734],\n",
       "  21816: [280],\n",
       "  7354: [281, 38550],\n",
       "  50209: [282, 47023],\n",
       "  54156: [283],\n",
       "  16889: [284, 2392],\n",
       "  63062: [285, 28988],\n",
       "  18131: [286],\n",
       "  48633: [287],\n",
       "  58371: [288, 26872, 46794],\n",
       "  41496: [289, 1168, 57089],\n",
       "  17827: [290],\n",
       "  27858: [291, 55738],\n",
       "  10538: [292, 45908],\n",
       "  26114: [293, 21336, 22291, 23391, 57278],\n",
       "  33234: [294, 43786],\n",
       "  14026: [295, 48541],\n",
       "  41415: [296],\n",
       "  6255: [297, 18101, 27457, 52704],\n",
       "  21366: [298, 53784],\n",
       "  39422: [299],\n",
       "  24674: [300, 2640, 14611],\n",
       "  36864: [301],\n",
       "  42825: [302],\n",
       "  9445: [303],\n",
       "  8204: [304, 2405, 31542, 44638, 49258],\n",
       "  14431: [305, 32768, 50583],\n",
       "  58568: [306, 55482],\n",
       "  19681: [307, 20552, 55088, 57802],\n",
       "  52210: [308],\n",
       "  38674: [309, 26212, 53624],\n",
       "  9292: [310, 21536, 36807],\n",
       "  4812: [311],\n",
       "  42210: [312, 28773],\n",
       "  60868: [313, 50347],\n",
       "  18309: [314],\n",
       "  12063: [315, 18995],\n",
       "  2826: [316, 23162, 44310],\n",
       "  51155: [317],\n",
       "  47567: [318, 30808],\n",
       "  55399: [319, 30996, 41154],\n",
       "  10582: [320, 6867, 7044, 23287, 55551],\n",
       "  3414: [321, 23023, 57752],\n",
       "  46123: [322],\n",
       "  61981: [323, 7030, 19219, 31286],\n",
       "  27574: [324, 30238],\n",
       "  22691: [325],\n",
       "  63848: [326, 17038],\n",
       "  64628: [327, 829, 37251, 57809],\n",
       "  44990: [328],\n",
       "  24401: [329, 58750],\n",
       "  41545: [330, 13646],\n",
       "  20432: [331],\n",
       "  58146: [332, 23454],\n",
       "  61672: [333, 32632],\n",
       "  6516: [334],\n",
       "  40721: [335],\n",
       "  50392: [336],\n",
       "  19486: [337, 24596, 34644],\n",
       "  31323: [338],\n",
       "  13: [339, 36683, 41346, 56014],\n",
       "  20984: [340, 58727],\n",
       "  45094: [341],\n",
       "  26001: [342],\n",
       "  53441: [343, 24689],\n",
       "  1472: [344],\n",
       "  19058: [345, 27391, 34612, 46982],\n",
       "  21115: [346, 750],\n",
       "  11098: [347, 41090, 55493],\n",
       "  43935: [348, 25194],\n",
       "  12727: [349, 15688],\n",
       "  25172: [350, 2262, 35363, 41369],\n",
       "  28284: [351, 16177],\n",
       "  2174: [352],\n",
       "  35731: [353],\n",
       "  7462: [354, 41208, 48076],\n",
       "  24070: [355, 26648],\n",
       "  24226: [356],\n",
       "  7656: [357, 9024],\n",
       "  37661: [358, 49141],\n",
       "  2433: [359, 36339],\n",
       "  47900: [360, 7372, 25412, 49968, 55760],\n",
       "  26653: [361, 10770, 46091],\n",
       "  9717: [362],\n",
       "  1037: [363, 23962, 53829],\n",
       "  2639: [364, 12487, 14464, 23186],\n",
       "  31220: [365, 15012],\n",
       "  37949: [366, 7586, 38556],\n",
       "  44377: [367],\n",
       "  6421: [368, 3539, 22963, 32623],\n",
       "  16614: [369],\n",
       "  34462: [370, 10081],\n",
       "  1358: [371, 15992, 48791],\n",
       "  36107: [372, 10951, 17893],\n",
       "  46300: [373, 12775, 32808],\n",
       "  42970: [374],\n",
       "  41253: [375],\n",
       "  53184: [376],\n",
       "  53499: [377, 50749],\n",
       "  62307: [378, 46886],\n",
       "  1798: [379],\n",
       "  9330: [380, 34424, 53099],\n",
       "  51361: [381, 41371],\n",
       "  48620: [382],\n",
       "  38308: [383, 34172, 50536, 50894],\n",
       "  5322: [384, 34926, 47385],\n",
       "  27671: [385, 8476],\n",
       "  8614: [386, 20782, 54704],\n",
       "  46774: [387],\n",
       "  27099: [388, 18148],\n",
       "  2389: [389, 43081, 56716],\n",
       "  41318: [390, 531, 50537],\n",
       "  29557: [391, 25843],\n",
       "  16402: [392],\n",
       "  55206: [393],\n",
       "  16412: [394, 50959],\n",
       "  2009: [395, 51773],\n",
       "  45337: [396, 14495, 26190, 51278],\n",
       "  8837: [397, 12541, 45824],\n",
       "  8945: [398, 1928, 53483],\n",
       "  51236: [399, 32153],\n",
       "  48719: [400, 11853],\n",
       "  9555: [401],\n",
       "  24411: [402],\n",
       "  15514: [403, 31229],\n",
       "  23698: [404, 13966],\n",
       "  24661: [405, 37901],\n",
       "  37649: [406],\n",
       "  15704: [407, 15983, 29943, 50112],\n",
       "  29075: [408, 36354],\n",
       "  7542: [409],\n",
       "  11232: [410],\n",
       "  65052: [411, 10145],\n",
       "  32945: [412, 9242, 17933],\n",
       "  35104: [413, 23694, 52648],\n",
       "  15268: [414],\n",
       "  18300: [415, 23603],\n",
       "  64789: [416, 17172, 54699],\n",
       "  62070: [417, 45040, 56029],\n",
       "  9339: [418, 49857],\n",
       "  3684: [419, 36615],\n",
       "  60271: [420],\n",
       "  49245: [421, 3980],\n",
       "  24693: [422, 27857],\n",
       "  30995: [423, 8799, 51880],\n",
       "  42356: [424, 58953],\n",
       "  3736: [425, 50538],\n",
       "  10507: [426, 26023, 53656],\n",
       "  20681: [427],\n",
       "  30850: [428, 23934],\n",
       "  32918: [429, 52921],\n",
       "  29185: [430],\n",
       "  27079: [431],\n",
       "  44089: [432, 2372, 6544],\n",
       "  21334: [433, 35997, 50190],\n",
       "  19520: [434, 31021],\n",
       "  13863: [435],\n",
       "  10708: [436, 5951, 52018],\n",
       "  45237: [437, 58639],\n",
       "  46430: [438, 30638, 55426, 55454],\n",
       "  64774: [439, 32700, 41268, 46992],\n",
       "  53750: [440],\n",
       "  3412: [441, 15181, 18261, 21302],\n",
       "  11754: [442, 8263],\n",
       "  24677: [443, 1948, 45624],\n",
       "  9318: [444, 33145],\n",
       "  53372: [445, 58744],\n",
       "  51198: [446],\n",
       "  14459: [447],\n",
       "  23044: [448, 18181, 45130],\n",
       "  46192: [449, 39908, 58686],\n",
       "  4758: [450, 13087, 13514],\n",
       "  48232: [451],\n",
       "  31809: [452, 17306],\n",
       "  60161: [453, 55204],\n",
       "  8532: [454, 2055, 11379, 16709, 34412],\n",
       "  36406: [455],\n",
       "  9346: [457, 4981, 33868, 34382],\n",
       "  7535: [458],\n",
       "  2392: [459, 57428],\n",
       "  25575: [460],\n",
       "  32996: [461, 22378],\n",
       "  62045: [462],\n",
       "  3628: [463, 46355],\n",
       "  23244: [464],\n",
       "  2844: [465],\n",
       "  25751: [466],\n",
       "  10849: [467],\n",
       "  9797: [468, 13704, 19437, 29006],\n",
       "  28833: [469],\n",
       "  12587: [470],\n",
       "  12854: [471, 21075, 58402],\n",
       "  60630: [472, 31523, 39901],\n",
       "  34145: [473, 21883],\n",
       "  30101: [474, 28380],\n",
       "  46358: [475, 4762, 52977],\n",
       "  59311: [476],\n",
       "  35531: [477, 26615, 47469],\n",
       "  53113: [478, 46341],\n",
       "  64008: [479],\n",
       "  27852: [480],\n",
       "  44579: [481, 31746],\n",
       "  52071: [482, 45057],\n",
       "  64829: [483],\n",
       "  36886: [484, 27030],\n",
       "  7263: [485, 49119],\n",
       "  120: [486],\n",
       "  52044: [487],\n",
       "  37212: [488, 55612],\n",
       "  12387: [489, 54758],\n",
       "  14362: [490],\n",
       "  12635: [491, 47683],\n",
       "  7733: [492, 22534, 53776],\n",
       "  10640: [493],\n",
       "  22171: [494, 4560],\n",
       "  23873: [495, 29543, 58099],\n",
       "  49719: [496, 939],\n",
       "  4689: [497, 24708, 45744],\n",
       "  28340: [498, 14199, 49894],\n",
       "  47156: [499],\n",
       "  29261: [500],\n",
       "  51315: [501, 51694],\n",
       "  58367: [502, 30644],\n",
       "  30222: [503, 47895],\n",
       "  53707: [504, 34316],\n",
       "  38878: [505],\n",
       "  11048: [506],\n",
       "  26910: [507, 17366, 38686],\n",
       "  60182: [508, 47872],\n",
       "  52108: [509, 5937],\n",
       "  12294: [510, 34294, 48436],\n",
       "  50253: [511, 11941],\n",
       "  37723: [512],\n",
       "  9242: [513],\n",
       "  59704: [514, 25057],\n",
       "  58423: [515],\n",
       "  55909: [516, 2759, 32829],\n",
       "  1028: [517, 17261, 21031],\n",
       "  53443: [518],\n",
       "  49358: [519, 37455],\n",
       "  19607: [520, 3132, 18551],\n",
       "  63633: [521],\n",
       "  30792: [522, 3649, 6598, 6972, 23901, 30969, 41273, 42174],\n",
       "  56345: [523],\n",
       "  58014: [524],\n",
       "  15058: [525],\n",
       "  27289: [526, 34011],\n",
       "  51833: [527, 16627, 50155],\n",
       "  19545: [528],\n",
       "  26625: [529],\n",
       "  6206: [530],\n",
       "  20754: [532],\n",
       "  16880: [533],\n",
       "  8167: [534],\n",
       "  34017: [535],\n",
       "  27363: [536, 47635],\n",
       "  63763: [537, 30744, 42984, 51032],\n",
       "  25109: [538],\n",
       "  54860: [539, 56233],\n",
       "  18590: [540, 1401, 30081, 57506],\n",
       "  4691: [541],\n",
       "  45278: [542, 14902, 26355],\n",
       "  57878: [543, 24575],\n",
       "  32889: [544],\n",
       "  52753: [545],\n",
       "  5146: [546, 44826],\n",
       "  38938: [547],\n",
       "  41595: [548, 28309],\n",
       "  17025: [549, 37730],\n",
       "  10911: [550, 24856],\n",
       "  9768: [551, 40283],\n",
       "  37969: [552, 12111],\n",
       "  44635: [553],\n",
       "  14877: [554, 36465],\n",
       "  42248: [555, 55410],\n",
       "  17496: [556, 9732, 10662, 36037],\n",
       "  53982: [557],\n",
       "  31505: [558],\n",
       "  11896: [559, 35141],\n",
       "  14192: [560],\n",
       "  12439: [561],\n",
       "  6984: [562],\n",
       "  25379: [563],\n",
       "  55834: [564],\n",
       "  24981: [565, 20742, 51735],\n",
       "  6444: [566, 18041],\n",
       "  41692: [567, 15091, 40733],\n",
       "  37512: [568, 31338],\n",
       "  50934: [569, 982],\n",
       "  26253: [570, 45634],\n",
       "  20756: [571],\n",
       "  50539: [572],\n",
       "  60229: [573, 2427, 31876, 49183, 53562],\n",
       "  56688: [574],\n",
       "  34430: [575, 3087, 44582],\n",
       "  46148: [576, 1114, 29225, 43699],\n",
       "  50024: [577, 6297, 13581],\n",
       "  36380: [578, 45279, 52175, 56020, 57446],\n",
       "  32768: [579, 34370],\n",
       "  62080: [580, 27529],\n",
       "  42139: [581, 27254],\n",
       "  35152: [582, 48353],\n",
       "  12054: [583, 5426],\n",
       "  29893: [584],\n",
       "  60166: [585, 27097],\n",
       "  14709: [586],\n",
       "  47630: [587, 9730, 21878],\n",
       "  53490: [588, 22250, 45437],\n",
       "  45387: [589, 7869, 17554],\n",
       "  5634: [590, 25242],\n",
       "  46342: [591],\n",
       "  64810: [592],\n",
       "  53299: [593, 5760, 19891],\n",
       "  18297: [594],\n",
       "  44661: [595, 11107],\n",
       "  60811: [596],\n",
       "  31424: [597],\n",
       "  58705: [598],\n",
       "  22746: [599],\n",
       "  21504: [600],\n",
       "  72: [601, 9704, 19628, 36929, 47907, 51144],\n",
       "  31389: [602, 24258],\n",
       "  11640: [603, 19445],\n",
       "  53987: [604],\n",
       "  63782: [605, 24792],\n",
       "  64242: [606, 44958],\n",
       "  27352: [607, 45833],\n",
       "  4252: [608, 35009, 42450],\n",
       "  24041: [609],\n",
       "  46375: [610, 53847],\n",
       "  2915: [611],\n",
       "  54515: [612, 22212, 38018],\n",
       "  34167: [613, 16348, 26135],\n",
       "  45271: [614],\n",
       "  45969: [615, 21900],\n",
       "  6537: [616],\n",
       "  12487: [617, 25351, 58861],\n",
       "  46703: [618],\n",
       "  21631: [619],\n",
       "  10526: [620, 9094],\n",
       "  17584: [621],\n",
       "  7794: [622, 1978],\n",
       "  36890: [623],\n",
       "  21846: [624],\n",
       "  16455: [625, 36196, 48066, 50934, 57079],\n",
       "  40235: [626, 10774],\n",
       "  57340: [627, 27044],\n",
       "  44237: [628],\n",
       "  21705: [629],\n",
       "  13922: [630, 41112, 47493],\n",
       "  23199: [631],\n",
       "  1078: [632, 40691],\n",
       "  13949: [633, 11275, 25291, 33609, 54201],\n",
       "  24930: [634, 21666, 35429, 49941],\n",
       "  37425: [635, 2307],\n",
       "  31799: [636, 50062],\n",
       "  42260: [637, 4317, 4589, 12050],\n",
       "  18541: [638, 5801, 22442, 31348],\n",
       "  51227: [639, 8628],\n",
       "  64021: [640, 21120],\n",
       "  7592: [641],\n",
       "  143: [642, 41758],\n",
       "  3242: [643],\n",
       "  49: [644, 27058, 32896, 42501, 48816],\n",
       "  39940: [645, 19656, 25237, 27493],\n",
       "  55478: [646],\n",
       "  40916: [647],\n",
       "  62617: [648],\n",
       "  60072: [649, 1173],\n",
       "  28979: [650],\n",
       "  16838: [651, 11172, 55333],\n",
       "  61495: [652],\n",
       "  8741: [653, 21248, 24206, 25070],\n",
       "  13732: [654],\n",
       "  17550: [655],\n",
       "  10522: [656],\n",
       "  42000: [657, 8227, 14877, 44515],\n",
       "  41247: [658],\n",
       "  22397: [659],\n",
       "  5170: [660, 6660, 59012],\n",
       "  12884: [661, 29724, 37789, 49859, 57080],\n",
       "  31501: [662, 25654, 31444, 45965],\n",
       "  2181: [663, 42165, 53977],\n",
       "  39933: [664, 8597],\n",
       "  45314: [665],\n",
       "  41212: [666, 38832],\n",
       "  53532: [667],\n",
       "  46953: [668],\n",
       "  42770: [669, 35047, 44825],\n",
       "  47916: [670],\n",
       "  41949: [671, 34654],\n",
       "  13628: [672, 34619],\n",
       "  63068: [673],\n",
       "  27138: [674],\n",
       "  63751: [675],\n",
       "  9513: [676],\n",
       "  45557: [677, 26319, 39617],\n",
       "  25737: [678],\n",
       "  50357: [679],\n",
       "  63079: [680, 10561, 17197, 39031],\n",
       "  52422: [681, 43104],\n",
       "  45296: [682],\n",
       "  18510: [683, 15070, 56790],\n",
       "  44973: [684, 22361],\n",
       "  2588: [685, 16074, 19649],\n",
       "  42168: [687],\n",
       "  37324: [688],\n",
       "  65430: [689, 883],\n",
       "  56750: [690, 19709],\n",
       "  26620: [691],\n",
       "  58626: [692],\n",
       "  50000: [693, 31854],\n",
       "  5573: [694],\n",
       "  50486: [695],\n",
       "  23700: [696, 26629, 42012, 43508],\n",
       "  29077: [697, 55705, 55979],\n",
       "  48491: [698, 22719],\n",
       "  27926: [699, 50958],\n",
       "  35418: [700, 6196, 49971],\n",
       "  19879: [701],\n",
       "  11892: [702, 20239],\n",
       "  35943: [703, 4717],\n",
       "  35133: [704, 1874],\n",
       "  40008: [705, 18074],\n",
       "  26279: [706, 21731],\n",
       "  14389: [707, 31039, 34981],\n",
       "  1039: [708, 12110],\n",
       "  44927: [709],\n",
       "  10058: [710, 9962, 52575],\n",
       "  55062: [711, 10196, 11403],\n",
       "  54877: [712],\n",
       "  36020: [713, 47197, 50373, 56476],\n",
       "  10362: [714, 49485],\n",
       "  59410: [715, 37212],\n",
       "  53505: [716],\n",
       "  4612: [717, 5498, 36795, 57342],\n",
       "  59546: [718, 51815],\n",
       "  5654: [719],\n",
       "  46: [720, 39971],\n",
       "  34686: [722, 13065],\n",
       "  2116: [723, 15370, 39498, 56309, 57353],\n",
       "  50038: [724, 17001],\n",
       "  32658: [725, 25064, 40539],\n",
       "  35066: [726, 36545],\n",
       "  5461: [727, 21996],\n",
       "  43481: [728, 19076, 34557, 40278],\n",
       "  42605: [729, 18099],\n",
       "  19634: [730, 5446, 42014],\n",
       "  16863: [731, 24975],\n",
       "  49980: [732],\n",
       "  10333: [733, 29075, 31066, 56674],\n",
       "  32322: [734],\n",
       "  58991: [735],\n",
       "  63985: [736],\n",
       "  55514: [737, 34603, 53937],\n",
       "  25201: [738, 35573, 52101],\n",
       "  5160: [739, 1265, 24010, 34602],\n",
       "  48311: [740, 52646],\n",
       "  31969: [741],\n",
       "  36067: [742],\n",
       "  37059: [743, 46326],\n",
       "  57129: [744],\n",
       "  1897: [745, 15644],\n",
       "  55300: [746, 28804],\n",
       "  36436: [747, 32457],\n",
       "  32028: [748, 22264],\n",
       "  15785: [749, 35203],\n",
       "  53108: [751, 21151, 59069],\n",
       "  25832: [752],\n",
       "  4413: [753, 18260],\n",
       "  46303: [754, 9309, 53893],\n",
       "  28861: [755, 51632],\n",
       "  17709: [756],\n",
       "  24744: [757, 41161],\n",
       "  13640: [758, 1108],\n",
       "  39254: [759],\n",
       "  56761: [760, 41947],\n",
       "  6381: [761],\n",
       "  20035: [762, 17325],\n",
       "  37377: [763, 34578],\n",
       "  21426: [764],\n",
       "  32267: [765, 55366],\n",
       "  49921: [766],\n",
       "  40783: [767],\n",
       "  20010: [768, 28129],\n",
       "  16995: [769, 47163],\n",
       "  28918: [770, 41714],\n",
       "  31086: [771],\n",
       "  47326: [772, 21059, 25136],\n",
       "  64709: [773, 20662],\n",
       "  12380: [774, 23885, 54725],\n",
       "  44166: [775, 7633, 11212],\n",
       "  42755: [776, 6243, 15285],\n",
       "  55747: [777],\n",
       "  14205: [778, 23807, 52725],\n",
       "  49616: [779, 22698],\n",
       "  47228: [780, 7695, 20810, 31723, 35656, 50463],\n",
       "  64562: [781],\n",
       "  6155: [782, 1399, 26133, 50223, 55234],\n",
       "  26454: [783, 20240],\n",
       "  47651: [784],\n",
       "  14622: [785, 31112, 49433],\n",
       "  47276: [786, 49072],\n",
       "  36772: [787],\n",
       "  29079: [788],\n",
       "  32291: [789],\n",
       "  27032: [790],\n",
       "  4617: [791, 15826, 34657],\n",
       "  60445: [792],\n",
       "  52684: [793],\n",
       "  46070: [794],\n",
       "  8946: [795, 10137, 50476],\n",
       "  13446: [796],\n",
       "  26709: [797, 40925, 49217],\n",
       "  35340: [798, 21480, 40865],\n",
       "  63019: [799],\n",
       "  55156: [800, 7758, 30414],\n",
       "  53929: [801],\n",
       "  58103: [802, 9846],\n",
       "  51976: [803, 54686, 57679],\n",
       "  12246: [804],\n",
       "  54711: [805, 35696],\n",
       "  51640: [806, 32846],\n",
       "  30492: [807, 23925, 32981],\n",
       "  64836: [808, 2318, 55918],\n",
       "  2267: [809],\n",
       "  30185: [810, 40303],\n",
       "  31004: [811, 4955, 38393],\n",
       "  22366: [812, 25307, 35174],\n",
       "  5980: [813, 45867, 46304],\n",
       "  4566: [814, 17116],\n",
       "  46194: [815, 27203, 57266],\n",
       "  13228: [816],\n",
       "  63251: [817, 28327],\n",
       "  65476: [818, 35375],\n",
       "  27923: [819],\n",
       "  52666: [820],\n",
       "  24662: [821, 16911, 24319, 40411, 46174, 50602],\n",
       "  9006: [822, 18540, 27184, 31954, 37860],\n",
       "  32843: [823, 34510, 39178],\n",
       "  51623: [824],\n",
       "  54114: [825],\n",
       "  39518: [826, 4675, 14602, 24744],\n",
       "  32585: [827, 18302],\n",
       "  37892: [828, 5546, 43654, 57793],\n",
       "  31949: [830],\n",
       "  27238: [831],\n",
       "  3624: [832],\n",
       "  10868: [833, 11840, 31412],\n",
       "  17650: [834, 40140, 48509],\n",
       "  45572: [835, 3946, 7517],\n",
       "  47831: [836, 17670],\n",
       "  2535: [837],\n",
       "  64663: [838],\n",
       "  32809: [839, 5145],\n",
       "  13058: [840],\n",
       "  44772: [841, 11398],\n",
       "  14903: [842],\n",
       "  17089: [843],\n",
       "  55925: [844, 44683, 55693],\n",
       "  33309: [845, 32195],\n",
       "  63710: [846, 58634],\n",
       "  54379: [847],\n",
       "  16652: [848],\n",
       "  45325: [849, 20182, 47472],\n",
       "  56720: [850, 57581, 58295],\n",
       "  26520: [851],\n",
       "  22198: [852, 34857],\n",
       "  34456: [853],\n",
       "  10236: [854],\n",
       "  22203: [855],\n",
       "  64974: [856],\n",
       "  7857: [857, 23782],\n",
       "  9811: [858, 7166, 12235],\n",
       "  14613: [859, 35452, 46554],\n",
       "  28241: [860, 23573],\n",
       "  29330: [861, 8975],\n",
       "  48145: [862, 40547],\n",
       "  6148: [863, 4351, 39230],\n",
       "  755: [864, 31000],\n",
       "  8819: [865],\n",
       "  427: [866, 54309],\n",
       "  48689: [867],\n",
       "  25206: [868, 11305, 15904],\n",
       "  2274: [869],\n",
       "  1604: [870, 58888],\n",
       "  32778: [871, 28311, 44361],\n",
       "  23566: [872],\n",
       "  64298: [873, 8430],\n",
       "  5899: [874, 25332, 26981],\n",
       "  27661: [875, 2770],\n",
       "  41972: [876, 10887],\n",
       "  64850: [877],\n",
       "  45951: [878, 31221, 41765],\n",
       "  15443: [879, 12288, 18849, 24264, 35394, 40682, 51031],\n",
       "  65361: [880],\n",
       "  49378: [881, 20585, 57350],\n",
       "  26214: [882, 27502],\n",
       "  44469: [884],\n",
       "  54613: [885, 12271, 50564],\n",
       "  42079: [886],\n",
       "  6526: [887, 1192, 36016],\n",
       "  49698: [888, 5136],\n",
       "  34300: [889, 17196],\n",
       "  51798: [890, 7221],\n",
       "  19749: [891, 8134, 9313],\n",
       "  7244: [892, 5066, 18057, 49280],\n",
       "  11529: [893, 32103],\n",
       "  44325: [894, 26554],\n",
       "  55128: [895, 20936],\n",
       "  639: [896, 52606],\n",
       "  34888: [897, 47643],\n",
       "  6790: [898, 3228, 23432],\n",
       "  46020: [899],\n",
       "  23141: [900, 2250, 19262, 30686, 36477],\n",
       "  43420: [901],\n",
       "  39906: [902],\n",
       "  11611: [903, 49839],\n",
       "  16183: [904, 22436, 35845],\n",
       "  46322: [905],\n",
       "  57940: [906, 10019, 10042, 12175, 17659, 37874, 50038],\n",
       "  63048: [907, 13442, 41070],\n",
       "  64134: [908],\n",
       "  26725: [909],\n",
       "  38973: [910, 46747],\n",
       "  44043: [911],\n",
       "  4852: [912, 36754],\n",
       "  10579: [913, 12994, 37605],\n",
       "  14104: [914, 2449, 55767],\n",
       "  57163: [915, 52229],\n",
       "  27315: [916],\n",
       "  65471: [917, 53726],\n",
       "  34832: [918, 6620, 7158, 16973, 20339, 44513, 46104],\n",
       "  468: [919, 36277, 50034],\n",
       "  26965: [920, 6061],\n",
       "  21788: [921, 48074, 56378],\n",
       "  29933: [922, 34607, 36758],\n",
       "  20211: [923],\n",
       "  8499: [924],\n",
       "  11748: [925, 3382, 41348],\n",
       "  61841: [926],\n",
       "  797: [927],\n",
       "  10598: [928, 9150],\n",
       "  28354: [929],\n",
       "  7251: [930, 32481, 40191, 49911],\n",
       "  39177: [931],\n",
       "  64103: [932, 55016],\n",
       "  59323: [933],\n",
       "  5174: [934, 21502],\n",
       "  45710: [935, 17417],\n",
       "  10331: [936, 18903],\n",
       "  62511: [937, 9989],\n",
       "  58427: [938],\n",
       "  32222: [940],\n",
       "  33056: [941, 2754],\n",
       "  50606: [942, 50775],\n",
       "  47094: [943, 12027],\n",
       "  23425: [944],\n",
       "  43838: [945],\n",
       "  40367: [946, 24735, 43031],\n",
       "  51096: [947],\n",
       "  53729: [948],\n",
       "  15020: [949, 26046, 31345],\n",
       "  3344: [950, 8371],\n",
       "  53456: [951, 41982, 55253, 57930],\n",
       "  11561: [952],\n",
       "  45423: [953],\n",
       "  63430: [954],\n",
       "  54700: [955, 56728],\n",
       "  46341: [956, 19874, 34179, 51758],\n",
       "  4692: [957, 45152],\n",
       "  60939: [958, 14981, 38831],\n",
       "  48275: [959, 37330],\n",
       "  47358: [960],\n",
       "  56822: [961],\n",
       "  19457: [962, 13194, 25762],\n",
       "  4709: [963, 5369],\n",
       "  25091: [964],\n",
       "  18432: [965, 29409, 52401],\n",
       "  60934: [966, 40577],\n",
       "  57527: [967, 36573],\n",
       "  14085: [968, 14276],\n",
       "  16878: [969, 34409],\n",
       "  20766: [970, 19781, 20911],\n",
       "  10797: [971, 19571, 28255],\n",
       "  55121: [972],\n",
       "  45369: [973],\n",
       "  42015: [974],\n",
       "  15836: [975, 40076],\n",
       "  8689: [976, 13948],\n",
       "  29374: [977],\n",
       "  45448: [978, 13217],\n",
       "  50537: [979],\n",
       "  21468: [980, 11612, 15537],\n",
       "  21790: [981, 6088],\n",
       "  35335: [983, 44837],\n",
       "  8488: [984],\n",
       "  63492: [985, 8012, 25495, 34368],\n",
       "  41249: [986],\n",
       "  46232: [987],\n",
       "  32701: [988, 26008],\n",
       "  59698: [989],\n",
       "  19584: [990],\n",
       "  22670: [991, 43782],\n",
       "  31100: [992, 43496],\n",
       "  12877: [993, 34239, 47420],\n",
       "  64990: [994, 48217],\n",
       "  22605: [995, 8083],\n",
       "  8765: [996, 24162],\n",
       "  17383: [997, 16172],\n",
       "  6482: [998, 2156, 9917, 43669],\n",
       "  63672: [999, 28463, 43144],\n",
       "  53318: [1000],\n",
       "  8731: [1001],\n",
       "  21765: [1002, 14152],\n",
       "  25912: [1003, 1321, 29367, 41428],\n",
       "  34038: [1004, 51931],\n",
       "  8058: [1005, 17628],\n",
       "  24861: [1006, 19549, 38840],\n",
       "  58166: [1007],\n",
       "  62620: [1008, 6401, 9466],\n",
       "  7250: [1009, 10973, 37991, 44521, 53240],\n",
       "  ...},\n",
       " 'random_vectors': array([[-0.83315434,  1.23769101, -2.47573104, ...,  0.79756606,\n",
       "         -0.41435758, -0.24241533],\n",
       "        [-0.65265148,  0.25670927,  0.40447313, ..., -1.42644501,\n",
       "         -0.74615805,  0.51974589],\n",
       "        [ 0.94565582, -0.63795808,  0.61621208, ...,  0.30495995,\n",
       "         -0.96495193, -0.49425259],\n",
       "        ...,\n",
       "        [-0.16295889, -0.73916065, -1.77774722, ..., -0.76420963,\n",
       "         -0.72594872, -1.57758895],\n",
       "        [ 0.17066382, -1.14728223, -0.13217578, ...,  0.74063741,\n",
       "          0.71068279,  1.43039338],\n",
       "        [-0.96304711,  0.49693098, -1.43585678, ..., -0.04162642,\n",
       "          0.97957289, -0.45107758]]),\n",
       " 'num_vector': 16}"
      ]
     },
     "execution_count": 31,
     "metadata": {},
     "output_type": "execute_result"
    }
   ],
   "source": [
    "model"
   ]
  },
  {
   "cell_type": "code",
   "execution_count": 32,
   "metadata": {},
   "outputs": [
    {
     "data": {
      "text/plain": [
       "35817"
      ]
     },
     "execution_count": 32,
     "metadata": {},
     "output_type": "execute_result"
    }
   ],
   "source": [
    "wiki[wiki['name'] == 'Barack Obama']['id'][0]"
   ]
  },
  {
   "cell_type": "code",
   "execution_count": 33,
   "metadata": {},
   "outputs": [
    {
     "name": "stdout",
     "output_type": "stream",
     "text": [
      "46412\n"
     ]
    }
   ],
   "source": [
    "# bin_index contains Barack Obama's article\n",
    "print(model['bin_indices'][35817]) # integer format"
   ]
  },
  {
   "cell_type": "markdown",
   "metadata": {},
   "source": [
    "Recall from the previous assignment that Joe Biden was a close neighbor of Barack Obama."
   ]
  },
  {
   "cell_type": "code",
   "execution_count": 34,
   "metadata": {},
   "outputs": [
    {
     "data": {
      "text/html": [
       "<div style=\"max-height:1000px;max-width:1500px;overflow:auto;\"><table frame=\"box\" rules=\"cols\">\n",
       "    <tr>\n",
       "        <th style=\"padding-left: 1em; padding-right: 1em; text-align: center\">id</th>\n",
       "        <th style=\"padding-left: 1em; padding-right: 1em; text-align: center\">URI</th>\n",
       "        <th style=\"padding-left: 1em; padding-right: 1em; text-align: center\">name</th>\n",
       "        <th style=\"padding-left: 1em; padding-right: 1em; text-align: center\">text</th>\n",
       "        <th style=\"padding-left: 1em; padding-right: 1em; text-align: center\">tf_idf</th>\n",
       "    </tr>\n",
       "    <tr>\n",
       "        <td style=\"padding-left: 1em; padding-right: 1em; text-align: center; vertical-align: top\">24478</td>\n",
       "        <td style=\"padding-left: 1em; padding-right: 1em; text-align: center; vertical-align: top\">&lt;http://dbpedia.org/resou<br>rce/Joe_Biden&gt; ...</td>\n",
       "        <td style=\"padding-left: 1em; padding-right: 1em; text-align: center; vertical-align: top\">Joe Biden</td>\n",
       "        <td style=\"padding-left: 1em; padding-right: 1em; text-align: center; vertical-align: top\">joseph robinette joe<br>biden jr dosf rbnt badn ...</td>\n",
       "        <td style=\"padding-left: 1em; padding-right: 1em; text-align: center; vertical-align: top\">{&#x27;cliff&#x27;:<br>5.874507600868651, ...</td>\n",
       "    </tr>\n",
       "</table>\n",
       "[? rows x 5 columns]<br/>Note: Only the head of the SFrame is printed. This SFrame is lazily evaluated.<br/>You can use sf.materialize() to force materialization.\n",
       "</div>"
      ],
      "text/plain": [
       "Columns:\n",
       "\tid\tint\n",
       "\tURI\tstr\n",
       "\tname\tstr\n",
       "\ttext\tstr\n",
       "\ttf_idf\tdict\n",
       "\n",
       "Rows: Unknown\n",
       "\n",
       "Data:\n",
       "+-------+-------------------------------+-----------+\n",
       "|   id  |              URI              |    name   |\n",
       "+-------+-------------------------------+-----------+\n",
       "| 24478 | <http://dbpedia.org/resour... | Joe Biden |\n",
       "+-------+-------------------------------+-----------+\n",
       "+-------------------------------+-------------------------------+\n",
       "|              text             |             tf_idf            |\n",
       "+-------------------------------+-------------------------------+\n",
       "| joseph robinette joe biden... | {'cliff': 5.87450760086865... |\n",
       "+-------------------------------+-------------------------------+\n",
       "[? rows x 5 columns]\n",
       "Note: Only the head of the SFrame is printed. This SFrame is lazily evaluated.\n",
       "You can use sf.materialize() to force materialization."
      ]
     },
     "execution_count": 34,
     "metadata": {},
     "output_type": "execute_result"
    }
   ],
   "source": [
    "wiki[wiki['name'] == 'Joe Biden']"
   ]
  },
  {
   "cell_type": "markdown",
   "metadata": {},
   "source": [
    "**Quiz Question**. Examine the bit representations of the bins containing Barack Obama and Joe Biden. In how many places do they agree?\n",
    "\n",
    "1. 16 out of 16 places (Barack Obama and Joe Biden fall into the same bin)\n",
    "2. 14 out of 16 places\n",
    "3. 12 out of 16 places\n",
    "4. 10 out of 16 places\n",
    "5. 8 out of 16 places"
   ]
  },
  {
   "cell_type": "code",
   "execution_count": 35,
   "metadata": {},
   "outputs": [
    {
     "data": {
      "text/plain": [
       "24478"
      ]
     },
     "execution_count": 35,
     "metadata": {},
     "output_type": "execute_result"
    }
   ],
   "source": [
    "wiki[wiki['name'] == 'Joe Biden']['id'][0]"
   ]
  },
  {
   "cell_type": "code",
   "execution_count": 36,
   "metadata": {},
   "outputs": [
    {
     "name": "stdout",
     "output_type": "stream",
     "text": [
      "21346\n"
     ]
    }
   ],
   "source": [
    "# bin_index contains Biden's article\n",
    "print(model['bin_indices'][24478]) # integer format"
   ]
  },
  {
   "cell_type": "code",
   "execution_count": 37,
   "metadata": {},
   "outputs": [
    {
     "data": {
      "text/plain": [
       "array([False, False, False,  True,  True, False, False,  True,  True,\n",
       "        True, False,  True, False, False, False,  True])"
      ]
     },
     "execution_count": 37,
     "metadata": {},
     "output_type": "execute_result"
    }
   ],
   "source": [
    "model['bin_index_bits'][35817] == model['bin_index_bits'][24478]"
   ]
  },
  {
   "cell_type": "code",
   "execution_count": 38,
   "metadata": {},
   "outputs": [
    {
     "data": {
      "text/plain": [
       "7"
      ]
     },
     "execution_count": 38,
     "metadata": {},
     "output_type": "execute_result"
    }
   ],
   "source": [
    "sum(model['bin_index_bits'][35817] == model['bin_index_bits'][24478])"
   ]
  },
  {
   "cell_type": "markdown",
   "metadata": {},
   "source": [
    "Compare the result with a former British diplomat, whose bin representation agrees with Obama's in only 8 out of 16 places."
   ]
  },
  {
   "cell_type": "code",
   "execution_count": 39,
   "metadata": {},
   "outputs": [
    {
     "data": {
      "text/html": [
       "<div style=\"max-height:1000px;max-width:1500px;overflow:auto;\"><table frame=\"box\" rules=\"cols\">\n",
       "    <tr>\n",
       "        <th style=\"padding-left: 1em; padding-right: 1em; text-align: center\">id</th>\n",
       "        <th style=\"padding-left: 1em; padding-right: 1em; text-align: center\">URI</th>\n",
       "        <th style=\"padding-left: 1em; padding-right: 1em; text-align: center\">name</th>\n",
       "        <th style=\"padding-left: 1em; padding-right: 1em; text-align: center\">text</th>\n",
       "        <th style=\"padding-left: 1em; padding-right: 1em; text-align: center\">tf_idf</th>\n",
       "    </tr>\n",
       "    <tr>\n",
       "        <td style=\"padding-left: 1em; padding-right: 1em; text-align: center; vertical-align: top\">22745</td>\n",
       "        <td style=\"padding-left: 1em; padding-right: 1em; text-align: center; vertical-align: top\">&lt;http://dbpedia.org/resou<br>rce/Wynn_Normington_H ...</td>\n",
       "        <td style=\"padding-left: 1em; padding-right: 1em; text-align: center; vertical-align: top\">Wynn Normington Hugh-<br>Jones ...</td>\n",
       "        <td style=\"padding-left: 1em; padding-right: 1em; text-align: center; vertical-align: top\">sir wynn normington<br>hughjones kb sometimes ...</td>\n",
       "        <td style=\"padding-left: 1em; padding-right: 1em; text-align: center; vertical-align: top\">{&#x27;2007&#x27;:<br>1.4879730697555795, ...</td>\n",
       "    </tr>\n",
       "</table>\n",
       "[? rows x 5 columns]<br/>Note: Only the head of the SFrame is printed. This SFrame is lazily evaluated.<br/>You can use sf.materialize() to force materialization.\n",
       "</div>"
      ],
      "text/plain": [
       "Columns:\n",
       "\tid\tint\n",
       "\tURI\tstr\n",
       "\tname\tstr\n",
       "\ttext\tstr\n",
       "\ttf_idf\tdict\n",
       "\n",
       "Rows: Unknown\n",
       "\n",
       "Data:\n",
       "+-------+-------------------------------+----------------------------+\n",
       "|   id  |              URI              |            name            |\n",
       "+-------+-------------------------------+----------------------------+\n",
       "| 22745 | <http://dbpedia.org/resour... | Wynn Normington Hugh-Jones |\n",
       "+-------+-------------------------------+----------------------------+\n",
       "+-------------------------------+-------------------------------+\n",
       "|              text             |             tf_idf            |\n",
       "+-------------------------------+-------------------------------+\n",
       "| sir wynn normington hughjo... | {'2007': 1.487973069755579... |\n",
       "+-------------------------------+-------------------------------+\n",
       "[? rows x 5 columns]\n",
       "Note: Only the head of the SFrame is printed. This SFrame is lazily evaluated.\n",
       "You can use sf.materialize() to force materialization."
      ]
     },
     "execution_count": 39,
     "metadata": {},
     "output_type": "execute_result"
    }
   ],
   "source": [
    "wiki[wiki['name']=='Wynn Normington Hugh-Jones']"
   ]
  },
  {
   "cell_type": "code",
   "execution_count": 40,
   "metadata": {},
   "outputs": [
    {
     "name": "stdout",
     "output_type": "stream",
     "text": [
      "[0 0 1 0 1 0 0 0 0 0 1 1 0 1 1 0]\n",
      "10294\n"
     ]
    },
    {
     "data": {
      "text/plain": [
       "array([False,  True,  True, False, False, False,  True, False,  True,\n",
       "       False, False, False, False,  True, False,  True])"
      ]
     },
     "execution_count": 40,
     "metadata": {},
     "output_type": "execute_result"
    }
   ],
   "source": [
    "print(np.array(model['bin_index_bits'][22745], dtype=int)) # list of 0/1's\n",
    "print(model['bin_indices'][22745]) # integer format\n",
    "model['bin_index_bits'][35817] == model['bin_index_bits'][22745]"
   ]
  },
  {
   "cell_type": "markdown",
   "metadata": {},
   "source": [
    "How about the documents in the same bin as Barack Obama? Are they necessarily more similar to Obama than Biden?  Let's look at which documents are in the same bin as the Barack Obama article."
   ]
  },
  {
   "cell_type": "code",
   "execution_count": 41,
   "metadata": {},
   "outputs": [
    {
     "data": {
      "text/plain": [
       "[12257, 19320, 35817]"
      ]
     },
     "execution_count": 41,
     "metadata": {},
     "output_type": "execute_result"
    }
   ],
   "source": [
    "model['table'][model['bin_indices'][35817]]"
   ]
  },
  {
   "cell_type": "markdown",
   "metadata": {},
   "source": [
    "There are four other documents that belong to the same bin. Which documents are they?"
   ]
  },
  {
   "cell_type": "code",
   "execution_count": null,
   "metadata": {},
   "outputs": [],
   "source": []
  },
  {
   "cell_type": "code",
   "execution_count": 42,
   "metadata": {},
   "outputs": [
    {
     "data": {
      "text/plain": [
       "46412"
      ]
     },
     "execution_count": 42,
     "metadata": {},
     "output_type": "execute_result"
    }
   ],
   "source": [
    "model['bin_indices'][35817]"
   ]
  },
  {
   "cell_type": "code",
   "execution_count": 43,
   "metadata": {},
   "outputs": [
    {
     "data": {
      "text/html": [
       "<div style=\"max-height:1000px;max-width:1500px;overflow:auto;\"><table frame=\"box\" rules=\"cols\">\n",
       "    <tr>\n",
       "        <th style=\"padding-left: 1em; padding-right: 1em; text-align: center\">id</th>\n",
       "        <th style=\"padding-left: 1em; padding-right: 1em; text-align: center\">URI</th>\n",
       "        <th style=\"padding-left: 1em; padding-right: 1em; text-align: center\">name</th>\n",
       "        <th style=\"padding-left: 1em; padding-right: 1em; text-align: center\">text</th>\n",
       "    </tr>\n",
       "    <tr>\n",
       "        <td style=\"padding-left: 1em; padding-right: 1em; text-align: center; vertical-align: top\">12257</td>\n",
       "        <td style=\"padding-left: 1em; padding-right: 1em; text-align: center; vertical-align: top\">&lt;http://dbpedia.org/resou<br>rce/Rick_Austin_(poli ...</td>\n",
       "        <td style=\"padding-left: 1em; padding-right: 1em; text-align: center; vertical-align: top\">Rick Austin (politician)</td>\n",
       "        <td style=\"padding-left: 1em; padding-right: 1em; text-align: center; vertical-align: top\">rick austin is an<br>american politician he ...</td>\n",
       "    </tr>\n",
       "    <tr>\n",
       "        <td style=\"padding-left: 1em; padding-right: 1em; text-align: center; vertical-align: top\">19320</td>\n",
       "        <td style=\"padding-left: 1em; padding-right: 1em; text-align: center; vertical-align: top\">&lt;http://dbpedia.org/resou<br>rce/James_Marvel&gt; ...</td>\n",
       "        <td style=\"padding-left: 1em; padding-right: 1em; text-align: center; vertical-align: top\">James Marvel</td>\n",
       "        <td style=\"padding-left: 1em; padding-right: 1em; text-align: center; vertical-align: top\">james marvel is a stage<br>director known for ...</td>\n",
       "    </tr>\n",
       "    <tr>\n",
       "        <td style=\"padding-left: 1em; padding-right: 1em; text-align: center; vertical-align: top\">35817</td>\n",
       "        <td style=\"padding-left: 1em; padding-right: 1em; text-align: center; vertical-align: top\">&lt;http://dbpedia.org/resou<br>rce/Barack_Obama&gt; ...</td>\n",
       "        <td style=\"padding-left: 1em; padding-right: 1em; text-align: center; vertical-align: top\">Barack Obama</td>\n",
       "        <td style=\"padding-left: 1em; padding-right: 1em; text-align: center; vertical-align: top\">barack hussein obama ii<br>brk husen bm born august ...</td>\n",
       "    </tr>\n",
       "</table>\n",
       "<table frame=\"box\" rules=\"cols\">\n",
       "    <tr>\n",
       "        <th style=\"padding-left: 1em; padding-right: 1em; text-align: center\">tf_idf</th>\n",
       "    </tr>\n",
       "    <tr>\n",
       "        <td style=\"padding-left: 1em; padding-right: 1em; text-align: center; vertical-align: top\">{&#x27;2014&#x27;:<br>2.2073995783446634, ...</td>\n",
       "    </tr>\n",
       "    <tr>\n",
       "        <td style=\"padding-left: 1em; padding-right: 1em; text-align: center; vertical-align: top\">{&#x27;journals&#x27;:<br>3.887293645672102, ...</td>\n",
       "    </tr>\n",
       "    <tr>\n",
       "        <td style=\"padding-left: 1em; padding-right: 1em; text-align: center; vertical-align: top\">{&#x27;cuba&#x27;:<br>5.005081177970713, ...</td>\n",
       "    </tr>\n",
       "</table>\n",
       "[3 rows x 5 columns]<br/>\n",
       "</div>"
      ],
      "text/plain": [
       "Columns:\n",
       "\tid\tint\n",
       "\tURI\tstr\n",
       "\tname\tstr\n",
       "\ttext\tstr\n",
       "\ttf_idf\tdict\n",
       "\n",
       "Rows: 3\n",
       "\n",
       "Data:\n",
       "+-------+-------------------------------+--------------------------+\n",
       "|   id  |              URI              |           name           |\n",
       "+-------+-------------------------------+--------------------------+\n",
       "| 12257 | <http://dbpedia.org/resour... | Rick Austin (politician) |\n",
       "| 19320 | <http://dbpedia.org/resour... |       James Marvel       |\n",
       "| 35817 | <http://dbpedia.org/resour... |       Barack Obama       |\n",
       "+-------+-------------------------------+--------------------------+\n",
       "+-------------------------------+-------------------------------+\n",
       "|              text             |             tf_idf            |\n",
       "+-------------------------------+-------------------------------+\n",
       "| rick austin is an american... | {'2014': 2.207399578344663... |\n",
       "| james marvel is a stage di... | {'journals': 3.88729364567... |\n",
       "| barack hussein obama ii br... | {'cuba': 5.005081177970713... |\n",
       "+-------------------------------+-------------------------------+\n",
       "[3 rows x 5 columns]"
      ]
     },
     "execution_count": 43,
     "metadata": {},
     "output_type": "execute_result"
    }
   ],
   "source": [
    "doc_ids = list(model['table'][model['bin_indices'][35817]])\n",
    "# doc_ids.remove(35817) # display documents other than Obama\n",
    "\n",
    "docs = wiki.filter_by(values=doc_ids, column_name='id') # filter by id column\n",
    "docs"
   ]
  },
  {
   "cell_type": "markdown",
   "metadata": {},
   "source": [
    "It turns out that Joe Biden is much closer to Barack Obama than any of the four documents, even though Biden's bin representation differs from Obama's by 2 bits."
   ]
  },
  {
   "cell_type": "code",
   "execution_count": 44,
   "metadata": {},
   "outputs": [
    {
     "name": "stdout",
     "output_type": "stream",
     "text": [
      "================= Cosine distance from Barack Obama\n",
      "Barack Obama - Joe Biden               : 0.703139\n",
      "Barack Obama - Rick Austin (politician): 0.952849\n",
      "Barack Obama - James Marvel            : 0.994369\n",
      "Barack Obama - Barack Obama            : -0.000000\n"
     ]
    }
   ],
   "source": [
    "def cosine_distance(x, y):\n",
    "    xy = x.dot(y.T)\n",
    "    dist = xy/(norm(x)*norm(y))\n",
    "    return 1-dist[0,0]\n",
    "\n",
    "obama_tf_idf = corpus[35817,:]\n",
    "biden_tf_idf = corpus[24478,:]\n",
    "\n",
    "print('================= Cosine distance from Barack Obama')\n",
    "print('Barack Obama - {0:24s}: {1:f}'.format('Joe Biden',\n",
    "                                             cosine_distance(obama_tf_idf, biden_tf_idf)))\n",
    "for doc_id in doc_ids:\n",
    "    doc_tf_idf = corpus[doc_id,:]\n",
    "    print('Barack Obama - {0:24s}: {1:f}'.format(wiki[doc_id]['name'],\n",
    "                                                 cosine_distance(obama_tf_idf, doc_tf_idf)))"
   ]
  },
  {
   "cell_type": "markdown",
   "metadata": {},
   "source": [
    "**Moral of the story**. Similar data points will in general _tend to_ fall into _nearby_ bins, but that's all we can say about LSH. In a high-dimensional space such as text features, we often get unlucky with our selection of only a few random vectors such that dissimilar data points go into the same bin while similar data points fall into different bins. **Given a query document, we must consider all documents in the nearby bins and sort them according to their actual distances from the query.**"
   ]
  },
  {
   "cell_type": "markdown",
   "metadata": {},
   "source": [
    "## Query the LSH model"
   ]
  },
  {
   "cell_type": "markdown",
   "metadata": {},
   "source": [
    "Let us first implement the logic for searching nearby neighbors, which goes like this:\n",
    "```\n",
    "1. Let L be the bit representation of the bin that contains the query documents.\n",
    "2. Consider all documents in bin L.\n",
    "3. Consider documents in the bins whose bit representation differs from L by 1 bit.\n",
    "4. Consider documents in the bins whose bit representation differs from L by 2 bits.\n",
    "...\n",
    "```"
   ]
  },
  {
   "cell_type": "markdown",
   "metadata": {},
   "source": [
    "To obtain candidate bins that differ from the query bin by some number of bits, we use `itertools.combinations`, which produces all possible subsets of a given list. See [this documentation](https://docs.python.org/3/library/itertools.html#itertools.combinations) for details.\n",
    "```\n",
    "1. Decide on the search radius r. This will determine the number of different bits between the two vectors.\n",
    "2. For each subset (n_1, n_2, ..., n_r) of the list [0, 1, 2, ..., num_vector-1], do the following:\n",
    "   * Flip the bits (n_1, n_2, ..., n_r) of the query bin to produce a new bit vector.\n",
    "   * Fetch the list of documents belonging to the bin indexed by the new bit vector.\n",
    "   * Add those documents to the candidate set.\n",
    "```\n",
    "\n",
    "Each line of output from the following cell is a 3-tuple indicating where the candidate bin would differ from the query bin. For instance,\n",
    "```\n",
    "(0, 1, 3)\n",
    "```\n",
    "indicates that the candiate bin differs from the query bin in first, second, and fourth bits."
   ]
  },
  {
   "cell_type": "code",
   "execution_count": 45,
   "metadata": {},
   "outputs": [],
   "source": [
    "from itertools import combinations"
   ]
  },
  {
   "cell_type": "code",
   "execution_count": 46,
   "metadata": {
    "scrolled": true
   },
   "outputs": [
    {
     "name": "stdout",
     "output_type": "stream",
     "text": [
      "(0, 1, 2)\n",
      "(0, 1, 3)\n",
      "(0, 1, 4)\n",
      "(0, 1, 5)\n",
      "(0, 1, 6)\n",
      "(0, 1, 7)\n",
      "(0, 1, 8)\n",
      "(0, 1, 9)\n",
      "(0, 1, 10)\n",
      "(0, 1, 11)\n",
      "(0, 1, 12)\n",
      "(0, 1, 13)\n",
      "(0, 1, 14)\n",
      "(0, 1, 15)\n",
      "(0, 2, 3)\n",
      "(0, 2, 4)\n",
      "(0, 2, 5)\n",
      "(0, 2, 6)\n",
      "(0, 2, 7)\n",
      "(0, 2, 8)\n",
      "(0, 2, 9)\n",
      "(0, 2, 10)\n",
      "(0, 2, 11)\n",
      "(0, 2, 12)\n",
      "(0, 2, 13)\n",
      "(0, 2, 14)\n",
      "(0, 2, 15)\n",
      "(0, 3, 4)\n",
      "(0, 3, 5)\n",
      "(0, 3, 6)\n",
      "(0, 3, 7)\n",
      "(0, 3, 8)\n",
      "(0, 3, 9)\n",
      "(0, 3, 10)\n",
      "(0, 3, 11)\n",
      "(0, 3, 12)\n",
      "(0, 3, 13)\n",
      "(0, 3, 14)\n",
      "(0, 3, 15)\n",
      "(0, 4, 5)\n",
      "(0, 4, 6)\n",
      "(0, 4, 7)\n",
      "(0, 4, 8)\n",
      "(0, 4, 9)\n",
      "(0, 4, 10)\n",
      "(0, 4, 11)\n",
      "(0, 4, 12)\n",
      "(0, 4, 13)\n",
      "(0, 4, 14)\n",
      "(0, 4, 15)\n",
      "(0, 5, 6)\n",
      "(0, 5, 7)\n",
      "(0, 5, 8)\n",
      "(0, 5, 9)\n",
      "(0, 5, 10)\n",
      "(0, 5, 11)\n",
      "(0, 5, 12)\n",
      "(0, 5, 13)\n",
      "(0, 5, 14)\n",
      "(0, 5, 15)\n",
      "(0, 6, 7)\n",
      "(0, 6, 8)\n",
      "(0, 6, 9)\n",
      "(0, 6, 10)\n",
      "(0, 6, 11)\n",
      "(0, 6, 12)\n",
      "(0, 6, 13)\n",
      "(0, 6, 14)\n",
      "(0, 6, 15)\n",
      "(0, 7, 8)\n",
      "(0, 7, 9)\n",
      "(0, 7, 10)\n",
      "(0, 7, 11)\n",
      "(0, 7, 12)\n",
      "(0, 7, 13)\n",
      "(0, 7, 14)\n",
      "(0, 7, 15)\n",
      "(0, 8, 9)\n",
      "(0, 8, 10)\n",
      "(0, 8, 11)\n",
      "(0, 8, 12)\n",
      "(0, 8, 13)\n",
      "(0, 8, 14)\n",
      "(0, 8, 15)\n",
      "(0, 9, 10)\n",
      "(0, 9, 11)\n",
      "(0, 9, 12)\n",
      "(0, 9, 13)\n",
      "(0, 9, 14)\n",
      "(0, 9, 15)\n",
      "(0, 10, 11)\n",
      "(0, 10, 12)\n",
      "(0, 10, 13)\n",
      "(0, 10, 14)\n",
      "(0, 10, 15)\n",
      "(0, 11, 12)\n",
      "(0, 11, 13)\n",
      "(0, 11, 14)\n",
      "(0, 11, 15)\n",
      "(0, 12, 13)\n",
      "(0, 12, 14)\n",
      "(0, 12, 15)\n",
      "(0, 13, 14)\n",
      "(0, 13, 15)\n",
      "(0, 14, 15)\n",
      "(1, 2, 3)\n",
      "(1, 2, 4)\n",
      "(1, 2, 5)\n",
      "(1, 2, 6)\n",
      "(1, 2, 7)\n",
      "(1, 2, 8)\n",
      "(1, 2, 9)\n",
      "(1, 2, 10)\n",
      "(1, 2, 11)\n",
      "(1, 2, 12)\n",
      "(1, 2, 13)\n",
      "(1, 2, 14)\n",
      "(1, 2, 15)\n",
      "(1, 3, 4)\n",
      "(1, 3, 5)\n",
      "(1, 3, 6)\n",
      "(1, 3, 7)\n",
      "(1, 3, 8)\n",
      "(1, 3, 9)\n",
      "(1, 3, 10)\n",
      "(1, 3, 11)\n",
      "(1, 3, 12)\n",
      "(1, 3, 13)\n",
      "(1, 3, 14)\n",
      "(1, 3, 15)\n",
      "(1, 4, 5)\n",
      "(1, 4, 6)\n",
      "(1, 4, 7)\n",
      "(1, 4, 8)\n",
      "(1, 4, 9)\n",
      "(1, 4, 10)\n",
      "(1, 4, 11)\n",
      "(1, 4, 12)\n",
      "(1, 4, 13)\n",
      "(1, 4, 14)\n",
      "(1, 4, 15)\n",
      "(1, 5, 6)\n",
      "(1, 5, 7)\n",
      "(1, 5, 8)\n",
      "(1, 5, 9)\n",
      "(1, 5, 10)\n",
      "(1, 5, 11)\n",
      "(1, 5, 12)\n",
      "(1, 5, 13)\n",
      "(1, 5, 14)\n",
      "(1, 5, 15)\n",
      "(1, 6, 7)\n",
      "(1, 6, 8)\n",
      "(1, 6, 9)\n",
      "(1, 6, 10)\n",
      "(1, 6, 11)\n",
      "(1, 6, 12)\n",
      "(1, 6, 13)\n",
      "(1, 6, 14)\n",
      "(1, 6, 15)\n",
      "(1, 7, 8)\n",
      "(1, 7, 9)\n",
      "(1, 7, 10)\n",
      "(1, 7, 11)\n",
      "(1, 7, 12)\n",
      "(1, 7, 13)\n",
      "(1, 7, 14)\n",
      "(1, 7, 15)\n",
      "(1, 8, 9)\n",
      "(1, 8, 10)\n",
      "(1, 8, 11)\n",
      "(1, 8, 12)\n",
      "(1, 8, 13)\n",
      "(1, 8, 14)\n",
      "(1, 8, 15)\n",
      "(1, 9, 10)\n",
      "(1, 9, 11)\n",
      "(1, 9, 12)\n",
      "(1, 9, 13)\n",
      "(1, 9, 14)\n",
      "(1, 9, 15)\n",
      "(1, 10, 11)\n",
      "(1, 10, 12)\n",
      "(1, 10, 13)\n",
      "(1, 10, 14)\n",
      "(1, 10, 15)\n",
      "(1, 11, 12)\n",
      "(1, 11, 13)\n",
      "(1, 11, 14)\n",
      "(1, 11, 15)\n",
      "(1, 12, 13)\n",
      "(1, 12, 14)\n",
      "(1, 12, 15)\n",
      "(1, 13, 14)\n",
      "(1, 13, 15)\n",
      "(1, 14, 15)\n",
      "(2, 3, 4)\n",
      "(2, 3, 5)\n",
      "(2, 3, 6)\n",
      "(2, 3, 7)\n",
      "(2, 3, 8)\n",
      "(2, 3, 9)\n",
      "(2, 3, 10)\n",
      "(2, 3, 11)\n",
      "(2, 3, 12)\n",
      "(2, 3, 13)\n",
      "(2, 3, 14)\n",
      "(2, 3, 15)\n",
      "(2, 4, 5)\n",
      "(2, 4, 6)\n",
      "(2, 4, 7)\n",
      "(2, 4, 8)\n",
      "(2, 4, 9)\n",
      "(2, 4, 10)\n",
      "(2, 4, 11)\n",
      "(2, 4, 12)\n",
      "(2, 4, 13)\n",
      "(2, 4, 14)\n",
      "(2, 4, 15)\n",
      "(2, 5, 6)\n",
      "(2, 5, 7)\n",
      "(2, 5, 8)\n",
      "(2, 5, 9)\n",
      "(2, 5, 10)\n",
      "(2, 5, 11)\n",
      "(2, 5, 12)\n",
      "(2, 5, 13)\n",
      "(2, 5, 14)\n",
      "(2, 5, 15)\n",
      "(2, 6, 7)\n",
      "(2, 6, 8)\n",
      "(2, 6, 9)\n",
      "(2, 6, 10)\n",
      "(2, 6, 11)\n",
      "(2, 6, 12)\n",
      "(2, 6, 13)\n",
      "(2, 6, 14)\n",
      "(2, 6, 15)\n",
      "(2, 7, 8)\n",
      "(2, 7, 9)\n",
      "(2, 7, 10)\n",
      "(2, 7, 11)\n",
      "(2, 7, 12)\n",
      "(2, 7, 13)\n",
      "(2, 7, 14)\n",
      "(2, 7, 15)\n",
      "(2, 8, 9)\n",
      "(2, 8, 10)\n",
      "(2, 8, 11)\n",
      "(2, 8, 12)\n",
      "(2, 8, 13)\n",
      "(2, 8, 14)\n",
      "(2, 8, 15)\n",
      "(2, 9, 10)\n",
      "(2, 9, 11)\n",
      "(2, 9, 12)\n",
      "(2, 9, 13)\n",
      "(2, 9, 14)\n",
      "(2, 9, 15)\n",
      "(2, 10, 11)\n",
      "(2, 10, 12)\n",
      "(2, 10, 13)\n",
      "(2, 10, 14)\n",
      "(2, 10, 15)\n",
      "(2, 11, 12)\n",
      "(2, 11, 13)\n",
      "(2, 11, 14)\n",
      "(2, 11, 15)\n",
      "(2, 12, 13)\n",
      "(2, 12, 14)\n",
      "(2, 12, 15)\n",
      "(2, 13, 14)\n",
      "(2, 13, 15)\n",
      "(2, 14, 15)\n",
      "(3, 4, 5)\n",
      "(3, 4, 6)\n",
      "(3, 4, 7)\n",
      "(3, 4, 8)\n",
      "(3, 4, 9)\n",
      "(3, 4, 10)\n",
      "(3, 4, 11)\n",
      "(3, 4, 12)\n",
      "(3, 4, 13)\n",
      "(3, 4, 14)\n",
      "(3, 4, 15)\n",
      "(3, 5, 6)\n",
      "(3, 5, 7)\n",
      "(3, 5, 8)\n",
      "(3, 5, 9)\n",
      "(3, 5, 10)\n",
      "(3, 5, 11)\n",
      "(3, 5, 12)\n",
      "(3, 5, 13)\n",
      "(3, 5, 14)\n",
      "(3, 5, 15)\n",
      "(3, 6, 7)\n",
      "(3, 6, 8)\n",
      "(3, 6, 9)\n",
      "(3, 6, 10)\n",
      "(3, 6, 11)\n",
      "(3, 6, 12)\n",
      "(3, 6, 13)\n",
      "(3, 6, 14)\n",
      "(3, 6, 15)\n",
      "(3, 7, 8)\n",
      "(3, 7, 9)\n",
      "(3, 7, 10)\n",
      "(3, 7, 11)\n",
      "(3, 7, 12)\n",
      "(3, 7, 13)\n",
      "(3, 7, 14)\n",
      "(3, 7, 15)\n",
      "(3, 8, 9)\n",
      "(3, 8, 10)\n",
      "(3, 8, 11)\n",
      "(3, 8, 12)\n",
      "(3, 8, 13)\n",
      "(3, 8, 14)\n",
      "(3, 8, 15)\n",
      "(3, 9, 10)\n",
      "(3, 9, 11)\n",
      "(3, 9, 12)\n",
      "(3, 9, 13)\n",
      "(3, 9, 14)\n",
      "(3, 9, 15)\n",
      "(3, 10, 11)\n",
      "(3, 10, 12)\n",
      "(3, 10, 13)\n",
      "(3, 10, 14)\n",
      "(3, 10, 15)\n",
      "(3, 11, 12)\n",
      "(3, 11, 13)\n",
      "(3, 11, 14)\n",
      "(3, 11, 15)\n",
      "(3, 12, 13)\n",
      "(3, 12, 14)\n",
      "(3, 12, 15)\n",
      "(3, 13, 14)\n",
      "(3, 13, 15)\n",
      "(3, 14, 15)\n",
      "(4, 5, 6)\n",
      "(4, 5, 7)\n",
      "(4, 5, 8)\n",
      "(4, 5, 9)\n",
      "(4, 5, 10)\n",
      "(4, 5, 11)\n",
      "(4, 5, 12)\n",
      "(4, 5, 13)\n",
      "(4, 5, 14)\n",
      "(4, 5, 15)\n",
      "(4, 6, 7)\n",
      "(4, 6, 8)\n",
      "(4, 6, 9)\n",
      "(4, 6, 10)\n",
      "(4, 6, 11)\n",
      "(4, 6, 12)\n",
      "(4, 6, 13)\n",
      "(4, 6, 14)\n",
      "(4, 6, 15)\n",
      "(4, 7, 8)\n",
      "(4, 7, 9)\n",
      "(4, 7, 10)\n",
      "(4, 7, 11)\n",
      "(4, 7, 12)\n",
      "(4, 7, 13)\n",
      "(4, 7, 14)\n",
      "(4, 7, 15)\n",
      "(4, 8, 9)\n",
      "(4, 8, 10)\n",
      "(4, 8, 11)\n",
      "(4, 8, 12)\n",
      "(4, 8, 13)\n",
      "(4, 8, 14)\n",
      "(4, 8, 15)\n",
      "(4, 9, 10)\n",
      "(4, 9, 11)\n",
      "(4, 9, 12)\n",
      "(4, 9, 13)\n",
      "(4, 9, 14)\n",
      "(4, 9, 15)\n",
      "(4, 10, 11)\n",
      "(4, 10, 12)\n",
      "(4, 10, 13)\n",
      "(4, 10, 14)\n",
      "(4, 10, 15)\n",
      "(4, 11, 12)\n",
      "(4, 11, 13)\n",
      "(4, 11, 14)\n",
      "(4, 11, 15)\n",
      "(4, 12, 13)\n",
      "(4, 12, 14)\n",
      "(4, 12, 15)\n",
      "(4, 13, 14)\n",
      "(4, 13, 15)\n",
      "(4, 14, 15)\n",
      "(5, 6, 7)\n",
      "(5, 6, 8)\n",
      "(5, 6, 9)\n",
      "(5, 6, 10)\n",
      "(5, 6, 11)\n",
      "(5, 6, 12)\n",
      "(5, 6, 13)\n",
      "(5, 6, 14)\n",
      "(5, 6, 15)\n",
      "(5, 7, 8)\n",
      "(5, 7, 9)\n",
      "(5, 7, 10)\n",
      "(5, 7, 11)\n",
      "(5, 7, 12)\n",
      "(5, 7, 13)\n",
      "(5, 7, 14)\n",
      "(5, 7, 15)\n",
      "(5, 8, 9)\n",
      "(5, 8, 10)\n",
      "(5, 8, 11)\n",
      "(5, 8, 12)\n",
      "(5, 8, 13)\n",
      "(5, 8, 14)\n",
      "(5, 8, 15)\n",
      "(5, 9, 10)\n",
      "(5, 9, 11)\n",
      "(5, 9, 12)\n",
      "(5, 9, 13)\n",
      "(5, 9, 14)\n",
      "(5, 9, 15)\n",
      "(5, 10, 11)\n",
      "(5, 10, 12)\n",
      "(5, 10, 13)\n",
      "(5, 10, 14)\n",
      "(5, 10, 15)\n",
      "(5, 11, 12)\n",
      "(5, 11, 13)\n",
      "(5, 11, 14)\n",
      "(5, 11, 15)\n",
      "(5, 12, 13)\n",
      "(5, 12, 14)\n",
      "(5, 12, 15)\n",
      "(5, 13, 14)\n",
      "(5, 13, 15)\n",
      "(5, 14, 15)\n",
      "(6, 7, 8)\n",
      "(6, 7, 9)\n",
      "(6, 7, 10)\n",
      "(6, 7, 11)\n",
      "(6, 7, 12)\n",
      "(6, 7, 13)\n",
      "(6, 7, 14)\n",
      "(6, 7, 15)\n",
      "(6, 8, 9)\n",
      "(6, 8, 10)\n",
      "(6, 8, 11)\n",
      "(6, 8, 12)\n",
      "(6, 8, 13)\n",
      "(6, 8, 14)\n",
      "(6, 8, 15)\n",
      "(6, 9, 10)\n",
      "(6, 9, 11)\n",
      "(6, 9, 12)\n",
      "(6, 9, 13)\n",
      "(6, 9, 14)\n",
      "(6, 9, 15)\n",
      "(6, 10, 11)\n",
      "(6, 10, 12)\n",
      "(6, 10, 13)\n",
      "(6, 10, 14)\n",
      "(6, 10, 15)\n",
      "(6, 11, 12)\n",
      "(6, 11, 13)\n",
      "(6, 11, 14)\n",
      "(6, 11, 15)\n",
      "(6, 12, 13)\n",
      "(6, 12, 14)\n",
      "(6, 12, 15)\n",
      "(6, 13, 14)\n",
      "(6, 13, 15)\n",
      "(6, 14, 15)\n",
      "(7, 8, 9)\n",
      "(7, 8, 10)\n",
      "(7, 8, 11)\n",
      "(7, 8, 12)\n",
      "(7, 8, 13)\n",
      "(7, 8, 14)\n",
      "(7, 8, 15)\n",
      "(7, 9, 10)\n",
      "(7, 9, 11)\n",
      "(7, 9, 12)\n",
      "(7, 9, 13)\n",
      "(7, 9, 14)\n",
      "(7, 9, 15)\n",
      "(7, 10, 11)\n",
      "(7, 10, 12)\n",
      "(7, 10, 13)\n",
      "(7, 10, 14)\n",
      "(7, 10, 15)\n",
      "(7, 11, 12)\n",
      "(7, 11, 13)\n",
      "(7, 11, 14)\n",
      "(7, 11, 15)\n",
      "(7, 12, 13)\n",
      "(7, 12, 14)\n",
      "(7, 12, 15)\n",
      "(7, 13, 14)\n",
      "(7, 13, 15)\n",
      "(7, 14, 15)\n",
      "(8, 9, 10)\n",
      "(8, 9, 11)\n",
      "(8, 9, 12)\n",
      "(8, 9, 13)\n",
      "(8, 9, 14)\n",
      "(8, 9, 15)\n",
      "(8, 10, 11)\n",
      "(8, 10, 12)\n",
      "(8, 10, 13)\n",
      "(8, 10, 14)\n",
      "(8, 10, 15)\n",
      "(8, 11, 12)\n",
      "(8, 11, 13)\n",
      "(8, 11, 14)\n",
      "(8, 11, 15)\n",
      "(8, 12, 13)\n",
      "(8, 12, 14)\n",
      "(8, 12, 15)\n",
      "(8, 13, 14)\n",
      "(8, 13, 15)\n",
      "(8, 14, 15)\n",
      "(9, 10, 11)\n",
      "(9, 10, 12)\n",
      "(9, 10, 13)\n",
      "(9, 10, 14)\n",
      "(9, 10, 15)\n",
      "(9, 11, 12)\n",
      "(9, 11, 13)\n",
      "(9, 11, 14)\n",
      "(9, 11, 15)\n",
      "(9, 12, 13)\n",
      "(9, 12, 14)\n",
      "(9, 12, 15)\n",
      "(9, 13, 14)\n",
      "(9, 13, 15)\n",
      "(9, 14, 15)\n",
      "(10, 11, 12)\n",
      "(10, 11, 13)\n",
      "(10, 11, 14)\n",
      "(10, 11, 15)\n",
      "(10, 12, 13)\n",
      "(10, 12, 14)\n",
      "(10, 12, 15)\n",
      "(10, 13, 14)\n",
      "(10, 13, 15)\n",
      "(10, 14, 15)\n",
      "(11, 12, 13)\n",
      "(11, 12, 14)\n",
      "(11, 12, 15)\n",
      "(11, 13, 14)\n",
      "(11, 13, 15)\n",
      "(11, 14, 15)\n",
      "(12, 13, 14)\n",
      "(12, 13, 15)\n",
      "(12, 14, 15)\n",
      "(13, 14, 15)\n"
     ]
    }
   ],
   "source": [
    "num_vector = 16\n",
    "search_radius = 3\n",
    "\n",
    "for diff in combinations(range(num_vector), search_radius):\n",
    "    print(diff)"
   ]
  },
  {
   "cell_type": "markdown",
   "metadata": {},
   "source": [
    "With this output in mind, implement the logic for nearby bin search:"
   ]
  },
  {
   "cell_type": "code",
   "execution_count": 47,
   "metadata": {},
   "outputs": [],
   "source": [
    "def search_nearby_bins(query_bin_bits, table, search_radius=2, initial_candidates=set()):\n",
    "    \"\"\"\n",
    "    For a given query vector and trained LSH model, return all candidate neighbors for\n",
    "    the query among all bins within the given search radius.\n",
    "    \n",
    "    Example usage\n",
    "    -------------\n",
    "    >>> model = train_lsh(corpus, num_vector=16, seed=143)\n",
    "    >>> q = model['bin_index_bits'][0]  # vector for the first document\n",
    "  \n",
    "    >>> candidates = search_nearby_bins(q, model['table'])\n",
    "    \"\"\"\n",
    "    num_vector = len(query_bin_bits)\n",
    "    powers_of_two = 1 << np.arange(num_vector-1, -1, -1)\n",
    "    \n",
    "    # Allow the user to provide an initial set of candidates.\n",
    "    candidate_set = copy(initial_candidates)\n",
    "    \n",
    "    for different_bits in combinations(range(num_vector), search_radius):       \n",
    "        # Flip the bits (n_1,n_2,...,n_r) of the query bin to produce a new bit vector.\n",
    "        ## Hint: you can iterate over a tuple like a list\n",
    "        alternate_bits = copy(query_bin_bits)\n",
    "        for i in different_bits:\n",
    "            alternate_bits[i] = ~alternate_bits[i] # YOUR CODE HERE \n",
    "        \n",
    "        # Convert the new bit vector to an integer index\n",
    "        nearby_bin = alternate_bits.dot(powers_of_two)\n",
    "#         print(nearby_bin)\n",
    "        # Fetch the list of documents belonging to the bin indexed by the new bit vector.\n",
    "        # Then add those documents to candidate_set\n",
    "        # Make sure that the bin exists in the table!\n",
    "        # Hint: update() method for sets lets you add an entire list to the set\n",
    "        if nearby_bin in table:\n",
    "            candidate_set.update(table[nearby_bin]) # YOUR CODE HERE: Update candidate_set with the documents in this bin.\n",
    "            \n",
    "    return candidate_set"
   ]
  },
  {
   "cell_type": "markdown",
   "metadata": {},
   "source": [
    "**Checkpoint**. Running the function with `search_radius=0` should yield the list of documents belonging to the same bin as the query."
   ]
  },
  {
   "cell_type": "code",
   "execution_count": 48,
   "metadata": {
    "scrolled": true
   },
   "outputs": [
    {
     "name": "stdout",
     "output_type": "stream",
     "text": [
      "Check your code\n",
      "List of documents in the same bin as Obama: 35817, 21426, 53937, 39426, 50261\n"
     ]
    }
   ],
   "source": [
    "obama_bin_index = model['bin_index_bits'][35817] # bin index of Barack Obama\n",
    "candidate_set = search_nearby_bins(obama_bin_index, model['table'], search_radius=0)\n",
    "if candidate_set == set([35817, 21426, 53937, 39426, 50261]):\n",
    "    print('Passed test')\n",
    "else:\n",
    "    print('Check your code')\n",
    "print('List of documents in the same bin as Obama: 35817, 21426, 53937, 39426, 50261')"
   ]
  },
  {
   "cell_type": "markdown",
   "metadata": {},
   "source": [
    "**Checkpoint**. Running the function with `search_radius=1` adds more documents to the fore."
   ]
  },
  {
   "cell_type": "code",
   "execution_count": 49,
   "metadata": {},
   "outputs": [
    {
     "name": "stdout",
     "output_type": "stream",
     "text": [
      "Check your code\n"
     ]
    }
   ],
   "source": [
    "candidate_set = search_nearby_bins(obama_bin_index, model['table'], search_radius=1, initial_candidates=candidate_set)\n",
    "if candidate_set == set([39426, 38155, 38412, 28444, 9757, 41631, 39207, 59050, 47773, 53937, 21426, 34547,\n",
    "                         23229, 55615, 39877, 27404, 33996, 21715, 50261, 21975, 33243, 58723, 35817, 45676,\n",
    "                         19699, 2804, 20347]):\n",
    "    print('Passed test')\n",
    "else:\n",
    "    print('Check your code')"
   ]
  },
  {
   "cell_type": "code",
   "execution_count": 50,
   "metadata": {},
   "outputs": [
    {
     "data": {
      "text/plain": [
       "{1340,\n",
       " 1409,\n",
       " 3025,\n",
       " 3094,\n",
       " 5133,\n",
       " 5204,\n",
       " 7160,\n",
       " 9224,\n",
       " 9719,\n",
       " 11367,\n",
       " 12257,\n",
       " 19320,\n",
       " 22345,\n",
       " 25732,\n",
       " 28543,\n",
       " 30622,\n",
       " 31204,\n",
       " 35817,\n",
       " 36682,\n",
       " 44110,\n",
       " 48468,\n",
       " 48503,\n",
       " 48531,\n",
       " 49826,\n",
       " 50810,\n",
       " 54296,\n",
       " 54693,\n",
       " 55811,\n",
       " 58378}"
      ]
     },
     "execution_count": 50,
     "metadata": {},
     "output_type": "execute_result"
    }
   ],
   "source": [
    "candidate_set"
   ]
  },
  {
   "cell_type": "code",
   "execution_count": 51,
   "metadata": {},
   "outputs": [
    {
     "name": "stdout",
     "output_type": "stream",
     "text": [
      "15 ['Mark Zinni', ... ]\n",
      "15 ['Serphin R. Maltese', ... ]\n",
      "15 ['Aur%C3%A9lien Agb%C3%A9nonci', ... ]\n",
      "15 ['Steve Meyer', ... ]\n",
      "15 ['Fabio Santus', ... ]\n",
      "15 ['Bill Hillgrove', ... ]\n",
      "15 ['Patty Ritchie', ... ]\n",
      "15 ['Lisa Walker (jeweller)', ... ]\n",
      "15 ['Bert Karlsson', ... ]\n",
      "15 ['Fabio Maj', ... ]\n",
      "15 ['Semra Sezer', ... ]\n",
      "15 ['Sean Swarner', ... ]\n",
      "15 ['Frances Olsen', ... ]\n",
      "15 ['Mark Rowntree', ... ]\n",
      "15 ['Robert Frimtzis', ... ]\n",
      "15 ['Art Long', ... ]\n",
      "15 ['Abel Maldonado', ... ]\n",
      "15 ['Ath%C3%A9sia', ... ]\n",
      "15 ['Andy Hilfiger', ... ]\n",
      "15 ['Karen Salmansohn', ... ]\n",
      "15 ['Erv Kanemoto', ... ]\n",
      "16 ['Rick Austin (politician)', ... ]\n",
      "15 ['Crispin Wright', ... ]\n",
      "15 ['Sairusi Nagagavoka', ... ]\n",
      "16 ['Barack Obama', ... ]\n",
      "15 ['Danny Blue (comedian)', ... ]\n",
      "16 ['James Marvel', ... ]\n",
      "15 ['Miroslav Ro%C5%BEi%C4%87', ... ]\n",
      "15 ['Kimiko Ikegami', ... ]\n"
     ]
    }
   ],
   "source": [
    "for guy_id in candidate_set: \n",
    "    print(sum(model['bin_index_bits'][35817] == model['bin_index_bits'][guy_id]), wiki[wiki['id'] == guy_id]['name'])"
   ]
  },
  {
   "cell_type": "code",
   "execution_count": 52,
   "metadata": {},
   "outputs": [
    {
     "name": "stdout",
     "output_type": "stream",
     "text": [
      "Barack Obama - Mark Zinni              : 0.980991\n",
      "Barack Obama - Serphin R. Maltese      : 0.931982\n",
      "Barack Obama - Aur%C3%A9lien Agb%C3%A9nonci: 0.965041\n",
      "Barack Obama - Steve Meyer             : 0.984704\n",
      "Barack Obama - Fabio Santus            : 0.997933\n",
      "Barack Obama - Bill Hillgrove          : 0.991289\n",
      "Barack Obama - Patty Ritchie           : 0.939616\n",
      "Barack Obama - Lisa Walker (jeweller)  : 0.993630\n",
      "Barack Obama - Bert Karlsson           : 0.981681\n",
      "Barack Obama - Fabio Maj               : 0.996333\n",
      "Barack Obama - Semra Sezer             : 0.977319\n",
      "Barack Obama - Sean Swarner            : 0.985699\n",
      "Barack Obama - Frances Olsen           : 0.929155\n",
      "Barack Obama - Mark Rowntree           : 0.980193\n",
      "Barack Obama - Robert Frimtzis         : 0.979646\n",
      "Barack Obama - Art Long                : 0.979377\n",
      "Barack Obama - Abel Maldonado          : 0.899313\n",
      "Barack Obama - Ath%C3%A9sia            : 0.994018\n",
      "Barack Obama - Andy Hilfiger           : 0.991990\n",
      "Barack Obama - Karen Salmansohn        : 0.991667\n",
      "Barack Obama - Erv Kanemoto            : 0.991068\n",
      "Barack Obama - Rick Austin (politician): 0.952849\n",
      "Barack Obama - Crispin Wright          : 0.979539\n",
      "Barack Obama - Sairusi Nagagavoka      : 0.972156\n",
      "Barack Obama - Barack Obama            : -0.000000\n",
      "Barack Obama - Danny Blue (comedian)   : 0.981539\n",
      "Barack Obama - James Marvel            : 0.994369\n",
      "Barack Obama - Miroslav Ro%C5%BEi%C4%87: 0.982105\n",
      "Barack Obama - Kimiko Ikegami          : 0.995273\n"
     ]
    }
   ],
   "source": [
    "obama_tf_idf = corpus[35817,:]\n",
    "for doc_id in candidate_set:\n",
    "    doc_tf_idf = corpus[doc_id,:]\n",
    "    print('Barack Obama - {0:24s}: {1:f}'.format(wiki[doc_id]['name'],\n",
    "                                                 cosine_distance(obama_tf_idf, doc_tf_idf)))"
   ]
  },
  {
   "cell_type": "markdown",
   "metadata": {},
   "source": [
    "**Note**. Don't be surprised if few of the candidates look similar to Obama. This is why we add as many candidates as our computational budget allows and sort them by their distance to the query."
   ]
  },
  {
   "cell_type": "markdown",
   "metadata": {},
   "source": [
    "Now we have a function that can return all the candidates from neighboring bins. Next we write a function to collect all candidates and compute their true distance to the query."
   ]
  },
  {
   "cell_type": "code",
   "execution_count": 53,
   "metadata": {
    "scrolled": true
   },
   "outputs": [],
   "source": [
    "def query(vec, model, k, max_search_radius):\n",
    "  \n",
    "    data = model['data']\n",
    "    table = model['table']\n",
    "    random_vectors = model['random_vectors']\n",
    "    num_vector = random_vectors.shape[1]\n",
    "    \n",
    "    \n",
    "    # Compute bin index for the query vector, in bit representation.\n",
    "    bin_index_bits = (vec.dot(random_vectors) >= 0).flatten()\n",
    "    \n",
    "    # Search nearby bins and collect candidates\n",
    "    candidate_set = set()\n",
    "    for search_radius in range(max_search_radius+1):\n",
    "        candidate_set = search_nearby_bins(bin_index_bits, table, search_radius, initial_candidates=candidate_set)\n",
    "    \n",
    "    # Sort candidates by their true distances from the query\n",
    "    nearest_neighbors = graphlab.SFrame({'id':candidate_set})\n",
    "    candidates = data[np.array(list(candidate_set)),:]\n",
    "    nearest_neighbors['distance'] = pairwise_distances(candidates, vec, metric='cosine').flatten()\n",
    "    \n",
    "    return nearest_neighbors.topk('distance', k, reverse=True), len(candidate_set)"
   ]
  },
  {
   "cell_type": "markdown",
   "metadata": {},
   "source": [
    "Let's try it out with Obama:"
   ]
  },
  {
   "cell_type": "code",
   "execution_count": 54,
   "metadata": {},
   "outputs": [
    {
     "data": {
      "text/plain": [
       "(Columns:\n",
       " \tid\tint\n",
       " \tdistance\tfloat\n",
       " \n",
       " Rows: 10\n",
       " \n",
       " Data:\n",
       " +-------+------------------------+\n",
       " |   id  |        distance        |\n",
       " +-------+------------------------+\n",
       " | 35817 | 1.1102230246251565e-16 |\n",
       " | 18827 |   0.7983226028934732   |\n",
       " | 23737 |   0.8101646334648858   |\n",
       " |  4599 |   0.881365648564669    |\n",
       " | 38081 |   0.8856110960178687   |\n",
       " | 47349 |   0.8916852392766247   |\n",
       " |  6857 |   0.8926928926163461   |\n",
       " | 36682 |   0.8993129570103936   |\n",
       " | 17534 |   0.9113552423969616   |\n",
       " | 36681 |   0.9132436593943787   |\n",
       " +-------+------------------------+\n",
       " [10 rows x 2 columns], 867)"
      ]
     },
     "execution_count": 54,
     "metadata": {},
     "output_type": "execute_result"
    }
   ],
   "source": [
    "query(corpus[35817,:], model, k=10, max_search_radius=3)"
   ]
  },
  {
   "cell_type": "markdown",
   "metadata": {},
   "source": [
    "To identify the documents, it's helpful to join this table with the Wikipedia table:"
   ]
  },
  {
   "cell_type": "code",
   "execution_count": 55,
   "metadata": {},
   "outputs": [
    {
     "data": {
      "text/html": [
       "<div style=\"max-height:1000px;max-width:1500px;overflow:auto;\"><table frame=\"box\" rules=\"cols\">\n",
       "    <tr>\n",
       "        <th style=\"padding-left: 1em; padding-right: 1em; text-align: center\">id</th>\n",
       "        <th style=\"padding-left: 1em; padding-right: 1em; text-align: center\">distance</th>\n",
       "        <th style=\"padding-left: 1em; padding-right: 1em; text-align: center\">name</th>\n",
       "    </tr>\n",
       "    <tr>\n",
       "        <td style=\"padding-left: 1em; padding-right: 1em; text-align: center; vertical-align: top\">35817</td>\n",
       "        <td style=\"padding-left: 1em; padding-right: 1em; text-align: center; vertical-align: top\">1.1102230246251565e-16</td>\n",
       "        <td style=\"padding-left: 1em; padding-right: 1em; text-align: center; vertical-align: top\">Barack Obama</td>\n",
       "    </tr>\n",
       "    <tr>\n",
       "        <td style=\"padding-left: 1em; padding-right: 1em; text-align: center; vertical-align: top\">18827</td>\n",
       "        <td style=\"padding-left: 1em; padding-right: 1em; text-align: center; vertical-align: top\">0.7983226028934732</td>\n",
       "        <td style=\"padding-left: 1em; padding-right: 1em; text-align: center; vertical-align: top\">Henry Waxman</td>\n",
       "    </tr>\n",
       "    <tr>\n",
       "        <td style=\"padding-left: 1em; padding-right: 1em; text-align: center; vertical-align: top\">23737</td>\n",
       "        <td style=\"padding-left: 1em; padding-right: 1em; text-align: center; vertical-align: top\">0.8101646334648858</td>\n",
       "        <td style=\"padding-left: 1em; padding-right: 1em; text-align: center; vertical-align: top\">John D. McCormick</td>\n",
       "    </tr>\n",
       "    <tr>\n",
       "        <td style=\"padding-left: 1em; padding-right: 1em; text-align: center; vertical-align: top\">4599</td>\n",
       "        <td style=\"padding-left: 1em; padding-right: 1em; text-align: center; vertical-align: top\">0.881365648564669</td>\n",
       "        <td style=\"padding-left: 1em; padding-right: 1em; text-align: center; vertical-align: top\">Ernesto Scorsone</td>\n",
       "    </tr>\n",
       "    <tr>\n",
       "        <td style=\"padding-left: 1em; padding-right: 1em; text-align: center; vertical-align: top\">38081</td>\n",
       "        <td style=\"padding-left: 1em; padding-right: 1em; text-align: center; vertical-align: top\">0.8856110960178687</td>\n",
       "        <td style=\"padding-left: 1em; padding-right: 1em; text-align: center; vertical-align: top\">John Garamendi</td>\n",
       "    </tr>\n",
       "    <tr>\n",
       "        <td style=\"padding-left: 1em; padding-right: 1em; text-align: center; vertical-align: top\">47349</td>\n",
       "        <td style=\"padding-left: 1em; padding-right: 1em; text-align: center; vertical-align: top\">0.8916852392766247</td>\n",
       "        <td style=\"padding-left: 1em; padding-right: 1em; text-align: center; vertical-align: top\">Jack Davis<br>(industrialist) ...</td>\n",
       "    </tr>\n",
       "    <tr>\n",
       "        <td style=\"padding-left: 1em; padding-right: 1em; text-align: center; vertical-align: top\">6857</td>\n",
       "        <td style=\"padding-left: 1em; padding-right: 1em; text-align: center; vertical-align: top\">0.8926928926163461</td>\n",
       "        <td style=\"padding-left: 1em; padding-right: 1em; text-align: center; vertical-align: top\">Glen Rangwala</td>\n",
       "    </tr>\n",
       "    <tr>\n",
       "        <td style=\"padding-left: 1em; padding-right: 1em; text-align: center; vertical-align: top\">36682</td>\n",
       "        <td style=\"padding-left: 1em; padding-right: 1em; text-align: center; vertical-align: top\">0.8993129570103936</td>\n",
       "        <td style=\"padding-left: 1em; padding-right: 1em; text-align: center; vertical-align: top\">Abel Maldonado</td>\n",
       "    </tr>\n",
       "    <tr>\n",
       "        <td style=\"padding-left: 1em; padding-right: 1em; text-align: center; vertical-align: top\">17534</td>\n",
       "        <td style=\"padding-left: 1em; padding-right: 1em; text-align: center; vertical-align: top\">0.9113552423969616</td>\n",
       "        <td style=\"padding-left: 1em; padding-right: 1em; text-align: center; vertical-align: top\">Clayton Spencer</td>\n",
       "    </tr>\n",
       "    <tr>\n",
       "        <td style=\"padding-left: 1em; padding-right: 1em; text-align: center; vertical-align: top\">36681</td>\n",
       "        <td style=\"padding-left: 1em; padding-right: 1em; text-align: center; vertical-align: top\">0.9132436593943787</td>\n",
       "        <td style=\"padding-left: 1em; padding-right: 1em; text-align: center; vertical-align: top\">Ralph Abraham<br>(politician) ...</td>\n",
       "    </tr>\n",
       "</table>\n",
       "[10 rows x 3 columns]<br/>\n",
       "</div>"
      ],
      "text/plain": [
       "Columns:\n",
       "\tid\tint\n",
       "\tdistance\tfloat\n",
       "\tname\tstr\n",
       "\n",
       "Rows: 10\n",
       "\n",
       "Data:\n",
       "+-------+------------------------+----------------------------+\n",
       "|   id  |        distance        |            name            |\n",
       "+-------+------------------------+----------------------------+\n",
       "| 35817 | 1.1102230246251565e-16 |        Barack Obama        |\n",
       "| 18827 |   0.7983226028934732   |        Henry Waxman        |\n",
       "| 23737 |   0.8101646334648858   |     John D. McCormick      |\n",
       "|  4599 |   0.881365648564669    |      Ernesto Scorsone      |\n",
       "| 38081 |   0.8856110960178687   |       John Garamendi       |\n",
       "| 47349 |   0.8916852392766247   | Jack Davis (industrialist) |\n",
       "|  6857 |   0.8926928926163461   |       Glen Rangwala        |\n",
       "| 36682 |   0.8993129570103936   |       Abel Maldonado       |\n",
       "| 17534 |   0.9113552423969616   |      Clayton Spencer       |\n",
       "| 36681 |   0.9132436593943787   | Ralph Abraham (politician) |\n",
       "+-------+------------------------+----------------------------+\n",
       "[10 rows x 3 columns]"
      ]
     },
     "execution_count": 55,
     "metadata": {},
     "output_type": "execute_result"
    }
   ],
   "source": [
    "query(corpus[35817,:], model, k=10, max_search_radius=3)[0].join(wiki[['id', 'name']], on='id').sort('distance')"
   ]
  },
  {
   "cell_type": "markdown",
   "metadata": {},
   "source": [
    "We have shown that we have a working LSH implementation!"
   ]
  },
  {
   "cell_type": "markdown",
   "metadata": {},
   "source": [
    "# Experimenting with your LSH implementation"
   ]
  },
  {
   "cell_type": "markdown",
   "metadata": {},
   "source": [
    "In the following sections we have implemented a few experiments so that you can gain intuition for how your LSH implementation behaves in different situations. This will help you understand the effect of searching nearby bins and the performance of LSH versus computing nearest neighbors using a brute force search."
   ]
  },
  {
   "cell_type": "markdown",
   "metadata": {},
   "source": [
    "## Effect of nearby bin search"
   ]
  },
  {
   "cell_type": "markdown",
   "metadata": {},
   "source": [
    "How does nearby bin search affect the outcome of LSH? There are three variables that are affected by the search radius:\n",
    "* Number of candidate documents considered\n",
    "* Query time\n",
    "* Distance of approximate neighbors from the query"
   ]
  },
  {
   "cell_type": "markdown",
   "metadata": {},
   "source": [
    "Let us run LSH multiple times, each with different radii for nearby bin search. We will measure the three variables as discussed above."
   ]
  },
  {
   "cell_type": "code",
   "execution_count": 56,
   "metadata": {},
   "outputs": [
    {
     "data": {
      "text/html": [
       "<div style=\"max-height:1000px;max-width:1500px;overflow:auto;\"><table frame=\"box\" rules=\"cols\">\n",
       "    <tr>\n",
       "        <th style=\"padding-left: 1em; padding-right: 1em; text-align: center\">id</th>\n",
       "        <th style=\"padding-left: 1em; padding-right: 1em; text-align: center\">URI</th>\n",
       "        <th style=\"padding-left: 1em; padding-right: 1em; text-align: center\">name</th>\n",
       "        <th style=\"padding-left: 1em; padding-right: 1em; text-align: center\">text</th>\n",
       "        <th style=\"padding-left: 1em; padding-right: 1em; text-align: center\">tf_idf</th>\n",
       "    </tr>\n",
       "    <tr>\n",
       "        <td style=\"padding-left: 1em; padding-right: 1em; text-align: center; vertical-align: top\">35817</td>\n",
       "        <td style=\"padding-left: 1em; padding-right: 1em; text-align: center; vertical-align: top\">&lt;http://dbpedia.org/resou<br>rce/Barack_Obama&gt; ...</td>\n",
       "        <td style=\"padding-left: 1em; padding-right: 1em; text-align: center; vertical-align: top\">Barack Obama</td>\n",
       "        <td style=\"padding-left: 1em; padding-right: 1em; text-align: center; vertical-align: top\">barack hussein obama ii<br>brk husen bm born august ...</td>\n",
       "        <td style=\"padding-left: 1em; padding-right: 1em; text-align: center; vertical-align: top\">{&#x27;cuba&#x27;:<br>5.005081177970713, ...</td>\n",
       "    </tr>\n",
       "</table>\n",
       "[? rows x 5 columns]<br/>Note: Only the head of the SFrame is printed. This SFrame is lazily evaluated.<br/>You can use sf.materialize() to force materialization.\n",
       "</div>"
      ],
      "text/plain": [
       "Columns:\n",
       "\tid\tint\n",
       "\tURI\tstr\n",
       "\tname\tstr\n",
       "\ttext\tstr\n",
       "\ttf_idf\tdict\n",
       "\n",
       "Rows: Unknown\n",
       "\n",
       "Data:\n",
       "+-------+-------------------------------+--------------+\n",
       "|   id  |              URI              |     name     |\n",
       "+-------+-------------------------------+--------------+\n",
       "| 35817 | <http://dbpedia.org/resour... | Barack Obama |\n",
       "+-------+-------------------------------+--------------+\n",
       "+-------------------------------+-------------------------------+\n",
       "|              text             |             tf_idf            |\n",
       "+-------------------------------+-------------------------------+\n",
       "| barack hussein obama ii br... | {'cuba': 5.005081177970713... |\n",
       "+-------------------------------+-------------------------------+\n",
       "[? rows x 5 columns]\n",
       "Note: Only the head of the SFrame is printed. This SFrame is lazily evaluated.\n",
       "You can use sf.materialize() to force materialization."
      ]
     },
     "execution_count": 56,
     "metadata": {},
     "output_type": "execute_result"
    }
   ],
   "source": [
    "wiki[wiki['name']=='Barack Obama']"
   ]
  },
  {
   "cell_type": "code",
   "execution_count": 57,
   "metadata": {
    "scrolled": true
   },
   "outputs": [
    {
     "name": "stdout",
     "output_type": "stream",
     "text": [
      "Radius: 0\n",
      "+-------+------------------------+--------------------------+\n",
      "|   id  |        distance        |           name           |\n",
      "+-------+------------------------+--------------------------+\n",
      "| 35817 | 1.1102230246251565e-16 |       Barack Obama       |\n",
      "| 12257 |   0.9528487605830498   | Rick Austin (politician) |\n",
      "| 19320 |   0.9943685056772573   |       James Marvel       |\n",
      "+-------+------------------------+--------------------------+\n",
      "[3 rows x 3 columns]\n",
      "\n",
      "Radius: 1\n",
      "+-------+------------------------+------------------------------+\n",
      "|   id  |        distance        |             name             |\n",
      "+-------+------------------------+------------------------------+\n",
      "| 35817 | 1.1102230246251565e-16 |         Barack Obama         |\n",
      "| 36682 |   0.8993129570103936   |        Abel Maldonado        |\n",
      "| 54693 |   0.9291554035490899   |        Frances Olsen         |\n",
      "| 55811 |   0.9319821808369629   |      Serphin R. Maltese      |\n",
      "|  5133 |   0.9396155027132692   |        Patty Ritchie         |\n",
      "| 12257 |   0.9528487605830498   |   Rick Austin (politician)   |\n",
      "| 25732 |   0.9650414702667682   | Aur%C3%A9lien Agb%C3%A9nonci |\n",
      "| 11367 |   0.9721559145436098   |      Sairusi Nagagavoka      |\n",
      "| 30622 |   0.9773190296203413   |         Semra Sezer          |\n",
      "| 22345 |   0.9793767756553159   |           Art Long           |\n",
      "+-------+------------------------+------------------------------+\n",
      "[10 rows x 3 columns]\n",
      "\n",
      "Radius: 2\n",
      "+-------+------------------------+----------------------------+\n",
      "|   id  |        distance        |            name            |\n",
      "+-------+------------------------+----------------------------+\n",
      "| 35817 | 1.1102230246251565e-16 |        Barack Obama        |\n",
      "| 23737 |   0.8101646334648858   |     John D. McCormick      |\n",
      "| 38081 |   0.8856110960178687   |       John Garamendi       |\n",
      "| 36682 |   0.8993129570103936   |       Abel Maldonado       |\n",
      "| 36681 |   0.9132436593943787   | Ralph Abraham (politician) |\n",
      "| 11914 |   0.924659906714763    |        Leonard Wong        |\n",
      "| 54693 |   0.9291554035490899   |       Frances Olsen        |\n",
      "| 55811 |   0.9319821808369629   |     Serphin R. Maltese     |\n",
      "| 57949 |   0.9331732868040976   |         Jim Morin          |\n",
      "|  5133 |   0.9396155027132692   |       Patty Ritchie        |\n",
      "+-------+------------------------+----------------------------+\n",
      "[10 rows x 3 columns]\n",
      "\n",
      "Radius: 3\n",
      "+-------+------------------------+----------------------------+\n",
      "|   id  |        distance        |            name            |\n",
      "+-------+------------------------+----------------------------+\n",
      "| 35817 | 1.1102230246251565e-16 |        Barack Obama        |\n",
      "| 18827 |   0.7983226028934732   |        Henry Waxman        |\n",
      "| 23737 |   0.8101646334648858   |     John D. McCormick      |\n",
      "|  4599 |   0.881365648564669    |      Ernesto Scorsone      |\n",
      "| 38081 |   0.8856110960178687   |       John Garamendi       |\n",
      "| 47349 |   0.8916852392766247   | Jack Davis (industrialist) |\n",
      "|  6857 |   0.8926928926163461   |       Glen Rangwala        |\n",
      "| 36682 |   0.8993129570103936   |       Abel Maldonado       |\n",
      "| 17534 |   0.9113552423969616   |      Clayton Spencer       |\n",
      "| 36681 |   0.9132436593943787   | Ralph Abraham (politician) |\n",
      "+-------+------------------------+----------------------------+\n",
      "[10 rows x 3 columns]\n",
      "\n",
      "Radius: 4\n",
      "+-------+------------------------+----------------------+\n",
      "|   id  |        distance        |         name         |\n",
      "+-------+------------------------+----------------------+\n",
      "| 35817 | 1.1102230246251565e-16 |     Barack Obama     |\n",
      "| 38376 |   0.7429819023278821   |    Samantha Power    |\n",
      "| 18827 |   0.7983226028934732   |     Henry Waxman     |\n",
      "|  2412 |   0.7994663600419519   |   Joe the Plumber    |\n",
      "| 23737 |   0.8101646334648858   |  John D. McCormick   |\n",
      "| 36425 |   0.8292821798598924   | Edward B. Montgomery |\n",
      "| 11723 |   0.8575705532526825   |     Howard Dean      |\n",
      "|  4874 |   0.8618712445885219   |    Bernard Kenny     |\n",
      "| 17184 |   0.8660731997178763   |    Marty Lederman    |\n",
      "| 28267 |   0.8760002965754088   |   Michael C. Dorf    |\n",
      "+-------+------------------------+----------------------+\n",
      "[10 rows x 3 columns]\n",
      "\n",
      "Radius: 5\n",
      "+-------+------------------------+----------------------+\n",
      "|   id  |        distance        |         name         |\n",
      "+-------+------------------------+----------------------+\n",
      "| 35817 | 1.1102230246251565e-16 |     Barack Obama     |\n",
      "| 38376 |   0.7429819023278821   |    Samantha Power    |\n",
      "| 46140 |    0.78467750475065    |     Robert Gibbs     |\n",
      "|  6796 |   0.7880390729434775   |     Eric Holder      |\n",
      "| 18827 |   0.7983226028934732   |     Henry Waxman     |\n",
      "|  2412 |   0.7994663600419519   |   Joe the Plumber    |\n",
      "| 23737 |   0.8101646334648858   |  John D. McCormick   |\n",
      "|  7914 |   0.8147070901465693   |    Phil Schiliro     |\n",
      "| 14754 |   0.8268540258967271   |     Mitt Romney      |\n",
      "| 36425 |   0.8292821798598924   | Edward B. Montgomery |\n",
      "+-------+------------------------+----------------------+\n",
      "[10 rows x 3 columns]\n",
      "\n",
      "Radius: 6\n",
      "+-------+------------------------+------------------------+\n",
      "|   id  |        distance        |          name          |\n",
      "+-------+------------------------+------------------------+\n",
      "| 35817 | 1.1102230246251565e-16 |      Barack Obama      |\n",
      "| 38376 |   0.7429819023278821   |     Samantha Power     |\n",
      "| 57108 |   0.7583583978869675   | Hillary Rodham Clinton |\n",
      "| 46140 |    0.78467750475065    |      Robert Gibbs      |\n",
      "|  6796 |   0.7880390729434775   |      Eric Holder       |\n",
      "| 18827 |   0.7983226028934732   |      Henry Waxman      |\n",
      "|  2412 |   0.7994663600419519   |    Joe the Plumber     |\n",
      "| 46811 |   0.8001973841037672   |     Jeff Sessions      |\n",
      "| 39357 |   0.8090507762382222   |      John McCain       |\n",
      "| 48693 |   0.8091922122931379   |      Artur Davis       |\n",
      "+-------+------------------------+------------------------+\n",
      "[10 rows x 3 columns]\n",
      "\n",
      "Radius: 7\n",
      "+-------+------------------------+-------------------------+\n",
      "|   id  |        distance        |           name          |\n",
      "+-------+------------------------+-------------------------+\n",
      "| 35817 | 1.1102230246251565e-16 |       Barack Obama      |\n",
      "| 38376 |   0.7429819023278821   |      Samantha Power     |\n",
      "| 57108 |   0.7583583978869675   |  Hillary Rodham Clinton |\n",
      "| 38714 |   0.7705612276009974   | Eric Stern (politician) |\n",
      "| 46140 |    0.78467750475065    |       Robert Gibbs      |\n",
      "|  6796 |   0.7880390729434775   |       Eric Holder       |\n",
      "| 18827 |   0.7983226028934732   |       Henry Waxman      |\n",
      "|  2412 |   0.7994663600419519   |     Joe the Plumber     |\n",
      "| 46811 |   0.8001973841037672   |      Jeff Sessions      |\n",
      "| 39357 |   0.8090507762382222   |       John McCain       |\n",
      "+-------+------------------------+-------------------------+\n",
      "[10 rows x 3 columns]\n",
      "\n",
      "Radius: 8\n",
      "+-------+------------------------+-------------------------+\n",
      "|   id  |        distance        |           name          |\n",
      "+-------+------------------------+-------------------------+\n",
      "| 35817 | 1.1102230246251565e-16 |       Barack Obama      |\n",
      "| 38376 |   0.7429819023278821   |      Samantha Power     |\n",
      "| 57108 |   0.7583583978869675   |  Hillary Rodham Clinton |\n",
      "| 38714 |   0.7705612276009974   | Eric Stern (politician) |\n",
      "| 46140 |    0.78467750475065    |       Robert Gibbs      |\n",
      "|  6796 |   0.7880390729434775   |       Eric Holder       |\n",
      "| 18827 |   0.7983226028934732   |       Henry Waxman      |\n",
      "|  2412 |   0.7994663600419519   |     Joe the Plumber     |\n",
      "| 46811 |   0.8001973841037672   |      Jeff Sessions      |\n",
      "| 39357 |   0.8090507762382222   |       John McCain       |\n",
      "+-------+------------------------+-------------------------+\n",
      "[10 rows x 3 columns]\n",
      "\n",
      "Radius: 9\n",
      "+-------+------------------------+-------------------------+\n",
      "|   id  |        distance        |           name          |\n",
      "+-------+------------------------+-------------------------+\n",
      "| 35817 | 1.1102230246251565e-16 |       Barack Obama      |\n",
      "| 24478 |   0.7031386767335749   |        Joe Biden        |\n",
      "| 38376 |   0.7429819023278821   |      Samantha Power     |\n",
      "| 57108 |   0.7583583978869675   |  Hillary Rodham Clinton |\n",
      "| 38714 |   0.7705612276009974   | Eric Stern (politician) |\n",
      "| 46140 |    0.78467750475065    |       Robert Gibbs      |\n",
      "|  6796 |   0.7880390729434775   |       Eric Holder       |\n",
      "| 18827 |   0.7983226028934732   |       Henry Waxman      |\n",
      "|  2412 |   0.7994663600419519   |     Joe the Plumber     |\n",
      "| 46811 |   0.8001973841037672   |      Jeff Sessions      |\n",
      "+-------+------------------------+-------------------------+\n",
      "[10 rows x 3 columns]\n",
      "\n"
     ]
    },
    {
     "name": "stdout",
     "output_type": "stream",
     "text": [
      "Radius: 10\n",
      "+-------+------------------------+-------------------------+\n",
      "|   id  |        distance        |           name          |\n",
      "+-------+------------------------+-------------------------+\n",
      "| 35817 | 1.1102230246251565e-16 |       Barack Obama      |\n",
      "| 24478 |   0.7031386767335749   |        Joe Biden        |\n",
      "| 38376 |   0.7429819023278821   |      Samantha Power     |\n",
      "| 57108 |   0.7583583978869675   |  Hillary Rodham Clinton |\n",
      "| 38714 |   0.7705612276009974   | Eric Stern (politician) |\n",
      "| 46140 |    0.78467750475065    |       Robert Gibbs      |\n",
      "|  6796 |   0.7880390729434775   |       Eric Holder       |\n",
      "| 44681 |   0.790926415366316    |  Jesse Lee (politician) |\n",
      "| 18827 |   0.7983226028934732   |       Henry Waxman      |\n",
      "|  2412 |   0.7994663600419519   |     Joe the Plumber     |\n",
      "+-------+------------------------+-------------------------+\n",
      "[10 rows x 3 columns]\n",
      "\n",
      "Radius: 11\n",
      "+-------+------------------------+-------------------------+\n",
      "|   id  |        distance        |           name          |\n",
      "+-------+------------------------+-------------------------+\n",
      "| 35817 | 1.1102230246251565e-16 |       Barack Obama      |\n",
      "| 24478 |   0.7031386767335749   |        Joe Biden        |\n",
      "| 38376 |   0.7429819023278821   |      Samantha Power     |\n",
      "| 57108 |   0.7583583978869675   |  Hillary Rodham Clinton |\n",
      "| 38714 |   0.7705612276009974   | Eric Stern (politician) |\n",
      "| 46140 |    0.78467750475065    |       Robert Gibbs      |\n",
      "|  6796 |   0.7880390729434775   |       Eric Holder       |\n",
      "| 44681 |   0.790926415366316    |  Jesse Lee (politician) |\n",
      "| 18827 |   0.7983226028934732   |       Henry Waxman      |\n",
      "|  2412 |   0.7994663600419519   |     Joe the Plumber     |\n",
      "+-------+------------------------+-------------------------+\n",
      "[10 rows x 3 columns]\n",
      "\n",
      "Radius: 12\n",
      "+-------+------------------------+-------------------------+\n",
      "|   id  |        distance        |           name          |\n",
      "+-------+------------------------+-------------------------+\n",
      "| 35817 | 1.1102230246251565e-16 |       Barack Obama      |\n",
      "| 24478 |   0.7031386767335749   |        Joe Biden        |\n",
      "| 38376 |   0.7429819023278821   |      Samantha Power     |\n",
      "| 57108 |   0.7583583978869675   |  Hillary Rodham Clinton |\n",
      "| 38714 |   0.7705612276009974   | Eric Stern (politician) |\n",
      "| 46140 |    0.78467750475065    |       Robert Gibbs      |\n",
      "|  6796 |   0.7880390729434775   |       Eric Holder       |\n",
      "| 44681 |   0.790926415366316    |  Jesse Lee (politician) |\n",
      "| 18827 |   0.7983226028934732   |       Henry Waxman      |\n",
      "|  2412 |   0.7994663600419519   |     Joe the Plumber     |\n",
      "+-------+------------------------+-------------------------+\n",
      "[10 rows x 3 columns]\n",
      "\n",
      "Radius: 13\n",
      "+-------+------------------------+-------------------------+\n",
      "|   id  |        distance        |           name          |\n",
      "+-------+------------------------+-------------------------+\n",
      "| 35817 | 1.1102230246251565e-16 |       Barack Obama      |\n",
      "| 24478 |   0.7031386767335749   |        Joe Biden        |\n",
      "| 38376 |   0.7429819023278821   |      Samantha Power     |\n",
      "| 57108 |   0.7583583978869675   |  Hillary Rodham Clinton |\n",
      "| 38714 |   0.7705612276009974   | Eric Stern (politician) |\n",
      "| 46140 |    0.78467750475065    |       Robert Gibbs      |\n",
      "|  6796 |   0.7880390729434775   |       Eric Holder       |\n",
      "| 44681 |   0.790926415366316    |  Jesse Lee (politician) |\n",
      "| 18827 |   0.7983226028934732   |       Henry Waxman      |\n",
      "|  2412 |   0.7994663600419519   |     Joe the Plumber     |\n",
      "+-------+------------------------+-------------------------+\n",
      "[10 rows x 3 columns]\n",
      "\n",
      "Radius: 14\n",
      "+-------+------------------------+-------------------------+\n",
      "|   id  |        distance        |           name          |\n",
      "+-------+------------------------+-------------------------+\n",
      "| 35817 | 1.1102230246251565e-16 |       Barack Obama      |\n",
      "| 24478 |   0.7031386767335749   |        Joe Biden        |\n",
      "| 38376 |   0.7429819023278821   |      Samantha Power     |\n",
      "| 57108 |   0.7583583978869675   |  Hillary Rodham Clinton |\n",
      "| 38714 |   0.7705612276009974   | Eric Stern (politician) |\n",
      "| 46140 |    0.78467750475065    |       Robert Gibbs      |\n",
      "|  6796 |   0.7880390729434775   |       Eric Holder       |\n",
      "| 44681 |   0.790926415366316    |  Jesse Lee (politician) |\n",
      "| 18827 |   0.7983226028934732   |       Henry Waxman      |\n",
      "|  2412 |   0.7994663600419519   |     Joe the Plumber     |\n",
      "+-------+------------------------+-------------------------+\n",
      "[10 rows x 3 columns]\n",
      "\n",
      "Radius: 15\n",
      "+-------+------------------------+-------------------------+\n",
      "|   id  |        distance        |           name          |\n",
      "+-------+------------------------+-------------------------+\n",
      "| 35817 | 1.1102230246251565e-16 |       Barack Obama      |\n",
      "| 24478 |   0.7031386767335749   |        Joe Biden        |\n",
      "| 38376 |   0.7429819023278821   |      Samantha Power     |\n",
      "| 57108 |   0.7583583978869675   |  Hillary Rodham Clinton |\n",
      "| 38714 |   0.7705612276009974   | Eric Stern (politician) |\n",
      "| 46140 |    0.78467750475065    |       Robert Gibbs      |\n",
      "|  6796 |   0.7880390729434775   |       Eric Holder       |\n",
      "| 44681 |   0.790926415366316    |  Jesse Lee (politician) |\n",
      "| 18827 |   0.7983226028934732   |       Henry Waxman      |\n",
      "|  2412 |   0.7994663600419519   |     Joe the Plumber     |\n",
      "+-------+------------------------+-------------------------+\n",
      "[10 rows x 3 columns]\n",
      "\n",
      "Radius: 16\n",
      "+-------+------------------------+-------------------------+\n",
      "|   id  |        distance        |           name          |\n",
      "+-------+------------------------+-------------------------+\n",
      "| 35817 | 1.1102230246251565e-16 |       Barack Obama      |\n",
      "| 24478 |   0.7031386767335749   |        Joe Biden        |\n",
      "| 38376 |   0.7429819023278821   |      Samantha Power     |\n",
      "| 57108 |   0.7583583978869675   |  Hillary Rodham Clinton |\n",
      "| 38714 |   0.7705612276009974   | Eric Stern (politician) |\n",
      "| 46140 |    0.78467750475065    |       Robert Gibbs      |\n",
      "|  6796 |   0.7880390729434775   |       Eric Holder       |\n",
      "| 44681 |   0.790926415366316    |  Jesse Lee (politician) |\n",
      "| 18827 |   0.7983226028934732   |       Henry Waxman      |\n",
      "|  2412 |   0.7994663600419519   |     Joe the Plumber     |\n",
      "+-------+------------------------+-------------------------+\n",
      "[10 rows x 3 columns]\n",
      "\n"
     ]
    }
   ],
   "source": [
    "num_candidates_history = []\n",
    "query_time_history = []\n",
    "max_distance_from_query_history = []\n",
    "min_distance_from_query_history = []\n",
    "average_distance_from_query_history = []\n",
    "\n",
    "for max_search_radius in range(17):\n",
    "    start=time.time()\n",
    "    result, num_candidates = query(corpus[35817,:], model, k=10,\n",
    "                                   max_search_radius=max_search_radius)\n",
    "    end=time.time()\n",
    "    query_time = end-start\n",
    "    \n",
    "    print('Radius:', max_search_radius)\n",
    "    print(result.join(wiki[['id', 'name']], on='id').sort('distance'))\n",
    "    \n",
    "    average_distance_from_query = result['distance'][1:].mean()\n",
    "    max_distance_from_query = result['distance'][1:].max()\n",
    "    min_distance_from_query = result['distance'][1:].min()\n",
    "    \n",
    "    num_candidates_history.append(num_candidates)\n",
    "    query_time_history.append(query_time)\n",
    "    average_distance_from_query_history.append(average_distance_from_query)\n",
    "    max_distance_from_query_history.append(max_distance_from_query)\n",
    "    min_distance_from_query_history.append(min_distance_from_query)"
   ]
  },
  {
   "cell_type": "markdown",
   "metadata": {},
   "source": [
    "Notice that the top 10 query results become more relevant as the search radius grows. Let's plot the three variables:"
   ]
  },
  {
   "cell_type": "code",
   "execution_count": 58,
   "metadata": {},
   "outputs": [
    {
     "data": {
      "image/png": "[encoded data removed]",
      "text/plain": [
       "<Figure size 504x324 with 1 Axes>"
      ]
     },
     "metadata": {
      "needs_background": "light"
     },
     "output_type": "display_data"
    },
    {
     "data": {
      "image/png": "[encoded data removed]",
      "text/plain": [
       "<Figure size 504x324 with 1 Axes>"
      ]
     },
     "metadata": {
      "needs_background": "light"
     },
     "output_type": "display_data"
    },
    {
     "data": {
      "image/png": "[encoded data removed]",
      "text/plain": [
       "<Figure size 504x324 with 1 Axes>"
      ]
     },
     "metadata": {
      "needs_background": "light"
     },
     "output_type": "display_data"
    }
   ],
   "source": [
    "plt.figure(figsize=(7,4.5))\n",
    "plt.plot(num_candidates_history, linewidth=4)\n",
    "plt.xlabel('Search radius')\n",
    "plt.ylabel('# of documents searched')\n",
    "plt.rcParams.update({'font.size':16})\n",
    "plt.tight_layout()\n",
    "\n",
    "plt.figure(figsize=(7,4.5))\n",
    "plt.plot(query_time_history, linewidth=4)\n",
    "plt.xlabel('Search radius')\n",
    "plt.ylabel('Query time (seconds)')\n",
    "plt.rcParams.update({'font.size':16})\n",
    "plt.tight_layout()\n",
    "\n",
    "plt.figure(figsize=(7,4.5))\n",
    "plt.plot(average_distance_from_query_history, linewidth=4, label='Average of 10 neighbors')\n",
    "plt.plot(max_distance_from_query_history, linewidth=4, label='Farthest of 10 neighbors')\n",
    "plt.plot(min_distance_from_query_history, linewidth=4, label='Closest of 10 neighbors')\n",
    "plt.xlabel('Search radius')\n",
    "plt.ylabel('Cosine distance of neighbors')\n",
    "plt.legend(loc='best', prop={'size':15})\n",
    "plt.rcParams.update({'font.size':16})\n",
    "plt.tight_layout()"
   ]
  },
  {
   "cell_type": "markdown",
   "metadata": {},
   "source": [
    "Some observations:\n",
    "* As we increase the search radius, we find more neighbors that are a smaller distance away.\n",
    "* With increased search radius comes a greater number documents that have to be searched. Query time is higher as a consequence.\n",
    "* With sufficiently high search radius, the results of LSH begin to resemble the results of brute-force search."
   ]
  },
  {
   "cell_type": "markdown",
   "metadata": {},
   "source": [
    "**Quiz Question**. What was the smallest search radius that yielded the correct nearest neighbor, namely Joe Biden?\n",
    "\n",
    "\n",
    "**Quiz Question**. Suppose our goal was to produce 10 approximate nearest neighbors whose average distance from the query document is within 0.01 of the average for the true 10 nearest neighbors. For Barack Obama, the true 10 nearest neighbors are on average about 0.77. What was the smallest search radius for Barack Obama that produced an average distance of 0.78 or better?"
   ]
  },
  {
   "cell_type": "code",
   "execution_count": 59,
   "metadata": {},
   "outputs": [
    {
     "name": "stdout",
     "output_type": "stream",
     "text": [
      "[0.9736086331301536, 0.9496453327532001, 0.9074354029450789, 0.8759726635150666, 0.826859219191397, 0.7993883747028344, 0.7878095792755033, 0.7835172476430432, 0.7835172476430432, 0.7717492365869711, 0.7707191289494767, 0.7707191289494767, 0.7707191289494767, 0.7707191289494767, 0.7707191289494767, 0.7707191289494767, 0.7707191289494767]\n"
     ]
    }
   ],
   "source": [
    "print(average_distance_from_query_history)"
   ]
  },
  {
   "cell_type": "code",
   "execution_count": 60,
   "metadata": {},
   "outputs": [
    {
     "name": "stdout",
     "output_type": "stream",
     "text": [
      "8 0.7717492365869711\n",
      "9 0.7707191289494767\n",
      "10 0.7707191289494767\n",
      "11 0.7707191289494767\n",
      "12 0.7707191289494767\n",
      "13 0.7707191289494767\n",
      "14 0.7707191289494767\n",
      "15 0.7707191289494767\n"
     ]
    }
   ],
   "source": [
    "for i, v in enumerate(average_distance_from_query_history[1:]):\n",
    "    if v <= 0.78:\n",
    "        print(i, v)"
   ]
  },
  {
   "cell_type": "markdown",
   "metadata": {},
   "source": [
    "## Quality metrics for neighbors"
   ]
  },
  {
   "cell_type": "markdown",
   "metadata": {},
   "source": [
    "The above analysis is limited by the fact that it was run with a single query, namely Barack Obama. We should repeat the analysis for the entirety of data. Iterating over all documents would take a long time, so let us randomly choose 10 documents for our analysis.\n",
    "\n",
    "For each document, we first compute the true 25 nearest neighbors, and then run LSH multiple times. We look at two metrics:\n",
    "\n",
    "* Precision@10: How many of the 10 neighbors given by LSH are among the true 25 nearest neighbors?\n",
    "* Average cosine distance of the neighbors from the query\n",
    "\n",
    "Then we run LSH multiple times with different search radii."
   ]
  },
  {
   "cell_type": "code",
   "execution_count": 61,
   "metadata": {},
   "outputs": [],
   "source": [
    "def brute_force_query(vec, data, k):\n",
    "    num_data_points = data.shape[0]\n",
    "    \n",
    "    # Compute distances for ALL data points in training set\n",
    "    nearest_neighbors = graphlab.SFrame({'id':range(num_data_points)})\n",
    "    nearest_neighbors['distance'] = pairwise_distances(data, vec, metric='cosine').flatten()\n",
    "    \n",
    "    return nearest_neighbors.topk('distance', k, reverse=True)"
   ]
  },
  {
   "cell_type": "markdown",
   "metadata": {},
   "source": [
    "The following cell will run LSH with multiple search radii and compute the quality metrics for each run. Allow a few minutes to complete."
   ]
  },
  {
   "cell_type": "code",
   "execution_count": 62,
   "metadata": {},
   "outputs": [
    {
     "name": "stdout",
     "output_type": "stream",
     "text": [
      "0 / 10\n",
      "1 / 10\n",
      "2 / 10\n",
      "3 / 10\n",
      "4 / 10\n",
      "5 / 10\n",
      "6 / 10\n",
      "7 / 10\n",
      "8 / 10\n",
      "9 / 10\n"
     ]
    }
   ],
   "source": [
    "max_radius = 17\n",
    "precision = {i:[] for i in range(max_radius)}\n",
    "average_distance  = {i:[] for i in range(max_radius)}\n",
    "query_time  = {i:[] for i in range(max_radius)}\n",
    "\n",
    "np.random.seed(0)\n",
    "num_queries = 10\n",
    "for i, ix in enumerate(np.random.choice(corpus.shape[0], num_queries, replace=False)):\n",
    "    print('%s / %s' % (i, num_queries))\n",
    "    ground_truth = set(brute_force_query(corpus[ix,:], corpus, k=25)['id'])\n",
    "    # Get the set of 25 true nearest neighbors\n",
    "    \n",
    "    for r in range(1,max_radius):\n",
    "        start = time.time()\n",
    "        result, num_candidates = query(corpus[ix,:], model, k=10, max_search_radius=r)\n",
    "        end = time.time()\n",
    "\n",
    "        query_time[r].append(end-start)\n",
    "        # precision = (# of neighbors both in result and ground_truth)/10.0\n",
    "        precision[r].append(len(set(result['id']) & ground_truth)/10.0)\n",
    "        average_distance[r].append(result['distance'][1:].mean())"
   ]
  },
  {
   "cell_type": "code",
   "execution_count": 63,
   "metadata": {},
   "outputs": [
    {
     "data": {
      "image/png": "[encoded data removed]",
      "text/plain": [
       "<Figure size 504x324 with 1 Axes>"
      ]
     },
     "metadata": {
      "needs_background": "light"
     },
     "output_type": "display_data"
    },
    {
     "data": {
      "image/png": "[encoded data removed]",
      "text/plain": [
       "<Figure size 504x324 with 1 Axes>"
      ]
     },
     "metadata": {
      "needs_background": "light"
     },
     "output_type": "display_data"
    },
    {
     "data": {
      "image/png": "[encoded data removed]",
      "text/plain": [
       "<Figure size 504x324 with 1 Axes>"
      ]
     },
     "metadata": {
      "needs_background": "light"
     },
     "output_type": "display_data"
    }
   ],
   "source": [
    "plt.figure(figsize=(7,4.5))\n",
    "plt.plot(range(1,17), [np.mean(average_distance[i]) for i in range(1,17)], linewidth=4, label='Average over 10 neighbors')\n",
    "plt.xlabel('Search radius')\n",
    "plt.ylabel('Cosine distance')\n",
    "plt.legend(loc='best', prop={'size':15})\n",
    "plt.rcParams.update({'font.size':16})\n",
    "plt.tight_layout()\n",
    "\n",
    "plt.figure(figsize=(7,4.5))\n",
    "plt.plot(range(1,17), [np.mean(precision[i]) for i in range(1,17)], linewidth=4, label='Precison@10')\n",
    "plt.xlabel('Search radius')\n",
    "plt.ylabel('Precision')\n",
    "plt.legend(loc='best', prop={'size':15})\n",
    "plt.rcParams.update({'font.size':16})\n",
    "plt.tight_layout()\n",
    "\n",
    "plt.figure(figsize=(7,4.5))\n",
    "plt.plot(range(1,17), [np.mean(query_time[i]) for i in range(1,17)], linewidth=4, label='Query time')\n",
    "plt.xlabel('Search radius')\n",
    "plt.ylabel('Query time (seconds)')\n",
    "plt.legend(loc='best', prop={'size':15})\n",
    "plt.rcParams.update({'font.size':16})\n",
    "plt.tight_layout()"
   ]
  },
  {
   "cell_type": "markdown",
   "metadata": {},
   "source": [
    "The observations for Barack Obama generalize to the entire dataset."
   ]
  },
  {
   "cell_type": "markdown",
   "metadata": {},
   "source": [
    "## Effect of number of random vectors"
   ]
  },
  {
   "cell_type": "markdown",
   "metadata": {},
   "source": [
    "Let us now turn our focus to the remaining parameter: the number of random vectors. We run LSH with different number of random vectors, ranging from 5 to 20. We fix the search radius to 3.\n",
    "\n",
    "Allow a few minutes for the following cell to complete."
   ]
  },
  {
   "cell_type": "code",
   "execution_count": 64,
   "metadata": {},
   "outputs": [
    {
     "name": "stdout",
     "output_type": "stream",
     "text": [
      "num_vector = 5\n",
      "num_vector = 6\n",
      "num_vector = 7\n",
      "num_vector = 8\n",
      "num_vector = 9\n",
      "num_vector = 10\n",
      "num_vector = 11\n",
      "num_vector = 12\n",
      "num_vector = 13\n",
      "num_vector = 14\n",
      "num_vector = 15\n",
      "num_vector = 16\n",
      "num_vector = 17\n",
      "num_vector = 18\n",
      "num_vector = 19\n"
     ]
    }
   ],
   "source": [
    "precision = {i:[] for i in range(5,20)}\n",
    "average_distance  = {i:[] for i in range(5,20)}\n",
    "query_time = {i:[] for i in range(5,20)}\n",
    "num_candidates_history = {i:[] for i in range(5,20)}\n",
    "ground_truth = {}\n",
    "\n",
    "np.random.seed(0)\n",
    "num_queries = 10\n",
    "docs = np.random.choice(corpus.shape[0], num_queries, replace=False)\n",
    "\n",
    "for i, ix in enumerate(docs):\n",
    "    ground_truth[ix] = set(brute_force_query(corpus[ix,:], corpus, k=25)['id'])\n",
    "    # Get the set of 25 true nearest neighbors\n",
    "\n",
    "for num_vector in range(5,20):\n",
    "    print('num_vector = %s' % (num_vector))\n",
    "    model = train_lsh(corpus, num_vector, seed=143)\n",
    "    \n",
    "    for i, ix in enumerate(docs):\n",
    "        start = time.time()\n",
    "        result, num_candidates = query(corpus[ix,:], model, k=10, max_search_radius=3)\n",
    "        end = time.time()\n",
    "        \n",
    "        query_time[num_vector].append(end-start)\n",
    "        precision[num_vector].append(len(set(result['id']) & ground_truth[ix])/10.0)\n",
    "        average_distance[num_vector].append(result['distance'][1:].mean())\n",
    "        num_candidates_history[num_vector].append(num_candidates)"
   ]
  },
  {
   "cell_type": "code",
   "execution_count": 65,
   "metadata": {},
   "outputs": [
    {
     "data": {
      "image/png": "[encoded data removed]",
      "text/plain": [
       "<Figure size 504x324 with 1 Axes>"
      ]
     },
     "metadata": {
      "needs_background": "light"
     },
     "output_type": "display_data"
    },
    {
     "data": {
      "image/png": "[encoded data removed]",
      "text/plain": [
       "<Figure size 504x324 with 1 Axes>"
      ]
     },
     "metadata": {
      "needs_background": "light"
     },
     "output_type": "display_data"
    },
    {
     "data": {
      "image/png": "[encoded data removed]",
      "text/plain": [
       "<Figure size 504x324 with 1 Axes>"
      ]
     },
     "metadata": {
      "needs_background": "light"
     },
     "output_type": "display_data"
    },
    {
     "data": {
      "image/png": "[encoded data removed]",
      "text/plain": [
       "<Figure size 504x324 with 1 Axes>"
      ]
     },
     "metadata": {
      "needs_background": "light"
     },
     "output_type": "display_data"
    }
   ],
   "source": [
    "plt.figure(figsize=(7,4.5))\n",
    "plt.plot(range(5,20), [np.mean(average_distance[i]) for i in range(5,20)], linewidth=4, label='Average over 10 neighbors')\n",
    "plt.xlabel('# of random vectors')\n",
    "plt.ylabel('Cosine distance')\n",
    "plt.legend(loc='best', prop={'size':15})\n",
    "plt.rcParams.update({'font.size':16})\n",
    "plt.tight_layout()\n",
    "\n",
    "plt.figure(figsize=(7,4.5))\n",
    "plt.plot(range(5,20), [np.mean(precision[i]) for i in range(5,20)], linewidth=4, label='Precison@10')\n",
    "plt.xlabel('# of random vectors')\n",
    "plt.ylabel('Precision')\n",
    "plt.legend(loc='best', prop={'size':15})\n",
    "plt.rcParams.update({'font.size':16})\n",
    "plt.tight_layout()\n",
    "\n",
    "plt.figure(figsize=(7,4.5))\n",
    "plt.plot(range(5,20), [np.mean(query_time[i]) for i in range(5,20)], linewidth=4, label='Query time (seconds)')\n",
    "plt.xlabel('# of random vectors')\n",
    "plt.ylabel('Query time (seconds)')\n",
    "plt.legend(loc='best', prop={'size':15})\n",
    "plt.rcParams.update({'font.size':16})\n",
    "plt.tight_layout()\n",
    "\n",
    "plt.figure(figsize=(7,4.5))\n",
    "plt.plot(range(5,20), [np.mean(num_candidates_history[i]) for i in range(5,20)], linewidth=4,\n",
    "         label='# of documents searched')\n",
    "plt.xlabel('# of random vectors')\n",
    "plt.ylabel('# of documents searched')\n",
    "plt.legend(loc='best', prop={'size':15})\n",
    "plt.rcParams.update({'font.size':16})\n",
    "plt.tight_layout()"
   ]
  },
  {
   "cell_type": "markdown",
   "metadata": {},
   "source": [
    "We see a similar trade-off between quality and performance: as the number of random vectors increases, the query time goes down as each bin contains fewer documents on average, but on average the neighbors are likewise placed farther from the query. On the other hand, when using a small enough number of random vectors, LSH becomes very similar brute-force search: Many documents appear in a single bin, so searching the query bin alone covers a lot of the corpus; then, including neighboring bins might result in searching all documents, just as in the brute-force approach."
   ]
  }
 ],
 "metadata": {
  "kernelspec": {
   "display_name": "exp-python3",
   "language": "python",
   "name": "exp-python3"
  },
  "language_info": {
   "codemirror_mode": {
    "name": "ipython",
    "version": 3
   },
   "file_extension": ".py",
   "mimetype": "text/x-python",
   "name": "python",
   "nbconvert_exporter": "python",
   "pygments_lexer": "ipython3",
   "version": "3.6.0"
  }
 },
 "nbformat": 4,
 "nbformat_minor": 1
}
